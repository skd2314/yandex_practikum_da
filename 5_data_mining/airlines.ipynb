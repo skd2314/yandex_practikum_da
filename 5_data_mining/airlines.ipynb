{
 "cells": [
  {
   "cell_type": "markdown",
   "metadata": {},
   "source": [
    "[Описание проекта](#0)\n",
    "\n",
    "[1 Импортируем библиотеки и файлы](#1)\n",
    "- [1.1 Изучение данных](#1.1)\n",
    "- [1.2 Вывод](#1.2)\n",
    "\n",
    "[2 Анализ данных](#2)\n",
    "- [2.1 Определим топ-10 городов по количеству рейсов](#2.1)\n",
    "- [2.2 График распределения количества рейсов по моделям самолетов](#2.2)\n",
    "- [2.3 График распределения количества рейсов по городам](#2.3)\n",
    "- [2.4 График распределения количества рейсов по топ-10 городам ](#2.4)\n",
    "- [2.5 Города по категориям в зависимости от количества рейсов](#2.5)\n",
    "\n",
    "[3 Общий вывод](#3)"
   ]
  },
  {
   "cell_type": "markdown",
   "metadata": {},
   "source": [
    "# Аналитика в авиакомпании\n",
    "\n",
    "<a name=\"0\"></a>\n",
    "## Описание проекта\n",
    "Вы аналитик российской авиакомпании F9, которая выполняет внутренние пассажирские перевозки. Для развития компании важно понять предпочтения пользователей, покупающих билеты на разные направления.\n",
    "Вам предстоит изучить базу данных и проанализировать спрос пассажиров на рейсы в города, где проходят крупнейшие фестивали.\n",
    "\n",
    "\n",
    "## Описание данных\n",
    "\n",
    "База данных об авиаперевозках состоит из нескольких таблиц:\n",
    "Таблица _airports_ — информация об аэропортах:\n",
    "_airport_code_ — трёхбуквенный код аэропорта,\n",
    "_airport_name_ — название аэропорта,\n",
    "_city_ — город,\n",
    "_timezone_ — часовой пояс.\n",
    "\n",
    "Таблица _aircrafts_ — информация о самолётах:\n",
    "_aircraft_code_ — код модели самолёта,\n",
    "_model_ — модель самолёта,\n",
    "_range_ — дальность полётов.\n",
    "\n",
    "Таблица _tickets_ — информация о билетах:\n",
    "_ticket_no_ — уникальный номер билета,\n",
    "_passenger_id_ — уникальный идентификатор пассажира,\n",
    "_passenger_name_ — имя и фамилия пассажира.\n",
    "\n",
    "Таблица _flights_ — информация о рейсах:\n",
    "_flight_id_ — уникальный идентификатор рейса,\n",
    "_departure_airport_ — аэропорт вылета,\n",
    "_departure_time_ — дата и время вылета,\n",
    "_arrival_airport_ — аэропорт прилёта,\n",
    "_arrival_time_ — дата и время прилёта,\n",
    "_aircraft_code_ — уникальный идентификатор самолёта.\n",
    "\n",
    "Таблица _ticket_flights_ — стыковая таблица «рейсы-билеты»:\n",
    "_ticket_no_ — номер билета,\n",
    "_flight_id_ — уникальный идентификатор рейса.\n",
    "\n",
    "Таблица _festivals_ — информация о фестивалях:\n",
    "_festival_id_ — уникальный номер фестиваля,\n",
    "_festival_date_ — дата проведения фестиваля,\n",
    "_festival_city_ — город проведения фестиваля,\n",
    "_festival_name_ — название фестиваля.\n",
    "\n",
    "## Схема таблиц\n",
    "\n",
    "![F9](https://pictures.s3.yandex.net/resources/photo_2019-11-08_14-08-31_1573733426.jpg \"рейсы авиакомпании F9\")​\n",
    "\n",
    "\n",
    "*Примечание* В базе данных нет прямой связи между таблицами _airports_ и _festivals_, а также _festivals_ и _flights_. Первые две таблицы вы можете связать оператором _JOIN_ по городу проведения фестиваля _festival_city_ и городу с аэропортом _city_. Связать _festivals_ и _flights_ в запросах с _JOIN_ можно по дате проведения фестиваля _festival_date_, предварительно преобразовав даты в таблице _flights_.\n",
    "\n",
    "\n",
    "## Инструкция по выполнению проекта\n",
    "\n",
    "Проект состоит из двух частей: тренажёр и Jupyter Notebook для отправки на проверку. Шаги 1, 2 и 3 выполните в тренажёре, а шаг 4 — в Jupyter Notebook.\n",
    "\n",
    "### Шаг 1. Напишите парсер для сбора с сайта данных о 11 крупнейших фестивалях 2018 года\n",
    "\n",
    "Ссылка на сайт: https://code.s3.yandex.net/learning-materials/data-analyst/festival_news/index.html\n",
    "\n",
    "### Шаг 2. Исследовательский анализ данных\n",
    "\n",
    "* Найдите количество рейсов с вылетом в сентябре 2018 года на каждой модели самолёта. Назовите получившееся поле _flights_amount_ и выведите его, также выведите поле _model_.\n",
    "* Посчитайте количество рейсов по всем моделям самолетов Boeing и Airbus в сентябре. Назовите получившуюся переменную _flights_amount_ и выведите ее.\n",
    "* Посчитайте среднее количество прибывающих рейсов в день для каждого города за август 2018 года. Назовите получившееся поле _average_flights_ , вместе с ней выведите столбец _city_.\n",
    "\n",
    "### Шаг 3. Подготовьте данные о количестве рейсов во время фестивалей\n",
    "\n",
    "* Установите фестивали, которые проходили с 23 июля по 30 сентября 2018 года в Москве, и номер недели, в которую они проходили. Выведите название фестиваля _festival_name_ и номер недели _festival_week_.\n",
    "* Для каждой недели с 23 июля по 30 сентября 2018 года посчитайте количество билетов, купленных на рейсы в Москву (номер недели _week_number_ и количество рейсов _flights_amount_). Получите таблицу, в которой будет информация о количестве купленных за неделю билетов, отметка, проходил ли в эту неделю фестиваль, название фестиваля _festival_name_ и номер недели _week_number_.\n",
    "\n",
    "### Шаг 4. Аналитика средствами Python\n",
    "\n",
    "У вас есть файлы, в которых содержатся результаты запросов из предыдущих заданий.\n",
    "\n",
    "*/datasets/query_1.csv*  — результат первого запроса. В нём содержится информация:\n",
    "\n",
    "* _model_ — о модели самолета,\n",
    "* _flights_amount_ — количество рейсов для каждой модели самолетов _model_ в сентябре 2018 года.\n",
    "\n",
    "*/datasets/query_3.csv* — результат третьего запроса. В нём содержится информация:\n",
    "\n",
    "* _city_ — о городах,\n",
    "* _average_flights_ — о среднем количестве рейсов, прибывающих в город _city_ за день в августе 2018 года.\n",
    "Для этих двух наборов данных нужно:\n",
    "* импортировать файлы;\n",
    "* изучить данные в них;\n",
    "* проверить типы данных на корректность;\n",
    "* выбрать топ-10 городов по количеству рейсов;\n",
    "* построить графики: модели самолетов и количество рейсов, города и количество рейсов, топ-10 городов и количество рейсов;\n",
    "* сделать выводы по каждому из графиков, пояснить результат."
   ]
  },
  {
   "cell_type": "markdown",
   "metadata": {},
   "source": [
    "# Импортируем библиотеки и файлы\n",
    "<a name=\"1\"></a>"
   ]
  },
  {
   "cell_type": "code",
   "execution_count": 1,
   "metadata": {},
   "outputs": [],
   "source": [
    "import pandas as pd\n",
    "import numpy as np\n",
    "import matplotlib as mplt\n",
    "import matplotlib.pyplot as plt\n",
    "import seaborn as sns\n"
   ]
  },
  {
   "cell_type": "code",
   "execution_count": 2,
   "metadata": {},
   "outputs": [],
   "source": [
    "df1 = pd.read_csv('/datasets/query_1.csv')\n",
    "df3 = pd.read_csv('/datasets/query_3.csv')"
   ]
  },
  {
   "cell_type": "markdown",
   "metadata": {},
   "source": [
    "# Изучение данных\n",
    "<a name=\"1.1\"></a>"
   ]
  },
  {
   "cell_type": "code",
   "execution_count": 3,
   "metadata": {},
   "outputs": [
    {
     "data": {
      "text/plain": [
       "'______________info_____________________'"
      ]
     },
     "metadata": {},
     "output_type": "display_data"
    },
    {
     "name": "stdout",
     "output_type": "stream",
     "text": [
      "<class 'pandas.core.frame.DataFrame'>\n",
      "RangeIndex: 8 entries, 0 to 7\n",
      "Data columns (total 2 columns):\n",
      "model             8 non-null object\n",
      "flights_amount    8 non-null int64\n",
      "dtypes: int64(1), object(1)\n",
      "memory usage: 256.0+ bytes\n"
     ]
    },
    {
     "data": {
      "text/plain": [
       "None"
      ]
     },
     "metadata": {},
     "output_type": "display_data"
    },
    {
     "data": {
      "text/plain": [
       "'______________describe_________________'"
      ]
     },
     "metadata": {},
     "output_type": "display_data"
    },
    {
     "data": {
      "text/html": [
       "<div>\n",
       "<style scoped>\n",
       "    .dataframe tbody tr th:only-of-type {\n",
       "        vertical-align: middle;\n",
       "    }\n",
       "\n",
       "    .dataframe tbody tr th {\n",
       "        vertical-align: top;\n",
       "    }\n",
       "\n",
       "    .dataframe thead th {\n",
       "        text-align: right;\n",
       "    }\n",
       "</style>\n",
       "<table border=\"1\" class=\"dataframe\">\n",
       "  <thead>\n",
       "    <tr style=\"text-align: right;\">\n",
       "      <th></th>\n",
       "      <th>flights_amount</th>\n",
       "    </tr>\n",
       "  </thead>\n",
       "  <tbody>\n",
       "    <tr>\n",
       "      <td>count</td>\n",
       "      <td>8.000000</td>\n",
       "    </tr>\n",
       "    <tr>\n",
       "      <td>mean</td>\n",
       "      <td>2035.625000</td>\n",
       "    </tr>\n",
       "    <tr>\n",
       "      <td>std</td>\n",
       "      <td>1965.203947</td>\n",
       "    </tr>\n",
       "    <tr>\n",
       "      <td>min</td>\n",
       "      <td>300.000000</td>\n",
       "    </tr>\n",
       "    <tr>\n",
       "      <td>25%</td>\n",
       "      <td>605.250000</td>\n",
       "    </tr>\n",
       "    <tr>\n",
       "      <td>50%</td>\n",
       "      <td>795.000000</td>\n",
       "    </tr>\n",
       "    <tr>\n",
       "      <td>75%</td>\n",
       "      <td>4250.250000</td>\n",
       "    </tr>\n",
       "    <tr>\n",
       "      <td>max</td>\n",
       "      <td>4557.000000</td>\n",
       "    </tr>\n",
       "  </tbody>\n",
       "</table>\n",
       "</div>"
      ],
      "text/plain": [
       "       flights_amount\n",
       "count        8.000000\n",
       "mean      2035.625000\n",
       "std       1965.203947\n",
       "min        300.000000\n",
       "25%        605.250000\n",
       "50%        795.000000\n",
       "75%       4250.250000\n",
       "max       4557.000000"
      ]
     },
     "metadata": {},
     "output_type": "display_data"
    },
    {
     "data": {
      "text/plain": [
       "'______________head_____________________'"
      ]
     },
     "metadata": {},
     "output_type": "display_data"
    },
    {
     "data": {
      "text/html": [
       "<div>\n",
       "<style scoped>\n",
       "    .dataframe tbody tr th:only-of-type {\n",
       "        vertical-align: middle;\n",
       "    }\n",
       "\n",
       "    .dataframe tbody tr th {\n",
       "        vertical-align: top;\n",
       "    }\n",
       "\n",
       "    .dataframe thead th {\n",
       "        text-align: right;\n",
       "    }\n",
       "</style>\n",
       "<table border=\"1\" class=\"dataframe\">\n",
       "  <thead>\n",
       "    <tr style=\"text-align: right;\">\n",
       "      <th></th>\n",
       "      <th>model</th>\n",
       "      <th>flights_amount</th>\n",
       "    </tr>\n",
       "  </thead>\n",
       "  <tbody>\n",
       "    <tr>\n",
       "      <td>0</td>\n",
       "      <td>Airbus A319-100</td>\n",
       "      <td>607</td>\n",
       "    </tr>\n",
       "    <tr>\n",
       "      <td>1</td>\n",
       "      <td>Airbus A321-200</td>\n",
       "      <td>960</td>\n",
       "    </tr>\n",
       "    <tr>\n",
       "      <td>2</td>\n",
       "      <td>Boeing 737-300</td>\n",
       "      <td>630</td>\n",
       "    </tr>\n",
       "    <tr>\n",
       "      <td>3</td>\n",
       "      <td>Boeing 767-300</td>\n",
       "      <td>600</td>\n",
       "    </tr>\n",
       "    <tr>\n",
       "      <td>4</td>\n",
       "      <td>Boeing 777-300</td>\n",
       "      <td>300</td>\n",
       "    </tr>\n",
       "    <tr>\n",
       "      <td>5</td>\n",
       "      <td>Bombardier CRJ-200</td>\n",
       "      <td>4446</td>\n",
       "    </tr>\n",
       "    <tr>\n",
       "      <td>6</td>\n",
       "      <td>Cessna 208 Caravan</td>\n",
       "      <td>4557</td>\n",
       "    </tr>\n",
       "    <tr>\n",
       "      <td>7</td>\n",
       "      <td>Sukhoi SuperJet-100</td>\n",
       "      <td>4185</td>\n",
       "    </tr>\n",
       "  </tbody>\n",
       "</table>\n",
       "</div>"
      ],
      "text/plain": [
       "                 model  flights_amount\n",
       "0      Airbus A319-100             607\n",
       "1      Airbus A321-200             960\n",
       "2       Boeing 737-300             630\n",
       "3       Boeing 767-300             600\n",
       "4       Boeing 777-300             300\n",
       "5   Bombardier CRJ-200            4446\n",
       "6   Cessna 208 Caravan            4557\n",
       "7  Sukhoi SuperJet-100            4185"
      ]
     },
     "metadata": {},
     "output_type": "display_data"
    },
    {
     "data": {
      "text/plain": [
       "'______________tail_____________________'"
      ]
     },
     "metadata": {},
     "output_type": "display_data"
    },
    {
     "data": {
      "text/html": [
       "<div>\n",
       "<style scoped>\n",
       "    .dataframe tbody tr th:only-of-type {\n",
       "        vertical-align: middle;\n",
       "    }\n",
       "\n",
       "    .dataframe tbody tr th {\n",
       "        vertical-align: top;\n",
       "    }\n",
       "\n",
       "    .dataframe thead th {\n",
       "        text-align: right;\n",
       "    }\n",
       "</style>\n",
       "<table border=\"1\" class=\"dataframe\">\n",
       "  <thead>\n",
       "    <tr style=\"text-align: right;\">\n",
       "      <th></th>\n",
       "      <th>model</th>\n",
       "      <th>flights_amount</th>\n",
       "    </tr>\n",
       "  </thead>\n",
       "  <tbody>\n",
       "    <tr>\n",
       "      <td>0</td>\n",
       "      <td>Airbus A319-100</td>\n",
       "      <td>607</td>\n",
       "    </tr>\n",
       "    <tr>\n",
       "      <td>1</td>\n",
       "      <td>Airbus A321-200</td>\n",
       "      <td>960</td>\n",
       "    </tr>\n",
       "    <tr>\n",
       "      <td>2</td>\n",
       "      <td>Boeing 737-300</td>\n",
       "      <td>630</td>\n",
       "    </tr>\n",
       "    <tr>\n",
       "      <td>3</td>\n",
       "      <td>Boeing 767-300</td>\n",
       "      <td>600</td>\n",
       "    </tr>\n",
       "    <tr>\n",
       "      <td>4</td>\n",
       "      <td>Boeing 777-300</td>\n",
       "      <td>300</td>\n",
       "    </tr>\n",
       "    <tr>\n",
       "      <td>5</td>\n",
       "      <td>Bombardier CRJ-200</td>\n",
       "      <td>4446</td>\n",
       "    </tr>\n",
       "    <tr>\n",
       "      <td>6</td>\n",
       "      <td>Cessna 208 Caravan</td>\n",
       "      <td>4557</td>\n",
       "    </tr>\n",
       "    <tr>\n",
       "      <td>7</td>\n",
       "      <td>Sukhoi SuperJet-100</td>\n",
       "      <td>4185</td>\n",
       "    </tr>\n",
       "  </tbody>\n",
       "</table>\n",
       "</div>"
      ],
      "text/plain": [
       "                 model  flights_amount\n",
       "0      Airbus A319-100             607\n",
       "1      Airbus A321-200             960\n",
       "2       Boeing 737-300             630\n",
       "3       Boeing 767-300             600\n",
       "4       Boeing 777-300             300\n",
       "5   Bombardier CRJ-200            4446\n",
       "6   Cessna 208 Caravan            4557\n",
       "7  Sukhoi SuperJet-100            4185"
      ]
     },
     "metadata": {},
     "output_type": "display_data"
    },
    {
     "data": {
      "text/plain": [
       "'_____________isna______________________'"
      ]
     },
     "metadata": {},
     "output_type": "display_data"
    },
    {
     "data": {
      "text/plain": [
       "model             0\n",
       "flights_amount    0\n",
       "dtype: int64"
      ]
     },
     "metadata": {},
     "output_type": "display_data"
    },
    {
     "data": {
      "text/plain": [
       "'_____________duplicated________________'"
      ]
     },
     "metadata": {},
     "output_type": "display_data"
    },
    {
     "data": {
      "text/plain": [
       "0"
      ]
     },
     "metadata": {},
     "output_type": "display_data"
    }
   ],
   "source": [
    "display('______________info_____________________')\n",
    "display(df1.info())\n",
    "display('______________describe_________________')\n",
    "display(df1.describe())\n",
    "display('______________head_____________________')\n",
    "display(df1.head(10))\n",
    "display('______________tail_____________________')\n",
    "display(df1.tail(10))\n",
    "display('_____________isna______________________')\n",
    "display(df1.isna().sum())\n",
    "display('_____________duplicated________________')\n",
    "display(df1.duplicated().sum())"
   ]
  },
  {
   "cell_type": "code",
   "execution_count": 4,
   "metadata": {},
   "outputs": [
    {
     "data": {
      "text/plain": [
       "'______________info_____________________'"
      ]
     },
     "metadata": {},
     "output_type": "display_data"
    },
    {
     "name": "stdout",
     "output_type": "stream",
     "text": [
      "<class 'pandas.core.frame.DataFrame'>\n",
      "RangeIndex: 101 entries, 0 to 100\n",
      "Data columns (total 2 columns):\n",
      "city               101 non-null object\n",
      "average_flights    101 non-null float64\n",
      "dtypes: float64(1), object(1)\n",
      "memory usage: 1.7+ KB\n"
     ]
    },
    {
     "data": {
      "text/plain": [
       "None"
      ]
     },
     "metadata": {},
     "output_type": "display_data"
    },
    {
     "data": {
      "text/plain": [
       "'______________describe_________________'"
      ]
     },
     "metadata": {},
     "output_type": "display_data"
    },
    {
     "data": {
      "text/html": [
       "<div>\n",
       "<style scoped>\n",
       "    .dataframe tbody tr th:only-of-type {\n",
       "        vertical-align: middle;\n",
       "    }\n",
       "\n",
       "    .dataframe tbody tr th {\n",
       "        vertical-align: top;\n",
       "    }\n",
       "\n",
       "    .dataframe thead th {\n",
       "        text-align: right;\n",
       "    }\n",
       "</style>\n",
       "<table border=\"1\" class=\"dataframe\">\n",
       "  <thead>\n",
       "    <tr style=\"text-align: right;\">\n",
       "      <th></th>\n",
       "      <th>average_flights</th>\n",
       "    </tr>\n",
       "  </thead>\n",
       "  <tbody>\n",
       "    <tr>\n",
       "      <td>count</td>\n",
       "      <td>101.000000</td>\n",
       "    </tr>\n",
       "    <tr>\n",
       "      <td>mean</td>\n",
       "      <td>5.494189</td>\n",
       "    </tr>\n",
       "    <tr>\n",
       "      <td>std</td>\n",
       "      <td>13.119790</td>\n",
       "    </tr>\n",
       "    <tr>\n",
       "      <td>min</td>\n",
       "      <td>1.000000</td>\n",
       "    </tr>\n",
       "    <tr>\n",
       "      <td>25%</td>\n",
       "      <td>2.000000</td>\n",
       "    </tr>\n",
       "    <tr>\n",
       "      <td>50%</td>\n",
       "      <td>3.000000</td>\n",
       "    </tr>\n",
       "    <tr>\n",
       "      <td>75%</td>\n",
       "      <td>5.870968</td>\n",
       "    </tr>\n",
       "    <tr>\n",
       "      <td>max</td>\n",
       "      <td>129.774194</td>\n",
       "    </tr>\n",
       "  </tbody>\n",
       "</table>\n",
       "</div>"
      ],
      "text/plain": [
       "       average_flights\n",
       "count       101.000000\n",
       "mean          5.494189\n",
       "std          13.119790\n",
       "min           1.000000\n",
       "25%           2.000000\n",
       "50%           3.000000\n",
       "75%           5.870968\n",
       "max         129.774194"
      ]
     },
     "metadata": {},
     "output_type": "display_data"
    },
    {
     "data": {
      "text/plain": [
       "'______________head_____________________'"
      ]
     },
     "metadata": {},
     "output_type": "display_data"
    },
    {
     "data": {
      "text/html": [
       "<div>\n",
       "<style scoped>\n",
       "    .dataframe tbody tr th:only-of-type {\n",
       "        vertical-align: middle;\n",
       "    }\n",
       "\n",
       "    .dataframe tbody tr th {\n",
       "        vertical-align: top;\n",
       "    }\n",
       "\n",
       "    .dataframe thead th {\n",
       "        text-align: right;\n",
       "    }\n",
       "</style>\n",
       "<table border=\"1\" class=\"dataframe\">\n",
       "  <thead>\n",
       "    <tr style=\"text-align: right;\">\n",
       "      <th></th>\n",
       "      <th>city</th>\n",
       "      <th>average_flights</th>\n",
       "    </tr>\n",
       "  </thead>\n",
       "  <tbody>\n",
       "    <tr>\n",
       "      <td>0</td>\n",
       "      <td>Абакан</td>\n",
       "      <td>3.870968</td>\n",
       "    </tr>\n",
       "    <tr>\n",
       "      <td>1</td>\n",
       "      <td>Анадырь</td>\n",
       "      <td>1.000000</td>\n",
       "    </tr>\n",
       "    <tr>\n",
       "      <td>2</td>\n",
       "      <td>Анапа</td>\n",
       "      <td>2.161290</td>\n",
       "    </tr>\n",
       "    <tr>\n",
       "      <td>3</td>\n",
       "      <td>Архангельск</td>\n",
       "      <td>5.354839</td>\n",
       "    </tr>\n",
       "    <tr>\n",
       "      <td>4</td>\n",
       "      <td>Астрахань</td>\n",
       "      <td>2.451613</td>\n",
       "    </tr>\n",
       "    <tr>\n",
       "      <td>5</td>\n",
       "      <td>Барнаул</td>\n",
       "      <td>2.612903</td>\n",
       "    </tr>\n",
       "    <tr>\n",
       "      <td>6</td>\n",
       "      <td>Белгород</td>\n",
       "      <td>6.000000</td>\n",
       "    </tr>\n",
       "    <tr>\n",
       "      <td>7</td>\n",
       "      <td>Белоярский</td>\n",
       "      <td>2.000000</td>\n",
       "    </tr>\n",
       "    <tr>\n",
       "      <td>8</td>\n",
       "      <td>Благовещенск</td>\n",
       "      <td>1.000000</td>\n",
       "    </tr>\n",
       "    <tr>\n",
       "      <td>9</td>\n",
       "      <td>Братск</td>\n",
       "      <td>1.000000</td>\n",
       "    </tr>\n",
       "  </tbody>\n",
       "</table>\n",
       "</div>"
      ],
      "text/plain": [
       "           city  average_flights\n",
       "0        Абакан         3.870968\n",
       "1       Анадырь         1.000000\n",
       "2         Анапа         2.161290\n",
       "3   Архангельск         5.354839\n",
       "4     Астрахань         2.451613\n",
       "5       Барнаул         2.612903\n",
       "6      Белгород         6.000000\n",
       "7    Белоярский         2.000000\n",
       "8  Благовещенск         1.000000\n",
       "9        Братск         1.000000"
      ]
     },
     "metadata": {},
     "output_type": "display_data"
    },
    {
     "data": {
      "text/plain": [
       "'______________tail_____________________'"
      ]
     },
     "metadata": {},
     "output_type": "display_data"
    },
    {
     "data": {
      "text/html": [
       "<div>\n",
       "<style scoped>\n",
       "    .dataframe tbody tr th:only-of-type {\n",
       "        vertical-align: middle;\n",
       "    }\n",
       "\n",
       "    .dataframe tbody tr th {\n",
       "        vertical-align: top;\n",
       "    }\n",
       "\n",
       "    .dataframe thead th {\n",
       "        text-align: right;\n",
       "    }\n",
       "</style>\n",
       "<table border=\"1\" class=\"dataframe\">\n",
       "  <thead>\n",
       "    <tr style=\"text-align: right;\">\n",
       "      <th></th>\n",
       "      <th>city</th>\n",
       "      <th>average_flights</th>\n",
       "    </tr>\n",
       "  </thead>\n",
       "  <tbody>\n",
       "    <tr>\n",
       "      <td>91</td>\n",
       "      <td>Хабаровск</td>\n",
       "      <td>6.548387</td>\n",
       "    </tr>\n",
       "    <tr>\n",
       "      <td>92</td>\n",
       "      <td>Ханты-Мансийск</td>\n",
       "      <td>8.419355</td>\n",
       "    </tr>\n",
       "    <tr>\n",
       "      <td>93</td>\n",
       "      <td>Чебоксары</td>\n",
       "      <td>5.000000</td>\n",
       "    </tr>\n",
       "    <tr>\n",
       "      <td>94</td>\n",
       "      <td>Челябинск</td>\n",
       "      <td>6.709677</td>\n",
       "    </tr>\n",
       "    <tr>\n",
       "      <td>95</td>\n",
       "      <td>Череповец</td>\n",
       "      <td>2.161290</td>\n",
       "    </tr>\n",
       "    <tr>\n",
       "      <td>96</td>\n",
       "      <td>Чита</td>\n",
       "      <td>1.580645</td>\n",
       "    </tr>\n",
       "    <tr>\n",
       "      <td>97</td>\n",
       "      <td>Элиста</td>\n",
       "      <td>4.870968</td>\n",
       "    </tr>\n",
       "    <tr>\n",
       "      <td>98</td>\n",
       "      <td>Южно-Сахалинск</td>\n",
       "      <td>4.290323</td>\n",
       "    </tr>\n",
       "    <tr>\n",
       "      <td>99</td>\n",
       "      <td>Якутск</td>\n",
       "      <td>2.741935</td>\n",
       "    </tr>\n",
       "    <tr>\n",
       "      <td>100</td>\n",
       "      <td>Ярославль</td>\n",
       "      <td>1.322581</td>\n",
       "    </tr>\n",
       "  </tbody>\n",
       "</table>\n",
       "</div>"
      ],
      "text/plain": [
       "               city  average_flights\n",
       "91        Хабаровск         6.548387\n",
       "92   Ханты-Мансийск         8.419355\n",
       "93        Чебоксары         5.000000\n",
       "94        Челябинск         6.709677\n",
       "95        Череповец         2.161290\n",
       "96             Чита         1.580645\n",
       "97           Элиста         4.870968\n",
       "98   Южно-Сахалинск         4.290323\n",
       "99           Якутск         2.741935\n",
       "100       Ярославль         1.322581"
      ]
     },
     "metadata": {},
     "output_type": "display_data"
    },
    {
     "data": {
      "text/plain": [
       "'_____________isna______________________'"
      ]
     },
     "metadata": {},
     "output_type": "display_data"
    },
    {
     "data": {
      "text/plain": [
       "city               0\n",
       "average_flights    0\n",
       "dtype: int64"
      ]
     },
     "metadata": {},
     "output_type": "display_data"
    },
    {
     "data": {
      "text/plain": [
       "'_____________duplicated________________'"
      ]
     },
     "metadata": {},
     "output_type": "display_data"
    },
    {
     "data": {
      "text/plain": [
       "0"
      ]
     },
     "metadata": {},
     "output_type": "display_data"
    }
   ],
   "source": [
    "display('______________info_____________________')\n",
    "display(df3.info())\n",
    "display('______________describe_________________')\n",
    "display(df3.describe())\n",
    "display('______________head_____________________')\n",
    "display(df3.head(10))\n",
    "display('______________tail_____________________')\n",
    "display(df3.tail(10))\n",
    "display('_____________isna______________________')\n",
    "display(df3.isna().sum())\n",
    "display('_____________duplicated________________')\n",
    "display(df3.duplicated().sum())"
   ]
  },
  {
   "cell_type": "markdown",
   "metadata": {},
   "source": [
    "<a name=\"1.2\"></a>\n",
    "**Вывод:** данные содержатся в двух таблицах.\n",
    "\n",
    "В первой таблице содержится информация (8 строк и 2 колонки) о моделях самолетов и количестве рейсов. Пропусков и дубликатов нет.\n",
    "\n",
    "Во второй таблице содержится информация (101 строка и 2 колонки) о населенных пунктах и среднем количестве авиорейсов. Пропусков и дубликатов нет.\n",
    "\n",
    "Типы данных корректны.\n",
    "\n"
   ]
  },
  {
   "cell_type": "markdown",
   "metadata": {},
   "source": [
    "# Анализ данных\n",
    "<a name=\"2\"></a>"
   ]
  },
  {
   "cell_type": "markdown",
   "metadata": {},
   "source": [
    "Определим топ-10 городов по количеству рейсов.\n",
    "<a name=\"2.1\"></a>"
   ]
  },
  {
   "cell_type": "code",
   "execution_count": 5,
   "metadata": {},
   "outputs": [
    {
     "data": {
      "text/html": [
       "<div>\n",
       "<style scoped>\n",
       "    .dataframe tbody tr th:only-of-type {\n",
       "        vertical-align: middle;\n",
       "    }\n",
       "\n",
       "    .dataframe tbody tr th {\n",
       "        vertical-align: top;\n",
       "    }\n",
       "\n",
       "    .dataframe thead th {\n",
       "        text-align: right;\n",
       "    }\n",
       "</style>\n",
       "<table border=\"1\" class=\"dataframe\">\n",
       "  <thead>\n",
       "    <tr style=\"text-align: right;\">\n",
       "      <th></th>\n",
       "      <th>city</th>\n",
       "      <th>average_flights</th>\n",
       "    </tr>\n",
       "  </thead>\n",
       "  <tbody>\n",
       "    <tr>\n",
       "      <td>43</td>\n",
       "      <td>Москва</td>\n",
       "      <td>130.0</td>\n",
       "    </tr>\n",
       "    <tr>\n",
       "      <td>70</td>\n",
       "      <td>Санкт-Петербург</td>\n",
       "      <td>31.0</td>\n",
       "    </tr>\n",
       "    <tr>\n",
       "      <td>54</td>\n",
       "      <td>Новосибирск</td>\n",
       "      <td>17.0</td>\n",
       "    </tr>\n",
       "    <tr>\n",
       "      <td>33</td>\n",
       "      <td>Красноярск</td>\n",
       "      <td>12.0</td>\n",
       "    </tr>\n",
       "    <tr>\n",
       "      <td>20</td>\n",
       "      <td>Екатеринбург</td>\n",
       "      <td>11.0</td>\n",
       "    </tr>\n",
       "    <tr>\n",
       "      <td>67</td>\n",
       "      <td>Ростов-на-Дону</td>\n",
       "      <td>10.0</td>\n",
       "    </tr>\n",
       "    <tr>\n",
       "      <td>63</td>\n",
       "      <td>Пермь</td>\n",
       "      <td>10.0</td>\n",
       "    </tr>\n",
       "    <tr>\n",
       "      <td>10</td>\n",
       "      <td>Брянск</td>\n",
       "      <td>10.0</td>\n",
       "    </tr>\n",
       "    <tr>\n",
       "      <td>74</td>\n",
       "      <td>Сочи</td>\n",
       "      <td>10.0</td>\n",
       "    </tr>\n",
       "    <tr>\n",
       "      <td>84</td>\n",
       "      <td>Ульяновск</td>\n",
       "      <td>10.0</td>\n",
       "    </tr>\n",
       "  </tbody>\n",
       "</table>\n",
       "</div>"
      ],
      "text/plain": [
       "               city  average_flights\n",
       "43           Москва            130.0\n",
       "70  Санкт-Петербург             31.0\n",
       "54      Новосибирск             17.0\n",
       "33       Красноярск             12.0\n",
       "20     Екатеринбург             11.0\n",
       "67   Ростов-на-Дону             10.0\n",
       "63            Пермь             10.0\n",
       "10           Брянск             10.0\n",
       "74             Сочи             10.0\n",
       "84        Ульяновск             10.0"
      ]
     },
     "execution_count": 5,
     "metadata": {},
     "output_type": "execute_result"
    }
   ],
   "source": [
    "flights_top10 = df3.sort_values(by='average_flights', ascending=False)\n",
    "flights_top10.head(10).round(0)"
   ]
  },
  {
   "cell_type": "markdown",
   "metadata": {},
   "source": [
    "Построим график распределения количества рейсов по моделям самолетов:\n",
    "<a name=\"2.2\"></a>"
   ]
  },
  {
   "cell_type": "code",
   "execution_count": 6,
   "metadata": {},
   "outputs": [
    {
     "data": {
      "image/png": "[encoded data removed]",
      "text/plain": [
       "<Figure size 1152x432 with 1 Axes>"
      ]
     },
     "metadata": {
      "needs_background": "light"
     },
     "output_type": "display_data"
    }
   ],
   "source": [
    "df1 = df1.sort_values('flights_amount', ascending=False)\n",
    "plt.figure(figsize=(16, 6))\n",
    "sns.barplot(data=df1, x='model',  y='flights_amount', palette=\"viridis\")\n",
    "\n",
    "plt.grid()\n",
    "plt.title('Распределение количества рейсов по моделям самолетов', size=16)\n",
    "plt.xlabel('Модель самолета', fontsize=15)\n",
    "plt.ylabel('Количество полетов', fontsize=15)\n",
    "plt.show()"
   ]
  },
  {
   "cell_type": "markdown",
   "metadata": {},
   "source": [
    "Отобразим количество рейсов в процентном распределении по моделям самолетов:"
   ]
  },
  {
   "cell_type": "code",
   "execution_count": 7,
   "metadata": {},
   "outputs": [
    {
     "data": {
      "text/html": [
       "<div>\n",
       "<style scoped>\n",
       "    .dataframe tbody tr th:only-of-type {\n",
       "        vertical-align: middle;\n",
       "    }\n",
       "\n",
       "    .dataframe tbody tr th {\n",
       "        vertical-align: top;\n",
       "    }\n",
       "\n",
       "    .dataframe thead th {\n",
       "        text-align: right;\n",
       "    }\n",
       "</style>\n",
       "<table border=\"1\" class=\"dataframe\">\n",
       "  <thead>\n",
       "    <tr style=\"text-align: right;\">\n",
       "      <th></th>\n",
       "      <th>% от общего кол-ва</th>\n",
       "    </tr>\n",
       "    <tr>\n",
       "      <th>model</th>\n",
       "      <th></th>\n",
       "    </tr>\n",
       "  </thead>\n",
       "  <tbody>\n",
       "    <tr>\n",
       "      <td>Cessna 208 Caravan</td>\n",
       "      <td>27.98</td>\n",
       "    </tr>\n",
       "    <tr>\n",
       "      <td>Bombardier CRJ-200</td>\n",
       "      <td>27.30</td>\n",
       "    </tr>\n",
       "    <tr>\n",
       "      <td>Sukhoi SuperJet-100</td>\n",
       "      <td>25.70</td>\n",
       "    </tr>\n",
       "    <tr>\n",
       "      <td>Airbus A321-200</td>\n",
       "      <td>5.89</td>\n",
       "    </tr>\n",
       "    <tr>\n",
       "      <td>Boeing 737-300</td>\n",
       "      <td>3.87</td>\n",
       "    </tr>\n",
       "    <tr>\n",
       "      <td>Airbus A319-100</td>\n",
       "      <td>3.73</td>\n",
       "    </tr>\n",
       "    <tr>\n",
       "      <td>Boeing 767-300</td>\n",
       "      <td>3.68</td>\n",
       "    </tr>\n",
       "    <tr>\n",
       "      <td>Boeing 777-300</td>\n",
       "      <td>1.84</td>\n",
       "    </tr>\n",
       "  </tbody>\n",
       "</table>\n",
       "</div>"
      ],
      "text/plain": [
       "                     % от общего кол-ва\n",
       "model                                  \n",
       "Cessna 208 Caravan                27.98\n",
       "Bombardier CRJ-200                27.30\n",
       "Sukhoi SuperJet-100               25.70\n",
       "Airbus A321-200                    5.89\n",
       "Boeing 737-300                     3.87\n",
       "Airbus A319-100                    3.73\n",
       "Boeing 767-300                     3.68\n",
       "Boeing 777-300                     1.84"
      ]
     },
     "execution_count": 7,
     "metadata": {},
     "output_type": "execute_result"
    }
   ],
   "source": [
    "rating_aircrafts = (df1.groupby(\"model\").agg({'flights_amount':\"sum\"})\n",
    "         .apply(lambda x: 100*x/x.sum()).sort_values('flights_amount', ascending=False)).round(2)\n",
    "rating_aircrafts.columns = ['% от общего кол-ва']\n",
    "rating_aircrafts"
   ]
  },
  {
   "cell_type": "markdown",
   "metadata": {},
   "source": [
    "Вывод: Более 75% рейсов совершают 3 модели самолетов с количеством посадочных мест 13, 50 и 100. "
   ]
  },
  {
   "cell_type": "markdown",
   "metadata": {},
   "source": [
    "Построим график распределения количества рейсов по городам:\n",
    "<a name=\"2.3\"></a>"
   ]
  },
  {
   "cell_type": "code",
   "execution_count": 8,
   "metadata": {},
   "outputs": [
    {
     "data": {
      "image/png": "[encoded data removed]",
      "text/plain": [
       "<Figure size 1152x2304 with 1 Axes>"
      ]
     },
     "metadata": {},
     "output_type": "display_data"
    }
   ],
   "source": [
    "sns.set_style(\"whitegrid\")\n",
    "plt.figure(figsize=(16, 32))\n",
    "sns.barplot(data=df3.sort_values('average_flights', ascending=False), \n",
    "                                orient='h', x='average_flights',\n",
    "                                y='city', palette=\"viridis\")\n",
    "plt.axvline(df3['average_flights'].mean(), color='orange', ls='--')\n",
    "#plt.xscale('log')\n",
    "#plt.xlim(0, 2)#предел количества по х\n",
    "#plt.grid()\n",
    "plt.title('Распределение количества рейсов по городам', size=16)\n",
    "plt.ylabel('Населенный пункт', fontsize=15)\n",
    "plt.xlabel('Количество рейсов в день', fontsize=15)\n",
    "plt.show()"
   ]
  },
  {
   "cell_type": "markdown",
   "metadata": {},
   "source": [
    "Построим график распределения количества рейсов по топ-10 городам:\n",
    "<a name=\"2.4\"></a>"
   ]
  },
  {
   "cell_type": "code",
   "execution_count": 9,
   "metadata": {},
   "outputs": [
    {
     "data": {
      "image/png": "[encoded data removed]",
      "text/plain": [
       "<Figure size 1152x432 with 1 Axes>"
      ]
     },
     "metadata": {},
     "output_type": "display_data"
    }
   ],
   "source": [
    "plt.figure(figsize=(16, 6))\n",
    "sns.barplot(data=flights_top10.head(10), x='city',  y='average_flights', palette=\"viridis\")\n",
    "\n",
    "plt.title('Распределение количества рейсов по моделям самолетов', size=16)\n",
    "plt.xlabel('Модель самолета', fontsize=15)\n",
    "plt.ylabel('Количество полетов', fontsize=15)\n",
    "plt.show()"
   ]
  },
  {
   "cell_type": "markdown",
   "metadata": {},
   "source": [
    "Отобразим количество рейсов в процентном распределении по топ-10 городам:"
   ]
  },
  {
   "cell_type": "code",
   "execution_count": 10,
   "metadata": {},
   "outputs": [
    {
     "data": {
      "text/html": [
       "<div>\n",
       "<style scoped>\n",
       "    .dataframe tbody tr th:only-of-type {\n",
       "        vertical-align: middle;\n",
       "    }\n",
       "\n",
       "    .dataframe tbody tr th {\n",
       "        vertical-align: top;\n",
       "    }\n",
       "\n",
       "    .dataframe thead th {\n",
       "        text-align: right;\n",
       "    }\n",
       "</style>\n",
       "<table border=\"1\" class=\"dataframe\">\n",
       "  <thead>\n",
       "    <tr style=\"text-align: right;\">\n",
       "      <th></th>\n",
       "      <th>% от общего кол-ва</th>\n",
       "    </tr>\n",
       "    <tr>\n",
       "      <th>city</th>\n",
       "      <th></th>\n",
       "    </tr>\n",
       "  </thead>\n",
       "  <tbody>\n",
       "    <tr>\n",
       "      <td>Москва</td>\n",
       "      <td>23.39</td>\n",
       "    </tr>\n",
       "    <tr>\n",
       "      <td>Санкт-Петербург</td>\n",
       "      <td>5.62</td>\n",
       "    </tr>\n",
       "    <tr>\n",
       "      <td>Новосибирск</td>\n",
       "      <td>3.12</td>\n",
       "    </tr>\n",
       "    <tr>\n",
       "      <td>Красноярск</td>\n",
       "      <td>2.09</td>\n",
       "    </tr>\n",
       "    <tr>\n",
       "      <td>Екатеринбург</td>\n",
       "      <td>2.04</td>\n",
       "    </tr>\n",
       "    <tr>\n",
       "      <td>Ростов-на-Дону</td>\n",
       "      <td>1.84</td>\n",
       "    </tr>\n",
       "    <tr>\n",
       "      <td>Пермь</td>\n",
       "      <td>1.83</td>\n",
       "    </tr>\n",
       "    <tr>\n",
       "      <td>Брянск</td>\n",
       "      <td>1.80</td>\n",
       "    </tr>\n",
       "    <tr>\n",
       "      <td>Сочи</td>\n",
       "      <td>1.73</td>\n",
       "    </tr>\n",
       "    <tr>\n",
       "      <td>Ульяновск</td>\n",
       "      <td>1.73</td>\n",
       "    </tr>\n",
       "  </tbody>\n",
       "</table>\n",
       "</div>"
      ],
      "text/plain": [
       "                 % от общего кол-ва\n",
       "city                               \n",
       "Москва                        23.39\n",
       "Санкт-Петербург                5.62\n",
       "Новосибирск                    3.12\n",
       "Красноярск                     2.09\n",
       "Екатеринбург                   2.04\n",
       "Ростов-на-Дону                 1.84\n",
       "Пермь                          1.83\n",
       "Брянск                         1.80\n",
       "Сочи                           1.73\n",
       "Ульяновск                      1.73"
      ]
     },
     "execution_count": 10,
     "metadata": {},
     "output_type": "execute_result"
    }
   ],
   "source": [
    "rating_citys = (df3.groupby(\"city\").agg({'average_flights':\"sum\"})\n",
    "         .apply(lambda x: 100*x/x.sum()).sort_values('average_flights', ascending=False)).round(2)\n",
    "rating_citys.columns = ['% от общего кол-ва']\n",
    "rating_citys.head(10)"
   ]
  },
  {
   "cell_type": "markdown",
   "metadata": {},
   "source": [
    "Вывод: Почти четверть всех авиарейов в день приходится на Москву. "
   ]
  },
  {
   "cell_type": "markdown",
   "metadata": {},
   "source": [
    "Распределим города по категориям в зависимости от количества рейсов:\n",
    "<a name=\"2.5\"></a>"
   ]
  },
  {
   "cell_type": "code",
   "execution_count": 11,
   "metadata": {},
   "outputs": [],
   "source": [
    "def count_flights(row):\n",
    "        \n",
    "    if row <= 3:\n",
    "        return 'количество рейсов до 3'\n",
    "    \n",
    "    if row <= 5:\n",
    "        return 'количество рейсов до 5'\n",
    "    \n",
    "    if row <= 10:\n",
    "        return 'количество рейсов до 10'\n",
    "    \n",
    "    if row <= 15:\n",
    "        return 'количество рейсов до 15'\n",
    "    \n",
    "    if row > 15:\n",
    "        return 'количество рейсов более 15'\n",
    "df3['count_flights'] = df3['average_flights'].apply(count_flights)"
   ]
  },
  {
   "cell_type": "markdown",
   "metadata": {},
   "source": [
    "Отобразим распределение категорий в процентах:"
   ]
  },
  {
   "cell_type": "code",
   "execution_count": 12,
   "metadata": {},
   "outputs": [
    {
     "data": {
      "text/html": [
       "<div>\n",
       "<style scoped>\n",
       "    .dataframe tbody tr th:only-of-type {\n",
       "        vertical-align: middle;\n",
       "    }\n",
       "\n",
       "    .dataframe tbody tr th {\n",
       "        vertical-align: top;\n",
       "    }\n",
       "\n",
       "    .dataframe thead th {\n",
       "        text-align: right;\n",
       "    }\n",
       "</style>\n",
       "<table border=\"1\" class=\"dataframe\">\n",
       "  <thead>\n",
       "    <tr style=\"text-align: right;\">\n",
       "      <th></th>\n",
       "      <th>% по группам</th>\n",
       "    </tr>\n",
       "    <tr>\n",
       "      <th>count_flights</th>\n",
       "      <th></th>\n",
       "    </tr>\n",
       "  </thead>\n",
       "  <tbody>\n",
       "    <tr>\n",
       "      <td>количество рейсов до 3</td>\n",
       "      <td>51.49</td>\n",
       "    </tr>\n",
       "    <tr>\n",
       "      <td>количество рейсов до 10</td>\n",
       "      <td>20.79</td>\n",
       "    </tr>\n",
       "    <tr>\n",
       "      <td>количество рейсов до 5</td>\n",
       "      <td>20.79</td>\n",
       "    </tr>\n",
       "    <tr>\n",
       "      <td>количество рейсов до 15</td>\n",
       "      <td>3.96</td>\n",
       "    </tr>\n",
       "    <tr>\n",
       "      <td>количество рейсов более 15</td>\n",
       "      <td>2.97</td>\n",
       "    </tr>\n",
       "  </tbody>\n",
       "</table>\n",
       "</div>"
      ],
      "text/plain": [
       "                            % по группам\n",
       "count_flights                           \n",
       "количество рейсов до 3             51.49\n",
       "количество рейсов до 10            20.79\n",
       "количество рейсов до 5             20.79\n",
       "количество рейсов до 15             3.96\n",
       "количество рейсов более 15          2.97"
      ]
     },
     "execution_count": 12,
     "metadata": {},
     "output_type": "execute_result"
    }
   ],
   "source": [
    "per_count_flights = (df3.groupby(\"count_flights\").agg({\"average_flights\" : \"count\"}).apply(lambda x: 100*x/x.sum())).round(2)\n",
    "per_count_flights.columns = ['% по группам']\n",
    "per_count_flights.sort_values('% по группам', ascending=False)"
   ]
  },
  {
   "cell_type": "markdown",
   "metadata": {},
   "source": [
    "Вывод: В половину городов совершается до 3 рейсов в день. "
   ]
  },
  {
   "cell_type": "markdown",
   "metadata": {},
   "source": [
    "# Общий вывод\n",
    "<a name=\"3\"></a>"
   ]
  },
  {
   "cell_type": "markdown",
   "metadata": {},
   "source": [
    "* 3/4 рейсов совершают Cessna 208 Caravan, Bombardier CRJ-200 и Sukhoi SuperJet-100.\n",
    "* Исходя из результатов и технических характеристик самолетов следует, что компания F9 ориентируется на внутренние межрегиональные перелеты по России.\n",
    "* Из количества авиа-рейсов следует, что Москва крупнейший авиа-хаб для компании F9.\n",
    "* Из-за большой удаленности регионов (за уралом) и низкой заселенности, разумно использовать самолеты с большей вместимостью, снизив при этом количество рейсов.\n"
   ]
  },
  {
   "cell_type": "code",
   "execution_count": null,
   "metadata": {},
   "outputs": [],
   "source": []
  }
 ],
 "metadata": {
  "ExecuteTimeLog": [
   {
    "duration": 325,
    "start_time": "2021-10-30T13:32:59.020Z"
   },
   {
    "duration": 1134,
    "start_time": "2021-10-30T13:33:06.205Z"
   },
   {
    "duration": 29,
    "start_time": "2021-10-30T13:33:07.341Z"
   },
   {
    "duration": 3,
    "start_time": "2021-10-30T13:38:07.473Z"
   },
   {
    "duration": 29,
    "start_time": "2021-10-30T13:38:08.439Z"
   },
   {
    "duration": 3,
    "start_time": "2021-10-30T13:40:03.023Z"
   },
   {
    "duration": 40,
    "start_time": "2021-10-30T13:40:03.028Z"
   },
   {
    "duration": 38,
    "start_time": "2021-10-30T13:40:03.327Z"
   },
   {
    "duration": 32,
    "start_time": "2021-10-30T13:40:47.345Z"
   },
   {
    "duration": 302,
    "start_time": "2021-10-30T13:47:53.943Z"
   },
   {
    "duration": 260,
    "start_time": "2021-10-30T13:48:00.295Z"
   },
   {
    "duration": 1210,
    "start_time": "2021-10-30T13:48:07.278Z"
   },
   {
    "duration": 262,
    "start_time": "2021-10-30T13:48:24.302Z"
   },
   {
    "duration": 11,
    "start_time": "2021-10-30T13:48:32.782Z"
   },
   {
    "duration": 12,
    "start_time": "2021-10-30T13:49:25.421Z"
   },
   {
    "duration": 2013,
    "start_time": "2021-10-31T11:34:13.327Z"
   },
   {
    "duration": 3,
    "start_time": "2021-10-31T11:34:23.376Z"
   },
   {
    "duration": 107,
    "start_time": "2021-10-31T11:34:23.396Z"
   },
   {
    "duration": -686,
    "start_time": "2021-10-31T11:34:24.191Z"
   },
   {
    "duration": 34,
    "start_time": "2021-10-31T11:34:23.676Z"
   },
   {
    "duration": 251,
    "start_time": "2021-10-31T11:34:23.712Z"
   },
   {
    "duration": 351,
    "start_time": "2021-10-31T11:34:36.020Z"
   },
   {
    "duration": 265,
    "start_time": "2021-10-31T11:34:43.816Z"
   },
   {
    "duration": 276,
    "start_time": "2021-10-31T11:34:58.784Z"
   },
   {
    "duration": 258,
    "start_time": "2021-10-31T11:35:25.547Z"
   },
   {
    "duration": 3,
    "start_time": "2021-10-31T11:37:13.475Z"
   },
   {
    "duration": 13,
    "start_time": "2021-10-31T11:37:19.397Z"
   },
   {
    "duration": 9,
    "start_time": "2021-10-31T11:37:29.791Z"
   },
   {
    "duration": 9,
    "start_time": "2021-10-31T11:37:58.424Z"
   },
   {
    "duration": 97,
    "start_time": "2021-10-31T12:39:58.795Z"
   },
   {
    "duration": 30,
    "start_time": "2021-10-31T12:40:16.028Z"
   },
   {
    "duration": 34,
    "start_time": "2021-10-31T12:40:17.903Z"
   },
   {
    "duration": 35,
    "start_time": "2021-10-31T12:40:18.064Z"
   },
   {
    "duration": 9,
    "start_time": "2021-10-31T12:40:18.668Z"
   },
   {
    "duration": 254,
    "start_time": "2021-10-31T12:40:18.990Z"
   },
   {
    "duration": 7,
    "start_time": "2021-10-31T12:40:50.389Z"
   },
   {
    "duration": 257,
    "start_time": "2021-10-31T12:41:07.390Z"
   },
   {
    "duration": 248,
    "start_time": "2021-10-31T12:42:23.508Z"
   },
   {
    "duration": 111,
    "start_time": "2021-10-31T12:42:40.122Z"
   },
   {
    "duration": 474,
    "start_time": "2021-10-31T12:42:45.119Z"
   },
   {
    "duration": 253,
    "start_time": "2021-10-31T12:42:57.425Z"
   },
   {
    "duration": 435,
    "start_time": "2021-10-31T12:43:48.661Z"
   },
   {
    "duration": 260,
    "start_time": "2021-10-31T12:43:59.921Z"
   },
   {
    "duration": 546,
    "start_time": "2021-10-31T12:44:38.073Z"
   },
   {
    "duration": 240,
    "start_time": "2021-10-31T12:45:02.442Z"
   },
   {
    "duration": 254,
    "start_time": "2021-10-31T12:45:16.990Z"
   },
   {
    "duration": 257,
    "start_time": "2021-10-31T12:45:44.920Z"
   },
   {
    "duration": 6657,
    "start_time": "2021-10-31T13:00:46.541Z"
   },
   {
    "duration": 7188,
    "start_time": "2021-10-31T13:00:55.581Z"
   },
   {
    "duration": 252,
    "start_time": "2021-10-31T13:01:10.333Z"
   },
   {
    "duration": 13,
    "start_time": "2021-10-31T13:01:58.720Z"
   },
   {
    "duration": 13,
    "start_time": "2021-10-31T13:02:03.593Z"
   },
   {
    "duration": 248,
    "start_time": "2021-10-31T13:16:56.318Z"
   },
   {
    "duration": 9,
    "start_time": "2021-10-31T13:16:59.533Z"
   },
   {
    "duration": 262,
    "start_time": "2021-10-31T13:18:34.124Z"
   },
   {
    "duration": 1577,
    "start_time": "2021-10-31T13:18:45.767Z"
   },
   {
    "duration": 656,
    "start_time": "2021-10-31T13:20:03.562Z"
   },
   {
    "duration": 752,
    "start_time": "2021-10-31T13:20:10.572Z"
   },
   {
    "duration": 259,
    "start_time": "2021-10-31T13:20:29.242Z"
   },
   {
    "duration": 284,
    "start_time": "2021-10-31T13:22:34.373Z"
   },
   {
    "duration": 14,
    "start_time": "2021-10-31T13:23:43.333Z"
   },
   {
    "duration": 12,
    "start_time": "2021-10-31T13:23:54.310Z"
   },
   {
    "duration": 259,
    "start_time": "2021-10-31T13:55:37.967Z"
   },
   {
    "duration": 247,
    "start_time": "2021-10-31T13:55:55.387Z"
   },
   {
    "duration": 356,
    "start_time": "2021-10-31T13:55:59.214Z"
   },
   {
    "duration": 1609,
    "start_time": "2021-10-31T13:56:02.800Z"
   },
   {
    "duration": 271,
    "start_time": "2021-10-31T13:56:47.866Z"
   },
   {
    "duration": 912,
    "start_time": "2021-10-31T13:57:08.196Z"
   },
   {
    "duration": 893,
    "start_time": "2021-10-31T13:58:12.980Z"
   },
   {
    "duration": 953,
    "start_time": "2021-10-31T13:58:20.050Z"
   },
   {
    "duration": 776,
    "start_time": "2021-10-31T13:58:34.111Z"
   },
   {
    "duration": 725,
    "start_time": "2021-10-31T13:58:47.227Z"
   },
   {
    "duration": 770,
    "start_time": "2021-10-31T13:58:58.205Z"
   },
   {
    "duration": 3116,
    "start_time": "2021-10-31T13:59:56.975Z"
   },
   {
    "duration": 2655,
    "start_time": "2021-10-31T14:00:09.745Z"
   },
   {
    "duration": 3174,
    "start_time": "2021-10-31T14:00:50.033Z"
   },
   {
    "duration": 3098,
    "start_time": "2021-10-31T14:01:08.506Z"
   },
   {
    "duration": 1881,
    "start_time": "2021-10-31T14:01:22.684Z"
   },
   {
    "duration": 4,
    "start_time": "2021-10-31T14:02:36.795Z"
   },
   {
    "duration": 1962,
    "start_time": "2021-10-31T14:02:37.197Z"
   },
   {
    "duration": 4,
    "start_time": "2021-10-31T14:04:05.432Z"
   },
   {
    "duration": 1866,
    "start_time": "2021-10-31T14:04:06.540Z"
   },
   {
    "duration": 1812,
    "start_time": "2021-10-31T14:04:37.873Z"
   },
   {
    "duration": 1990,
    "start_time": "2021-10-31T14:04:46.495Z"
   },
   {
    "duration": 1945,
    "start_time": "2021-10-31T14:05:34.103Z"
   },
   {
    "duration": 1895,
    "start_time": "2021-10-31T14:05:45.021Z"
   },
   {
    "duration": 85,
    "start_time": "2021-10-31T14:09:22.636Z"
   },
   {
    "duration": 2059,
    "start_time": "2021-10-31T14:09:28.554Z"
   },
   {
    "duration": 14,
    "start_time": "2021-10-31T14:11:12.285Z"
   },
   {
    "duration": 12,
    "start_time": "2021-10-31T14:11:43.429Z"
   },
   {
    "duration": 2132,
    "start_time": "2021-10-31T14:18:30.841Z"
   },
   {
    "duration": 211,
    "start_time": "2021-10-31T14:18:58.357Z"
   },
   {
    "duration": 1946,
    "start_time": "2021-10-31T14:19:01.520Z"
   },
   {
    "duration": 2266,
    "start_time": "2021-10-31T14:22:55.428Z"
   },
   {
    "duration": 1998,
    "start_time": "2021-10-31T14:23:15.027Z"
   },
   {
    "duration": 13,
    "start_time": "2021-10-31T14:23:48.647Z"
   },
   {
    "duration": 13,
    "start_time": "2021-10-31T14:25:02.718Z"
   },
   {
    "duration": 571,
    "start_time": "2021-10-31T14:26:28.241Z"
   },
   {
    "duration": 657,
    "start_time": "2021-10-31T14:26:35.978Z"
   },
   {
    "duration": 8,
    "start_time": "2021-10-31T14:26:44.077Z"
   },
   {
    "duration": 10,
    "start_time": "2021-10-31T14:26:46.957Z"
   },
   {
    "duration": 11,
    "start_time": "2021-10-31T14:26:50.582Z"
   },
   {
    "duration": 12,
    "start_time": "2021-10-31T14:42:06.342Z"
   },
   {
    "duration": 251,
    "start_time": "2021-10-31T14:45:11.989Z"
   },
   {
    "duration": 5,
    "start_time": "2021-10-31T14:45:21.931Z"
   },
   {
    "duration": 12,
    "start_time": "2021-10-31T14:45:27.938Z"
   },
   {
    "duration": 13,
    "start_time": "2021-10-31T14:47:06.332Z"
   },
   {
    "duration": 274,
    "start_time": "2021-10-31T14:51:12.766Z"
   },
   {
    "duration": 12,
    "start_time": "2021-10-31T14:51:23.878Z"
   },
   {
    "duration": 12,
    "start_time": "2021-10-31T14:52:43.595Z"
   },
   {
    "duration": 12,
    "start_time": "2021-10-31T14:53:24.176Z"
   },
   {
    "duration": 12,
    "start_time": "2021-10-31T14:57:52.396Z"
   },
   {
    "duration": 14,
    "start_time": "2021-10-31T14:57:59.512Z"
   },
   {
    "duration": 4,
    "start_time": "2021-10-31T14:59:07.234Z"
   },
   {
    "duration": 13,
    "start_time": "2021-10-31T14:59:08.544Z"
   },
   {
    "duration": 84,
    "start_time": "2021-10-31T15:09:16.845Z"
   },
   {
    "duration": 31,
    "start_time": "2021-10-31T15:12:00.580Z"
   },
   {
    "duration": 2,
    "start_time": "2021-10-31T15:18:45.172Z"
   },
   {
    "duration": 28,
    "start_time": "2021-10-31T15:18:45.187Z"
   },
   {
    "duration": 45,
    "start_time": "2021-10-31T15:18:45.217Z"
   },
   {
    "duration": 33,
    "start_time": "2021-10-31T15:18:45.263Z"
   },
   {
    "duration": 49,
    "start_time": "2021-10-31T15:18:45.298Z"
   },
   {
    "duration": 286,
    "start_time": "2021-10-31T15:18:45.349Z"
   },
   {
    "duration": 21,
    "start_time": "2021-10-31T15:18:45.638Z"
   },
   {
    "duration": 2028,
    "start_time": "2021-10-31T15:18:45.661Z"
   },
   {
    "duration": 321,
    "start_time": "2021-10-31T15:18:47.691Z"
   },
   {
    "duration": 12,
    "start_time": "2021-10-31T15:18:48.014Z"
   },
   {
    "duration": 16,
    "start_time": "2021-10-31T15:18:48.028Z"
   },
   {
    "duration": 30,
    "start_time": "2021-10-31T15:18:48.046Z"
   },
   {
    "duration": 3,
    "start_time": "2021-10-31T15:23:14.404Z"
   },
   {
    "duration": 40,
    "start_time": "2021-10-31T15:23:14.409Z"
   },
   {
    "duration": 40,
    "start_time": "2021-10-31T15:23:14.452Z"
   },
   {
    "duration": 68,
    "start_time": "2021-10-31T15:23:14.495Z"
   },
   {
    "duration": 9,
    "start_time": "2021-10-31T15:23:14.565Z"
   },
   {
    "duration": 304,
    "start_time": "2021-10-31T15:23:14.575Z"
   },
   {
    "duration": 12,
    "start_time": "2021-10-31T15:23:14.881Z"
   },
   {
    "duration": 1992,
    "start_time": "2021-10-31T15:23:14.895Z"
   },
   {
    "duration": 332,
    "start_time": "2021-10-31T15:23:16.889Z"
   },
   {
    "duration": 23,
    "start_time": "2021-10-31T15:23:17.223Z"
   },
   {
    "duration": 9,
    "start_time": "2021-10-31T15:23:17.248Z"
   },
   {
    "duration": 19,
    "start_time": "2021-10-31T15:23:17.259Z"
   },
   {
    "duration": 290,
    "start_time": "2021-10-31T15:28:54.690Z"
   },
   {
    "duration": 2252,
    "start_time": "2021-10-31T15:32:24.840Z"
   },
   {
    "duration": 2299,
    "start_time": "2021-10-31T15:32:50.745Z"
   },
   {
    "duration": 2115,
    "start_time": "2021-10-31T15:34:07.895Z"
   },
   {
    "duration": 583,
    "start_time": "2021-10-31T15:41:20.431Z"
   },
   {
    "duration": 497,
    "start_time": "2021-10-31T15:41:37.781Z"
   },
   {
    "duration": 516,
    "start_time": "2021-10-31T15:41:47.428Z"
   },
   {
    "duration": 278,
    "start_time": "2021-10-31T15:41:59.113Z"
   },
   {
    "duration": 1128,
    "start_time": "2021-10-31T15:46:06.672Z"
   },
   {
    "duration": 30,
    "start_time": "2021-10-31T15:46:07.802Z"
   },
   {
    "duration": 40,
    "start_time": "2021-10-31T15:46:07.835Z"
   },
   {
    "duration": 32,
    "start_time": "2021-10-31T15:46:07.876Z"
   },
   {
    "duration": 35,
    "start_time": "2021-10-31T15:46:07.909Z"
   },
   {
    "duration": 334,
    "start_time": "2021-10-31T15:46:07.946Z"
   },
   {
    "duration": 16,
    "start_time": "2021-10-31T15:46:08.281Z"
   },
   {
    "duration": 2287,
    "start_time": "2021-10-31T15:46:08.299Z"
   },
   {
    "duration": 315,
    "start_time": "2021-10-31T15:46:10.588Z"
   },
   {
    "duration": 13,
    "start_time": "2021-10-31T15:46:10.905Z"
   },
   {
    "duration": 6,
    "start_time": "2021-10-31T15:46:10.920Z"
   },
   {
    "duration": 26,
    "start_time": "2021-10-31T15:46:10.928Z"
   }
  ],
  "kernelspec": {
   "display_name": "Python 3 (ipykernel)",
   "language": "python",
   "name": "python3"
  },
  "language_info": {
   "codemirror_mode": {
    "name": "ipython",
    "version": 3
   },
   "file_extension": ".py",
   "mimetype": "text/x-python",
   "name": "python",
   "nbconvert_exporter": "python",
   "pygments_lexer": "ipython3",
   "version": "3.10.4"
  },
  "toc": {
   "base_numbering": 1,
   "nav_menu": {},
   "number_sections": true,
   "sideBar": true,
   "skip_h1_title": true,
   "title_cell": "Table of Contents",
   "title_sidebar": "Contents",
   "toc_cell": false,
   "toc_position": {},
   "toc_section_display": true,
   "toc_window_display": false
  }
 },
 "nbformat": 4,
 "nbformat_minor": 2
}
