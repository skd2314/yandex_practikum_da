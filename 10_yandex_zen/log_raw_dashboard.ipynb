{
 "cells": [
  {
   "cell_type": "markdown",
   "metadata": {},
   "source": [
    "## Импортируем библиотеки"
   ]
  },
  {
   "cell_type": "code",
   "execution_count": 1,
   "metadata": {},
   "outputs": [],
   "source": [
    "import pandas as pd\n",
    "from sqlalchemy import create_engine\n",
    "\n",
    "import dash\n",
    "import dash_core_components as dcc\n",
    "import dash_html_components as html\n",
    "from dash.dependencies import Input, Output\n",
    "\n",
    "import seaborn as sns\n",
    "import math\n",
    "import numpy as np\n",
    "from scipy import stats as st\n",
    "\n",
    "import plotly.express as px\n",
    "import plotly.graph_objs as go\n",
    "from plotly.offline import iplot\n",
    "from plotly import graph_objects as go\n",
    "import matplotlib.pyplot as plt\n",
    "import matplotlib.dates as mdates\n",
    "from warnings import simplefilter\n",
    "\n"
   ]
  },
  {
   "cell_type": "markdown",
   "metadata": {},
   "source": [
    "## Создаём коннекцию к базе"
   ]
  },
  {
   "cell_type": "code",
   "execution_count": 2,
   "metadata": {},
   "outputs": [],
   "source": [
    "\n",
    "\n",
    "db_config = {'user': 'praktikum_student', # имя пользователя\n",
    "            'pwd': 'Sdf4$2;d-d30pp', # пароль\n",
    "            'host': 'rc1b-wcoijxj3yxfsf3fs.mdb.yandexcloud.net',\n",
    "            'port': 6432, # порт подключения\n",
    "            'db': 'data-analyst-zen-project-db'} # название базы данных\n",
    "\n",
    "connection_string = 'postgresql://{}:{}@{}:{}/{}'.format(db_config['user'],\n",
    "                                                db_config['pwd'],\n",
    "                                                db_config['host'],\n",
    "                                                db_config['port'],\n",
    "                                                db_config['db'])\n",
    "\n",
    "engine = create_engine(connection_string) "
   ]
  },
  {
   "cell_type": "code",
   "execution_count": 3,
   "metadata": {},
   "outputs": [
    {
     "data": {
      "text/html": [
       "<div>\n",
       "<style scoped>\n",
       "    .dataframe tbody tr th:only-of-type {\n",
       "        vertical-align: middle;\n",
       "    }\n",
       "\n",
       "    .dataframe tbody tr th {\n",
       "        vertical-align: top;\n",
       "    }\n",
       "\n",
       "    .dataframe thead th {\n",
       "        text-align: right;\n",
       "    }\n",
       "</style>\n",
       "<table border=\"1\" class=\"dataframe\">\n",
       "  <thead>\n",
       "    <tr style=\"text-align: right;\">\n",
       "      <th></th>\n",
       "      <th>age_segment</th>\n",
       "      <th>event</th>\n",
       "      <th>item_id</th>\n",
       "      <th>item_topic</th>\n",
       "      <th>item_type</th>\n",
       "      <th>source_id</th>\n",
       "      <th>source_topic</th>\n",
       "      <th>source_type</th>\n",
       "      <th>ts</th>\n",
       "      <th>user_id</th>\n",
       "    </tr>\n",
       "    <tr>\n",
       "      <th>event_id</th>\n",
       "      <th></th>\n",
       "      <th></th>\n",
       "      <th></th>\n",
       "      <th></th>\n",
       "      <th></th>\n",
       "      <th></th>\n",
       "      <th></th>\n",
       "      <th></th>\n",
       "      <th></th>\n",
       "      <th></th>\n",
       "    </tr>\n",
       "  </thead>\n",
       "  <tbody>\n",
       "    <tr>\n",
       "      <th>2931262</th>\n",
       "      <td>18-25</td>\n",
       "      <td>show</td>\n",
       "      <td>1793260</td>\n",
       "      <td>Красота</td>\n",
       "      <td>native</td>\n",
       "      <td>8388799</td>\n",
       "      <td>История</td>\n",
       "      <td>publisher</td>\n",
       "      <td>1569349657638</td>\n",
       "      <td>2185026</td>\n",
       "    </tr>\n",
       "    <tr>\n",
       "      <th>2931277</th>\n",
       "      <td>18-25</td>\n",
       "      <td>show</td>\n",
       "      <td>7465641</td>\n",
       "      <td>Культура</td>\n",
       "      <td>native</td>\n",
       "      <td>5837959</td>\n",
       "      <td>История</td>\n",
       "      <td>publisher</td>\n",
       "      <td>1569349657971</td>\n",
       "      <td>6845238</td>\n",
       "    </tr>\n",
       "    <tr>\n",
       "      <th>2931285</th>\n",
       "      <td>18-25</td>\n",
       "      <td>show</td>\n",
       "      <td>406073</td>\n",
       "      <td>История</td>\n",
       "      <td>url</td>\n",
       "      <td>2335872</td>\n",
       "      <td>Сад и дача</td>\n",
       "      <td>domain</td>\n",
       "      <td>1569349658408</td>\n",
       "      <td>5244363</td>\n",
       "    </tr>\n",
       "    <tr>\n",
       "      <th>2931247</th>\n",
       "      <td>26-30</td>\n",
       "      <td>show</td>\n",
       "      <td>752665</td>\n",
       "      <td>Путешествия</td>\n",
       "      <td>native</td>\n",
       "      <td>6963489</td>\n",
       "      <td>Здоровье</td>\n",
       "      <td>publisher</td>\n",
       "      <td>1569349657189</td>\n",
       "      <td>7553074</td>\n",
       "    </tr>\n",
       "    <tr>\n",
       "      <th>2931278</th>\n",
       "      <td>26-30</td>\n",
       "      <td>click</td>\n",
       "      <td>6843081</td>\n",
       "      <td>Юмор</td>\n",
       "      <td>url</td>\n",
       "      <td>5427748</td>\n",
       "      <td>Семейные отношения</td>\n",
       "      <td>domain</td>\n",
       "      <td>1569349658054</td>\n",
       "      <td>1317585</td>\n",
       "    </tr>\n",
       "  </tbody>\n",
       "</table>\n",
       "</div>"
      ],
      "text/plain": [
       "         age_segment  event  item_id   item_topic item_type  source_id  \\\n",
       "event_id                                                                 \n",
       "2931262        18-25   show  1793260      Красота    native    8388799   \n",
       "2931277        18-25   show  7465641     Культура    native    5837959   \n",
       "2931285        18-25   show   406073      История       url    2335872   \n",
       "2931247        26-30   show   752665  Путешествия    native    6963489   \n",
       "2931278        26-30  click  6843081         Юмор       url    5427748   \n",
       "\n",
       "                source_topic source_type             ts  user_id  \n",
       "event_id                                                          \n",
       "2931262              История   publisher  1569349657638  2185026  \n",
       "2931277              История   publisher  1569349657971  6845238  \n",
       "2931285           Сад и дача      domain  1569349658408  5244363  \n",
       "2931247             Здоровье   publisher  1569349657189  7553074  \n",
       "2931278   Семейные отношения      domain  1569349658054  1317585  "
      ]
     },
     "execution_count": 3,
     "metadata": {},
     "output_type": "execute_result"
    }
   ],
   "source": [
    "# получаем сырые данные\n",
    "query = '''\n",
    "            SELECT * \n",
    "            FROM log_raw\n",
    "        '''\n",
    "log_raw = pd.io.sql.read_sql(query, con=engine, index_col='event_id')\n",
    "\n",
    "log_raw.to_csv('log_raw.csv', index=False)\n",
    "\n",
    "log_raw.head(5) "
   ]
  },
  {
   "cell_type": "markdown",
   "metadata": {},
   "source": [
    "## Изучаем данные"
   ]
  },
  {
   "cell_type": "code",
   "execution_count": 4,
   "metadata": {},
   "outputs": [
    {
     "data": {
      "text/plain": [
       "'______________info_____________________'"
      ]
     },
     "metadata": {},
     "output_type": "display_data"
    },
    {
     "name": "stdout",
     "output_type": "stream",
     "text": [
      "<class 'pandas.core.frame.DataFrame'>\n",
      "Int64Index: 322391 entries, 2931262 to 4396838\n",
      "Data columns (total 10 columns):\n",
      " #   Column        Non-Null Count   Dtype \n",
      "---  ------        --------------   ----- \n",
      " 0   age_segment   322391 non-null  object\n",
      " 1   event         322391 non-null  object\n",
      " 2   item_id       322391 non-null  int64 \n",
      " 3   item_topic    322391 non-null  object\n",
      " 4   item_type     322391 non-null  object\n",
      " 5   source_id     322391 non-null  int64 \n",
      " 6   source_topic  322391 non-null  object\n",
      " 7   source_type   322391 non-null  object\n",
      " 8   ts            322391 non-null  int64 \n",
      " 9   user_id       322391 non-null  int64 \n",
      "dtypes: int64(4), object(6)\n",
      "memory usage: 27.1+ MB\n"
     ]
    },
    {
     "data": {
      "text/plain": [
       "None"
      ]
     },
     "metadata": {},
     "output_type": "display_data"
    },
    {
     "data": {
      "text/plain": [
       "'______________describe_________________'"
      ]
     },
     "metadata": {},
     "output_type": "display_data"
    },
    {
     "data": {
      "text/html": [
       "<div>\n",
       "<style scoped>\n",
       "    .dataframe tbody tr th:only-of-type {\n",
       "        vertical-align: middle;\n",
       "    }\n",
       "\n",
       "    .dataframe tbody tr th {\n",
       "        vertical-align: top;\n",
       "    }\n",
       "\n",
       "    .dataframe thead th {\n",
       "        text-align: right;\n",
       "    }\n",
       "</style>\n",
       "<table border=\"1\" class=\"dataframe\">\n",
       "  <thead>\n",
       "    <tr style=\"text-align: right;\">\n",
       "      <th></th>\n",
       "      <th>item_id</th>\n",
       "      <th>source_id</th>\n",
       "      <th>ts</th>\n",
       "      <th>user_id</th>\n",
       "    </tr>\n",
       "  </thead>\n",
       "  <tbody>\n",
       "    <tr>\n",
       "      <th>count</th>\n",
       "      <td>3.223910e+05</td>\n",
       "      <td>3.223910e+05</td>\n",
       "      <td>3.223910e+05</td>\n",
       "      <td>3.223910e+05</td>\n",
       "    </tr>\n",
       "    <tr>\n",
       "      <th>mean</th>\n",
       "      <td>4.907860e+06</td>\n",
       "      <td>4.974883e+06</td>\n",
       "      <td>1.569351e+12</td>\n",
       "      <td>4.988528e+06</td>\n",
       "    </tr>\n",
       "    <tr>\n",
       "      <th>std</th>\n",
       "      <td>2.918019e+06</td>\n",
       "      <td>2.865432e+06</td>\n",
       "      <td>3.253844e+05</td>\n",
       "      <td>2.898068e+06</td>\n",
       "    </tr>\n",
       "    <tr>\n",
       "      <th>min</th>\n",
       "      <td>1.160000e+02</td>\n",
       "      <td>3.484000e+03</td>\n",
       "      <td>1.569350e+12</td>\n",
       "      <td>1.600000e+01</td>\n",
       "    </tr>\n",
       "    <tr>\n",
       "      <th>25%</th>\n",
       "      <td>2.306626e+06</td>\n",
       "      <td>2.613120e+06</td>\n",
       "      <td>1.569351e+12</td>\n",
       "      <td>2.481560e+06</td>\n",
       "    </tr>\n",
       "    <tr>\n",
       "      <th>50%</th>\n",
       "      <td>4.874690e+06</td>\n",
       "      <td>4.862937e+06</td>\n",
       "      <td>1.569351e+12</td>\n",
       "      <td>4.957050e+06</td>\n",
       "    </tr>\n",
       "    <tr>\n",
       "      <th>75%</th>\n",
       "      <td>7.508017e+06</td>\n",
       "      <td>7.573313e+06</td>\n",
       "      <td>1.569352e+12</td>\n",
       "      <td>7.512082e+06</td>\n",
       "    </tr>\n",
       "    <tr>\n",
       "      <th>max</th>\n",
       "      <td>9.999779e+06</td>\n",
       "      <td>9.999497e+06</td>\n",
       "      <td>1.569352e+12</td>\n",
       "      <td>9.999930e+06</td>\n",
       "    </tr>\n",
       "  </tbody>\n",
       "</table>\n",
       "</div>"
      ],
      "text/plain": [
       "            item_id     source_id            ts       user_id\n",
       "count  3.223910e+05  3.223910e+05  3.223910e+05  3.223910e+05\n",
       "mean   4.907860e+06  4.974883e+06  1.569351e+12  4.988528e+06\n",
       "std    2.918019e+06  2.865432e+06  3.253844e+05  2.898068e+06\n",
       "min    1.160000e+02  3.484000e+03  1.569350e+12  1.600000e+01\n",
       "25%    2.306626e+06  2.613120e+06  1.569351e+12  2.481560e+06\n",
       "50%    4.874690e+06  4.862937e+06  1.569351e+12  4.957050e+06\n",
       "75%    7.508017e+06  7.573313e+06  1.569352e+12  7.512082e+06\n",
       "max    9.999779e+06  9.999497e+06  1.569352e+12  9.999930e+06"
      ]
     },
     "metadata": {},
     "output_type": "display_data"
    },
    {
     "data": {
      "text/plain": [
       "'______________head_____________________'"
      ]
     },
     "metadata": {},
     "output_type": "display_data"
    },
    {
     "data": {
      "text/html": [
       "<div>\n",
       "<style scoped>\n",
       "    .dataframe tbody tr th:only-of-type {\n",
       "        vertical-align: middle;\n",
       "    }\n",
       "\n",
       "    .dataframe tbody tr th {\n",
       "        vertical-align: top;\n",
       "    }\n",
       "\n",
       "    .dataframe thead th {\n",
       "        text-align: right;\n",
       "    }\n",
       "</style>\n",
       "<table border=\"1\" class=\"dataframe\">\n",
       "  <thead>\n",
       "    <tr style=\"text-align: right;\">\n",
       "      <th></th>\n",
       "      <th>age_segment</th>\n",
       "      <th>event</th>\n",
       "      <th>item_id</th>\n",
       "      <th>item_topic</th>\n",
       "      <th>item_type</th>\n",
       "      <th>source_id</th>\n",
       "      <th>source_topic</th>\n",
       "      <th>source_type</th>\n",
       "      <th>ts</th>\n",
       "      <th>user_id</th>\n",
       "    </tr>\n",
       "    <tr>\n",
       "      <th>event_id</th>\n",
       "      <th></th>\n",
       "      <th></th>\n",
       "      <th></th>\n",
       "      <th></th>\n",
       "      <th></th>\n",
       "      <th></th>\n",
       "      <th></th>\n",
       "      <th></th>\n",
       "      <th></th>\n",
       "      <th></th>\n",
       "    </tr>\n",
       "  </thead>\n",
       "  <tbody>\n",
       "    <tr>\n",
       "      <th>2931262</th>\n",
       "      <td>18-25</td>\n",
       "      <td>show</td>\n",
       "      <td>1793260</td>\n",
       "      <td>Красота</td>\n",
       "      <td>native</td>\n",
       "      <td>8388799</td>\n",
       "      <td>История</td>\n",
       "      <td>publisher</td>\n",
       "      <td>1569349657638</td>\n",
       "      <td>2185026</td>\n",
       "    </tr>\n",
       "    <tr>\n",
       "      <th>2931277</th>\n",
       "      <td>18-25</td>\n",
       "      <td>show</td>\n",
       "      <td>7465641</td>\n",
       "      <td>Культура</td>\n",
       "      <td>native</td>\n",
       "      <td>5837959</td>\n",
       "      <td>История</td>\n",
       "      <td>publisher</td>\n",
       "      <td>1569349657971</td>\n",
       "      <td>6845238</td>\n",
       "    </tr>\n",
       "    <tr>\n",
       "      <th>2931285</th>\n",
       "      <td>18-25</td>\n",
       "      <td>show</td>\n",
       "      <td>406073</td>\n",
       "      <td>История</td>\n",
       "      <td>url</td>\n",
       "      <td>2335872</td>\n",
       "      <td>Сад и дача</td>\n",
       "      <td>domain</td>\n",
       "      <td>1569349658408</td>\n",
       "      <td>5244363</td>\n",
       "    </tr>\n",
       "    <tr>\n",
       "      <th>2931247</th>\n",
       "      <td>26-30</td>\n",
       "      <td>show</td>\n",
       "      <td>752665</td>\n",
       "      <td>Путешествия</td>\n",
       "      <td>native</td>\n",
       "      <td>6963489</td>\n",
       "      <td>Здоровье</td>\n",
       "      <td>publisher</td>\n",
       "      <td>1569349657189</td>\n",
       "      <td>7553074</td>\n",
       "    </tr>\n",
       "    <tr>\n",
       "      <th>2931278</th>\n",
       "      <td>26-30</td>\n",
       "      <td>click</td>\n",
       "      <td>6843081</td>\n",
       "      <td>Юмор</td>\n",
       "      <td>url</td>\n",
       "      <td>5427748</td>\n",
       "      <td>Семейные отношения</td>\n",
       "      <td>domain</td>\n",
       "      <td>1569349658054</td>\n",
       "      <td>1317585</td>\n",
       "    </tr>\n",
       "    <tr>\n",
       "      <th>2931239</th>\n",
       "      <td>31-35</td>\n",
       "      <td>show</td>\n",
       "      <td>3803320</td>\n",
       "      <td>Наука</td>\n",
       "      <td>url</td>\n",
       "      <td>9321222</td>\n",
       "      <td>Знаменитости</td>\n",
       "      <td>domain</td>\n",
       "      <td>1569349656520</td>\n",
       "      <td>1596831</td>\n",
       "    </tr>\n",
       "    <tr>\n",
       "      <th>2931294</th>\n",
       "      <td>36-40</td>\n",
       "      <td>click</td>\n",
       "      <td>4995713</td>\n",
       "      <td>Дети</td>\n",
       "      <td>native</td>\n",
       "      <td>8137788</td>\n",
       "      <td>Знаменитости</td>\n",
       "      <td>publisher</td>\n",
       "      <td>1569349658461</td>\n",
       "      <td>4498137</td>\n",
       "    </tr>\n",
       "    <tr>\n",
       "      <th>2931260</th>\n",
       "      <td>45+</td>\n",
       "      <td>show</td>\n",
       "      <td>6459474</td>\n",
       "      <td>Полезные советы</td>\n",
       "      <td>narrative_card</td>\n",
       "      <td>1576480</td>\n",
       "      <td>Россия</td>\n",
       "      <td>publisher</td>\n",
       "      <td>1569349657524</td>\n",
       "      <td>8959444</td>\n",
       "    </tr>\n",
       "    <tr>\n",
       "      <th>2931266</th>\n",
       "      <td>45+</td>\n",
       "      <td>show</td>\n",
       "      <td>349207</td>\n",
       "      <td>История</td>\n",
       "      <td>native</td>\n",
       "      <td>4422076</td>\n",
       "      <td>Путешествия</td>\n",
       "      <td>publisher</td>\n",
       "      <td>1569349657642</td>\n",
       "      <td>8172088</td>\n",
       "    </tr>\n",
       "    <tr>\n",
       "      <th>2931298</th>\n",
       "      <td>18-25</td>\n",
       "      <td>show</td>\n",
       "      <td>8438488</td>\n",
       "      <td>Шоу</td>\n",
       "      <td>native</td>\n",
       "      <td>2471071</td>\n",
       "      <td>Кино</td>\n",
       "      <td>publisher</td>\n",
       "      <td>1569349658522</td>\n",
       "      <td>4492894</td>\n",
       "    </tr>\n",
       "  </tbody>\n",
       "</table>\n",
       "</div>"
      ],
      "text/plain": [
       "         age_segment  event  item_id       item_topic       item_type  \\\n",
       "event_id                                                                \n",
       "2931262        18-25   show  1793260          Красота          native   \n",
       "2931277        18-25   show  7465641         Культура          native   \n",
       "2931285        18-25   show   406073          История             url   \n",
       "2931247        26-30   show   752665      Путешествия          native   \n",
       "2931278        26-30  click  6843081             Юмор             url   \n",
       "2931239        31-35   show  3803320            Наука             url   \n",
       "2931294        36-40  click  4995713             Дети          native   \n",
       "2931260          45+   show  6459474  Полезные советы  narrative_card   \n",
       "2931266          45+   show   349207          История          native   \n",
       "2931298        18-25   show  8438488              Шоу          native   \n",
       "\n",
       "          source_id        source_topic source_type             ts  user_id  \n",
       "event_id                                                                     \n",
       "2931262     8388799             История   publisher  1569349657638  2185026  \n",
       "2931277     5837959             История   publisher  1569349657971  6845238  \n",
       "2931285     2335872          Сад и дача      domain  1569349658408  5244363  \n",
       "2931247     6963489            Здоровье   publisher  1569349657189  7553074  \n",
       "2931278     5427748  Семейные отношения      domain  1569349658054  1317585  \n",
       "2931239     9321222        Знаменитости      domain  1569349656520  1596831  \n",
       "2931294     8137788        Знаменитости   publisher  1569349658461  4498137  \n",
       "2931260     1576480              Россия   publisher  1569349657524  8959444  \n",
       "2931266     4422076         Путешествия   publisher  1569349657642  8172088  \n",
       "2931298     2471071                Кино   publisher  1569349658522  4492894  "
      ]
     },
     "metadata": {},
     "output_type": "display_data"
    },
    {
     "data": {
      "text/plain": [
       "'______________sample___________________'"
      ]
     },
     "metadata": {},
     "output_type": "display_data"
    },
    {
     "data": {
      "text/html": [
       "<div>\n",
       "<style scoped>\n",
       "    .dataframe tbody tr th:only-of-type {\n",
       "        vertical-align: middle;\n",
       "    }\n",
       "\n",
       "    .dataframe tbody tr th {\n",
       "        vertical-align: top;\n",
       "    }\n",
       "\n",
       "    .dataframe thead th {\n",
       "        text-align: right;\n",
       "    }\n",
       "</style>\n",
       "<table border=\"1\" class=\"dataframe\">\n",
       "  <thead>\n",
       "    <tr style=\"text-align: right;\">\n",
       "      <th></th>\n",
       "      <th>age_segment</th>\n",
       "      <th>event</th>\n",
       "      <th>item_id</th>\n",
       "      <th>item_topic</th>\n",
       "      <th>item_type</th>\n",
       "      <th>source_id</th>\n",
       "      <th>source_topic</th>\n",
       "      <th>source_type</th>\n",
       "      <th>ts</th>\n",
       "      <th>user_id</th>\n",
       "    </tr>\n",
       "    <tr>\n",
       "      <th>event_id</th>\n",
       "      <th></th>\n",
       "      <th></th>\n",
       "      <th></th>\n",
       "      <th></th>\n",
       "      <th></th>\n",
       "      <th></th>\n",
       "      <th></th>\n",
       "      <th></th>\n",
       "      <th></th>\n",
       "      <th></th>\n",
       "    </tr>\n",
       "  </thead>\n",
       "  <tbody>\n",
       "    <tr>\n",
       "      <th>4390842</th>\n",
       "      <td>31-35</td>\n",
       "      <td>click</td>\n",
       "      <td>7527215</td>\n",
       "      <td>Здоровье</td>\n",
       "      <td>url</td>\n",
       "      <td>8851565</td>\n",
       "      <td>Путешествия</td>\n",
       "      <td>domain</td>\n",
       "      <td>1569351641614</td>\n",
       "      <td>2862400</td>\n",
       "    </tr>\n",
       "    <tr>\n",
       "      <th>4058508</th>\n",
       "      <td>31-35</td>\n",
       "      <td>show</td>\n",
       "      <td>8704194</td>\n",
       "      <td>Семья</td>\n",
       "      <td>native</td>\n",
       "      <td>2692676</td>\n",
       "      <td>Знаменитости</td>\n",
       "      <td>publisher</td>\n",
       "      <td>1569351520495</td>\n",
       "      <td>9208148</td>\n",
       "    </tr>\n",
       "    <tr>\n",
       "      <th>4253278</th>\n",
       "      <td>31-35</td>\n",
       "      <td>show</td>\n",
       "      <td>5121090</td>\n",
       "      <td>Семья</td>\n",
       "      <td>url</td>\n",
       "      <td>5633014</td>\n",
       "      <td>Полезные советы</td>\n",
       "      <td>domain</td>\n",
       "      <td>1569351567940</td>\n",
       "      <td>458011</td>\n",
       "    </tr>\n",
       "    <tr>\n",
       "      <th>3689333</th>\n",
       "      <td>41-45</td>\n",
       "      <td>show</td>\n",
       "      <td>3698403</td>\n",
       "      <td>Искусство</td>\n",
       "      <td>url</td>\n",
       "      <td>8988354</td>\n",
       "      <td>Семья</td>\n",
       "      <td>domain</td>\n",
       "      <td>1569351438861</td>\n",
       "      <td>1623034</td>\n",
       "    </tr>\n",
       "    <tr>\n",
       "      <th>3863584</th>\n",
       "      <td>18-25</td>\n",
       "      <td>show</td>\n",
       "      <td>3278426</td>\n",
       "      <td>Наука</td>\n",
       "      <td>url</td>\n",
       "      <td>8003506</td>\n",
       "      <td>Путешествия</td>\n",
       "      <td>domain</td>\n",
       "      <td>1569351476611</td>\n",
       "      <td>8670222</td>\n",
       "    </tr>\n",
       "    <tr>\n",
       "      <th>3910356</th>\n",
       "      <td>18-25</td>\n",
       "      <td>click</td>\n",
       "      <td>5979333</td>\n",
       "      <td>Наука</td>\n",
       "      <td>url</td>\n",
       "      <td>1924501</td>\n",
       "      <td>Дети</td>\n",
       "      <td>domain</td>\n",
       "      <td>1569351486930</td>\n",
       "      <td>8887682</td>\n",
       "    </tr>\n",
       "    <tr>\n",
       "      <th>4145340</th>\n",
       "      <td>26-30</td>\n",
       "      <td>click</td>\n",
       "      <td>6131330</td>\n",
       "      <td>Подборки</td>\n",
       "      <td>url</td>\n",
       "      <td>5427748</td>\n",
       "      <td>Семейные отношения</td>\n",
       "      <td>domain</td>\n",
       "      <td>1569351540992</td>\n",
       "      <td>2331355</td>\n",
       "    </tr>\n",
       "    <tr>\n",
       "      <th>3787289</th>\n",
       "      <td>31-35</td>\n",
       "      <td>show</td>\n",
       "      <td>4907623</td>\n",
       "      <td>Деньги</td>\n",
       "      <td>url</td>\n",
       "      <td>561976</td>\n",
       "      <td>Финансы</td>\n",
       "      <td>domain</td>\n",
       "      <td>1569351460027</td>\n",
       "      <td>4737685</td>\n",
       "    </tr>\n",
       "    <tr>\n",
       "      <th>3112892</th>\n",
       "      <td>31-35</td>\n",
       "      <td>show</td>\n",
       "      <td>2406257</td>\n",
       "      <td>Скандалы</td>\n",
       "      <td>native</td>\n",
       "      <td>6470225</td>\n",
       "      <td>Россия</td>\n",
       "      <td>publisher</td>\n",
       "      <td>1569351291751</td>\n",
       "      <td>1689984</td>\n",
       "    </tr>\n",
       "    <tr>\n",
       "      <th>3676064</th>\n",
       "      <td>18-25</td>\n",
       "      <td>show</td>\n",
       "      <td>7320449</td>\n",
       "      <td>Полезные советы</td>\n",
       "      <td>url</td>\n",
       "      <td>8482815</td>\n",
       "      <td>Путешествия</td>\n",
       "      <td>domain</td>\n",
       "      <td>1569351436002</td>\n",
       "      <td>7539091</td>\n",
       "    </tr>\n",
       "    <tr>\n",
       "      <th>3115256</th>\n",
       "      <td>18-25</td>\n",
       "      <td>show</td>\n",
       "      <td>6651755</td>\n",
       "      <td>Скандалы</td>\n",
       "      <td>narrative_card</td>\n",
       "      <td>6470225</td>\n",
       "      <td>Россия</td>\n",
       "      <td>publisher</td>\n",
       "      <td>1569351292836</td>\n",
       "      <td>7390709</td>\n",
       "    </tr>\n",
       "    <tr>\n",
       "      <th>4184475</th>\n",
       "      <td>36-40</td>\n",
       "      <td>view</td>\n",
       "      <td>7012839</td>\n",
       "      <td>Общество</td>\n",
       "      <td>native</td>\n",
       "      <td>2843391</td>\n",
       "      <td>Политика</td>\n",
       "      <td>publisher</td>\n",
       "      <td>1569351550538</td>\n",
       "      <td>3892194</td>\n",
       "    </tr>\n",
       "    <tr>\n",
       "      <th>3292997</th>\n",
       "      <td>26-30</td>\n",
       "      <td>show</td>\n",
       "      <td>5966390</td>\n",
       "      <td>Наука</td>\n",
       "      <td>native</td>\n",
       "      <td>4788263</td>\n",
       "      <td>Технологии</td>\n",
       "      <td>publisher</td>\n",
       "      <td>1569351352163</td>\n",
       "      <td>6347148</td>\n",
       "    </tr>\n",
       "    <tr>\n",
       "      <th>3131728</th>\n",
       "      <td>18-25</td>\n",
       "      <td>show</td>\n",
       "      <td>8612933</td>\n",
       "      <td>Полезные советы</td>\n",
       "      <td>url</td>\n",
       "      <td>7968940</td>\n",
       "      <td>Политика</td>\n",
       "      <td>domain</td>\n",
       "      <td>1569351299488</td>\n",
       "      <td>8581692</td>\n",
       "    </tr>\n",
       "    <tr>\n",
       "      <th>3363242</th>\n",
       "      <td>18-25</td>\n",
       "      <td>show</td>\n",
       "      <td>2309291</td>\n",
       "      <td>Туризм</td>\n",
       "      <td>native</td>\n",
       "      <td>5838056</td>\n",
       "      <td>Дети</td>\n",
       "      <td>publisher</td>\n",
       "      <td>1569351369225</td>\n",
       "      <td>5279388</td>\n",
       "    </tr>\n",
       "    <tr>\n",
       "      <th>3918977</th>\n",
       "      <td>31-35</td>\n",
       "      <td>show</td>\n",
       "      <td>6444187</td>\n",
       "      <td>Деньги</td>\n",
       "      <td>native</td>\n",
       "      <td>6000142</td>\n",
       "      <td>Семейные отношения</td>\n",
       "      <td>publisher</td>\n",
       "      <td>1569351488762</td>\n",
       "      <td>6423828</td>\n",
       "    </tr>\n",
       "    <tr>\n",
       "      <th>3963458</th>\n",
       "      <td>18-25</td>\n",
       "      <td>show</td>\n",
       "      <td>9509706</td>\n",
       "      <td>Интересные факты</td>\n",
       "      <td>native</td>\n",
       "      <td>7377897</td>\n",
       "      <td>Полезные советы</td>\n",
       "      <td>publisher</td>\n",
       "      <td>1569351498670</td>\n",
       "      <td>8430720</td>\n",
       "    </tr>\n",
       "    <tr>\n",
       "      <th>3459721</th>\n",
       "      <td>26-30</td>\n",
       "      <td>show</td>\n",
       "      <td>2306626</td>\n",
       "      <td>Рассказы</td>\n",
       "      <td>url</td>\n",
       "      <td>6381816</td>\n",
       "      <td>Путешествия</td>\n",
       "      <td>domain</td>\n",
       "      <td>1569351389764</td>\n",
       "      <td>7809610</td>\n",
       "    </tr>\n",
       "    <tr>\n",
       "      <th>3135026</th>\n",
       "      <td>26-30</td>\n",
       "      <td>show</td>\n",
       "      <td>1722564</td>\n",
       "      <td>Полезные советы</td>\n",
       "      <td>native</td>\n",
       "      <td>3158926</td>\n",
       "      <td>Семейные отношения</td>\n",
       "      <td>publisher</td>\n",
       "      <td>1569351300732</td>\n",
       "      <td>3851594</td>\n",
       "    </tr>\n",
       "    <tr>\n",
       "      <th>3180139</th>\n",
       "      <td>18-25</td>\n",
       "      <td>show</td>\n",
       "      <td>2306626</td>\n",
       "      <td>Рассказы</td>\n",
       "      <td>url</td>\n",
       "      <td>6381816</td>\n",
       "      <td>Путешествия</td>\n",
       "      <td>domain</td>\n",
       "      <td>1569351317445</td>\n",
       "      <td>8819430</td>\n",
       "    </tr>\n",
       "  </tbody>\n",
       "</table>\n",
       "</div>"
      ],
      "text/plain": [
       "         age_segment  event  item_id        item_topic       item_type  \\\n",
       "event_id                                                                 \n",
       "4390842        31-35  click  7527215          Здоровье             url   \n",
       "4058508        31-35   show  8704194             Семья          native   \n",
       "4253278        31-35   show  5121090             Семья             url   \n",
       "3689333        41-45   show  3698403         Искусство             url   \n",
       "3863584        18-25   show  3278426             Наука             url   \n",
       "3910356        18-25  click  5979333             Наука             url   \n",
       "4145340        26-30  click  6131330          Подборки             url   \n",
       "3787289        31-35   show  4907623            Деньги             url   \n",
       "3112892        31-35   show  2406257          Скандалы          native   \n",
       "3676064        18-25   show  7320449   Полезные советы             url   \n",
       "3115256        18-25   show  6651755          Скандалы  narrative_card   \n",
       "4184475        36-40   view  7012839          Общество          native   \n",
       "3292997        26-30   show  5966390             Наука          native   \n",
       "3131728        18-25   show  8612933   Полезные советы             url   \n",
       "3363242        18-25   show  2309291            Туризм          native   \n",
       "3918977        31-35   show  6444187            Деньги          native   \n",
       "3963458        18-25   show  9509706  Интересные факты          native   \n",
       "3459721        26-30   show  2306626          Рассказы             url   \n",
       "3135026        26-30   show  1722564   Полезные советы          native   \n",
       "3180139        18-25   show  2306626          Рассказы             url   \n",
       "\n",
       "          source_id        source_topic source_type             ts  user_id  \n",
       "event_id                                                                     \n",
       "4390842     8851565         Путешествия      domain  1569351641614  2862400  \n",
       "4058508     2692676        Знаменитости   publisher  1569351520495  9208148  \n",
       "4253278     5633014     Полезные советы      domain  1569351567940   458011  \n",
       "3689333     8988354               Семья      domain  1569351438861  1623034  \n",
       "3863584     8003506         Путешествия      domain  1569351476611  8670222  \n",
       "3910356     1924501                Дети      domain  1569351486930  8887682  \n",
       "4145340     5427748  Семейные отношения      domain  1569351540992  2331355  \n",
       "3787289      561976             Финансы      domain  1569351460027  4737685  \n",
       "3112892     6470225              Россия   publisher  1569351291751  1689984  \n",
       "3676064     8482815         Путешествия      domain  1569351436002  7539091  \n",
       "3115256     6470225              Россия   publisher  1569351292836  7390709  \n",
       "4184475     2843391            Политика   publisher  1569351550538  3892194  \n",
       "3292997     4788263          Технологии   publisher  1569351352163  6347148  \n",
       "3131728     7968940            Политика      domain  1569351299488  8581692  \n",
       "3363242     5838056                Дети   publisher  1569351369225  5279388  \n",
       "3918977     6000142  Семейные отношения   publisher  1569351488762  6423828  \n",
       "3963458     7377897     Полезные советы   publisher  1569351498670  8430720  \n",
       "3459721     6381816         Путешествия      domain  1569351389764  7809610  \n",
       "3135026     3158926  Семейные отношения   publisher  1569351300732  3851594  \n",
       "3180139     6381816         Путешествия      domain  1569351317445  8819430  "
      ]
     },
     "metadata": {},
     "output_type": "display_data"
    },
    {
     "data": {
      "text/plain": [
       "'______________tail_____________________'"
      ]
     },
     "metadata": {},
     "output_type": "display_data"
    },
    {
     "data": {
      "text/html": [
       "<div>\n",
       "<style scoped>\n",
       "    .dataframe tbody tr th:only-of-type {\n",
       "        vertical-align: middle;\n",
       "    }\n",
       "\n",
       "    .dataframe tbody tr th {\n",
       "        vertical-align: top;\n",
       "    }\n",
       "\n",
       "    .dataframe thead th {\n",
       "        text-align: right;\n",
       "    }\n",
       "</style>\n",
       "<table border=\"1\" class=\"dataframe\">\n",
       "  <thead>\n",
       "    <tr style=\"text-align: right;\">\n",
       "      <th></th>\n",
       "      <th>age_segment</th>\n",
       "      <th>event</th>\n",
       "      <th>item_id</th>\n",
       "      <th>item_topic</th>\n",
       "      <th>item_type</th>\n",
       "      <th>source_id</th>\n",
       "      <th>source_topic</th>\n",
       "      <th>source_type</th>\n",
       "      <th>ts</th>\n",
       "      <th>user_id</th>\n",
       "    </tr>\n",
       "    <tr>\n",
       "      <th>event_id</th>\n",
       "      <th></th>\n",
       "      <th></th>\n",
       "      <th></th>\n",
       "      <th></th>\n",
       "      <th></th>\n",
       "      <th></th>\n",
       "      <th></th>\n",
       "      <th></th>\n",
       "      <th></th>\n",
       "      <th></th>\n",
       "    </tr>\n",
       "  </thead>\n",
       "  <tbody>\n",
       "    <tr>\n",
       "      <th>4396823</th>\n",
       "      <td>18-25</td>\n",
       "      <td>show</td>\n",
       "      <td>373042</td>\n",
       "      <td>Юмор</td>\n",
       "      <td>native</td>\n",
       "      <td>9612036</td>\n",
       "      <td>Дети</td>\n",
       "      <td>publisher</td>\n",
       "      <td>1569351658854</td>\n",
       "      <td>2650912</td>\n",
       "    </tr>\n",
       "    <tr>\n",
       "      <th>4396824</th>\n",
       "      <td>18-25</td>\n",
       "      <td>show</td>\n",
       "      <td>7758213</td>\n",
       "      <td>Семья</td>\n",
       "      <td>url</td>\n",
       "      <td>8651701</td>\n",
       "      <td>Знаменитости</td>\n",
       "      <td>domain</td>\n",
       "      <td>1569351658854</td>\n",
       "      <td>2650912</td>\n",
       "    </tr>\n",
       "    <tr>\n",
       "      <th>4396816</th>\n",
       "      <td>26-30</td>\n",
       "      <td>click</td>\n",
       "      <td>6247520</td>\n",
       "      <td>Россия</td>\n",
       "      <td>native</td>\n",
       "      <td>8388799</td>\n",
       "      <td>История</td>\n",
       "      <td>publisher</td>\n",
       "      <td>1569351658740</td>\n",
       "      <td>4576710</td>\n",
       "    </tr>\n",
       "    <tr>\n",
       "      <th>4396817</th>\n",
       "      <td>26-30</td>\n",
       "      <td>show</td>\n",
       "      <td>6509942</td>\n",
       "      <td>Отношения</td>\n",
       "      <td>native</td>\n",
       "      <td>3205584</td>\n",
       "      <td>Деньги</td>\n",
       "      <td>publisher</td>\n",
       "      <td>1569351658746</td>\n",
       "      <td>1870531</td>\n",
       "    </tr>\n",
       "    <tr>\n",
       "      <th>4396821</th>\n",
       "      <td>26-30</td>\n",
       "      <td>show</td>\n",
       "      <td>5966390</td>\n",
       "      <td>Наука</td>\n",
       "      <td>native</td>\n",
       "      <td>4788263</td>\n",
       "      <td>Технологии</td>\n",
       "      <td>publisher</td>\n",
       "      <td>1569351658787</td>\n",
       "      <td>7969727</td>\n",
       "    </tr>\n",
       "    <tr>\n",
       "      <th>4396804</th>\n",
       "      <td>31-35</td>\n",
       "      <td>click</td>\n",
       "      <td>7273256</td>\n",
       "      <td>Наука</td>\n",
       "      <td>native</td>\n",
       "      <td>5451530</td>\n",
       "      <td>Сад и дача</td>\n",
       "      <td>publisher</td>\n",
       "      <td>1569351658610</td>\n",
       "      <td>1351271</td>\n",
       "    </tr>\n",
       "    <tr>\n",
       "      <th>4396814</th>\n",
       "      <td>31-35</td>\n",
       "      <td>show</td>\n",
       "      <td>4094446</td>\n",
       "      <td>Женская психология</td>\n",
       "      <td>narrative_card</td>\n",
       "      <td>4001238</td>\n",
       "      <td>Психология</td>\n",
       "      <td>publisher</td>\n",
       "      <td>1569351658738</td>\n",
       "      <td>4466455</td>\n",
       "    </tr>\n",
       "    <tr>\n",
       "      <th>4396836</th>\n",
       "      <td>18-25</td>\n",
       "      <td>show</td>\n",
       "      <td>5003354</td>\n",
       "      <td>Интересные факты</td>\n",
       "      <td>url</td>\n",
       "      <td>6371686</td>\n",
       "      <td>Полезные советы</td>\n",
       "      <td>domain</td>\n",
       "      <td>1569351659030</td>\n",
       "      <td>4916583</td>\n",
       "    </tr>\n",
       "    <tr>\n",
       "      <th>4396846</th>\n",
       "      <td>18-25</td>\n",
       "      <td>click</td>\n",
       "      <td>39740</td>\n",
       "      <td>Отношения</td>\n",
       "      <td>narrative_card</td>\n",
       "      <td>9829090</td>\n",
       "      <td>Семейные отношения</td>\n",
       "      <td>publisher</td>\n",
       "      <td>1569351659233</td>\n",
       "      <td>7962286</td>\n",
       "    </tr>\n",
       "    <tr>\n",
       "      <th>4396838</th>\n",
       "      <td>31-35</td>\n",
       "      <td>show</td>\n",
       "      <td>3317563</td>\n",
       "      <td>Общество</td>\n",
       "      <td>url</td>\n",
       "      <td>8280856</td>\n",
       "      <td>Деньги</td>\n",
       "      <td>domain</td>\n",
       "      <td>1569351659036</td>\n",
       "      <td>2720789</td>\n",
       "    </tr>\n",
       "  </tbody>\n",
       "</table>\n",
       "</div>"
      ],
      "text/plain": [
       "         age_segment  event  item_id          item_topic       item_type  \\\n",
       "event_id                                                                   \n",
       "4396823        18-25   show   373042                Юмор          native   \n",
       "4396824        18-25   show  7758213               Семья             url   \n",
       "4396816        26-30  click  6247520              Россия          native   \n",
       "4396817        26-30   show  6509942           Отношения          native   \n",
       "4396821        26-30   show  5966390               Наука          native   \n",
       "4396804        31-35  click  7273256               Наука          native   \n",
       "4396814        31-35   show  4094446  Женская психология  narrative_card   \n",
       "4396836        18-25   show  5003354    Интересные факты             url   \n",
       "4396846        18-25  click    39740           Отношения  narrative_card   \n",
       "4396838        31-35   show  3317563            Общество             url   \n",
       "\n",
       "          source_id        source_topic source_type             ts  user_id  \n",
       "event_id                                                                     \n",
       "4396823     9612036                Дети   publisher  1569351658854  2650912  \n",
       "4396824     8651701        Знаменитости      domain  1569351658854  2650912  \n",
       "4396816     8388799             История   publisher  1569351658740  4576710  \n",
       "4396817     3205584              Деньги   publisher  1569351658746  1870531  \n",
       "4396821     4788263          Технологии   publisher  1569351658787  7969727  \n",
       "4396804     5451530          Сад и дача   publisher  1569351658610  1351271  \n",
       "4396814     4001238          Психология   publisher  1569351658738  4466455  \n",
       "4396836     6371686     Полезные советы      domain  1569351659030  4916583  \n",
       "4396846     9829090  Семейные отношения   publisher  1569351659233  7962286  \n",
       "4396838     8280856              Деньги      domain  1569351659036  2720789  "
      ]
     },
     "metadata": {},
     "output_type": "display_data"
    },
    {
     "data": {
      "text/plain": [
       "'_____________isna______________________'"
      ]
     },
     "metadata": {},
     "output_type": "display_data"
    },
    {
     "data": {
      "text/html": [
       "<div>\n",
       "<style scoped>\n",
       "    .dataframe tbody tr th:only-of-type {\n",
       "        vertical-align: middle;\n",
       "    }\n",
       "\n",
       "    .dataframe tbody tr th {\n",
       "        vertical-align: top;\n",
       "    }\n",
       "\n",
       "    .dataframe thead th {\n",
       "        text-align: right;\n",
       "    }\n",
       "</style>\n",
       "<table border=\"1\" class=\"dataframe\">\n",
       "  <thead>\n",
       "    <tr style=\"text-align: right;\">\n",
       "      <th></th>\n",
       "      <th>index</th>\n",
       "      <th>0</th>\n",
       "    </tr>\n",
       "  </thead>\n",
       "  <tbody>\n",
       "    <tr>\n",
       "      <th>0</th>\n",
       "      <td>age_segment</td>\n",
       "      <td>0</td>\n",
       "    </tr>\n",
       "    <tr>\n",
       "      <th>1</th>\n",
       "      <td>event</td>\n",
       "      <td>0</td>\n",
       "    </tr>\n",
       "    <tr>\n",
       "      <th>2</th>\n",
       "      <td>item_id</td>\n",
       "      <td>0</td>\n",
       "    </tr>\n",
       "    <tr>\n",
       "      <th>3</th>\n",
       "      <td>item_topic</td>\n",
       "      <td>0</td>\n",
       "    </tr>\n",
       "    <tr>\n",
       "      <th>4</th>\n",
       "      <td>item_type</td>\n",
       "      <td>0</td>\n",
       "    </tr>\n",
       "    <tr>\n",
       "      <th>5</th>\n",
       "      <td>source_id</td>\n",
       "      <td>0</td>\n",
       "    </tr>\n",
       "    <tr>\n",
       "      <th>6</th>\n",
       "      <td>source_topic</td>\n",
       "      <td>0</td>\n",
       "    </tr>\n",
       "    <tr>\n",
       "      <th>7</th>\n",
       "      <td>source_type</td>\n",
       "      <td>0</td>\n",
       "    </tr>\n",
       "    <tr>\n",
       "      <th>8</th>\n",
       "      <td>ts</td>\n",
       "      <td>0</td>\n",
       "    </tr>\n",
       "    <tr>\n",
       "      <th>9</th>\n",
       "      <td>user_id</td>\n",
       "      <td>0</td>\n",
       "    </tr>\n",
       "  </tbody>\n",
       "</table>\n",
       "</div>"
      ],
      "text/plain": [
       "          index  0\n",
       "0   age_segment  0\n",
       "1         event  0\n",
       "2       item_id  0\n",
       "3    item_topic  0\n",
       "4     item_type  0\n",
       "5     source_id  0\n",
       "6  source_topic  0\n",
       "7   source_type  0\n",
       "8            ts  0\n",
       "9       user_id  0"
      ]
     },
     "metadata": {},
     "output_type": "display_data"
    },
    {
     "data": {
      "text/plain": [
       "'_____________duplicated________________'"
      ]
     },
     "metadata": {},
     "output_type": "display_data"
    },
    {
     "data": {
      "text/plain": [
       "0"
      ]
     },
     "metadata": {},
     "output_type": "display_data"
    },
    {
     "data": {
      "text/plain": [
       "'__количество пропущенных значений по каждому из столбцов__'"
      ]
     },
     "metadata": {},
     "output_type": "display_data"
    },
    {
     "data": {
      "text/html": [
       "<div>\n",
       "<style scoped>\n",
       "    .dataframe tbody tr th:only-of-type {\n",
       "        vertical-align: middle;\n",
       "    }\n",
       "\n",
       "    .dataframe tbody tr th {\n",
       "        vertical-align: top;\n",
       "    }\n",
       "\n",
       "    .dataframe thead th {\n",
       "        text-align: right;\n",
       "    }\n",
       "</style>\n",
       "<table border=\"1\" class=\"dataframe\">\n",
       "  <thead>\n",
       "    <tr style=\"text-align: right;\">\n",
       "      <th></th>\n",
       "      <th>index</th>\n",
       "      <th>0</th>\n",
       "    </tr>\n",
       "  </thead>\n",
       "  <tbody>\n",
       "    <tr>\n",
       "      <th>0</th>\n",
       "      <td>age_segment</td>\n",
       "      <td>0.0</td>\n",
       "    </tr>\n",
       "    <tr>\n",
       "      <th>1</th>\n",
       "      <td>event</td>\n",
       "      <td>0.0</td>\n",
       "    </tr>\n",
       "    <tr>\n",
       "      <th>2</th>\n",
       "      <td>item_id</td>\n",
       "      <td>0.0</td>\n",
       "    </tr>\n",
       "    <tr>\n",
       "      <th>3</th>\n",
       "      <td>item_topic</td>\n",
       "      <td>0.0</td>\n",
       "    </tr>\n",
       "    <tr>\n",
       "      <th>4</th>\n",
       "      <td>item_type</td>\n",
       "      <td>0.0</td>\n",
       "    </tr>\n",
       "    <tr>\n",
       "      <th>5</th>\n",
       "      <td>source_id</td>\n",
       "      <td>0.0</td>\n",
       "    </tr>\n",
       "    <tr>\n",
       "      <th>6</th>\n",
       "      <td>source_topic</td>\n",
       "      <td>0.0</td>\n",
       "    </tr>\n",
       "    <tr>\n",
       "      <th>7</th>\n",
       "      <td>source_type</td>\n",
       "      <td>0.0</td>\n",
       "    </tr>\n",
       "    <tr>\n",
       "      <th>8</th>\n",
       "      <td>ts</td>\n",
       "      <td>0.0</td>\n",
       "    </tr>\n",
       "    <tr>\n",
       "      <th>9</th>\n",
       "      <td>user_id</td>\n",
       "      <td>0.0</td>\n",
       "    </tr>\n",
       "  </tbody>\n",
       "</table>\n",
       "</div>"
      ],
      "text/plain": [
       "          index    0\n",
       "0   age_segment  0.0\n",
       "1         event  0.0\n",
       "2       item_id  0.0\n",
       "3    item_topic  0.0\n",
       "4     item_type  0.0\n",
       "5     source_id  0.0\n",
       "6  source_topic  0.0\n",
       "7   source_type  0.0\n",
       "8            ts  0.0\n",
       "9       user_id  0.0"
      ]
     },
     "metadata": {},
     "output_type": "display_data"
    }
   ],
   "source": [
    "list_df = (log_raw,)\n",
    "for list_df in list_df:\n",
    "    display('______________info_____________________')\n",
    "    display(list_df.info())\n",
    "    display('______________describe_________________')\n",
    "    display(list_df.describe())\n",
    "    display('______________head_____________________')\n",
    "    display(list_df.head(10))\n",
    "    display('______________sample___________________')\n",
    "    display(list_df.sample(20))\n",
    "    display('______________tail_____________________')\n",
    "    display(list_df.tail(10))\n",
    "    display('_____________isna______________________')\n",
    "    display(list_df.isna().sum().reset_index())\n",
    "    display('_____________duplicated________________')\n",
    "    display(list_df.duplicated().sum())\n",
    "    display('__количество пропущенных значений по каждому из столбцов__')\n",
    "    display(list_df.isnull().mean().reset_index())"
   ]
  },
  {
   "cell_type": "markdown",
   "metadata": {},
   "source": [
    "Вывод:\n",
    "* Данные из БД успешно выгружены в \"csv\" файл\n",
    "* Данные содержат 322391  строк и 10 колонок\n",
    "* Пропусков и дублей нет\n",
    "* Необходимо преобразовать данные из колонки `ts`\n"
   ]
  },
  {
   "cell_type": "markdown",
   "metadata": {},
   "source": [
    "## Подготовка данных"
   ]
  },
  {
   "cell_type": "code",
   "execution_count": 5,
   "metadata": {},
   "outputs": [
    {
     "data": {
      "text/html": [
       "<div>\n",
       "<style scoped>\n",
       "    .dataframe tbody tr th:only-of-type {\n",
       "        vertical-align: middle;\n",
       "    }\n",
       "\n",
       "    .dataframe tbody tr th {\n",
       "        vertical-align: top;\n",
       "    }\n",
       "\n",
       "    .dataframe thead th {\n",
       "        text-align: right;\n",
       "    }\n",
       "</style>\n",
       "<table border=\"1\" class=\"dataframe\">\n",
       "  <thead>\n",
       "    <tr style=\"text-align: right;\">\n",
       "      <th></th>\n",
       "      <th>age_segment</th>\n",
       "      <th>event</th>\n",
       "      <th>item_id</th>\n",
       "      <th>item_topic</th>\n",
       "      <th>item_type</th>\n",
       "      <th>source_id</th>\n",
       "      <th>source_topic</th>\n",
       "      <th>source_type</th>\n",
       "      <th>ts</th>\n",
       "      <th>user_id</th>\n",
       "      <th>event_time</th>\n",
       "    </tr>\n",
       "    <tr>\n",
       "      <th>event_id</th>\n",
       "      <th></th>\n",
       "      <th></th>\n",
       "      <th></th>\n",
       "      <th></th>\n",
       "      <th></th>\n",
       "      <th></th>\n",
       "      <th></th>\n",
       "      <th></th>\n",
       "      <th></th>\n",
       "      <th></th>\n",
       "      <th></th>\n",
       "    </tr>\n",
       "  </thead>\n",
       "  <tbody>\n",
       "    <tr>\n",
       "      <th>2931262</th>\n",
       "      <td>18-25</td>\n",
       "      <td>show</td>\n",
       "      <td>1793260</td>\n",
       "      <td>Красота</td>\n",
       "      <td>native</td>\n",
       "      <td>8388799</td>\n",
       "      <td>История</td>\n",
       "      <td>publisher</td>\n",
       "      <td>1569349657638</td>\n",
       "      <td>2185026</td>\n",
       "      <td>2019-09-24 18:27:37.638</td>\n",
       "    </tr>\n",
       "    <tr>\n",
       "      <th>2931277</th>\n",
       "      <td>18-25</td>\n",
       "      <td>show</td>\n",
       "      <td>7465641</td>\n",
       "      <td>Культура</td>\n",
       "      <td>native</td>\n",
       "      <td>5837959</td>\n",
       "      <td>История</td>\n",
       "      <td>publisher</td>\n",
       "      <td>1569349657971</td>\n",
       "      <td>6845238</td>\n",
       "      <td>2019-09-24 18:27:37.971</td>\n",
       "    </tr>\n",
       "    <tr>\n",
       "      <th>2931285</th>\n",
       "      <td>18-25</td>\n",
       "      <td>show</td>\n",
       "      <td>406073</td>\n",
       "      <td>История</td>\n",
       "      <td>url</td>\n",
       "      <td>2335872</td>\n",
       "      <td>Сад и дача</td>\n",
       "      <td>domain</td>\n",
       "      <td>1569349658408</td>\n",
       "      <td>5244363</td>\n",
       "      <td>2019-09-24 18:27:38.408</td>\n",
       "    </tr>\n",
       "    <tr>\n",
       "      <th>2931247</th>\n",
       "      <td>26-30</td>\n",
       "      <td>show</td>\n",
       "      <td>752665</td>\n",
       "      <td>Путешествия</td>\n",
       "      <td>native</td>\n",
       "      <td>6963489</td>\n",
       "      <td>Здоровье</td>\n",
       "      <td>publisher</td>\n",
       "      <td>1569349657189</td>\n",
       "      <td>7553074</td>\n",
       "      <td>2019-09-24 18:27:37.189</td>\n",
       "    </tr>\n",
       "    <tr>\n",
       "      <th>2931278</th>\n",
       "      <td>26-30</td>\n",
       "      <td>click</td>\n",
       "      <td>6843081</td>\n",
       "      <td>Юмор</td>\n",
       "      <td>url</td>\n",
       "      <td>5427748</td>\n",
       "      <td>Семейные отношения</td>\n",
       "      <td>domain</td>\n",
       "      <td>1569349658054</td>\n",
       "      <td>1317585</td>\n",
       "      <td>2019-09-24 18:27:38.054</td>\n",
       "    </tr>\n",
       "  </tbody>\n",
       "</table>\n",
       "</div>"
      ],
      "text/plain": [
       "         age_segment  event  item_id   item_topic item_type  source_id  \\\n",
       "event_id                                                                 \n",
       "2931262        18-25   show  1793260      Красота    native    8388799   \n",
       "2931277        18-25   show  7465641     Культура    native    5837959   \n",
       "2931285        18-25   show   406073      История       url    2335872   \n",
       "2931247        26-30   show   752665  Путешествия    native    6963489   \n",
       "2931278        26-30  click  6843081         Юмор       url    5427748   \n",
       "\n",
       "                source_topic source_type             ts  user_id  \\\n",
       "event_id                                                           \n",
       "2931262              История   publisher  1569349657638  2185026   \n",
       "2931277              История   publisher  1569349657971  6845238   \n",
       "2931285           Сад и дача      domain  1569349658408  5244363   \n",
       "2931247             Здоровье   publisher  1569349657189  7553074   \n",
       "2931278   Семейные отношения      domain  1569349658054  1317585   \n",
       "\n",
       "                      event_time  \n",
       "event_id                          \n",
       "2931262  2019-09-24 18:27:37.638  \n",
       "2931277  2019-09-24 18:27:37.971  \n",
       "2931285  2019-09-24 18:27:38.408  \n",
       "2931247  2019-09-24 18:27:37.189  \n",
       "2931278  2019-09-24 18:27:38.054  "
      ]
     },
     "execution_count": 5,
     "metadata": {},
     "output_type": "execute_result"
    }
   ],
   "source": [
    "log_raw['event_time'] = pd.to_datetime(log_raw['ts'], unit = 'ms')\n",
    "log_raw.head()"
   ]
  },
  {
   "cell_type": "markdown",
   "metadata": {},
   "source": []
  },
  {
   "cell_type": "markdown",
   "metadata": {},
   "source": [
    "## Изучим данные"
   ]
  },
  {
   "cell_type": "code",
   "execution_count": 6,
   "metadata": {},
   "outputs": [
    {
     "data": {
      "text/html": [
       "<div>\n",
       "<style scoped>\n",
       "    .dataframe tbody tr th:only-of-type {\n",
       "        vertical-align: middle;\n",
       "    }\n",
       "\n",
       "    .dataframe tbody tr th {\n",
       "        vertical-align: top;\n",
       "    }\n",
       "\n",
       "    .dataframe thead th {\n",
       "        text-align: right;\n",
       "    }\n",
       "</style>\n",
       "<table border=\"1\" class=\"dataframe\">\n",
       "  <thead>\n",
       "    <tr style=\"text-align: right;\">\n",
       "      <th></th>\n",
       "      <th>item_topic</th>\n",
       "      <th>source_topic</th>\n",
       "      <th>age_segment</th>\n",
       "      <th>event_time</th>\n",
       "      <th>user_id</th>\n",
       "    </tr>\n",
       "  </thead>\n",
       "  <tbody>\n",
       "    <tr>\n",
       "      <th>0</th>\n",
       "      <td>Деньги</td>\n",
       "      <td>Авто</td>\n",
       "      <td>18-25</td>\n",
       "      <td>2019-09-24 18:31:40.031</td>\n",
       "      <td>1</td>\n",
       "    </tr>\n",
       "    <tr>\n",
       "      <th>1</th>\n",
       "      <td>Деньги</td>\n",
       "      <td>Авто</td>\n",
       "      <td>18-25</td>\n",
       "      <td>2019-09-24 18:31:56.354</td>\n",
       "      <td>1</td>\n",
       "    </tr>\n",
       "    <tr>\n",
       "      <th>2</th>\n",
       "      <td>Деньги</td>\n",
       "      <td>Авто</td>\n",
       "      <td>18-25</td>\n",
       "      <td>2019-09-24 18:32:20.475</td>\n",
       "      <td>1</td>\n",
       "    </tr>\n",
       "    <tr>\n",
       "      <th>3</th>\n",
       "      <td>Деньги</td>\n",
       "      <td>Авто</td>\n",
       "      <td>18-25</td>\n",
       "      <td>2019-09-24 18:35:02.718</td>\n",
       "      <td>1</td>\n",
       "    </tr>\n",
       "    <tr>\n",
       "      <th>4</th>\n",
       "      <td>Деньги</td>\n",
       "      <td>Авто</td>\n",
       "      <td>18-25</td>\n",
       "      <td>2019-09-24 18:53:58.172</td>\n",
       "      <td>1</td>\n",
       "    </tr>\n",
       "  </tbody>\n",
       "</table>\n",
       "</div>"
      ],
      "text/plain": [
       "  item_topic source_topic age_segment              event_time  user_id\n",
       "0     Деньги         Авто       18-25 2019-09-24 18:31:40.031        1\n",
       "1     Деньги         Авто       18-25 2019-09-24 18:31:56.354        1\n",
       "2     Деньги         Авто       18-25 2019-09-24 18:32:20.475        1\n",
       "3     Деньги         Авто       18-25 2019-09-24 18:35:02.718        1\n",
       "4     Деньги         Авто       18-25 2019-09-24 18:53:58.172        1"
      ]
     },
     "execution_count": 6,
     "metadata": {},
     "output_type": "execute_result"
    }
   ],
   "source": [
    "dash_visits = log_raw.groupby(['item_topic', 'source_topic','age_segment','event_time'])\\\n",
    "                                                .agg({'user_id': 'count'}).reset_index()\n",
    "dash_visits.head()"
   ]
  },
  {
   "cell_type": "code",
   "execution_count": 7,
   "metadata": {},
   "outputs": [
    {
     "data": {
      "text/plain": [
       "array(['native', 'url', 'narrative_card', 'post'], dtype=object)"
      ]
     },
     "execution_count": 7,
     "metadata": {},
     "output_type": "execute_result"
    }
   ],
   "source": [
    "log_raw.item_type.unique()"
   ]
  },
  {
   "cell_type": "code",
   "execution_count": 8,
   "metadata": {},
   "outputs": [
    {
     "data": {
      "text/plain": [
       "array(['publisher', 'domain'], dtype=object)"
      ]
     },
     "execution_count": 8,
     "metadata": {},
     "output_type": "execute_result"
    }
   ],
   "source": [
    "log_raw.source_type.unique()"
   ]
  },
  {
   "cell_type": "markdown",
   "metadata": {},
   "source": [
    "Сгруппируем темы источника по способу взаимодействия пользователей с системой:"
   ]
  },
  {
   "cell_type": "code",
   "execution_count": 9,
   "metadata": {},
   "outputs": [
    {
     "data": {
      "text/html": [
       "<div>\n",
       "<style scoped>\n",
       "    .dataframe tbody tr th:only-of-type {\n",
       "        vertical-align: middle;\n",
       "    }\n",
       "\n",
       "    .dataframe tbody tr th {\n",
       "        vertical-align: top;\n",
       "    }\n",
       "\n",
       "    .dataframe thead th {\n",
       "        text-align: right;\n",
       "    }\n",
       "</style>\n",
       "<table border=\"1\" class=\"dataframe\">\n",
       "  <thead>\n",
       "    <tr style=\"text-align: right;\">\n",
       "      <th>event</th>\n",
       "      <th>source_topic</th>\n",
       "      <th>click</th>\n",
       "      <th>show</th>\n",
       "      <th>view</th>\n",
       "    </tr>\n",
       "  </thead>\n",
       "  <tbody>\n",
       "    <tr>\n",
       "      <th>20</th>\n",
       "      <td>Семейные отношения</td>\n",
       "      <td>2879</td>\n",
       "      <td>29678</td>\n",
       "      <td>2057</td>\n",
       "    </tr>\n",
       "    <tr>\n",
       "      <th>17</th>\n",
       "      <td>Россия</td>\n",
       "      <td>2251</td>\n",
       "      <td>27161</td>\n",
       "      <td>1608</td>\n",
       "    </tr>\n",
       "    <tr>\n",
       "      <th>12</th>\n",
       "      <td>Полезные советы</td>\n",
       "      <td>1957</td>\n",
       "      <td>24424</td>\n",
       "      <td>2156</td>\n",
       "    </tr>\n",
       "    <tr>\n",
       "      <th>15</th>\n",
       "      <td>Путешествия</td>\n",
       "      <td>1289</td>\n",
       "      <td>22417</td>\n",
       "      <td>1368</td>\n",
       "    </tr>\n",
       "    <tr>\n",
       "      <th>5</th>\n",
       "      <td>Знаменитости</td>\n",
       "      <td>2043</td>\n",
       "      <td>21211</td>\n",
       "      <td>1639</td>\n",
       "    </tr>\n",
       "    <tr>\n",
       "      <th>9</th>\n",
       "      <td>Кино</td>\n",
       "      <td>1579</td>\n",
       "      <td>17503</td>\n",
       "      <td>1802</td>\n",
       "    </tr>\n",
       "    <tr>\n",
       "      <th>2</th>\n",
       "      <td>Дети</td>\n",
       "      <td>1430</td>\n",
       "      <td>13241</td>\n",
       "      <td>1176</td>\n",
       "    </tr>\n",
       "    <tr>\n",
       "      <th>8</th>\n",
       "      <td>История</td>\n",
       "      <td>1101</td>\n",
       "      <td>12885</td>\n",
       "      <td>1190</td>\n",
       "    </tr>\n",
       "    <tr>\n",
       "      <th>21</th>\n",
       "      <td>Семья</td>\n",
       "      <td>1207</td>\n",
       "      <td>12072</td>\n",
       "      <td>1186</td>\n",
       "    </tr>\n",
       "    <tr>\n",
       "      <th>4</th>\n",
       "      <td>Здоровье</td>\n",
       "      <td>1071</td>\n",
       "      <td>11363</td>\n",
       "      <td>922</td>\n",
       "    </tr>\n",
       "    <tr>\n",
       "      <th>11</th>\n",
       "      <td>Одежда</td>\n",
       "      <td>938</td>\n",
       "      <td>10452</td>\n",
       "      <td>934</td>\n",
       "    </tr>\n",
       "    <tr>\n",
       "      <th>0</th>\n",
       "      <td>Авто</td>\n",
       "      <td>563</td>\n",
       "      <td>8761</td>\n",
       "      <td>630</td>\n",
       "    </tr>\n",
       "    <tr>\n",
       "      <th>7</th>\n",
       "      <td>Искусство</td>\n",
       "      <td>507</td>\n",
       "      <td>7179</td>\n",
       "      <td>665</td>\n",
       "    </tr>\n",
       "    <tr>\n",
       "      <th>13</th>\n",
       "      <td>Политика</td>\n",
       "      <td>612</td>\n",
       "      <td>6925</td>\n",
       "      <td>85</td>\n",
       "    </tr>\n",
       "    <tr>\n",
       "      <th>18</th>\n",
       "      <td>Сад и дача</td>\n",
       "      <td>460</td>\n",
       "      <td>6791</td>\n",
       "      <td>505</td>\n",
       "    </tr>\n",
       "    <tr>\n",
       "      <th>3</th>\n",
       "      <td>Еда</td>\n",
       "      <td>409</td>\n",
       "      <td>6213</td>\n",
       "      <td>545</td>\n",
       "    </tr>\n",
       "    <tr>\n",
       "      <th>19</th>\n",
       "      <td>Сделай сам</td>\n",
       "      <td>368</td>\n",
       "      <td>5747</td>\n",
       "      <td>406</td>\n",
       "    </tr>\n",
       "    <tr>\n",
       "      <th>16</th>\n",
       "      <td>Ремонт</td>\n",
       "      <td>375</td>\n",
       "      <td>5224</td>\n",
       "      <td>332</td>\n",
       "    </tr>\n",
       "    <tr>\n",
       "      <th>14</th>\n",
       "      <td>Психология</td>\n",
       "      <td>471</td>\n",
       "      <td>4924</td>\n",
       "      <td>534</td>\n",
       "    </tr>\n",
       "    <tr>\n",
       "      <th>22</th>\n",
       "      <td>Спорт</td>\n",
       "      <td>380</td>\n",
       "      <td>4778</td>\n",
       "      <td>273</td>\n",
       "    </tr>\n",
       "    <tr>\n",
       "      <th>1</th>\n",
       "      <td>Деньги</td>\n",
       "      <td>387</td>\n",
       "      <td>4574</td>\n",
       "      <td>393</td>\n",
       "    </tr>\n",
       "    <tr>\n",
       "      <th>6</th>\n",
       "      <td>Интерьеры</td>\n",
       "      <td>212</td>\n",
       "      <td>3359</td>\n",
       "      <td>188</td>\n",
       "    </tr>\n",
       "    <tr>\n",
       "      <th>24</th>\n",
       "      <td>Технологии</td>\n",
       "      <td>186</td>\n",
       "      <td>3322</td>\n",
       "      <td>114</td>\n",
       "    </tr>\n",
       "    <tr>\n",
       "      <th>23</th>\n",
       "      <td>Строительство</td>\n",
       "      <td>167</td>\n",
       "      <td>2768</td>\n",
       "      <td>176</td>\n",
       "    </tr>\n",
       "    <tr>\n",
       "      <th>10</th>\n",
       "      <td>Музыка</td>\n",
       "      <td>220</td>\n",
       "      <td>2621</td>\n",
       "      <td>133</td>\n",
       "    </tr>\n",
       "    <tr>\n",
       "      <th>25</th>\n",
       "      <td>Финансы</td>\n",
       "      <td>173</td>\n",
       "      <td>2376</td>\n",
       "      <td>170</td>\n",
       "    </tr>\n",
       "  </tbody>\n",
       "</table>\n",
       "</div>"
      ],
      "text/plain": [
       "event        source_topic  click   show  view\n",
       "20     Семейные отношения   2879  29678  2057\n",
       "17                 Россия   2251  27161  1608\n",
       "12        Полезные советы   1957  24424  2156\n",
       "15            Путешествия   1289  22417  1368\n",
       "5            Знаменитости   2043  21211  1639\n",
       "9                    Кино   1579  17503  1802\n",
       "2                    Дети   1430  13241  1176\n",
       "8                 История   1101  12885  1190\n",
       "21                  Семья   1207  12072  1186\n",
       "4                Здоровье   1071  11363   922\n",
       "11                 Одежда    938  10452   934\n",
       "0                    Авто    563   8761   630\n",
       "7               Искусство    507   7179   665\n",
       "13               Политика    612   6925    85\n",
       "18             Сад и дача    460   6791   505\n",
       "3                     Еда    409   6213   545\n",
       "19             Сделай сам    368   5747   406\n",
       "16                 Ремонт    375   5224   332\n",
       "14             Психология    471   4924   534\n",
       "22                  Спорт    380   4778   273\n",
       "1                  Деньги    387   4574   393\n",
       "6               Интерьеры    212   3359   188\n",
       "24             Технологии    186   3322   114\n",
       "23          Строительство    167   2768   176\n",
       "10                 Музыка    220   2621   133\n",
       "25                Финансы    173   2376   170"
      ]
     },
     "execution_count": 9,
     "metadata": {},
     "output_type": "execute_result"
    }
   ],
   "source": [
    "log_raw_source = log_raw.pivot_table(index='source_topic', columns='event', values='item_topic', aggfunc='count')\\\n",
    "                                                            .reset_index().sort_values(by='show', ascending=False)\n",
    "log_raw_source"
   ]
  },
  {
   "cell_type": "code",
   "execution_count": 10,
   "metadata": {},
   "outputs": [
    {
     "data": {
      "application/vnd.plotly.v1+json": {
       "config": {
        "plotlyServerURL": "https://plot.ly"
       },
       "data": [
        {
         "marker": {
          "color": "#f0932b"
         },
         "name": "Карточка отображена для пользователя",
         "type": "bar",
         "x": [
          "Семейные отношения",
          "Россия",
          "Полезные советы",
          "Путешествия",
          "Знаменитости",
          "Кино",
          "Дети",
          "История",
          "Семья",
          "Здоровье",
          "Одежда",
          "Авто",
          "Искусство",
          "Политика",
          "Сад и дача",
          "Еда",
          "Сделай сам",
          "Ремонт",
          "Психология",
          "Спорт",
          "Деньги",
          "Интерьеры",
          "Технологии",
          "Строительство",
          "Музыка",
          "Финансы"
         ],
         "y": [
          2879,
          2251,
          1957,
          1289,
          2043,
          1579,
          1430,
          1101,
          1207,
          1071,
          938,
          563,
          507,
          612,
          460,
          409,
          368,
          375,
          471,
          380,
          387,
          212,
          186,
          167,
          220,
          173
         ]
        },
        {
         "marker": {
          "color": "#686de0"
         },
         "name": "Пользователь кликнул на карточку",
         "type": "bar",
         "x": [
          "Семейные отношения",
          "Россия",
          "Полезные советы",
          "Путешествия",
          "Знаменитости",
          "Кино",
          "Дети",
          "История",
          "Семья",
          "Здоровье",
          "Одежда",
          "Авто",
          "Искусство",
          "Политика",
          "Сад и дача",
          "Еда",
          "Сделай сам",
          "Ремонт",
          "Психология",
          "Спорт",
          "Деньги",
          "Интерьеры",
          "Технологии",
          "Строительство",
          "Музыка",
          "Финансы"
         ],
         "y": [
          29678,
          27161,
          24424,
          22417,
          21211,
          17503,
          13241,
          12885,
          12072,
          11363,
          10452,
          8761,
          7179,
          6925,
          6791,
          6213,
          5747,
          5224,
          4924,
          4778,
          4574,
          3359,
          3322,
          2768,
          2621,
          2376
         ]
        },
        {
         "marker": {
          "color": "#22a6b3"
         },
         "name": "Пользователь просмотрел статью карточки",
         "type": "bar",
         "x": [
          "Семейные отношения",
          "Россия",
          "Полезные советы",
          "Путешествия",
          "Знаменитости",
          "Кино",
          "Дети",
          "История",
          "Семья",
          "Здоровье",
          "Одежда",
          "Авто",
          "Искусство",
          "Политика",
          "Сад и дача",
          "Еда",
          "Сделай сам",
          "Ремонт",
          "Психология",
          "Спорт",
          "Деньги",
          "Интерьеры",
          "Технологии",
          "Строительство",
          "Музыка",
          "Финансы"
         ],
         "y": [
          2057,
          1608,
          2156,
          1368,
          1639,
          1802,
          1176,
          1190,
          1186,
          922,
          934,
          630,
          665,
          85,
          505,
          545,
          406,
          332,
          534,
          273,
          393,
          188,
          114,
          176,
          133,
          170
         ]
        }
       ],
       "layout": {
        "barmode": "group",
        "template": {
         "data": {
          "bar": [
           {
            "error_x": {
             "color": "#2a3f5f"
            },
            "error_y": {
             "color": "#2a3f5f"
            },
            "marker": {
             "line": {
              "color": "#E5ECF6",
              "width": 0.5
             },
             "pattern": {
              "fillmode": "overlay",
              "size": 10,
              "solidity": 0.2
             }
            },
            "type": "bar"
           }
          ],
          "barpolar": [
           {
            "marker": {
             "line": {
              "color": "#E5ECF6",
              "width": 0.5
             },
             "pattern": {
              "fillmode": "overlay",
              "size": 10,
              "solidity": 0.2
             }
            },
            "type": "barpolar"
           }
          ],
          "carpet": [
           {
            "aaxis": {
             "endlinecolor": "#2a3f5f",
             "gridcolor": "white",
             "linecolor": "white",
             "minorgridcolor": "white",
             "startlinecolor": "#2a3f5f"
            },
            "baxis": {
             "endlinecolor": "#2a3f5f",
             "gridcolor": "white",
             "linecolor": "white",
             "minorgridcolor": "white",
             "startlinecolor": "#2a3f5f"
            },
            "type": "carpet"
           }
          ],
          "choropleth": [
           {
            "colorbar": {
             "outlinewidth": 0,
             "ticks": ""
            },
            "type": "choropleth"
           }
          ],
          "contour": [
           {
            "colorbar": {
             "outlinewidth": 0,
             "ticks": ""
            },
            "colorscale": [
             [
              0,
              "#0d0887"
             ],
             [
              0.1111111111111111,
              "#46039f"
             ],
             [
              0.2222222222222222,
              "#7201a8"
             ],
             [
              0.3333333333333333,
              "#9c179e"
             ],
             [
              0.4444444444444444,
              "#bd3786"
             ],
             [
              0.5555555555555556,
              "#d8576b"
             ],
             [
              0.6666666666666666,
              "#ed7953"
             ],
             [
              0.7777777777777778,
              "#fb9f3a"
             ],
             [
              0.8888888888888888,
              "#fdca26"
             ],
             [
              1,
              "#f0f921"
             ]
            ],
            "type": "contour"
           }
          ],
          "contourcarpet": [
           {
            "colorbar": {
             "outlinewidth": 0,
             "ticks": ""
            },
            "type": "contourcarpet"
           }
          ],
          "heatmap": [
           {
            "colorbar": {
             "outlinewidth": 0,
             "ticks": ""
            },
            "colorscale": [
             [
              0,
              "#0d0887"
             ],
             [
              0.1111111111111111,
              "#46039f"
             ],
             [
              0.2222222222222222,
              "#7201a8"
             ],
             [
              0.3333333333333333,
              "#9c179e"
             ],
             [
              0.4444444444444444,
              "#bd3786"
             ],
             [
              0.5555555555555556,
              "#d8576b"
             ],
             [
              0.6666666666666666,
              "#ed7953"
             ],
             [
              0.7777777777777778,
              "#fb9f3a"
             ],
             [
              0.8888888888888888,
              "#fdca26"
             ],
             [
              1,
              "#f0f921"
             ]
            ],
            "type": "heatmap"
           }
          ],
          "heatmapgl": [
           {
            "colorbar": {
             "outlinewidth": 0,
             "ticks": ""
            },
            "colorscale": [
             [
              0,
              "#0d0887"
             ],
             [
              0.1111111111111111,
              "#46039f"
             ],
             [
              0.2222222222222222,
              "#7201a8"
             ],
             [
              0.3333333333333333,
              "#9c179e"
             ],
             [
              0.4444444444444444,
              "#bd3786"
             ],
             [
              0.5555555555555556,
              "#d8576b"
             ],
             [
              0.6666666666666666,
              "#ed7953"
             ],
             [
              0.7777777777777778,
              "#fb9f3a"
             ],
             [
              0.8888888888888888,
              "#fdca26"
             ],
             [
              1,
              "#f0f921"
             ]
            ],
            "type": "heatmapgl"
           }
          ],
          "histogram": [
           {
            "marker": {
             "pattern": {
              "fillmode": "overlay",
              "size": 10,
              "solidity": 0.2
             }
            },
            "type": "histogram"
           }
          ],
          "histogram2d": [
           {
            "colorbar": {
             "outlinewidth": 0,
             "ticks": ""
            },
            "colorscale": [
             [
              0,
              "#0d0887"
             ],
             [
              0.1111111111111111,
              "#46039f"
             ],
             [
              0.2222222222222222,
              "#7201a8"
             ],
             [
              0.3333333333333333,
              "#9c179e"
             ],
             [
              0.4444444444444444,
              "#bd3786"
             ],
             [
              0.5555555555555556,
              "#d8576b"
             ],
             [
              0.6666666666666666,
              "#ed7953"
             ],
             [
              0.7777777777777778,
              "#fb9f3a"
             ],
             [
              0.8888888888888888,
              "#fdca26"
             ],
             [
              1,
              "#f0f921"
             ]
            ],
            "type": "histogram2d"
           }
          ],
          "histogram2dcontour": [
           {
            "colorbar": {
             "outlinewidth": 0,
             "ticks": ""
            },
            "colorscale": [
             [
              0,
              "#0d0887"
             ],
             [
              0.1111111111111111,
              "#46039f"
             ],
             [
              0.2222222222222222,
              "#7201a8"
             ],
             [
              0.3333333333333333,
              "#9c179e"
             ],
             [
              0.4444444444444444,
              "#bd3786"
             ],
             [
              0.5555555555555556,
              "#d8576b"
             ],
             [
              0.6666666666666666,
              "#ed7953"
             ],
             [
              0.7777777777777778,
              "#fb9f3a"
             ],
             [
              0.8888888888888888,
              "#fdca26"
             ],
             [
              1,
              "#f0f921"
             ]
            ],
            "type": "histogram2dcontour"
           }
          ],
          "mesh3d": [
           {
            "colorbar": {
             "outlinewidth": 0,
             "ticks": ""
            },
            "type": "mesh3d"
           }
          ],
          "parcoords": [
           {
            "line": {
             "colorbar": {
              "outlinewidth": 0,
              "ticks": ""
             }
            },
            "type": "parcoords"
           }
          ],
          "pie": [
           {
            "automargin": true,
            "type": "pie"
           }
          ],
          "scatter": [
           {
            "marker": {
             "colorbar": {
              "outlinewidth": 0,
              "ticks": ""
             }
            },
            "type": "scatter"
           }
          ],
          "scatter3d": [
           {
            "line": {
             "colorbar": {
              "outlinewidth": 0,
              "ticks": ""
             }
            },
            "marker": {
             "colorbar": {
              "outlinewidth": 0,
              "ticks": ""
             }
            },
            "type": "scatter3d"
           }
          ],
          "scattercarpet": [
           {
            "marker": {
             "colorbar": {
              "outlinewidth": 0,
              "ticks": ""
             }
            },
            "type": "scattercarpet"
           }
          ],
          "scattergeo": [
           {
            "marker": {
             "colorbar": {
              "outlinewidth": 0,
              "ticks": ""
             }
            },
            "type": "scattergeo"
           }
          ],
          "scattergl": [
           {
            "marker": {
             "colorbar": {
              "outlinewidth": 0,
              "ticks": ""
             }
            },
            "type": "scattergl"
           }
          ],
          "scattermapbox": [
           {
            "marker": {
             "colorbar": {
              "outlinewidth": 0,
              "ticks": ""
             }
            },
            "type": "scattermapbox"
           }
          ],
          "scatterpolar": [
           {
            "marker": {
             "colorbar": {
              "outlinewidth": 0,
              "ticks": ""
             }
            },
            "type": "scatterpolar"
           }
          ],
          "scatterpolargl": [
           {
            "marker": {
             "colorbar": {
              "outlinewidth": 0,
              "ticks": ""
             }
            },
            "type": "scatterpolargl"
           }
          ],
          "scatterternary": [
           {
            "marker": {
             "colorbar": {
              "outlinewidth": 0,
              "ticks": ""
             }
            },
            "type": "scatterternary"
           }
          ],
          "surface": [
           {
            "colorbar": {
             "outlinewidth": 0,
             "ticks": ""
            },
            "colorscale": [
             [
              0,
              "#0d0887"
             ],
             [
              0.1111111111111111,
              "#46039f"
             ],
             [
              0.2222222222222222,
              "#7201a8"
             ],
             [
              0.3333333333333333,
              "#9c179e"
             ],
             [
              0.4444444444444444,
              "#bd3786"
             ],
             [
              0.5555555555555556,
              "#d8576b"
             ],
             [
              0.6666666666666666,
              "#ed7953"
             ],
             [
              0.7777777777777778,
              "#fb9f3a"
             ],
             [
              0.8888888888888888,
              "#fdca26"
             ],
             [
              1,
              "#f0f921"
             ]
            ],
            "type": "surface"
           }
          ],
          "table": [
           {
            "cells": {
             "fill": {
              "color": "#EBF0F8"
             },
             "line": {
              "color": "white"
             }
            },
            "header": {
             "fill": {
              "color": "#C8D4E3"
             },
             "line": {
              "color": "white"
             }
            },
            "type": "table"
           }
          ]
         },
         "layout": {
          "annotationdefaults": {
           "arrowcolor": "#2a3f5f",
           "arrowhead": 0,
           "arrowwidth": 1
          },
          "autotypenumbers": "strict",
          "coloraxis": {
           "colorbar": {
            "outlinewidth": 0,
            "ticks": ""
           }
          },
          "colorscale": {
           "diverging": [
            [
             0,
             "#8e0152"
            ],
            [
             0.1,
             "#c51b7d"
            ],
            [
             0.2,
             "#de77ae"
            ],
            [
             0.3,
             "#f1b6da"
            ],
            [
             0.4,
             "#fde0ef"
            ],
            [
             0.5,
             "#f7f7f7"
            ],
            [
             0.6,
             "#e6f5d0"
            ],
            [
             0.7,
             "#b8e186"
            ],
            [
             0.8,
             "#7fbc41"
            ],
            [
             0.9,
             "#4d9221"
            ],
            [
             1,
             "#276419"
            ]
           ],
           "sequential": [
            [
             0,
             "#0d0887"
            ],
            [
             0.1111111111111111,
             "#46039f"
            ],
            [
             0.2222222222222222,
             "#7201a8"
            ],
            [
             0.3333333333333333,
             "#9c179e"
            ],
            [
             0.4444444444444444,
             "#bd3786"
            ],
            [
             0.5555555555555556,
             "#d8576b"
            ],
            [
             0.6666666666666666,
             "#ed7953"
            ],
            [
             0.7777777777777778,
             "#fb9f3a"
            ],
            [
             0.8888888888888888,
             "#fdca26"
            ],
            [
             1,
             "#f0f921"
            ]
           ],
           "sequentialminus": [
            [
             0,
             "#0d0887"
            ],
            [
             0.1111111111111111,
             "#46039f"
            ],
            [
             0.2222222222222222,
             "#7201a8"
            ],
            [
             0.3333333333333333,
             "#9c179e"
            ],
            [
             0.4444444444444444,
             "#bd3786"
            ],
            [
             0.5555555555555556,
             "#d8576b"
            ],
            [
             0.6666666666666666,
             "#ed7953"
            ],
            [
             0.7777777777777778,
             "#fb9f3a"
            ],
            [
             0.8888888888888888,
             "#fdca26"
            ],
            [
             1,
             "#f0f921"
            ]
           ]
          },
          "colorway": [
           "#636efa",
           "#EF553B",
           "#00cc96",
           "#ab63fa",
           "#FFA15A",
           "#19d3f3",
           "#FF6692",
           "#B6E880",
           "#FF97FF",
           "#FECB52"
          ],
          "font": {
           "color": "#2a3f5f"
          },
          "geo": {
           "bgcolor": "white",
           "lakecolor": "white",
           "landcolor": "#E5ECF6",
           "showlakes": true,
           "showland": true,
           "subunitcolor": "white"
          },
          "hoverlabel": {
           "align": "left"
          },
          "hovermode": "closest",
          "mapbox": {
           "style": "light"
          },
          "paper_bgcolor": "white",
          "plot_bgcolor": "#E5ECF6",
          "polar": {
           "angularaxis": {
            "gridcolor": "white",
            "linecolor": "white",
            "ticks": ""
           },
           "bgcolor": "#E5ECF6",
           "radialaxis": {
            "gridcolor": "white",
            "linecolor": "white",
            "ticks": ""
           }
          },
          "scene": {
           "xaxis": {
            "backgroundcolor": "#E5ECF6",
            "gridcolor": "white",
            "gridwidth": 2,
            "linecolor": "white",
            "showbackground": true,
            "ticks": "",
            "zerolinecolor": "white"
           },
           "yaxis": {
            "backgroundcolor": "#E5ECF6",
            "gridcolor": "white",
            "gridwidth": 2,
            "linecolor": "white",
            "showbackground": true,
            "ticks": "",
            "zerolinecolor": "white"
           },
           "zaxis": {
            "backgroundcolor": "#E5ECF6",
            "gridcolor": "white",
            "gridwidth": 2,
            "linecolor": "white",
            "showbackground": true,
            "ticks": "",
            "zerolinecolor": "white"
           }
          },
          "shapedefaults": {
           "line": {
            "color": "#2a3f5f"
           }
          },
          "ternary": {
           "aaxis": {
            "gridcolor": "white",
            "linecolor": "white",
            "ticks": ""
           },
           "baxis": {
            "gridcolor": "white",
            "linecolor": "white",
            "ticks": ""
           },
           "bgcolor": "#E5ECF6",
           "caxis": {
            "gridcolor": "white",
            "linecolor": "white",
            "ticks": ""
           }
          },
          "title": {
           "x": 0.05
          },
          "xaxis": {
           "automargin": true,
           "gridcolor": "white",
           "linecolor": "white",
           "ticks": "",
           "title": {
            "standoff": 15
           },
           "zerolinecolor": "white",
           "zerolinewidth": 2
          },
          "yaxis": {
           "automargin": true,
           "gridcolor": "white",
           "linecolor": "white",
           "ticks": "",
           "title": {
            "standoff": 15
           },
           "zerolinecolor": "white",
           "zerolinewidth": 2
          }
         }
        },
        "title": {
         "text": "Способы взаимодействия пользователей с системой",
         "x": 0.5,
         "xanchor": "center",
         "y": 0.85,
         "yanchor": "top"
        },
        "xaxis": {
         "tickangle": -45
        }
       }
      }
     },
     "metadata": {},
     "output_type": "display_data"
    }
   ],
   "source": [
    "fig = go.Figure()\n",
    "fig.add_trace(go.Bar(\n",
    "    y=log_raw_source['click'],\n",
    "    x=log_raw_source['source_topic'],\n",
    "    name='Карточка отображена для пользователя',\n",
    "    marker_color='#f0932b'\n",
    "))\n",
    "fig.add_trace(go.Bar(\n",
    "    y=log_raw_source['show'],\n",
    "    x=log_raw_source['source_topic'],\n",
    "    name='Пользователь кликнул на карточку',\n",
    "    marker_color='#686de0'\n",
    "))\n",
    "\n",
    "fig.add_trace(go.Bar(\n",
    "    y=log_raw_source['view'],\n",
    "    x=log_raw_source['source_topic'],\n",
    "    name='Пользователь просмотрел статью карточки',\n",
    "    marker_color='#22a6b3'\n",
    "))\n",
    "\n",
    "fig.update_layout(barmode='group', xaxis_tickangle=-45,\n",
    "        title={\n",
    "        'text': 'Способы взаимодействия пользователей с системой',\n",
    "        'y':0.85,\n",
    "        'x':0.5,\n",
    "        'xanchor': 'center',\n",
    "        'yanchor': 'top'})\n",
    "fig.show()"
   ]
  },
  {
   "cell_type": "markdown",
   "metadata": {},
   "source": [
    "Сгруппируем статьи по способу взаимодействия пользователей с системой:"
   ]
  },
  {
   "cell_type": "code",
   "execution_count": 11,
   "metadata": {},
   "outputs": [
    {
     "data": {
      "text/html": [
       "<div>\n",
       "<style scoped>\n",
       "    .dataframe tbody tr th:only-of-type {\n",
       "        vertical-align: middle;\n",
       "    }\n",
       "\n",
       "    .dataframe tbody tr th {\n",
       "        vertical-align: top;\n",
       "    }\n",
       "\n",
       "    .dataframe thead th {\n",
       "        text-align: right;\n",
       "    }\n",
       "</style>\n",
       "<table border=\"1\" class=\"dataframe\">\n",
       "  <thead>\n",
       "    <tr style=\"text-align: right;\">\n",
       "      <th>event</th>\n",
       "      <th>item_topic</th>\n",
       "      <th>click</th>\n",
       "      <th>show</th>\n",
       "      <th>view</th>\n",
       "    </tr>\n",
       "  </thead>\n",
       "  <tbody>\n",
       "    <tr>\n",
       "      <th>11</th>\n",
       "      <td>Наука</td>\n",
       "      <td>1583</td>\n",
       "      <td>19729</td>\n",
       "      <td>1257</td>\n",
       "    </tr>\n",
       "    <tr>\n",
       "      <th>13</th>\n",
       "      <td>Отношения</td>\n",
       "      <td>1432</td>\n",
       "      <td>18760</td>\n",
       "      <td>1276</td>\n",
       "    </tr>\n",
       "    <tr>\n",
       "      <th>6</th>\n",
       "      <td>Интересные факты</td>\n",
       "      <td>1492</td>\n",
       "      <td>17797</td>\n",
       "      <td>1435</td>\n",
       "    </tr>\n",
       "    <tr>\n",
       "      <th>12</th>\n",
       "      <td>Общество</td>\n",
       "      <td>1585</td>\n",
       "      <td>17392</td>\n",
       "      <td>1441</td>\n",
       "    </tr>\n",
       "    <tr>\n",
       "      <th>14</th>\n",
       "      <td>Подборки</td>\n",
       "      <td>1241</td>\n",
       "      <td>16002</td>\n",
       "      <td>1200</td>\n",
       "    </tr>\n",
       "    <tr>\n",
       "      <th>19</th>\n",
       "      <td>Россия</td>\n",
       "      <td>1260</td>\n",
       "      <td>15401</td>\n",
       "      <td>1016</td>\n",
       "    </tr>\n",
       "    <tr>\n",
       "      <th>15</th>\n",
       "      <td>Полезные советы</td>\n",
       "      <td>1149</td>\n",
       "      <td>13776</td>\n",
       "      <td>1132</td>\n",
       "    </tr>\n",
       "    <tr>\n",
       "      <th>8</th>\n",
       "      <td>История</td>\n",
       "      <td>1162</td>\n",
       "      <td>13652</td>\n",
       "      <td>1177</td>\n",
       "    </tr>\n",
       "    <tr>\n",
       "      <th>20</th>\n",
       "      <td>Семья</td>\n",
       "      <td>850</td>\n",
       "      <td>10787</td>\n",
       "      <td>762</td>\n",
       "    </tr>\n",
       "    <tr>\n",
       "      <th>3</th>\n",
       "      <td>Женщины</td>\n",
       "      <td>949</td>\n",
       "      <td>10108</td>\n",
       "      <td>884</td>\n",
       "    </tr>\n",
       "    <tr>\n",
       "      <th>18</th>\n",
       "      <td>Рассказы</td>\n",
       "      <td>592</td>\n",
       "      <td>10051</td>\n",
       "      <td>687</td>\n",
       "    </tr>\n",
       "    <tr>\n",
       "      <th>1</th>\n",
       "      <td>Дети</td>\n",
       "      <td>824</td>\n",
       "      <td>9872</td>\n",
       "      <td>754</td>\n",
       "    </tr>\n",
       "    <tr>\n",
       "      <th>4</th>\n",
       "      <td>Здоровье</td>\n",
       "      <td>802</td>\n",
       "      <td>9396</td>\n",
       "      <td>629</td>\n",
       "    </tr>\n",
       "    <tr>\n",
       "      <th>10</th>\n",
       "      <td>Культура</td>\n",
       "      <td>717</td>\n",
       "      <td>9265</td>\n",
       "      <td>637</td>\n",
       "    </tr>\n",
       "    <tr>\n",
       "      <th>0</th>\n",
       "      <td>Деньги</td>\n",
       "      <td>866</td>\n",
       "      <td>9189</td>\n",
       "      <td>609</td>\n",
       "    </tr>\n",
       "    <tr>\n",
       "      <th>9</th>\n",
       "      <td>Красота</td>\n",
       "      <td>748</td>\n",
       "      <td>8718</td>\n",
       "      <td>709</td>\n",
       "    </tr>\n",
       "    <tr>\n",
       "      <th>22</th>\n",
       "      <td>Туризм</td>\n",
       "      <td>684</td>\n",
       "      <td>8607</td>\n",
       "      <td>589</td>\n",
       "    </tr>\n",
       "    <tr>\n",
       "      <th>21</th>\n",
       "      <td>Скандалы</td>\n",
       "      <td>716</td>\n",
       "      <td>8296</td>\n",
       "      <td>614</td>\n",
       "    </tr>\n",
       "    <tr>\n",
       "      <th>24</th>\n",
       "      <td>Юмор</td>\n",
       "      <td>749</td>\n",
       "      <td>8252</td>\n",
       "      <td>744</td>\n",
       "    </tr>\n",
       "    <tr>\n",
       "      <th>17</th>\n",
       "      <td>Путешествия</td>\n",
       "      <td>677</td>\n",
       "      <td>8245</td>\n",
       "      <td>742</td>\n",
       "    </tr>\n",
       "    <tr>\n",
       "      <th>7</th>\n",
       "      <td>Искусство</td>\n",
       "      <td>587</td>\n",
       "      <td>7605</td>\n",
       "      <td>666</td>\n",
       "    </tr>\n",
       "    <tr>\n",
       "      <th>16</th>\n",
       "      <td>Психология</td>\n",
       "      <td>701</td>\n",
       "      <td>6894</td>\n",
       "      <td>758</td>\n",
       "    </tr>\n",
       "    <tr>\n",
       "      <th>5</th>\n",
       "      <td>Знаменитости</td>\n",
       "      <td>531</td>\n",
       "      <td>6827</td>\n",
       "      <td>337</td>\n",
       "    </tr>\n",
       "    <tr>\n",
       "      <th>2</th>\n",
       "      <td>Женская психология</td>\n",
       "      <td>706</td>\n",
       "      <td>6754</td>\n",
       "      <td>575</td>\n",
       "    </tr>\n",
       "    <tr>\n",
       "      <th>23</th>\n",
       "      <td>Шоу</td>\n",
       "      <td>632</td>\n",
       "      <td>6594</td>\n",
       "      <td>557</td>\n",
       "    </tr>\n",
       "  </tbody>\n",
       "</table>\n",
       "</div>"
      ],
      "text/plain": [
       "event          item_topic  click   show  view\n",
       "11                  Наука   1583  19729  1257\n",
       "13              Отношения   1432  18760  1276\n",
       "6        Интересные факты   1492  17797  1435\n",
       "12               Общество   1585  17392  1441\n",
       "14               Подборки   1241  16002  1200\n",
       "19                 Россия   1260  15401  1016\n",
       "15        Полезные советы   1149  13776  1132\n",
       "8                 История   1162  13652  1177\n",
       "20                  Семья    850  10787   762\n",
       "3                 Женщины    949  10108   884\n",
       "18               Рассказы    592  10051   687\n",
       "1                    Дети    824   9872   754\n",
       "4                Здоровье    802   9396   629\n",
       "10               Культура    717   9265   637\n",
       "0                  Деньги    866   9189   609\n",
       "9                 Красота    748   8718   709\n",
       "22                 Туризм    684   8607   589\n",
       "21               Скандалы    716   8296   614\n",
       "24                   Юмор    749   8252   744\n",
       "17            Путешествия    677   8245   742\n",
       "7               Искусство    587   7605   666\n",
       "16             Психология    701   6894   758\n",
       "5            Знаменитости    531   6827   337\n",
       "2      Женская психология    706   6754   575\n",
       "23                    Шоу    632   6594   557"
      ]
     },
     "execution_count": 11,
     "metadata": {},
     "output_type": "execute_result"
    }
   ],
   "source": [
    "log_raw_item = log_raw.pivot_table(index='item_topic', columns='event', values='source_topic', aggfunc='count')\\\n",
    "                                                            .reset_index().sort_values(by='show', ascending=False)\n",
    "log_raw_item"
   ]
  },
  {
   "cell_type": "code",
   "execution_count": 12,
   "metadata": {},
   "outputs": [
    {
     "data": {
      "application/vnd.plotly.v1+json": {
       "config": {
        "plotlyServerURL": "https://plot.ly"
       },
       "data": [
        {
         "marker": {
          "color": "#3c40c6"
         },
         "name": "Карточка отображена для пользователя",
         "type": "bar",
         "x": [
          "Наука",
          "Отношения",
          "Интересные факты",
          "Общество",
          "Подборки",
          "Россия",
          "Полезные советы",
          "История",
          "Семья",
          "Женщины",
          "Рассказы",
          "Дети",
          "Здоровье",
          "Культура",
          "Деньги",
          "Красота",
          "Туризм",
          "Скандалы",
          "Юмор",
          "Путешествия",
          "Искусство",
          "Психология",
          "Знаменитости",
          "Женская психология",
          "Шоу"
         ],
         "y": [
          1583,
          1432,
          1492,
          1585,
          1241,
          1260,
          1149,
          1162,
          850,
          949,
          592,
          824,
          802,
          717,
          866,
          748,
          684,
          716,
          749,
          677,
          587,
          701,
          531,
          706,
          632
         ]
        },
        {
         "marker": {
          "color": "#0fbcf9"
         },
         "name": "Пользователь кликнул на карточку",
         "type": "bar",
         "x": [
          "Наука",
          "Отношения",
          "Интересные факты",
          "Общество",
          "Подборки",
          "Россия",
          "Полезные советы",
          "История",
          "Семья",
          "Женщины",
          "Рассказы",
          "Дети",
          "Здоровье",
          "Культура",
          "Деньги",
          "Красота",
          "Туризм",
          "Скандалы",
          "Юмор",
          "Путешествия",
          "Искусство",
          "Психология",
          "Знаменитости",
          "Женская психология",
          "Шоу"
         ],
         "y": [
          19729,
          18760,
          17797,
          17392,
          16002,
          15401,
          13776,
          13652,
          10787,
          10108,
          10051,
          9872,
          9396,
          9265,
          9189,
          8718,
          8607,
          8296,
          8252,
          8245,
          7605,
          6894,
          6827,
          6754,
          6594
         ]
        },
        {
         "marker": {
          "color": "#ff5e57"
         },
         "name": "Пользователь просмотрел статью карточки",
         "type": "bar",
         "x": [
          "Наука",
          "Отношения",
          "Интересные факты",
          "Общество",
          "Подборки",
          "Россия",
          "Полезные советы",
          "История",
          "Семья",
          "Женщины",
          "Рассказы",
          "Дети",
          "Здоровье",
          "Культура",
          "Деньги",
          "Красота",
          "Туризм",
          "Скандалы",
          "Юмор",
          "Путешествия",
          "Искусство",
          "Психология",
          "Знаменитости",
          "Женская психология",
          "Шоу"
         ],
         "y": [
          1257,
          1276,
          1435,
          1441,
          1200,
          1016,
          1132,
          1177,
          762,
          884,
          687,
          754,
          629,
          637,
          609,
          709,
          589,
          614,
          744,
          742,
          666,
          758,
          337,
          575,
          557
         ]
        }
       ],
       "layout": {
        "barmode": "group",
        "template": {
         "data": {
          "bar": [
           {
            "error_x": {
             "color": "#2a3f5f"
            },
            "error_y": {
             "color": "#2a3f5f"
            },
            "marker": {
             "line": {
              "color": "#E5ECF6",
              "width": 0.5
             },
             "pattern": {
              "fillmode": "overlay",
              "size": 10,
              "solidity": 0.2
             }
            },
            "type": "bar"
           }
          ],
          "barpolar": [
           {
            "marker": {
             "line": {
              "color": "#E5ECF6",
              "width": 0.5
             },
             "pattern": {
              "fillmode": "overlay",
              "size": 10,
              "solidity": 0.2
             }
            },
            "type": "barpolar"
           }
          ],
          "carpet": [
           {
            "aaxis": {
             "endlinecolor": "#2a3f5f",
             "gridcolor": "white",
             "linecolor": "white",
             "minorgridcolor": "white",
             "startlinecolor": "#2a3f5f"
            },
            "baxis": {
             "endlinecolor": "#2a3f5f",
             "gridcolor": "white",
             "linecolor": "white",
             "minorgridcolor": "white",
             "startlinecolor": "#2a3f5f"
            },
            "type": "carpet"
           }
          ],
          "choropleth": [
           {
            "colorbar": {
             "outlinewidth": 0,
             "ticks": ""
            },
            "type": "choropleth"
           }
          ],
          "contour": [
           {
            "colorbar": {
             "outlinewidth": 0,
             "ticks": ""
            },
            "colorscale": [
             [
              0,
              "#0d0887"
             ],
             [
              0.1111111111111111,
              "#46039f"
             ],
             [
              0.2222222222222222,
              "#7201a8"
             ],
             [
              0.3333333333333333,
              "#9c179e"
             ],
             [
              0.4444444444444444,
              "#bd3786"
             ],
             [
              0.5555555555555556,
              "#d8576b"
             ],
             [
              0.6666666666666666,
              "#ed7953"
             ],
             [
              0.7777777777777778,
              "#fb9f3a"
             ],
             [
              0.8888888888888888,
              "#fdca26"
             ],
             [
              1,
              "#f0f921"
             ]
            ],
            "type": "contour"
           }
          ],
          "contourcarpet": [
           {
            "colorbar": {
             "outlinewidth": 0,
             "ticks": ""
            },
            "type": "contourcarpet"
           }
          ],
          "heatmap": [
           {
            "colorbar": {
             "outlinewidth": 0,
             "ticks": ""
            },
            "colorscale": [
             [
              0,
              "#0d0887"
             ],
             [
              0.1111111111111111,
              "#46039f"
             ],
             [
              0.2222222222222222,
              "#7201a8"
             ],
             [
              0.3333333333333333,
              "#9c179e"
             ],
             [
              0.4444444444444444,
              "#bd3786"
             ],
             [
              0.5555555555555556,
              "#d8576b"
             ],
             [
              0.6666666666666666,
              "#ed7953"
             ],
             [
              0.7777777777777778,
              "#fb9f3a"
             ],
             [
              0.8888888888888888,
              "#fdca26"
             ],
             [
              1,
              "#f0f921"
             ]
            ],
            "type": "heatmap"
           }
          ],
          "heatmapgl": [
           {
            "colorbar": {
             "outlinewidth": 0,
             "ticks": ""
            },
            "colorscale": [
             [
              0,
              "#0d0887"
             ],
             [
              0.1111111111111111,
              "#46039f"
             ],
             [
              0.2222222222222222,
              "#7201a8"
             ],
             [
              0.3333333333333333,
              "#9c179e"
             ],
             [
              0.4444444444444444,
              "#bd3786"
             ],
             [
              0.5555555555555556,
              "#d8576b"
             ],
             [
              0.6666666666666666,
              "#ed7953"
             ],
             [
              0.7777777777777778,
              "#fb9f3a"
             ],
             [
              0.8888888888888888,
              "#fdca26"
             ],
             [
              1,
              "#f0f921"
             ]
            ],
            "type": "heatmapgl"
           }
          ],
          "histogram": [
           {
            "marker": {
             "pattern": {
              "fillmode": "overlay",
              "size": 10,
              "solidity": 0.2
             }
            },
            "type": "histogram"
           }
          ],
          "histogram2d": [
           {
            "colorbar": {
             "outlinewidth": 0,
             "ticks": ""
            },
            "colorscale": [
             [
              0,
              "#0d0887"
             ],
             [
              0.1111111111111111,
              "#46039f"
             ],
             [
              0.2222222222222222,
              "#7201a8"
             ],
             [
              0.3333333333333333,
              "#9c179e"
             ],
             [
              0.4444444444444444,
              "#bd3786"
             ],
             [
              0.5555555555555556,
              "#d8576b"
             ],
             [
              0.6666666666666666,
              "#ed7953"
             ],
             [
              0.7777777777777778,
              "#fb9f3a"
             ],
             [
              0.8888888888888888,
              "#fdca26"
             ],
             [
              1,
              "#f0f921"
             ]
            ],
            "type": "histogram2d"
           }
          ],
          "histogram2dcontour": [
           {
            "colorbar": {
             "outlinewidth": 0,
             "ticks": ""
            },
            "colorscale": [
             [
              0,
              "#0d0887"
             ],
             [
              0.1111111111111111,
              "#46039f"
             ],
             [
              0.2222222222222222,
              "#7201a8"
             ],
             [
              0.3333333333333333,
              "#9c179e"
             ],
             [
              0.4444444444444444,
              "#bd3786"
             ],
             [
              0.5555555555555556,
              "#d8576b"
             ],
             [
              0.6666666666666666,
              "#ed7953"
             ],
             [
              0.7777777777777778,
              "#fb9f3a"
             ],
             [
              0.8888888888888888,
              "#fdca26"
             ],
             [
              1,
              "#f0f921"
             ]
            ],
            "type": "histogram2dcontour"
           }
          ],
          "mesh3d": [
           {
            "colorbar": {
             "outlinewidth": 0,
             "ticks": ""
            },
            "type": "mesh3d"
           }
          ],
          "parcoords": [
           {
            "line": {
             "colorbar": {
              "outlinewidth": 0,
              "ticks": ""
             }
            },
            "type": "parcoords"
           }
          ],
          "pie": [
           {
            "automargin": true,
            "type": "pie"
           }
          ],
          "scatter": [
           {
            "marker": {
             "colorbar": {
              "outlinewidth": 0,
              "ticks": ""
             }
            },
            "type": "scatter"
           }
          ],
          "scatter3d": [
           {
            "line": {
             "colorbar": {
              "outlinewidth": 0,
              "ticks": ""
             }
            },
            "marker": {
             "colorbar": {
              "outlinewidth": 0,
              "ticks": ""
             }
            },
            "type": "scatter3d"
           }
          ],
          "scattercarpet": [
           {
            "marker": {
             "colorbar": {
              "outlinewidth": 0,
              "ticks": ""
             }
            },
            "type": "scattercarpet"
           }
          ],
          "scattergeo": [
           {
            "marker": {
             "colorbar": {
              "outlinewidth": 0,
              "ticks": ""
             }
            },
            "type": "scattergeo"
           }
          ],
          "scattergl": [
           {
            "marker": {
             "colorbar": {
              "outlinewidth": 0,
              "ticks": ""
             }
            },
            "type": "scattergl"
           }
          ],
          "scattermapbox": [
           {
            "marker": {
             "colorbar": {
              "outlinewidth": 0,
              "ticks": ""
             }
            },
            "type": "scattermapbox"
           }
          ],
          "scatterpolar": [
           {
            "marker": {
             "colorbar": {
              "outlinewidth": 0,
              "ticks": ""
             }
            },
            "type": "scatterpolar"
           }
          ],
          "scatterpolargl": [
           {
            "marker": {
             "colorbar": {
              "outlinewidth": 0,
              "ticks": ""
             }
            },
            "type": "scatterpolargl"
           }
          ],
          "scatterternary": [
           {
            "marker": {
             "colorbar": {
              "outlinewidth": 0,
              "ticks": ""
             }
            },
            "type": "scatterternary"
           }
          ],
          "surface": [
           {
            "colorbar": {
             "outlinewidth": 0,
             "ticks": ""
            },
            "colorscale": [
             [
              0,
              "#0d0887"
             ],
             [
              0.1111111111111111,
              "#46039f"
             ],
             [
              0.2222222222222222,
              "#7201a8"
             ],
             [
              0.3333333333333333,
              "#9c179e"
             ],
             [
              0.4444444444444444,
              "#bd3786"
             ],
             [
              0.5555555555555556,
              "#d8576b"
             ],
             [
              0.6666666666666666,
              "#ed7953"
             ],
             [
              0.7777777777777778,
              "#fb9f3a"
             ],
             [
              0.8888888888888888,
              "#fdca26"
             ],
             [
              1,
              "#f0f921"
             ]
            ],
            "type": "surface"
           }
          ],
          "table": [
           {
            "cells": {
             "fill": {
              "color": "#EBF0F8"
             },
             "line": {
              "color": "white"
             }
            },
            "header": {
             "fill": {
              "color": "#C8D4E3"
             },
             "line": {
              "color": "white"
             }
            },
            "type": "table"
           }
          ]
         },
         "layout": {
          "annotationdefaults": {
           "arrowcolor": "#2a3f5f",
           "arrowhead": 0,
           "arrowwidth": 1
          },
          "autotypenumbers": "strict",
          "coloraxis": {
           "colorbar": {
            "outlinewidth": 0,
            "ticks": ""
           }
          },
          "colorscale": {
           "diverging": [
            [
             0,
             "#8e0152"
            ],
            [
             0.1,
             "#c51b7d"
            ],
            [
             0.2,
             "#de77ae"
            ],
            [
             0.3,
             "#f1b6da"
            ],
            [
             0.4,
             "#fde0ef"
            ],
            [
             0.5,
             "#f7f7f7"
            ],
            [
             0.6,
             "#e6f5d0"
            ],
            [
             0.7,
             "#b8e186"
            ],
            [
             0.8,
             "#7fbc41"
            ],
            [
             0.9,
             "#4d9221"
            ],
            [
             1,
             "#276419"
            ]
           ],
           "sequential": [
            [
             0,
             "#0d0887"
            ],
            [
             0.1111111111111111,
             "#46039f"
            ],
            [
             0.2222222222222222,
             "#7201a8"
            ],
            [
             0.3333333333333333,
             "#9c179e"
            ],
            [
             0.4444444444444444,
             "#bd3786"
            ],
            [
             0.5555555555555556,
             "#d8576b"
            ],
            [
             0.6666666666666666,
             "#ed7953"
            ],
            [
             0.7777777777777778,
             "#fb9f3a"
            ],
            [
             0.8888888888888888,
             "#fdca26"
            ],
            [
             1,
             "#f0f921"
            ]
           ],
           "sequentialminus": [
            [
             0,
             "#0d0887"
            ],
            [
             0.1111111111111111,
             "#46039f"
            ],
            [
             0.2222222222222222,
             "#7201a8"
            ],
            [
             0.3333333333333333,
             "#9c179e"
            ],
            [
             0.4444444444444444,
             "#bd3786"
            ],
            [
             0.5555555555555556,
             "#d8576b"
            ],
            [
             0.6666666666666666,
             "#ed7953"
            ],
            [
             0.7777777777777778,
             "#fb9f3a"
            ],
            [
             0.8888888888888888,
             "#fdca26"
            ],
            [
             1,
             "#f0f921"
            ]
           ]
          },
          "colorway": [
           "#636efa",
           "#EF553B",
           "#00cc96",
           "#ab63fa",
           "#FFA15A",
           "#19d3f3",
           "#FF6692",
           "#B6E880",
           "#FF97FF",
           "#FECB52"
          ],
          "font": {
           "color": "#2a3f5f"
          },
          "geo": {
           "bgcolor": "white",
           "lakecolor": "white",
           "landcolor": "#E5ECF6",
           "showlakes": true,
           "showland": true,
           "subunitcolor": "white"
          },
          "hoverlabel": {
           "align": "left"
          },
          "hovermode": "closest",
          "mapbox": {
           "style": "light"
          },
          "paper_bgcolor": "white",
          "plot_bgcolor": "#E5ECF6",
          "polar": {
           "angularaxis": {
            "gridcolor": "white",
            "linecolor": "white",
            "ticks": ""
           },
           "bgcolor": "#E5ECF6",
           "radialaxis": {
            "gridcolor": "white",
            "linecolor": "white",
            "ticks": ""
           }
          },
          "scene": {
           "xaxis": {
            "backgroundcolor": "#E5ECF6",
            "gridcolor": "white",
            "gridwidth": 2,
            "linecolor": "white",
            "showbackground": true,
            "ticks": "",
            "zerolinecolor": "white"
           },
           "yaxis": {
            "backgroundcolor": "#E5ECF6",
            "gridcolor": "white",
            "gridwidth": 2,
            "linecolor": "white",
            "showbackground": true,
            "ticks": "",
            "zerolinecolor": "white"
           },
           "zaxis": {
            "backgroundcolor": "#E5ECF6",
            "gridcolor": "white",
            "gridwidth": 2,
            "linecolor": "white",
            "showbackground": true,
            "ticks": "",
            "zerolinecolor": "white"
           }
          },
          "shapedefaults": {
           "line": {
            "color": "#2a3f5f"
           }
          },
          "ternary": {
           "aaxis": {
            "gridcolor": "white",
            "linecolor": "white",
            "ticks": ""
           },
           "baxis": {
            "gridcolor": "white",
            "linecolor": "white",
            "ticks": ""
           },
           "bgcolor": "#E5ECF6",
           "caxis": {
            "gridcolor": "white",
            "linecolor": "white",
            "ticks": ""
           }
          },
          "title": {
           "x": 0.05
          },
          "xaxis": {
           "automargin": true,
           "gridcolor": "white",
           "linecolor": "white",
           "ticks": "",
           "title": {
            "standoff": 15
           },
           "zerolinecolor": "white",
           "zerolinewidth": 2
          },
          "yaxis": {
           "automargin": true,
           "gridcolor": "white",
           "linecolor": "white",
           "ticks": "",
           "title": {
            "standoff": 15
           },
           "zerolinecolor": "white",
           "zerolinewidth": 2
          }
         }
        },
        "title": {
         "text": "Способы взаимодействия пользователей с системой",
         "x": 0.5,
         "xanchor": "center",
         "y": 0.85,
         "yanchor": "top"
        },
        "xaxis": {
         "tickangle": -45
        }
       }
      }
     },
     "metadata": {},
     "output_type": "display_data"
    }
   ],
   "source": [
    "fig = go.Figure()\n",
    "fig.add_trace(go.Bar(\n",
    "    y=log_raw_item['click'],\n",
    "    x=log_raw_item['item_topic'],\n",
    "    name='Карточка отображена для пользователя',\n",
    "    marker_color='#3c40c6'\n",
    "))\n",
    "fig.add_trace(go.Bar(\n",
    "    y=log_raw_item['show'],\n",
    "    x=log_raw_item['item_topic'],\n",
    "    name='Пользователь кликнул на карточку',\n",
    "    marker_color='#0fbcf9'\n",
    "))\n",
    "\n",
    "fig.add_trace(go.Bar(\n",
    "    y=log_raw_item['view'],\n",
    "    x=log_raw_item['item_topic'],\n",
    "    name='Пользователь просмотрел статью карточки',\n",
    "    marker_color='#ff5e57'\n",
    "))\n",
    "\n",
    "fig.update_layout(barmode='group', xaxis_tickangle=-45,\n",
    "        title={\n",
    "        'text': 'Способы взаимодействия пользователей с системой',\n",
    "        'y':0.85,\n",
    "        'x':0.5,\n",
    "        'xanchor': 'center',\n",
    "        'yanchor': 'top'})\n",
    "fig.show()"
   ]
  },
  {
   "cell_type": "markdown",
   "metadata": {},
   "source": [
    "Сгруппируем способы взаимодействия пользователей с системой для определения % соотношения:"
   ]
  },
  {
   "cell_type": "code",
   "execution_count": 23,
   "metadata": {},
   "outputs": [
    {
     "data": {
      "text/html": [
       "<div>\n",
       "<style scoped>\n",
       "    .dataframe tbody tr th:only-of-type {\n",
       "        vertical-align: middle;\n",
       "    }\n",
       "\n",
       "    .dataframe tbody tr th {\n",
       "        vertical-align: top;\n",
       "    }\n",
       "\n",
       "    .dataframe thead th {\n",
       "        text-align: right;\n",
       "    }\n",
       "</style>\n",
       "<table border=\"1\" class=\"dataframe\">\n",
       "  <thead>\n",
       "    <tr style=\"text-align: right;\">\n",
       "      <th></th>\n",
       "      <th>event</th>\n",
       "      <th>количество</th>\n",
       "      <th>% от общего кол-ва</th>\n",
       "    </tr>\n",
       "  </thead>\n",
       "  <tbody>\n",
       "    <tr>\n",
       "      <th>1</th>\n",
       "      <td>show</td>\n",
       "      <td>277969</td>\n",
       "      <td>86.22</td>\n",
       "    </tr>\n",
       "    <tr>\n",
       "      <th>0</th>\n",
       "      <td>click</td>\n",
       "      <td>23235</td>\n",
       "      <td>7.21</td>\n",
       "    </tr>\n",
       "    <tr>\n",
       "      <th>2</th>\n",
       "      <td>view</td>\n",
       "      <td>21187</td>\n",
       "      <td>6.57</td>\n",
       "    </tr>\n",
       "  </tbody>\n",
       "</table>\n",
       "</div>"
      ],
      "text/plain": [
       "   event  количество  % от общего кол-ва\n",
       "1   show      277969               86.22\n",
       "0  click       23235                7.21\n",
       "2   view       21187                6.57"
      ]
     },
     "execution_count": 23,
     "metadata": {},
     "output_type": "execute_result"
    }
   ],
   "source": [
    "events_rating = log_raw.groupby('event').agg({'user_id': 'count'})\n",
    "\n",
    "events_rating['events'] = (log_raw.groupby(\"event\").agg({'user_id':\"count\"})\n",
    "         .apply(lambda x: 100*x/x.sum())).round(2)\n",
    "\n",
    "events_rating.columns = ['количество', '% от общего кол-ва']\n",
    "events_rating.reset_index().sort_values('% от общего кол-ва', ascending=False)"
   ]
  },
  {
   "cell_type": "markdown",
   "metadata": {},
   "source": [
    "Показатель кликабельности"
   ]
  },
  {
   "cell_type": "code",
   "execution_count": 21,
   "metadata": {},
   "outputs": [
    {
     "data": {
      "text/plain": [
       "8.358845770571538"
      ]
     },
     "execution_count": 21,
     "metadata": {},
     "output_type": "execute_result"
    }
   ],
   "source": [
    "CTR = 23235/277969 * 100\n",
    "CTR"
   ]
  },
  {
   "cell_type": "code",
   "execution_count": 22,
   "metadata": {},
   "outputs": [
    {
     "name": "stderr",
     "output_type": "stream",
     "text": [
      "C:\\Users\\skd23\\AppData\\Local\\Packages\\PythonSoftwareFoundation.Python.3.10_qbz5n2kfra8p0\\LocalCache\\local-packages\\Python310\\site-packages\\numpy\\core\\numeric.py:2446: FutureWarning:\n",
      "\n",
      "elementwise comparison failed; returning scalar instead, but in the future will perform elementwise comparison\n",
      "\n"
     ]
    },
    {
     "data": {
      "application/vnd.plotly.v1+json": {
       "config": {
        "plotlyServerURL": "https://plot.ly"
       },
       "data": [
        {
         "labels": [
          "click",
          "show",
          "view"
         ],
         "type": "pie",
         "values": [
          277969,
          23235,
          21187
         ]
        }
       ],
       "layout": {
        "template": {
         "data": {
          "bar": [
           {
            "error_x": {
             "color": "#2a3f5f"
            },
            "error_y": {
             "color": "#2a3f5f"
            },
            "marker": {
             "line": {
              "color": "#E5ECF6",
              "width": 0.5
             },
             "pattern": {
              "fillmode": "overlay",
              "size": 10,
              "solidity": 0.2
             }
            },
            "type": "bar"
           }
          ],
          "barpolar": [
           {
            "marker": {
             "line": {
              "color": "#E5ECF6",
              "width": 0.5
             },
             "pattern": {
              "fillmode": "overlay",
              "size": 10,
              "solidity": 0.2
             }
            },
            "type": "barpolar"
           }
          ],
          "carpet": [
           {
            "aaxis": {
             "endlinecolor": "#2a3f5f",
             "gridcolor": "white",
             "linecolor": "white",
             "minorgridcolor": "white",
             "startlinecolor": "#2a3f5f"
            },
            "baxis": {
             "endlinecolor": "#2a3f5f",
             "gridcolor": "white",
             "linecolor": "white",
             "minorgridcolor": "white",
             "startlinecolor": "#2a3f5f"
            },
            "type": "carpet"
           }
          ],
          "choropleth": [
           {
            "colorbar": {
             "outlinewidth": 0,
             "ticks": ""
            },
            "type": "choropleth"
           }
          ],
          "contour": [
           {
            "colorbar": {
             "outlinewidth": 0,
             "ticks": ""
            },
            "colorscale": [
             [
              0,
              "#0d0887"
             ],
             [
              0.1111111111111111,
              "#46039f"
             ],
             [
              0.2222222222222222,
              "#7201a8"
             ],
             [
              0.3333333333333333,
              "#9c179e"
             ],
             [
              0.4444444444444444,
              "#bd3786"
             ],
             [
              0.5555555555555556,
              "#d8576b"
             ],
             [
              0.6666666666666666,
              "#ed7953"
             ],
             [
              0.7777777777777778,
              "#fb9f3a"
             ],
             [
              0.8888888888888888,
              "#fdca26"
             ],
             [
              1,
              "#f0f921"
             ]
            ],
            "type": "contour"
           }
          ],
          "contourcarpet": [
           {
            "colorbar": {
             "outlinewidth": 0,
             "ticks": ""
            },
            "type": "contourcarpet"
           }
          ],
          "heatmap": [
           {
            "colorbar": {
             "outlinewidth": 0,
             "ticks": ""
            },
            "colorscale": [
             [
              0,
              "#0d0887"
             ],
             [
              0.1111111111111111,
              "#46039f"
             ],
             [
              0.2222222222222222,
              "#7201a8"
             ],
             [
              0.3333333333333333,
              "#9c179e"
             ],
             [
              0.4444444444444444,
              "#bd3786"
             ],
             [
              0.5555555555555556,
              "#d8576b"
             ],
             [
              0.6666666666666666,
              "#ed7953"
             ],
             [
              0.7777777777777778,
              "#fb9f3a"
             ],
             [
              0.8888888888888888,
              "#fdca26"
             ],
             [
              1,
              "#f0f921"
             ]
            ],
            "type": "heatmap"
           }
          ],
          "heatmapgl": [
           {
            "colorbar": {
             "outlinewidth": 0,
             "ticks": ""
            },
            "colorscale": [
             [
              0,
              "#0d0887"
             ],
             [
              0.1111111111111111,
              "#46039f"
             ],
             [
              0.2222222222222222,
              "#7201a8"
             ],
             [
              0.3333333333333333,
              "#9c179e"
             ],
             [
              0.4444444444444444,
              "#bd3786"
             ],
             [
              0.5555555555555556,
              "#d8576b"
             ],
             [
              0.6666666666666666,
              "#ed7953"
             ],
             [
              0.7777777777777778,
              "#fb9f3a"
             ],
             [
              0.8888888888888888,
              "#fdca26"
             ],
             [
              1,
              "#f0f921"
             ]
            ],
            "type": "heatmapgl"
           }
          ],
          "histogram": [
           {
            "marker": {
             "pattern": {
              "fillmode": "overlay",
              "size": 10,
              "solidity": 0.2
             }
            },
            "type": "histogram"
           }
          ],
          "histogram2d": [
           {
            "colorbar": {
             "outlinewidth": 0,
             "ticks": ""
            },
            "colorscale": [
             [
              0,
              "#0d0887"
             ],
             [
              0.1111111111111111,
              "#46039f"
             ],
             [
              0.2222222222222222,
              "#7201a8"
             ],
             [
              0.3333333333333333,
              "#9c179e"
             ],
             [
              0.4444444444444444,
              "#bd3786"
             ],
             [
              0.5555555555555556,
              "#d8576b"
             ],
             [
              0.6666666666666666,
              "#ed7953"
             ],
             [
              0.7777777777777778,
              "#fb9f3a"
             ],
             [
              0.8888888888888888,
              "#fdca26"
             ],
             [
              1,
              "#f0f921"
             ]
            ],
            "type": "histogram2d"
           }
          ],
          "histogram2dcontour": [
           {
            "colorbar": {
             "outlinewidth": 0,
             "ticks": ""
            },
            "colorscale": [
             [
              0,
              "#0d0887"
             ],
             [
              0.1111111111111111,
              "#46039f"
             ],
             [
              0.2222222222222222,
              "#7201a8"
             ],
             [
              0.3333333333333333,
              "#9c179e"
             ],
             [
              0.4444444444444444,
              "#bd3786"
             ],
             [
              0.5555555555555556,
              "#d8576b"
             ],
             [
              0.6666666666666666,
              "#ed7953"
             ],
             [
              0.7777777777777778,
              "#fb9f3a"
             ],
             [
              0.8888888888888888,
              "#fdca26"
             ],
             [
              1,
              "#f0f921"
             ]
            ],
            "type": "histogram2dcontour"
           }
          ],
          "mesh3d": [
           {
            "colorbar": {
             "outlinewidth": 0,
             "ticks": ""
            },
            "type": "mesh3d"
           }
          ],
          "parcoords": [
           {
            "line": {
             "colorbar": {
              "outlinewidth": 0,
              "ticks": ""
             }
            },
            "type": "parcoords"
           }
          ],
          "pie": [
           {
            "automargin": true,
            "type": "pie"
           }
          ],
          "scatter": [
           {
            "marker": {
             "colorbar": {
              "outlinewidth": 0,
              "ticks": ""
             }
            },
            "type": "scatter"
           }
          ],
          "scatter3d": [
           {
            "line": {
             "colorbar": {
              "outlinewidth": 0,
              "ticks": ""
             }
            },
            "marker": {
             "colorbar": {
              "outlinewidth": 0,
              "ticks": ""
             }
            },
            "type": "scatter3d"
           }
          ],
          "scattercarpet": [
           {
            "marker": {
             "colorbar": {
              "outlinewidth": 0,
              "ticks": ""
             }
            },
            "type": "scattercarpet"
           }
          ],
          "scattergeo": [
           {
            "marker": {
             "colorbar": {
              "outlinewidth": 0,
              "ticks": ""
             }
            },
            "type": "scattergeo"
           }
          ],
          "scattergl": [
           {
            "marker": {
             "colorbar": {
              "outlinewidth": 0,
              "ticks": ""
             }
            },
            "type": "scattergl"
           }
          ],
          "scattermapbox": [
           {
            "marker": {
             "colorbar": {
              "outlinewidth": 0,
              "ticks": ""
             }
            },
            "type": "scattermapbox"
           }
          ],
          "scatterpolar": [
           {
            "marker": {
             "colorbar": {
              "outlinewidth": 0,
              "ticks": ""
             }
            },
            "type": "scatterpolar"
           }
          ],
          "scatterpolargl": [
           {
            "marker": {
             "colorbar": {
              "outlinewidth": 0,
              "ticks": ""
             }
            },
            "type": "scatterpolargl"
           }
          ],
          "scatterternary": [
           {
            "marker": {
             "colorbar": {
              "outlinewidth": 0,
              "ticks": ""
             }
            },
            "type": "scatterternary"
           }
          ],
          "surface": [
           {
            "colorbar": {
             "outlinewidth": 0,
             "ticks": ""
            },
            "colorscale": [
             [
              0,
              "#0d0887"
             ],
             [
              0.1111111111111111,
              "#46039f"
             ],
             [
              0.2222222222222222,
              "#7201a8"
             ],
             [
              0.3333333333333333,
              "#9c179e"
             ],
             [
              0.4444444444444444,
              "#bd3786"
             ],
             [
              0.5555555555555556,
              "#d8576b"
             ],
             [
              0.6666666666666666,
              "#ed7953"
             ],
             [
              0.7777777777777778,
              "#fb9f3a"
             ],
             [
              0.8888888888888888,
              "#fdca26"
             ],
             [
              1,
              "#f0f921"
             ]
            ],
            "type": "surface"
           }
          ],
          "table": [
           {
            "cells": {
             "fill": {
              "color": "#EBF0F8"
             },
             "line": {
              "color": "white"
             }
            },
            "header": {
             "fill": {
              "color": "#C8D4E3"
             },
             "line": {
              "color": "white"
             }
            },
            "type": "table"
           }
          ]
         },
         "layout": {
          "annotationdefaults": {
           "arrowcolor": "#2a3f5f",
           "arrowhead": 0,
           "arrowwidth": 1
          },
          "autotypenumbers": "strict",
          "coloraxis": {
           "colorbar": {
            "outlinewidth": 0,
            "ticks": ""
           }
          },
          "colorscale": {
           "diverging": [
            [
             0,
             "#8e0152"
            ],
            [
             0.1,
             "#c51b7d"
            ],
            [
             0.2,
             "#de77ae"
            ],
            [
             0.3,
             "#f1b6da"
            ],
            [
             0.4,
             "#fde0ef"
            ],
            [
             0.5,
             "#f7f7f7"
            ],
            [
             0.6,
             "#e6f5d0"
            ],
            [
             0.7,
             "#b8e186"
            ],
            [
             0.8,
             "#7fbc41"
            ],
            [
             0.9,
             "#4d9221"
            ],
            [
             1,
             "#276419"
            ]
           ],
           "sequential": [
            [
             0,
             "#0d0887"
            ],
            [
             0.1111111111111111,
             "#46039f"
            ],
            [
             0.2222222222222222,
             "#7201a8"
            ],
            [
             0.3333333333333333,
             "#9c179e"
            ],
            [
             0.4444444444444444,
             "#bd3786"
            ],
            [
             0.5555555555555556,
             "#d8576b"
            ],
            [
             0.6666666666666666,
             "#ed7953"
            ],
            [
             0.7777777777777778,
             "#fb9f3a"
            ],
            [
             0.8888888888888888,
             "#fdca26"
            ],
            [
             1,
             "#f0f921"
            ]
           ],
           "sequentialminus": [
            [
             0,
             "#0d0887"
            ],
            [
             0.1111111111111111,
             "#46039f"
            ],
            [
             0.2222222222222222,
             "#7201a8"
            ],
            [
             0.3333333333333333,
             "#9c179e"
            ],
            [
             0.4444444444444444,
             "#bd3786"
            ],
            [
             0.5555555555555556,
             "#d8576b"
            ],
            [
             0.6666666666666666,
             "#ed7953"
            ],
            [
             0.7777777777777778,
             "#fb9f3a"
            ],
            [
             0.8888888888888888,
             "#fdca26"
            ],
            [
             1,
             "#f0f921"
            ]
           ]
          },
          "colorway": [
           "#636efa",
           "#EF553B",
           "#00cc96",
           "#ab63fa",
           "#FFA15A",
           "#19d3f3",
           "#FF6692",
           "#B6E880",
           "#FF97FF",
           "#FECB52"
          ],
          "font": {
           "color": "#2a3f5f"
          },
          "geo": {
           "bgcolor": "white",
           "lakecolor": "white",
           "landcolor": "#E5ECF6",
           "showlakes": true,
           "showland": true,
           "subunitcolor": "white"
          },
          "hoverlabel": {
           "align": "left"
          },
          "hovermode": "closest",
          "mapbox": {
           "style": "light"
          },
          "paper_bgcolor": "white",
          "plot_bgcolor": "#E5ECF6",
          "polar": {
           "angularaxis": {
            "gridcolor": "white",
            "linecolor": "white",
            "ticks": ""
           },
           "bgcolor": "#E5ECF6",
           "radialaxis": {
            "gridcolor": "white",
            "linecolor": "white",
            "ticks": ""
           }
          },
          "scene": {
           "xaxis": {
            "backgroundcolor": "#E5ECF6",
            "gridcolor": "white",
            "gridwidth": 2,
            "linecolor": "white",
            "showbackground": true,
            "ticks": "",
            "zerolinecolor": "white"
           },
           "yaxis": {
            "backgroundcolor": "#E5ECF6",
            "gridcolor": "white",
            "gridwidth": 2,
            "linecolor": "white",
            "showbackground": true,
            "ticks": "",
            "zerolinecolor": "white"
           },
           "zaxis": {
            "backgroundcolor": "#E5ECF6",
            "gridcolor": "white",
            "gridwidth": 2,
            "linecolor": "white",
            "showbackground": true,
            "ticks": "",
            "zerolinecolor": "white"
           }
          },
          "shapedefaults": {
           "line": {
            "color": "#2a3f5f"
           }
          },
          "ternary": {
           "aaxis": {
            "gridcolor": "white",
            "linecolor": "white",
            "ticks": ""
           },
           "baxis": {
            "gridcolor": "white",
            "linecolor": "white",
            "ticks": ""
           },
           "bgcolor": "#E5ECF6",
           "caxis": {
            "gridcolor": "white",
            "linecolor": "white",
            "ticks": ""
           }
          },
          "title": {
           "x": 0.05
          },
          "xaxis": {
           "automargin": true,
           "gridcolor": "white",
           "linecolor": "white",
           "ticks": "",
           "title": {
            "standoff": 15
           },
           "zerolinecolor": "white",
           "zerolinewidth": 2
          },
          "yaxis": {
           "automargin": true,
           "gridcolor": "white",
           "linecolor": "white",
           "ticks": "",
           "title": {
            "standoff": 15
           },
           "zerolinecolor": "white",
           "zerolinewidth": 2
          }
         }
        },
        "title": {
         "text": "Соотношение способов взимодействия",
         "x": 0.5,
         "y": 0.87
        }
       }
      }
     },
     "metadata": {},
     "output_type": "display_data"
    }
   ],
   "source": [
    "fig = go.Figure(data=go.Pie(labels=events_rating['количество'].value_counts()\n",
    "                            .reset_index()['index'], values=log_raw['event'].value_counts()))\n",
    "fig.update_layout(\n",
    "    title={\n",
    "        'text':'Соотношение способов взимодействия',\n",
    "        'y':0.87,\n",
    "        'x':0.5})\n",
    "for trace in fig.data:\n",
    "    trace['labels']=['click', 'show', 'view']\n",
    "fig.show()"
   ]
  },
  {
   "cell_type": "markdown",
   "metadata": {},
   "source": [
    "\n",
    "[ссылка на Tableau Public](https://public.tableau.com/app/profile/nikita.semenov/viz/Yandex_Zendashboard_16417409556140/dashboard_zen?publish=yes/)\n",
    "\n"
   ]
  },
  {
   "cell_type": "markdown",
   "metadata": {},
   "source": []
  }
 ],
 "metadata": {
  "interpreter": {
   "hash": "022476f294346fdbe841b5c8887c86c68cdba9a5f301718ad27a234ef75c5b32"
  },
  "kernelspec": {
   "display_name": "Python 3.10.1 64-bit (windows store)",
   "language": "python",
   "name": "python3"
  },
  "language_info": {
   "codemirror_mode": {
    "name": "ipython",
    "version": 3
   },
   "file_extension": ".py",
   "mimetype": "text/x-python",
   "name": "python",
   "nbconvert_exporter": "python",
   "pygments_lexer": "ipython3",
   "version": "3.10.2"
  },
  "orig_nbformat": 4
 },
 "nbformat": 4,
 "nbformat_minor": 2
}
