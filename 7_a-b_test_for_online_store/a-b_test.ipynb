{
 "cells": [
  {
   "cell_type": "markdown",
   "metadata": {},
   "source": [
    "Привет! Ты теперь находишься на территории код-ревьюеров. У нас тут своя атмосфера и правила:  \n",
    "1. Меня зовут Алексей Свирин. Я работаю продуктовым аналитиком, поэтому мои комментарии больше ориентированы на визуальную и смысловую часть проекта, которая предназначена для внешних пользователей твоего проекта, и меньше на сам код, его чистоту и оптимизацию.  \n",
    "2. Общаемся на ты.  \n",
    "3. Хочешь мне написать — пиши. Только нужно выбрать свой цвет для комментария.  \n",
    "4. Это учебный проект, тут можно не бояться сделать ошибку, но все остальное как в жизни, может быть сложно.  \n",
    "5. У тебя бесконечное количество ~~жизней~~ попыток для сдачи проекта.  \n",
    "6. Поехали!  \n",
    "\n",
    "---\n",
    "\n",
    "Я буду красить комментарии цветом, пожалуйста, не удаляй их:\n",
    "\n",
    "<div class=\"alert alert-block alert-danger\">\n",
    "    \n",
    "\n",
    "__Комментарий от ревьюера №1__\n",
    "\n",
    "Такой комментарий нужно исправить обязательно, он критически влияет на удачное выполнение проекта.\n",
    "</div>\n",
    "    \n",
    "---\n",
    "\n",
    "<div class=\"alert alert-block alert-warning\">\n",
    "    \n",
    "\n",
    "__Комментарий от ревьюера №1__\n",
    "\n",
    "\n",
    "Такой комментарий является рекомендацией или советом. Можешь использовать их на своё усмотрение.\n",
    "</div>\n",
    "\n",
    "---\n",
    "\n",
    "<div class=\"alert alert-block alert-success\">\n",
    "    \n",
    "\n",
    "__Комментарий от ревьюера №1__\n",
    "\n",
    "Такой комментарий  говорит о том, что было сделано что-то качественное и правильное =)\n",
    "</div>\n",
    "\n",
    "---"
   ]
  },
  {
   "cell_type": "markdown",
   "metadata": {},
   "source": [
    "<div class=\"alert alert-block alert-info\">\n",
    "    \n",
    "\n",
    "__Комментарий от ревьюера №1__ \n",
    "\n",
    "Получилась очень хорошая работа, нужно углубиться в предобработку и поправить финальный вывод.\n",
    "</div>"
   ]
  },
  {
   "cell_type": "markdown",
   "metadata": {},
   "source": [
    "<div class=\"alert alert-block alert-info\">\n",
    "    \n",
    "\n",
    "__Комментарий от ревьюера №2__ \n",
    "\n",
    "Ты правильно провел А/Б-тест, нашел самые интересные гипотезы для проверки и аномальные значения в датасете, верно построены курмулятивные метрики. Все выводы корректны и на своих местах, графики сделан правильно. Проект принят!\n",
    "</div>"
   ]
  },
  {
   "cell_type": "markdown",
   "metadata": {},
   "source": [
    "<div class=\"alert alert-block alert-info\">\n",
    "    \n",
    "\n",
    "__Комментарий от ревьюера по новому проекту__\n",
    "\n",
    "Следующий проект будет связан с геоданными. До него мы можешь изучить/покрутить/посмотреть разные модули, которые смогут помочь в выполнении работы:  \n",
    "— модуль folium для визуализации геоданных на карте — https://dev-gang.ru/article/interaktivnaja-vizualizacija-geo-dannyh-na-python-9yqzq8qlud/  \n",
    "— модуль для сервиса Геокодер от Яндекса: https://pypi.org/project/yandex-geocoder/  \n",
    "— модуль для сервиса замечательной российской компании Dadata: https://pypi.org/project/dadata/  \n",
    "    \n",
    "Так же в новом проекте будет задание по составлению презентации, для него ты можешь пройти новый бесплатный курс от Яндекс.Практикума — https://praktikum.yandex.ru/profile/visual-presentation/  \n",
    "</div>"
   ]
  },
  {
   "cell_type": "markdown",
   "metadata": {},
   "source": [
    "<div class=\"alert alert-block alert-warning\">\n",
    "    \n",
    "\n",
    "__Комментарий от ревьюера №1 (можно лучше)__ \n",
    "\n",
    "Вот тут бы еще какое-нибудь название проекта и было бы хорошо.\n",
    "</div>"
   ]
  },
  {
   "cell_type": "markdown",
   "metadata": {},
   "source": [
    "<div class=\"alert alert-info\">\n",
    "<b>Комментарий студента:</b> Ok, добавил </div>"
   ]
  },
  {
   "cell_type": "markdown",
   "metadata": {},
   "source": [
    "<div class=\"alert alert-block alert-success\">\n",
    "    \n",
    "\n",
    "__Комментарий от ревьюера №2 (OK)__\n",
    "\n",
    "👍\n",
    "</div>"
   ]
  },
  {
   "cell_type": "markdown",
   "metadata": {},
   "source": [
    "# Проверка гипотез для увеличения выручки интернет-магазина"
   ]
  },
  {
   "cell_type": "markdown",
   "metadata": {},
   "source": [
    "[Описание проекта](#0)\n",
    "\n",
    "[1 Импортируем библиотеки и файлы](#1)\n",
    "\n",
    "[2 Подготовка данных](#2)\n",
    "\n",
    "[3 Приоритизация гипотез](#3)\n",
    "\n",
    "[4 Анализ A/B-теста](#4)\n",
    "\n",
    "[5 Общий вывод](#5)"
   ]
  },
  {
   "cell_type": "markdown",
   "metadata": {},
   "source": [
    "**Описание данных**\n",
    "\n",
    "**Данные для первой части**\n",
    "Файл `/datasets/hypothesis.csv`\n",
    "* `Hypothesis` — краткое описание гипотезы;\n",
    "* `Reach` — охват пользователей по 10-балльной шкале;\n",
    "* `Impact` — влияние на пользователей по 10-балльной шкале;\n",
    "* `Confidence` — уверенность в гипотезе по 10-балльной шкале;\n",
    "* `Efforts` — затраты ресурсов на проверку гипотезы по 10-балльной шкале. Чем больше значение `Efforts`, тем дороже проверка гипотезы.\n",
    "\n",
    "**Данные для второй части**\n",
    "Файл `/datasets/orders.csv`\n",
    "* `transactionId` — идентификатор заказа;\n",
    "* `visitorId` — идентификатор пользователя, совершившего заказ;\n",
    "* `date` — дата, когда был совершён заказ;\n",
    "* `revenue` — выручка заказа;\n",
    "* `group` — группа A/B-теста, в которую попал заказ.\n",
    "\n",
    "Файл `/datasets/visitors.csv`\n",
    "`date` — дата;\n",
    "`group` — группа A/B-теста;\n",
    "`visitors` — количество пользователей в указанную дату в указанной группе A/B-теста\n",
    "\n",
    "<a name=\"0\"></a>\n",
    "**Описание проекта**\n",
    "\n",
    "**Контекст**\n",
    "\n",
    "Вы — аналитик крупного интернет-магазина. Вместе с отделом маркетинга вы подготовили список гипотез для увеличения выручки.\n",
    "Приоритизируйте гипотезы, запустите A/B-тест и проанализируйте результаты.\n",
    "\n",
    "**Часть 1. Приоритизация гипотез.**\n",
    "В файле `/datasets/hypothesis.csv` 9 гипотез по увеличению выручки интернет-магазина с указанными параметрами `Reach`, `Impact`, `Confidence`, `Effort`.\n",
    "\n",
    "**Задача**\n",
    "\n",
    "* Примените фреймворк ICE для приоритизации гипотез. Отсортируйте их по убыванию приоритета.\n",
    "* Примените фреймворк RICE для приоритизации гипотез. Отсортируйте их по убыванию приоритета.\n",
    "* Укажите, как изменилась приоритизация гипотез при применении RICE вместо ICE. Объясните, почему так произошло.\n",
    "\n",
    "**Часть 2. Анализ A/B-теста**\n",
    "Вы провели A/B-тест и получили результаты, которые описаны в файлах `/datasets/orders.csv` и `/datasets/visitors.csv`.\n",
    "\n",
    "**Задача**\n",
    "\n",
    "Проанализируйте A/B-тест:\n",
    "1. Постройте график кумулятивной выручки по группам. Сделайте выводы и предположения.\n",
    "2. Постройте график кумулятивного среднего чека по группам. Сделайте выводы и предположения.\n",
    "3. Постройте график относительного изменения кумулятивного среднего чека группы B к группе A. Сделайте выводы и предположения.\n",
    "4. Постройте график кумулятивной конверсии по группам. Сделайте выводы и предположения.\n",
    "5. Постройте график относительного изменения кумулятивной конверсии группы B к группе A. Сделайте выводы и предположения.\n",
    "6. Постройте точечный график количества заказов по пользователям. Сделайте выводы и предположения.\n",
    "7. Посчитайте 95-й и 99-й перцентили количества заказов на пользователя. Выберите границу для определения аномальных пользователей.\n",
    "8. Постройте точечный график стоимостей заказов. Сделайте выводы и предположения.\n",
    "9. Посчитайте 95-й и 99-й перцентили стоимости заказов. Выберите границу для определения аномальных заказов.\n",
    "10. Посчитайте статистическую значимость различий в конверсии между группами по «сырым» данным. Сделайте выводы и предположения.\n",
    "11. Посчитайте статистическую значимость различий в среднем чеке заказа между группами по «сырым» данным. Сделайте выводы и предположения.\n",
    "12. Посчитайте статистическую значимость различий в конверсии между группами по «очищенным» данным. Сделайте выводы и предположения.\n",
    "13. Посчитайте статистическую значимость различий в среднем чеке заказа между группами по «очищенным» данным. Сделайте выводы и предположения.\n",
    "14. Примите решение по результатам теста и объясните его. Варианты решений: 1. Остановить тест, зафиксировать победу одной из групп. 2. Остановить тест, зафиксировать отсутствие различий между группами. 3. Продолжить тест.\n"
   ]
  },
  {
   "cell_type": "markdown",
   "metadata": {},
   "source": [
    "## Импортируем библиотеки и файлы\n",
    "<a name=\"1\"></a>"
   ]
  },
  {
   "cell_type": "code",
   "execution_count": 1,
   "metadata": {},
   "outputs": [],
   "source": [
    "import pandas as pd\n",
    "pd.set_option('display.max_columns', None)\n",
    "pd.options.display.max_colwidth = 150\n",
    "from pandas.plotting import register_matplotlib_converters\n",
    "register_matplotlib_converters()\n",
    "\n",
    "import numpy as np\n",
    "import matplotlib as mplt\n",
    "import matplotlib.pyplot as plt\n",
    "import seaborn as sns\n",
    "from matplotlib import pyplot as plt\n",
    "cm = sns.light_palette(\"green\", as_cmap=True)\n",
    "\n",
    "import datetime\n",
    "import math as mt\n",
    "from scipy import stats as st\n",
    "import scipy.stats as stats\n",
    "from scipy.stats import mannwhitneyu\n",
    "\n",
    "#from google.colab import drive\n",
    "#drive.mount('/content/drive')"
   ]
  },
  {
   "cell_type": "code",
   "execution_count": 2,
   "metadata": {},
   "outputs": [],
   "source": [
    "visitors = pd.read_csv('/datasets/visitors.csv')\n",
    "orders = pd.read_csv('/datasets/orders.csv')\n",
    "hypothesis = pd.read_csv('/datasets/hypothesis.csv')"
   ]
  },
  {
   "cell_type": "markdown",
   "metadata": {},
   "source": [
    "### Изучение данных\n",
    "<a name=\"1.1\"></a>"
   ]
  },
  {
   "cell_type": "code",
   "execution_count": 3,
   "metadata": {
    "scrolled": false
   },
   "outputs": [
    {
     "data": {
      "text/plain": [
       "'______________info_____________________'"
      ]
     },
     "metadata": {},
     "output_type": "display_data"
    },
    {
     "name": "stdout",
     "output_type": "stream",
     "text": [
      "<class 'pandas.core.frame.DataFrame'>\n",
      "RangeIndex: 62 entries, 0 to 61\n",
      "Data columns (total 3 columns):\n",
      "date        62 non-null object\n",
      "group       62 non-null object\n",
      "visitors    62 non-null int64\n",
      "dtypes: int64(1), object(2)\n",
      "memory usage: 1.6+ KB\n"
     ]
    },
    {
     "data": {
      "text/plain": [
       "None"
      ]
     },
     "metadata": {},
     "output_type": "display_data"
    },
    {
     "data": {
      "text/plain": [
       "'______________describe_________________'"
      ]
     },
     "metadata": {},
     "output_type": "display_data"
    },
    {
     "data": {
      "text/html": [
       "<div>\n",
       "<style scoped>\n",
       "    .dataframe tbody tr th:only-of-type {\n",
       "        vertical-align: middle;\n",
       "    }\n",
       "\n",
       "    .dataframe tbody tr th {\n",
       "        vertical-align: top;\n",
       "    }\n",
       "\n",
       "    .dataframe thead th {\n",
       "        text-align: right;\n",
       "    }\n",
       "</style>\n",
       "<table border=\"1\" class=\"dataframe\">\n",
       "  <thead>\n",
       "    <tr style=\"text-align: right;\">\n",
       "      <th></th>\n",
       "      <th>visitors</th>\n",
       "    </tr>\n",
       "  </thead>\n",
       "  <tbody>\n",
       "    <tr>\n",
       "      <td>count</td>\n",
       "      <td>62.000000</td>\n",
       "    </tr>\n",
       "    <tr>\n",
       "      <td>mean</td>\n",
       "      <td>607.290323</td>\n",
       "    </tr>\n",
       "    <tr>\n",
       "      <td>std</td>\n",
       "      <td>114.400560</td>\n",
       "    </tr>\n",
       "    <tr>\n",
       "      <td>min</td>\n",
       "      <td>361.000000</td>\n",
       "    </tr>\n",
       "    <tr>\n",
       "      <td>25%</td>\n",
       "      <td>534.000000</td>\n",
       "    </tr>\n",
       "    <tr>\n",
       "      <td>50%</td>\n",
       "      <td>624.500000</td>\n",
       "    </tr>\n",
       "    <tr>\n",
       "      <td>75%</td>\n",
       "      <td>710.500000</td>\n",
       "    </tr>\n",
       "    <tr>\n",
       "      <td>max</td>\n",
       "      <td>770.000000</td>\n",
       "    </tr>\n",
       "  </tbody>\n",
       "</table>\n",
       "</div>"
      ],
      "text/plain": [
       "         visitors\n",
       "count   62.000000\n",
       "mean   607.290323\n",
       "std    114.400560\n",
       "min    361.000000\n",
       "25%    534.000000\n",
       "50%    624.500000\n",
       "75%    710.500000\n",
       "max    770.000000"
      ]
     },
     "metadata": {},
     "output_type": "display_data"
    },
    {
     "data": {
      "text/plain": [
       "'______________head_____________________'"
      ]
     },
     "metadata": {},
     "output_type": "display_data"
    },
    {
     "data": {
      "text/html": [
       "<div>\n",
       "<style scoped>\n",
       "    .dataframe tbody tr th:only-of-type {\n",
       "        vertical-align: middle;\n",
       "    }\n",
       "\n",
       "    .dataframe tbody tr th {\n",
       "        vertical-align: top;\n",
       "    }\n",
       "\n",
       "    .dataframe thead th {\n",
       "        text-align: right;\n",
       "    }\n",
       "</style>\n",
       "<table border=\"1\" class=\"dataframe\">\n",
       "  <thead>\n",
       "    <tr style=\"text-align: right;\">\n",
       "      <th></th>\n",
       "      <th>date</th>\n",
       "      <th>group</th>\n",
       "      <th>visitors</th>\n",
       "    </tr>\n",
       "  </thead>\n",
       "  <tbody>\n",
       "    <tr>\n",
       "      <td>0</td>\n",
       "      <td>2019-08-01</td>\n",
       "      <td>A</td>\n",
       "      <td>719</td>\n",
       "    </tr>\n",
       "    <tr>\n",
       "      <td>1</td>\n",
       "      <td>2019-08-02</td>\n",
       "      <td>A</td>\n",
       "      <td>619</td>\n",
       "    </tr>\n",
       "    <tr>\n",
       "      <td>2</td>\n",
       "      <td>2019-08-03</td>\n",
       "      <td>A</td>\n",
       "      <td>507</td>\n",
       "    </tr>\n",
       "    <tr>\n",
       "      <td>3</td>\n",
       "      <td>2019-08-04</td>\n",
       "      <td>A</td>\n",
       "      <td>717</td>\n",
       "    </tr>\n",
       "    <tr>\n",
       "      <td>4</td>\n",
       "      <td>2019-08-05</td>\n",
       "      <td>A</td>\n",
       "      <td>756</td>\n",
       "    </tr>\n",
       "    <tr>\n",
       "      <td>5</td>\n",
       "      <td>2019-08-06</td>\n",
       "      <td>A</td>\n",
       "      <td>667</td>\n",
       "    </tr>\n",
       "    <tr>\n",
       "      <td>6</td>\n",
       "      <td>2019-08-07</td>\n",
       "      <td>A</td>\n",
       "      <td>644</td>\n",
       "    </tr>\n",
       "    <tr>\n",
       "      <td>7</td>\n",
       "      <td>2019-08-08</td>\n",
       "      <td>A</td>\n",
       "      <td>610</td>\n",
       "    </tr>\n",
       "    <tr>\n",
       "      <td>8</td>\n",
       "      <td>2019-08-09</td>\n",
       "      <td>A</td>\n",
       "      <td>617</td>\n",
       "    </tr>\n",
       "    <tr>\n",
       "      <td>9</td>\n",
       "      <td>2019-08-10</td>\n",
       "      <td>A</td>\n",
       "      <td>406</td>\n",
       "    </tr>\n",
       "  </tbody>\n",
       "</table>\n",
       "</div>"
      ],
      "text/plain": [
       "         date group  visitors\n",
       "0  2019-08-01     A       719\n",
       "1  2019-08-02     A       619\n",
       "2  2019-08-03     A       507\n",
       "3  2019-08-04     A       717\n",
       "4  2019-08-05     A       756\n",
       "5  2019-08-06     A       667\n",
       "6  2019-08-07     A       644\n",
       "7  2019-08-08     A       610\n",
       "8  2019-08-09     A       617\n",
       "9  2019-08-10     A       406"
      ]
     },
     "metadata": {},
     "output_type": "display_data"
    },
    {
     "data": {
      "text/plain": [
       "'______________tail_____________________'"
      ]
     },
     "metadata": {},
     "output_type": "display_data"
    },
    {
     "data": {
      "text/html": [
       "<div>\n",
       "<style scoped>\n",
       "    .dataframe tbody tr th:only-of-type {\n",
       "        vertical-align: middle;\n",
       "    }\n",
       "\n",
       "    .dataframe tbody tr th {\n",
       "        vertical-align: top;\n",
       "    }\n",
       "\n",
       "    .dataframe thead th {\n",
       "        text-align: right;\n",
       "    }\n",
       "</style>\n",
       "<table border=\"1\" class=\"dataframe\">\n",
       "  <thead>\n",
       "    <tr style=\"text-align: right;\">\n",
       "      <th></th>\n",
       "      <th>date</th>\n",
       "      <th>group</th>\n",
       "      <th>visitors</th>\n",
       "    </tr>\n",
       "  </thead>\n",
       "  <tbody>\n",
       "    <tr>\n",
       "      <td>52</td>\n",
       "      <td>2019-08-22</td>\n",
       "      <td>B</td>\n",
       "      <td>650</td>\n",
       "    </tr>\n",
       "    <tr>\n",
       "      <td>53</td>\n",
       "      <td>2019-08-23</td>\n",
       "      <td>B</td>\n",
       "      <td>546</td>\n",
       "    </tr>\n",
       "    <tr>\n",
       "      <td>54</td>\n",
       "      <td>2019-08-24</td>\n",
       "      <td>B</td>\n",
       "      <td>378</td>\n",
       "    </tr>\n",
       "    <tr>\n",
       "      <td>55</td>\n",
       "      <td>2019-08-25</td>\n",
       "      <td>B</td>\n",
       "      <td>679</td>\n",
       "    </tr>\n",
       "    <tr>\n",
       "      <td>56</td>\n",
       "      <td>2019-08-26</td>\n",
       "      <td>B</td>\n",
       "      <td>676</td>\n",
       "    </tr>\n",
       "    <tr>\n",
       "      <td>57</td>\n",
       "      <td>2019-08-27</td>\n",
       "      <td>B</td>\n",
       "      <td>720</td>\n",
       "    </tr>\n",
       "    <tr>\n",
       "      <td>58</td>\n",
       "      <td>2019-08-28</td>\n",
       "      <td>B</td>\n",
       "      <td>654</td>\n",
       "    </tr>\n",
       "    <tr>\n",
       "      <td>59</td>\n",
       "      <td>2019-08-29</td>\n",
       "      <td>B</td>\n",
       "      <td>531</td>\n",
       "    </tr>\n",
       "    <tr>\n",
       "      <td>60</td>\n",
       "      <td>2019-08-30</td>\n",
       "      <td>B</td>\n",
       "      <td>490</td>\n",
       "    </tr>\n",
       "    <tr>\n",
       "      <td>61</td>\n",
       "      <td>2019-08-31</td>\n",
       "      <td>B</td>\n",
       "      <td>718</td>\n",
       "    </tr>\n",
       "  </tbody>\n",
       "</table>\n",
       "</div>"
      ],
      "text/plain": [
       "          date group  visitors\n",
       "52  2019-08-22     B       650\n",
       "53  2019-08-23     B       546\n",
       "54  2019-08-24     B       378\n",
       "55  2019-08-25     B       679\n",
       "56  2019-08-26     B       676\n",
       "57  2019-08-27     B       720\n",
       "58  2019-08-28     B       654\n",
       "59  2019-08-29     B       531\n",
       "60  2019-08-30     B       490\n",
       "61  2019-08-31     B       718"
      ]
     },
     "metadata": {},
     "output_type": "display_data"
    },
    {
     "data": {
      "text/plain": [
       "'_____________isna______________________'"
      ]
     },
     "metadata": {},
     "output_type": "display_data"
    },
    {
     "data": {
      "text/plain": [
       "date        0\n",
       "group       0\n",
       "visitors    0\n",
       "dtype: int64"
      ]
     },
     "metadata": {},
     "output_type": "display_data"
    },
    {
     "data": {
      "text/plain": [
       "'_____________duplicated________________'"
      ]
     },
     "metadata": {},
     "output_type": "display_data"
    },
    {
     "data": {
      "text/plain": [
       "0"
      ]
     },
     "metadata": {},
     "output_type": "display_data"
    },
    {
     "data": {
      "text/plain": [
       "'______________info_____________________'"
      ]
     },
     "metadata": {},
     "output_type": "display_data"
    },
    {
     "name": "stdout",
     "output_type": "stream",
     "text": [
      "<class 'pandas.core.frame.DataFrame'>\n",
      "RangeIndex: 1197 entries, 0 to 1196\n",
      "Data columns (total 5 columns):\n",
      "transactionId    1197 non-null int64\n",
      "visitorId        1197 non-null int64\n",
      "date             1197 non-null object\n",
      "revenue          1197 non-null int64\n",
      "group            1197 non-null object\n",
      "dtypes: int64(3), object(2)\n",
      "memory usage: 46.9+ KB\n"
     ]
    },
    {
     "data": {
      "text/plain": [
       "None"
      ]
     },
     "metadata": {},
     "output_type": "display_data"
    },
    {
     "data": {
      "text/plain": [
       "'______________describe_________________'"
      ]
     },
     "metadata": {},
     "output_type": "display_data"
    },
    {
     "data": {
      "text/html": [
       "<div>\n",
       "<style scoped>\n",
       "    .dataframe tbody tr th:only-of-type {\n",
       "        vertical-align: middle;\n",
       "    }\n",
       "\n",
       "    .dataframe tbody tr th {\n",
       "        vertical-align: top;\n",
       "    }\n",
       "\n",
       "    .dataframe thead th {\n",
       "        text-align: right;\n",
       "    }\n",
       "</style>\n",
       "<table border=\"1\" class=\"dataframe\">\n",
       "  <thead>\n",
       "    <tr style=\"text-align: right;\">\n",
       "      <th></th>\n",
       "      <th>transactionId</th>\n",
       "      <th>visitorId</th>\n",
       "      <th>revenue</th>\n",
       "    </tr>\n",
       "  </thead>\n",
       "  <tbody>\n",
       "    <tr>\n",
       "      <td>count</td>\n",
       "      <td>1.197000e+03</td>\n",
       "      <td>1.197000e+03</td>\n",
       "      <td>1.197000e+03</td>\n",
       "    </tr>\n",
       "    <tr>\n",
       "      <td>mean</td>\n",
       "      <td>2.155621e+09</td>\n",
       "      <td>2.165960e+09</td>\n",
       "      <td>8.348006e+03</td>\n",
       "    </tr>\n",
       "    <tr>\n",
       "      <td>std</td>\n",
       "      <td>1.229085e+09</td>\n",
       "      <td>1.236014e+09</td>\n",
       "      <td>3.919113e+04</td>\n",
       "    </tr>\n",
       "    <tr>\n",
       "      <td>min</td>\n",
       "      <td>1.062393e+06</td>\n",
       "      <td>5.114589e+06</td>\n",
       "      <td>5.000000e+01</td>\n",
       "    </tr>\n",
       "    <tr>\n",
       "      <td>25%</td>\n",
       "      <td>1.166776e+09</td>\n",
       "      <td>1.111826e+09</td>\n",
       "      <td>1.220000e+03</td>\n",
       "    </tr>\n",
       "    <tr>\n",
       "      <td>50%</td>\n",
       "      <td>2.145194e+09</td>\n",
       "      <td>2.217985e+09</td>\n",
       "      <td>2.978000e+03</td>\n",
       "    </tr>\n",
       "    <tr>\n",
       "      <td>75%</td>\n",
       "      <td>3.237740e+09</td>\n",
       "      <td>3.177606e+09</td>\n",
       "      <td>8.290000e+03</td>\n",
       "    </tr>\n",
       "    <tr>\n",
       "      <td>max</td>\n",
       "      <td>4.293856e+09</td>\n",
       "      <td>4.283872e+09</td>\n",
       "      <td>1.294500e+06</td>\n",
       "    </tr>\n",
       "  </tbody>\n",
       "</table>\n",
       "</div>"
      ],
      "text/plain": [
       "       transactionId     visitorId       revenue\n",
       "count   1.197000e+03  1.197000e+03  1.197000e+03\n",
       "mean    2.155621e+09  2.165960e+09  8.348006e+03\n",
       "std     1.229085e+09  1.236014e+09  3.919113e+04\n",
       "min     1.062393e+06  5.114589e+06  5.000000e+01\n",
       "25%     1.166776e+09  1.111826e+09  1.220000e+03\n",
       "50%     2.145194e+09  2.217985e+09  2.978000e+03\n",
       "75%     3.237740e+09  3.177606e+09  8.290000e+03\n",
       "max     4.293856e+09  4.283872e+09  1.294500e+06"
      ]
     },
     "metadata": {},
     "output_type": "display_data"
    },
    {
     "data": {
      "text/plain": [
       "'______________head_____________________'"
      ]
     },
     "metadata": {},
     "output_type": "display_data"
    },
    {
     "data": {
      "text/html": [
       "<div>\n",
       "<style scoped>\n",
       "    .dataframe tbody tr th:only-of-type {\n",
       "        vertical-align: middle;\n",
       "    }\n",
       "\n",
       "    .dataframe tbody tr th {\n",
       "        vertical-align: top;\n",
       "    }\n",
       "\n",
       "    .dataframe thead th {\n",
       "        text-align: right;\n",
       "    }\n",
       "</style>\n",
       "<table border=\"1\" class=\"dataframe\">\n",
       "  <thead>\n",
       "    <tr style=\"text-align: right;\">\n",
       "      <th></th>\n",
       "      <th>transactionId</th>\n",
       "      <th>visitorId</th>\n",
       "      <th>date</th>\n",
       "      <th>revenue</th>\n",
       "      <th>group</th>\n",
       "    </tr>\n",
       "  </thead>\n",
       "  <tbody>\n",
       "    <tr>\n",
       "      <td>0</td>\n",
       "      <td>3667963787</td>\n",
       "      <td>3312258926</td>\n",
       "      <td>2019-08-15</td>\n",
       "      <td>1650</td>\n",
       "      <td>B</td>\n",
       "    </tr>\n",
       "    <tr>\n",
       "      <td>1</td>\n",
       "      <td>2804400009</td>\n",
       "      <td>3642806036</td>\n",
       "      <td>2019-08-15</td>\n",
       "      <td>730</td>\n",
       "      <td>B</td>\n",
       "    </tr>\n",
       "    <tr>\n",
       "      <td>2</td>\n",
       "      <td>2961555356</td>\n",
       "      <td>4069496402</td>\n",
       "      <td>2019-08-15</td>\n",
       "      <td>400</td>\n",
       "      <td>A</td>\n",
       "    </tr>\n",
       "    <tr>\n",
       "      <td>3</td>\n",
       "      <td>3797467345</td>\n",
       "      <td>1196621759</td>\n",
       "      <td>2019-08-15</td>\n",
       "      <td>9759</td>\n",
       "      <td>B</td>\n",
       "    </tr>\n",
       "    <tr>\n",
       "      <td>4</td>\n",
       "      <td>2282983706</td>\n",
       "      <td>2322279887</td>\n",
       "      <td>2019-08-15</td>\n",
       "      <td>2308</td>\n",
       "      <td>B</td>\n",
       "    </tr>\n",
       "    <tr>\n",
       "      <td>5</td>\n",
       "      <td>182168103</td>\n",
       "      <td>935554773</td>\n",
       "      <td>2019-08-15</td>\n",
       "      <td>2210</td>\n",
       "      <td>B</td>\n",
       "    </tr>\n",
       "    <tr>\n",
       "      <td>6</td>\n",
       "      <td>398296753</td>\n",
       "      <td>2900797465</td>\n",
       "      <td>2019-08-15</td>\n",
       "      <td>1860</td>\n",
       "      <td>B</td>\n",
       "    </tr>\n",
       "    <tr>\n",
       "      <td>7</td>\n",
       "      <td>2626614568</td>\n",
       "      <td>78758296</td>\n",
       "      <td>2019-08-15</td>\n",
       "      <td>1044</td>\n",
       "      <td>A</td>\n",
       "    </tr>\n",
       "    <tr>\n",
       "      <td>8</td>\n",
       "      <td>1576988021</td>\n",
       "      <td>295230930</td>\n",
       "      <td>2019-08-15</td>\n",
       "      <td>13710</td>\n",
       "      <td>A</td>\n",
       "    </tr>\n",
       "    <tr>\n",
       "      <td>9</td>\n",
       "      <td>1506739906</td>\n",
       "      <td>1882260405</td>\n",
       "      <td>2019-08-15</td>\n",
       "      <td>1855</td>\n",
       "      <td>B</td>\n",
       "    </tr>\n",
       "  </tbody>\n",
       "</table>\n",
       "</div>"
      ],
      "text/plain": [
       "   transactionId   visitorId        date  revenue group\n",
       "0     3667963787  3312258926  2019-08-15     1650     B\n",
       "1     2804400009  3642806036  2019-08-15      730     B\n",
       "2     2961555356  4069496402  2019-08-15      400     A\n",
       "3     3797467345  1196621759  2019-08-15     9759     B\n",
       "4     2282983706  2322279887  2019-08-15     2308     B\n",
       "5      182168103   935554773  2019-08-15     2210     B\n",
       "6      398296753  2900797465  2019-08-15     1860     B\n",
       "7     2626614568    78758296  2019-08-15     1044     A\n",
       "8     1576988021   295230930  2019-08-15    13710     A\n",
       "9     1506739906  1882260405  2019-08-15     1855     B"
      ]
     },
     "metadata": {},
     "output_type": "display_data"
    },
    {
     "data": {
      "text/plain": [
       "'______________tail_____________________'"
      ]
     },
     "metadata": {},
     "output_type": "display_data"
    },
    {
     "data": {
      "text/html": [
       "<div>\n",
       "<style scoped>\n",
       "    .dataframe tbody tr th:only-of-type {\n",
       "        vertical-align: middle;\n",
       "    }\n",
       "\n",
       "    .dataframe tbody tr th {\n",
       "        vertical-align: top;\n",
       "    }\n",
       "\n",
       "    .dataframe thead th {\n",
       "        text-align: right;\n",
       "    }\n",
       "</style>\n",
       "<table border=\"1\" class=\"dataframe\">\n",
       "  <thead>\n",
       "    <tr style=\"text-align: right;\">\n",
       "      <th></th>\n",
       "      <th>transactionId</th>\n",
       "      <th>visitorId</th>\n",
       "      <th>date</th>\n",
       "      <th>revenue</th>\n",
       "      <th>group</th>\n",
       "    </tr>\n",
       "  </thead>\n",
       "  <tbody>\n",
       "    <tr>\n",
       "      <td>1187</td>\n",
       "      <td>2274188238</td>\n",
       "      <td>132143192</td>\n",
       "      <td>2019-08-14</td>\n",
       "      <td>750</td>\n",
       "      <td>A</td>\n",
       "    </tr>\n",
       "    <tr>\n",
       "      <td>1188</td>\n",
       "      <td>1692103379</td>\n",
       "      <td>1022829655</td>\n",
       "      <td>2019-08-14</td>\n",
       "      <td>112</td>\n",
       "      <td>A</td>\n",
       "    </tr>\n",
       "    <tr>\n",
       "      <td>1189</td>\n",
       "      <td>4082620617</td>\n",
       "      <td>393266494</td>\n",
       "      <td>2019-08-14</td>\n",
       "      <td>31550</td>\n",
       "      <td>B</td>\n",
       "    </tr>\n",
       "    <tr>\n",
       "      <td>1190</td>\n",
       "      <td>38478481</td>\n",
       "      <td>1197745035</td>\n",
       "      <td>2019-08-14</td>\n",
       "      <td>8600</td>\n",
       "      <td>B</td>\n",
       "    </tr>\n",
       "    <tr>\n",
       "      <td>1191</td>\n",
       "      <td>3592955527</td>\n",
       "      <td>608641596</td>\n",
       "      <td>2019-08-14</td>\n",
       "      <td>16490</td>\n",
       "      <td>B</td>\n",
       "    </tr>\n",
       "    <tr>\n",
       "      <td>1192</td>\n",
       "      <td>2662137336</td>\n",
       "      <td>3733762160</td>\n",
       "      <td>2019-08-14</td>\n",
       "      <td>6490</td>\n",
       "      <td>B</td>\n",
       "    </tr>\n",
       "    <tr>\n",
       "      <td>1193</td>\n",
       "      <td>2203539145</td>\n",
       "      <td>370388673</td>\n",
       "      <td>2019-08-14</td>\n",
       "      <td>3190</td>\n",
       "      <td>A</td>\n",
       "    </tr>\n",
       "    <tr>\n",
       "      <td>1194</td>\n",
       "      <td>1807773912</td>\n",
       "      <td>573423106</td>\n",
       "      <td>2019-08-14</td>\n",
       "      <td>10550</td>\n",
       "      <td>A</td>\n",
       "    </tr>\n",
       "    <tr>\n",
       "      <td>1195</td>\n",
       "      <td>1947021204</td>\n",
       "      <td>1614305549</td>\n",
       "      <td>2019-08-14</td>\n",
       "      <td>100</td>\n",
       "      <td>A</td>\n",
       "    </tr>\n",
       "    <tr>\n",
       "      <td>1196</td>\n",
       "      <td>3936777065</td>\n",
       "      <td>2108080724</td>\n",
       "      <td>2019-08-15</td>\n",
       "      <td>202740</td>\n",
       "      <td>B</td>\n",
       "    </tr>\n",
       "  </tbody>\n",
       "</table>\n",
       "</div>"
      ],
      "text/plain": [
       "      transactionId   visitorId        date  revenue group\n",
       "1187     2274188238   132143192  2019-08-14      750     A\n",
       "1188     1692103379  1022829655  2019-08-14      112     A\n",
       "1189     4082620617   393266494  2019-08-14    31550     B\n",
       "1190       38478481  1197745035  2019-08-14     8600     B\n",
       "1191     3592955527   608641596  2019-08-14    16490     B\n",
       "1192     2662137336  3733762160  2019-08-14     6490     B\n",
       "1193     2203539145   370388673  2019-08-14     3190     A\n",
       "1194     1807773912   573423106  2019-08-14    10550     A\n",
       "1195     1947021204  1614305549  2019-08-14      100     A\n",
       "1196     3936777065  2108080724  2019-08-15   202740     B"
      ]
     },
     "metadata": {},
     "output_type": "display_data"
    },
    {
     "data": {
      "text/plain": [
       "'_____________isna______________________'"
      ]
     },
     "metadata": {},
     "output_type": "display_data"
    },
    {
     "data": {
      "text/plain": [
       "transactionId    0\n",
       "visitorId        0\n",
       "date             0\n",
       "revenue          0\n",
       "group            0\n",
       "dtype: int64"
      ]
     },
     "metadata": {},
     "output_type": "display_data"
    },
    {
     "data": {
      "text/plain": [
       "'_____________duplicated________________'"
      ]
     },
     "metadata": {},
     "output_type": "display_data"
    },
    {
     "data": {
      "text/plain": [
       "0"
      ]
     },
     "metadata": {},
     "output_type": "display_data"
    },
    {
     "data": {
      "text/plain": [
       "'______________info_____________________'"
      ]
     },
     "metadata": {},
     "output_type": "display_data"
    },
    {
     "name": "stdout",
     "output_type": "stream",
     "text": [
      "<class 'pandas.core.frame.DataFrame'>\n",
      "RangeIndex: 9 entries, 0 to 8\n",
      "Data columns (total 5 columns):\n",
      "Hypothesis    9 non-null object\n",
      "Reach         9 non-null int64\n",
      "Impact        9 non-null int64\n",
      "Confidence    9 non-null int64\n",
      "Efforts       9 non-null int64\n",
      "dtypes: int64(4), object(1)\n",
      "memory usage: 488.0+ bytes\n"
     ]
    },
    {
     "data": {
      "text/plain": [
       "None"
      ]
     },
     "metadata": {},
     "output_type": "display_data"
    },
    {
     "data": {
      "text/plain": [
       "'______________describe_________________'"
      ]
     },
     "metadata": {},
     "output_type": "display_data"
    },
    {
     "data": {
      "text/html": [
       "<div>\n",
       "<style scoped>\n",
       "    .dataframe tbody tr th:only-of-type {\n",
       "        vertical-align: middle;\n",
       "    }\n",
       "\n",
       "    .dataframe tbody tr th {\n",
       "        vertical-align: top;\n",
       "    }\n",
       "\n",
       "    .dataframe thead th {\n",
       "        text-align: right;\n",
       "    }\n",
       "</style>\n",
       "<table border=\"1\" class=\"dataframe\">\n",
       "  <thead>\n",
       "    <tr style=\"text-align: right;\">\n",
       "      <th></th>\n",
       "      <th>Reach</th>\n",
       "      <th>Impact</th>\n",
       "      <th>Confidence</th>\n",
       "      <th>Efforts</th>\n",
       "    </tr>\n",
       "  </thead>\n",
       "  <tbody>\n",
       "    <tr>\n",
       "      <td>count</td>\n",
       "      <td>9.000000</td>\n",
       "      <td>9.000000</td>\n",
       "      <td>9.000000</td>\n",
       "      <td>9.000000</td>\n",
       "    </tr>\n",
       "    <tr>\n",
       "      <td>mean</td>\n",
       "      <td>4.777778</td>\n",
       "      <td>4.777778</td>\n",
       "      <td>5.555556</td>\n",
       "      <td>4.888889</td>\n",
       "    </tr>\n",
       "    <tr>\n",
       "      <td>std</td>\n",
       "      <td>3.153481</td>\n",
       "      <td>3.192874</td>\n",
       "      <td>3.045944</td>\n",
       "      <td>2.803767</td>\n",
       "    </tr>\n",
       "    <tr>\n",
       "      <td>min</td>\n",
       "      <td>1.000000</td>\n",
       "      <td>1.000000</td>\n",
       "      <td>1.000000</td>\n",
       "      <td>1.000000</td>\n",
       "    </tr>\n",
       "    <tr>\n",
       "      <td>25%</td>\n",
       "      <td>3.000000</td>\n",
       "      <td>3.000000</td>\n",
       "      <td>3.000000</td>\n",
       "      <td>3.000000</td>\n",
       "    </tr>\n",
       "    <tr>\n",
       "      <td>50%</td>\n",
       "      <td>3.000000</td>\n",
       "      <td>3.000000</td>\n",
       "      <td>7.000000</td>\n",
       "      <td>5.000000</td>\n",
       "    </tr>\n",
       "    <tr>\n",
       "      <td>75%</td>\n",
       "      <td>8.000000</td>\n",
       "      <td>7.000000</td>\n",
       "      <td>8.000000</td>\n",
       "      <td>6.000000</td>\n",
       "    </tr>\n",
       "    <tr>\n",
       "      <td>max</td>\n",
       "      <td>10.000000</td>\n",
       "      <td>10.000000</td>\n",
       "      <td>9.000000</td>\n",
       "      <td>10.000000</td>\n",
       "    </tr>\n",
       "  </tbody>\n",
       "</table>\n",
       "</div>"
      ],
      "text/plain": [
       "           Reach     Impact  Confidence    Efforts\n",
       "count   9.000000   9.000000    9.000000   9.000000\n",
       "mean    4.777778   4.777778    5.555556   4.888889\n",
       "std     3.153481   3.192874    3.045944   2.803767\n",
       "min     1.000000   1.000000    1.000000   1.000000\n",
       "25%     3.000000   3.000000    3.000000   3.000000\n",
       "50%     3.000000   3.000000    7.000000   5.000000\n",
       "75%     8.000000   7.000000    8.000000   6.000000\n",
       "max    10.000000  10.000000    9.000000  10.000000"
      ]
     },
     "metadata": {},
     "output_type": "display_data"
    },
    {
     "data": {
      "text/plain": [
       "'______________head_____________________'"
      ]
     },
     "metadata": {},
     "output_type": "display_data"
    },
    {
     "data": {
      "text/html": [
       "<div>\n",
       "<style scoped>\n",
       "    .dataframe tbody tr th:only-of-type {\n",
       "        vertical-align: middle;\n",
       "    }\n",
       "\n",
       "    .dataframe tbody tr th {\n",
       "        vertical-align: top;\n",
       "    }\n",
       "\n",
       "    .dataframe thead th {\n",
       "        text-align: right;\n",
       "    }\n",
       "</style>\n",
       "<table border=\"1\" class=\"dataframe\">\n",
       "  <thead>\n",
       "    <tr style=\"text-align: right;\">\n",
       "      <th></th>\n",
       "      <th>Hypothesis</th>\n",
       "      <th>Reach</th>\n",
       "      <th>Impact</th>\n",
       "      <th>Confidence</th>\n",
       "      <th>Efforts</th>\n",
       "    </tr>\n",
       "  </thead>\n",
       "  <tbody>\n",
       "    <tr>\n",
       "      <td>0</td>\n",
       "      <td>Добавить два новых канала привлечения трафика, что позволит привлекать на 30% больше пользователей</td>\n",
       "      <td>3</td>\n",
       "      <td>10</td>\n",
       "      <td>8</td>\n",
       "      <td>6</td>\n",
       "    </tr>\n",
       "    <tr>\n",
       "      <td>1</td>\n",
       "      <td>Запустить собственную службу доставки, что сократит срок доставки заказов</td>\n",
       "      <td>2</td>\n",
       "      <td>5</td>\n",
       "      <td>4</td>\n",
       "      <td>10</td>\n",
       "    </tr>\n",
       "    <tr>\n",
       "      <td>2</td>\n",
       "      <td>Добавить блоки рекомендаций товаров на сайт интернет магазина, чтобы повысить конверсию и средний чек заказа</td>\n",
       "      <td>8</td>\n",
       "      <td>3</td>\n",
       "      <td>7</td>\n",
       "      <td>3</td>\n",
       "    </tr>\n",
       "    <tr>\n",
       "      <td>3</td>\n",
       "      <td>Изменить структура категорий, что увеличит конверсию, т.к. пользователи быстрее найдут нужный товар</td>\n",
       "      <td>8</td>\n",
       "      <td>3</td>\n",
       "      <td>3</td>\n",
       "      <td>8</td>\n",
       "    </tr>\n",
       "    <tr>\n",
       "      <td>4</td>\n",
       "      <td>Изменить цвет фона главной страницы, чтобы увеличить вовлеченность пользователей</td>\n",
       "      <td>3</td>\n",
       "      <td>1</td>\n",
       "      <td>1</td>\n",
       "      <td>1</td>\n",
       "    </tr>\n",
       "    <tr>\n",
       "      <td>5</td>\n",
       "      <td>Добавить страницу отзывов клиентов о магазине, что позволит увеличить количество заказов</td>\n",
       "      <td>3</td>\n",
       "      <td>2</td>\n",
       "      <td>2</td>\n",
       "      <td>3</td>\n",
       "    </tr>\n",
       "    <tr>\n",
       "      <td>6</td>\n",
       "      <td>Показать на главной странице баннеры с актуальными акциями и распродажами, чтобы увеличить конверсию</td>\n",
       "      <td>5</td>\n",
       "      <td>3</td>\n",
       "      <td>8</td>\n",
       "      <td>3</td>\n",
       "    </tr>\n",
       "    <tr>\n",
       "      <td>7</td>\n",
       "      <td>Добавить форму подписки на все основные страницы, чтобы собрать базу клиентов для email-рассылок</td>\n",
       "      <td>10</td>\n",
       "      <td>7</td>\n",
       "      <td>8</td>\n",
       "      <td>5</td>\n",
       "    </tr>\n",
       "    <tr>\n",
       "      <td>8</td>\n",
       "      <td>Запустить акцию, дающую скидку на товар в день рождения</td>\n",
       "      <td>1</td>\n",
       "      <td>9</td>\n",
       "      <td>9</td>\n",
       "      <td>5</td>\n",
       "    </tr>\n",
       "  </tbody>\n",
       "</table>\n",
       "</div>"
      ],
      "text/plain": [
       "                                                                                                     Hypothesis  \\\n",
       "0            Добавить два новых канала привлечения трафика, что позволит привлекать на 30% больше пользователей   \n",
       "1                                     Запустить собственную службу доставки, что сократит срок доставки заказов   \n",
       "2  Добавить блоки рекомендаций товаров на сайт интернет магазина, чтобы повысить конверсию и средний чек заказа   \n",
       "3           Изменить структура категорий, что увеличит конверсию, т.к. пользователи быстрее найдут нужный товар   \n",
       "4                              Изменить цвет фона главной страницы, чтобы увеличить вовлеченность пользователей   \n",
       "5                      Добавить страницу отзывов клиентов о магазине, что позволит увеличить количество заказов   \n",
       "6          Показать на главной странице баннеры с актуальными акциями и распродажами, чтобы увеличить конверсию   \n",
       "7              Добавить форму подписки на все основные страницы, чтобы собрать базу клиентов для email-рассылок   \n",
       "8                                                       Запустить акцию, дающую скидку на товар в день рождения   \n",
       "\n",
       "   Reach  Impact  Confidence  Efforts  \n",
       "0      3      10           8        6  \n",
       "1      2       5           4       10  \n",
       "2      8       3           7        3  \n",
       "3      8       3           3        8  \n",
       "4      3       1           1        1  \n",
       "5      3       2           2        3  \n",
       "6      5       3           8        3  \n",
       "7     10       7           8        5  \n",
       "8      1       9           9        5  "
      ]
     },
     "metadata": {},
     "output_type": "display_data"
    },
    {
     "data": {
      "text/plain": [
       "'______________tail_____________________'"
      ]
     },
     "metadata": {},
     "output_type": "display_data"
    },
    {
     "data": {
      "text/html": [
       "<div>\n",
       "<style scoped>\n",
       "    .dataframe tbody tr th:only-of-type {\n",
       "        vertical-align: middle;\n",
       "    }\n",
       "\n",
       "    .dataframe tbody tr th {\n",
       "        vertical-align: top;\n",
       "    }\n",
       "\n",
       "    .dataframe thead th {\n",
       "        text-align: right;\n",
       "    }\n",
       "</style>\n",
       "<table border=\"1\" class=\"dataframe\">\n",
       "  <thead>\n",
       "    <tr style=\"text-align: right;\">\n",
       "      <th></th>\n",
       "      <th>Hypothesis</th>\n",
       "      <th>Reach</th>\n",
       "      <th>Impact</th>\n",
       "      <th>Confidence</th>\n",
       "      <th>Efforts</th>\n",
       "    </tr>\n",
       "  </thead>\n",
       "  <tbody>\n",
       "    <tr>\n",
       "      <td>0</td>\n",
       "      <td>Добавить два новых канала привлечения трафика, что позволит привлекать на 30% больше пользователей</td>\n",
       "      <td>3</td>\n",
       "      <td>10</td>\n",
       "      <td>8</td>\n",
       "      <td>6</td>\n",
       "    </tr>\n",
       "    <tr>\n",
       "      <td>1</td>\n",
       "      <td>Запустить собственную службу доставки, что сократит срок доставки заказов</td>\n",
       "      <td>2</td>\n",
       "      <td>5</td>\n",
       "      <td>4</td>\n",
       "      <td>10</td>\n",
       "    </tr>\n",
       "    <tr>\n",
       "      <td>2</td>\n",
       "      <td>Добавить блоки рекомендаций товаров на сайт интернет магазина, чтобы повысить конверсию и средний чек заказа</td>\n",
       "      <td>8</td>\n",
       "      <td>3</td>\n",
       "      <td>7</td>\n",
       "      <td>3</td>\n",
       "    </tr>\n",
       "    <tr>\n",
       "      <td>3</td>\n",
       "      <td>Изменить структура категорий, что увеличит конверсию, т.к. пользователи быстрее найдут нужный товар</td>\n",
       "      <td>8</td>\n",
       "      <td>3</td>\n",
       "      <td>3</td>\n",
       "      <td>8</td>\n",
       "    </tr>\n",
       "    <tr>\n",
       "      <td>4</td>\n",
       "      <td>Изменить цвет фона главной страницы, чтобы увеличить вовлеченность пользователей</td>\n",
       "      <td>3</td>\n",
       "      <td>1</td>\n",
       "      <td>1</td>\n",
       "      <td>1</td>\n",
       "    </tr>\n",
       "    <tr>\n",
       "      <td>5</td>\n",
       "      <td>Добавить страницу отзывов клиентов о магазине, что позволит увеличить количество заказов</td>\n",
       "      <td>3</td>\n",
       "      <td>2</td>\n",
       "      <td>2</td>\n",
       "      <td>3</td>\n",
       "    </tr>\n",
       "    <tr>\n",
       "      <td>6</td>\n",
       "      <td>Показать на главной странице баннеры с актуальными акциями и распродажами, чтобы увеличить конверсию</td>\n",
       "      <td>5</td>\n",
       "      <td>3</td>\n",
       "      <td>8</td>\n",
       "      <td>3</td>\n",
       "    </tr>\n",
       "    <tr>\n",
       "      <td>7</td>\n",
       "      <td>Добавить форму подписки на все основные страницы, чтобы собрать базу клиентов для email-рассылок</td>\n",
       "      <td>10</td>\n",
       "      <td>7</td>\n",
       "      <td>8</td>\n",
       "      <td>5</td>\n",
       "    </tr>\n",
       "    <tr>\n",
       "      <td>8</td>\n",
       "      <td>Запустить акцию, дающую скидку на товар в день рождения</td>\n",
       "      <td>1</td>\n",
       "      <td>9</td>\n",
       "      <td>9</td>\n",
       "      <td>5</td>\n",
       "    </tr>\n",
       "  </tbody>\n",
       "</table>\n",
       "</div>"
      ],
      "text/plain": [
       "                                                                                                     Hypothesis  \\\n",
       "0            Добавить два новых канала привлечения трафика, что позволит привлекать на 30% больше пользователей   \n",
       "1                                     Запустить собственную службу доставки, что сократит срок доставки заказов   \n",
       "2  Добавить блоки рекомендаций товаров на сайт интернет магазина, чтобы повысить конверсию и средний чек заказа   \n",
       "3           Изменить структура категорий, что увеличит конверсию, т.к. пользователи быстрее найдут нужный товар   \n",
       "4                              Изменить цвет фона главной страницы, чтобы увеличить вовлеченность пользователей   \n",
       "5                      Добавить страницу отзывов клиентов о магазине, что позволит увеличить количество заказов   \n",
       "6          Показать на главной странице баннеры с актуальными акциями и распродажами, чтобы увеличить конверсию   \n",
       "7              Добавить форму подписки на все основные страницы, чтобы собрать базу клиентов для email-рассылок   \n",
       "8                                                       Запустить акцию, дающую скидку на товар в день рождения   \n",
       "\n",
       "   Reach  Impact  Confidence  Efforts  \n",
       "0      3      10           8        6  \n",
       "1      2       5           4       10  \n",
       "2      8       3           7        3  \n",
       "3      8       3           3        8  \n",
       "4      3       1           1        1  \n",
       "5      3       2           2        3  \n",
       "6      5       3           8        3  \n",
       "7     10       7           8        5  \n",
       "8      1       9           9        5  "
      ]
     },
     "metadata": {},
     "output_type": "display_data"
    },
    {
     "data": {
      "text/plain": [
       "'_____________isna______________________'"
      ]
     },
     "metadata": {},
     "output_type": "display_data"
    },
    {
     "data": {
      "text/plain": [
       "Hypothesis    0\n",
       "Reach         0\n",
       "Impact        0\n",
       "Confidence    0\n",
       "Efforts       0\n",
       "dtype: int64"
      ]
     },
     "metadata": {},
     "output_type": "display_data"
    },
    {
     "data": {
      "text/plain": [
       "'_____________duplicated________________'"
      ]
     },
     "metadata": {},
     "output_type": "display_data"
    },
    {
     "data": {
      "text/plain": [
       "0"
      ]
     },
     "metadata": {},
     "output_type": "display_data"
    }
   ],
   "source": [
    "list_df = (visitors, orders, hypothesis)\n",
    "for list_df in list_df:\n",
    "    display('______________info_____________________')\n",
    "    display(list_df.info())\n",
    "    display('______________describe_________________')\n",
    "    display(list_df.describe())\n",
    "    display('______________head_____________________')\n",
    "    display(list_df.head(10))\n",
    "    display('______________tail_____________________')\n",
    "    display(list_df.tail(10))\n",
    "    display('_____________isna______________________')\n",
    "    display(list_df.isna().sum())\n",
    "    display('_____________duplicated________________')\n",
    "    display(list_df.duplicated().sum())"
   ]
  },
  {
   "cell_type": "markdown",
   "metadata": {},
   "source": [
    "Определим количество пользователей оказавшихся в двух группах одновременно:"
   ]
  },
  {
   "cell_type": "code",
   "execution_count": 4,
   "metadata": {},
   "outputs": [
    {
     "data": {
      "text/html": [
       "<div>\n",
       "<style scoped>\n",
       "    .dataframe tbody tr th:only-of-type {\n",
       "        vertical-align: middle;\n",
       "    }\n",
       "\n",
       "    .dataframe tbody tr th {\n",
       "        vertical-align: top;\n",
       "    }\n",
       "\n",
       "    .dataframe thead th {\n",
       "        text-align: right;\n",
       "    }\n",
       "</style>\n",
       "<table border=\"1\" class=\"dataframe\">\n",
       "  <thead>\n",
       "    <tr style=\"text-align: right;\">\n",
       "      <th></th>\n",
       "      <th>visitorId</th>\n",
       "      <th>group</th>\n",
       "    </tr>\n",
       "  </thead>\n",
       "  <tbody>\n",
       "    <tr>\n",
       "      <td>2</td>\n",
       "      <td>8300375</td>\n",
       "      <td>2</td>\n",
       "    </tr>\n",
       "    <tr>\n",
       "      <td>44</td>\n",
       "      <td>199603092</td>\n",
       "      <td>2</td>\n",
       "    </tr>\n",
       "    <tr>\n",
       "      <td>51</td>\n",
       "      <td>232979603</td>\n",
       "      <td>2</td>\n",
       "    </tr>\n",
       "    <tr>\n",
       "      <td>55</td>\n",
       "      <td>237748145</td>\n",
       "      <td>2</td>\n",
       "    </tr>\n",
       "    <tr>\n",
       "      <td>66</td>\n",
       "      <td>276558944</td>\n",
       "      <td>2</td>\n",
       "    </tr>\n",
       "  </tbody>\n",
       "</table>\n",
       "</div>"
      ],
      "text/plain": [
       "    visitorId  group\n",
       "2     8300375      2\n",
       "44  199603092      2\n",
       "51  232979603      2\n",
       "55  237748145      2\n",
       "66  276558944      2"
      ]
     },
     "execution_count": 4,
     "metadata": {},
     "output_type": "execute_result"
    }
   ],
   "source": [
    "double_users = orders.groupby('visitorId').agg({'group':'nunique'}).reset_index()\n",
    "double_users = double_users[double_users.group > 1]#.count().to_frame()\n",
    "\n",
    "double_users.head()"
   ]
  },
  {
   "cell_type": "code",
   "execution_count": 5,
   "metadata": {},
   "outputs": [
    {
     "data": {
      "text/html": [
       "<div>\n",
       "<style scoped>\n",
       "    .dataframe tbody tr th:only-of-type {\n",
       "        vertical-align: middle;\n",
       "    }\n",
       "\n",
       "    .dataframe tbody tr th {\n",
       "        vertical-align: top;\n",
       "    }\n",
       "\n",
       "    .dataframe thead th {\n",
       "        text-align: right;\n",
       "    }\n",
       "</style>\n",
       "<table border=\"1\" class=\"dataframe\">\n",
       "  <thead>\n",
       "    <tr style=\"text-align: right;\">\n",
       "      <th></th>\n",
       "      <th>0</th>\n",
       "    </tr>\n",
       "  </thead>\n",
       "  <tbody>\n",
       "    <tr>\n",
       "      <td>visitorId</td>\n",
       "      <td>58</td>\n",
       "    </tr>\n",
       "    <tr>\n",
       "      <td>group</td>\n",
       "      <td>58</td>\n",
       "    </tr>\n",
       "  </tbody>\n",
       "</table>\n",
       "</div>"
      ],
      "text/plain": [
       "            0\n",
       "visitorId  58\n",
       "group      58"
      ]
     },
     "execution_count": 5,
     "metadata": {},
     "output_type": "execute_result"
    }
   ],
   "source": [
    "double_users_cnt = double_users[double_users.group > 1].count().to_frame()\n",
    "double_users_cnt"
   ]
  },
  {
   "cell_type": "markdown",
   "metadata": {},
   "source": [
    "<a name=\"1.2\"></a>\n",
    "**Вывод:** \n",
    "* данные содержатся в трех таблицах, дублей и пропусков нет.\n",
    "* в `orders` 58 пользователей задублированны в двух группах одновременною\n",
    "* в первой таблице `visitors.csv` содержится информация о количестве визитов групп по дате.\n",
    "* во второй таблице `orders` содержится информация о транзакциях, ID пользователей, дате и количестве покупок в разбивке по группм. \n",
    "* в третьей таблице `hypothesis` содержится информация по условию проверяемых гипотез."
   ]
  },
  {
   "cell_type": "markdown",
   "metadata": {},
   "source": [
    "<div class=\"alert alert-block alert-warning\">\n",
    "    \n",
    "\n",
    "__Комментарий от ревьюера №1 (нужно доделать)__\n",
    "\n",
    "А вот тут можно было бы проверить как разделены наши пользователи на группы, возможно кто-то из них оказался неправильно размечен и оказался в двух группах одновременно.\n",
    "\n",
    "</div>"
   ]
  },
  {
   "cell_type": "markdown",
   "metadata": {},
   "source": [
    "<div class=\"alert alert-info\">\n",
    "<b>Комментарий студента:</b> Ok, исправил </div>"
   ]
  },
  {
   "cell_type": "markdown",
   "metadata": {},
   "source": [
    "<div class=\"alert alert-block alert-success\">\n",
    "    \n",
    "\n",
    "__Комментарий от ревьюера №2 (OK)__\n",
    "\n",
    "👍\n",
    "</div>"
   ]
  },
  {
   "cell_type": "markdown",
   "metadata": {},
   "source": [
    "<a name=\"2\"></a>\n",
    "## Подготовка данных"
   ]
  },
  {
   "cell_type": "markdown",
   "metadata": {},
   "source": [
    "Избавимся от дублей в `orders`:"
   ]
  },
  {
   "cell_type": "code",
   "execution_count": 6,
   "metadata": {},
   "outputs": [
    {
     "name": "stdout",
     "output_type": "stream",
     "text": [
      "<class 'pandas.core.frame.DataFrame'>\n",
      "Int64Index: 1016 entries, 0 to 1196\n",
      "Data columns (total 5 columns):\n",
      "transactionId    1016 non-null int64\n",
      "visitorId        1016 non-null int64\n",
      "date             1016 non-null object\n",
      "revenue          1016 non-null int64\n",
      "group            1016 non-null object\n",
      "dtypes: int64(3), object(2)\n",
      "memory usage: 47.6+ KB\n"
     ]
    }
   ],
   "source": [
    "orders = orders.loc[~(orders['visitorId'].isin(double_users['visitorId']))]\n",
    "orders.info()"
   ]
  },
  {
   "cell_type": "markdown",
   "metadata": {},
   "source": [
    "Преобразуем тип данных в `visitors`:"
   ]
  },
  {
   "cell_type": "code",
   "execution_count": 7,
   "metadata": {},
   "outputs": [
    {
     "name": "stdout",
     "output_type": "stream",
     "text": [
      "<class 'pandas.core.frame.DataFrame'>\n",
      "RangeIndex: 62 entries, 0 to 61\n",
      "Data columns (total 3 columns):\n",
      "date        62 non-null datetime64[ns]\n",
      "group       62 non-null object\n",
      "visitors    62 non-null int64\n",
      "dtypes: datetime64[ns](1), int64(1), object(1)\n",
      "memory usage: 1.6+ KB\n"
     ]
    }
   ],
   "source": [
    "visitors['date']=visitors['date'].astype('Datetime64')\n",
    "visitors.info()"
   ]
  },
  {
   "cell_type": "markdown",
   "metadata": {},
   "source": [
    "Преобразуем тип данных в `orders`:"
   ]
  },
  {
   "cell_type": "code",
   "execution_count": 8,
   "metadata": {},
   "outputs": [
    {
     "name": "stdout",
     "output_type": "stream",
     "text": [
      "<class 'pandas.core.frame.DataFrame'>\n",
      "Int64Index: 1016 entries, 0 to 1196\n",
      "Data columns (total 5 columns):\n",
      "transactionId    1016 non-null int64\n",
      "visitorId        1016 non-null int64\n",
      "date             1016 non-null datetime64[ns]\n",
      "revenue          1016 non-null int64\n",
      "group            1016 non-null object\n",
      "dtypes: datetime64[ns](1), int64(3), object(1)\n",
      "memory usage: 47.6+ KB\n"
     ]
    }
   ],
   "source": [
    "orders['date']=orders['date'].astype('Datetime64')\n",
    "orders.info()"
   ]
  },
  {
   "cell_type": "markdown",
   "metadata": {},
   "source": [
    "Приведем названия столбцов в `hypothesis` к нижнему регистру:"
   ]
  },
  {
   "cell_type": "code",
   "execution_count": 9,
   "metadata": {},
   "outputs": [
    {
     "data": {
      "text/plain": [
       "Index(['hypothesis', 'reach', 'impact', 'confidence', 'efforts'], dtype='object')"
      ]
     },
     "execution_count": 9,
     "metadata": {},
     "output_type": "execute_result"
    }
   ],
   "source": [
    "hypothesis.columns = hypothesis.columns.str.lower()\n",
    "hypothesis.columns"
   ]
  },
  {
   "cell_type": "markdown",
   "metadata": {},
   "source": [
    "Приведем названия столбцов в `orders` к нижнему регистру:"
   ]
  },
  {
   "cell_type": "code",
   "execution_count": 10,
   "metadata": {},
   "outputs": [
    {
     "data": {
      "text/plain": [
       "Index(['transactionid', 'visitorid', 'date', 'revenue', 'group'], dtype='object')"
      ]
     },
     "execution_count": 10,
     "metadata": {},
     "output_type": "execute_result"
    }
   ],
   "source": [
    "orders.columns = orders.columns.str.lower()\n",
    "orders.columns"
   ]
  },
  {
   "cell_type": "markdown",
   "metadata": {},
   "source": [
    "<a name=\"3\"></a>\n",
    "## Приоритизация гипотез"
   ]
  },
  {
   "cell_type": "markdown",
   "metadata": {},
   "source": [
    "### Расчитаем фреймворк ICE для приоритизации гипотез"
   ]
  },
  {
   "cell_type": "code",
   "execution_count": 11,
   "metadata": {},
   "outputs": [
    {
     "data": {
      "text/html": [
       "<style  type=\"text/css\" >\n",
       "    #T_6d0836f2_559b_11ec_83d9_02420a39008brow0_col1 {\n",
       "            background-color:  #e5ffe5;\n",
       "            color:  #000000;\n",
       "        }    #T_6d0836f2_559b_11ec_83d9_02420a39008brow0_col2 {\n",
       "            background-color:  #198e19;\n",
       "            color:  #000000;\n",
       "        }    #T_6d0836f2_559b_11ec_83d9_02420a39008brow0_col3 {\n",
       "            background-color:  #008000;\n",
       "            color:  #f1f1f1;\n",
       "        }    #T_6d0836f2_559b_11ec_83d9_02420a39008brow0_col4 {\n",
       "            background-color:  #80c780;\n",
       "            color:  #000000;\n",
       "        }    #T_6d0836f2_559b_11ec_83d9_02420a39008brow0_col5 {\n",
       "            background-color:  #008000;\n",
       "            color:  #f1f1f1;\n",
       "        }    #T_6d0836f2_559b_11ec_83d9_02420a39008brow1_col1 {\n",
       "            background-color:  #b3e3b3;\n",
       "            color:  #000000;\n",
       "        }    #T_6d0836f2_559b_11ec_83d9_02420a39008brow1_col2 {\n",
       "            background-color:  #008000;\n",
       "            color:  #f1f1f1;\n",
       "        }    #T_6d0836f2_559b_11ec_83d9_02420a39008brow1_col3 {\n",
       "            background-color:  #1c8f1c;\n",
       "            color:  #000000;\n",
       "        }    #T_6d0836f2_559b_11ec_83d9_02420a39008brow1_col4 {\n",
       "            background-color:  #66b866;\n",
       "            color:  #000000;\n",
       "        }    #T_6d0836f2_559b_11ec_83d9_02420a39008brow1_col5 {\n",
       "            background-color:  #2e992e;\n",
       "            color:  #000000;\n",
       "        }    #T_6d0836f2_559b_11ec_83d9_02420a39008brow2_col1 {\n",
       "            background-color:  #008000;\n",
       "            color:  #f1f1f1;\n",
       "        }    #T_6d0836f2_559b_11ec_83d9_02420a39008brow2_col2 {\n",
       "            background-color:  #4daa4d;\n",
       "            color:  #000000;\n",
       "        }    #T_6d0836f2_559b_11ec_83d9_02420a39008brow2_col3 {\n",
       "            background-color:  #1c8f1c;\n",
       "            color:  #000000;\n",
       "        }    #T_6d0836f2_559b_11ec_83d9_02420a39008brow2_col4 {\n",
       "            background-color:  #80c780;\n",
       "            color:  #000000;\n",
       "        }    #T_6d0836f2_559b_11ec_83d9_02420a39008brow2_col5 {\n",
       "            background-color:  #4daa4d;\n",
       "            color:  #000000;\n",
       "        }    #T_6d0836f2_559b_11ec_83d9_02420a39008brow3_col1 {\n",
       "            background-color:  #80c780;\n",
       "            color:  #000000;\n",
       "        }    #T_6d0836f2_559b_11ec_83d9_02420a39008brow3_col2 {\n",
       "            background-color:  #b3e3b3;\n",
       "            color:  #000000;\n",
       "        }    #T_6d0836f2_559b_11ec_83d9_02420a39008brow3_col3 {\n",
       "            background-color:  #1c8f1c;\n",
       "            color:  #000000;\n",
       "        }    #T_6d0836f2_559b_11ec_83d9_02420a39008brow3_col4 {\n",
       "            background-color:  #b3e3b3;\n",
       "            color:  #000000;\n",
       "        }    #T_6d0836f2_559b_11ec_83d9_02420a39008brow3_col5 {\n",
       "            background-color:  #7ac47a;\n",
       "            color:  #000000;\n",
       "        }    #T_6d0836f2_559b_11ec_83d9_02420a39008brow4_col1 {\n",
       "            background-color:  #329c32;\n",
       "            color:  #000000;\n",
       "        }    #T_6d0836f2_559b_11ec_83d9_02420a39008brow4_col2 {\n",
       "            background-color:  #b3e3b3;\n",
       "            color:  #000000;\n",
       "        }    #T_6d0836f2_559b_11ec_83d9_02420a39008brow4_col3 {\n",
       "            background-color:  #399f39;\n",
       "            color:  #000000;\n",
       "        }    #T_6d0836f2_559b_11ec_83d9_02420a39008brow4_col4 {\n",
       "            background-color:  #b3e3b3;\n",
       "            color:  #000000;\n",
       "        }    #T_6d0836f2_559b_11ec_83d9_02420a39008brow4_col5 {\n",
       "            background-color:  #8acc8a;\n",
       "            color:  #000000;\n",
       "        }    #T_6d0836f2_559b_11ec_83d9_02420a39008brow5_col1 {\n",
       "            background-color:  #ccf1cc;\n",
       "            color:  #000000;\n",
       "        }    #T_6d0836f2_559b_11ec_83d9_02420a39008brow5_col2 {\n",
       "            background-color:  #80c780;\n",
       "            color:  #000000;\n",
       "        }    #T_6d0836f2_559b_11ec_83d9_02420a39008brow5_col3 {\n",
       "            background-color:  #8fcf8f;\n",
       "            color:  #000000;\n",
       "        }    #T_6d0836f2_559b_11ec_83d9_02420a39008brow5_col4 {\n",
       "            background-color:  #008000;\n",
       "            color:  #f1f1f1;\n",
       "        }    #T_6d0836f2_559b_11ec_83d9_02420a39008brow5_col5 {\n",
       "            background-color:  #d6f7d6;\n",
       "            color:  #000000;\n",
       "        }    #T_6d0836f2_559b_11ec_83d9_02420a39008brow6_col1 {\n",
       "            background-color:  #329c32;\n",
       "            color:  #000000;\n",
       "        }    #T_6d0836f2_559b_11ec_83d9_02420a39008brow6_col2 {\n",
       "            background-color:  #b3e3b3;\n",
       "            color:  #000000;\n",
       "        }    #T_6d0836f2_559b_11ec_83d9_02420a39008brow6_col3 {\n",
       "            background-color:  #acdfac;\n",
       "            color:  #000000;\n",
       "        }    #T_6d0836f2_559b_11ec_83d9_02420a39008brow6_col4 {\n",
       "            background-color:  #329c32;\n",
       "            color:  #000000;\n",
       "        }    #T_6d0836f2_559b_11ec_83d9_02420a39008brow6_col5 {\n",
       "            background-color:  #e5ffe5;\n",
       "            color:  #000000;\n",
       "        }    #T_6d0836f2_559b_11ec_83d9_02420a39008brow7_col1 {\n",
       "            background-color:  #b3e3b3;\n",
       "            color:  #000000;\n",
       "        }    #T_6d0836f2_559b_11ec_83d9_02420a39008brow7_col2 {\n",
       "            background-color:  #e5ffe5;\n",
       "            color:  #000000;\n",
       "        }    #T_6d0836f2_559b_11ec_83d9_02420a39008brow7_col3 {\n",
       "            background-color:  #e5ffe5;\n",
       "            color:  #000000;\n",
       "        }    #T_6d0836f2_559b_11ec_83d9_02420a39008brow7_col4 {\n",
       "            background-color:  #e5ffe5;\n",
       "            color:  #000000;\n",
       "        }    #T_6d0836f2_559b_11ec_83d9_02420a39008brow7_col5 {\n",
       "            background-color:  #e5ffe5;\n",
       "            color:  #000000;\n",
       "        }    #T_6d0836f2_559b_11ec_83d9_02420a39008brow8_col1 {\n",
       "            background-color:  #b3e3b3;\n",
       "            color:  #000000;\n",
       "        }    #T_6d0836f2_559b_11ec_83d9_02420a39008brow8_col2 {\n",
       "            background-color:  #ccf1cc;\n",
       "            color:  #000000;\n",
       "        }    #T_6d0836f2_559b_11ec_83d9_02420a39008brow8_col3 {\n",
       "            background-color:  #c9efc9;\n",
       "            color:  #000000;\n",
       "        }    #T_6d0836f2_559b_11ec_83d9_02420a39008brow8_col4 {\n",
       "            background-color:  #b3e3b3;\n",
       "            color:  #000000;\n",
       "        }    #T_6d0836f2_559b_11ec_83d9_02420a39008brow8_col5 {\n",
       "            background-color:  #e5ffe5;\n",
       "            color:  #000000;\n",
       "        }</style><table id=\"T_6d0836f2_559b_11ec_83d9_02420a39008b\" ><thead>    <tr>        <th class=\"blank level0\" ></th>        <th class=\"col_heading level0 col0\" >hypothesis</th>        <th class=\"col_heading level0 col1\" >reach</th>        <th class=\"col_heading level0 col2\" >impact</th>        <th class=\"col_heading level0 col3\" >confidence</th>        <th class=\"col_heading level0 col4\" >efforts</th>        <th class=\"col_heading level0 col5\" >ICE</th>    </tr></thead><tbody>\n",
       "                <tr>\n",
       "                        <th id=\"T_6d0836f2_559b_11ec_83d9_02420a39008blevel0_row0\" class=\"row_heading level0 row0\" >8</th>\n",
       "                        <td id=\"T_6d0836f2_559b_11ec_83d9_02420a39008brow0_col0\" class=\"data row0 col0\" >Запустить акцию, дающую скидку на товар в день рождения</td>\n",
       "                        <td id=\"T_6d0836f2_559b_11ec_83d9_02420a39008brow0_col1\" class=\"data row0 col1\" >1</td>\n",
       "                        <td id=\"T_6d0836f2_559b_11ec_83d9_02420a39008brow0_col2\" class=\"data row0 col2\" >9</td>\n",
       "                        <td id=\"T_6d0836f2_559b_11ec_83d9_02420a39008brow0_col3\" class=\"data row0 col3\" >9</td>\n",
       "                        <td id=\"T_6d0836f2_559b_11ec_83d9_02420a39008brow0_col4\" class=\"data row0 col4\" >5</td>\n",
       "                        <td id=\"T_6d0836f2_559b_11ec_83d9_02420a39008brow0_col5\" class=\"data row0 col5\" >16</td>\n",
       "            </tr>\n",
       "            <tr>\n",
       "                        <th id=\"T_6d0836f2_559b_11ec_83d9_02420a39008blevel0_row1\" class=\"row_heading level0 row1\" >0</th>\n",
       "                        <td id=\"T_6d0836f2_559b_11ec_83d9_02420a39008brow1_col0\" class=\"data row1 col0\" >Добавить два новых канала привлечения трафика, что позволит привлекать на 30% больше пользователей</td>\n",
       "                        <td id=\"T_6d0836f2_559b_11ec_83d9_02420a39008brow1_col1\" class=\"data row1 col1\" >3</td>\n",
       "                        <td id=\"T_6d0836f2_559b_11ec_83d9_02420a39008brow1_col2\" class=\"data row1 col2\" >10</td>\n",
       "                        <td id=\"T_6d0836f2_559b_11ec_83d9_02420a39008brow1_col3\" class=\"data row1 col3\" >8</td>\n",
       "                        <td id=\"T_6d0836f2_559b_11ec_83d9_02420a39008brow1_col4\" class=\"data row1 col4\" >6</td>\n",
       "                        <td id=\"T_6d0836f2_559b_11ec_83d9_02420a39008brow1_col5\" class=\"data row1 col5\" >13</td>\n",
       "            </tr>\n",
       "            <tr>\n",
       "                        <th id=\"T_6d0836f2_559b_11ec_83d9_02420a39008blevel0_row2\" class=\"row_heading level0 row2\" >7</th>\n",
       "                        <td id=\"T_6d0836f2_559b_11ec_83d9_02420a39008brow2_col0\" class=\"data row2 col0\" >Добавить форму подписки на все основные страницы, чтобы собрать базу клиентов для email-рассылок</td>\n",
       "                        <td id=\"T_6d0836f2_559b_11ec_83d9_02420a39008brow2_col1\" class=\"data row2 col1\" >10</td>\n",
       "                        <td id=\"T_6d0836f2_559b_11ec_83d9_02420a39008brow2_col2\" class=\"data row2 col2\" >7</td>\n",
       "                        <td id=\"T_6d0836f2_559b_11ec_83d9_02420a39008brow2_col3\" class=\"data row2 col3\" >8</td>\n",
       "                        <td id=\"T_6d0836f2_559b_11ec_83d9_02420a39008brow2_col4\" class=\"data row2 col4\" >5</td>\n",
       "                        <td id=\"T_6d0836f2_559b_11ec_83d9_02420a39008brow2_col5\" class=\"data row2 col5\" >11</td>\n",
       "            </tr>\n",
       "            <tr>\n",
       "                        <th id=\"T_6d0836f2_559b_11ec_83d9_02420a39008blevel0_row3\" class=\"row_heading level0 row3\" >6</th>\n",
       "                        <td id=\"T_6d0836f2_559b_11ec_83d9_02420a39008brow3_col0\" class=\"data row3 col0\" >Показать на главной странице баннеры с актуальными акциями и распродажами, чтобы увеличить конверсию</td>\n",
       "                        <td id=\"T_6d0836f2_559b_11ec_83d9_02420a39008brow3_col1\" class=\"data row3 col1\" >5</td>\n",
       "                        <td id=\"T_6d0836f2_559b_11ec_83d9_02420a39008brow3_col2\" class=\"data row3 col2\" >3</td>\n",
       "                        <td id=\"T_6d0836f2_559b_11ec_83d9_02420a39008brow3_col3\" class=\"data row3 col3\" >8</td>\n",
       "                        <td id=\"T_6d0836f2_559b_11ec_83d9_02420a39008brow3_col4\" class=\"data row3 col4\" >3</td>\n",
       "                        <td id=\"T_6d0836f2_559b_11ec_83d9_02420a39008brow3_col5\" class=\"data row3 col5\" >8</td>\n",
       "            </tr>\n",
       "            <tr>\n",
       "                        <th id=\"T_6d0836f2_559b_11ec_83d9_02420a39008blevel0_row4\" class=\"row_heading level0 row4\" >2</th>\n",
       "                        <td id=\"T_6d0836f2_559b_11ec_83d9_02420a39008brow4_col0\" class=\"data row4 col0\" >Добавить блоки рекомендаций товаров на сайт интернет магазина, чтобы повысить конверсию и средний чек заказа</td>\n",
       "                        <td id=\"T_6d0836f2_559b_11ec_83d9_02420a39008brow4_col1\" class=\"data row4 col1\" >8</td>\n",
       "                        <td id=\"T_6d0836f2_559b_11ec_83d9_02420a39008brow4_col2\" class=\"data row4 col2\" >3</td>\n",
       "                        <td id=\"T_6d0836f2_559b_11ec_83d9_02420a39008brow4_col3\" class=\"data row4 col3\" >7</td>\n",
       "                        <td id=\"T_6d0836f2_559b_11ec_83d9_02420a39008brow4_col4\" class=\"data row4 col4\" >3</td>\n",
       "                        <td id=\"T_6d0836f2_559b_11ec_83d9_02420a39008brow4_col5\" class=\"data row4 col5\" >7</td>\n",
       "            </tr>\n",
       "            <tr>\n",
       "                        <th id=\"T_6d0836f2_559b_11ec_83d9_02420a39008blevel0_row5\" class=\"row_heading level0 row5\" >1</th>\n",
       "                        <td id=\"T_6d0836f2_559b_11ec_83d9_02420a39008brow5_col0\" class=\"data row5 col0\" >Запустить собственную службу доставки, что сократит срок доставки заказов</td>\n",
       "                        <td id=\"T_6d0836f2_559b_11ec_83d9_02420a39008brow5_col1\" class=\"data row5 col1\" >2</td>\n",
       "                        <td id=\"T_6d0836f2_559b_11ec_83d9_02420a39008brow5_col2\" class=\"data row5 col2\" >5</td>\n",
       "                        <td id=\"T_6d0836f2_559b_11ec_83d9_02420a39008brow5_col3\" class=\"data row5 col3\" >4</td>\n",
       "                        <td id=\"T_6d0836f2_559b_11ec_83d9_02420a39008brow5_col4\" class=\"data row5 col4\" >10</td>\n",
       "                        <td id=\"T_6d0836f2_559b_11ec_83d9_02420a39008brow5_col5\" class=\"data row5 col5\" >2</td>\n",
       "            </tr>\n",
       "            <tr>\n",
       "                        <th id=\"T_6d0836f2_559b_11ec_83d9_02420a39008blevel0_row6\" class=\"row_heading level0 row6\" >3</th>\n",
       "                        <td id=\"T_6d0836f2_559b_11ec_83d9_02420a39008brow6_col0\" class=\"data row6 col0\" >Изменить структура категорий, что увеличит конверсию, т.к. пользователи быстрее найдут нужный товар</td>\n",
       "                        <td id=\"T_6d0836f2_559b_11ec_83d9_02420a39008brow6_col1\" class=\"data row6 col1\" >8</td>\n",
       "                        <td id=\"T_6d0836f2_559b_11ec_83d9_02420a39008brow6_col2\" class=\"data row6 col2\" >3</td>\n",
       "                        <td id=\"T_6d0836f2_559b_11ec_83d9_02420a39008brow6_col3\" class=\"data row6 col3\" >3</td>\n",
       "                        <td id=\"T_6d0836f2_559b_11ec_83d9_02420a39008brow6_col4\" class=\"data row6 col4\" >8</td>\n",
       "                        <td id=\"T_6d0836f2_559b_11ec_83d9_02420a39008brow6_col5\" class=\"data row6 col5\" >1</td>\n",
       "            </tr>\n",
       "            <tr>\n",
       "                        <th id=\"T_6d0836f2_559b_11ec_83d9_02420a39008blevel0_row7\" class=\"row_heading level0 row7\" >4</th>\n",
       "                        <td id=\"T_6d0836f2_559b_11ec_83d9_02420a39008brow7_col0\" class=\"data row7 col0\" >Изменить цвет фона главной страницы, чтобы увеличить вовлеченность пользователей</td>\n",
       "                        <td id=\"T_6d0836f2_559b_11ec_83d9_02420a39008brow7_col1\" class=\"data row7 col1\" >3</td>\n",
       "                        <td id=\"T_6d0836f2_559b_11ec_83d9_02420a39008brow7_col2\" class=\"data row7 col2\" >1</td>\n",
       "                        <td id=\"T_6d0836f2_559b_11ec_83d9_02420a39008brow7_col3\" class=\"data row7 col3\" >1</td>\n",
       "                        <td id=\"T_6d0836f2_559b_11ec_83d9_02420a39008brow7_col4\" class=\"data row7 col4\" >1</td>\n",
       "                        <td id=\"T_6d0836f2_559b_11ec_83d9_02420a39008brow7_col5\" class=\"data row7 col5\" >1</td>\n",
       "            </tr>\n",
       "            <tr>\n",
       "                        <th id=\"T_6d0836f2_559b_11ec_83d9_02420a39008blevel0_row8\" class=\"row_heading level0 row8\" >5</th>\n",
       "                        <td id=\"T_6d0836f2_559b_11ec_83d9_02420a39008brow8_col0\" class=\"data row8 col0\" >Добавить страницу отзывов клиентов о магазине, что позволит увеличить количество заказов</td>\n",
       "                        <td id=\"T_6d0836f2_559b_11ec_83d9_02420a39008brow8_col1\" class=\"data row8 col1\" >3</td>\n",
       "                        <td id=\"T_6d0836f2_559b_11ec_83d9_02420a39008brow8_col2\" class=\"data row8 col2\" >2</td>\n",
       "                        <td id=\"T_6d0836f2_559b_11ec_83d9_02420a39008brow8_col3\" class=\"data row8 col3\" >2</td>\n",
       "                        <td id=\"T_6d0836f2_559b_11ec_83d9_02420a39008brow8_col4\" class=\"data row8 col4\" >3</td>\n",
       "                        <td id=\"T_6d0836f2_559b_11ec_83d9_02420a39008brow8_col5\" class=\"data row8 col5\" >1</td>\n",
       "            </tr>\n",
       "    </tbody></table>"
      ],
      "text/plain": [
       "<pandas.io.formats.style.Styler at 0x7fcf2ae63450>"
      ]
     },
     "execution_count": 11,
     "metadata": {},
     "output_type": "execute_result"
    }
   ],
   "source": [
    "hypothesis['ICE'] = (hypothesis['impact'] * hypothesis['confidence'] / hypothesis['efforts']).round(0)\n",
    "hypothesis.sort_values(by='ICE', ascending=False).style.background_gradient(cmap=cm)"
   ]
  },
  {
   "cell_type": "markdown",
   "metadata": {},
   "source": [
    "<div class=\"alert alert-block alert-warning\">\n",
    "    \n",
    "\n",
    "__Комментарий от ревьюера №1 (можно лучше)__\n",
    "\n",
    "Чтобы вывести полное название гипотез, можно использовать такой код:  \n",
    "<code>pd.set_option('display.max_columns', None)  \n",
    "pd.options.display.max_colwidth = 150  </code>\n",
    "</div>"
   ]
  },
  {
   "cell_type": "markdown",
   "metadata": {},
   "source": [
    "<div class=\"alert alert-info\">\n",
    "<b>Комментарий студента:</b> Ok, исправил </div>"
   ]
  },
  {
   "cell_type": "markdown",
   "metadata": {},
   "source": [
    "<div class=\"alert alert-block alert-warning\">\n",
    "    \n",
    "\n",
    "__Комментарий от ревьюера №1 (можно лучше)__\n",
    "\n",
    "В столбце ICE можно было бы округлить данные для красоты.\n",
    "</div>"
   ]
  },
  {
   "cell_type": "markdown",
   "metadata": {},
   "source": [
    "<div class=\"alert alert-info\">\n",
    "<b>Комментарий студента:</b> Ok, исправил </div>"
   ]
  },
  {
   "cell_type": "markdown",
   "metadata": {},
   "source": [
    "### Расчитаем фреймворк RICE для приоритизации гипотез"
   ]
  },
  {
   "cell_type": "code",
   "execution_count": 12,
   "metadata": {},
   "outputs": [
    {
     "data": {
      "text/html": [
       "<style  type=\"text/css\" >\n",
       "    #T_6d0cbc72_559b_11ec_83d9_02420a39008brow0_col1 {\n",
       "            background-color:  #008000;\n",
       "            color:  #f1f1f1;\n",
       "        }    #T_6d0cbc72_559b_11ec_83d9_02420a39008brow0_col2 {\n",
       "            background-color:  #4daa4d;\n",
       "            color:  #000000;\n",
       "        }    #T_6d0cbc72_559b_11ec_83d9_02420a39008brow0_col3 {\n",
       "            background-color:  #1c8f1c;\n",
       "            color:  #000000;\n",
       "        }    #T_6d0cbc72_559b_11ec_83d9_02420a39008brow0_col4 {\n",
       "            background-color:  #80c780;\n",
       "            color:  #000000;\n",
       "        }    #T_6d0cbc72_559b_11ec_83d9_02420a39008brow0_col5 {\n",
       "            background-color:  #4daa4d;\n",
       "            color:  #000000;\n",
       "        }    #T_6d0cbc72_559b_11ec_83d9_02420a39008brow0_col6 {\n",
       "            background-color:  #008000;\n",
       "            color:  #f1f1f1;\n",
       "        }    #T_6d0cbc72_559b_11ec_83d9_02420a39008brow1_col1 {\n",
       "            background-color:  #329c32;\n",
       "            color:  #000000;\n",
       "        }    #T_6d0cbc72_559b_11ec_83d9_02420a39008brow1_col2 {\n",
       "            background-color:  #b3e3b3;\n",
       "            color:  #000000;\n",
       "        }    #T_6d0cbc72_559b_11ec_83d9_02420a39008brow1_col3 {\n",
       "            background-color:  #399f39;\n",
       "            color:  #000000;\n",
       "        }    #T_6d0cbc72_559b_11ec_83d9_02420a39008brow1_col4 {\n",
       "            background-color:  #b3e3b3;\n",
       "            color:  #000000;\n",
       "        }    #T_6d0cbc72_559b_11ec_83d9_02420a39008brow1_col5 {\n",
       "            background-color:  #8acc8a;\n",
       "            color:  #000000;\n",
       "        }    #T_6d0cbc72_559b_11ec_83d9_02420a39008brow1_col6 {\n",
       "            background-color:  #76c176;\n",
       "            color:  #000000;\n",
       "        }    #T_6d0cbc72_559b_11ec_83d9_02420a39008brow2_col1 {\n",
       "            background-color:  #b3e3b3;\n",
       "            color:  #000000;\n",
       "        }    #T_6d0cbc72_559b_11ec_83d9_02420a39008brow2_col2 {\n",
       "            background-color:  #008000;\n",
       "            color:  #f1f1f1;\n",
       "        }    #T_6d0cbc72_559b_11ec_83d9_02420a39008brow2_col3 {\n",
       "            background-color:  #1c8f1c;\n",
       "            color:  #000000;\n",
       "        }    #T_6d0cbc72_559b_11ec_83d9_02420a39008brow2_col4 {\n",
       "            background-color:  #66b866;\n",
       "            color:  #000000;\n",
       "        }    #T_6d0cbc72_559b_11ec_83d9_02420a39008brow2_col5 {\n",
       "            background-color:  #2e992e;\n",
       "            color:  #000000;\n",
       "        }    #T_6d0cbc72_559b_11ec_83d9_02420a39008brow2_col6 {\n",
       "            background-color:  #98d498;\n",
       "            color:  #000000;\n",
       "        }    #T_6d0cbc72_559b_11ec_83d9_02420a39008brow3_col1 {\n",
       "            background-color:  #80c780;\n",
       "            color:  #000000;\n",
       "        }    #T_6d0cbc72_559b_11ec_83d9_02420a39008brow3_col2 {\n",
       "            background-color:  #b3e3b3;\n",
       "            color:  #000000;\n",
       "        }    #T_6d0cbc72_559b_11ec_83d9_02420a39008brow3_col3 {\n",
       "            background-color:  #1c8f1c;\n",
       "            color:  #000000;\n",
       "        }    #T_6d0cbc72_559b_11ec_83d9_02420a39008brow3_col4 {\n",
       "            background-color:  #b3e3b3;\n",
       "            color:  #000000;\n",
       "        }    #T_6d0cbc72_559b_11ec_83d9_02420a39008brow3_col5 {\n",
       "            background-color:  #7ac47a;\n",
       "            color:  #000000;\n",
       "        }    #T_6d0cbc72_559b_11ec_83d9_02420a39008brow3_col6 {\n",
       "            background-color:  #98d498;\n",
       "            color:  #000000;\n",
       "        }    #T_6d0cbc72_559b_11ec_83d9_02420a39008brow4_col1 {\n",
       "            background-color:  #e5ffe5;\n",
       "            color:  #000000;\n",
       "        }    #T_6d0cbc72_559b_11ec_83d9_02420a39008brow4_col2 {\n",
       "            background-color:  #198e19;\n",
       "            color:  #000000;\n",
       "        }    #T_6d0cbc72_559b_11ec_83d9_02420a39008brow4_col3 {\n",
       "            background-color:  #008000;\n",
       "            color:  #f1f1f1;\n",
       "        }    #T_6d0cbc72_559b_11ec_83d9_02420a39008brow4_col4 {\n",
       "            background-color:  #80c780;\n",
       "            color:  #000000;\n",
       "        }    #T_6d0cbc72_559b_11ec_83d9_02420a39008brow4_col5 {\n",
       "            background-color:  #008000;\n",
       "            color:  #f1f1f1;\n",
       "        }    #T_6d0cbc72_559b_11ec_83d9_02420a39008brow4_col6 {\n",
       "            background-color:  #caf0ca;\n",
       "            color:  #000000;\n",
       "        }    #T_6d0cbc72_559b_11ec_83d9_02420a39008brow5_col1 {\n",
       "            background-color:  #329c32;\n",
       "            color:  #000000;\n",
       "        }    #T_6d0cbc72_559b_11ec_83d9_02420a39008brow5_col2 {\n",
       "            background-color:  #b3e3b3;\n",
       "            color:  #000000;\n",
       "        }    #T_6d0cbc72_559b_11ec_83d9_02420a39008brow5_col3 {\n",
       "            background-color:  #acdfac;\n",
       "            color:  #000000;\n",
       "        }    #T_6d0cbc72_559b_11ec_83d9_02420a39008brow5_col4 {\n",
       "            background-color:  #329c32;\n",
       "            color:  #000000;\n",
       "        }    #T_6d0cbc72_559b_11ec_83d9_02420a39008brow5_col5 {\n",
       "            background-color:  #e5ffe5;\n",
       "            color:  #000000;\n",
       "        }    #T_6d0cbc72_559b_11ec_83d9_02420a39008brow5_col6 {\n",
       "            background-color:  #d9f8d9;\n",
       "            color:  #000000;\n",
       "        }    #T_6d0cbc72_559b_11ec_83d9_02420a39008brow6_col1 {\n",
       "            background-color:  #ccf1cc;\n",
       "            color:  #000000;\n",
       "        }    #T_6d0cbc72_559b_11ec_83d9_02420a39008brow6_col2 {\n",
       "            background-color:  #80c780;\n",
       "            color:  #000000;\n",
       "        }    #T_6d0cbc72_559b_11ec_83d9_02420a39008brow6_col3 {\n",
       "            background-color:  #8fcf8f;\n",
       "            color:  #000000;\n",
       "        }    #T_6d0cbc72_559b_11ec_83d9_02420a39008brow6_col4 {\n",
       "            background-color:  #008000;\n",
       "            color:  #f1f1f1;\n",
       "        }    #T_6d0cbc72_559b_11ec_83d9_02420a39008brow6_col5 {\n",
       "            background-color:  #d6f7d6;\n",
       "            color:  #000000;\n",
       "        }    #T_6d0cbc72_559b_11ec_83d9_02420a39008brow6_col6 {\n",
       "            background-color:  #e4fee4;\n",
       "            color:  #000000;\n",
       "        }    #T_6d0cbc72_559b_11ec_83d9_02420a39008brow7_col1 {\n",
       "            background-color:  #b3e3b3;\n",
       "            color:  #000000;\n",
       "        }    #T_6d0cbc72_559b_11ec_83d9_02420a39008brow7_col2 {\n",
       "            background-color:  #ccf1cc;\n",
       "            color:  #000000;\n",
       "        }    #T_6d0cbc72_559b_11ec_83d9_02420a39008brow7_col3 {\n",
       "            background-color:  #c9efc9;\n",
       "            color:  #000000;\n",
       "        }    #T_6d0cbc72_559b_11ec_83d9_02420a39008brow7_col4 {\n",
       "            background-color:  #b3e3b3;\n",
       "            color:  #000000;\n",
       "        }    #T_6d0cbc72_559b_11ec_83d9_02420a39008brow7_col5 {\n",
       "            background-color:  #e5ffe5;\n",
       "            color:  #000000;\n",
       "        }    #T_6d0cbc72_559b_11ec_83d9_02420a39008brow7_col6 {\n",
       "            background-color:  #e4fee4;\n",
       "            color:  #000000;\n",
       "        }    #T_6d0cbc72_559b_11ec_83d9_02420a39008brow8_col1 {\n",
       "            background-color:  #b3e3b3;\n",
       "            color:  #000000;\n",
       "        }    #T_6d0cbc72_559b_11ec_83d9_02420a39008brow8_col2 {\n",
       "            background-color:  #e5ffe5;\n",
       "            color:  #000000;\n",
       "        }    #T_6d0cbc72_559b_11ec_83d9_02420a39008brow8_col3 {\n",
       "            background-color:  #e5ffe5;\n",
       "            color:  #000000;\n",
       "        }    #T_6d0cbc72_559b_11ec_83d9_02420a39008brow8_col4 {\n",
       "            background-color:  #e5ffe5;\n",
       "            color:  #000000;\n",
       "        }    #T_6d0cbc72_559b_11ec_83d9_02420a39008brow8_col5 {\n",
       "            background-color:  #e5ffe5;\n",
       "            color:  #000000;\n",
       "        }    #T_6d0cbc72_559b_11ec_83d9_02420a39008brow8_col6 {\n",
       "            background-color:  #e5ffe5;\n",
       "            color:  #000000;\n",
       "        }</style><table id=\"T_6d0cbc72_559b_11ec_83d9_02420a39008b\" ><thead>    <tr>        <th class=\"blank level0\" ></th>        <th class=\"col_heading level0 col0\" >hypothesis</th>        <th class=\"col_heading level0 col1\" >reach</th>        <th class=\"col_heading level0 col2\" >impact</th>        <th class=\"col_heading level0 col3\" >confidence</th>        <th class=\"col_heading level0 col4\" >efforts</th>        <th class=\"col_heading level0 col5\" >ICE</th>        <th class=\"col_heading level0 col6\" >RICE</th>    </tr></thead><tbody>\n",
       "                <tr>\n",
       "                        <th id=\"T_6d0cbc72_559b_11ec_83d9_02420a39008blevel0_row0\" class=\"row_heading level0 row0\" >7</th>\n",
       "                        <td id=\"T_6d0cbc72_559b_11ec_83d9_02420a39008brow0_col0\" class=\"data row0 col0\" >Добавить форму подписки на все основные страницы, чтобы собрать базу клиентов для email-рассылок</td>\n",
       "                        <td id=\"T_6d0cbc72_559b_11ec_83d9_02420a39008brow0_col1\" class=\"data row0 col1\" >10</td>\n",
       "                        <td id=\"T_6d0cbc72_559b_11ec_83d9_02420a39008brow0_col2\" class=\"data row0 col2\" >7</td>\n",
       "                        <td id=\"T_6d0cbc72_559b_11ec_83d9_02420a39008brow0_col3\" class=\"data row0 col3\" >8</td>\n",
       "                        <td id=\"T_6d0cbc72_559b_11ec_83d9_02420a39008brow0_col4\" class=\"data row0 col4\" >5</td>\n",
       "                        <td id=\"T_6d0cbc72_559b_11ec_83d9_02420a39008brow0_col5\" class=\"data row0 col5\" >11</td>\n",
       "                        <td id=\"T_6d0cbc72_559b_11ec_83d9_02420a39008brow0_col6\" class=\"data row0 col6\" >112</td>\n",
       "            </tr>\n",
       "            <tr>\n",
       "                        <th id=\"T_6d0cbc72_559b_11ec_83d9_02420a39008blevel0_row1\" class=\"row_heading level0 row1\" >2</th>\n",
       "                        <td id=\"T_6d0cbc72_559b_11ec_83d9_02420a39008brow1_col0\" class=\"data row1 col0\" >Добавить блоки рекомендаций товаров на сайт интернет магазина, чтобы повысить конверсию и средний чек заказа</td>\n",
       "                        <td id=\"T_6d0cbc72_559b_11ec_83d9_02420a39008brow1_col1\" class=\"data row1 col1\" >8</td>\n",
       "                        <td id=\"T_6d0cbc72_559b_11ec_83d9_02420a39008brow1_col2\" class=\"data row1 col2\" >3</td>\n",
       "                        <td id=\"T_6d0cbc72_559b_11ec_83d9_02420a39008brow1_col3\" class=\"data row1 col3\" >7</td>\n",
       "                        <td id=\"T_6d0cbc72_559b_11ec_83d9_02420a39008brow1_col4\" class=\"data row1 col4\" >3</td>\n",
       "                        <td id=\"T_6d0cbc72_559b_11ec_83d9_02420a39008brow1_col5\" class=\"data row1 col5\" >7</td>\n",
       "                        <td id=\"T_6d0cbc72_559b_11ec_83d9_02420a39008brow1_col6\" class=\"data row1 col6\" >56</td>\n",
       "            </tr>\n",
       "            <tr>\n",
       "                        <th id=\"T_6d0cbc72_559b_11ec_83d9_02420a39008blevel0_row2\" class=\"row_heading level0 row2\" >0</th>\n",
       "                        <td id=\"T_6d0cbc72_559b_11ec_83d9_02420a39008brow2_col0\" class=\"data row2 col0\" >Добавить два новых канала привлечения трафика, что позволит привлекать на 30% больше пользователей</td>\n",
       "                        <td id=\"T_6d0cbc72_559b_11ec_83d9_02420a39008brow2_col1\" class=\"data row2 col1\" >3</td>\n",
       "                        <td id=\"T_6d0cbc72_559b_11ec_83d9_02420a39008brow2_col2\" class=\"data row2 col2\" >10</td>\n",
       "                        <td id=\"T_6d0cbc72_559b_11ec_83d9_02420a39008brow2_col3\" class=\"data row2 col3\" >8</td>\n",
       "                        <td id=\"T_6d0cbc72_559b_11ec_83d9_02420a39008brow2_col4\" class=\"data row2 col4\" >6</td>\n",
       "                        <td id=\"T_6d0cbc72_559b_11ec_83d9_02420a39008brow2_col5\" class=\"data row2 col5\" >13</td>\n",
       "                        <td id=\"T_6d0cbc72_559b_11ec_83d9_02420a39008brow2_col6\" class=\"data row2 col6\" >40</td>\n",
       "            </tr>\n",
       "            <tr>\n",
       "                        <th id=\"T_6d0cbc72_559b_11ec_83d9_02420a39008blevel0_row3\" class=\"row_heading level0 row3\" >6</th>\n",
       "                        <td id=\"T_6d0cbc72_559b_11ec_83d9_02420a39008brow3_col0\" class=\"data row3 col0\" >Показать на главной странице баннеры с актуальными акциями и распродажами, чтобы увеличить конверсию</td>\n",
       "                        <td id=\"T_6d0cbc72_559b_11ec_83d9_02420a39008brow3_col1\" class=\"data row3 col1\" >5</td>\n",
       "                        <td id=\"T_6d0cbc72_559b_11ec_83d9_02420a39008brow3_col2\" class=\"data row3 col2\" >3</td>\n",
       "                        <td id=\"T_6d0cbc72_559b_11ec_83d9_02420a39008brow3_col3\" class=\"data row3 col3\" >8</td>\n",
       "                        <td id=\"T_6d0cbc72_559b_11ec_83d9_02420a39008brow3_col4\" class=\"data row3 col4\" >3</td>\n",
       "                        <td id=\"T_6d0cbc72_559b_11ec_83d9_02420a39008brow3_col5\" class=\"data row3 col5\" >8</td>\n",
       "                        <td id=\"T_6d0cbc72_559b_11ec_83d9_02420a39008brow3_col6\" class=\"data row3 col6\" >40</td>\n",
       "            </tr>\n",
       "            <tr>\n",
       "                        <th id=\"T_6d0cbc72_559b_11ec_83d9_02420a39008blevel0_row4\" class=\"row_heading level0 row4\" >8</th>\n",
       "                        <td id=\"T_6d0cbc72_559b_11ec_83d9_02420a39008brow4_col0\" class=\"data row4 col0\" >Запустить акцию, дающую скидку на товар в день рождения</td>\n",
       "                        <td id=\"T_6d0cbc72_559b_11ec_83d9_02420a39008brow4_col1\" class=\"data row4 col1\" >1</td>\n",
       "                        <td id=\"T_6d0cbc72_559b_11ec_83d9_02420a39008brow4_col2\" class=\"data row4 col2\" >9</td>\n",
       "                        <td id=\"T_6d0cbc72_559b_11ec_83d9_02420a39008brow4_col3\" class=\"data row4 col3\" >9</td>\n",
       "                        <td id=\"T_6d0cbc72_559b_11ec_83d9_02420a39008brow4_col4\" class=\"data row4 col4\" >5</td>\n",
       "                        <td id=\"T_6d0cbc72_559b_11ec_83d9_02420a39008brow4_col5\" class=\"data row4 col5\" >16</td>\n",
       "                        <td id=\"T_6d0cbc72_559b_11ec_83d9_02420a39008brow4_col6\" class=\"data row4 col6\" >16.2</td>\n",
       "            </tr>\n",
       "            <tr>\n",
       "                        <th id=\"T_6d0cbc72_559b_11ec_83d9_02420a39008blevel0_row5\" class=\"row_heading level0 row5\" >3</th>\n",
       "                        <td id=\"T_6d0cbc72_559b_11ec_83d9_02420a39008brow5_col0\" class=\"data row5 col0\" >Изменить структура категорий, что увеличит конверсию, т.к. пользователи быстрее найдут нужный товар</td>\n",
       "                        <td id=\"T_6d0cbc72_559b_11ec_83d9_02420a39008brow5_col1\" class=\"data row5 col1\" >8</td>\n",
       "                        <td id=\"T_6d0cbc72_559b_11ec_83d9_02420a39008brow5_col2\" class=\"data row5 col2\" >3</td>\n",
       "                        <td id=\"T_6d0cbc72_559b_11ec_83d9_02420a39008brow5_col3\" class=\"data row5 col3\" >3</td>\n",
       "                        <td id=\"T_6d0cbc72_559b_11ec_83d9_02420a39008brow5_col4\" class=\"data row5 col4\" >8</td>\n",
       "                        <td id=\"T_6d0cbc72_559b_11ec_83d9_02420a39008brow5_col5\" class=\"data row5 col5\" >1</td>\n",
       "                        <td id=\"T_6d0cbc72_559b_11ec_83d9_02420a39008brow5_col6\" class=\"data row5 col6\" >9</td>\n",
       "            </tr>\n",
       "            <tr>\n",
       "                        <th id=\"T_6d0cbc72_559b_11ec_83d9_02420a39008blevel0_row6\" class=\"row_heading level0 row6\" >1</th>\n",
       "                        <td id=\"T_6d0cbc72_559b_11ec_83d9_02420a39008brow6_col0\" class=\"data row6 col0\" >Запустить собственную службу доставки, что сократит срок доставки заказов</td>\n",
       "                        <td id=\"T_6d0cbc72_559b_11ec_83d9_02420a39008brow6_col1\" class=\"data row6 col1\" >2</td>\n",
       "                        <td id=\"T_6d0cbc72_559b_11ec_83d9_02420a39008brow6_col2\" class=\"data row6 col2\" >5</td>\n",
       "                        <td id=\"T_6d0cbc72_559b_11ec_83d9_02420a39008brow6_col3\" class=\"data row6 col3\" >4</td>\n",
       "                        <td id=\"T_6d0cbc72_559b_11ec_83d9_02420a39008brow6_col4\" class=\"data row6 col4\" >10</td>\n",
       "                        <td id=\"T_6d0cbc72_559b_11ec_83d9_02420a39008brow6_col5\" class=\"data row6 col5\" >2</td>\n",
       "                        <td id=\"T_6d0cbc72_559b_11ec_83d9_02420a39008brow6_col6\" class=\"data row6 col6\" >4</td>\n",
       "            </tr>\n",
       "            <tr>\n",
       "                        <th id=\"T_6d0cbc72_559b_11ec_83d9_02420a39008blevel0_row7\" class=\"row_heading level0 row7\" >5</th>\n",
       "                        <td id=\"T_6d0cbc72_559b_11ec_83d9_02420a39008brow7_col0\" class=\"data row7 col0\" >Добавить страницу отзывов клиентов о магазине, что позволит увеличить количество заказов</td>\n",
       "                        <td id=\"T_6d0cbc72_559b_11ec_83d9_02420a39008brow7_col1\" class=\"data row7 col1\" >3</td>\n",
       "                        <td id=\"T_6d0cbc72_559b_11ec_83d9_02420a39008brow7_col2\" class=\"data row7 col2\" >2</td>\n",
       "                        <td id=\"T_6d0cbc72_559b_11ec_83d9_02420a39008brow7_col3\" class=\"data row7 col3\" >2</td>\n",
       "                        <td id=\"T_6d0cbc72_559b_11ec_83d9_02420a39008brow7_col4\" class=\"data row7 col4\" >3</td>\n",
       "                        <td id=\"T_6d0cbc72_559b_11ec_83d9_02420a39008brow7_col5\" class=\"data row7 col5\" >1</td>\n",
       "                        <td id=\"T_6d0cbc72_559b_11ec_83d9_02420a39008brow7_col6\" class=\"data row7 col6\" >4</td>\n",
       "            </tr>\n",
       "            <tr>\n",
       "                        <th id=\"T_6d0cbc72_559b_11ec_83d9_02420a39008blevel0_row8\" class=\"row_heading level0 row8\" >4</th>\n",
       "                        <td id=\"T_6d0cbc72_559b_11ec_83d9_02420a39008brow8_col0\" class=\"data row8 col0\" >Изменить цвет фона главной страницы, чтобы увеличить вовлеченность пользователей</td>\n",
       "                        <td id=\"T_6d0cbc72_559b_11ec_83d9_02420a39008brow8_col1\" class=\"data row8 col1\" >3</td>\n",
       "                        <td id=\"T_6d0cbc72_559b_11ec_83d9_02420a39008brow8_col2\" class=\"data row8 col2\" >1</td>\n",
       "                        <td id=\"T_6d0cbc72_559b_11ec_83d9_02420a39008brow8_col3\" class=\"data row8 col3\" >1</td>\n",
       "                        <td id=\"T_6d0cbc72_559b_11ec_83d9_02420a39008brow8_col4\" class=\"data row8 col4\" >1</td>\n",
       "                        <td id=\"T_6d0cbc72_559b_11ec_83d9_02420a39008brow8_col5\" class=\"data row8 col5\" >1</td>\n",
       "                        <td id=\"T_6d0cbc72_559b_11ec_83d9_02420a39008brow8_col6\" class=\"data row8 col6\" >3</td>\n",
       "            </tr>\n",
       "    </tbody></table>"
      ],
      "text/plain": [
       "<pandas.io.formats.style.Styler at 0x7fcf2a9c1a10>"
      ]
     },
     "execution_count": 12,
     "metadata": {},
     "output_type": "execute_result"
    }
   ],
   "source": [
    "hypothesis['RICE'] = hypothesis['reach'] * hypothesis['impact'] * hypothesis['confidence'] / hypothesis['efforts']\n",
    "hypothesis.sort_values(by='RICE', ascending=False).style.background_gradient(cmap=cm)"
   ]
  },
  {
   "cell_type": "markdown",
   "metadata": {},
   "source": [
    "<div class=\"alert alert-block alert-warning\">\n",
    "    \n",
    "\n",
    "__Комментарий от ревьюера №1 (можно лучше)__\n",
    "\n",
    "Результаты можно было бы проранжировать и выделить цветом — https://pandas.pydata.org/pandas-docs/stable/user_guide/style.html\n",
    "\n",
    "</div>"
   ]
  },
  {
   "cell_type": "markdown",
   "metadata": {},
   "source": [
    "<div class=\"alert alert-info\">\n",
    "<b>Комментарий студента:</b> Ok, добавил</div>"
   ]
  },
  {
   "cell_type": "markdown",
   "metadata": {},
   "source": [
    "### Изучим, как изменилась приоритизация гипотез при применении RICE вместо ICE"
   ]
  },
  {
   "cell_type": "markdown",
   "metadata": {},
   "source": [
    "Вывод:\n",
    "\n",
    "Приорететные гипотезы по ICE:\n",
    "* Запустить акцию, дающую скидку на товар в день рождения.\n",
    "* Добавить два новых канала привлечения трафика, что позволит привлекать на 30% больше пользователей.\n",
    "* Добавить форму подписки на все основные страницы, чтобы собрать базу клиентов для email-рассылок.\n",
    "* Показать на главной странице баннеры с актуальными акциями и распродажами, чтобы увеличить конверсию.\n",
    "\n",
    "Приорететные гипотезы по RICE:\n",
    "* Добавить форму подписки на все основные страницы, чтобы собрать базу клиентов для email-рассылок.\n",
    "* Добавить блоки рекомендаций товаров на сайт интернет магазина, чтобы повысить конверсию и средний чек заказа.\n",
    "* Добавить два новых канала привлечения трафика, что позволит привлекать на 30% больше пользователей.\n",
    "* Показать на главной странице баннеры с актуальными акциями и распродажами, чтобы увеличить конверсию.\n",
    "\n",
    "* По фреймворкам максимальные приорететы у гипотез:\n",
    "    - `Добавить два новых канала привлечения трафика, что позволит привлекать на 30% больше пользователей`\n",
    "    - `Добавить блоки рекомендаций товаров на сайт интернет магазина, чтобы повысить конверсию и средний чек заказа`\n",
    "    - `Показать на главной странице баннеры с актуальными акциями и распродажами, чтобы увеличить конверсию`\n",
    "    - `Добавить форму подписки на все основные страницы, чтобы собрать базу клиентов для email-рассылок`\n",
    "    - `Запустить акцию, дающую скидку на товар в день рождения`\n",
    "\n",
    "* Гипотеза `Запустить акцию, дающую скидку на товар в день рождения` опустилась на 5 место, т.к. RICE работет по охвату, а день рождения \"только раз в году\"\n",
    "* Гипотезы `Добавить блоки рекомендаций товаров на сайт интернет магазина, чтобы повысить конверсию и средний чек заказа` и `Добавить форму подписки на все основные страницы, чтобы собрать базу клиентов для email-рассылок` поднялись в топ по причине хорошего охвата пользователей\n",
    "    \n",
    "    \n"
   ]
  },
  {
   "cell_type": "markdown",
   "metadata": {},
   "source": [
    "<div class=\"alert alert-block alert-warning\">\n",
    "    \n",
    "\n",
    "__Комментарий от ревьюера №1 (можно лучше)__\n",
    "\n",
    "В целом раздел сделан хорошо, только несколько странно, что ты коллегам/руководству пишешь номера гипотез, почему не полные названия? Так им не придется искать где гипотезы записаны. Они у них вообще могут быть без номеров и в другой сортировке. У тебя же номера гипотез получены просто после импорта в pandas.\n",
    "\n",
    "</div>"
   ]
  },
  {
   "cell_type": "markdown",
   "metadata": {},
   "source": [
    "<div class=\"alert alert-info\">\n",
    "<b>Комментарий студента:</b> Ok, исправил </div>"
   ]
  },
  {
   "cell_type": "markdown",
   "metadata": {},
   "source": [
    "<div class=\"alert alert-block alert-success\">\n",
    "    \n",
    "\n",
    "__Комментарий от ревьюера №2 (OK)__\n",
    "\n",
    "Раздел сделан хорошо.\n",
    "</div>"
   ]
  },
  {
   "cell_type": "markdown",
   "metadata": {},
   "source": [
    "## Анализ A/B-теста\n",
    "<a name=\"4\"></a>"
   ]
  },
  {
   "cell_type": "markdown",
   "metadata": {},
   "source": [
    "Создаем массив уникальных пар значений дат и групп теста "
   ]
  },
  {
   "cell_type": "code",
   "execution_count": 13,
   "metadata": {},
   "outputs": [
    {
     "data": {
      "text/html": [
       "<div>\n",
       "<style scoped>\n",
       "    .dataframe tbody tr th:only-of-type {\n",
       "        vertical-align: middle;\n",
       "    }\n",
       "\n",
       "    .dataframe tbody tr th {\n",
       "        vertical-align: top;\n",
       "    }\n",
       "\n",
       "    .dataframe thead th {\n",
       "        text-align: right;\n",
       "    }\n",
       "</style>\n",
       "<table border=\"1\" class=\"dataframe\">\n",
       "  <thead>\n",
       "    <tr style=\"text-align: right;\">\n",
       "      <th></th>\n",
       "      <th>date</th>\n",
       "      <th>group</th>\n",
       "    </tr>\n",
       "  </thead>\n",
       "  <tbody>\n",
       "    <tr>\n",
       "      <td>0</td>\n",
       "      <td>2019-08-15</td>\n",
       "      <td>B</td>\n",
       "    </tr>\n",
       "    <tr>\n",
       "      <td>7</td>\n",
       "      <td>2019-08-15</td>\n",
       "      <td>A</td>\n",
       "    </tr>\n",
       "    <tr>\n",
       "      <td>45</td>\n",
       "      <td>2019-08-16</td>\n",
       "      <td>A</td>\n",
       "    </tr>\n",
       "    <tr>\n",
       "      <td>47</td>\n",
       "      <td>2019-08-16</td>\n",
       "      <td>B</td>\n",
       "    </tr>\n",
       "    <tr>\n",
       "      <td>55</td>\n",
       "      <td>2019-08-01</td>\n",
       "      <td>A</td>\n",
       "    </tr>\n",
       "  </tbody>\n",
       "</table>\n",
       "</div>"
      ],
      "text/plain": [
       "         date group\n",
       "0  2019-08-15     B\n",
       "7  2019-08-15     A\n",
       "45 2019-08-16     A\n",
       "47 2019-08-16     B\n",
       "55 2019-08-01     A"
      ]
     },
     "execution_count": 13,
     "metadata": {},
     "output_type": "execute_result"
    }
   ],
   "source": [
    "datesGroups = orders[['date','group']].drop_duplicates() \n",
    "datesGroups.head()"
   ]
  },
  {
   "cell_type": "markdown",
   "metadata": {},
   "source": [
    "Агрегируем значения. Вычислим максимальную дату:"
   ]
  },
  {
   "cell_type": "code",
   "execution_count": 14,
   "metadata": {},
   "outputs": [
    {
     "data": {
      "text/html": [
       "<div>\n",
       "<style scoped>\n",
       "    .dataframe tbody tr th:only-of-type {\n",
       "        vertical-align: middle;\n",
       "    }\n",
       "\n",
       "    .dataframe tbody tr th {\n",
       "        vertical-align: top;\n",
       "    }\n",
       "\n",
       "    .dataframe thead th {\n",
       "        text-align: right;\n",
       "    }\n",
       "</style>\n",
       "<table border=\"1\" class=\"dataframe\">\n",
       "  <thead>\n",
       "    <tr style=\"text-align: right;\">\n",
       "      <th></th>\n",
       "      <th>date</th>\n",
       "      <th>group</th>\n",
       "      <th>transactionid</th>\n",
       "      <th>visitorid</th>\n",
       "      <th>revenue</th>\n",
       "    </tr>\n",
       "  </thead>\n",
       "  <tbody>\n",
       "    <tr>\n",
       "      <td>55</td>\n",
       "      <td>2019-08-01</td>\n",
       "      <td>A</td>\n",
       "      <td>23</td>\n",
       "      <td>19</td>\n",
       "      <td>142779</td>\n",
       "    </tr>\n",
       "    <tr>\n",
       "      <td>66</td>\n",
       "      <td>2019-08-01</td>\n",
       "      <td>B</td>\n",
       "      <td>17</td>\n",
       "      <td>17</td>\n",
       "      <td>59758</td>\n",
       "    </tr>\n",
       "    <tr>\n",
       "      <td>175</td>\n",
       "      <td>2019-08-02</td>\n",
       "      <td>A</td>\n",
       "      <td>42</td>\n",
       "      <td>36</td>\n",
       "      <td>234381</td>\n",
       "    </tr>\n",
       "    <tr>\n",
       "      <td>173</td>\n",
       "      <td>2019-08-02</td>\n",
       "      <td>B</td>\n",
       "      <td>40</td>\n",
       "      <td>39</td>\n",
       "      <td>221801</td>\n",
       "    </tr>\n",
       "    <tr>\n",
       "      <td>291</td>\n",
       "      <td>2019-08-03</td>\n",
       "      <td>A</td>\n",
       "      <td>66</td>\n",
       "      <td>60</td>\n",
       "      <td>346854</td>\n",
       "    </tr>\n",
       "  </tbody>\n",
       "</table>\n",
       "</div>"
      ],
      "text/plain": [
       "          date group  transactionid  visitorid  revenue\n",
       "55  2019-08-01     A             23         19   142779\n",
       "66  2019-08-01     B             17         17    59758\n",
       "175 2019-08-02     A             42         36   234381\n",
       "173 2019-08-02     B             40         39   221801\n",
       "291 2019-08-03     A             66         60   346854"
      ]
     },
     "execution_count": 14,
     "metadata": {},
     "output_type": "execute_result"
    }
   ],
   "source": [
    "ordersAggregated = datesGroups.apply(lambda x: orders[np.logical_and(orders['date'] <= x['date'], orders['group'] == x['group'])]\n",
    "    .agg({'date': 'max', 'group': 'max', 'transactionid': pd.Series.nunique, 'visitorid': pd.Series.nunique, 'revenue': 'sum'}), axis=1)\\\n",
    "    .sort_values(by=['date','group']) \n",
    "ordersAggregated.head()"
   ]
  },
  {
   "cell_type": "markdown",
   "metadata": {},
   "source": [
    "Получим агрегированные кумулятивные по дням данные о посетителях:"
   ]
  },
  {
   "cell_type": "code",
   "execution_count": 15,
   "metadata": {},
   "outputs": [
    {
     "data": {
      "text/html": [
       "<div>\n",
       "<style scoped>\n",
       "    .dataframe tbody tr th:only-of-type {\n",
       "        vertical-align: middle;\n",
       "    }\n",
       "\n",
       "    .dataframe tbody tr th {\n",
       "        vertical-align: top;\n",
       "    }\n",
       "\n",
       "    .dataframe thead th {\n",
       "        text-align: right;\n",
       "    }\n",
       "</style>\n",
       "<table border=\"1\" class=\"dataframe\">\n",
       "  <thead>\n",
       "    <tr style=\"text-align: right;\">\n",
       "      <th></th>\n",
       "      <th>date</th>\n",
       "      <th>group</th>\n",
       "      <th>visitors</th>\n",
       "    </tr>\n",
       "  </thead>\n",
       "  <tbody>\n",
       "    <tr>\n",
       "      <td>55</td>\n",
       "      <td>2019-08-01</td>\n",
       "      <td>A</td>\n",
       "      <td>719</td>\n",
       "    </tr>\n",
       "    <tr>\n",
       "      <td>66</td>\n",
       "      <td>2019-08-01</td>\n",
       "      <td>B</td>\n",
       "      <td>713</td>\n",
       "    </tr>\n",
       "    <tr>\n",
       "      <td>175</td>\n",
       "      <td>2019-08-02</td>\n",
       "      <td>A</td>\n",
       "      <td>1338</td>\n",
       "    </tr>\n",
       "    <tr>\n",
       "      <td>173</td>\n",
       "      <td>2019-08-02</td>\n",
       "      <td>B</td>\n",
       "      <td>1294</td>\n",
       "    </tr>\n",
       "    <tr>\n",
       "      <td>291</td>\n",
       "      <td>2019-08-03</td>\n",
       "      <td>A</td>\n",
       "      <td>1845</td>\n",
       "    </tr>\n",
       "  </tbody>\n",
       "</table>\n",
       "</div>"
      ],
      "text/plain": [
       "          date group  visitors\n",
       "55  2019-08-01     A       719\n",
       "66  2019-08-01     B       713\n",
       "175 2019-08-02     A      1338\n",
       "173 2019-08-02     B      1294\n",
       "291 2019-08-03     A      1845"
      ]
     },
     "execution_count": 15,
     "metadata": {},
     "output_type": "execute_result"
    }
   ],
   "source": [
    "visitorsAggregated = datesGroups.apply(lambda x: visitors[np.logical_and(visitors['date'] <= x['date'], visitors['group'] == x['group'])]\n",
    "    .agg({'date': 'max', 'group': 'max', 'visitors': 'sum'}), axis=1)\\\n",
    "    .sort_values(by=['date','group'])\n",
    "visitorsAggregated.head()"
   ]
  },
  {
   "cell_type": "markdown",
   "metadata": {},
   "source": [
    "Объединяем кумулятивные данные в одной таблице и присваиваем ее столбцам понятные названия"
   ]
  },
  {
   "cell_type": "code",
   "execution_count": 16,
   "metadata": {},
   "outputs": [
    {
     "data": {
      "text/html": [
       "<div>\n",
       "<style scoped>\n",
       "    .dataframe tbody tr th:only-of-type {\n",
       "        vertical-align: middle;\n",
       "    }\n",
       "\n",
       "    .dataframe tbody tr th {\n",
       "        vertical-align: top;\n",
       "    }\n",
       "\n",
       "    .dataframe thead th {\n",
       "        text-align: right;\n",
       "    }\n",
       "</style>\n",
       "<table border=\"1\" class=\"dataframe\">\n",
       "  <thead>\n",
       "    <tr style=\"text-align: right;\">\n",
       "      <th></th>\n",
       "      <th>date</th>\n",
       "      <th>group</th>\n",
       "      <th>orders</th>\n",
       "      <th>buyers</th>\n",
       "      <th>revenue</th>\n",
       "      <th>visitors</th>\n",
       "    </tr>\n",
       "  </thead>\n",
       "  <tbody>\n",
       "    <tr>\n",
       "      <td>0</td>\n",
       "      <td>2019-08-01</td>\n",
       "      <td>A</td>\n",
       "      <td>23</td>\n",
       "      <td>19</td>\n",
       "      <td>142779</td>\n",
       "      <td>719</td>\n",
       "    </tr>\n",
       "    <tr>\n",
       "      <td>1</td>\n",
       "      <td>2019-08-01</td>\n",
       "      <td>B</td>\n",
       "      <td>17</td>\n",
       "      <td>17</td>\n",
       "      <td>59758</td>\n",
       "      <td>713</td>\n",
       "    </tr>\n",
       "    <tr>\n",
       "      <td>2</td>\n",
       "      <td>2019-08-02</td>\n",
       "      <td>A</td>\n",
       "      <td>42</td>\n",
       "      <td>36</td>\n",
       "      <td>234381</td>\n",
       "      <td>1338</td>\n",
       "    </tr>\n",
       "    <tr>\n",
       "      <td>3</td>\n",
       "      <td>2019-08-02</td>\n",
       "      <td>B</td>\n",
       "      <td>40</td>\n",
       "      <td>39</td>\n",
       "      <td>221801</td>\n",
       "      <td>1294</td>\n",
       "    </tr>\n",
       "    <tr>\n",
       "      <td>4</td>\n",
       "      <td>2019-08-03</td>\n",
       "      <td>A</td>\n",
       "      <td>66</td>\n",
       "      <td>60</td>\n",
       "      <td>346854</td>\n",
       "      <td>1845</td>\n",
       "    </tr>\n",
       "  </tbody>\n",
       "</table>\n",
       "</div>"
      ],
      "text/plain": [
       "        date group  orders  buyers  revenue  visitors\n",
       "0 2019-08-01     A      23      19   142779       719\n",
       "1 2019-08-01     B      17      17    59758       713\n",
       "2 2019-08-02     A      42      36   234381      1338\n",
       "3 2019-08-02     B      40      39   221801      1294\n",
       "4 2019-08-03     A      66      60   346854      1845"
      ]
     },
     "execution_count": 16,
     "metadata": {},
     "output_type": "execute_result"
    }
   ],
   "source": [
    "cumulativeData = ordersAggregated.merge(visitorsAggregated, left_on=['date', 'group'], right_on=['date', 'group'])\n",
    "cumulativeData.columns = ['date', 'group', 'orders', 'buyers', 'revenue', 'visitors']\n",
    "cumulativeData.head()"
   ]
  },
  {
   "cell_type": "markdown",
   "metadata": {},
   "source": [
    "Создадим датафрейм с кумулятивным количеством заказов и кумулятивной выручкой по дням в группе А"
   ]
  },
  {
   "cell_type": "code",
   "execution_count": 17,
   "metadata": {},
   "outputs": [],
   "source": [
    "cumulativeRevenueA = cumulativeData[cumulativeData['group']=='A'][['date','revenue', 'orders']]"
   ]
  },
  {
   "cell_type": "markdown",
   "metadata": {},
   "source": [
    "Создадим датафрейм с кумулятивным количеством заказов и кумулятивной выручкой по дням в группе B"
   ]
  },
  {
   "cell_type": "code",
   "execution_count": 18,
   "metadata": {},
   "outputs": [],
   "source": [
    "cumulativeRevenueB = cumulativeData[cumulativeData['group']=='B'][['date','revenue', 'orders']]"
   ]
  },
  {
   "cell_type": "markdown",
   "metadata": {},
   "source": [
    "### Построим графики кумулятивной выручки по дням и группам A/B-тестирования:"
   ]
  },
  {
   "cell_type": "code",
   "execution_count": 19,
   "metadata": {},
   "outputs": [
    {
     "data": {
      "image/png": "[encoded data removed]",
      "text/plain": [
       "<Figure size 1152x576 with 1 Axes>"
      ]
     },
     "metadata": {
      "needs_background": "light"
     },
     "output_type": "display_data"
    }
   ],
   "source": [
    "plt.figure(figsize = (16, 8))\n",
    "# Строим график выручки группы А \n",
    "plt.plot(cumulativeRevenueA['date'], cumulativeRevenueA['revenue'], label='A')\n",
    "# Строим график выручки группы B \n",
    "plt.plot(cumulativeRevenueB['date'], cumulativeRevenueB['revenue'], label='B')\n",
    "plt.suptitle('График кумулятивной выручки по группам', fontsize=15)\n",
    "plt.xlabel('Дата', fontsize=15)\n",
    "plt.ylabel('Выручка', fontsize=15)\n",
    "#plt.grid()\n",
    "\n",
    "plt.annotate('скачок', fontsize=15, xy=('2019-08-17', 2800000), xytext=('2019-08-10', 3500000),\n",
    "            arrowprops=dict(facecolor='g'))\n",
    "plt.annotate('отрыв', fontsize=15, xy=('2019-08-05', 800000), xytext=('2019-08-05', 2000000),\n",
    "            arrowprops=dict(facecolor='g'))\n",
    "\n",
    "plt.legend()\n",
    "plt.show()\n"
   ]
  },
  {
   "cell_type": "markdown",
   "metadata": {},
   "source": [
    "<div class=\"alert alert-block alert-warning\">\n",
    "    \n",
    "\n",
    "__Комментарий от ревьюера №1 (можно лучше)__\n",
    "\n",
    "Обрати внимание на предупреждение, его можно убрать, добавив вот эти строки:\n",
    "    \n",
    "- from pandas.plotting import register_matplotlib_converters\n",
    "- register_matplotlib_converters()\n",
    "    \n",
    "Сейчас график строится и без них, но в обновленных версиях matplotlib скорее всего без этого не обойтись.\n",
    "</div>"
   ]
  },
  {
   "cell_type": "markdown",
   "metadata": {},
   "source": [
    "<div class=\"alert alert-info\">\n",
    "<b>Комментарий студента:</b> Ok, исправил </div>"
   ]
  },
  {
   "cell_type": "markdown",
   "metadata": {},
   "source": [
    "Кумулятивная выручка увеличивается в течение всего периода.\n",
    "В группе B идим резкий скачок выручки 19 августа 2019 г. Это означпет реский рост числа заказов, или о появлении очень дорогих заказов в выборке. "
   ]
  },
  {
   "cell_type": "markdown",
   "metadata": {},
   "source": [
    "<div class=\"alert alert-block alert-warning\">\n",
    "    \n",
    "\n",
    "__Комментарий от ревьюера №1 (можно лучше)__\n",
    "\n",
    "На график можно было добавить аннотации для наглядности через такой код:  \n",
    "<code>plt.annotate('скачок', xy=('2019-08-17', 2800000), xytext=('2019-08-10', 3500000),\n",
    "            arrowprops=dict(facecolor='g'))\n",
    "plt.annotate('отрыв', xy=('2019-08-05', 800000), xytext=('2019-08-05', 2000000),\n",
    "            arrowprops=dict(facecolor='g')) </code>\n",
    "</div>"
   ]
  },
  {
   "cell_type": "markdown",
   "metadata": {},
   "source": [
    "### Построим графики среднего чека по группам:"
   ]
  },
  {
   "cell_type": "markdown",
   "metadata": {},
   "source": [
    "Разделим кумулятивную выручку на кумулятивное число заказов:"
   ]
  },
  {
   "cell_type": "code",
   "execution_count": 20,
   "metadata": {},
   "outputs": [
    {
     "data": {
      "image/png": "[encoded data removed]",
      "text/plain": [
       "<Figure size 1152x576 with 1 Axes>"
      ]
     },
     "metadata": {
      "needs_background": "light"
     },
     "output_type": "display_data"
    }
   ],
   "source": [
    "plt.figure(figsize = (16, 8))\n",
    "plt.plot(cumulativeRevenueA['date'], cumulativeRevenueA['revenue'] / cumulativeRevenueA['orders'], label='A')\n",
    "plt.plot(cumulativeRevenueB['date'], cumulativeRevenueB['revenue'] / cumulativeRevenueB['orders'], label='B')\n",
    "plt.suptitle('График кумулятивного среднего чека по группам', fontsize=15)\n",
    "plt.xlabel('Даты', fontsize=15)\n",
    "plt.ylabel('Кумулятивный средний чек', fontsize=15)\n",
    "#plt.grid()\n",
    "plt.legend()\n",
    "plt.show()\n"
   ]
  },
  {
   "cell_type": "markdown",
   "metadata": {},
   "source": [
    "Средний кумулятивный чек в группе B показывает резкий скачок 19 августа 2019 г., после чего наблюдается постепенное снижение среднего чека. "
   ]
  },
  {
   "cell_type": "markdown",
   "metadata": {},
   "source": [
    "### Построим график относительного изменения кумулятивного среднего чека группы B к группе A"
   ]
  },
  {
   "cell_type": "markdown",
   "metadata": {},
   "source": [
    "Собираем данные в одном датафрейме:"
   ]
  },
  {
   "cell_type": "code",
   "execution_count": 21,
   "metadata": {},
   "outputs": [
    {
     "data": {
      "text/html": [
       "<div>\n",
       "<style scoped>\n",
       "    .dataframe tbody tr th:only-of-type {\n",
       "        vertical-align: middle;\n",
       "    }\n",
       "\n",
       "    .dataframe tbody tr th {\n",
       "        vertical-align: top;\n",
       "    }\n",
       "\n",
       "    .dataframe thead th {\n",
       "        text-align: right;\n",
       "    }\n",
       "</style>\n",
       "<table border=\"1\" class=\"dataframe\">\n",
       "  <thead>\n",
       "    <tr style=\"text-align: right;\">\n",
       "      <th></th>\n",
       "      <th>date</th>\n",
       "      <th>revenueA</th>\n",
       "      <th>ordersA</th>\n",
       "      <th>revenueB</th>\n",
       "      <th>ordersB</th>\n",
       "    </tr>\n",
       "  </thead>\n",
       "  <tbody>\n",
       "    <tr>\n",
       "      <td>0</td>\n",
       "      <td>2019-08-01</td>\n",
       "      <td>142779</td>\n",
       "      <td>23</td>\n",
       "      <td>59758</td>\n",
       "      <td>17</td>\n",
       "    </tr>\n",
       "    <tr>\n",
       "      <td>1</td>\n",
       "      <td>2019-08-02</td>\n",
       "      <td>234381</td>\n",
       "      <td>42</td>\n",
       "      <td>221801</td>\n",
       "      <td>40</td>\n",
       "    </tr>\n",
       "    <tr>\n",
       "      <td>2</td>\n",
       "      <td>2019-08-03</td>\n",
       "      <td>346854</td>\n",
       "      <td>66</td>\n",
       "      <td>288850</td>\n",
       "      <td>54</td>\n",
       "    </tr>\n",
       "    <tr>\n",
       "      <td>3</td>\n",
       "      <td>2019-08-04</td>\n",
       "      <td>388030</td>\n",
       "      <td>77</td>\n",
       "      <td>385740</td>\n",
       "      <td>68</td>\n",
       "    </tr>\n",
       "    <tr>\n",
       "      <td>4</td>\n",
       "      <td>2019-08-05</td>\n",
       "      <td>474413</td>\n",
       "      <td>99</td>\n",
       "      <td>475648</td>\n",
       "      <td>89</td>\n",
       "    </tr>\n",
       "  </tbody>\n",
       "</table>\n",
       "</div>"
      ],
      "text/plain": [
       "        date  revenueA  ordersA  revenueB  ordersB\n",
       "0 2019-08-01    142779       23     59758       17\n",
       "1 2019-08-02    234381       42    221801       40\n",
       "2 2019-08-03    346854       66    288850       54\n",
       "3 2019-08-04    388030       77    385740       68\n",
       "4 2019-08-05    474413       99    475648       89"
      ]
     },
     "execution_count": 21,
     "metadata": {},
     "output_type": "execute_result"
    }
   ],
   "source": [
    "mergedCumulativeRevenue = cumulativeRevenueA.merge(cumulativeRevenueB, left_on='date', right_on='date', how='left', suffixes=['A', 'B'])\n",
    "mergedCumulativeRevenue.head()"
   ]
  },
  {
   "cell_type": "markdown",
   "metadata": {},
   "source": [
    "Cтроим отношение средних чеков:"
   ]
  },
  {
   "cell_type": "code",
   "execution_count": 22,
   "metadata": {},
   "outputs": [
    {
     "data": {
      "image/png": "[encoded data removed]",
      "text/plain": [
       "<Figure size 1152x576 with 1 Axes>"
      ]
     },
     "metadata": {
      "needs_background": "light"
     },
     "output_type": "display_data"
    }
   ],
   "source": [
    "plt.figure(figsize = (16, 8))\n",
    "# cтроим отношение средних чеков\n",
    "plt.plot(mergedCumulativeRevenue['date'], (mergedCumulativeRevenue['revenueB']/mergedCumulativeRevenue['ordersB'])/(mergedCumulativeRevenue['revenueA']/mergedCumulativeRevenue['ordersA'])-1)\n",
    "# добавляем ось X\n",
    "plt.axhline(y=0, color='black', linestyle='--')\n",
    "plt.suptitle('График относительного изменения кумулятивного среднего чека группы В к группе А', fontsize=15)\n",
    "plt.xlabel('Даты', fontsize=15)\n",
    "plt.ylabel('Относительное изменение', fontsize=15)\n",
    "#plt.grid()\n",
    "plt.show()\n"
   ]
  },
  {
   "cell_type": "markdown",
   "metadata": {},
   "source": [
    "График очень неравномерен, значит есть выбросы и/или крупные/малые заказы. "
   ]
  },
  {
   "cell_type": "markdown",
   "metadata": {},
   "source": [
    "### Построим график кумулятивной конверсии по группам"
   ]
  },
  {
   "cell_type": "markdown",
   "metadata": {},
   "source": [
    "Считаем кумулятивную конверсию:"
   ]
  },
  {
   "cell_type": "code",
   "execution_count": 23,
   "metadata": {},
   "outputs": [
    {
     "data": {
      "text/html": [
       "<div>\n",
       "<style scoped>\n",
       "    .dataframe tbody tr th:only-of-type {\n",
       "        vertical-align: middle;\n",
       "    }\n",
       "\n",
       "    .dataframe tbody tr th {\n",
       "        vertical-align: top;\n",
       "    }\n",
       "\n",
       "    .dataframe thead th {\n",
       "        text-align: right;\n",
       "    }\n",
       "</style>\n",
       "<table border=\"1\" class=\"dataframe\">\n",
       "  <thead>\n",
       "    <tr style=\"text-align: right;\">\n",
       "      <th></th>\n",
       "      <th>date</th>\n",
       "      <th>group</th>\n",
       "      <th>orders</th>\n",
       "      <th>buyers</th>\n",
       "      <th>revenue</th>\n",
       "      <th>visitors</th>\n",
       "      <th>conversion</th>\n",
       "    </tr>\n",
       "  </thead>\n",
       "  <tbody>\n",
       "    <tr>\n",
       "      <td>0</td>\n",
       "      <td>2019-08-01</td>\n",
       "      <td>A</td>\n",
       "      <td>23</td>\n",
       "      <td>19</td>\n",
       "      <td>142779</td>\n",
       "      <td>719</td>\n",
       "      <td>0.031989</td>\n",
       "    </tr>\n",
       "    <tr>\n",
       "      <td>1</td>\n",
       "      <td>2019-08-01</td>\n",
       "      <td>B</td>\n",
       "      <td>17</td>\n",
       "      <td>17</td>\n",
       "      <td>59758</td>\n",
       "      <td>713</td>\n",
       "      <td>0.023843</td>\n",
       "    </tr>\n",
       "    <tr>\n",
       "      <td>2</td>\n",
       "      <td>2019-08-02</td>\n",
       "      <td>A</td>\n",
       "      <td>42</td>\n",
       "      <td>36</td>\n",
       "      <td>234381</td>\n",
       "      <td>1338</td>\n",
       "      <td>0.031390</td>\n",
       "    </tr>\n",
       "    <tr>\n",
       "      <td>3</td>\n",
       "      <td>2019-08-02</td>\n",
       "      <td>B</td>\n",
       "      <td>40</td>\n",
       "      <td>39</td>\n",
       "      <td>221801</td>\n",
       "      <td>1294</td>\n",
       "      <td>0.030912</td>\n",
       "    </tr>\n",
       "    <tr>\n",
       "      <td>4</td>\n",
       "      <td>2019-08-03</td>\n",
       "      <td>A</td>\n",
       "      <td>66</td>\n",
       "      <td>60</td>\n",
       "      <td>346854</td>\n",
       "      <td>1845</td>\n",
       "      <td>0.035772</td>\n",
       "    </tr>\n",
       "  </tbody>\n",
       "</table>\n",
       "</div>"
      ],
      "text/plain": [
       "        date group  orders  buyers  revenue  visitors  conversion\n",
       "0 2019-08-01     A      23      19   142779       719    0.031989\n",
       "1 2019-08-01     B      17      17    59758       713    0.023843\n",
       "2 2019-08-02     A      42      36   234381      1338    0.031390\n",
       "3 2019-08-02     B      40      39   221801      1294    0.030912\n",
       "4 2019-08-03     A      66      60   346854      1845    0.035772"
      ]
     },
     "execution_count": 23,
     "metadata": {},
     "output_type": "execute_result"
    }
   ],
   "source": [
    "cumulativeData['conversion'] = cumulativeData['orders']/cumulativeData['visitors']\n",
    "cumulativeData.head()"
   ]
  },
  {
   "cell_type": "markdown",
   "metadata": {},
   "source": [
    "Отделяем данные по группе A:"
   ]
  },
  {
   "cell_type": "code",
   "execution_count": 24,
   "metadata": {},
   "outputs": [
    {
     "data": {
      "text/html": [
       "<div>\n",
       "<style scoped>\n",
       "    .dataframe tbody tr th:only-of-type {\n",
       "        vertical-align: middle;\n",
       "    }\n",
       "\n",
       "    .dataframe tbody tr th {\n",
       "        vertical-align: top;\n",
       "    }\n",
       "\n",
       "    .dataframe thead th {\n",
       "        text-align: right;\n",
       "    }\n",
       "</style>\n",
       "<table border=\"1\" class=\"dataframe\">\n",
       "  <thead>\n",
       "    <tr style=\"text-align: right;\">\n",
       "      <th></th>\n",
       "      <th>date</th>\n",
       "      <th>group</th>\n",
       "      <th>orders</th>\n",
       "      <th>buyers</th>\n",
       "      <th>revenue</th>\n",
       "      <th>visitors</th>\n",
       "      <th>conversion</th>\n",
       "    </tr>\n",
       "  </thead>\n",
       "  <tbody>\n",
       "    <tr>\n",
       "      <td>0</td>\n",
       "      <td>2019-08-01</td>\n",
       "      <td>A</td>\n",
       "      <td>23</td>\n",
       "      <td>19</td>\n",
       "      <td>142779</td>\n",
       "      <td>719</td>\n",
       "      <td>0.031989</td>\n",
       "    </tr>\n",
       "    <tr>\n",
       "      <td>2</td>\n",
       "      <td>2019-08-02</td>\n",
       "      <td>A</td>\n",
       "      <td>42</td>\n",
       "      <td>36</td>\n",
       "      <td>234381</td>\n",
       "      <td>1338</td>\n",
       "      <td>0.031390</td>\n",
       "    </tr>\n",
       "    <tr>\n",
       "      <td>4</td>\n",
       "      <td>2019-08-03</td>\n",
       "      <td>A</td>\n",
       "      <td>66</td>\n",
       "      <td>60</td>\n",
       "      <td>346854</td>\n",
       "      <td>1845</td>\n",
       "      <td>0.035772</td>\n",
       "    </tr>\n",
       "    <tr>\n",
       "      <td>6</td>\n",
       "      <td>2019-08-04</td>\n",
       "      <td>A</td>\n",
       "      <td>77</td>\n",
       "      <td>71</td>\n",
       "      <td>388030</td>\n",
       "      <td>2562</td>\n",
       "      <td>0.030055</td>\n",
       "    </tr>\n",
       "    <tr>\n",
       "      <td>8</td>\n",
       "      <td>2019-08-05</td>\n",
       "      <td>A</td>\n",
       "      <td>99</td>\n",
       "      <td>92</td>\n",
       "      <td>474413</td>\n",
       "      <td>3318</td>\n",
       "      <td>0.029837</td>\n",
       "    </tr>\n",
       "  </tbody>\n",
       "</table>\n",
       "</div>"
      ],
      "text/plain": [
       "        date group  orders  buyers  revenue  visitors  conversion\n",
       "0 2019-08-01     A      23      19   142779       719    0.031989\n",
       "2 2019-08-02     A      42      36   234381      1338    0.031390\n",
       "4 2019-08-03     A      66      60   346854      1845    0.035772\n",
       "6 2019-08-04     A      77      71   388030      2562    0.030055\n",
       "8 2019-08-05     A      99      92   474413      3318    0.029837"
      ]
     },
     "execution_count": 24,
     "metadata": {},
     "output_type": "execute_result"
    }
   ],
   "source": [
    "cumulativeDataA = cumulativeData[cumulativeData['group']=='A']\n",
    "cumulativeDataA.head()"
   ]
  },
  {
   "cell_type": "markdown",
   "metadata": {},
   "source": [
    "Отделяем данные по группе B:"
   ]
  },
  {
   "cell_type": "code",
   "execution_count": 25,
   "metadata": {},
   "outputs": [
    {
     "data": {
      "text/html": [
       "<div>\n",
       "<style scoped>\n",
       "    .dataframe tbody tr th:only-of-type {\n",
       "        vertical-align: middle;\n",
       "    }\n",
       "\n",
       "    .dataframe tbody tr th {\n",
       "        vertical-align: top;\n",
       "    }\n",
       "\n",
       "    .dataframe thead th {\n",
       "        text-align: right;\n",
       "    }\n",
       "</style>\n",
       "<table border=\"1\" class=\"dataframe\">\n",
       "  <thead>\n",
       "    <tr style=\"text-align: right;\">\n",
       "      <th></th>\n",
       "      <th>date</th>\n",
       "      <th>group</th>\n",
       "      <th>orders</th>\n",
       "      <th>buyers</th>\n",
       "      <th>revenue</th>\n",
       "      <th>visitors</th>\n",
       "      <th>conversion</th>\n",
       "    </tr>\n",
       "  </thead>\n",
       "  <tbody>\n",
       "    <tr>\n",
       "      <td>1</td>\n",
       "      <td>2019-08-01</td>\n",
       "      <td>B</td>\n",
       "      <td>17</td>\n",
       "      <td>17</td>\n",
       "      <td>59758</td>\n",
       "      <td>713</td>\n",
       "      <td>0.023843</td>\n",
       "    </tr>\n",
       "    <tr>\n",
       "      <td>3</td>\n",
       "      <td>2019-08-02</td>\n",
       "      <td>B</td>\n",
       "      <td>40</td>\n",
       "      <td>39</td>\n",
       "      <td>221801</td>\n",
       "      <td>1294</td>\n",
       "      <td>0.030912</td>\n",
       "    </tr>\n",
       "    <tr>\n",
       "      <td>5</td>\n",
       "      <td>2019-08-03</td>\n",
       "      <td>B</td>\n",
       "      <td>54</td>\n",
       "      <td>53</td>\n",
       "      <td>288850</td>\n",
       "      <td>1803</td>\n",
       "      <td>0.029950</td>\n",
       "    </tr>\n",
       "    <tr>\n",
       "      <td>7</td>\n",
       "      <td>2019-08-04</td>\n",
       "      <td>B</td>\n",
       "      <td>68</td>\n",
       "      <td>66</td>\n",
       "      <td>385740</td>\n",
       "      <td>2573</td>\n",
       "      <td>0.026428</td>\n",
       "    </tr>\n",
       "    <tr>\n",
       "      <td>9</td>\n",
       "      <td>2019-08-05</td>\n",
       "      <td>B</td>\n",
       "      <td>89</td>\n",
       "      <td>87</td>\n",
       "      <td>475648</td>\n",
       "      <td>3280</td>\n",
       "      <td>0.027134</td>\n",
       "    </tr>\n",
       "  </tbody>\n",
       "</table>\n",
       "</div>"
      ],
      "text/plain": [
       "        date group  orders  buyers  revenue  visitors  conversion\n",
       "1 2019-08-01     B      17      17    59758       713    0.023843\n",
       "3 2019-08-02     B      40      39   221801      1294    0.030912\n",
       "5 2019-08-03     B      54      53   288850      1803    0.029950\n",
       "7 2019-08-04     B      68      66   385740      2573    0.026428\n",
       "9 2019-08-05     B      89      87   475648      3280    0.027134"
      ]
     },
     "execution_count": 25,
     "metadata": {},
     "output_type": "execute_result"
    }
   ],
   "source": [
    "cumulativeDataB = cumulativeData[cumulativeData['group']=='B']\n",
    "cumulativeDataB.head()"
   ]
  },
  {
   "cell_type": "markdown",
   "metadata": {},
   "source": [
    "Строим график кумулятивной конверсии по группам"
   ]
  },
  {
   "cell_type": "code",
   "execution_count": 26,
   "metadata": {},
   "outputs": [
    {
     "data": {
      "image/png": "[encoded data removed]",
      "text/plain": [
       "<Figure size 1152x576 with 1 Axes>"
      ]
     },
     "metadata": {
      "needs_background": "light"
     },
     "output_type": "display_data"
    }
   ],
   "source": [
    "plt.figure(figsize = (16, 8))\n",
    "plt.plot(cumulativeDataA['date'], cumulativeDataA['conversion'], label='A')\n",
    "plt.plot(cumulativeDataB['date'], cumulativeDataB['conversion'], label='B')\n",
    "plt.suptitle('График кумулятивной конверсии по группам', fontsize=15)\n",
    "plt.xlabel('Даты', fontsize=15)\n",
    "plt.ylabel('Кумулятивная конверсия по группам', fontsize=15)\n",
    "#plt.grid()\n",
    "plt.legend()\n",
    "plt.show()"
   ]
  },
  {
   "cell_type": "markdown",
   "metadata": {},
   "source": [
    "В обеих группах до 4 августа наблюдаются резкие возрастания куммулятивной конверсии \n",
    "\n",
    "Кумулятивная конверсия группы `A` резко возрастает в период с 4 августа по 11 августа, далее демонстрирует устойчивое состояние до 21 августа. Плавное снижение начинается с  до 21 августа по 27 авгута, затем начинает плавное возрастание.\n",
    "\n",
    "Кумулятивная конверсия группы `B` резко снижается с 4 августа по 11 августа, далее показывает малый устойчивый рост с 11 августа по 23 августа, после происходит планое снижение показателя.\n"
   ]
  },
  {
   "cell_type": "markdown",
   "metadata": {},
   "source": [
    "### Построим график относительного изменения кумулятивной конверсии группы B к группе A"
   ]
  },
  {
   "cell_type": "markdown",
   "metadata": {},
   "source": [
    "Создадим датафрейм с кумулятивным значение конверсии групп A и B:"
   ]
  },
  {
   "cell_type": "code",
   "execution_count": 27,
   "metadata": {},
   "outputs": [
    {
     "data": {
      "text/html": [
       "<div>\n",
       "<style scoped>\n",
       "    .dataframe tbody tr th:only-of-type {\n",
       "        vertical-align: middle;\n",
       "    }\n",
       "\n",
       "    .dataframe tbody tr th {\n",
       "        vertical-align: top;\n",
       "    }\n",
       "\n",
       "    .dataframe thead th {\n",
       "        text-align: right;\n",
       "    }\n",
       "</style>\n",
       "<table border=\"1\" class=\"dataframe\">\n",
       "  <thead>\n",
       "    <tr style=\"text-align: right;\">\n",
       "      <th></th>\n",
       "      <th>date</th>\n",
       "      <th>conversionA</th>\n",
       "      <th>conversionB</th>\n",
       "    </tr>\n",
       "  </thead>\n",
       "  <tbody>\n",
       "    <tr>\n",
       "      <td>0</td>\n",
       "      <td>2019-08-01</td>\n",
       "      <td>0.031989</td>\n",
       "      <td>0.023843</td>\n",
       "    </tr>\n",
       "    <tr>\n",
       "      <td>1</td>\n",
       "      <td>2019-08-02</td>\n",
       "      <td>0.031390</td>\n",
       "      <td>0.030912</td>\n",
       "    </tr>\n",
       "    <tr>\n",
       "      <td>2</td>\n",
       "      <td>2019-08-03</td>\n",
       "      <td>0.035772</td>\n",
       "      <td>0.029950</td>\n",
       "    </tr>\n",
       "    <tr>\n",
       "      <td>3</td>\n",
       "      <td>2019-08-04</td>\n",
       "      <td>0.030055</td>\n",
       "      <td>0.026428</td>\n",
       "    </tr>\n",
       "    <tr>\n",
       "      <td>4</td>\n",
       "      <td>2019-08-05</td>\n",
       "      <td>0.029837</td>\n",
       "      <td>0.027134</td>\n",
       "    </tr>\n",
       "  </tbody>\n",
       "</table>\n",
       "</div>"
      ],
      "text/plain": [
       "        date  conversionA  conversionB\n",
       "0 2019-08-01     0.031989     0.023843\n",
       "1 2019-08-02     0.031390     0.030912\n",
       "2 2019-08-03     0.035772     0.029950\n",
       "3 2019-08-04     0.030055     0.026428\n",
       "4 2019-08-05     0.029837     0.027134"
      ]
     },
     "execution_count": 27,
     "metadata": {},
     "output_type": "execute_result"
    }
   ],
   "source": [
    "mergedCumulativeConversions = cumulativeDataA[['date','conversion']].merge(cumulativeDataB[['date','conversion']], left_on='date', right_on='date', how='left', suffixes=['A', 'B'])\n",
    "mergedCumulativeConversions.head()"
   ]
  },
  {
   "cell_type": "markdown",
   "metadata": {},
   "source": [
    "Отобразим график:"
   ]
  },
  {
   "cell_type": "code",
   "execution_count": 28,
   "metadata": {},
   "outputs": [
    {
     "data": {
      "image/png": "[encoded data removed]",
      "text/plain": [
       "<Figure size 1152x576 with 1 Axes>"
      ]
     },
     "metadata": {
      "needs_background": "light"
     },
     "output_type": "display_data"
    }
   ],
   "source": [
    "plt.figure(figsize = (16, 8))\n",
    "plt.plot(mergedCumulativeConversions['date'], mergedCumulativeConversions['conversionB']/mergedCumulativeConversions['conversionA']-1, label=\"Относительный прирост конверсии группы B относительно группы A\")\n",
    "\n",
    "plt.axhline(y=0.0, color='black', linestyle='--')\n",
    "plt.axhline(y=0.15, color='grey', linestyle='--')\n",
    "\n",
    "plt.axis(['2019-08-01', '2019-09-01', -0.30, 0.25]) \n",
    "\n",
    "plt.suptitle('Относительный прирост конверсии группы B относительно группы A', fontsize=15)\n",
    "plt.xlabel('Даты', fontsize=15)\n",
    "plt.ylabel('Относительный прирост', fontsize=15)\n",
    "#plt.grid()\n",
    "plt.show()"
   ]
  },
  {
   "cell_type": "markdown",
   "metadata": {},
   "source": [
    "Стабильный рост конверсии группы B началься с 5 августа по 9 августа. \n",
    "В период с 10 августа по 19 августа относительный прирост конверсии изменяется в пределах от 0.15 до 0.21.\n",
    "Снижение относительного прироста конверсии начинается с 20 по 25 августа.\n",
    "\n"
   ]
  },
  {
   "cell_type": "markdown",
   "metadata": {},
   "source": [
    "<div class=\"alert alert-block alert-success\">\n",
    "    \n",
    "\n",
    "__Комментарий от ревьюера №1 (OK)__\n",
    "\n",
    "В целом задания по кумулятивным метрикам сделаны хорошо. Получены правильные выводы.\n",
    "</div>"
   ]
  },
  {
   "cell_type": "markdown",
   "metadata": {},
   "source": [
    "### Построим точечный график количества заказов по пользователям"
   ]
  },
  {
   "cell_type": "markdown",
   "metadata": {},
   "source": [
    "Подсчитаем количество заказов по пользователям и посмотрим на результат"
   ]
  },
  {
   "cell_type": "code",
   "execution_count": 29,
   "metadata": {},
   "outputs": [
    {
     "data": {
      "text/html": [
       "<div>\n",
       "<style scoped>\n",
       "    .dataframe tbody tr th:only-of-type {\n",
       "        vertical-align: middle;\n",
       "    }\n",
       "\n",
       "    .dataframe tbody tr th {\n",
       "        vertical-align: top;\n",
       "    }\n",
       "\n",
       "    .dataframe thead th {\n",
       "        text-align: right;\n",
       "    }\n",
       "</style>\n",
       "<table border=\"1\" class=\"dataframe\">\n",
       "  <thead>\n",
       "    <tr style=\"text-align: right;\">\n",
       "      <th></th>\n",
       "      <th>user_id</th>\n",
       "      <th>orders</th>\n",
       "    </tr>\n",
       "  </thead>\n",
       "  <tbody>\n",
       "    <tr>\n",
       "      <td>908</td>\n",
       "      <td>3967698036</td>\n",
       "      <td>3</td>\n",
       "    </tr>\n",
       "    <tr>\n",
       "      <td>55</td>\n",
       "      <td>249864742</td>\n",
       "      <td>3</td>\n",
       "    </tr>\n",
       "    <tr>\n",
       "      <td>478</td>\n",
       "      <td>2108163459</td>\n",
       "      <td>3</td>\n",
       "    </tr>\n",
       "    <tr>\n",
       "      <td>687</td>\n",
       "      <td>2988190573</td>\n",
       "      <td>3</td>\n",
       "    </tr>\n",
       "    <tr>\n",
       "      <td>890</td>\n",
       "      <td>3908431265</td>\n",
       "      <td>3</td>\n",
       "    </tr>\n",
       "    <tr>\n",
       "      <td>138</td>\n",
       "      <td>611059232</td>\n",
       "      <td>3</td>\n",
       "    </tr>\n",
       "    <tr>\n",
       "      <td>632</td>\n",
       "      <td>2742574263</td>\n",
       "      <td>3</td>\n",
       "    </tr>\n",
       "    <tr>\n",
       "      <td>157</td>\n",
       "      <td>678354126</td>\n",
       "      <td>2</td>\n",
       "    </tr>\n",
       "    <tr>\n",
       "      <td>323</td>\n",
       "      <td>1404560065</td>\n",
       "      <td>2</td>\n",
       "    </tr>\n",
       "    <tr>\n",
       "      <td>452</td>\n",
       "      <td>1985475298</td>\n",
       "      <td>2</td>\n",
       "    </tr>\n",
       "  </tbody>\n",
       "</table>\n",
       "</div>"
      ],
      "text/plain": [
       "        user_id  orders\n",
       "908  3967698036       3\n",
       "55    249864742       3\n",
       "478  2108163459       3\n",
       "687  2988190573       3\n",
       "890  3908431265       3\n",
       "138   611059232       3\n",
       "632  2742574263       3\n",
       "157   678354126       2\n",
       "323  1404560065       2\n",
       "452  1985475298       2"
      ]
     },
     "execution_count": 29,
     "metadata": {},
     "output_type": "execute_result"
    }
   ],
   "source": [
    "#data['date'] = data['date'].map(lambdax: dt.datetime.strptime(x, '%d/%m/%Y'))\n",
    "\n",
    "ordersByUsers = (\n",
    "    orders.drop(['group', 'revenue', 'date'], axis=1)\n",
    "    .groupby('visitorid', as_index=False)\n",
    "    .agg({'transactionid': pd.Series.nunique}))\n",
    "ordersByUsers.columns = ['user_id', 'orders']\n",
    "ordersByUsers.sort_values(by='orders', ascending=False).head(10)"
   ]
  },
  {
   "cell_type": "markdown",
   "metadata": {},
   "source": [
    "Построим гистрограмму распределения количества заказов на одного пользователя:"
   ]
  },
  {
   "cell_type": "code",
   "execution_count": 30,
   "metadata": {},
   "outputs": [
    {
     "data": {
      "image/png": "[encoded data removed]",
      "text/plain": [
       "<Figure size 1152x576 with 1 Axes>"
      ]
     },
     "metadata": {
      "needs_background": "light"
     },
     "output_type": "display_data"
    }
   ],
   "source": [
    "plt.figure(figsize = (16, 8))\n",
    "plt.hist(ordersByUsers['orders'], bins = 25, facecolor='#4FB9E0', ec='black')\n",
    "plt.suptitle('Количество заказов на одного пользователя', fontsize=15)\n",
    "plt.xlabel('Количество заказов', fontsize=15)\n",
    "plt.ylabel('Частота', fontsize=15)\n",
    "#plt.grid()\n",
    "plt.show()"
   ]
  },
  {
   "cell_type": "markdown",
   "metadata": {},
   "source": [
    "Отобразим в % соотношении:"
   ]
  },
  {
   "cell_type": "code",
   "execution_count": 31,
   "metadata": {},
   "outputs": [
    {
     "data": {
      "text/html": [
       "<div>\n",
       "<style scoped>\n",
       "    .dataframe tbody tr th:only-of-type {\n",
       "        vertical-align: middle;\n",
       "    }\n",
       "\n",
       "    .dataframe tbody tr th {\n",
       "        vertical-align: top;\n",
       "    }\n",
       "\n",
       "    .dataframe thead th {\n",
       "        text-align: right;\n",
       "    }\n",
       "</style>\n",
       "<table border=\"1\" class=\"dataframe\">\n",
       "  <thead>\n",
       "    <tr style=\"text-align: right;\">\n",
       "      <th></th>\n",
       "      <th>% по заказам</th>\n",
       "    </tr>\n",
       "    <tr>\n",
       "      <th>orders</th>\n",
       "      <th></th>\n",
       "    </tr>\n",
       "  </thead>\n",
       "  <tbody>\n",
       "    <tr>\n",
       "      <td>1</td>\n",
       "      <td>96.30</td>\n",
       "    </tr>\n",
       "    <tr>\n",
       "      <td>2</td>\n",
       "      <td>2.98</td>\n",
       "    </tr>\n",
       "    <tr>\n",
       "      <td>3</td>\n",
       "      <td>0.72</td>\n",
       "    </tr>\n",
       "  </tbody>\n",
       "</table>\n",
       "</div>"
      ],
      "text/plain": [
       "        % по заказам\n",
       "orders              \n",
       "1              96.30\n",
       "2               2.98\n",
       "3               0.72"
      ]
     },
     "execution_count": 31,
     "metadata": {},
     "output_type": "execute_result"
    }
   ],
   "source": [
    "ordersByUsers_pct = (ordersByUsers.groupby(\"orders\").agg({\"orders\":\"count\"}).apply(lambda x:100 * x/x.sum())).round(2)\n",
    "ordersByUsers_pct.columns = ['% по заказам']\n",
    "ordersByUsers_pct.sort_values('% по заказам', ascending=False)"
   ]
  },
  {
   "cell_type": "markdown",
   "metadata": {},
   "source": [
    "Построим точечную диаграмму числа заказов на одного пользователя:"
   ]
  },
  {
   "cell_type": "code",
   "execution_count": 32,
   "metadata": {},
   "outputs": [
    {
     "data": {
      "image/png": "[encoded data removed]",
      "text/plain": [
       "<Figure size 1152x576 with 1 Axes>"
      ]
     },
     "metadata": {
      "needs_background": "light"
     },
     "output_type": "display_data"
    }
   ],
   "source": [
    "x_values = pd.Series(range(0,len(ordersByUsers)))\n",
    "\n",
    "plt.figure(figsize = (16, 8))\n",
    "plt.scatter(x_values, ordersByUsers['orders'], c='#4FB9E0', alpha=0.75)\n",
    "plt.suptitle('Количество заказов на одного пользователя', fontsize=15)\n",
    "plt.ylabel('Количество заказов', fontsize=15)\n",
    "plt.xlabel('Частота', fontsize=15)\n",
    "plt.show()"
   ]
  },
  {
   "cell_type": "markdown",
   "metadata": {},
   "source": [
    "Почти 91% пользователей совершили только 1 заказ. Перспективная группа - пользователи совершившие 2 и 3 заказа."
   ]
  },
  {
   "cell_type": "markdown",
   "metadata": {},
   "source": [
    "### Определим 95-й и 99-й перцентили количества заказов на пользователя"
   ]
  },
  {
   "cell_type": "code",
   "execution_count": 33,
   "metadata": {},
   "outputs": [
    {
     "data": {
      "text/plain": [
       "array([1., 2.])"
      ]
     },
     "execution_count": 33,
     "metadata": {},
     "output_type": "execute_result"
    }
   ],
   "source": [
    "np.percentile(ordersByUsers['orders'], [95, 99])"
   ]
  },
  {
   "cell_type": "markdown",
   "metadata": {},
   "source": [
    "5% пользователей совершили по 1 заказу.\n",
    "1% пользователей совершил не более 2 заказов "
   ]
  },
  {
   "cell_type": "markdown",
   "metadata": {},
   "source": [
    "### Построим точечный график стоимостей заказов"
   ]
  },
  {
   "cell_type": "code",
   "execution_count": 34,
   "metadata": {},
   "outputs": [
    {
     "data": {
      "image/png": "[encoded data removed]",
      "text/plain": [
       "<Figure size 1152x576 with 1 Axes>"
      ]
     },
     "metadata": {
      "needs_background": "light"
     },
     "output_type": "display_data"
    }
   ],
   "source": [
    "x_values = pd.Series(range(0,len(orders['revenue'])))\n",
    "\n",
    "plt.figure(figsize = (16, 8))\n",
    "plt.scatter(x_values, orders['revenue'], c='#4FB9E0', alpha=0.75)\n",
    "plt.suptitle('Точечный график стоимостей заказов', fontsize=15)\n",
    "plt.ylabel('Стоимость заказа', fontsize=15)\n",
    "plt.xlabel('Частота', fontsize=15)\n",
    "plt.show()"
   ]
  },
  {
   "cell_type": "markdown",
   "metadata": {},
   "source": [
    "Из графика видим 2 выброса."
   ]
  },
  {
   "cell_type": "markdown",
   "metadata": {},
   "source": [
    "Построим диаграмму размаха:"
   ]
  },
  {
   "cell_type": "code",
   "execution_count": 35,
   "metadata": {},
   "outputs": [
    {
     "data": {
      "image/png": "[encoded data removed]",
      "text/plain": [
       "<Figure size 1152x144 with 1 Axes>"
      ]
     },
     "metadata": {},
     "output_type": "display_data"
    }
   ],
   "source": [
    "data1 = orders[orders['group'] == 'A']['revenue']\n",
    "data2 = orders[orders['group'] == 'B']['revenue']\n",
    "\n",
    "sns.set_style(\"whitegrid\")\n",
    "bar,ax = plt.subplots(figsize=(16, 2))\n",
    "sns.boxplot( \n",
    "    data=[data1, data2], orient='h',\n",
    "    palette=[sns.xkcd_rgb[\"lightblue\"], sns.xkcd_rgb[\"orange\"]], \n",
    "    showmeans=True)\n",
    "\n",
    "plt.xlim(0, 30000) #предел величины по х\n",
    "\n",
    "plt.ylabel(\"A, B\", size = 18)\n",
    "plt.xlabel(\"Стоимость заказа\", size = 15);"
   ]
  },
  {
   "cell_type": "markdown",
   "metadata": {},
   "source": [
    "90% пользователей совершают заказы на сумму не более 18000 р."
   ]
  },
  {
   "cell_type": "markdown",
   "metadata": {},
   "source": [
    "### Определим 95-й и 99-й перцентили стоимости заказов"
   ]
  },
  {
   "cell_type": "code",
   "execution_count": 36,
   "metadata": {},
   "outputs": [
    {
     "data": {
      "text/plain": [
       "array([26785., 53904.])"
      ]
     },
     "execution_count": 36,
     "metadata": {},
     "output_type": "execute_result"
    }
   ],
   "source": [
    "np.percentile(orders['revenue'], [95, 99])"
   ]
  },
  {
   "cell_type": "markdown",
   "metadata": {},
   "source": [
    "Всего 5% пользователей совершили покупки от 26785 р.\n",
    "1% пользователей совершили покупки от 58233 р.\n",
    "Аномальными значениями будут покупки от 26785 р."
   ]
  },
  {
   "cell_type": "markdown",
   "metadata": {},
   "source": [
    "<div class=\"alert alert-block alert-success\">\n",
    "    \n",
    "\n",
    "__Комментарий от ревьюера №1 (OK)__\n",
    "\n",
    "Аномальные значения найдены верно.\n",
    "</div>"
   ]
  },
  {
   "cell_type": "markdown",
   "metadata": {},
   "source": [
    "### Определим статистическую значимость различий в конверсии между группами по «сырым» данным"
   ]
  },
  {
   "cell_type": "markdown",
   "metadata": {},
   "source": [
    "Определим количество посетителей группы `A` по дням:"
   ]
  },
  {
   "cell_type": "code",
   "execution_count": 37,
   "metadata": {},
   "outputs": [
    {
     "data": {
      "text/html": [
       "<div>\n",
       "<style scoped>\n",
       "    .dataframe tbody tr th:only-of-type {\n",
       "        vertical-align: middle;\n",
       "    }\n",
       "\n",
       "    .dataframe tbody tr th {\n",
       "        vertical-align: top;\n",
       "    }\n",
       "\n",
       "    .dataframe thead th {\n",
       "        text-align: right;\n",
       "    }\n",
       "</style>\n",
       "<table border=\"1\" class=\"dataframe\">\n",
       "  <thead>\n",
       "    <tr style=\"text-align: right;\">\n",
       "      <th></th>\n",
       "      <th>date</th>\n",
       "      <th>visitorsPerDateA</th>\n",
       "    </tr>\n",
       "  </thead>\n",
       "  <tbody>\n",
       "    <tr>\n",
       "      <td>0</td>\n",
       "      <td>2019-08-01</td>\n",
       "      <td>719</td>\n",
       "    </tr>\n",
       "    <tr>\n",
       "      <td>1</td>\n",
       "      <td>2019-08-02</td>\n",
       "      <td>619</td>\n",
       "    </tr>\n",
       "    <tr>\n",
       "      <td>2</td>\n",
       "      <td>2019-08-03</td>\n",
       "      <td>507</td>\n",
       "    </tr>\n",
       "    <tr>\n",
       "      <td>3</td>\n",
       "      <td>2019-08-04</td>\n",
       "      <td>717</td>\n",
       "    </tr>\n",
       "    <tr>\n",
       "      <td>4</td>\n",
       "      <td>2019-08-05</td>\n",
       "      <td>756</td>\n",
       "    </tr>\n",
       "  </tbody>\n",
       "</table>\n",
       "</div>"
      ],
      "text/plain": [
       "        date  visitorsPerDateA\n",
       "0 2019-08-01               719\n",
       "1 2019-08-02               619\n",
       "2 2019-08-03               507\n",
       "3 2019-08-04               717\n",
       "4 2019-08-05               756"
      ]
     },
     "execution_count": 37,
     "metadata": {},
     "output_type": "execute_result"
    }
   ],
   "source": [
    "visitorsADaily = visitors[visitors['group'] == 'A'][['date', 'visitors']]\n",
    "visitorsADaily.columns = ['date', 'visitorsPerDateA']\n",
    "visitorsADaily.head()"
   ]
  },
  {
   "cell_type": "markdown",
   "metadata": {},
   "source": [
    "Определим кумулятивное количество посетителей группы `A` по дням:"
   ]
  },
  {
   "cell_type": "code",
   "execution_count": 38,
   "metadata": {},
   "outputs": [
    {
     "data": {
      "text/html": [
       "<div>\n",
       "<style scoped>\n",
       "    .dataframe tbody tr th:only-of-type {\n",
       "        vertical-align: middle;\n",
       "    }\n",
       "\n",
       "    .dataframe tbody tr th {\n",
       "        vertical-align: top;\n",
       "    }\n",
       "\n",
       "    .dataframe thead th {\n",
       "        text-align: right;\n",
       "    }\n",
       "</style>\n",
       "<table border=\"1\" class=\"dataframe\">\n",
       "  <thead>\n",
       "    <tr style=\"text-align: right;\">\n",
       "      <th></th>\n",
       "      <th>date</th>\n",
       "      <th>visitorsCummulativeA</th>\n",
       "    </tr>\n",
       "  </thead>\n",
       "  <tbody>\n",
       "    <tr>\n",
       "      <td>0</td>\n",
       "      <td>2019-08-01</td>\n",
       "      <td>719</td>\n",
       "    </tr>\n",
       "    <tr>\n",
       "      <td>1</td>\n",
       "      <td>2019-08-02</td>\n",
       "      <td>1338</td>\n",
       "    </tr>\n",
       "    <tr>\n",
       "      <td>2</td>\n",
       "      <td>2019-08-03</td>\n",
       "      <td>1845</td>\n",
       "    </tr>\n",
       "    <tr>\n",
       "      <td>3</td>\n",
       "      <td>2019-08-04</td>\n",
       "      <td>2562</td>\n",
       "    </tr>\n",
       "    <tr>\n",
       "      <td>4</td>\n",
       "      <td>2019-08-05</td>\n",
       "      <td>3318</td>\n",
       "    </tr>\n",
       "  </tbody>\n",
       "</table>\n",
       "</div>"
      ],
      "text/plain": [
       "        date  visitorsCummulativeA\n",
       "0 2019-08-01                   719\n",
       "1 2019-08-02                  1338\n",
       "2 2019-08-03                  1845\n",
       "3 2019-08-04                  2562\n",
       "4 2019-08-05                  3318"
      ]
     },
     "execution_count": 38,
     "metadata": {},
     "output_type": "execute_result"
    }
   ],
   "source": [
    "visitorsACummulative = visitorsADaily.apply(lambda x: visitorsADaily[visitorsADaily['date'] <= x['date']]\n",
    "                                            .agg({'date': 'max', 'visitorsPerDateA': 'sum'}),axis=1)\n",
    "visitorsACummulative.columns = ['date', 'visitorsCummulativeA']\n",
    "visitorsACummulative.head()"
   ]
  },
  {
   "cell_type": "markdown",
   "metadata": {},
   "source": [
    "Определим количество посетителей группы `B` по дням:"
   ]
  },
  {
   "cell_type": "code",
   "execution_count": 39,
   "metadata": {},
   "outputs": [
    {
     "data": {
      "text/html": [
       "<div>\n",
       "<style scoped>\n",
       "    .dataframe tbody tr th:only-of-type {\n",
       "        vertical-align: middle;\n",
       "    }\n",
       "\n",
       "    .dataframe tbody tr th {\n",
       "        vertical-align: top;\n",
       "    }\n",
       "\n",
       "    .dataframe thead th {\n",
       "        text-align: right;\n",
       "    }\n",
       "</style>\n",
       "<table border=\"1\" class=\"dataframe\">\n",
       "  <thead>\n",
       "    <tr style=\"text-align: right;\">\n",
       "      <th></th>\n",
       "      <th>date</th>\n",
       "      <th>visitorsPerDateB</th>\n",
       "    </tr>\n",
       "  </thead>\n",
       "  <tbody>\n",
       "    <tr>\n",
       "      <td>31</td>\n",
       "      <td>2019-08-01</td>\n",
       "      <td>713</td>\n",
       "    </tr>\n",
       "    <tr>\n",
       "      <td>32</td>\n",
       "      <td>2019-08-02</td>\n",
       "      <td>581</td>\n",
       "    </tr>\n",
       "    <tr>\n",
       "      <td>33</td>\n",
       "      <td>2019-08-03</td>\n",
       "      <td>509</td>\n",
       "    </tr>\n",
       "    <tr>\n",
       "      <td>34</td>\n",
       "      <td>2019-08-04</td>\n",
       "      <td>770</td>\n",
       "    </tr>\n",
       "    <tr>\n",
       "      <td>35</td>\n",
       "      <td>2019-08-05</td>\n",
       "      <td>707</td>\n",
       "    </tr>\n",
       "  </tbody>\n",
       "</table>\n",
       "</div>"
      ],
      "text/plain": [
       "         date  visitorsPerDateB\n",
       "31 2019-08-01               713\n",
       "32 2019-08-02               581\n",
       "33 2019-08-03               509\n",
       "34 2019-08-04               770\n",
       "35 2019-08-05               707"
      ]
     },
     "execution_count": 39,
     "metadata": {},
     "output_type": "execute_result"
    }
   ],
   "source": [
    "visitorsBDaily = visitors[visitors['group'] == 'B'][['date', 'visitors']]\n",
    "visitorsBDaily.columns = ['date', 'visitorsPerDateB']\n",
    "visitorsBDaily.head()"
   ]
  },
  {
   "cell_type": "markdown",
   "metadata": {},
   "source": [
    "Определим кумулятивное количество посетителей группы `B` по дням:"
   ]
  },
  {
   "cell_type": "code",
   "execution_count": 40,
   "metadata": {},
   "outputs": [
    {
     "data": {
      "text/html": [
       "<div>\n",
       "<style scoped>\n",
       "    .dataframe tbody tr th:only-of-type {\n",
       "        vertical-align: middle;\n",
       "    }\n",
       "\n",
       "    .dataframe tbody tr th {\n",
       "        vertical-align: top;\n",
       "    }\n",
       "\n",
       "    .dataframe thead th {\n",
       "        text-align: right;\n",
       "    }\n",
       "</style>\n",
       "<table border=\"1\" class=\"dataframe\">\n",
       "  <thead>\n",
       "    <tr style=\"text-align: right;\">\n",
       "      <th></th>\n",
       "      <th>date</th>\n",
       "      <th>visitorsCummulativeB</th>\n",
       "    </tr>\n",
       "  </thead>\n",
       "  <tbody>\n",
       "    <tr>\n",
       "      <td>31</td>\n",
       "      <td>2019-08-01</td>\n",
       "      <td>713</td>\n",
       "    </tr>\n",
       "    <tr>\n",
       "      <td>32</td>\n",
       "      <td>2019-08-02</td>\n",
       "      <td>1294</td>\n",
       "    </tr>\n",
       "    <tr>\n",
       "      <td>33</td>\n",
       "      <td>2019-08-03</td>\n",
       "      <td>1803</td>\n",
       "    </tr>\n",
       "    <tr>\n",
       "      <td>34</td>\n",
       "      <td>2019-08-04</td>\n",
       "      <td>2573</td>\n",
       "    </tr>\n",
       "    <tr>\n",
       "      <td>35</td>\n",
       "      <td>2019-08-05</td>\n",
       "      <td>3280</td>\n",
       "    </tr>\n",
       "  </tbody>\n",
       "</table>\n",
       "</div>"
      ],
      "text/plain": [
       "         date  visitorsCummulativeB\n",
       "31 2019-08-01                   713\n",
       "32 2019-08-02                  1294\n",
       "33 2019-08-03                  1803\n",
       "34 2019-08-04                  2573\n",
       "35 2019-08-05                  3280"
      ]
     },
     "execution_count": 40,
     "metadata": {},
     "output_type": "execute_result"
    }
   ],
   "source": [
    "visitorsBCummulative = visitorsBDaily.apply(lambda x: visitorsBDaily[visitorsBDaily['date'] <= x['date']]\n",
    "                                            .agg({'date': 'max', 'visitorsPerDateB': 'sum'}),axis=1)\n",
    "visitorsBCummulative.columns = ['date', 'visitorsCummulativeB']\n",
    "visitorsBCummulative.head()"
   ]
  },
  {
   "cell_type": "markdown",
   "metadata": {},
   "source": [
    "Определим по дням количество и сумму заказов группы `A`:"
   ]
  },
  {
   "cell_type": "code",
   "execution_count": 41,
   "metadata": {},
   "outputs": [
    {
     "data": {
      "text/html": [
       "<div>\n",
       "<style scoped>\n",
       "    .dataframe tbody tr th:only-of-type {\n",
       "        vertical-align: middle;\n",
       "    }\n",
       "\n",
       "    .dataframe tbody tr th {\n",
       "        vertical-align: top;\n",
       "    }\n",
       "\n",
       "    .dataframe thead th {\n",
       "        text-align: right;\n",
       "    }\n",
       "</style>\n",
       "<table border=\"1\" class=\"dataframe\">\n",
       "  <thead>\n",
       "    <tr style=\"text-align: right;\">\n",
       "      <th></th>\n",
       "      <th>date</th>\n",
       "      <th>ordersPerDateA</th>\n",
       "      <th>revenuePerDateA</th>\n",
       "    </tr>\n",
       "  </thead>\n",
       "  <tbody>\n",
       "    <tr>\n",
       "      <td>0</td>\n",
       "      <td>2019-08-01</td>\n",
       "      <td>23</td>\n",
       "      <td>142779</td>\n",
       "    </tr>\n",
       "    <tr>\n",
       "      <td>1</td>\n",
       "      <td>2019-08-02</td>\n",
       "      <td>19</td>\n",
       "      <td>91602</td>\n",
       "    </tr>\n",
       "    <tr>\n",
       "      <td>2</td>\n",
       "      <td>2019-08-03</td>\n",
       "      <td>24</td>\n",
       "      <td>112473</td>\n",
       "    </tr>\n",
       "    <tr>\n",
       "      <td>3</td>\n",
       "      <td>2019-08-04</td>\n",
       "      <td>11</td>\n",
       "      <td>41176</td>\n",
       "    </tr>\n",
       "    <tr>\n",
       "      <td>4</td>\n",
       "      <td>2019-08-05</td>\n",
       "      <td>22</td>\n",
       "      <td>86383</td>\n",
       "    </tr>\n",
       "  </tbody>\n",
       "</table>\n",
       "</div>"
      ],
      "text/plain": [
       "        date  ordersPerDateA  revenuePerDateA\n",
       "0 2019-08-01              23           142779\n",
       "1 2019-08-02              19            91602\n",
       "2 2019-08-03              24           112473\n",
       "3 2019-08-04              11            41176\n",
       "4 2019-08-05              22            86383"
      ]
     },
     "execution_count": 41,
     "metadata": {},
     "output_type": "execute_result"
    }
   ],
   "source": [
    "ordersADaily = (\n",
    "    orders[orders['group'] == 'A'][['date', 'transactionid', 'visitorid', 'revenue']]\n",
    "    .groupby('date', as_index=False)\n",
    "    .agg({'transactionid': pd.Series.nunique, 'revenue': 'sum'}))\n",
    "ordersADaily.columns = ['date', 'ordersPerDateA', 'revenuePerDateA']\n",
    "ordersADaily.head()"
   ]
  },
  {
   "cell_type": "markdown",
   "metadata": {},
   "source": [
    "Определим по дням кумулятивное количество и сумму заказов группы `A`:"
   ]
  },
  {
   "cell_type": "code",
   "execution_count": 42,
   "metadata": {},
   "outputs": [
    {
     "data": {
      "text/html": [
       "<div>\n",
       "<style scoped>\n",
       "    .dataframe tbody tr th:only-of-type {\n",
       "        vertical-align: middle;\n",
       "    }\n",
       "\n",
       "    .dataframe tbody tr th {\n",
       "        vertical-align: top;\n",
       "    }\n",
       "\n",
       "    .dataframe thead th {\n",
       "        text-align: right;\n",
       "    }\n",
       "</style>\n",
       "<table border=\"1\" class=\"dataframe\">\n",
       "  <thead>\n",
       "    <tr style=\"text-align: right;\">\n",
       "      <th></th>\n",
       "      <th>date</th>\n",
       "      <th>ordersCummulativeA</th>\n",
       "      <th>revenueCummulativeA</th>\n",
       "    </tr>\n",
       "  </thead>\n",
       "  <tbody>\n",
       "    <tr>\n",
       "      <td>0</td>\n",
       "      <td>2019-08-01</td>\n",
       "      <td>23</td>\n",
       "      <td>142779</td>\n",
       "    </tr>\n",
       "    <tr>\n",
       "      <td>1</td>\n",
       "      <td>2019-08-02</td>\n",
       "      <td>42</td>\n",
       "      <td>234381</td>\n",
       "    </tr>\n",
       "    <tr>\n",
       "      <td>2</td>\n",
       "      <td>2019-08-03</td>\n",
       "      <td>66</td>\n",
       "      <td>346854</td>\n",
       "    </tr>\n",
       "    <tr>\n",
       "      <td>3</td>\n",
       "      <td>2019-08-04</td>\n",
       "      <td>77</td>\n",
       "      <td>388030</td>\n",
       "    </tr>\n",
       "    <tr>\n",
       "      <td>4</td>\n",
       "      <td>2019-08-05</td>\n",
       "      <td>99</td>\n",
       "      <td>474413</td>\n",
       "    </tr>\n",
       "  </tbody>\n",
       "</table>\n",
       "</div>"
      ],
      "text/plain": [
       "        date  ordersCummulativeA  revenueCummulativeA\n",
       "0 2019-08-01                  23               142779\n",
       "1 2019-08-02                  42               234381\n",
       "2 2019-08-03                  66               346854\n",
       "3 2019-08-04                  77               388030\n",
       "4 2019-08-05                  99               474413"
      ]
     },
     "execution_count": 42,
     "metadata": {},
     "output_type": "execute_result"
    }
   ],
   "source": [
    "ordersACummulative = ordersADaily.apply(lambda x: ordersADaily[ordersADaily['date'] <= x['date']]\n",
    "    .agg({'date': 'max', 'ordersPerDateA': 'sum', 'revenuePerDateA': 'sum'}), axis=1)\\\n",
    "    .sort_values(by=['date'])\n",
    "ordersACummulative.columns = ['date','ordersCummulativeA','revenueCummulativeA']\n",
    "ordersACummulative.head()"
   ]
  },
  {
   "cell_type": "markdown",
   "metadata": {},
   "source": [
    "Определим по дням количество и сумму заказов группы `B`:"
   ]
  },
  {
   "cell_type": "code",
   "execution_count": 43,
   "metadata": {},
   "outputs": [
    {
     "data": {
      "text/html": [
       "<div>\n",
       "<style scoped>\n",
       "    .dataframe tbody tr th:only-of-type {\n",
       "        vertical-align: middle;\n",
       "    }\n",
       "\n",
       "    .dataframe tbody tr th {\n",
       "        vertical-align: top;\n",
       "    }\n",
       "\n",
       "    .dataframe thead th {\n",
       "        text-align: right;\n",
       "    }\n",
       "</style>\n",
       "<table border=\"1\" class=\"dataframe\">\n",
       "  <thead>\n",
       "    <tr style=\"text-align: right;\">\n",
       "      <th></th>\n",
       "      <th>date</th>\n",
       "      <th>ordersPerDateB</th>\n",
       "      <th>revenuePerDateB</th>\n",
       "    </tr>\n",
       "  </thead>\n",
       "  <tbody>\n",
       "    <tr>\n",
       "      <td>0</td>\n",
       "      <td>2019-08-01</td>\n",
       "      <td>17</td>\n",
       "      <td>59758</td>\n",
       "    </tr>\n",
       "    <tr>\n",
       "      <td>1</td>\n",
       "      <td>2019-08-02</td>\n",
       "      <td>23</td>\n",
       "      <td>162043</td>\n",
       "    </tr>\n",
       "    <tr>\n",
       "      <td>2</td>\n",
       "      <td>2019-08-03</td>\n",
       "      <td>14</td>\n",
       "      <td>67049</td>\n",
       "    </tr>\n",
       "    <tr>\n",
       "      <td>3</td>\n",
       "      <td>2019-08-04</td>\n",
       "      <td>14</td>\n",
       "      <td>96890</td>\n",
       "    </tr>\n",
       "    <tr>\n",
       "      <td>4</td>\n",
       "      <td>2019-08-05</td>\n",
       "      <td>21</td>\n",
       "      <td>89908</td>\n",
       "    </tr>\n",
       "  </tbody>\n",
       "</table>\n",
       "</div>"
      ],
      "text/plain": [
       "        date  ordersPerDateB  revenuePerDateB\n",
       "0 2019-08-01              17            59758\n",
       "1 2019-08-02              23           162043\n",
       "2 2019-08-03              14            67049\n",
       "3 2019-08-04              14            96890\n",
       "4 2019-08-05              21            89908"
      ]
     },
     "execution_count": 43,
     "metadata": {},
     "output_type": "execute_result"
    }
   ],
   "source": [
    "ordersBDaily = (\n",
    "    orders[orders['group'] == 'B'][['date', 'transactionid', 'visitorid', 'revenue']]\n",
    "    .groupby('date', as_index=False)\n",
    "    .agg({'transactionid': pd.Series.nunique, 'revenue': 'sum'}))\n",
    "ordersBDaily.columns = ['date', 'ordersPerDateB', 'revenuePerDateB']\n",
    "ordersBDaily.head()"
   ]
  },
  {
   "cell_type": "markdown",
   "metadata": {},
   "source": [
    "Определим по дням кумулятивное количество и сумму заказов группы `B`:"
   ]
  },
  {
   "cell_type": "code",
   "execution_count": 44,
   "metadata": {},
   "outputs": [
    {
     "data": {
      "text/html": [
       "<div>\n",
       "<style scoped>\n",
       "    .dataframe tbody tr th:only-of-type {\n",
       "        vertical-align: middle;\n",
       "    }\n",
       "\n",
       "    .dataframe tbody tr th {\n",
       "        vertical-align: top;\n",
       "    }\n",
       "\n",
       "    .dataframe thead th {\n",
       "        text-align: right;\n",
       "    }\n",
       "</style>\n",
       "<table border=\"1\" class=\"dataframe\">\n",
       "  <thead>\n",
       "    <tr style=\"text-align: right;\">\n",
       "      <th></th>\n",
       "      <th>date</th>\n",
       "      <th>ordersCummulativeB</th>\n",
       "      <th>revenueCummulativeB</th>\n",
       "    </tr>\n",
       "  </thead>\n",
       "  <tbody>\n",
       "    <tr>\n",
       "      <td>0</td>\n",
       "      <td>2019-08-01</td>\n",
       "      <td>17</td>\n",
       "      <td>59758</td>\n",
       "    </tr>\n",
       "    <tr>\n",
       "      <td>1</td>\n",
       "      <td>2019-08-02</td>\n",
       "      <td>40</td>\n",
       "      <td>221801</td>\n",
       "    </tr>\n",
       "    <tr>\n",
       "      <td>2</td>\n",
       "      <td>2019-08-03</td>\n",
       "      <td>54</td>\n",
       "      <td>288850</td>\n",
       "    </tr>\n",
       "    <tr>\n",
       "      <td>3</td>\n",
       "      <td>2019-08-04</td>\n",
       "      <td>68</td>\n",
       "      <td>385740</td>\n",
       "    </tr>\n",
       "    <tr>\n",
       "      <td>4</td>\n",
       "      <td>2019-08-05</td>\n",
       "      <td>89</td>\n",
       "      <td>475648</td>\n",
       "    </tr>\n",
       "  </tbody>\n",
       "</table>\n",
       "</div>"
      ],
      "text/plain": [
       "        date  ordersCummulativeB  revenueCummulativeB\n",
       "0 2019-08-01                  17                59758\n",
       "1 2019-08-02                  40               221801\n",
       "2 2019-08-03                  54               288850\n",
       "3 2019-08-04                  68               385740\n",
       "4 2019-08-05                  89               475648"
      ]
     },
     "execution_count": 44,
     "metadata": {},
     "output_type": "execute_result"
    }
   ],
   "source": [
    "ordersBCummulative = ordersBDaily.apply(lambda x: ordersBDaily[ordersBDaily['date'] <= x['date']]\n",
    "    .agg({'date': 'max', 'ordersPerDateB': 'sum', 'revenuePerDateB': 'sum'}), axis=1)\\\n",
    "    .sort_values(by=['date'])\n",
    "ordersBCummulative.columns = ['date','ordersCummulativeB','revenueCummulativeB']\n",
    "ordersBCummulative.head()"
   ]
  },
  {
   "cell_type": "markdown",
   "metadata": {},
   "source": [
    "Объединим полученныйдатафреймы в один:"
   ]
  },
  {
   "cell_type": "code",
   "execution_count": 45,
   "metadata": {},
   "outputs": [
    {
     "data": {
      "text/html": [
       "<div>\n",
       "<style scoped>\n",
       "    .dataframe tbody tr th:only-of-type {\n",
       "        vertical-align: middle;\n",
       "    }\n",
       "\n",
       "    .dataframe tbody tr th {\n",
       "        vertical-align: top;\n",
       "    }\n",
       "\n",
       "    .dataframe thead th {\n",
       "        text-align: right;\n",
       "    }\n",
       "</style>\n",
       "<table border=\"1\" class=\"dataframe\">\n",
       "  <thead>\n",
       "    <tr style=\"text-align: right;\">\n",
       "      <th></th>\n",
       "      <th>date</th>\n",
       "      <th>ordersPerDateA</th>\n",
       "      <th>revenuePerDateA</th>\n",
       "      <th>ordersPerDateB</th>\n",
       "      <th>revenuePerDateB</th>\n",
       "      <th>ordersCummulativeA</th>\n",
       "      <th>revenueCummulativeA</th>\n",
       "      <th>ordersCummulativeB</th>\n",
       "      <th>revenueCummulativeB</th>\n",
       "      <th>visitorsPerDateA</th>\n",
       "      <th>visitorsPerDateB</th>\n",
       "      <th>visitorsCummulativeA</th>\n",
       "      <th>visitorsCummulativeB</th>\n",
       "    </tr>\n",
       "  </thead>\n",
       "  <tbody>\n",
       "    <tr>\n",
       "      <td>0</td>\n",
       "      <td>2019-08-01</td>\n",
       "      <td>23</td>\n",
       "      <td>142779</td>\n",
       "      <td>17</td>\n",
       "      <td>59758</td>\n",
       "      <td>23</td>\n",
       "      <td>142779</td>\n",
       "      <td>17</td>\n",
       "      <td>59758</td>\n",
       "      <td>719</td>\n",
       "      <td>713</td>\n",
       "      <td>719</td>\n",
       "      <td>713</td>\n",
       "    </tr>\n",
       "    <tr>\n",
       "      <td>1</td>\n",
       "      <td>2019-08-02</td>\n",
       "      <td>19</td>\n",
       "      <td>91602</td>\n",
       "      <td>23</td>\n",
       "      <td>162043</td>\n",
       "      <td>42</td>\n",
       "      <td>234381</td>\n",
       "      <td>40</td>\n",
       "      <td>221801</td>\n",
       "      <td>619</td>\n",
       "      <td>581</td>\n",
       "      <td>1338</td>\n",
       "      <td>1294</td>\n",
       "    </tr>\n",
       "    <tr>\n",
       "      <td>2</td>\n",
       "      <td>2019-08-03</td>\n",
       "      <td>24</td>\n",
       "      <td>112473</td>\n",
       "      <td>14</td>\n",
       "      <td>67049</td>\n",
       "      <td>66</td>\n",
       "      <td>346854</td>\n",
       "      <td>54</td>\n",
       "      <td>288850</td>\n",
       "      <td>507</td>\n",
       "      <td>509</td>\n",
       "      <td>1845</td>\n",
       "      <td>1803</td>\n",
       "    </tr>\n",
       "    <tr>\n",
       "      <td>3</td>\n",
       "      <td>2019-08-04</td>\n",
       "      <td>11</td>\n",
       "      <td>41176</td>\n",
       "      <td>14</td>\n",
       "      <td>96890</td>\n",
       "      <td>77</td>\n",
       "      <td>388030</td>\n",
       "      <td>68</td>\n",
       "      <td>385740</td>\n",
       "      <td>717</td>\n",
       "      <td>770</td>\n",
       "      <td>2562</td>\n",
       "      <td>2573</td>\n",
       "    </tr>\n",
       "    <tr>\n",
       "      <td>4</td>\n",
       "      <td>2019-08-05</td>\n",
       "      <td>22</td>\n",
       "      <td>86383</td>\n",
       "      <td>21</td>\n",
       "      <td>89908</td>\n",
       "      <td>99</td>\n",
       "      <td>474413</td>\n",
       "      <td>89</td>\n",
       "      <td>475648</td>\n",
       "      <td>756</td>\n",
       "      <td>707</td>\n",
       "      <td>3318</td>\n",
       "      <td>3280</td>\n",
       "    </tr>\n",
       "    <tr>\n",
       "      <td>5</td>\n",
       "      <td>2019-08-06</td>\n",
       "      <td>15</td>\n",
       "      <td>40919</td>\n",
       "      <td>23</td>\n",
       "      <td>214842</td>\n",
       "      <td>114</td>\n",
       "      <td>515332</td>\n",
       "      <td>112</td>\n",
       "      <td>690490</td>\n",
       "      <td>667</td>\n",
       "      <td>655</td>\n",
       "      <td>3985</td>\n",
       "      <td>3935</td>\n",
       "    </tr>\n",
       "    <tr>\n",
       "      <td>6</td>\n",
       "      <td>2019-08-07</td>\n",
       "      <td>16</td>\n",
       "      <td>123248</td>\n",
       "      <td>23</td>\n",
       "      <td>219164</td>\n",
       "      <td>130</td>\n",
       "      <td>638580</td>\n",
       "      <td>135</td>\n",
       "      <td>909654</td>\n",
       "      <td>644</td>\n",
       "      <td>709</td>\n",
       "      <td>4629</td>\n",
       "      <td>4644</td>\n",
       "    </tr>\n",
       "    <tr>\n",
       "      <td>7</td>\n",
       "      <td>2019-08-08</td>\n",
       "      <td>14</td>\n",
       "      <td>88639</td>\n",
       "      <td>22</td>\n",
       "      <td>150141</td>\n",
       "      <td>144</td>\n",
       "      <td>727219</td>\n",
       "      <td>157</td>\n",
       "      <td>1059795</td>\n",
       "      <td>610</td>\n",
       "      <td>654</td>\n",
       "      <td>5239</td>\n",
       "      <td>5298</td>\n",
       "    </tr>\n",
       "    <tr>\n",
       "      <td>8</td>\n",
       "      <td>2019-08-09</td>\n",
       "      <td>11</td>\n",
       "      <td>134237</td>\n",
       "      <td>19</td>\n",
       "      <td>103166</td>\n",
       "      <td>155</td>\n",
       "      <td>861456</td>\n",
       "      <td>176</td>\n",
       "      <td>1162961</td>\n",
       "      <td>617</td>\n",
       "      <td>610</td>\n",
       "      <td>5856</td>\n",
       "      <td>5908</td>\n",
       "    </tr>\n",
       "    <tr>\n",
       "      <td>9</td>\n",
       "      <td>2019-08-10</td>\n",
       "      <td>15</td>\n",
       "      <td>152275</td>\n",
       "      <td>22</td>\n",
       "      <td>105162</td>\n",
       "      <td>170</td>\n",
       "      <td>1013731</td>\n",
       "      <td>198</td>\n",
       "      <td>1268123</td>\n",
       "      <td>406</td>\n",
       "      <td>369</td>\n",
       "      <td>6262</td>\n",
       "      <td>6277</td>\n",
       "    </tr>\n",
       "  </tbody>\n",
       "</table>\n",
       "</div>"
      ],
      "text/plain": [
       "        date  ordersPerDateA  revenuePerDateA  ordersPerDateB  \\\n",
       "0 2019-08-01              23           142779              17   \n",
       "1 2019-08-02              19            91602              23   \n",
       "2 2019-08-03              24           112473              14   \n",
       "3 2019-08-04              11            41176              14   \n",
       "4 2019-08-05              22            86383              21   \n",
       "5 2019-08-06              15            40919              23   \n",
       "6 2019-08-07              16           123248              23   \n",
       "7 2019-08-08              14            88639              22   \n",
       "8 2019-08-09              11           134237              19   \n",
       "9 2019-08-10              15           152275              22   \n",
       "\n",
       "   revenuePerDateB  ordersCummulativeA  revenueCummulativeA  \\\n",
       "0            59758                  23               142779   \n",
       "1           162043                  42               234381   \n",
       "2            67049                  66               346854   \n",
       "3            96890                  77               388030   \n",
       "4            89908                  99               474413   \n",
       "5           214842                 114               515332   \n",
       "6           219164                 130               638580   \n",
       "7           150141                 144               727219   \n",
       "8           103166                 155               861456   \n",
       "9           105162                 170              1013731   \n",
       "\n",
       "   ordersCummulativeB  revenueCummulativeB  visitorsPerDateA  \\\n",
       "0                  17                59758               719   \n",
       "1                  40               221801               619   \n",
       "2                  54               288850               507   \n",
       "3                  68               385740               717   \n",
       "4                  89               475648               756   \n",
       "5                 112               690490               667   \n",
       "6                 135               909654               644   \n",
       "7                 157              1059795               610   \n",
       "8                 176              1162961               617   \n",
       "9                 198              1268123               406   \n",
       "\n",
       "   visitorsPerDateB  visitorsCummulativeA  visitorsCummulativeB  \n",
       "0               713                   719                   713  \n",
       "1               581                  1338                  1294  \n",
       "2               509                  1845                  1803  \n",
       "3               770                  2562                  2573  \n",
       "4               707                  3318                  3280  \n",
       "5               655                  3985                  3935  \n",
       "6               709                  4629                  4644  \n",
       "7               654                  5239                  5298  \n",
       "8               610                  5856                  5908  \n",
       "9               369                  6262                  6277  "
      ]
     },
     "execution_count": 45,
     "metadata": {},
     "output_type": "execute_result"
    }
   ],
   "source": [
    "data = (\n",
    "    ordersADaily.merge(\n",
    "        ordersBDaily, left_on='date', right_on='date', how='left')\n",
    "    .merge(ordersACummulative, left_on='date', right_on='date', how='left')\n",
    "    .merge(ordersBCummulative, left_on='date', right_on='date', how='left')\n",
    "    .merge(visitorsADaily, left_on='date', right_on='date', how='left')\n",
    "    .merge(visitorsBDaily, left_on='date', right_on='date', how='left')\n",
    "    .merge(visitorsACummulative, left_on='date', right_on='date', how='left')\n",
    "    .merge(visitorsBCummulative, left_on='date', right_on='date', how='left')\n",
    ")\n",
    "\n",
    "\n",
    "data.head(10)"
   ]
  },
  {
   "cell_type": "markdown",
   "metadata": {},
   "source": [
    "Посчитаем статистическую значимость различия в конверсии между группами.\n",
    "\n",
    "Создадим переменные `ordersByUsersA` и `ordersByUsersB` со столбцами `visitorid`, `orders`. В них для пользователей, которые заказывали хотя бы 1 раз, укажем число совершённых заказов"
   ]
  },
  {
   "cell_type": "code",
   "execution_count": 46,
   "metadata": {},
   "outputs": [],
   "source": [
    "ordersByUsersA = (\n",
    "    orders[orders['group'] == 'A']\n",
    "    .groupby('visitorid', as_index=False)\n",
    "    .agg({'transactionid': pd.Series.nunique})\n",
    ")\n",
    "ordersByUsersA.columns = ['visitorid', 'orders']\n",
    "ordersByUsersB = (\n",
    "    orders[orders['group'] == 'B']\n",
    "    .groupby('visitorid', as_index=False)\n",
    "    .agg({'transactionid': pd.Series.nunique})\n",
    ")\n",
    "ordersByUsersB.columns = ['visitorid', 'orders'] \n"
   ]
  },
  {
   "cell_type": "markdown",
   "metadata": {},
   "source": [
    "Объявим переменные `sampleA` и `sampleB`, в которых пользователям из разных групп будет соответствовать количество заказов. Тем, кто ничего не заказал, будут соответствовать нули."
   ]
  },
  {
   "cell_type": "code",
   "execution_count": 47,
   "metadata": {},
   "outputs": [],
   "source": [
    "sampleA = pd.concat([ordersByUsersA['orders'],pd.Series(0, index=np.arange(data['visitorsPerDateA']\n",
    "                                    .sum() - len(ordersByUsersA['orders'])), name='orders')],axis=0)\n",
    "\n",
    "sampleB = pd.concat([ordersByUsersB['orders'],pd.Series(0, index=np.arange(data['visitorsPerDateB']\n",
    "                                    .sum() - len(ordersByUsersB['orders'])), name='orders')],axis=0) "
   ]
  },
  {
   "cell_type": "markdown",
   "metadata": {},
   "source": [
    "Применим критерий и отформатируем `p-value`, округлив его до трёх знаков после запятой.\n",
    "\n",
    "`Н0` - Статистически значимых различий в среднем чеке заказа нет.\n",
    "`Н1` - Статистически значимые различия в среднем чеке заказа есть."
   ]
  },
  {
   "cell_type": "markdown",
   "metadata": {},
   "source": [
    "Чтобы рассчитать статистическую значимость различий в среднем чеке между сегментами, передадим критерию mannwhitneyu() данные о выручке с заказов"
   ]
  },
  {
   "cell_type": "code",
   "execution_count": 48,
   "metadata": {},
   "outputs": [
    {
     "name": "stdout",
     "output_type": "stream",
     "text": [
      "p-value: 0.011\n"
     ]
    }
   ],
   "source": [
    "print(\"p-value: {0:.3f}\".format(stats.mannwhitneyu(sampleA, sampleB, alternative='two-sided')[1]))"
   ]
  },
  {
   "cell_type": "markdown",
   "metadata": {},
   "source": [
    "Вывод: \n",
    "* p-value меньше 0.05. Значит, отвергаем нулевую гипотезу, т.е. статистически значиме различия в конверсии между группами A и B есть"
   ]
  },
  {
   "cell_type": "markdown",
   "metadata": {},
   "source": [
    "Выведем относительный прирост конверсии группы B: `конверсия группы B / конверсия группы A - 1`:"
   ]
  },
  {
   "cell_type": "code",
   "execution_count": 49,
   "metadata": {},
   "outputs": [
    {
     "name": "stdout",
     "output_type": "stream",
     "text": [
      "Относительный прирост B к A: 15.98%\n"
     ]
    }
   ],
   "source": [
    "print(\"Относительный прирост B к A: {0:.2%}\".format(sampleB.mean() / sampleA.mean() - 1))"
   ]
  },
  {
   "cell_type": "markdown",
   "metadata": {},
   "source": [
    "Вывод:\n",
    "* Относительный прирост B к A равен 15.98 %"
   ]
  },
  {
   "cell_type": "markdown",
   "metadata": {},
   "source": [
    "### Определим статистическую значимость различий в среднем чеке заказа между группами по «сырым» данным"
   ]
  },
  {
   "cell_type": "markdown",
   "metadata": {},
   "source": [
    "Применим критерий и отформатируем `p-value`, округлив его до трёх знаков после запятой.\n",
    "\n",
    "`Н0` - Статистически значимых различий в среднем чеке заказа нет.\n",
    "`Н1` - Статистически значимые различия в среднем чеке заказа есть.\n"
   ]
  },
  {
   "cell_type": "code",
   "execution_count": 50,
   "metadata": {
    "scrolled": true
   },
   "outputs": [
    {
     "name": "stdout",
     "output_type": "stream",
     "text": [
      "p-value: 0.829\n",
      "Относительный прирост B к A: 28.66%\n"
     ]
    }
   ],
   "source": [
    "print('p-value: {0:.3f}'.format(stats.mannwhitneyu(orders[orders['group']=='A']['revenue'], orders[orders['group']=='B']['revenue'], alternative='two-sided')[1]))\n",
    "\n",
    "print('Относительный прирост B к A: {0:.2%}'.format(orders[orders['group']=='B']['revenue'].mean() / orders[orders['group']=='A']['revenue'].mean()-1)) \n"
   ]
  },
  {
   "cell_type": "markdown",
   "metadata": {},
   "source": [
    "Вывод:\n",
    "* p-value значительно больше 0.05. Значит, причин отвергать нулевую гипотезу и считать, что в среднем чеке есть различия, нет.\n",
    "* Относительный прирост B к A: 28.66% "
   ]
  },
  {
   "cell_type": "markdown",
   "metadata": {},
   "source": [
    " ### Определим статистическую значимость различий в конверсии между группами по «очищенным» данным"
   ]
  },
  {
   "cell_type": "markdown",
   "metadata": {},
   "source": [
    "Примем за аномальных пользователей тех, кто совершил от 5 заказов или совершил заказ дороже 26 785 рублей. Так мы уберём 5% пользователей с наибольшим числом заказов и от 1% до 5% пользователей с дорогими заказами."
   ]
  },
  {
   "cell_type": "markdown",
   "metadata": {},
   "source": [
    "Сделаем срезы пользователей с числом заказов больше 4 — `usersWithManyOrders` и пользователей, совершивших заказы дороже 26 785 — `usersWithExpensiveOrders`. Объединим их в таблице `abnormalUsers`."
   ]
  },
  {
   "cell_type": "code",
   "execution_count": 51,
   "metadata": {},
   "outputs": [],
   "source": [
    "usersWithManyOrders = pd.concat(\n",
    "    [ordersByUsersA[ordersByUsersA['orders'] > 4]['visitorid'],\n",
    "    ordersByUsersB[ordersByUsersB['orders'] > 4]['visitorid'],],axis=0)\n",
    "\n",
    "usersWithExpensiveOrders = orders[orders['revenue'] > 26785]['visitorid']\n",
    "abnormalUsers = (\n",
    "    pd.concat([usersWithManyOrders, usersWithExpensiveOrders], axis=0)\n",
    "    .drop_duplicates()\n",
    "    .sort_values())"
   ]
  },
  {
   "cell_type": "code",
   "execution_count": 52,
   "metadata": {},
   "outputs": [
    {
     "data": {
      "text/html": [
       "<div>\n",
       "<style scoped>\n",
       "    .dataframe tbody tr th:only-of-type {\n",
       "        vertical-align: middle;\n",
       "    }\n",
       "\n",
       "    .dataframe tbody tr th {\n",
       "        vertical-align: top;\n",
       "    }\n",
       "\n",
       "    .dataframe thead th {\n",
       "        text-align: right;\n",
       "    }\n",
       "</style>\n",
       "<table border=\"1\" class=\"dataframe\">\n",
       "  <thead>\n",
       "    <tr style=\"text-align: right;\">\n",
       "      <th></th>\n",
       "      <th>visitorid</th>\n",
       "    </tr>\n",
       "  </thead>\n",
       "  <tbody>\n",
       "    <tr>\n",
       "      <td>568</td>\n",
       "      <td>113298937</td>\n",
       "    </tr>\n",
       "    <tr>\n",
       "      <td>1099</td>\n",
       "      <td>148427295</td>\n",
       "    </tr>\n",
       "    <tr>\n",
       "      <td>928</td>\n",
       "      <td>204675465</td>\n",
       "    </tr>\n",
       "    <tr>\n",
       "      <td>684</td>\n",
       "      <td>358944393</td>\n",
       "    </tr>\n",
       "    <tr>\n",
       "      <td>648</td>\n",
       "      <td>382846391</td>\n",
       "    </tr>\n",
       "  </tbody>\n",
       "</table>\n",
       "</div>"
      ],
      "text/plain": [
       "      visitorid\n",
       "568   113298937\n",
       "1099  148427295\n",
       "928   204675465\n",
       "684   358944393\n",
       "648   382846391"
      ]
     },
     "execution_count": 52,
     "metadata": {},
     "output_type": "execute_result"
    }
   ],
   "source": [
    "abnormalUsers.head().to_frame()"
   ]
  },
  {
   "cell_type": "code",
   "execution_count": 53,
   "metadata": {},
   "outputs": [
    {
     "name": "stdout",
     "output_type": "stream",
     "text": [
      "Количество аномальных пользователей: (51,)\n"
     ]
    }
   ],
   "source": [
    "print('Количество аномальных пользователей:', abnormalUsers.shape)"
   ]
  },
  {
   "cell_type": "markdown",
   "metadata": {},
   "source": [
    "Узнаем, как их действия повлияли на результаты теста. Посчитаем статистическую значимость различий в конверсии между группами теста по очищенным данным. Сначала подготовим выборки количества заказов по пользователям по группам теста:"
   ]
  },
  {
   "cell_type": "code",
   "execution_count": 54,
   "metadata": {},
   "outputs": [],
   "source": [
    "sampleAFiltered = pd.concat(\n",
    "    [ordersByUsersA[np.logical_not(ordersByUsersA['visitorid'].isin(abnormalUsers))]['orders'], \n",
    "    pd.Series(0,index=np.arange(data['visitorsPerDateA'].sum() - len(ordersByUsersA['orders'])),name='orders',),],axis=0,)\n",
    "\n",
    "\n",
    "sampleBFiltered = pd.concat(\n",
    "    [ordersByUsersB[np.logical_not(ordersByUsersB['visitorid'].isin(abnormalUsers))]['orders'], \n",
    "    pd.Series(0,index=np.arange(data['visitorsPerDateB'].sum() - len(ordersByUsersB['orders'])),name='orders',),],axis=0,) \n"
   ]
  },
  {
   "cell_type": "markdown",
   "metadata": {},
   "source": [
    "Применим критерий и отформатируем `p-value`, округлив его до трёх знаков после запятой.\n",
    "\n",
    "`Н0` - Статистически значимых различий в среднем чеке заказа нет.\n",
    "`Н1` - Статистически значимые различия в среднем чеке заказа есть."
   ]
  },
  {
   "cell_type": "markdown",
   "metadata": {},
   "source": [
    "Применим статистический критерий Манна-Уитни к полученным выборкам:"
   ]
  },
  {
   "cell_type": "code",
   "execution_count": 55,
   "metadata": {},
   "outputs": [
    {
     "name": "stdout",
     "output_type": "stream",
     "text": [
      "p-value: 0.017\n"
     ]
    }
   ],
   "source": [
    "print('p-value: {0:.3f}'.format(stats.mannwhitneyu(sampleAFiltered, sampleBFiltered, alternative='two-sided')[1]))"
   ]
  },
  {
   "cell_type": "markdown",
   "metadata": {},
   "source": [
    "Выведем относительный прирост конверсии группы B"
   ]
  },
  {
   "cell_type": "code",
   "execution_count": 56,
   "metadata": {},
   "outputs": [
    {
     "name": "stdout",
     "output_type": "stream",
     "text": [
      "Относительный прирост B к A: 15.56%\n"
     ]
    }
   ],
   "source": [
    "print('Относительный прирост B к A: {0:.2%}'.format(sampleBFiltered.mean()/sampleAFiltered.mean()-1)) "
   ]
  },
  {
   "cell_type": "markdown",
   "metadata": {},
   "source": [
    "Вывод:\n",
    "* p-value меньше 0.05. Значит, отвергаем нулевую гипотезу, т.е. статистически значиме различия в конверсии между группами A и B есть\n",
    "\n",
    "* Результаты конверсии (по очищенным данным) практически не изменились в сравнении с конверсией по очищенным данным"
   ]
  },
  {
   "cell_type": "markdown",
   "metadata": {},
   "source": [
    "### Определим статистическую значимость различий в среднем чеке заказа между группами по «очищенным» данным\n",
    "\n",
    "H0: статистически значимых различий в среднем чеке между группами нет.\n",
    "H1: статистически значимые различий в среднем чеке между группами есть."
   ]
  },
  {
   "cell_type": "code",
   "execution_count": 57,
   "metadata": {},
   "outputs": [
    {
     "name": "stdout",
     "output_type": "stream",
     "text": [
      "p-value: 0.741\n",
      "Относительный прирост B к A: -5.29%\n"
     ]
    }
   ],
   "source": [
    "\n",
    "print('p-value: {0:.3f}'.format(stats.mannwhitneyu(\n",
    "    orders[np.logical_and(orders['group'] == 'A', np.logical_not(orders['visitorid']\n",
    "    .isin(abnormalUsers)),)]['revenue'], orders[np.logical_and(orders['group'] == 'B', np.logical_not(orders['visitorid']\n",
    "    .isin(abnormalUsers)),)]['revenue'], alternative='two-sided')[1]))\n",
    "\n",
    "print(\"Относительный прирост B к A: {0:.2%}\".format(orders[np.logical_and(orders['group'] == 'B',np.logical_not(orders['visitorid']\n",
    "    .isin(abnormalUsers)),)]['revenue'].mean() / orders[np.logical_and(orders['group'] == 'A',np.logical_not(orders['visitorid']\n",
    "    .isin(abnormalUsers)),)]['revenue'].mean() - 1)) \n"
   ]
  },
  {
   "cell_type": "markdown",
   "metadata": {},
   "source": [
    "Вывод:\n",
    "* p-value возрос, что подтверждает вывод о отсутствии статистически значимых различий в среднем чеке заказа между группами.\n",
    "* Относительный прирост в среднем чеке заказа группы B к среднему чеку заказа группы A уменьшился на 5.29%"
   ]
  },
  {
   "cell_type": "markdown",
   "metadata": {},
   "source": [
    "<div class=\"alert alert-block alert-warning\">\n",
    "    \n",
    "\n",
    "__Комментарий от ревьюера №1 (можно лучше)__\n",
    "\n",
    "Сделана хорошая работа в А/Б-тесте, но текущая версия библиотеки в проекте не поддерживает автоматическую проверку двухсторонней гипотезы. Для корректной работы метода необходимо задать его параметр alternative = 'two-sided'.\n",
    "\n",
    "Подробнее о проверках можно почитать вот в этой [статье](http://www.stat.yale.edu/Courses/1997-98/101/sigtest.htm#:~:text=An%20alternative%20hypothesis%20may%20be,the%20direction%20does%20not%20matter.) \n",
    "</div>"
   ]
  },
  {
   "cell_type": "markdown",
   "metadata": {},
   "source": [
    "<div class=\"alert alert-info\">\n",
    "<b>Комментарий студента:</b> Ok, исправил </div>"
   ]
  },
  {
   "cell_type": "markdown",
   "metadata": {},
   "source": [
    "<div class=\"alert alert-block alert-success\">\n",
    "    \n",
    "\n",
    "__Комментарий от ревьюера №2 (OK)__\n",
    "\n",
    "👍\n",
    "</div>"
   ]
  },
  {
   "cell_type": "markdown",
   "metadata": {},
   "source": [
    "## Общий вывод\n",
    "<a name=\"5\"></a>"
   ]
  },
  {
   "cell_type": "markdown",
   "metadata": {},
   "source": [
    "* часть пользователей попали в обе группы, что не допустимо\n",
    "* топ-гипотезы во фреймворках `ICE` и `RICE` одинаковы:\n",
    "    - `Добавить два новых канала привлечения трафика, что позволит привлекать на 30% больше пользователей`\n",
    "    - `Добавить блоки рекомендаций товаров на сайт интернет магазина, чтобы повысить конверсию и средний чек заказа`\n",
    "    - `Показать на главной странице баннеры с актуальными акциями и распродажами, чтобы увеличить конверсию`\n",
    "    - `Добавить форму подписки на все основные страницы, чтобы собрать базу клиентов для email-рассылок`\n",
    "    - `Запустить акцию, дающую скидку на товар в день рождения`\n",
    "* кумулятивная выручка по группам возрастает весь временной диапазон, в группе `B` 19 августа есть резкое возрастание, возможно из-за дорогих заказов\n",
    "* куммулятивная выручка по группе `В` немного превышает кумулятивную выручку группы `A`\n",
    "* кумулятивный средний чек  возрастает весь временной диапазон, в группе `B` 19 августа есть резкий скачок, подтверждающий именно дорогую покупку, а не рост числа заказов\n",
    "* конверсиия группе `B` больше, но к концу временного периода наблюдается снижение \n",
    "* статистически значиме различия в конверсии между группами `A` и `B` есть\n",
    "* результаты конверсии (по очищенным данным) практически не изменились в сравнении с конверсией по очищенным данным\n",
    "* различий в среднем чеке между группами `A` и `B` нет.\n",
    "* после очистки данных относительный прирост среднего чека группы `B` к группе `A` резко сократился, что подтверждает наличие нескольких крупных заказов\n",
    "* по \"очищенным данным\", относительно группы `A`, средний чек группы `B` уменьшился на 5.29%, но конверсия больше на 15.56%, что делает группу `B` более перспективной.\n",
    "\n",
    "**ИТОГ:**\n",
    "**Остановить тест, зафиксировать победу группы `B`**"
   ]
  },
  {
   "cell_type": "markdown",
   "metadata": {},
   "source": [
    "<div class=\"alert alert-block alert-warning\">\n",
    "\n",
    "__Комментарий от ревьюера по общему выводу №1 (нужно доделать)__\n",
    "\n",
    "\n",
    "Что нужно точно поправить:  \n",
    "— написать гипотезы для проверки;  \n",
    "— написать в выводе информацию с этапа предобработки, в каком у нас состоянии данные, всё ли с ними изначально было в порядке;  \n",
    "\n",
    "Что сделано хорошо:  \n",
    "— есть вывод про А/Б-тест и победившую группу.  \n",
    "\n",
    "Что можно было сделать лучше:    \n",
    "— предположить что победа группы B даст продукту в целом (средний чек не упал, но конверсия выросла, значит количество заказов тоже будет больше).\n",
    "</div>"
   ]
  },
  {
   "cell_type": "markdown",
   "metadata": {},
   "source": [
    "<div class=\"alert alert-info\">\n",
    "<b>Комментарий студента:</b> Ok, внес изменения</div>"
   ]
  },
  {
   "cell_type": "markdown",
   "metadata": {},
   "source": [
    "<div class=\"alert alert-block alert-success\">\n",
    "    \n",
    "\n",
    "__Комментарий от ревьюера №2 (OK)__\n",
    "\n",
    "👍\n",
    "</div>"
   ]
  },
  {
   "cell_type": "code",
   "execution_count": null,
   "metadata": {},
   "outputs": [],
   "source": []
  }
 ],
 "metadata": {
  "ExecuteTimeLog": [
   {
    "duration": 131,
    "start_time": "2021-11-28T11:58:43.604Z"
   },
   {
    "duration": 158,
    "start_time": "2021-11-28T11:58:46.433Z"
   },
   {
    "duration": 1657,
    "start_time": "2021-11-28T12:04:14.984Z"
   },
   {
    "duration": 3197,
    "start_time": "2021-11-28T12:04:16.644Z"
   },
   {
    "duration": -420,
    "start_time": "2021-11-28T12:04:20.263Z"
   },
   {
    "duration": 5,
    "start_time": "2021-11-28T12:05:30.451Z"
   },
   {
    "duration": 81,
    "start_time": "2021-11-28T12:05:30.459Z"
   },
   {
    "duration": 268,
    "start_time": "2021-11-28T12:05:30.545Z"
   },
   {
    "duration": 360,
    "start_time": "2021-11-28T12:06:11.645Z"
   },
   {
    "duration": 451,
    "start_time": "2021-11-28T12:09:50.653Z"
   },
   {
    "duration": 372,
    "start_time": "2021-11-28T12:09:57.232Z"
   },
   {
    "duration": 258,
    "start_time": "2021-11-28T12:11:50.314Z"
   },
   {
    "duration": 578,
    "start_time": "2021-11-28T12:12:13.802Z"
   },
   {
    "duration": 272,
    "start_time": "2021-11-28T12:12:17.729Z"
   },
   {
    "duration": 388,
    "start_time": "2021-11-28T12:12:48.169Z"
   },
   {
    "duration": 394,
    "start_time": "2021-11-28T12:13:00.630Z"
   },
   {
    "duration": 367,
    "start_time": "2021-11-28T12:13:14.621Z"
   },
   {
    "duration": 361,
    "start_time": "2021-11-28T12:13:27.697Z"
   },
   {
    "duration": 382,
    "start_time": "2021-11-28T12:13:32.833Z"
   },
   {
    "duration": 385,
    "start_time": "2021-11-28T12:13:46.834Z"
   },
   {
    "duration": 364,
    "start_time": "2021-11-28T12:13:57.927Z"
   },
   {
    "duration": 242,
    "start_time": "2021-11-28T12:14:16.867Z"
   },
   {
    "duration": 362,
    "start_time": "2021-11-28T12:16:37.770Z"
   },
   {
    "duration": 377,
    "start_time": "2021-11-28T12:16:50.059Z"
   },
   {
    "duration": 353,
    "start_time": "2021-11-28T12:17:13.966Z"
   },
   {
    "duration": 366,
    "start_time": "2021-11-28T12:17:37.760Z"
   },
   {
    "duration": 56,
    "start_time": "2021-11-28T12:17:41.124Z"
   },
   {
    "duration": 10,
    "start_time": "2021-11-28T12:19:17.518Z"
   },
   {
    "duration": 99,
    "start_time": "2021-11-28T12:20:29.260Z"
   },
   {
    "duration": 13,
    "start_time": "2021-11-28T12:21:32.037Z"
   },
   {
    "duration": 64,
    "start_time": "2021-11-28T12:22:07.233Z"
   },
   {
    "duration": 6,
    "start_time": "2021-11-28T12:32:39.020Z"
   },
   {
    "duration": 9,
    "start_time": "2021-11-28T12:36:20.416Z"
   },
   {
    "duration": 16,
    "start_time": "2021-11-28T12:37:20.035Z"
   },
   {
    "duration": 18,
    "start_time": "2021-11-28T12:38:36.535Z"
   },
   {
    "duration": 16,
    "start_time": "2021-11-28T12:42:20.577Z"
   },
   {
    "duration": 16,
    "start_time": "2021-11-28T12:48:52.157Z"
   },
   {
    "duration": 360,
    "start_time": "2021-11-28T12:50:56.749Z"
   },
   {
    "duration": 16,
    "start_time": "2021-11-28T12:51:09.385Z"
   },
   {
    "duration": 18,
    "start_time": "2021-11-28T12:52:18.272Z"
   },
   {
    "duration": 1350,
    "start_time": "2021-11-29T14:33:56.575Z"
   },
   {
    "duration": 68,
    "start_time": "2021-11-29T14:33:57.927Z"
   },
   {
    "duration": 132,
    "start_time": "2021-11-29T14:33:57.997Z"
   },
   {
    "duration": 6,
    "start_time": "2021-11-29T14:33:58.130Z"
   },
   {
    "duration": 9,
    "start_time": "2021-11-29T14:33:58.138Z"
   },
   {
    "duration": 45,
    "start_time": "2021-11-29T14:33:58.148Z"
   },
   {
    "duration": 8,
    "start_time": "2021-11-29T14:33:58.194Z"
   },
   {
    "duration": 13,
    "start_time": "2021-11-29T14:33:58.203Z"
   },
   {
    "duration": 11,
    "start_time": "2021-11-29T14:33:58.218Z"
   },
   {
    "duration": 6,
    "start_time": "2021-11-29T14:35:52.910Z"
   },
   {
    "duration": 10,
    "start_time": "2021-11-29T14:36:05.656Z"
   },
   {
    "duration": 82,
    "start_time": "2021-11-29T14:37:55.107Z"
   },
   {
    "duration": 6419,
    "start_time": "2021-11-29T14:38:05.627Z"
   },
   {
    "duration": 6533,
    "start_time": "2021-11-29T14:38:54.679Z"
   },
   {
    "duration": 3,
    "start_time": "2021-11-29T14:39:09.567Z"
   },
   {
    "duration": 69,
    "start_time": "2021-11-29T14:39:09.572Z"
   },
   {
    "duration": 96,
    "start_time": "2021-11-29T14:39:09.643Z"
   },
   {
    "duration": 5,
    "start_time": "2021-11-29T14:39:09.741Z"
   },
   {
    "duration": 8,
    "start_time": "2021-11-29T14:39:09.788Z"
   },
   {
    "duration": 7,
    "start_time": "2021-11-29T14:39:09.797Z"
   },
   {
    "duration": 4,
    "start_time": "2021-11-29T14:39:09.806Z"
   },
   {
    "duration": 10,
    "start_time": "2021-11-29T14:39:09.812Z"
   },
   {
    "duration": 12,
    "start_time": "2021-11-29T14:39:09.823Z"
   },
   {
    "duration": 10,
    "start_time": "2021-11-29T14:39:09.836Z"
   },
   {
    "duration": 7045,
    "start_time": "2021-11-29T14:39:09.848Z"
   },
   {
    "duration": 6973,
    "start_time": "2021-11-29T14:40:54.261Z"
   },
   {
    "duration": 196,
    "start_time": "2021-11-29T14:41:02.153Z"
   },
   {
    "duration": 96,
    "start_time": "2021-11-29T14:42:26.961Z"
   },
   {
    "duration": 77,
    "start_time": "2021-11-29T14:42:35.497Z"
   },
   {
    "duration": 89,
    "start_time": "2021-11-29T14:42:44.379Z"
   },
   {
    "duration": 345,
    "start_time": "2021-11-29T14:43:14.154Z"
   },
   {
    "duration": 296,
    "start_time": "2021-11-29T14:43:29.149Z"
   },
   {
    "duration": 294,
    "start_time": "2021-11-29T14:43:45.815Z"
   },
   {
    "duration": 298,
    "start_time": "2021-11-29T14:43:56.457Z"
   },
   {
    "duration": 91,
    "start_time": "2021-11-29T14:46:12.202Z"
   },
   {
    "duration": 152,
    "start_time": "2021-11-29T14:46:20.275Z"
   },
   {
    "duration": 12,
    "start_time": "2021-11-29T14:58:22.255Z"
   },
   {
    "duration": 265,
    "start_time": "2021-11-29T15:01:49.304Z"
   },
   {
    "duration": 464,
    "start_time": "2021-11-29T15:07:50.216Z"
   },
   {
    "duration": 373,
    "start_time": "2021-11-29T15:08:02.303Z"
   },
   {
    "duration": 406,
    "start_time": "2021-11-29T15:09:37.985Z"
   },
   {
    "duration": 584,
    "start_time": "2021-11-29T15:09:51.477Z"
   },
   {
    "duration": 1046,
    "start_time": "2021-11-29T15:10:07.628Z"
   },
   {
    "duration": 66,
    "start_time": "2021-11-29T15:10:08.676Z"
   },
   {
    "duration": 102,
    "start_time": "2021-11-29T15:10:08.744Z"
   },
   {
    "duration": 7,
    "start_time": "2021-11-29T15:10:08.848Z"
   },
   {
    "duration": 8,
    "start_time": "2021-11-29T15:10:08.888Z"
   },
   {
    "duration": 6,
    "start_time": "2021-11-29T15:10:08.898Z"
   },
   {
    "duration": 8,
    "start_time": "2021-11-29T15:10:08.906Z"
   },
   {
    "duration": 11,
    "start_time": "2021-11-29T15:10:08.916Z"
   },
   {
    "duration": 10,
    "start_time": "2021-11-29T15:10:08.929Z"
   },
   {
    "duration": 15,
    "start_time": "2021-11-29T15:10:08.940Z"
   },
   {
    "duration": 226,
    "start_time": "2021-11-29T15:10:08.957Z"
   },
   {
    "duration": 154,
    "start_time": "2021-11-29T15:10:09.187Z"
   },
   {
    "duration": 14,
    "start_time": "2021-11-29T15:10:09.342Z"
   },
   {
    "duration": 7,
    "start_time": "2021-11-29T15:10:09.357Z"
   },
   {
    "duration": 23,
    "start_time": "2021-11-29T15:10:09.365Z"
   },
   {
    "duration": 597,
    "start_time": "2021-11-29T15:10:09.390Z"
   },
   {
    "duration": 295,
    "start_time": "2021-11-29T15:10:26.190Z"
   },
   {
    "duration": 295,
    "start_time": "2021-11-29T15:10:41.899Z"
   },
   {
    "duration": 308,
    "start_time": "2021-11-29T15:10:51.867Z"
   },
   {
    "duration": 355,
    "start_time": "2021-11-29T15:11:04.635Z"
   },
   {
    "duration": 296,
    "start_time": "2021-11-29T15:11:35.107Z"
   },
   {
    "duration": 84,
    "start_time": "2021-11-29T15:20:51.510Z"
   },
   {
    "duration": 361,
    "start_time": "2021-11-29T15:21:01.029Z"
   },
   {
    "duration": 12,
    "start_time": "2021-11-29T16:03:55.275Z"
   },
   {
    "duration": 392,
    "start_time": "2021-11-29T16:05:37.652Z"
   },
   {
    "duration": 420,
    "start_time": "2021-11-29T16:06:24.388Z"
   },
   {
    "duration": 386,
    "start_time": "2021-11-29T16:06:32.157Z"
   },
   {
    "duration": 3,
    "start_time": "2021-11-29T16:09:18.270Z"
   },
   {
    "duration": 10,
    "start_time": "2021-11-29T16:12:27.452Z"
   },
   {
    "duration": 12,
    "start_time": "2021-11-29T16:12:33.914Z"
   },
   {
    "duration": 405,
    "start_time": "2021-11-29T16:13:29.423Z"
   },
   {
    "duration": 13,
    "start_time": "2021-11-29T16:13:35.607Z"
   },
   {
    "duration": 11,
    "start_time": "2021-11-29T16:14:24.530Z"
   },
   {
    "duration": 332,
    "start_time": "2021-11-29T16:15:47.672Z"
   },
   {
    "duration": 14,
    "start_time": "2021-11-29T16:39:07.775Z"
   },
   {
    "duration": 372,
    "start_time": "2021-11-29T16:43:18.925Z"
   },
   {
    "duration": 396,
    "start_time": "2021-11-29T16:44:04.424Z"
   },
   {
    "duration": 413,
    "start_time": "2021-11-29T16:44:59.417Z"
   },
   {
    "duration": 444,
    "start_time": "2021-11-29T16:45:20.369Z"
   },
   {
    "duration": 433,
    "start_time": "2021-11-29T16:47:14.266Z"
   },
   {
    "duration": 485,
    "start_time": "2021-11-29T16:49:55.056Z"
   },
   {
    "duration": 517,
    "start_time": "2021-11-29T16:50:18.016Z"
   },
   {
    "duration": 86,
    "start_time": "2021-11-29T16:52:08.573Z"
   },
   {
    "duration": 438,
    "start_time": "2021-11-29T16:52:24.259Z"
   },
   {
    "duration": 411,
    "start_time": "2021-11-29T16:53:25.857Z"
   },
   {
    "duration": 424,
    "start_time": "2021-11-29T16:55:24.197Z"
   },
   {
    "duration": 420,
    "start_time": "2021-11-29T16:55:37.890Z"
   },
   {
    "duration": 422,
    "start_time": "2021-11-29T16:58:15.396Z"
   },
   {
    "duration": 444,
    "start_time": "2021-11-29T16:58:37.777Z"
   },
   {
    "duration": 407,
    "start_time": "2021-11-29T16:58:47.405Z"
   },
   {
    "duration": 1142,
    "start_time": "2021-11-29T17:04:01.386Z"
   },
   {
    "duration": 67,
    "start_time": "2021-11-29T17:04:02.529Z"
   },
   {
    "duration": 144,
    "start_time": "2021-11-29T17:04:02.598Z"
   },
   {
    "duration": 6,
    "start_time": "2021-11-29T17:04:02.743Z"
   },
   {
    "duration": 41,
    "start_time": "2021-11-29T17:04:02.751Z"
   },
   {
    "duration": 6,
    "start_time": "2021-11-29T17:04:02.794Z"
   },
   {
    "duration": 7,
    "start_time": "2021-11-29T17:04:02.801Z"
   },
   {
    "duration": 14,
    "start_time": "2021-11-29T17:04:02.812Z"
   },
   {
    "duration": 11,
    "start_time": "2021-11-29T17:04:02.828Z"
   },
   {
    "duration": 5,
    "start_time": "2021-11-29T17:04:02.841Z"
   },
   {
    "duration": 40,
    "start_time": "2021-11-29T17:04:02.848Z"
   },
   {
    "duration": 325,
    "start_time": "2021-11-29T17:04:02.890Z"
   },
   {
    "duration": 152,
    "start_time": "2021-11-29T17:04:03.217Z"
   },
   {
    "duration": 22,
    "start_time": "2021-11-29T17:04:03.370Z"
   },
   {
    "duration": 12,
    "start_time": "2021-11-29T17:04:03.394Z"
   },
   {
    "duration": 7,
    "start_time": "2021-11-29T17:04:03.408Z"
   },
   {
    "duration": 350,
    "start_time": "2021-11-29T17:04:03.417Z"
   },
   {
    "duration": 316,
    "start_time": "2021-11-29T17:04:03.768Z"
   },
   {
    "duration": 12,
    "start_time": "2021-11-29T17:04:04.086Z"
   },
   {
    "duration": 433,
    "start_time": "2021-11-29T17:04:04.101Z"
   },
   {
    "duration": 10,
    "start_time": "2021-11-29T17:04:04.536Z"
   },
   {
    "duration": 13,
    "start_time": "2021-11-29T17:04:04.547Z"
   },
   {
    "duration": 30,
    "start_time": "2021-11-29T17:04:04.563Z"
   },
   {
    "duration": 367,
    "start_time": "2021-11-29T17:04:04.595Z"
   },
   {
    "duration": 14,
    "start_time": "2021-11-29T17:04:04.963Z"
   },
   {
    "duration": 448,
    "start_time": "2021-11-29T17:04:04.978Z"
   },
   {
    "duration": 335,
    "start_time": "2021-11-30T11:51:45.894Z"
   },
   {
    "duration": 1154,
    "start_time": "2021-11-30T11:51:52.851Z"
   },
   {
    "duration": 68,
    "start_time": "2021-11-30T11:51:54.007Z"
   },
   {
    "duration": 130,
    "start_time": "2021-11-30T11:51:54.077Z"
   },
   {
    "duration": 8,
    "start_time": "2021-11-30T11:51:54.245Z"
   },
   {
    "duration": 15,
    "start_time": "2021-11-30T11:51:54.255Z"
   },
   {
    "duration": 6,
    "start_time": "2021-11-30T11:51:54.273Z"
   },
   {
    "duration": 7,
    "start_time": "2021-11-30T11:51:54.281Z"
   },
   {
    "duration": 22,
    "start_time": "2021-11-30T11:51:54.290Z"
   },
   {
    "duration": 30,
    "start_time": "2021-11-30T11:51:54.314Z"
   },
   {
    "duration": 11,
    "start_time": "2021-11-30T11:51:54.346Z"
   },
   {
    "duration": 18,
    "start_time": "2021-11-30T11:51:54.359Z"
   },
   {
    "duration": 221,
    "start_time": "2021-11-30T11:51:54.380Z"
   },
   {
    "duration": 174,
    "start_time": "2021-11-30T11:51:54.603Z"
   },
   {
    "duration": 13,
    "start_time": "2021-11-30T11:51:54.779Z"
   },
   {
    "duration": 16,
    "start_time": "2021-11-30T11:51:54.794Z"
   },
   {
    "duration": 17,
    "start_time": "2021-11-30T11:51:54.812Z"
   },
   {
    "duration": 351,
    "start_time": "2021-11-30T11:51:54.831Z"
   },
   {
    "duration": 323,
    "start_time": "2021-11-30T11:51:55.183Z"
   },
   {
    "duration": 11,
    "start_time": "2021-11-30T11:51:55.508Z"
   },
   {
    "duration": 453,
    "start_time": "2021-11-30T11:51:55.521Z"
   },
   {
    "duration": 11,
    "start_time": "2021-11-30T11:51:55.975Z"
   },
   {
    "duration": 10,
    "start_time": "2021-11-30T11:51:55.988Z"
   },
   {
    "duration": 21,
    "start_time": "2021-11-30T11:51:56.002Z"
   },
   {
    "duration": 370,
    "start_time": "2021-11-30T11:51:56.025Z"
   },
   {
    "duration": 16,
    "start_time": "2021-11-30T11:51:56.397Z"
   },
   {
    "duration": 490,
    "start_time": "2021-11-30T11:51:56.414Z"
   },
   {
    "duration": 179,
    "start_time": "2021-11-30T11:51:56.906Z"
   },
   {
    "duration": 16,
    "start_time": "2021-11-30T12:04:09.148Z"
   },
   {
    "duration": 12,
    "start_time": "2021-11-30T12:05:26.578Z"
   },
   {
    "duration": 14,
    "start_time": "2021-11-30T12:06:15.931Z"
   },
   {
    "duration": 571,
    "start_time": "2021-11-30T12:06:27.325Z"
   },
   {
    "duration": 77,
    "start_time": "2021-11-30T12:06:31.644Z"
   },
   {
    "duration": 106,
    "start_time": "2021-11-30T12:23:00.363Z"
   },
   {
    "duration": 263,
    "start_time": "2021-11-30T12:23:04.150Z"
   },
   {
    "duration": 268,
    "start_time": "2021-11-30T12:23:16.818Z"
   },
   {
    "duration": 12,
    "start_time": "2021-11-30T12:23:27.675Z"
   },
   {
    "duration": 384,
    "start_time": "2021-11-30T12:23:39.829Z"
   },
   {
    "duration": 402,
    "start_time": "2021-11-30T12:24:00.468Z"
   },
   {
    "duration": 7990,
    "start_time": "2021-11-30T12:24:59.031Z"
   },
   {
    "duration": 113,
    "start_time": "2021-11-30T12:25:39.477Z"
   },
   {
    "duration": 95,
    "start_time": "2021-11-30T12:26:52.395Z"
   },
   {
    "duration": 151,
    "start_time": "2021-11-30T12:27:07.638Z"
   },
   {
    "duration": 293,
    "start_time": "2021-11-30T12:29:34.063Z"
   },
   {
    "duration": 159,
    "start_time": "2021-11-30T12:29:39.079Z"
   },
   {
    "duration": 515,
    "start_time": "2021-11-30T12:29:49.298Z"
   },
   {
    "duration": 561,
    "start_time": "2021-11-30T12:30:26.640Z"
   },
   {
    "duration": 253,
    "start_time": "2021-11-30T12:30:36.169Z"
   },
   {
    "duration": 297,
    "start_time": "2021-11-30T12:30:54.356Z"
   },
   {
    "duration": 266,
    "start_time": "2021-11-30T12:30:58.748Z"
   },
   {
    "duration": 262,
    "start_time": "2021-11-30T12:31:10.369Z"
   },
   {
    "duration": 278,
    "start_time": "2021-11-30T12:31:20.393Z"
   },
   {
    "duration": 273,
    "start_time": "2021-11-30T12:31:26.918Z"
   },
   {
    "duration": 347,
    "start_time": "2021-11-30T12:31:33.243Z"
   },
   {
    "duration": 228,
    "start_time": "2021-11-30T12:32:26.660Z"
   },
   {
    "duration": 244,
    "start_time": "2021-11-30T12:32:33.328Z"
   },
   {
    "duration": 354,
    "start_time": "2021-11-30T12:33:44.213Z"
   },
   {
    "duration": 338,
    "start_time": "2021-11-30T12:34:27.777Z"
   },
   {
    "duration": 345,
    "start_time": "2021-11-30T12:34:36.765Z"
   },
   {
    "duration": 120,
    "start_time": "2021-11-30T12:34:57.025Z"
   },
   {
    "duration": 111,
    "start_time": "2021-11-30T12:35:23.735Z"
   },
   {
    "duration": 341,
    "start_time": "2021-11-30T12:35:40.252Z"
   },
   {
    "duration": 321,
    "start_time": "2021-11-30T12:35:48.752Z"
   },
   {
    "duration": 423,
    "start_time": "2021-11-30T12:35:54.915Z"
   },
   {
    "duration": 359,
    "start_time": "2021-11-30T12:36:03.578Z"
   },
   {
    "duration": 15,
    "start_time": "2021-11-30T12:46:46.199Z"
   },
   {
    "duration": 12,
    "start_time": "2021-11-30T12:46:53.431Z"
   },
   {
    "duration": 13,
    "start_time": "2021-11-30T12:47:17.664Z"
   },
   {
    "duration": 12,
    "start_time": "2021-11-30T12:47:24.937Z"
   },
   {
    "duration": 446,
    "start_time": "2021-11-30T12:51:50.446Z"
   },
   {
    "duration": 381,
    "start_time": "2021-11-30T12:52:41.792Z"
   },
   {
    "duration": 503,
    "start_time": "2021-11-30T12:53:03.832Z"
   },
   {
    "duration": 406,
    "start_time": "2021-11-30T12:53:29.393Z"
   },
   {
    "duration": 332,
    "start_time": "2021-11-30T12:53:32.696Z"
   },
   {
    "duration": 457,
    "start_time": "2021-11-30T12:53:40.514Z"
   },
   {
    "duration": 314,
    "start_time": "2021-11-30T12:53:57.070Z"
   },
   {
    "duration": 418,
    "start_time": "2021-11-30T12:54:03.094Z"
   },
   {
    "duration": 431,
    "start_time": "2021-11-30T12:54:19.877Z"
   },
   {
    "duration": 659,
    "start_time": "2021-11-30T12:54:29.523Z"
   },
   {
    "duration": 443,
    "start_time": "2021-11-30T12:54:33.010Z"
   },
   {
    "duration": 456,
    "start_time": "2021-11-30T12:54:41.913Z"
   },
   {
    "duration": 503,
    "start_time": "2021-11-30T12:54:49.427Z"
   },
   {
    "duration": 515,
    "start_time": "2021-11-30T12:54:54.221Z"
   },
   {
    "duration": 454,
    "start_time": "2021-11-30T12:56:29.160Z"
   },
   {
    "duration": 590,
    "start_time": "2021-11-30T12:57:06.497Z"
   },
   {
    "duration": 554,
    "start_time": "2021-11-30T12:57:16.931Z"
   },
   {
    "duration": 485,
    "start_time": "2021-11-30T12:57:37.032Z"
   },
   {
    "duration": 360,
    "start_time": "2021-11-30T12:57:53.600Z"
   },
   {
    "duration": 5,
    "start_time": "2021-11-30T12:59:44.955Z"
   },
   {
    "duration": 6,
    "start_time": "2021-11-30T12:59:56.215Z"
   },
   {
    "duration": 1109,
    "start_time": "2021-11-30T13:00:05.177Z"
   },
   {
    "duration": 4,
    "start_time": "2021-11-30T13:00:09.819Z"
   },
   {
    "duration": 4,
    "start_time": "2021-11-30T13:06:22.994Z"
   },
   {
    "duration": 637,
    "start_time": "2021-11-30T13:20:03.103Z"
   },
   {
    "duration": 518,
    "start_time": "2021-11-30T13:20:46.440Z"
   },
   {
    "duration": 787,
    "start_time": "2021-11-30T13:24:57.271Z"
   },
   {
    "duration": 467,
    "start_time": "2021-11-30T13:25:07.480Z"
   },
   {
    "duration": 13,
    "start_time": "2021-11-30T13:26:27.104Z"
   },
   {
    "duration": 242,
    "start_time": "2021-11-30T13:27:30.500Z"
   },
   {
    "duration": 246,
    "start_time": "2021-11-30T13:28:08.314Z"
   },
   {
    "duration": 246,
    "start_time": "2021-11-30T13:28:25.586Z"
   },
   {
    "duration": 626,
    "start_time": "2021-11-30T13:30:08.873Z"
   },
   {
    "duration": 661,
    "start_time": "2021-11-30T13:30:16.894Z"
   },
   {
    "duration": 621,
    "start_time": "2021-11-30T13:30:44.840Z"
   },
   {
    "duration": 663,
    "start_time": "2021-11-30T13:31:50.549Z"
   },
   {
    "duration": 591,
    "start_time": "2021-11-30T13:32:07.970Z"
   },
   {
    "duration": 244,
    "start_time": "2021-11-30T13:32:43.813Z"
   },
   {
    "duration": 273,
    "start_time": "2021-11-30T13:33:25.528Z"
   },
   {
    "duration": 238,
    "start_time": "2021-11-30T13:34:08.677Z"
   },
   {
    "duration": 243,
    "start_time": "2021-11-30T13:34:18.385Z"
   },
   {
    "duration": 259,
    "start_time": "2021-11-30T13:34:25.374Z"
   },
   {
    "duration": 266,
    "start_time": "2021-11-30T13:39:04.758Z"
   },
   {
    "duration": 5,
    "start_time": "2021-11-30T13:49:28.799Z"
   },
   {
    "duration": 5,
    "start_time": "2021-11-30T13:49:44.578Z"
   },
   {
    "duration": 6,
    "start_time": "2021-11-30T13:49:47.741Z"
   },
   {
    "duration": -1515,
    "start_time": "2021-11-30T13:51:51.254Z"
   },
   {
    "duration": 7832,
    "start_time": "2021-11-30T13:51:57.256Z"
   },
   {
    "duration": 1601,
    "start_time": "2021-11-30T13:52:09.724Z"
   },
   {
    "duration": 279,
    "start_time": "2021-11-30T13:52:28.762Z"
   },
   {
    "duration": 14,
    "start_time": "2021-11-30T13:52:39.244Z"
   },
   {
    "duration": 16,
    "start_time": "2021-11-30T13:52:44.880Z"
   },
   {
    "duration": 14,
    "start_time": "2021-11-30T13:53:05.892Z"
   },
   {
    "duration": 14,
    "start_time": "2021-11-30T13:53:10.728Z"
   },
   {
    "duration": 15,
    "start_time": "2021-11-30T13:54:07.958Z"
   },
   {
    "duration": 272,
    "start_time": "2021-11-30T13:54:44.527Z"
   },
   {
    "duration": 261,
    "start_time": "2021-11-30T14:01:06.516Z"
   },
   {
    "duration": 6,
    "start_time": "2021-11-30T14:03:51.649Z"
   },
   {
    "duration": 5,
    "start_time": "2021-11-30T14:09:22.962Z"
   },
   {
    "duration": 9,
    "start_time": "2021-11-30T14:12:31.851Z"
   },
   {
    "duration": 8,
    "start_time": "2021-11-30T14:12:45.591Z"
   },
   {
    "duration": 5,
    "start_time": "2021-11-30T14:13:05.517Z"
   },
   {
    "duration": 5,
    "start_time": "2021-11-30T14:13:10.732Z"
   },
   {
    "duration": 1146,
    "start_time": "2021-11-30T14:14:02.766Z"
   },
   {
    "duration": 64,
    "start_time": "2021-11-30T14:14:03.914Z"
   },
   {
    "duration": 164,
    "start_time": "2021-11-30T14:14:03.980Z"
   },
   {
    "duration": 17,
    "start_time": "2021-11-30T14:14:04.147Z"
   },
   {
    "duration": 404,
    "start_time": "2021-11-30T14:14:04.166Z"
   },
   {
    "duration": -418,
    "start_time": "2021-11-30T14:14:04.992Z"
   },
   {
    "duration": -419,
    "start_time": "2021-11-30T14:14:04.995Z"
   },
   {
    "duration": -420,
    "start_time": "2021-11-30T14:14:04.997Z"
   },
   {
    "duration": -422,
    "start_time": "2021-11-30T14:14:05.000Z"
   },
   {
    "duration": -422,
    "start_time": "2021-11-30T14:14:05.002Z"
   },
   {
    "duration": -423,
    "start_time": "2021-11-30T14:14:05.004Z"
   },
   {
    "duration": -424,
    "start_time": "2021-11-30T14:14:05.006Z"
   },
   {
    "duration": -426,
    "start_time": "2021-11-30T14:14:05.009Z"
   },
   {
    "duration": -427,
    "start_time": "2021-11-30T14:14:05.011Z"
   },
   {
    "duration": -428,
    "start_time": "2021-11-30T14:14:05.013Z"
   },
   {
    "duration": -435,
    "start_time": "2021-11-30T14:14:05.021Z"
   },
   {
    "duration": -437,
    "start_time": "2021-11-30T14:14:05.024Z"
   },
   {
    "duration": -438,
    "start_time": "2021-11-30T14:14:05.026Z"
   },
   {
    "duration": -438,
    "start_time": "2021-11-30T14:14:05.028Z"
   },
   {
    "duration": -439,
    "start_time": "2021-11-30T14:14:05.030Z"
   },
   {
    "duration": -441,
    "start_time": "2021-11-30T14:14:05.033Z"
   },
   {
    "duration": -442,
    "start_time": "2021-11-30T14:14:05.035Z"
   },
   {
    "duration": -444,
    "start_time": "2021-11-30T14:14:05.038Z"
   },
   {
    "duration": -446,
    "start_time": "2021-11-30T14:14:05.041Z"
   },
   {
    "duration": -447,
    "start_time": "2021-11-30T14:14:05.043Z"
   },
   {
    "duration": -448,
    "start_time": "2021-11-30T14:14:05.045Z"
   },
   {
    "duration": -449,
    "start_time": "2021-11-30T14:14:05.047Z"
   },
   {
    "duration": -451,
    "start_time": "2021-11-30T14:14:05.050Z"
   },
   {
    "duration": -452,
    "start_time": "2021-11-30T14:14:05.052Z"
   },
   {
    "duration": -460,
    "start_time": "2021-11-30T14:14:05.061Z"
   },
   {
    "duration": -462,
    "start_time": "2021-11-30T14:14:05.063Z"
   },
   {
    "duration": -463,
    "start_time": "2021-11-30T14:14:05.065Z"
   },
   {
    "duration": -465,
    "start_time": "2021-11-30T14:14:05.068Z"
   },
   {
    "duration": -467,
    "start_time": "2021-11-30T14:14:05.070Z"
   },
   {
    "duration": -469,
    "start_time": "2021-11-30T14:14:05.073Z"
   },
   {
    "duration": -470,
    "start_time": "2021-11-30T14:14:05.075Z"
   },
   {
    "duration": 3,
    "start_time": "2021-11-30T14:14:12.876Z"
   },
   {
    "duration": 69,
    "start_time": "2021-11-30T14:14:12.883Z"
   },
   {
    "duration": 136,
    "start_time": "2021-11-30T14:14:12.954Z"
   },
   {
    "duration": 10,
    "start_time": "2021-11-30T14:14:13.092Z"
   },
   {
    "duration": 316,
    "start_time": "2021-11-30T14:14:13.104Z"
   },
   {
    "duration": -425,
    "start_time": "2021-11-30T14:14:13.847Z"
   },
   {
    "duration": -427,
    "start_time": "2021-11-30T14:14:13.850Z"
   },
   {
    "duration": -430,
    "start_time": "2021-11-30T14:14:13.854Z"
   },
   {
    "duration": -434,
    "start_time": "2021-11-30T14:14:13.859Z"
   },
   {
    "duration": -436,
    "start_time": "2021-11-30T14:14:13.862Z"
   },
   {
    "duration": -437,
    "start_time": "2021-11-30T14:14:13.864Z"
   },
   {
    "duration": -439,
    "start_time": "2021-11-30T14:14:13.867Z"
   },
   {
    "duration": -440,
    "start_time": "2021-11-30T14:14:13.869Z"
   },
   {
    "duration": -441,
    "start_time": "2021-11-30T14:14:13.871Z"
   },
   {
    "duration": -443,
    "start_time": "2021-11-30T14:14:13.874Z"
   },
   {
    "duration": -444,
    "start_time": "2021-11-30T14:14:13.876Z"
   },
   {
    "duration": -445,
    "start_time": "2021-11-30T14:14:13.878Z"
   },
   {
    "duration": -447,
    "start_time": "2021-11-30T14:14:13.881Z"
   },
   {
    "duration": -448,
    "start_time": "2021-11-30T14:14:13.883Z"
   },
   {
    "duration": -450,
    "start_time": "2021-11-30T14:14:13.886Z"
   },
   {
    "duration": -452,
    "start_time": "2021-11-30T14:14:13.888Z"
   },
   {
    "duration": -454,
    "start_time": "2021-11-30T14:14:13.891Z"
   },
   {
    "duration": -455,
    "start_time": "2021-11-30T14:14:13.893Z"
   },
   {
    "duration": -456,
    "start_time": "2021-11-30T14:14:13.895Z"
   },
   {
    "duration": -458,
    "start_time": "2021-11-30T14:14:13.898Z"
   },
   {
    "duration": -459,
    "start_time": "2021-11-30T14:14:13.900Z"
   },
   {
    "duration": -466,
    "start_time": "2021-11-30T14:14:13.908Z"
   },
   {
    "duration": -469,
    "start_time": "2021-11-30T14:14:13.911Z"
   },
   {
    "duration": -470,
    "start_time": "2021-11-30T14:14:13.913Z"
   },
   {
    "duration": -471,
    "start_time": "2021-11-30T14:14:13.915Z"
   },
   {
    "duration": -473,
    "start_time": "2021-11-30T14:14:13.918Z"
   },
   {
    "duration": -474,
    "start_time": "2021-11-30T14:14:13.920Z"
   },
   {
    "duration": -475,
    "start_time": "2021-11-30T14:14:13.922Z"
   },
   {
    "duration": -476,
    "start_time": "2021-11-30T14:14:13.924Z"
   },
   {
    "duration": -477,
    "start_time": "2021-11-30T14:14:13.926Z"
   },
   {
    "duration": -478,
    "start_time": "2021-11-30T14:14:13.928Z"
   },
   {
    "duration": 6,
    "start_time": "2021-11-30T14:14:21.646Z"
   },
   {
    "duration": 77,
    "start_time": "2021-11-30T14:14:21.653Z"
   },
   {
    "duration": 146,
    "start_time": "2021-11-30T14:14:21.732Z"
   },
   {
    "duration": 12,
    "start_time": "2021-11-30T14:14:21.880Z"
   },
   {
    "duration": 293,
    "start_time": "2021-11-30T14:14:21.894Z"
   },
   {
    "duration": -444,
    "start_time": "2021-11-30T14:14:22.633Z"
   },
   {
    "duration": -446,
    "start_time": "2021-11-30T14:14:22.636Z"
   },
   {
    "duration": -447,
    "start_time": "2021-11-30T14:14:22.638Z"
   },
   {
    "duration": -448,
    "start_time": "2021-11-30T14:14:22.640Z"
   },
   {
    "duration": -449,
    "start_time": "2021-11-30T14:14:22.642Z"
   },
   {
    "duration": -451,
    "start_time": "2021-11-30T14:14:22.645Z"
   },
   {
    "duration": -453,
    "start_time": "2021-11-30T14:14:22.647Z"
   },
   {
    "duration": -455,
    "start_time": "2021-11-30T14:14:22.650Z"
   },
   {
    "duration": -457,
    "start_time": "2021-11-30T14:14:22.653Z"
   },
   {
    "duration": -459,
    "start_time": "2021-11-30T14:14:22.656Z"
   },
   {
    "duration": -464,
    "start_time": "2021-11-30T14:14:22.662Z"
   },
   {
    "duration": -466,
    "start_time": "2021-11-30T14:14:22.665Z"
   },
   {
    "duration": -467,
    "start_time": "2021-11-30T14:14:22.667Z"
   },
   {
    "duration": -468,
    "start_time": "2021-11-30T14:14:22.669Z"
   },
   {
    "duration": -471,
    "start_time": "2021-11-30T14:14:22.673Z"
   },
   {
    "duration": -472,
    "start_time": "2021-11-30T14:14:22.675Z"
   },
   {
    "duration": -474,
    "start_time": "2021-11-30T14:14:22.677Z"
   },
   {
    "duration": -475,
    "start_time": "2021-11-30T14:14:22.679Z"
   },
   {
    "duration": -476,
    "start_time": "2021-11-30T14:14:22.681Z"
   },
   {
    "duration": -477,
    "start_time": "2021-11-30T14:14:22.683Z"
   },
   {
    "duration": -478,
    "start_time": "2021-11-30T14:14:22.685Z"
   },
   {
    "duration": -480,
    "start_time": "2021-11-30T14:14:22.688Z"
   },
   {
    "duration": -481,
    "start_time": "2021-11-30T14:14:22.690Z"
   },
   {
    "duration": -484,
    "start_time": "2021-11-30T14:14:22.693Z"
   },
   {
    "duration": -485,
    "start_time": "2021-11-30T14:14:22.695Z"
   },
   {
    "duration": -486,
    "start_time": "2021-11-30T14:14:22.697Z"
   },
   {
    "duration": -487,
    "start_time": "2021-11-30T14:14:22.699Z"
   },
   {
    "duration": -488,
    "start_time": "2021-11-30T14:14:22.701Z"
   },
   {
    "duration": -489,
    "start_time": "2021-11-30T14:14:22.703Z"
   },
   {
    "duration": -490,
    "start_time": "2021-11-30T14:14:22.705Z"
   },
   {
    "duration": -499,
    "start_time": "2021-11-30T14:14:22.714Z"
   },
   {
    "duration": 1154,
    "start_time": "2021-11-30T14:15:00.966Z"
   },
   {
    "duration": 65,
    "start_time": "2021-11-30T14:15:02.122Z"
   },
   {
    "duration": 198,
    "start_time": "2021-11-30T14:15:02.190Z"
   },
   {
    "duration": 15,
    "start_time": "2021-11-30T14:15:02.390Z"
   },
   {
    "duration": 63,
    "start_time": "2021-11-30T14:15:02.406Z"
   },
   {
    "duration": 32,
    "start_time": "2021-11-30T14:15:02.471Z"
   },
   {
    "duration": 31,
    "start_time": "2021-11-30T14:15:02.504Z"
   },
   {
    "duration": 26,
    "start_time": "2021-11-30T14:15:02.537Z"
   },
   {
    "duration": 19,
    "start_time": "2021-11-30T14:15:02.565Z"
   },
   {
    "duration": 24,
    "start_time": "2021-11-30T14:15:02.586Z"
   },
   {
    "duration": 45,
    "start_time": "2021-11-30T14:15:02.612Z"
   },
   {
    "duration": 37,
    "start_time": "2021-11-30T14:15:02.659Z"
   },
   {
    "duration": 225,
    "start_time": "2021-11-30T14:15:02.698Z"
   },
   {
    "duration": 169,
    "start_time": "2021-11-30T14:15:02.925Z"
   },
   {
    "duration": 12,
    "start_time": "2021-11-30T14:15:03.096Z"
   },
   {
    "duration": 31,
    "start_time": "2021-11-30T14:15:03.109Z"
   },
   {
    "duration": 30,
    "start_time": "2021-11-30T14:15:03.142Z"
   },
   {
    "duration": 356,
    "start_time": "2021-11-30T14:15:03.174Z"
   },
   {
    "duration": 330,
    "start_time": "2021-11-30T14:15:03.531Z"
   },
   {
    "duration": 13,
    "start_time": "2021-11-30T14:15:03.863Z"
   },
   {
    "duration": 448,
    "start_time": "2021-11-30T14:15:03.878Z"
   },
   {
    "duration": 21,
    "start_time": "2021-11-30T14:15:04.328Z"
   },
   {
    "duration": 46,
    "start_time": "2021-11-30T14:15:04.352Z"
   },
   {
    "duration": 30,
    "start_time": "2021-11-30T14:15:04.400Z"
   },
   {
    "duration": 336,
    "start_time": "2021-11-30T14:15:04.432Z"
   },
   {
    "duration": 16,
    "start_time": "2021-11-30T14:15:04.769Z"
   },
   {
    "duration": 419,
    "start_time": "2021-11-30T14:15:04.787Z"
   },
   {
    "duration": 120,
    "start_time": "2021-11-30T14:15:05.208Z"
   },
   {
    "duration": 325,
    "start_time": "2021-11-30T14:15:05.330Z"
   },
   {
    "duration": 14,
    "start_time": "2021-11-30T14:15:05.657Z"
   },
   {
    "duration": 472,
    "start_time": "2021-11-30T14:15:05.673Z"
   },
   {
    "duration": 6,
    "start_time": "2021-11-30T14:15:06.146Z"
   },
   {
    "duration": 410,
    "start_time": "2021-11-30T14:15:06.154Z"
   },
   {
    "duration": 288,
    "start_time": "2021-11-30T14:15:06.566Z"
   },
   {
    "duration": 5,
    "start_time": "2021-11-30T14:15:06.856Z"
   },
   {
    "duration": 394,
    "start_time": "2021-11-30T14:15:19.768Z"
   },
   {
    "duration": 376,
    "start_time": "2021-11-30T14:15:24.079Z"
   },
   {
    "duration": 488,
    "start_time": "2021-11-30T14:15:39.349Z"
   },
   {
    "duration": 483,
    "start_time": "2021-11-30T14:15:46.544Z"
   },
   {
    "duration": 492,
    "start_time": "2021-11-30T14:15:52.345Z"
   },
   {
    "duration": 255,
    "start_time": "2021-11-30T14:16:23.279Z"
   },
   {
    "duration": 6,
    "start_time": "2021-11-30T14:25:20.303Z"
   },
   {
    "duration": 10,
    "start_time": "2021-11-30T14:25:36.743Z"
   },
   {
    "duration": 151,
    "start_time": "2021-11-30T14:25:59.898Z"
   },
   {
    "duration": 59,
    "start_time": "2021-11-30T14:26:05.333Z"
   },
   {
    "duration": 411,
    "start_time": "2021-11-30T14:26:13.433Z"
   },
   {
    "duration": 60,
    "start_time": "2021-11-30T14:26:19.677Z"
   },
   {
    "duration": 13,
    "start_time": "2021-11-30T14:32:24.726Z"
   },
   {
    "duration": 61,
    "start_time": "2021-11-30T14:33:10.497Z"
   },
   {
    "duration": 91,
    "start_time": "2021-11-30T14:41:32.434Z"
   },
   {
    "duration": 92,
    "start_time": "2021-11-30T14:41:38.718Z"
   },
   {
    "duration": 95,
    "start_time": "2021-11-30T14:41:45.405Z"
   },
   {
    "duration": 148,
    "start_time": "2021-11-30T14:41:56.809Z"
   },
   {
    "duration": 89,
    "start_time": "2021-11-30T14:42:10.267Z"
   },
   {
    "duration": 92,
    "start_time": "2021-11-30T14:42:45.552Z"
   },
   {
    "duration": 168,
    "start_time": "2021-11-30T14:42:49.864Z"
   },
   {
    "duration": 94,
    "start_time": "2021-11-30T14:43:15.014Z"
   },
   {
    "duration": 126,
    "start_time": "2021-11-30T14:43:41.368Z"
   },
   {
    "duration": 272,
    "start_time": "2021-11-30T14:43:46.808Z"
   },
   {
    "duration": 291,
    "start_time": "2021-11-30T14:45:47.356Z"
   },
   {
    "duration": 7259,
    "start_time": "2021-11-30T14:46:22.695Z"
   },
   {
    "duration": 78,
    "start_time": "2021-11-30T14:46:56.224Z"
   },
   {
    "duration": 66,
    "start_time": "2021-11-30T14:49:09.057Z"
   },
   {
    "duration": 1117,
    "start_time": "2021-11-30T14:49:47.787Z"
   },
   {
    "duration": 62,
    "start_time": "2021-11-30T14:49:48.906Z"
   },
   {
    "duration": 134,
    "start_time": "2021-11-30T14:49:48.970Z"
   },
   {
    "duration": 49,
    "start_time": "2021-11-30T14:49:49.106Z"
   },
   {
    "duration": 7,
    "start_time": "2021-11-30T14:49:49.157Z"
   },
   {
    "duration": 11,
    "start_time": "2021-11-30T14:49:49.165Z"
   },
   {
    "duration": 8,
    "start_time": "2021-11-30T14:49:49.178Z"
   },
   {
    "duration": 8,
    "start_time": "2021-11-30T14:49:49.189Z"
   },
   {
    "duration": 12,
    "start_time": "2021-11-30T14:49:49.199Z"
   },
   {
    "duration": 41,
    "start_time": "2021-11-30T14:49:49.213Z"
   },
   {
    "duration": 3,
    "start_time": "2021-11-30T14:49:49.255Z"
   },
   {
    "duration": 14,
    "start_time": "2021-11-30T14:49:49.259Z"
   },
   {
    "duration": 245,
    "start_time": "2021-11-30T14:49:49.275Z"
   },
   {
    "duration": 161,
    "start_time": "2021-11-30T14:49:49.522Z"
   },
   {
    "duration": 11,
    "start_time": "2021-11-30T14:49:49.685Z"
   },
   {
    "duration": 8,
    "start_time": "2021-11-30T14:49:49.698Z"
   },
   {
    "duration": 7,
    "start_time": "2021-11-30T14:49:49.707Z"
   },
   {
    "duration": 353,
    "start_time": "2021-11-30T14:49:49.715Z"
   },
   {
    "duration": 311,
    "start_time": "2021-11-30T14:49:50.070Z"
   },
   {
    "duration": 11,
    "start_time": "2021-11-30T14:49:50.382Z"
   },
   {
    "duration": 429,
    "start_time": "2021-11-30T14:49:50.394Z"
   },
   {
    "duration": 10,
    "start_time": "2021-11-30T14:49:50.825Z"
   },
   {
    "duration": 11,
    "start_time": "2021-11-30T14:49:50.847Z"
   },
   {
    "duration": 29,
    "start_time": "2021-11-30T14:49:50.860Z"
   },
   {
    "duration": 336,
    "start_time": "2021-11-30T14:49:50.891Z"
   },
   {
    "duration": 17,
    "start_time": "2021-11-30T14:49:51.228Z"
   },
   {
    "duration": 438,
    "start_time": "2021-11-30T14:49:51.247Z"
   },
   {
    "duration": 104,
    "start_time": "2021-11-30T14:49:51.687Z"
   },
   {
    "duration": 298,
    "start_time": "2021-11-30T14:49:51.793Z"
   },
   {
    "duration": 12,
    "start_time": "2021-11-30T14:49:52.092Z"
   },
   {
    "duration": 466,
    "start_time": "2021-11-30T14:49:52.106Z"
   },
   {
    "duration": 4,
    "start_time": "2021-11-30T14:49:52.574Z"
   },
   {
    "duration": 412,
    "start_time": "2021-11-30T14:49:52.580Z"
   },
   {
    "duration": 257,
    "start_time": "2021-11-30T14:49:52.994Z"
   },
   {
    "duration": 5,
    "start_time": "2021-11-30T14:49:53.253Z"
   },
   {
    "duration": 30,
    "start_time": "2021-11-30T14:49:53.260Z"
   },
   {
    "duration": 87,
    "start_time": "2021-11-30T14:49:53.292Z"
   },
   {
    "duration": 16,
    "start_time": "2021-11-30T14:49:53.381Z"
   },
   {
    "duration": 83,
    "start_time": "2021-11-30T14:49:53.398Z"
   },
   {
    "duration": 60,
    "start_time": "2021-11-30T14:49:53.483Z"
   },
   {
    "duration": 87,
    "start_time": "2021-11-30T14:49:53.545Z"
   },
   {
    "duration": 19,
    "start_time": "2021-11-30T14:54:43.660Z"
   },
   {
    "duration": 66,
    "start_time": "2021-11-30T14:55:36.226Z"
   },
   {
    "duration": 33,
    "start_time": "2021-11-30T14:57:26.523Z"
   },
   {
    "duration": 31,
    "start_time": "2021-11-30T14:58:10.541Z"
   },
   {
    "duration": 1170,
    "start_time": "2021-11-30T15:00:18.809Z"
   },
   {
    "duration": 65,
    "start_time": "2021-11-30T15:00:19.981Z"
   },
   {
    "duration": 139,
    "start_time": "2021-11-30T15:00:20.048Z"
   },
   {
    "duration": 13,
    "start_time": "2021-11-30T15:00:20.189Z"
   },
   {
    "duration": 43,
    "start_time": "2021-11-30T15:00:20.204Z"
   },
   {
    "duration": 19,
    "start_time": "2021-11-30T15:00:20.249Z"
   },
   {
    "duration": 9,
    "start_time": "2021-11-30T15:00:20.270Z"
   },
   {
    "duration": 7,
    "start_time": "2021-11-30T15:00:20.282Z"
   },
   {
    "duration": 17,
    "start_time": "2021-11-30T15:00:20.290Z"
   },
   {
    "duration": 23,
    "start_time": "2021-11-30T15:00:20.308Z"
   },
   {
    "duration": 11,
    "start_time": "2021-11-30T15:00:20.332Z"
   },
   {
    "duration": 16,
    "start_time": "2021-11-30T15:00:20.344Z"
   },
   {
    "duration": 211,
    "start_time": "2021-11-30T15:00:20.362Z"
   },
   {
    "duration": 160,
    "start_time": "2021-11-30T15:00:20.575Z"
   },
   {
    "duration": 18,
    "start_time": "2021-11-30T15:00:20.737Z"
   },
   {
    "duration": 13,
    "start_time": "2021-11-30T15:00:20.757Z"
   },
   {
    "duration": 15,
    "start_time": "2021-11-30T15:00:20.771Z"
   },
   {
    "duration": 332,
    "start_time": "2021-11-30T15:00:20.787Z"
   },
   {
    "duration": 323,
    "start_time": "2021-11-30T15:00:21.121Z"
   },
   {
    "duration": 11,
    "start_time": "2021-11-30T15:00:21.446Z"
   },
   {
    "duration": 441,
    "start_time": "2021-11-30T15:00:21.459Z"
   },
   {
    "duration": 11,
    "start_time": "2021-11-30T15:00:21.901Z"
   },
   {
    "duration": 37,
    "start_time": "2021-11-30T15:00:21.916Z"
   },
   {
    "duration": 33,
    "start_time": "2021-11-30T15:00:21.955Z"
   },
   {
    "duration": 383,
    "start_time": "2021-11-30T15:00:21.990Z"
   },
   {
    "duration": 14,
    "start_time": "2021-11-30T15:00:22.375Z"
   },
   {
    "duration": 431,
    "start_time": "2021-11-30T15:00:22.391Z"
   },
   {
    "duration": 130,
    "start_time": "2021-11-30T15:00:22.824Z"
   },
   {
    "duration": 300,
    "start_time": "2021-11-30T15:00:22.956Z"
   },
   {
    "duration": 13,
    "start_time": "2021-11-30T15:00:23.258Z"
   },
   {
    "duration": 464,
    "start_time": "2021-11-30T15:00:23.273Z"
   },
   {
    "duration": 8,
    "start_time": "2021-11-30T15:00:23.739Z"
   },
   {
    "duration": 402,
    "start_time": "2021-11-30T15:00:23.749Z"
   },
   {
    "duration": 264,
    "start_time": "2021-11-30T15:00:24.153Z"
   },
   {
    "duration": 5,
    "start_time": "2021-11-30T15:00:24.419Z"
   },
   {
    "duration": 24,
    "start_time": "2021-11-30T15:00:24.425Z"
   },
   {
    "duration": 84,
    "start_time": "2021-11-30T15:00:24.451Z"
   },
   {
    "duration": 57,
    "start_time": "2021-11-30T15:00:24.537Z"
   },
   {
    "duration": 81,
    "start_time": "2021-11-30T15:00:24.596Z"
   },
   {
    "duration": 23,
    "start_time": "2021-11-30T15:00:24.679Z"
   },
   {
    "duration": 67,
    "start_time": "2021-11-30T15:00:24.704Z"
   },
   {
    "duration": 18,
    "start_time": "2021-11-30T15:00:24.773Z"
   },
   {
    "duration": 83,
    "start_time": "2021-11-30T15:00:24.793Z"
   },
   {
    "duration": 53,
    "start_time": "2021-11-30T15:00:24.878Z"
   },
   {
    "duration": 5,
    "start_time": "2021-11-30T15:02:08.511Z"
   },
   {
    "duration": 13,
    "start_time": "2021-11-30T15:02:08.518Z"
   },
   {
    "duration": 58,
    "start_time": "2021-11-30T15:02:08.533Z"
   },
   {
    "duration": 15,
    "start_time": "2021-11-30T15:02:08.593Z"
   },
   {
    "duration": 65,
    "start_time": "2021-11-30T15:02:08.610Z"
   },
   {
    "duration": 26,
    "start_time": "2021-11-30T15:02:08.677Z"
   },
   {
    "duration": 72,
    "start_time": "2021-11-30T15:02:08.705Z"
   },
   {
    "duration": 21,
    "start_time": "2021-11-30T15:02:08.779Z"
   },
   {
    "duration": 73,
    "start_time": "2021-11-30T15:02:08.802Z"
   },
   {
    "duration": 90,
    "start_time": "2021-11-30T15:02:08.877Z"
   },
   {
    "duration": 10,
    "start_time": "2021-11-30T15:02:50.612Z"
   },
   {
    "duration": 61,
    "start_time": "2021-11-30T15:02:50.624Z"
   },
   {
    "duration": 15,
    "start_time": "2021-11-30T15:02:50.687Z"
   },
   {
    "duration": 69,
    "start_time": "2021-11-30T15:02:50.704Z"
   },
   {
    "duration": 27,
    "start_time": "2021-11-30T15:02:50.774Z"
   },
   {
    "duration": 72,
    "start_time": "2021-11-30T15:02:50.803Z"
   },
   {
    "duration": 19,
    "start_time": "2021-11-30T15:02:50.877Z"
   },
   {
    "duration": 79,
    "start_time": "2021-11-30T15:02:50.898Z"
   },
   {
    "duration": 38,
    "start_time": "2021-11-30T15:02:50.979Z"
   },
   {
    "duration": 31,
    "start_time": "2021-11-30T15:03:31.209Z"
   },
   {
    "duration": 32,
    "start_time": "2021-11-30T15:03:47.251Z"
   },
   {
    "duration": 1187,
    "start_time": "2021-12-01T13:28:06.339Z"
   },
   {
    "duration": 71,
    "start_time": "2021-12-01T13:28:07.528Z"
   },
   {
    "duration": 120,
    "start_time": "2021-12-01T13:28:07.601Z"
   },
   {
    "duration": 56,
    "start_time": "2021-12-01T13:28:07.723Z"
   },
   {
    "duration": 7,
    "start_time": "2021-12-01T13:28:07.781Z"
   },
   {
    "duration": 13,
    "start_time": "2021-12-01T13:28:07.790Z"
   },
   {
    "duration": 7,
    "start_time": "2021-12-01T13:28:07.805Z"
   },
   {
    "duration": 9,
    "start_time": "2021-12-01T13:28:07.814Z"
   },
   {
    "duration": 42,
    "start_time": "2021-12-01T13:28:07.825Z"
   },
   {
    "duration": 18,
    "start_time": "2021-12-01T13:28:07.869Z"
   },
   {
    "duration": 5,
    "start_time": "2021-12-01T13:28:07.889Z"
   },
   {
    "duration": 16,
    "start_time": "2021-12-01T13:28:07.895Z"
   },
   {
    "duration": 235,
    "start_time": "2021-12-01T13:28:07.913Z"
   },
   {
    "duration": 174,
    "start_time": "2021-12-01T13:28:08.149Z"
   },
   {
    "duration": 13,
    "start_time": "2021-12-01T13:28:08.325Z"
   },
   {
    "duration": 26,
    "start_time": "2021-12-01T13:28:08.340Z"
   },
   {
    "duration": 7,
    "start_time": "2021-12-01T13:28:08.368Z"
   },
   {
    "duration": 627,
    "start_time": "2021-12-01T13:28:08.377Z"
   },
   {
    "duration": 492,
    "start_time": "2021-12-01T13:28:09.006Z"
   },
   {
    "duration": 16,
    "start_time": "2021-12-01T13:28:09.500Z"
   },
   {
    "duration": 626,
    "start_time": "2021-12-01T13:28:09.519Z"
   },
   {
    "duration": 17,
    "start_time": "2021-12-01T13:28:10.147Z"
   },
   {
    "duration": 11,
    "start_time": "2021-12-01T13:28:10.166Z"
   },
   {
    "duration": 15,
    "start_time": "2021-12-01T13:28:10.179Z"
   },
   {
    "duration": 356,
    "start_time": "2021-12-01T13:28:10.196Z"
   },
   {
    "duration": 20,
    "start_time": "2021-12-01T13:28:10.554Z"
   },
   {
    "duration": 459,
    "start_time": "2021-12-01T13:28:10.578Z"
   },
   {
    "duration": 106,
    "start_time": "2021-12-01T13:28:11.039Z"
   },
   {
    "duration": 388,
    "start_time": "2021-12-01T13:28:11.147Z"
   },
   {
    "duration": 13,
    "start_time": "2021-12-01T13:28:11.536Z"
   },
   {
    "duration": 532,
    "start_time": "2021-12-01T13:28:11.552Z"
   },
   {
    "duration": 5,
    "start_time": "2021-12-01T13:28:12.085Z"
   },
   {
    "duration": 397,
    "start_time": "2021-12-01T13:28:12.092Z"
   },
   {
    "duration": 276,
    "start_time": "2021-12-01T13:28:12.492Z"
   },
   {
    "duration": 5,
    "start_time": "2021-12-01T13:28:12.770Z"
   },
   {
    "duration": 11,
    "start_time": "2021-12-01T13:28:12.777Z"
   },
   {
    "duration": 82,
    "start_time": "2021-12-01T13:28:12.790Z"
   },
   {
    "duration": 11,
    "start_time": "2021-12-01T13:28:12.874Z"
   },
   {
    "duration": 77,
    "start_time": "2021-12-01T13:28:12.887Z"
   },
   {
    "duration": 21,
    "start_time": "2021-12-01T13:28:12.966Z"
   },
   {
    "duration": 93,
    "start_time": "2021-12-01T13:28:12.989Z"
   },
   {
    "duration": 26,
    "start_time": "2021-12-01T13:28:13.085Z"
   },
   {
    "duration": 92,
    "start_time": "2021-12-01T13:28:13.113Z"
   },
   {
    "duration": 68,
    "start_time": "2021-12-01T13:28:13.207Z"
   },
   {
    "duration": 395,
    "start_time": "2021-12-01T13:28:13.277Z"
   },
   {
    "duration": 273,
    "start_time": "2021-12-01T13:32:42.698Z"
   },
   {
    "duration": 18,
    "start_time": "2021-12-01T13:32:48.125Z"
   },
   {
    "duration": 137,
    "start_time": "2021-12-01T13:33:51.762Z"
   },
   {
    "duration": 9,
    "start_time": "2021-12-01T13:33:59.162Z"
   },
   {
    "duration": 8,
    "start_time": "2021-12-01T13:34:15.739Z"
   },
   {
    "duration": 109,
    "start_time": "2021-12-01T13:35:10.800Z"
   },
   {
    "duration": 9,
    "start_time": "2021-12-01T13:35:16.280Z"
   },
   {
    "duration": 111,
    "start_time": "2021-12-01T13:37:11.785Z"
   },
   {
    "duration": 6,
    "start_time": "2021-12-01T13:39:30.243Z"
   },
   {
    "duration": 7,
    "start_time": "2021-12-01T13:39:38.015Z"
   },
   {
    "duration": 7,
    "start_time": "2021-12-01T13:39:42.332Z"
   },
   {
    "duration": 248,
    "start_time": "2021-12-01T13:42:33.410Z"
   },
   {
    "duration": 4,
    "start_time": "2021-12-01T13:43:17.571Z"
   },
   {
    "duration": 4,
    "start_time": "2021-12-01T13:43:26.096Z"
   },
   {
    "duration": 69,
    "start_time": "2021-12-01T13:43:26.104Z"
   },
   {
    "duration": 149,
    "start_time": "2021-12-01T13:43:26.174Z"
   },
   {
    "duration": 49,
    "start_time": "2021-12-01T13:43:26.326Z"
   },
   {
    "duration": 11,
    "start_time": "2021-12-01T13:43:26.377Z"
   },
   {
    "duration": 13,
    "start_time": "2021-12-01T13:43:26.390Z"
   },
   {
    "duration": 6,
    "start_time": "2021-12-01T13:43:26.405Z"
   },
   {
    "duration": 6,
    "start_time": "2021-12-01T13:43:26.413Z"
   },
   {
    "duration": 11,
    "start_time": "2021-12-01T13:43:26.421Z"
   },
   {
    "duration": 43,
    "start_time": "2021-12-01T13:43:26.434Z"
   },
   {
    "duration": 4,
    "start_time": "2021-12-01T13:43:26.479Z"
   },
   {
    "duration": 13,
    "start_time": "2021-12-01T13:43:26.485Z"
   },
   {
    "duration": 239,
    "start_time": "2021-12-01T13:43:26.500Z"
   },
   {
    "duration": 181,
    "start_time": "2021-12-01T13:43:26.741Z"
   },
   {
    "duration": 15,
    "start_time": "2021-12-01T13:43:26.924Z"
   },
   {
    "duration": 23,
    "start_time": "2021-12-01T13:43:26.941Z"
   },
   {
    "duration": 10,
    "start_time": "2021-12-01T13:43:26.965Z"
   },
   {
    "duration": 414,
    "start_time": "2021-12-01T13:43:26.977Z"
   },
   {
    "duration": 425,
    "start_time": "2021-12-01T13:43:27.393Z"
   },
   {
    "duration": 12,
    "start_time": "2021-12-01T13:43:27.820Z"
   },
   {
    "duration": 629,
    "start_time": "2021-12-01T13:43:27.834Z"
   },
   {
    "duration": 14,
    "start_time": "2021-12-01T13:43:28.465Z"
   },
   {
    "duration": 13,
    "start_time": "2021-12-01T13:43:28.481Z"
   },
   {
    "duration": 13,
    "start_time": "2021-12-01T13:43:28.498Z"
   },
   {
    "duration": 445,
    "start_time": "2021-12-01T13:43:28.513Z"
   },
   {
    "duration": 17,
    "start_time": "2021-12-01T13:43:28.963Z"
   },
   {
    "duration": 513,
    "start_time": "2021-12-01T13:43:28.981Z"
   },
   {
    "duration": 120,
    "start_time": "2021-12-01T13:43:29.496Z"
   },
   {
    "duration": 413,
    "start_time": "2021-12-01T13:43:29.617Z"
   },
   {
    "duration": 15,
    "start_time": "2021-12-01T13:43:30.031Z"
   },
   {
    "duration": 517,
    "start_time": "2021-12-01T13:43:30.048Z"
   },
   {
    "duration": 5,
    "start_time": "2021-12-01T13:43:30.567Z"
   },
   {
    "duration": 616,
    "start_time": "2021-12-01T13:43:30.574Z"
   },
   {
    "duration": 278,
    "start_time": "2021-12-01T13:43:31.191Z"
   },
   {
    "duration": 5,
    "start_time": "2021-12-01T13:43:31.470Z"
   },
   {
    "duration": 14,
    "start_time": "2021-12-01T13:43:31.477Z"
   },
   {
    "duration": 82,
    "start_time": "2021-12-01T13:43:31.492Z"
   },
   {
    "duration": 17,
    "start_time": "2021-12-01T13:43:31.576Z"
   },
   {
    "duration": 79,
    "start_time": "2021-12-01T13:43:31.596Z"
   },
   {
    "duration": 32,
    "start_time": "2021-12-01T13:43:31.677Z"
   },
   {
    "duration": 73,
    "start_time": "2021-12-01T13:43:31.711Z"
   },
   {
    "duration": 22,
    "start_time": "2021-12-01T13:43:31.786Z"
   },
   {
    "duration": 89,
    "start_time": "2021-12-01T13:43:31.809Z"
   },
   {
    "duration": 35,
    "start_time": "2021-12-01T13:43:31.900Z"
   },
   {
    "duration": 133,
    "start_time": "2021-12-01T13:43:31.937Z"
   },
   {
    "duration": 5,
    "start_time": "2021-12-01T13:43:32.072Z"
   },
   {
    "duration": 16,
    "start_time": "2021-12-01T13:43:32.079Z"
   },
   {
    "duration": 3,
    "start_time": "2021-12-01T13:43:32.097Z"
   },
   {
    "duration": 5,
    "start_time": "2021-12-01T13:46:14.116Z"
   },
   {
    "duration": 5,
    "start_time": "2021-12-01T13:46:44.775Z"
   },
   {
    "duration": 8,
    "start_time": "2021-12-01T13:55:47.804Z"
   },
   {
    "duration": 6,
    "start_time": "2021-12-01T13:55:51.443Z"
   },
   {
    "duration": 5,
    "start_time": "2021-12-01T13:56:06.733Z"
   },
   {
    "duration": 5,
    "start_time": "2021-12-01T13:56:13.851Z"
   },
   {
    "duration": 11,
    "start_time": "2021-12-01T14:00:04.148Z"
   },
   {
    "duration": 4,
    "start_time": "2021-12-01T14:00:24.834Z"
   },
   {
    "duration": 11,
    "start_time": "2021-12-01T14:00:27.486Z"
   },
   {
    "duration": 4,
    "start_time": "2021-12-01T14:02:36.144Z"
   },
   {
    "duration": 11,
    "start_time": "2021-12-01T14:02:40.630Z"
   },
   {
    "duration": 1198,
    "start_time": "2021-12-01T14:11:46.638Z"
   },
   {
    "duration": 68,
    "start_time": "2021-12-01T14:11:47.838Z"
   },
   {
    "duration": 172,
    "start_time": "2021-12-01T14:11:47.908Z"
   },
   {
    "duration": 16,
    "start_time": "2021-12-01T14:11:48.082Z"
   },
   {
    "duration": 6,
    "start_time": "2021-12-01T14:11:48.100Z"
   },
   {
    "duration": 17,
    "start_time": "2021-12-01T14:11:48.108Z"
   },
   {
    "duration": 9,
    "start_time": "2021-12-01T14:11:48.126Z"
   },
   {
    "duration": 5,
    "start_time": "2021-12-01T14:11:48.165Z"
   },
   {
    "duration": 12,
    "start_time": "2021-12-01T14:11:48.172Z"
   },
   {
    "duration": 17,
    "start_time": "2021-12-01T14:11:48.186Z"
   },
   {
    "duration": 5,
    "start_time": "2021-12-01T14:11:48.205Z"
   },
   {
    "duration": 19,
    "start_time": "2021-12-01T14:11:48.213Z"
   },
   {
    "duration": 296,
    "start_time": "2021-12-01T14:11:48.234Z"
   },
   {
    "duration": 178,
    "start_time": "2021-12-01T14:11:48.532Z"
   },
   {
    "duration": 11,
    "start_time": "2021-12-01T14:11:48.712Z"
   },
   {
    "duration": 15,
    "start_time": "2021-12-01T14:11:48.725Z"
   },
   {
    "duration": 23,
    "start_time": "2021-12-01T14:11:48.741Z"
   },
   {
    "duration": 352,
    "start_time": "2021-12-01T14:11:48.766Z"
   },
   {
    "duration": 333,
    "start_time": "2021-12-01T14:11:49.119Z"
   },
   {
    "duration": 16,
    "start_time": "2021-12-01T14:11:49.453Z"
   },
   {
    "duration": 542,
    "start_time": "2021-12-01T14:11:49.471Z"
   },
   {
    "duration": 11,
    "start_time": "2021-12-01T14:11:50.015Z"
   },
   {
    "duration": 27,
    "start_time": "2021-12-01T14:11:50.030Z"
   },
   {
    "duration": 46,
    "start_time": "2021-12-01T14:11:50.059Z"
   },
   {
    "duration": 339,
    "start_time": "2021-12-01T14:11:50.107Z"
   },
   {
    "duration": 29,
    "start_time": "2021-12-01T14:11:50.448Z"
   },
   {
    "duration": 587,
    "start_time": "2021-12-01T14:11:50.480Z"
   },
   {
    "duration": 208,
    "start_time": "2021-12-01T14:11:51.069Z"
   },
   {
    "duration": 488,
    "start_time": "2021-12-01T14:11:51.279Z"
   },
   {
    "duration": 19,
    "start_time": "2021-12-01T14:11:51.769Z"
   },
   {
    "duration": 499,
    "start_time": "2021-12-01T14:11:51.790Z"
   },
   {
    "duration": 5,
    "start_time": "2021-12-01T14:11:52.290Z"
   },
   {
    "duration": 424,
    "start_time": "2021-12-01T14:11:52.297Z"
   },
   {
    "duration": 267,
    "start_time": "2021-12-01T14:11:52.723Z"
   },
   {
    "duration": 5,
    "start_time": "2021-12-01T14:11:52.992Z"
   },
   {
    "duration": 32,
    "start_time": "2021-12-01T14:11:52.999Z"
   },
   {
    "duration": 85,
    "start_time": "2021-12-01T14:11:53.033Z"
   },
   {
    "duration": 32,
    "start_time": "2021-12-01T14:11:53.120Z"
   },
   {
    "duration": 71,
    "start_time": "2021-12-01T14:11:53.154Z"
   },
   {
    "duration": 56,
    "start_time": "2021-12-01T14:11:53.227Z"
   },
   {
    "duration": 89,
    "start_time": "2021-12-01T14:11:53.285Z"
   },
   {
    "duration": 36,
    "start_time": "2021-12-01T14:11:53.376Z"
   },
   {
    "duration": 72,
    "start_time": "2021-12-01T14:11:53.414Z"
   },
   {
    "duration": 57,
    "start_time": "2021-12-01T14:11:53.488Z"
   },
   {
    "duration": 129,
    "start_time": "2021-12-01T14:11:53.547Z"
   },
   {
    "duration": 6,
    "start_time": "2021-12-01T14:11:53.677Z"
   },
   {
    "duration": 27,
    "start_time": "2021-12-01T14:11:53.685Z"
   },
   {
    "duration": 16,
    "start_time": "2021-12-01T14:11:53.714Z"
   },
   {
    "duration": 36,
    "start_time": "2021-12-01T14:11:53.732Z"
   },
   {
    "duration": 241,
    "start_time": "2021-12-01T14:16:27.826Z"
   },
   {
    "duration": 253,
    "start_time": "2021-12-01T14:16:35.182Z"
   },
   {
    "duration": 5975,
    "start_time": "2021-12-01T14:18:57.607Z"
   },
   {
    "duration": 12,
    "start_time": "2021-12-01T14:19:08.263Z"
   },
   {
    "duration": 11,
    "start_time": "2021-12-01T14:19:24.859Z"
   },
   {
    "duration": 5,
    "start_time": "2021-12-01T14:20:11.423Z"
   },
   {
    "duration": 4,
    "start_time": "2021-12-01T14:20:12.872Z"
   },
   {
    "duration": 7,
    "start_time": "2021-12-01T14:20:22.358Z"
   },
   {
    "duration": 4,
    "start_time": "2021-12-01T14:21:40.228Z"
   },
   {
    "duration": 7,
    "start_time": "2021-12-01T14:22:07.097Z"
   },
   {
    "duration": 78,
    "start_time": "2021-12-01T14:22:10.703Z"
   },
   {
    "duration": 15,
    "start_time": "2021-12-01T14:22:14.932Z"
   },
   {
    "duration": 8,
    "start_time": "2021-12-01T14:22:20.331Z"
   },
   {
    "duration": 8,
    "start_time": "2021-12-01T14:22:26.738Z"
   },
   {
    "duration": 7046,
    "start_time": "2021-12-01T14:27:07.217Z"
   },
   {
    "duration": 9,
    "start_time": "2021-12-01T14:27:22.763Z"
   },
   {
    "duration": 9,
    "start_time": "2021-12-01T14:27:38.011Z"
   },
   {
    "duration": 5,
    "start_time": "2021-12-01T14:27:44.336Z"
   },
   {
    "duration": 8,
    "start_time": "2021-12-01T14:28:35.720Z"
   },
   {
    "duration": 9,
    "start_time": "2021-12-01T14:28:45.208Z"
   },
   {
    "duration": 13,
    "start_time": "2021-12-01T14:35:17.358Z"
   },
   {
    "duration": 14,
    "start_time": "2021-12-01T14:43:09.458Z"
   },
   {
    "duration": 19,
    "start_time": "2021-12-01T14:44:43.197Z"
   },
   {
    "duration": 11,
    "start_time": "2021-12-01T14:52:31.049Z"
   },
   {
    "duration": 11,
    "start_time": "2021-12-01T14:53:01.158Z"
   },
   {
    "duration": 256,
    "start_time": "2021-12-01T14:53:15.407Z"
   },
   {
    "duration": 12,
    "start_time": "2021-12-01T14:53:20.786Z"
   },
   {
    "duration": 13,
    "start_time": "2021-12-01T15:09:46.547Z"
   },
   {
    "duration": 12,
    "start_time": "2021-12-01T15:09:53.147Z"
   },
   {
    "duration": 1215,
    "start_time": "2021-12-01T15:27:39.947Z"
   },
   {
    "duration": 69,
    "start_time": "2021-12-01T15:27:41.164Z"
   },
   {
    "duration": 230,
    "start_time": "2021-12-01T15:27:41.235Z"
   },
   {
    "duration": 17,
    "start_time": "2021-12-01T15:27:41.468Z"
   },
   {
    "duration": 12,
    "start_time": "2021-12-01T15:27:41.488Z"
   },
   {
    "duration": 31,
    "start_time": "2021-12-01T15:27:41.503Z"
   },
   {
    "duration": 25,
    "start_time": "2021-12-01T15:27:41.537Z"
   },
   {
    "duration": 20,
    "start_time": "2021-12-01T15:27:41.565Z"
   },
   {
    "duration": 26,
    "start_time": "2021-12-01T15:27:41.588Z"
   },
   {
    "duration": 24,
    "start_time": "2021-12-01T15:27:41.616Z"
   },
   {
    "duration": 27,
    "start_time": "2021-12-01T15:27:41.642Z"
   },
   {
    "duration": 251,
    "start_time": "2021-12-01T15:27:41.671Z"
   },
   {
    "duration": 179,
    "start_time": "2021-12-01T15:27:41.924Z"
   },
   {
    "duration": 12,
    "start_time": "2021-12-01T15:27:42.105Z"
   },
   {
    "duration": 24,
    "start_time": "2021-12-01T15:27:42.119Z"
   },
   {
    "duration": 15,
    "start_time": "2021-12-01T15:27:42.145Z"
   },
   {
    "duration": 501,
    "start_time": "2021-12-01T15:27:42.162Z"
   },
   {
    "duration": 349,
    "start_time": "2021-12-01T15:27:42.665Z"
   },
   {
    "duration": 14,
    "start_time": "2021-12-01T15:27:43.015Z"
   },
   {
    "duration": 612,
    "start_time": "2021-12-01T15:27:43.031Z"
   },
   {
    "duration": 19,
    "start_time": "2021-12-01T15:27:43.645Z"
   },
   {
    "duration": 49,
    "start_time": "2021-12-01T15:27:43.666Z"
   },
   {
    "duration": 22,
    "start_time": "2021-12-01T15:27:43.719Z"
   },
   {
    "duration": 387,
    "start_time": "2021-12-01T15:27:43.744Z"
   },
   {
    "duration": 16,
    "start_time": "2021-12-01T15:27:44.132Z"
   },
   {
    "duration": 476,
    "start_time": "2021-12-01T15:27:44.150Z"
   },
   {
    "duration": 113,
    "start_time": "2021-12-01T15:27:44.628Z"
   },
   {
    "duration": 323,
    "start_time": "2021-12-01T15:27:44.743Z"
   },
   {
    "duration": 14,
    "start_time": "2021-12-01T15:27:45.068Z"
   },
   {
    "duration": 495,
    "start_time": "2021-12-01T15:27:45.084Z"
   },
   {
    "duration": 5,
    "start_time": "2021-12-01T15:27:45.581Z"
   },
   {
    "duration": 424,
    "start_time": "2021-12-01T15:27:45.588Z"
   },
   {
    "duration": 275,
    "start_time": "2021-12-01T15:27:46.014Z"
   },
   {
    "duration": 5,
    "start_time": "2021-12-01T15:27:46.291Z"
   },
   {
    "duration": 88,
    "start_time": "2021-12-01T15:27:46.298Z"
   },
   {
    "duration": 102,
    "start_time": "2021-12-01T15:27:46.389Z"
   },
   {
    "duration": 23,
    "start_time": "2021-12-01T15:27:46.493Z"
   },
   {
    "duration": 100,
    "start_time": "2021-12-01T15:27:46.518Z"
   },
   {
    "duration": 43,
    "start_time": "2021-12-01T15:27:46.620Z"
   },
   {
    "duration": 118,
    "start_time": "2021-12-01T15:27:46.666Z"
   },
   {
    "duration": 24,
    "start_time": "2021-12-01T15:27:46.786Z"
   },
   {
    "duration": 90,
    "start_time": "2021-12-01T15:27:46.812Z"
   },
   {
    "duration": 43,
    "start_time": "2021-12-01T15:27:46.904Z"
   },
   {
    "duration": 138,
    "start_time": "2021-12-01T15:27:46.949Z"
   },
   {
    "duration": 8,
    "start_time": "2021-12-01T15:27:47.089Z"
   },
   {
    "duration": 13,
    "start_time": "2021-12-01T15:27:47.099Z"
   },
   {
    "duration": 5,
    "start_time": "2021-12-01T15:27:47.114Z"
   },
   {
    "duration": 15,
    "start_time": "2021-12-01T15:27:47.121Z"
   },
   {
    "duration": 35,
    "start_time": "2021-12-01T15:27:47.138Z"
   },
   {
    "duration": 39,
    "start_time": "2021-12-01T15:27:47.175Z"
   },
   {
    "duration": 16,
    "start_time": "2021-12-01T15:27:47.216Z"
   },
   {
    "duration": 37,
    "start_time": "2021-12-01T15:27:47.234Z"
   },
   {
    "duration": 11,
    "start_time": "2021-12-01T15:27:47.273Z"
   },
   {
    "duration": 15,
    "start_time": "2021-12-01T15:27:47.286Z"
   },
   {
    "duration": 251,
    "start_time": "2021-12-01T15:49:21.912Z"
   },
   {
    "duration": 4,
    "start_time": "2021-12-01T16:01:02.219Z"
   },
   {
    "duration": 177,
    "start_time": "2021-12-01T16:01:02.228Z"
   },
   {
    "duration": 194,
    "start_time": "2021-12-01T16:01:02.408Z"
   },
   {
    "duration": 15,
    "start_time": "2021-12-01T16:01:02.605Z"
   },
   {
    "duration": 57,
    "start_time": "2021-12-01T16:01:02.622Z"
   },
   {
    "duration": 76,
    "start_time": "2021-12-01T16:01:02.681Z"
   },
   {
    "duration": 66,
    "start_time": "2021-12-01T16:01:02.758Z"
   },
   {
    "duration": 59,
    "start_time": "2021-12-01T16:01:02.826Z"
   },
   {
    "duration": 50,
    "start_time": "2021-12-01T16:01:02.887Z"
   },
   {
    "duration": 72,
    "start_time": "2021-12-01T16:01:02.939Z"
   },
   {
    "duration": 54,
    "start_time": "2021-12-01T16:01:03.013Z"
   },
   {
    "duration": 259,
    "start_time": "2021-12-01T16:01:03.069Z"
   },
   {
    "duration": 178,
    "start_time": "2021-12-01T16:01:03.330Z"
   },
   {
    "duration": 14,
    "start_time": "2021-12-01T16:01:03.509Z"
   },
   {
    "duration": 43,
    "start_time": "2021-12-01T16:01:03.525Z"
   },
   {
    "duration": 36,
    "start_time": "2021-12-01T16:01:03.570Z"
   },
   {
    "duration": 414,
    "start_time": "2021-12-01T16:01:03.607Z"
   },
   {
    "duration": 515,
    "start_time": "2021-12-01T16:01:04.023Z"
   },
   {
    "duration": 13,
    "start_time": "2021-12-01T16:01:04.540Z"
   },
   {
    "duration": 525,
    "start_time": "2021-12-01T16:01:04.564Z"
   },
   {
    "duration": 12,
    "start_time": "2021-12-01T16:01:05.091Z"
   },
   {
    "duration": 95,
    "start_time": "2021-12-01T16:01:05.105Z"
   },
   {
    "duration": 84,
    "start_time": "2021-12-01T16:01:05.202Z"
   },
   {
    "duration": 460,
    "start_time": "2021-12-01T16:01:05.289Z"
   },
   {
    "duration": 24,
    "start_time": "2021-12-01T16:01:05.752Z"
   },
   {
    "duration": 502,
    "start_time": "2021-12-01T16:01:05.778Z"
   },
   {
    "duration": 124,
    "start_time": "2021-12-01T16:01:06.282Z"
   },
   {
    "duration": 405,
    "start_time": "2021-12-01T16:01:06.408Z"
   },
   {
    "duration": 14,
    "start_time": "2021-12-01T16:01:06.816Z"
   },
   {
    "duration": 617,
    "start_time": "2021-12-01T16:01:06.832Z"
   },
   {
    "duration": 12,
    "start_time": "2021-12-01T16:01:07.451Z"
   },
   {
    "duration": 514,
    "start_time": "2021-12-01T16:01:07.465Z"
   },
   {
    "duration": 255,
    "start_time": "2021-12-01T16:01:07.981Z"
   },
   {
    "duration": 6,
    "start_time": "2021-12-01T16:01:08.237Z"
   },
   {
    "duration": 26,
    "start_time": "2021-12-01T16:01:08.244Z"
   },
   {
    "duration": 63,
    "start_time": "2021-12-01T16:01:08.272Z"
   },
   {
    "duration": 38,
    "start_time": "2021-12-01T16:01:08.337Z"
   },
   {
    "duration": 72,
    "start_time": "2021-12-01T16:01:08.378Z"
   },
   {
    "duration": 21,
    "start_time": "2021-12-01T16:01:08.464Z"
   },
   {
    "duration": 87,
    "start_time": "2021-12-01T16:01:08.487Z"
   },
   {
    "duration": 30,
    "start_time": "2021-12-01T16:01:08.576Z"
   },
   {
    "duration": 85,
    "start_time": "2021-12-01T16:01:08.608Z"
   },
   {
    "duration": 32,
    "start_time": "2021-12-01T16:01:08.695Z"
   },
   {
    "duration": 134,
    "start_time": "2021-12-01T16:01:08.729Z"
   },
   {
    "duration": 7,
    "start_time": "2021-12-01T16:01:08.865Z"
   },
   {
    "duration": 19,
    "start_time": "2021-12-01T16:01:08.873Z"
   },
   {
    "duration": 5,
    "start_time": "2021-12-01T16:01:08.894Z"
   },
   {
    "duration": 17,
    "start_time": "2021-12-01T16:01:08.901Z"
   },
   {
    "duration": 24,
    "start_time": "2021-12-01T16:01:08.920Z"
   },
   {
    "duration": 27,
    "start_time": "2021-12-01T16:01:08.946Z"
   },
   {
    "duration": 4,
    "start_time": "2021-12-01T16:01:08.975Z"
   },
   {
    "duration": 21,
    "start_time": "2021-12-01T16:01:08.980Z"
   },
   {
    "duration": 22,
    "start_time": "2021-12-01T16:01:09.003Z"
   },
   {
    "duration": 34,
    "start_time": "2021-12-01T16:01:09.027Z"
   },
   {
    "duration": 5,
    "start_time": "2021-12-01T16:45:27.805Z"
   },
   {
    "duration": 1236,
    "start_time": "2021-12-01T16:59:27.811Z"
   },
   {
    "duration": 69,
    "start_time": "2021-12-01T16:59:29.049Z"
   },
   {
    "duration": 148,
    "start_time": "2021-12-01T16:59:29.120Z"
   },
   {
    "duration": 16,
    "start_time": "2021-12-01T16:59:29.271Z"
   },
   {
    "duration": 8,
    "start_time": "2021-12-01T16:59:29.289Z"
   },
   {
    "duration": 9,
    "start_time": "2021-12-01T16:59:29.299Z"
   },
   {
    "duration": 7,
    "start_time": "2021-12-01T16:59:29.311Z"
   },
   {
    "duration": 43,
    "start_time": "2021-12-01T16:59:29.321Z"
   },
   {
    "duration": 11,
    "start_time": "2021-12-01T16:59:29.367Z"
   },
   {
    "duration": 15,
    "start_time": "2021-12-01T16:59:29.379Z"
   },
   {
    "duration": 10,
    "start_time": "2021-12-01T16:59:29.396Z"
   },
   {
    "duration": 244,
    "start_time": "2021-12-01T16:59:29.408Z"
   },
   {
    "duration": 170,
    "start_time": "2021-12-01T16:59:29.653Z"
   },
   {
    "duration": 13,
    "start_time": "2021-12-01T16:59:29.825Z"
   },
   {
    "duration": 26,
    "start_time": "2021-12-01T16:59:29.840Z"
   },
   {
    "duration": 6,
    "start_time": "2021-12-01T16:59:29.867Z"
   },
   {
    "duration": 370,
    "start_time": "2021-12-01T16:59:29.875Z"
   },
   {
    "duration": 380,
    "start_time": "2021-12-01T16:59:30.248Z"
   },
   {
    "duration": 14,
    "start_time": "2021-12-01T16:59:30.630Z"
   },
   {
    "duration": 513,
    "start_time": "2021-12-01T16:59:30.646Z"
   },
   {
    "duration": 13,
    "start_time": "2021-12-01T16:59:31.163Z"
   },
   {
    "duration": 14,
    "start_time": "2021-12-01T16:59:31.178Z"
   },
   {
    "duration": 26,
    "start_time": "2021-12-01T16:59:31.196Z"
   },
   {
    "duration": 401,
    "start_time": "2021-12-01T16:59:31.225Z"
   },
   {
    "duration": 19,
    "start_time": "2021-12-01T16:59:31.629Z"
   },
   {
    "duration": 473,
    "start_time": "2021-12-01T16:59:31.664Z"
   },
   {
    "duration": 125,
    "start_time": "2021-12-01T16:59:32.139Z"
   },
   {
    "duration": 324,
    "start_time": "2021-12-01T16:59:32.267Z"
   },
   {
    "duration": 13,
    "start_time": "2021-12-01T16:59:32.592Z"
   },
   {
    "duration": 506,
    "start_time": "2021-12-01T16:59:32.606Z"
   },
   {
    "duration": 5,
    "start_time": "2021-12-01T16:59:33.115Z"
   },
   {
    "duration": 456,
    "start_time": "2021-12-01T16:59:33.121Z"
   },
   {
    "duration": 258,
    "start_time": "2021-12-01T16:59:33.579Z"
   },
   {
    "duration": 5,
    "start_time": "2021-12-01T16:59:33.839Z"
   },
   {
    "duration": 20,
    "start_time": "2021-12-01T16:59:33.846Z"
   },
   {
    "duration": 71,
    "start_time": "2021-12-01T16:59:33.868Z"
   },
   {
    "duration": 28,
    "start_time": "2021-12-01T16:59:33.941Z"
   },
   {
    "duration": 66,
    "start_time": "2021-12-01T16:59:33.971Z"
   },
   {
    "duration": 35,
    "start_time": "2021-12-01T16:59:34.039Z"
   },
   {
    "duration": 68,
    "start_time": "2021-12-01T16:59:34.076Z"
   },
   {
    "duration": 34,
    "start_time": "2021-12-01T16:59:34.146Z"
   },
   {
    "duration": 86,
    "start_time": "2021-12-01T16:59:34.182Z"
   },
   {
    "duration": 40,
    "start_time": "2021-12-01T16:59:34.270Z"
   },
   {
    "duration": 130,
    "start_time": "2021-12-01T16:59:34.311Z"
   },
   {
    "duration": 6,
    "start_time": "2021-12-01T16:59:34.443Z"
   },
   {
    "duration": 8,
    "start_time": "2021-12-01T16:59:34.462Z"
   },
   {
    "duration": 4,
    "start_time": "2021-12-01T16:59:34.472Z"
   },
   {
    "duration": 11,
    "start_time": "2021-12-01T16:59:34.478Z"
   },
   {
    "duration": 8,
    "start_time": "2021-12-01T16:59:34.490Z"
   },
   {
    "duration": 10,
    "start_time": "2021-12-01T16:59:34.500Z"
   },
   {
    "duration": 7,
    "start_time": "2021-12-01T16:59:34.512Z"
   },
   {
    "duration": 43,
    "start_time": "2021-12-01T16:59:34.521Z"
   },
   {
    "duration": 6,
    "start_time": "2021-12-01T16:59:34.566Z"
   },
   {
    "duration": 4,
    "start_time": "2021-12-01T16:59:34.574Z"
   },
   {
    "duration": 17,
    "start_time": "2021-12-01T16:59:34.580Z"
   },
   {
    "duration": 1138,
    "start_time": "2021-12-01T18:22:31.455Z"
   },
   {
    "duration": 70,
    "start_time": "2021-12-01T18:22:32.595Z"
   },
   {
    "duration": 185,
    "start_time": "2021-12-01T18:22:32.667Z"
   },
   {
    "duration": 16,
    "start_time": "2021-12-01T18:22:32.854Z"
   },
   {
    "duration": 23,
    "start_time": "2021-12-01T18:22:32.871Z"
   },
   {
    "duration": 33,
    "start_time": "2021-12-01T18:22:32.895Z"
   },
   {
    "duration": 19,
    "start_time": "2021-12-01T18:22:32.930Z"
   },
   {
    "duration": 33,
    "start_time": "2021-12-01T18:22:32.952Z"
   },
   {
    "duration": 20,
    "start_time": "2021-12-01T18:22:32.987Z"
   },
   {
    "duration": 20,
    "start_time": "2021-12-01T18:22:33.009Z"
   },
   {
    "duration": 24,
    "start_time": "2021-12-01T18:22:33.031Z"
   },
   {
    "duration": 209,
    "start_time": "2021-12-01T18:22:33.056Z"
   },
   {
    "duration": 164,
    "start_time": "2021-12-01T18:22:33.266Z"
   },
   {
    "duration": 13,
    "start_time": "2021-12-01T18:22:33.445Z"
   },
   {
    "duration": 13,
    "start_time": "2021-12-01T18:22:33.459Z"
   },
   {
    "duration": 19,
    "start_time": "2021-12-01T18:22:33.474Z"
   },
   {
    "duration": 336,
    "start_time": "2021-12-01T18:22:33.495Z"
   },
   {
    "duration": 334,
    "start_time": "2021-12-01T18:22:33.833Z"
   },
   {
    "duration": 11,
    "start_time": "2021-12-01T18:22:34.169Z"
   },
   {
    "duration": 505,
    "start_time": "2021-12-01T18:22:34.181Z"
   },
   {
    "duration": 11,
    "start_time": "2021-12-01T18:22:34.688Z"
   },
   {
    "duration": 10,
    "start_time": "2021-12-01T18:22:34.701Z"
   },
   {
    "duration": 35,
    "start_time": "2021-12-01T18:22:34.715Z"
   },
   {
    "duration": 336,
    "start_time": "2021-12-01T18:22:34.752Z"
   },
   {
    "duration": 13,
    "start_time": "2021-12-01T18:22:35.090Z"
   },
   {
    "duration": 467,
    "start_time": "2021-12-01T18:22:35.104Z"
   },
   {
    "duration": 132,
    "start_time": "2021-12-01T18:22:35.573Z"
   },
   {
    "duration": 316,
    "start_time": "2021-12-01T18:22:35.707Z"
   },
   {
    "duration": 21,
    "start_time": "2021-12-01T18:22:36.024Z"
   },
   {
    "duration": 501,
    "start_time": "2021-12-01T18:22:36.047Z"
   },
   {
    "duration": 5,
    "start_time": "2021-12-01T18:22:36.549Z"
   },
   {
    "duration": 416,
    "start_time": "2021-12-01T18:22:36.555Z"
   },
   {
    "duration": 249,
    "start_time": "2021-12-01T18:22:36.972Z"
   },
   {
    "duration": 4,
    "start_time": "2021-12-01T18:22:37.223Z"
   },
   {
    "duration": 21,
    "start_time": "2021-12-01T18:22:37.229Z"
   },
   {
    "duration": 59,
    "start_time": "2021-12-01T18:22:37.252Z"
   },
   {
    "duration": 9,
    "start_time": "2021-12-01T18:22:37.312Z"
   },
   {
    "duration": 58,
    "start_time": "2021-12-01T18:22:37.345Z"
   },
   {
    "duration": 20,
    "start_time": "2021-12-01T18:22:37.404Z"
   },
   {
    "duration": 65,
    "start_time": "2021-12-01T18:22:37.445Z"
   },
   {
    "duration": 34,
    "start_time": "2021-12-01T18:22:37.512Z"
   },
   {
    "duration": 63,
    "start_time": "2021-12-01T18:22:37.548Z"
   },
   {
    "duration": 54,
    "start_time": "2021-12-01T18:22:37.613Z"
   },
   {
    "duration": 130,
    "start_time": "2021-12-01T18:22:37.669Z"
   },
   {
    "duration": 7,
    "start_time": "2021-12-01T18:22:37.800Z"
   },
   {
    "duration": 8,
    "start_time": "2021-12-01T18:22:37.809Z"
   },
   {
    "duration": 4,
    "start_time": "2021-12-01T18:22:37.818Z"
   },
   {
    "duration": 28,
    "start_time": "2021-12-01T18:22:37.824Z"
   },
   {
    "duration": 7,
    "start_time": "2021-12-01T18:22:37.854Z"
   },
   {
    "duration": 11,
    "start_time": "2021-12-01T18:22:37.863Z"
   },
   {
    "duration": 5,
    "start_time": "2021-12-01T18:22:37.875Z"
   },
   {
    "duration": 8,
    "start_time": "2021-12-01T18:22:37.881Z"
   },
   {
    "duration": 5,
    "start_time": "2021-12-01T18:22:37.891Z"
   },
   {
    "duration": 21,
    "start_time": "2021-12-01T18:22:37.897Z"
   },
   {
    "duration": 41,
    "start_time": "2021-12-01T18:22:37.919Z"
   },
   {
    "duration": 357,
    "start_time": "2021-12-02T13:58:47.049Z"
   },
   {
    "duration": 1649,
    "start_time": "2021-12-02T13:59:04.666Z"
   },
   {
    "duration": 107,
    "start_time": "2021-12-02T13:59:06.319Z"
   },
   {
    "duration": 281,
    "start_time": "2021-12-02T13:59:06.430Z"
   },
   {
    "duration": 61,
    "start_time": "2021-12-02T13:59:06.714Z"
   },
   {
    "duration": 4,
    "start_time": "2021-12-02T13:59:06.778Z"
   },
   {
    "duration": 18,
    "start_time": "2021-12-02T13:59:06.785Z"
   },
   {
    "duration": 19,
    "start_time": "2021-12-02T13:59:06.806Z"
   },
   {
    "duration": 46,
    "start_time": "2021-12-02T13:59:06.827Z"
   },
   {
    "duration": 9,
    "start_time": "2021-12-02T13:59:06.880Z"
   },
   {
    "duration": 6,
    "start_time": "2021-12-02T13:59:06.895Z"
   },
   {
    "duration": 25,
    "start_time": "2021-12-02T13:59:06.903Z"
   },
   {
    "duration": 51,
    "start_time": "2021-12-02T13:59:06.931Z"
   },
   {
    "duration": 17,
    "start_time": "2021-12-02T13:59:06.984Z"
   },
   {
    "duration": 397,
    "start_time": "2021-12-02T13:59:07.004Z"
   },
   {
    "duration": 305,
    "start_time": "2021-12-02T13:59:07.404Z"
   },
   {
    "duration": 19,
    "start_time": "2021-12-02T13:59:07.712Z"
   },
   {
    "duration": 8,
    "start_time": "2021-12-02T13:59:07.733Z"
   },
   {
    "duration": 29,
    "start_time": "2021-12-02T13:59:07.743Z"
   },
   {
    "duration": 625,
    "start_time": "2021-12-02T13:59:07.775Z"
   },
   {
    "duration": 595,
    "start_time": "2021-12-02T13:59:08.403Z"
   },
   {
    "duration": 19,
    "start_time": "2021-12-02T13:59:09.000Z"
   },
   {
    "duration": 687,
    "start_time": "2021-12-02T13:59:09.022Z"
   },
   {
    "duration": 17,
    "start_time": "2021-12-02T13:59:09.712Z"
   },
   {
    "duration": 40,
    "start_time": "2021-12-02T13:59:09.732Z"
   },
   {
    "duration": 15,
    "start_time": "2021-12-02T13:59:09.775Z"
   },
   {
    "duration": 581,
    "start_time": "2021-12-02T13:59:09.793Z"
   },
   {
    "duration": 24,
    "start_time": "2021-12-02T13:59:10.380Z"
   },
   {
    "duration": 722,
    "start_time": "2021-12-02T13:59:10.408Z"
   },
   {
    "duration": 263,
    "start_time": "2021-12-02T13:59:11.134Z"
   },
   {
    "duration": 573,
    "start_time": "2021-12-02T13:59:11.400Z"
   },
   {
    "duration": 22,
    "start_time": "2021-12-02T13:59:11.976Z"
   },
   {
    "duration": 669,
    "start_time": "2021-12-02T13:59:12.000Z"
   },
   {
    "duration": 7,
    "start_time": "2021-12-02T13:59:12.671Z"
   },
   {
    "duration": 613,
    "start_time": "2021-12-02T13:59:12.681Z"
   },
   {
    "duration": 443,
    "start_time": "2021-12-02T13:59:13.297Z"
   },
   {
    "duration": 7,
    "start_time": "2021-12-02T13:59:13.743Z"
   },
   {
    "duration": 14,
    "start_time": "2021-12-02T13:59:13.768Z"
   },
   {
    "duration": 120,
    "start_time": "2021-12-02T13:59:13.785Z"
   },
   {
    "duration": 16,
    "start_time": "2021-12-02T13:59:13.909Z"
   },
   {
    "duration": 138,
    "start_time": "2021-12-02T13:59:13.929Z"
   },
   {
    "duration": 33,
    "start_time": "2021-12-02T13:59:14.070Z"
   },
   {
    "duration": 135,
    "start_time": "2021-12-02T13:59:14.105Z"
   },
   {
    "duration": 50,
    "start_time": "2021-12-02T13:59:14.243Z"
   },
   {
    "duration": 130,
    "start_time": "2021-12-02T13:59:14.295Z"
   },
   {
    "duration": 78,
    "start_time": "2021-12-02T13:59:14.428Z"
   },
   {
    "duration": 235,
    "start_time": "2021-12-02T13:59:14.508Z"
   },
   {
    "duration": 8,
    "start_time": "2021-12-02T13:59:14.746Z"
   },
   {
    "duration": 10,
    "start_time": "2021-12-02T13:59:14.768Z"
   },
   {
    "duration": 7,
    "start_time": "2021-12-02T13:59:14.781Z"
   },
   {
    "duration": 16,
    "start_time": "2021-12-02T13:59:14.791Z"
   },
   {
    "duration": 11,
    "start_time": "2021-12-02T13:59:14.809Z"
   },
   {
    "duration": 52,
    "start_time": "2021-12-02T13:59:14.823Z"
   },
   {
    "duration": 6,
    "start_time": "2021-12-02T13:59:14.879Z"
   },
   {
    "duration": 14,
    "start_time": "2021-12-02T13:59:14.888Z"
   },
   {
    "duration": 11,
    "start_time": "2021-12-02T13:59:14.905Z"
   },
   {
    "duration": 48,
    "start_time": "2021-12-02T13:59:14.919Z"
   },
   {
    "duration": 23,
    "start_time": "2021-12-02T13:59:14.970Z"
   },
   {
    "duration": 17,
    "start_time": "2021-12-02T14:00:44.517Z"
   },
   {
    "duration": 14,
    "start_time": "2021-12-02T14:01:29.128Z"
   },
   {
    "duration": 22,
    "start_time": "2021-12-02T14:02:31.592Z"
   },
   {
    "duration": 15,
    "start_time": "2021-12-02T14:02:42.047Z"
   },
   {
    "duration": 21,
    "start_time": "2021-12-02T14:04:06.483Z"
   },
   {
    "duration": 422,
    "start_time": "2021-12-02T14:04:42.198Z"
   },
   {
    "duration": 7,
    "start_time": "2021-12-02T14:04:50.901Z"
   },
   {
    "duration": 84,
    "start_time": "2021-12-02T14:04:50.914Z"
   },
   {
    "duration": 327,
    "start_time": "2021-12-02T14:04:51.001Z"
   },
   {
    "duration": 58,
    "start_time": "2021-12-02T14:04:51.332Z"
   },
   {
    "duration": 25,
    "start_time": "2021-12-02T14:04:51.393Z"
   },
   {
    "duration": 27,
    "start_time": "2021-12-02T14:04:51.421Z"
   },
   {
    "duration": 12,
    "start_time": "2021-12-02T14:04:51.467Z"
   },
   {
    "duration": 19,
    "start_time": "2021-12-02T14:04:51.482Z"
   },
   {
    "duration": 9,
    "start_time": "2021-12-02T14:04:51.506Z"
   },
   {
    "duration": 51,
    "start_time": "2021-12-02T14:04:51.518Z"
   },
   {
    "duration": 18,
    "start_time": "2021-12-02T14:04:51.571Z"
   },
   {
    "duration": 42,
    "start_time": "2021-12-02T14:04:51.594Z"
   },
   {
    "duration": 24,
    "start_time": "2021-12-02T14:04:51.667Z"
   },
   {
    "duration": 418,
    "start_time": "2021-12-02T14:04:51.694Z"
   },
   {
    "duration": 313,
    "start_time": "2021-12-02T14:04:52.114Z"
   },
   {
    "duration": 20,
    "start_time": "2021-12-02T14:04:52.429Z"
   },
   {
    "duration": 36,
    "start_time": "2021-12-02T14:04:52.467Z"
   },
   {
    "duration": 11,
    "start_time": "2021-12-02T14:04:52.506Z"
   },
   {
    "duration": 727,
    "start_time": "2021-12-02T14:04:52.519Z"
   },
   {
    "duration": 686,
    "start_time": "2021-12-02T14:04:53.249Z"
   },
   {
    "duration": 30,
    "start_time": "2021-12-02T14:04:53.938Z"
   },
   {
    "duration": 794,
    "start_time": "2021-12-02T14:04:53.971Z"
   },
   {
    "duration": 45,
    "start_time": "2021-12-02T14:04:54.771Z"
   },
   {
    "duration": 39,
    "start_time": "2021-12-02T14:04:54.838Z"
   },
   {
    "duration": 21,
    "start_time": "2021-12-02T14:04:54.882Z"
   },
   {
    "duration": 768,
    "start_time": "2021-12-02T14:04:54.906Z"
   },
   {
    "duration": 30,
    "start_time": "2021-12-02T14:04:55.677Z"
   },
   {
    "duration": 1092,
    "start_time": "2021-12-02T14:04:55.709Z"
   },
   {
    "duration": 201,
    "start_time": "2021-12-02T14:04:56.803Z"
   },
   {
    "duration": 690,
    "start_time": "2021-12-02T14:04:57.007Z"
   },
   {
    "duration": 20,
    "start_time": "2021-12-02T14:04:57.699Z"
   },
   {
    "duration": 824,
    "start_time": "2021-12-02T14:04:57.722Z"
   },
   {
    "duration": 19,
    "start_time": "2021-12-02T14:04:58.548Z"
   },
   {
    "duration": 868,
    "start_time": "2021-12-02T14:04:58.570Z"
   },
   {
    "duration": 454,
    "start_time": "2021-12-02T14:04:59.440Z"
   },
   {
    "duration": 8,
    "start_time": "2021-12-02T14:04:59.896Z"
   },
   {
    "duration": 19,
    "start_time": "2021-12-02T14:04:59.906Z"
   },
   {
    "duration": 128,
    "start_time": "2021-12-02T14:04:59.928Z"
   },
   {
    "duration": 14,
    "start_time": "2021-12-02T14:05:00.067Z"
   },
   {
    "duration": 126,
    "start_time": "2021-12-02T14:05:00.084Z"
   },
   {
    "duration": 39,
    "start_time": "2021-12-02T14:05:00.212Z"
   },
   {
    "duration": 136,
    "start_time": "2021-12-02T14:05:00.268Z"
   },
   {
    "duration": 38,
    "start_time": "2021-12-02T14:05:00.407Z"
   },
   {
    "duration": 126,
    "start_time": "2021-12-02T14:05:00.468Z"
   },
   {
    "duration": 77,
    "start_time": "2021-12-02T14:05:00.597Z"
   },
   {
    "duration": 241,
    "start_time": "2021-12-02T14:05:00.676Z"
   },
   {
    "duration": 8,
    "start_time": "2021-12-02T14:05:00.921Z"
   },
   {
    "duration": 25,
    "start_time": "2021-12-02T14:05:00.931Z"
   },
   {
    "duration": 17,
    "start_time": "2021-12-02T14:05:00.958Z"
   },
   {
    "duration": 26,
    "start_time": "2021-12-02T14:05:00.978Z"
   },
   {
    "duration": 13,
    "start_time": "2021-12-02T14:05:01.007Z"
   },
   {
    "duration": 27,
    "start_time": "2021-12-02T14:05:01.023Z"
   },
   {
    "duration": 13,
    "start_time": "2021-12-02T14:05:01.066Z"
   },
   {
    "duration": 28,
    "start_time": "2021-12-02T14:05:01.082Z"
   },
   {
    "duration": 16,
    "start_time": "2021-12-02T14:05:01.112Z"
   },
   {
    "duration": 6,
    "start_time": "2021-12-02T14:05:01.130Z"
   },
   {
    "duration": 41,
    "start_time": "2021-12-02T14:05:01.139Z"
   },
   {
    "duration": 281,
    "start_time": "2021-12-02T14:06:29.533Z"
   },
   {
    "duration": 5,
    "start_time": "2021-12-02T14:06:32.469Z"
   },
   {
    "duration": 63,
    "start_time": "2021-12-02T14:06:32.479Z"
   },
   {
    "duration": 333,
    "start_time": "2021-12-02T14:06:32.545Z"
   },
   {
    "duration": 19,
    "start_time": "2021-12-02T14:06:32.881Z"
   },
   {
    "duration": 14,
    "start_time": "2021-12-02T14:06:32.903Z"
   },
   {
    "duration": 62,
    "start_time": "2021-12-02T14:06:32.920Z"
   },
   {
    "duration": 16,
    "start_time": "2021-12-02T14:06:32.986Z"
   },
   {
    "duration": 18,
    "start_time": "2021-12-02T14:06:33.005Z"
   },
   {
    "duration": 12,
    "start_time": "2021-12-02T14:06:33.025Z"
   },
   {
    "duration": 10,
    "start_time": "2021-12-02T14:06:33.068Z"
   },
   {
    "duration": 19,
    "start_time": "2021-12-02T14:06:33.081Z"
   },
   {
    "duration": 26,
    "start_time": "2021-12-02T14:06:33.102Z"
   },
   {
    "duration": 52,
    "start_time": "2021-12-02T14:06:33.131Z"
   },
   {
    "duration": 458,
    "start_time": "2021-12-02T14:06:33.186Z"
   },
   {
    "duration": 320,
    "start_time": "2021-12-02T14:06:33.647Z"
   },
   {
    "duration": 22,
    "start_time": "2021-12-02T14:06:33.969Z"
   },
   {
    "duration": 20,
    "start_time": "2021-12-02T14:06:33.994Z"
   },
   {
    "duration": 7,
    "start_time": "2021-12-02T14:06:34.017Z"
   },
   {
    "duration": 728,
    "start_time": "2021-12-02T14:06:34.029Z"
   },
   {
    "duration": 718,
    "start_time": "2021-12-02T14:06:34.769Z"
   },
   {
    "duration": 21,
    "start_time": "2021-12-02T14:06:35.491Z"
   },
   {
    "duration": 892,
    "start_time": "2021-12-02T14:06:35.514Z"
   },
   {
    "duration": 19,
    "start_time": "2021-12-02T14:06:36.409Z"
   },
   {
    "duration": 38,
    "start_time": "2021-12-02T14:06:36.431Z"
   },
   {
    "duration": 19,
    "start_time": "2021-12-02T14:06:36.471Z"
   },
   {
    "duration": 750,
    "start_time": "2021-12-02T14:06:36.493Z"
   },
   {
    "duration": 34,
    "start_time": "2021-12-02T14:06:37.246Z"
   },
   {
    "duration": 789,
    "start_time": "2021-12-02T14:06:37.283Z"
   },
   {
    "duration": 314,
    "start_time": "2021-12-02T14:06:38.075Z"
   },
   {
    "duration": 772,
    "start_time": "2021-12-02T14:06:38.395Z"
   },
   {
    "duration": 22,
    "start_time": "2021-12-02T14:06:39.170Z"
   },
   {
    "duration": 743,
    "start_time": "2021-12-02T14:06:39.195Z"
   },
   {
    "duration": 8,
    "start_time": "2021-12-02T14:06:39.941Z"
   },
   {
    "duration": 775,
    "start_time": "2021-12-02T14:06:39.968Z"
   },
   {
    "duration": 535,
    "start_time": "2021-12-02T14:06:40.747Z"
   },
   {
    "duration": 6,
    "start_time": "2021-12-02T14:06:41.286Z"
   },
   {
    "duration": 23,
    "start_time": "2021-12-02T14:06:41.295Z"
   },
   {
    "duration": 127,
    "start_time": "2021-12-02T14:06:41.320Z"
   },
   {
    "duration": 26,
    "start_time": "2021-12-02T14:06:41.449Z"
   },
   {
    "duration": 135,
    "start_time": "2021-12-02T14:06:41.478Z"
   },
   {
    "duration": 51,
    "start_time": "2021-12-02T14:06:41.615Z"
   },
   {
    "duration": 154,
    "start_time": "2021-12-02T14:06:41.670Z"
   },
   {
    "duration": 47,
    "start_time": "2021-12-02T14:06:41.827Z"
   },
   {
    "duration": 128,
    "start_time": "2021-12-02T14:06:41.876Z"
   },
   {
    "duration": 88,
    "start_time": "2021-12-02T14:06:42.007Z"
   },
   {
    "duration": 222,
    "start_time": "2021-12-02T14:06:42.097Z"
   },
   {
    "duration": 8,
    "start_time": "2021-12-02T14:06:42.322Z"
   },
   {
    "duration": 10,
    "start_time": "2021-12-02T14:06:42.333Z"
   },
   {
    "duration": 27,
    "start_time": "2021-12-02T14:06:42.345Z"
   },
   {
    "duration": 15,
    "start_time": "2021-12-02T14:06:42.375Z"
   },
   {
    "duration": 14,
    "start_time": "2021-12-02T14:06:42.393Z"
   },
   {
    "duration": 13,
    "start_time": "2021-12-02T14:06:42.410Z"
   },
   {
    "duration": 6,
    "start_time": "2021-12-02T14:06:42.468Z"
   },
   {
    "duration": 12,
    "start_time": "2021-12-02T14:06:42.477Z"
   },
   {
    "duration": 8,
    "start_time": "2021-12-02T14:06:42.497Z"
   },
   {
    "duration": 8,
    "start_time": "2021-12-02T14:06:42.508Z"
   },
   {
    "duration": 73,
    "start_time": "2021-12-02T14:06:42.518Z"
   },
   {
    "duration": 5,
    "start_time": "2021-12-02T14:07:55.599Z"
   },
   {
    "duration": 63,
    "start_time": "2021-12-02T14:07:55.620Z"
   },
   {
    "duration": 321,
    "start_time": "2021-12-02T14:07:55.686Z"
   },
   {
    "duration": 57,
    "start_time": "2021-12-02T14:07:56.011Z"
   },
   {
    "duration": 18,
    "start_time": "2021-12-02T14:07:56.071Z"
   },
   {
    "duration": 20,
    "start_time": "2021-12-02T14:07:56.092Z"
   },
   {
    "duration": 20,
    "start_time": "2021-12-02T14:09:00.572Z"
   },
   {
    "duration": 14,
    "start_time": "2021-12-02T14:09:35.610Z"
   },
   {
    "duration": 305,
    "start_time": "2021-12-02T14:09:45.200Z"
   },
   {
    "duration": 5,
    "start_time": "2021-12-02T14:09:54.216Z"
   },
   {
    "duration": 63,
    "start_time": "2021-12-02T14:09:54.227Z"
   },
   {
    "duration": 284,
    "start_time": "2021-12-02T14:09:54.294Z"
   },
   {
    "duration": 304,
    "start_time": "2021-12-02T14:09:54.582Z"
   },
   {
    "duration": 5,
    "start_time": "2021-12-02T14:10:04.949Z"
   },
   {
    "duration": 63,
    "start_time": "2021-12-02T14:10:04.960Z"
   },
   {
    "duration": 255,
    "start_time": "2021-12-02T14:10:05.026Z"
   },
   {
    "duration": 13,
    "start_time": "2021-12-02T14:10:05.284Z"
   },
   {
    "duration": 15,
    "start_time": "2021-12-02T14:10:22.574Z"
   },
   {
    "duration": 12,
    "start_time": "2021-12-02T14:10:48.832Z"
   },
   {
    "duration": 16,
    "start_time": "2021-12-02T14:11:04.911Z"
   },
   {
    "duration": 295,
    "start_time": "2021-12-02T14:11:37.792Z"
   },
   {
    "duration": 12,
    "start_time": "2021-12-02T14:12:08.509Z"
   },
   {
    "duration": 18,
    "start_time": "2021-12-02T14:12:13.564Z"
   },
   {
    "duration": 1168,
    "start_time": "2021-12-02T14:13:05.656Z"
   },
   {
    "duration": 20,
    "start_time": "2021-12-02T14:13:16.936Z"
   },
   {
    "duration": 1164,
    "start_time": "2021-12-02T14:14:09.573Z"
   },
   {
    "duration": 13,
    "start_time": "2021-12-02T14:14:18.879Z"
   },
   {
    "duration": 21,
    "start_time": "2021-12-02T14:14:35.558Z"
   },
   {
    "duration": 712,
    "start_time": "2021-12-02T14:14:48.390Z"
   },
   {
    "duration": 12,
    "start_time": "2021-12-02T14:15:08.957Z"
   },
   {
    "duration": 707,
    "start_time": "2021-12-02T14:15:28.012Z"
   },
   {
    "duration": 17,
    "start_time": "2021-12-02T14:15:41.527Z"
   },
   {
    "duration": 292,
    "start_time": "2021-12-02T14:15:49.728Z"
   },
   {
    "duration": 12,
    "start_time": "2021-12-02T14:15:54.180Z"
   },
   {
    "duration": 17,
    "start_time": "2021-12-02T14:16:07.915Z"
   },
   {
    "duration": 18,
    "start_time": "2021-12-02T14:16:16.115Z"
   },
   {
    "duration": 19,
    "start_time": "2021-12-02T14:25:17.761Z"
   },
   {
    "duration": 20,
    "start_time": "2021-12-02T14:25:40.903Z"
   },
   {
    "duration": 18,
    "start_time": "2021-12-02T14:34:44.793Z"
   },
   {
    "duration": 4,
    "start_time": "2021-12-02T14:35:13.483Z"
   },
   {
    "duration": 97,
    "start_time": "2021-12-02T14:35:13.494Z"
   },
   {
    "duration": 299,
    "start_time": "2021-12-02T14:35:13.594Z"
   },
   {
    "duration": 17,
    "start_time": "2021-12-02T14:35:13.897Z"
   },
   {
    "duration": 53,
    "start_time": "2021-12-02T14:35:13.918Z"
   },
   {
    "duration": 19,
    "start_time": "2021-12-02T14:35:13.973Z"
   },
   {
    "duration": 9,
    "start_time": "2021-12-02T14:35:13.996Z"
   },
   {
    "duration": 14,
    "start_time": "2021-12-02T14:35:14.007Z"
   },
   {
    "duration": 51,
    "start_time": "2021-12-02T14:35:14.027Z"
   },
   {
    "duration": 22,
    "start_time": "2021-12-02T14:35:14.082Z"
   },
   {
    "duration": 29,
    "start_time": "2021-12-02T14:35:14.107Z"
   },
   {
    "duration": 421,
    "start_time": "2021-12-02T14:35:14.139Z"
   },
   {
    "duration": 317,
    "start_time": "2021-12-02T14:35:14.563Z"
   },
   {
    "duration": 25,
    "start_time": "2021-12-02T14:35:14.883Z"
   },
   {
    "duration": 19,
    "start_time": "2021-12-02T14:35:14.911Z"
   },
   {
    "duration": 38,
    "start_time": "2021-12-02T14:35:14.932Z"
   },
   {
    "duration": 897,
    "start_time": "2021-12-02T14:35:14.973Z"
   },
   {
    "duration": 732,
    "start_time": "2021-12-02T14:35:15.872Z"
   },
   {
    "duration": 18,
    "start_time": "2021-12-02T14:35:16.607Z"
   },
   {
    "duration": 895,
    "start_time": "2021-12-02T14:35:16.628Z"
   },
   {
    "duration": 24,
    "start_time": "2021-12-02T14:35:17.526Z"
   },
   {
    "duration": 18,
    "start_time": "2021-12-02T14:35:17.571Z"
   },
   {
    "duration": 25,
    "start_time": "2021-12-02T14:35:17.593Z"
   },
   {
    "duration": 728,
    "start_time": "2021-12-02T14:35:17.628Z"
   },
   {
    "duration": 39,
    "start_time": "2021-12-02T14:35:18.360Z"
   },
   {
    "duration": 844,
    "start_time": "2021-12-02T14:35:18.402Z"
   },
   {
    "duration": 266,
    "start_time": "2021-12-02T14:35:19.248Z"
   },
   {
    "duration": 702,
    "start_time": "2021-12-02T14:35:19.516Z"
   },
   {
    "duration": 19,
    "start_time": "2021-12-02T14:35:20.221Z"
   },
   {
    "duration": 810,
    "start_time": "2021-12-02T14:35:20.243Z"
   },
   {
    "duration": 15,
    "start_time": "2021-12-02T14:35:21.055Z"
   },
   {
    "duration": 805,
    "start_time": "2021-12-02T14:35:21.074Z"
   },
   {
    "duration": 637,
    "start_time": "2021-12-02T14:35:21.882Z"
   },
   {
    "duration": 8,
    "start_time": "2021-12-02T14:35:22.522Z"
   },
   {
    "duration": 43,
    "start_time": "2021-12-02T14:35:22.534Z"
   },
   {
    "duration": 229,
    "start_time": "2021-12-02T14:35:22.581Z"
   },
   {
    "duration": 15,
    "start_time": "2021-12-02T14:35:22.813Z"
   },
   {
    "duration": 130,
    "start_time": "2021-12-02T14:35:22.830Z"
   },
   {
    "duration": 39,
    "start_time": "2021-12-02T14:35:22.968Z"
   },
   {
    "duration": 213,
    "start_time": "2021-12-02T14:35:23.010Z"
   },
   {
    "duration": 51,
    "start_time": "2021-12-02T14:35:23.225Z"
   },
   {
    "duration": 195,
    "start_time": "2021-12-02T14:35:23.279Z"
   },
   {
    "duration": 116,
    "start_time": "2021-12-02T14:35:23.477Z"
   },
   {
    "duration": 396,
    "start_time": "2021-12-02T14:35:23.597Z"
   },
   {
    "duration": 12,
    "start_time": "2021-12-02T14:35:23.997Z"
   },
   {
    "duration": 15,
    "start_time": "2021-12-02T14:35:24.012Z"
   },
   {
    "duration": 10,
    "start_time": "2021-12-02T14:35:24.030Z"
   },
   {
    "duration": 46,
    "start_time": "2021-12-02T14:35:24.043Z"
   },
   {
    "duration": 15,
    "start_time": "2021-12-02T14:35:24.093Z"
   },
   {
    "duration": 15,
    "start_time": "2021-12-02T14:35:24.111Z"
   },
   {
    "duration": 7,
    "start_time": "2021-12-02T14:35:24.128Z"
   },
   {
    "duration": 17,
    "start_time": "2021-12-02T14:35:24.168Z"
   },
   {
    "duration": 11,
    "start_time": "2021-12-02T14:35:24.189Z"
   },
   {
    "duration": 7,
    "start_time": "2021-12-02T14:35:24.204Z"
   },
   {
    "duration": 73,
    "start_time": "2021-12-02T14:35:24.214Z"
   },
   {
    "duration": 313,
    "start_time": "2021-12-02T14:39:46.577Z"
   },
   {
    "duration": 5,
    "start_time": "2021-12-02T14:40:07.845Z"
   },
   {
    "duration": 863,
    "start_time": "2021-12-02T14:40:07.859Z"
   },
   {
    "duration": 313,
    "start_time": "2021-12-02T14:40:08.725Z"
   },
   {
    "duration": 46,
    "start_time": "2021-12-02T14:40:09.041Z"
   },
   {
    "duration": 283,
    "start_time": "2021-12-02T14:40:09.090Z"
   },
   {
    "duration": 19,
    "start_time": "2021-12-02T14:40:23.734Z"
   },
   {
    "duration": 110,
    "start_time": "2021-12-02T14:40:29.496Z"
   },
   {
    "duration": 24,
    "start_time": "2021-12-02T14:40:33.824Z"
   },
   {
    "duration": 4,
    "start_time": "2021-12-02T14:41:26.879Z"
   },
   {
    "duration": 71,
    "start_time": "2021-12-02T14:41:26.889Z"
   },
   {
    "duration": 259,
    "start_time": "2021-12-02T14:41:26.963Z"
   },
   {
    "duration": 49,
    "start_time": "2021-12-02T14:41:27.225Z"
   },
   {
    "duration": 18,
    "start_time": "2021-12-02T14:41:27.277Z"
   },
   {
    "duration": 22,
    "start_time": "2021-12-02T14:41:27.297Z"
   },
   {
    "duration": 21,
    "start_time": "2021-12-02T14:42:41.198Z"
   },
   {
    "duration": 23,
    "start_time": "2021-12-02T14:43:25.864Z"
   },
   {
    "duration": 17,
    "start_time": "2021-12-02T14:48:53.285Z"
   },
   {
    "duration": 2018,
    "start_time": "2021-12-02T14:51:25.194Z"
   },
   {
    "duration": 281,
    "start_time": "2021-12-02T14:51:51.943Z"
   },
   {
    "duration": 18,
    "start_time": "2021-12-02T14:52:51.057Z"
   },
   {
    "duration": 335,
    "start_time": "2021-12-02T14:54:11.502Z"
   },
   {
    "duration": 942,
    "start_time": "2021-12-02T14:54:18.916Z"
   },
   {
    "duration": 315,
    "start_time": "2021-12-02T14:55:17.805Z"
   },
   {
    "duration": 333,
    "start_time": "2021-12-02T14:55:32.509Z"
   },
   {
    "duration": 16,
    "start_time": "2021-12-02T14:55:40.404Z"
   },
   {
    "duration": 19,
    "start_time": "2021-12-02T14:55:48.400Z"
   },
   {
    "duration": 18,
    "start_time": "2021-12-02T14:58:09.300Z"
   },
   {
    "duration": 19,
    "start_time": "2021-12-02T14:58:15.120Z"
   },
   {
    "duration": 27,
    "start_time": "2021-12-02T14:58:33.652Z"
   },
   {
    "duration": 19,
    "start_time": "2021-12-02T14:58:41.828Z"
   },
   {
    "duration": 316,
    "start_time": "2021-12-02T14:58:59.653Z"
   },
   {
    "duration": 18,
    "start_time": "2021-12-02T14:59:24.612Z"
   },
   {
    "duration": 16,
    "start_time": "2021-12-02T15:00:33.038Z"
   },
   {
    "duration": 18,
    "start_time": "2021-12-02T15:06:06.961Z"
   },
   {
    "duration": 2314,
    "start_time": "2021-12-02T15:06:18.866Z"
   },
   {
    "duration": 296,
    "start_time": "2021-12-02T15:06:30.832Z"
   },
   {
    "duration": 15,
    "start_time": "2021-12-02T15:08:39.435Z"
   },
   {
    "duration": 4,
    "start_time": "2021-12-02T15:08:44.891Z"
   },
   {
    "duration": 76,
    "start_time": "2021-12-02T15:08:44.901Z"
   },
   {
    "duration": 301,
    "start_time": "2021-12-02T15:08:44.980Z"
   },
   {
    "duration": 16,
    "start_time": "2021-12-02T15:08:45.284Z"
   },
   {
    "duration": 18,
    "start_time": "2021-12-02T15:08:54.440Z"
   },
   {
    "duration": 17,
    "start_time": "2021-12-02T15:10:32.101Z"
   },
   {
    "duration": 1492,
    "start_time": "2021-12-02T15:29:40.566Z"
   },
   {
    "duration": 67,
    "start_time": "2021-12-02T15:29:42.061Z"
   },
   {
    "duration": 249,
    "start_time": "2021-12-02T15:29:42.130Z"
   },
   {
    "duration": 18,
    "start_time": "2021-12-02T15:29:42.382Z"
   },
   {
    "duration": 22,
    "start_time": "2021-12-02T15:29:42.403Z"
   },
   {
    "duration": 58,
    "start_time": "2021-12-02T15:29:42.428Z"
   },
   {
    "duration": 14,
    "start_time": "2021-12-02T15:29:42.488Z"
   },
   {
    "duration": 15,
    "start_time": "2021-12-02T15:29:42.507Z"
   },
   {
    "duration": 7,
    "start_time": "2021-12-02T15:29:42.566Z"
   },
   {
    "duration": 12,
    "start_time": "2021-12-02T15:29:42.575Z"
   },
   {
    "duration": 20,
    "start_time": "2021-12-02T15:29:42.589Z"
   },
   {
    "duration": 18,
    "start_time": "2021-12-02T15:29:42.612Z"
   },
   {
    "duration": 43,
    "start_time": "2021-12-02T15:29:42.633Z"
   },
   {
    "duration": 389,
    "start_time": "2021-12-02T15:29:42.679Z"
   },
   {
    "duration": 301,
    "start_time": "2021-12-02T15:29:43.071Z"
   },
   {
    "duration": 20,
    "start_time": "2021-12-02T15:29:43.375Z"
   },
   {
    "duration": 15,
    "start_time": "2021-12-02T15:29:43.397Z"
   },
   {
    "duration": 11,
    "start_time": "2021-12-02T15:29:43.415Z"
   },
   {
    "duration": 597,
    "start_time": "2021-12-02T15:29:43.429Z"
   },
   {
    "duration": 576,
    "start_time": "2021-12-02T15:29:44.028Z"
   },
   {
    "duration": 21,
    "start_time": "2021-12-02T15:29:44.607Z"
   },
   {
    "duration": 704,
    "start_time": "2021-12-02T15:29:44.631Z"
   },
   {
    "duration": 29,
    "start_time": "2021-12-02T15:29:45.343Z"
   },
   {
    "duration": 19,
    "start_time": "2021-12-02T15:29:45.376Z"
   },
   {
    "duration": 17,
    "start_time": "2021-12-02T15:29:45.398Z"
   },
   {
    "duration": 595,
    "start_time": "2021-12-02T15:29:45.417Z"
   },
   {
    "duration": 21,
    "start_time": "2021-12-02T15:29:46.014Z"
   },
   {
    "duration": 670,
    "start_time": "2021-12-02T15:29:46.037Z"
   },
   {
    "duration": 217,
    "start_time": "2021-12-02T15:29:46.709Z"
   },
   {
    "duration": 548,
    "start_time": "2021-12-02T15:29:46.928Z"
   },
   {
    "duration": 20,
    "start_time": "2021-12-02T15:29:47.478Z"
   },
   {
    "duration": 770,
    "start_time": "2021-12-02T15:29:47.500Z"
   },
   {
    "duration": 6,
    "start_time": "2021-12-02T15:29:48.272Z"
   },
   {
    "duration": 866,
    "start_time": "2021-12-02T15:29:48.280Z"
   },
   {
    "duration": 427,
    "start_time": "2021-12-02T15:29:49.148Z"
   },
   {
    "duration": 8,
    "start_time": "2021-12-02T15:29:49.578Z"
   },
   {
    "duration": 14,
    "start_time": "2021-12-02T15:29:49.588Z"
   },
   {
    "duration": 134,
    "start_time": "2021-12-02T15:29:49.605Z"
   },
   {
    "duration": 29,
    "start_time": "2021-12-02T15:29:49.742Z"
   },
   {
    "duration": 112,
    "start_time": "2021-12-02T15:29:49.773Z"
   },
   {
    "duration": 31,
    "start_time": "2021-12-02T15:29:49.887Z"
   },
   {
    "duration": 136,
    "start_time": "2021-12-02T15:29:49.921Z"
   },
   {
    "duration": 33,
    "start_time": "2021-12-02T15:29:50.068Z"
   },
   {
    "duration": 137,
    "start_time": "2021-12-02T15:29:50.103Z"
   },
   {
    "duration": 63,
    "start_time": "2021-12-02T15:29:50.243Z"
   },
   {
    "duration": 223,
    "start_time": "2021-12-02T15:29:50.309Z"
   },
   {
    "duration": 10,
    "start_time": "2021-12-02T15:29:50.534Z"
   },
   {
    "duration": 23,
    "start_time": "2021-12-02T15:29:50.546Z"
   },
   {
    "duration": 7,
    "start_time": "2021-12-02T15:29:50.572Z"
   },
   {
    "duration": 25,
    "start_time": "2021-12-02T15:29:50.582Z"
   },
   {
    "duration": 18,
    "start_time": "2021-12-02T15:29:50.610Z"
   },
   {
    "duration": 38,
    "start_time": "2021-12-02T15:29:50.631Z"
   },
   {
    "duration": 17,
    "start_time": "2021-12-02T15:29:50.672Z"
   },
   {
    "duration": 14,
    "start_time": "2021-12-02T15:29:50.691Z"
   },
   {
    "duration": 15,
    "start_time": "2021-12-02T15:29:50.708Z"
   },
   {
    "duration": 7,
    "start_time": "2021-12-02T15:29:50.726Z"
   },
   {
    "duration": 40,
    "start_time": "2021-12-02T15:29:50.736Z"
   },
   {
    "duration": 501,
    "start_time": "2021-12-02T15:30:29.253Z"
   },
   {
    "duration": 5,
    "start_time": "2021-12-02T15:30:38.422Z"
   },
   {
    "duration": 365,
    "start_time": "2021-12-02T15:30:38.432Z"
   },
   {
    "duration": 271,
    "start_time": "2021-12-02T15:30:38.800Z"
   },
   {
    "duration": 15,
    "start_time": "2021-12-02T15:30:39.073Z"
   },
   {
    "duration": 15,
    "start_time": "2021-12-02T15:34:00.102Z"
   },
   {
    "duration": 19,
    "start_time": "2021-12-02T15:35:21.782Z"
   },
   {
    "duration": 27,
    "start_time": "2021-12-02T15:35:32.076Z"
   },
   {
    "duration": 16,
    "start_time": "2021-12-02T15:35:39.891Z"
   },
   {
    "duration": 16,
    "start_time": "2021-12-02T15:35:46.800Z"
   },
   {
    "duration": 25,
    "start_time": "2021-12-02T15:35:51.232Z"
   },
   {
    "duration": 22,
    "start_time": "2021-12-02T15:40:34.491Z"
   },
   {
    "duration": 14,
    "start_time": "2021-12-02T15:40:50.702Z"
   },
   {
    "duration": 5,
    "start_time": "2021-12-02T15:40:54.927Z"
   },
   {
    "duration": 67,
    "start_time": "2021-12-02T15:40:54.938Z"
   },
   {
    "duration": 282,
    "start_time": "2021-12-02T15:40:55.008Z"
   },
   {
    "duration": 15,
    "start_time": "2021-12-02T15:40:55.293Z"
   },
   {
    "duration": 178,
    "start_time": "2021-12-02T15:41:37.502Z"
   },
   {
    "duration": 323,
    "start_time": "2021-12-02T15:42:31.738Z"
   },
   {
    "duration": 307,
    "start_time": "2021-12-02T15:42:42.092Z"
   },
   {
    "duration": 15,
    "start_time": "2021-12-02T15:42:47.151Z"
   },
   {
    "duration": 88,
    "start_time": "2021-12-02T15:44:51.453Z"
   },
   {
    "duration": 5,
    "start_time": "2021-12-02T15:45:15.822Z"
   },
   {
    "duration": 61,
    "start_time": "2021-12-02T15:45:15.833Z"
   },
   {
    "duration": 270,
    "start_time": "2021-12-02T15:45:15.897Z"
   },
   {
    "duration": 95,
    "start_time": "2021-12-02T15:45:16.170Z"
   },
   {
    "duration": 132,
    "start_time": "2021-12-02T15:45:25.364Z"
   },
   {
    "duration": 297,
    "start_time": "2021-12-02T15:51:38.382Z"
   },
   {
    "duration": 12,
    "start_time": "2021-12-02T15:51:50.044Z"
   },
   {
    "duration": 88,
    "start_time": "2021-12-02T15:52:05.512Z"
   },
   {
    "duration": 90,
    "start_time": "2021-12-02T15:52:15.926Z"
   },
   {
    "duration": 11,
    "start_time": "2021-12-02T15:52:23.138Z"
   },
   {
    "duration": 5,
    "start_time": "2021-12-02T15:53:23.437Z"
   },
   {
    "duration": 65,
    "start_time": "2021-12-02T15:53:23.448Z"
   },
   {
    "duration": 254,
    "start_time": "2021-12-02T15:53:23.516Z"
   },
   {
    "duration": 13,
    "start_time": "2021-12-02T15:53:23.773Z"
   },
   {
    "duration": 18,
    "start_time": "2021-12-02T15:55:16.654Z"
   },
   {
    "duration": 22,
    "start_time": "2021-12-02T15:56:32.854Z"
   },
   {
    "duration": 275,
    "start_time": "2021-12-02T15:57:39.138Z"
   },
   {
    "duration": 18,
    "start_time": "2021-12-02T16:04:54.097Z"
   },
   {
    "duration": 21,
    "start_time": "2021-12-02T16:05:21.392Z"
   },
   {
    "duration": 17,
    "start_time": "2021-12-02T16:06:45.950Z"
   },
   {
    "duration": 5,
    "start_time": "2021-12-02T16:06:54.397Z"
   },
   {
    "duration": 66,
    "start_time": "2021-12-02T16:06:54.407Z"
   },
   {
    "duration": 240,
    "start_time": "2021-12-02T16:06:54.476Z"
   },
   {
    "duration": 53,
    "start_time": "2021-12-02T16:06:54.719Z"
   },
   {
    "duration": 18,
    "start_time": "2021-12-02T16:06:54.774Z"
   },
   {
    "duration": 24,
    "start_time": "2021-12-02T16:06:54.795Z"
   },
   {
    "duration": 11,
    "start_time": "2021-12-02T16:07:14.810Z"
   },
   {
    "duration": 30,
    "start_time": "2021-12-02T16:08:20.067Z"
   },
   {
    "duration": 13,
    "start_time": "2021-12-02T16:08:26.794Z"
   },
   {
    "duration": 4,
    "start_time": "2021-12-02T16:09:50.971Z"
   },
   {
    "duration": 70,
    "start_time": "2021-12-02T16:09:50.983Z"
   },
   {
    "duration": 256,
    "start_time": "2021-12-02T16:09:51.056Z"
   },
   {
    "duration": 56,
    "start_time": "2021-12-02T16:09:51.316Z"
   },
   {
    "duration": 11,
    "start_time": "2021-12-02T16:09:51.376Z"
   },
   {
    "duration": 16,
    "start_time": "2021-12-02T16:09:51.389Z"
   },
   {
    "duration": 12,
    "start_time": "2021-12-02T16:09:51.408Z"
   },
   {
    "duration": 51,
    "start_time": "2021-12-02T16:09:51.423Z"
   },
   {
    "duration": 17,
    "start_time": "2021-12-02T16:09:51.476Z"
   },
   {
    "duration": 13,
    "start_time": "2021-12-02T16:09:51.498Z"
   },
   {
    "duration": 22,
    "start_time": "2021-12-02T16:09:51.515Z"
   },
   {
    "duration": 41,
    "start_time": "2021-12-02T16:09:51.539Z"
   },
   {
    "duration": 27,
    "start_time": "2021-12-02T16:09:51.582Z"
   },
   {
    "duration": 386,
    "start_time": "2021-12-02T16:09:51.611Z"
   },
   {
    "duration": 301,
    "start_time": "2021-12-02T16:09:52.000Z"
   },
   {
    "duration": 20,
    "start_time": "2021-12-02T16:09:52.304Z"
   },
   {
    "duration": 11,
    "start_time": "2021-12-02T16:09:52.326Z"
   },
   {
    "duration": 7,
    "start_time": "2021-12-02T16:09:52.368Z"
   },
   {
    "duration": 695,
    "start_time": "2021-12-02T16:09:52.377Z"
   },
   {
    "duration": 692,
    "start_time": "2021-12-02T16:09:53.075Z"
   },
   {
    "duration": 18,
    "start_time": "2021-12-02T16:09:53.769Z"
   },
   {
    "duration": 734,
    "start_time": "2021-12-02T16:09:53.789Z"
   },
   {
    "duration": 15,
    "start_time": "2021-12-02T16:09:54.526Z"
   },
   {
    "duration": 35,
    "start_time": "2021-12-02T16:09:54.543Z"
   },
   {
    "duration": 18,
    "start_time": "2021-12-02T16:09:54.580Z"
   },
   {
    "duration": 691,
    "start_time": "2021-12-02T16:09:54.601Z"
   },
   {
    "duration": 22,
    "start_time": "2021-12-02T16:09:55.294Z"
   },
   {
    "duration": 783,
    "start_time": "2021-12-02T16:09:55.325Z"
   },
   {
    "duration": 244,
    "start_time": "2021-12-02T16:09:56.111Z"
   },
   {
    "duration": 1473,
    "start_time": "2021-12-02T16:09:56.367Z"
   },
   {
    "duration": 33,
    "start_time": "2021-12-02T16:09:57.843Z"
   },
   {
    "duration": 759,
    "start_time": "2021-12-02T16:09:57.879Z"
   },
   {
    "duration": 6,
    "start_time": "2021-12-02T16:09:58.640Z"
   },
   {
    "duration": 852,
    "start_time": "2021-12-02T16:09:58.649Z"
   },
   {
    "duration": 429,
    "start_time": "2021-12-02T16:09:59.504Z"
   },
   {
    "duration": 7,
    "start_time": "2021-12-02T16:09:59.936Z"
   },
   {
    "duration": 34,
    "start_time": "2021-12-02T16:09:59.945Z"
   },
   {
    "duration": 124,
    "start_time": "2021-12-02T16:09:59.982Z"
   },
   {
    "duration": 18,
    "start_time": "2021-12-02T16:10:00.109Z"
   },
   {
    "duration": 243,
    "start_time": "2021-12-02T16:10:00.130Z"
   },
   {
    "duration": 97,
    "start_time": "2021-12-02T16:10:00.376Z"
   },
   {
    "duration": 220,
    "start_time": "2021-12-02T16:10:00.477Z"
   },
   {
    "duration": 92,
    "start_time": "2021-12-02T16:10:00.699Z"
   },
   {
    "duration": 213,
    "start_time": "2021-12-02T16:10:00.794Z"
   },
   {
    "duration": 164,
    "start_time": "2021-12-02T16:10:01.009Z"
   },
   {
    "duration": 230,
    "start_time": "2021-12-02T16:10:01.176Z"
   },
   {
    "duration": 59,
    "start_time": "2021-12-02T16:10:01.409Z"
   },
   {
    "duration": 28,
    "start_time": "2021-12-02T16:10:01.471Z"
   },
   {
    "duration": 14,
    "start_time": "2021-12-02T16:10:01.502Z"
   },
   {
    "duration": 57,
    "start_time": "2021-12-02T16:10:01.518Z"
   },
   {
    "duration": 29,
    "start_time": "2021-12-02T16:10:01.577Z"
   },
   {
    "duration": 60,
    "start_time": "2021-12-02T16:10:01.608Z"
   },
   {
    "duration": 16,
    "start_time": "2021-12-02T16:10:01.671Z"
   },
   {
    "duration": 21,
    "start_time": "2021-12-02T16:10:01.690Z"
   },
   {
    "duration": 53,
    "start_time": "2021-12-02T16:10:01.715Z"
   },
   {
    "duration": 6,
    "start_time": "2021-12-02T16:10:01.772Z"
   },
   {
    "duration": 87,
    "start_time": "2021-12-02T16:10:01.781Z"
   },
   {
    "duration": 5,
    "start_time": "2021-12-02T16:14:51.419Z"
   },
   {
    "duration": 67,
    "start_time": "2021-12-02T16:14:51.429Z"
   },
   {
    "duration": 290,
    "start_time": "2021-12-02T16:14:51.499Z"
   },
   {
    "duration": 16,
    "start_time": "2021-12-02T16:14:51.792Z"
   },
   {
    "duration": 58,
    "start_time": "2021-12-02T16:14:51.811Z"
   },
   {
    "duration": 22,
    "start_time": "2021-12-02T16:14:51.871Z"
   },
   {
    "duration": 11,
    "start_time": "2021-12-02T16:14:51.895Z"
   },
   {
    "duration": 17,
    "start_time": "2021-12-02T16:14:51.909Z"
   },
   {
    "duration": 7,
    "start_time": "2021-12-02T16:14:51.930Z"
   },
   {
    "duration": 6,
    "start_time": "2021-12-02T16:14:51.968Z"
   },
   {
    "duration": 23,
    "start_time": "2021-12-02T16:14:51.977Z"
   },
   {
    "duration": 27,
    "start_time": "2021-12-02T16:14:52.002Z"
   },
   {
    "duration": 40,
    "start_time": "2021-12-02T16:14:52.031Z"
   },
   {
    "duration": 386,
    "start_time": "2021-12-02T16:14:52.073Z"
   },
   {
    "duration": 309,
    "start_time": "2021-12-02T16:14:52.466Z"
   },
   {
    "duration": 21,
    "start_time": "2021-12-02T16:14:52.778Z"
   },
   {
    "duration": 11,
    "start_time": "2021-12-02T16:14:52.802Z"
   },
   {
    "duration": 12,
    "start_time": "2021-12-02T16:14:52.815Z"
   },
   {
    "duration": 712,
    "start_time": "2021-12-02T16:14:52.829Z"
   },
   {
    "duration": 690,
    "start_time": "2021-12-02T16:14:53.544Z"
   },
   {
    "duration": 17,
    "start_time": "2021-12-02T16:14:54.236Z"
   },
   {
    "duration": 946,
    "start_time": "2021-12-02T16:14:54.267Z"
   },
   {
    "duration": 17,
    "start_time": "2021-12-02T16:14:55.268Z"
   },
   {
    "duration": 17,
    "start_time": "2021-12-02T16:14:55.290Z"
   },
   {
    "duration": 70,
    "start_time": "2021-12-02T16:14:55.311Z"
   },
   {
    "duration": 817,
    "start_time": "2021-12-02T16:14:55.383Z"
   },
   {
    "duration": 21,
    "start_time": "2021-12-02T16:14:56.202Z"
   },
   {
    "duration": 784,
    "start_time": "2021-12-02T16:14:56.225Z"
   },
   {
    "duration": 219,
    "start_time": "2021-12-02T16:14:57.011Z"
   },
   {
    "duration": 844,
    "start_time": "2021-12-02T16:14:57.232Z"
   },
   {
    "duration": 25,
    "start_time": "2021-12-02T16:14:58.080Z"
   },
   {
    "duration": 820,
    "start_time": "2021-12-02T16:14:58.108Z"
   },
   {
    "duration": 7,
    "start_time": "2021-12-02T16:14:58.930Z"
   },
   {
    "duration": 779,
    "start_time": "2021-12-02T16:14:58.939Z"
   },
   {
    "duration": 582,
    "start_time": "2021-12-02T16:14:59.720Z"
   },
   {
    "duration": 8,
    "start_time": "2021-12-02T16:15:00.305Z"
   },
   {
    "duration": 19,
    "start_time": "2021-12-02T16:15:00.316Z"
   },
   {
    "duration": 134,
    "start_time": "2021-12-02T16:15:00.337Z"
   },
   {
    "duration": 25,
    "start_time": "2021-12-02T16:15:00.473Z"
   },
   {
    "duration": 123,
    "start_time": "2021-12-02T16:15:00.501Z"
   },
   {
    "duration": 45,
    "start_time": "2021-12-02T16:15:00.627Z"
   },
   {
    "duration": 126,
    "start_time": "2021-12-02T16:15:00.675Z"
   },
   {
    "duration": 64,
    "start_time": "2021-12-02T16:15:00.804Z"
   },
   {
    "duration": 172,
    "start_time": "2021-12-02T16:15:00.871Z"
   },
   {
    "duration": 103,
    "start_time": "2021-12-02T16:15:01.046Z"
   },
   {
    "duration": 308,
    "start_time": "2021-12-02T16:15:01.152Z"
   },
   {
    "duration": 11,
    "start_time": "2021-12-02T16:15:01.463Z"
   },
   {
    "duration": 24,
    "start_time": "2021-12-02T16:15:01.476Z"
   },
   {
    "duration": 14,
    "start_time": "2021-12-02T16:15:01.502Z"
   },
   {
    "duration": 18,
    "start_time": "2021-12-02T16:15:01.519Z"
   },
   {
    "duration": 30,
    "start_time": "2021-12-02T16:15:01.539Z"
   },
   {
    "duration": 20,
    "start_time": "2021-12-02T16:15:01.571Z"
   },
   {
    "duration": 12,
    "start_time": "2021-12-02T16:15:01.593Z"
   },
   {
    "duration": 14,
    "start_time": "2021-12-02T16:15:01.607Z"
   },
   {
    "duration": 9,
    "start_time": "2021-12-02T16:15:01.623Z"
   },
   {
    "duration": 33,
    "start_time": "2021-12-02T16:15:01.634Z"
   },
   {
    "duration": 25,
    "start_time": "2021-12-02T16:15:01.670Z"
   },
   {
    "duration": 18,
    "start_time": "2021-12-02T16:15:36.094Z"
   },
   {
    "duration": 1546,
    "start_time": "2021-12-02T16:24:44.792Z"
   },
   {
    "duration": 65,
    "start_time": "2021-12-02T16:24:46.340Z"
   },
   {
    "duration": 222,
    "start_time": "2021-12-02T16:24:46.408Z"
   },
   {
    "duration": 18,
    "start_time": "2021-12-02T16:24:46.667Z"
   },
   {
    "duration": 11,
    "start_time": "2021-12-02T16:24:46.687Z"
   },
   {
    "duration": 14,
    "start_time": "2021-12-02T16:24:46.700Z"
   },
   {
    "duration": 12,
    "start_time": "2021-12-02T16:24:46.716Z"
   },
   {
    "duration": 12,
    "start_time": "2021-12-02T16:24:46.769Z"
   },
   {
    "duration": 8,
    "start_time": "2021-12-02T16:24:46.784Z"
   },
   {
    "duration": 10,
    "start_time": "2021-12-02T16:24:46.794Z"
   },
   {
    "duration": 24,
    "start_time": "2021-12-02T16:24:46.806Z"
   },
   {
    "duration": 52,
    "start_time": "2021-12-02T16:24:46.832Z"
   },
   {
    "duration": 15,
    "start_time": "2021-12-02T16:24:46.887Z"
   },
   {
    "duration": 393,
    "start_time": "2021-12-02T16:24:46.904Z"
   },
   {
    "duration": 291,
    "start_time": "2021-12-02T16:24:47.299Z"
   },
   {
    "duration": 19,
    "start_time": "2021-12-02T16:24:47.593Z"
   },
   {
    "duration": 9,
    "start_time": "2021-12-02T16:24:47.615Z"
   },
   {
    "duration": 13,
    "start_time": "2021-12-02T16:24:47.626Z"
   },
   {
    "duration": 570,
    "start_time": "2021-12-02T16:24:47.666Z"
   },
   {
    "duration": 657,
    "start_time": "2021-12-02T16:24:48.238Z"
   },
   {
    "duration": 18,
    "start_time": "2021-12-02T16:24:48.897Z"
   },
   {
    "duration": 695,
    "start_time": "2021-12-02T16:24:48.918Z"
   },
   {
    "duration": 17,
    "start_time": "2021-12-02T16:24:49.670Z"
   },
   {
    "duration": 17,
    "start_time": "2021-12-02T16:24:49.690Z"
   },
   {
    "duration": 71,
    "start_time": "2021-12-02T16:24:49.710Z"
   },
   {
    "duration": 832,
    "start_time": "2021-12-02T16:24:49.784Z"
   },
   {
    "duration": 22,
    "start_time": "2021-12-02T16:24:50.619Z"
   },
   {
    "duration": 693,
    "start_time": "2021-12-02T16:24:50.644Z"
   },
   {
    "duration": 245,
    "start_time": "2021-12-02T16:24:51.339Z"
   },
   {
    "duration": 561,
    "start_time": "2021-12-02T16:24:51.586Z"
   },
   {
    "duration": 30,
    "start_time": "2021-12-02T16:24:52.149Z"
   },
   {
    "duration": 688,
    "start_time": "2021-12-02T16:24:52.182Z"
   },
   {
    "duration": 7,
    "start_time": "2021-12-02T16:24:52.872Z"
   },
   {
    "duration": 602,
    "start_time": "2021-12-02T16:24:52.881Z"
   },
   {
    "duration": 430,
    "start_time": "2021-12-02T16:24:53.485Z"
   },
   {
    "duration": 6,
    "start_time": "2021-12-02T16:24:53.918Z"
   },
   {
    "duration": 18,
    "start_time": "2021-12-02T16:24:53.927Z"
   },
   {
    "duration": 132,
    "start_time": "2021-12-02T16:24:53.947Z"
   },
   {
    "duration": 16,
    "start_time": "2021-12-02T16:24:54.081Z"
   },
   {
    "duration": 123,
    "start_time": "2021-12-02T16:24:54.100Z"
   },
   {
    "duration": 49,
    "start_time": "2021-12-02T16:24:54.226Z"
   },
   {
    "duration": 115,
    "start_time": "2021-12-02T16:24:54.277Z"
   },
   {
    "duration": 29,
    "start_time": "2021-12-02T16:24:54.394Z"
   },
   {
    "duration": 146,
    "start_time": "2021-12-02T16:24:54.425Z"
   },
   {
    "duration": 54,
    "start_time": "2021-12-02T16:24:54.574Z"
   },
   {
    "duration": 199,
    "start_time": "2021-12-02T16:24:54.631Z"
   },
   {
    "duration": 8,
    "start_time": "2021-12-02T16:24:54.832Z"
   },
   {
    "duration": 27,
    "start_time": "2021-12-02T16:24:54.843Z"
   },
   {
    "duration": 5,
    "start_time": "2021-12-02T16:24:54.873Z"
   },
   {
    "duration": 15,
    "start_time": "2021-12-02T16:24:54.880Z"
   },
   {
    "duration": 11,
    "start_time": "2021-12-02T16:24:54.897Z"
   },
   {
    "duration": 14,
    "start_time": "2021-12-02T16:24:54.911Z"
   },
   {
    "duration": 41,
    "start_time": "2021-12-02T16:24:54.927Z"
   },
   {
    "duration": 16,
    "start_time": "2021-12-02T16:24:54.971Z"
   },
   {
    "duration": 7,
    "start_time": "2021-12-02T16:24:54.990Z"
   },
   {
    "duration": 5,
    "start_time": "2021-12-02T16:24:54.999Z"
   },
   {
    "duration": 20,
    "start_time": "2021-12-02T16:24:55.007Z"
   },
   {
    "duration": 6,
    "start_time": "2021-12-02T16:31:04.185Z"
   },
   {
    "duration": 69,
    "start_time": "2021-12-02T16:31:04.198Z"
   },
   {
    "duration": 317,
    "start_time": "2021-12-02T16:31:04.270Z"
   },
   {
    "duration": 17,
    "start_time": "2021-12-02T16:31:04.590Z"
   },
   {
    "duration": 11,
    "start_time": "2021-12-02T16:31:04.610Z"
   },
   {
    "duration": 11,
    "start_time": "2021-12-02T16:31:04.668Z"
   },
   {
    "duration": 14,
    "start_time": "2021-12-02T16:31:04.682Z"
   },
   {
    "duration": 22,
    "start_time": "2021-12-02T16:31:04.699Z"
   },
   {
    "duration": 8,
    "start_time": "2021-12-02T16:31:04.726Z"
   },
   {
    "duration": 9,
    "start_time": "2021-12-02T16:31:04.770Z"
   },
   {
    "duration": 31,
    "start_time": "2021-12-02T16:31:04.782Z"
   },
   {
    "duration": 69,
    "start_time": "2021-12-02T16:31:04.816Z"
   },
   {
    "duration": 21,
    "start_time": "2021-12-02T16:31:04.888Z"
   },
   {
    "duration": 585,
    "start_time": "2021-12-02T16:31:04.912Z"
   },
   {
    "duration": 299,
    "start_time": "2021-12-02T16:31:05.500Z"
   },
   {
    "duration": 19,
    "start_time": "2021-12-02T16:31:05.802Z"
   },
   {
    "duration": 19,
    "start_time": "2021-12-02T16:31:05.823Z"
   },
   {
    "duration": 24,
    "start_time": "2021-12-02T16:31:05.845Z"
   },
   {
    "duration": 721,
    "start_time": "2021-12-02T16:31:05.872Z"
   },
   {
    "duration": 712,
    "start_time": "2021-12-02T16:31:06.595Z"
   },
   {
    "duration": 16,
    "start_time": "2021-12-02T16:31:07.309Z"
   },
   {
    "duration": 1079,
    "start_time": "2021-12-02T16:31:07.328Z"
   },
   {
    "duration": 79,
    "start_time": "2021-12-02T16:31:08.410Z"
   },
   {
    "duration": 77,
    "start_time": "2021-12-02T16:31:08.498Z"
   },
   {
    "duration": 22,
    "start_time": "2021-12-02T16:31:08.580Z"
   },
   {
    "duration": 705,
    "start_time": "2021-12-02T16:31:08.605Z"
   },
   {
    "duration": 22,
    "start_time": "2021-12-02T16:31:09.313Z"
   },
   {
    "duration": 807,
    "start_time": "2021-12-02T16:31:09.338Z"
   },
   {
    "duration": 247,
    "start_time": "2021-12-02T16:31:10.148Z"
   },
   {
    "duration": 728,
    "start_time": "2021-12-02T16:31:10.398Z"
   },
   {
    "duration": 40,
    "start_time": "2021-12-02T16:31:11.129Z"
   },
   {
    "duration": 848,
    "start_time": "2021-12-02T16:31:11.172Z"
   },
   {
    "duration": 8,
    "start_time": "2021-12-02T16:31:12.023Z"
   },
   {
    "duration": 862,
    "start_time": "2021-12-02T16:31:12.033Z"
   },
   {
    "duration": 451,
    "start_time": "2021-12-02T16:31:12.897Z"
   },
   {
    "duration": 16,
    "start_time": "2021-12-02T16:31:13.351Z"
   },
   {
    "duration": 14,
    "start_time": "2021-12-02T16:31:13.370Z"
   },
   {
    "duration": 126,
    "start_time": "2021-12-02T16:31:13.387Z"
   },
   {
    "duration": 26,
    "start_time": "2021-12-02T16:31:13.515Z"
   },
   {
    "duration": 109,
    "start_time": "2021-12-02T16:31:13.543Z"
   },
   {
    "duration": 38,
    "start_time": "2021-12-02T16:31:13.655Z"
   },
   {
    "duration": 127,
    "start_time": "2021-12-02T16:31:13.695Z"
   },
   {
    "duration": 49,
    "start_time": "2021-12-02T16:31:13.824Z"
   },
   {
    "duration": 115,
    "start_time": "2021-12-02T16:31:13.875Z"
   },
   {
    "duration": 53,
    "start_time": "2021-12-02T16:31:13.992Z"
   },
   {
    "duration": 227,
    "start_time": "2021-12-02T16:31:14.068Z"
   },
   {
    "duration": 8,
    "start_time": "2021-12-02T16:31:14.297Z"
   },
   {
    "duration": 13,
    "start_time": "2021-12-02T16:31:14.307Z"
   },
   {
    "duration": 6,
    "start_time": "2021-12-02T16:31:14.323Z"
   },
   {
    "duration": 45,
    "start_time": "2021-12-02T16:31:14.331Z"
   },
   {
    "duration": 12,
    "start_time": "2021-12-02T16:31:14.378Z"
   },
   {
    "duration": 18,
    "start_time": "2021-12-02T16:31:14.393Z"
   },
   {
    "duration": 9,
    "start_time": "2021-12-02T16:31:14.413Z"
   },
   {
    "duration": 44,
    "start_time": "2021-12-02T16:31:14.424Z"
   },
   {
    "duration": 9,
    "start_time": "2021-12-02T16:31:14.470Z"
   },
   {
    "duration": 13,
    "start_time": "2021-12-02T16:31:14.481Z"
   },
   {
    "duration": 37,
    "start_time": "2021-12-02T16:31:14.496Z"
   },
   {
    "duration": 1104,
    "start_time": "2021-12-02T16:31:21.912Z"
   },
   {
    "duration": 687,
    "start_time": "2021-12-02T16:31:29.767Z"
   },
   {
    "duration": 702,
    "start_time": "2021-12-02T16:31:35.265Z"
   },
   {
    "duration": 676,
    "start_time": "2021-12-02T16:31:47.631Z"
   },
   {
    "duration": 694,
    "start_time": "2021-12-02T16:31:59.576Z"
   },
   {
    "duration": 700,
    "start_time": "2021-12-02T16:32:25.532Z"
   },
   {
    "duration": 7,
    "start_time": "2021-12-02T16:35:09.674Z"
   },
   {
    "duration": 6,
    "start_time": "2021-12-02T16:35:14.222Z"
   },
   {
    "duration": 64,
    "start_time": "2021-12-02T16:35:14.231Z"
   },
   {
    "duration": 281,
    "start_time": "2021-12-02T16:35:14.298Z"
   },
   {
    "duration": 18,
    "start_time": "2021-12-02T16:35:14.581Z"
   },
   {
    "duration": 12,
    "start_time": "2021-12-02T16:35:14.602Z"
   },
   {
    "duration": 50,
    "start_time": "2021-12-02T16:35:14.617Z"
   },
   {
    "duration": 11,
    "start_time": "2021-12-02T16:35:14.671Z"
   },
   {
    "duration": 17,
    "start_time": "2021-12-02T16:35:14.685Z"
   },
   {
    "duration": 10,
    "start_time": "2021-12-02T16:35:14.705Z"
   },
   {
    "duration": 49,
    "start_time": "2021-12-02T16:35:14.718Z"
   },
   {
    "duration": 19,
    "start_time": "2021-12-02T16:35:14.770Z"
   },
   {
    "duration": 22,
    "start_time": "2021-12-02T16:35:14.792Z"
   },
   {
    "duration": 54,
    "start_time": "2021-12-02T16:35:14.817Z"
   },
   {
    "duration": 389,
    "start_time": "2021-12-02T16:35:14.874Z"
   },
   {
    "duration": 308,
    "start_time": "2021-12-02T16:35:15.268Z"
   },
   {
    "duration": 22,
    "start_time": "2021-12-02T16:35:15.579Z"
   },
   {
    "duration": 14,
    "start_time": "2021-12-02T16:35:15.603Z"
   },
   {
    "duration": 18,
    "start_time": "2021-12-02T16:35:15.620Z"
   },
   {
    "duration": 713,
    "start_time": "2021-12-02T16:35:15.645Z"
   },
   {
    "duration": 709,
    "start_time": "2021-12-02T16:35:16.369Z"
   },
   {
    "duration": 19,
    "start_time": "2021-12-02T16:35:17.081Z"
   },
   {
    "duration": 974,
    "start_time": "2021-12-02T16:35:17.103Z"
   },
   {
    "duration": 15,
    "start_time": "2021-12-02T16:35:18.079Z"
   },
   {
    "duration": 79,
    "start_time": "2021-12-02T16:35:18.097Z"
   },
   {
    "duration": 18,
    "start_time": "2021-12-02T16:35:18.179Z"
   },
   {
    "duration": 951,
    "start_time": "2021-12-02T16:35:18.200Z"
   },
   {
    "duration": 30,
    "start_time": "2021-12-02T16:35:19.154Z"
   },
   {
    "duration": 755,
    "start_time": "2021-12-02T16:35:19.186Z"
   },
   {
    "duration": 249,
    "start_time": "2021-12-02T16:35:19.943Z"
   },
   {
    "duration": 825,
    "start_time": "2021-12-02T16:35:20.195Z"
   },
   {
    "duration": 19,
    "start_time": "2021-12-02T16:35:21.022Z"
   },
   {
    "duration": 769,
    "start_time": "2021-12-02T16:35:21.044Z"
   },
   {
    "duration": 7,
    "start_time": "2021-12-02T16:35:21.817Z"
   },
   {
    "duration": 769,
    "start_time": "2021-12-02T16:35:21.827Z"
   },
   {
    "duration": 447,
    "start_time": "2021-12-02T16:35:22.598Z"
   },
   {
    "duration": 18,
    "start_time": "2021-12-02T16:35:23.048Z"
   },
   {
    "duration": 14,
    "start_time": "2021-12-02T16:35:23.069Z"
   },
   {
    "duration": 127,
    "start_time": "2021-12-02T16:35:23.086Z"
   },
   {
    "duration": 23,
    "start_time": "2021-12-02T16:35:23.216Z"
   },
   {
    "duration": 115,
    "start_time": "2021-12-02T16:35:23.241Z"
   },
   {
    "duration": 29,
    "start_time": "2021-12-02T16:35:23.367Z"
   },
   {
    "duration": 133,
    "start_time": "2021-12-02T16:35:23.399Z"
   },
   {
    "duration": 49,
    "start_time": "2021-12-02T16:35:23.535Z"
   },
   {
    "duration": 117,
    "start_time": "2021-12-02T16:35:23.586Z"
   },
   {
    "duration": 67,
    "start_time": "2021-12-02T16:35:23.705Z"
   },
   {
    "duration": 235,
    "start_time": "2021-12-02T16:35:23.775Z"
   },
   {
    "duration": 8,
    "start_time": "2021-12-02T16:35:24.012Z"
   },
   {
    "duration": 10,
    "start_time": "2021-12-02T16:35:24.023Z"
   },
   {
    "duration": 6,
    "start_time": "2021-12-02T16:35:24.036Z"
   },
   {
    "duration": 15,
    "start_time": "2021-12-02T16:35:24.068Z"
   },
   {
    "duration": 15,
    "start_time": "2021-12-02T16:35:24.086Z"
   },
   {
    "duration": 16,
    "start_time": "2021-12-02T16:35:24.103Z"
   },
   {
    "duration": 7,
    "start_time": "2021-12-02T16:35:24.122Z"
   },
   {
    "duration": 44,
    "start_time": "2021-12-02T16:35:24.132Z"
   },
   {
    "duration": 10,
    "start_time": "2021-12-02T16:35:24.184Z"
   },
   {
    "duration": 5,
    "start_time": "2021-12-02T16:35:24.197Z"
   },
   {
    "duration": 25,
    "start_time": "2021-12-02T16:35:24.204Z"
   },
   {
    "duration": 811,
    "start_time": "2021-12-02T16:36:04.836Z"
   },
   {
    "duration": 735,
    "start_time": "2021-12-02T16:36:12.692Z"
   },
   {
    "duration": 737,
    "start_time": "2021-12-02T16:36:20.587Z"
   },
   {
    "duration": 953,
    "start_time": "2021-12-02T16:38:25.952Z"
   },
   {
    "duration": 274,
    "start_time": "2021-12-02T16:38:56.408Z"
   },
   {
    "duration": 275,
    "start_time": "2021-12-02T16:39:26.414Z"
   },
   {
    "duration": 7,
    "start_time": "2021-12-02T16:39:31.935Z"
   },
   {
    "duration": 7,
    "start_time": "2021-12-02T16:40:04.290Z"
   },
   {
    "duration": 782,
    "start_time": "2021-12-02T16:40:22.454Z"
   },
   {
    "duration": 7,
    "start_time": "2021-12-02T16:43:21.119Z"
   },
   {
    "duration": 7,
    "start_time": "2021-12-02T16:43:33.607Z"
   },
   {
    "duration": 1478,
    "start_time": "2021-12-02T16:44:12.372Z"
   },
   {
    "duration": 62,
    "start_time": "2021-12-02T16:44:13.853Z"
   },
   {
    "duration": 253,
    "start_time": "2021-12-02T16:44:13.918Z"
   },
   {
    "duration": 16,
    "start_time": "2021-12-02T16:44:14.174Z"
   },
   {
    "duration": 17,
    "start_time": "2021-12-02T16:44:14.192Z"
   },
   {
    "duration": 14,
    "start_time": "2021-12-02T16:44:14.211Z"
   },
   {
    "duration": 41,
    "start_time": "2021-12-02T16:44:14.227Z"
   },
   {
    "duration": 16,
    "start_time": "2021-12-02T16:44:14.273Z"
   },
   {
    "duration": 7,
    "start_time": "2021-12-02T16:44:14.293Z"
   },
   {
    "duration": 10,
    "start_time": "2021-12-02T16:44:14.303Z"
   },
   {
    "duration": 59,
    "start_time": "2021-12-02T16:44:14.315Z"
   },
   {
    "duration": 20,
    "start_time": "2021-12-02T16:44:14.377Z"
   },
   {
    "duration": 14,
    "start_time": "2021-12-02T16:44:14.400Z"
   },
   {
    "duration": 391,
    "start_time": "2021-12-02T16:44:14.417Z"
   },
   {
    "duration": 283,
    "start_time": "2021-12-02T16:44:14.810Z"
   },
   {
    "duration": 20,
    "start_time": "2021-12-02T16:44:15.096Z"
   },
   {
    "duration": 12,
    "start_time": "2021-12-02T16:44:15.119Z"
   },
   {
    "duration": 36,
    "start_time": "2021-12-02T16:44:15.133Z"
   },
   {
    "duration": 560,
    "start_time": "2021-12-02T16:44:15.172Z"
   },
   {
    "duration": 552,
    "start_time": "2021-12-02T16:44:15.734Z"
   },
   {
    "duration": 17,
    "start_time": "2021-12-02T16:44:16.289Z"
   },
   {
    "duration": 691,
    "start_time": "2021-12-02T16:44:16.309Z"
   },
   {
    "duration": 26,
    "start_time": "2021-12-02T16:44:17.010Z"
   },
   {
    "duration": 39,
    "start_time": "2021-12-02T16:44:17.040Z"
   },
   {
    "duration": 17,
    "start_time": "2021-12-02T16:44:17.081Z"
   },
   {
    "duration": 584,
    "start_time": "2021-12-02T16:44:17.101Z"
   },
   {
    "duration": 20,
    "start_time": "2021-12-02T16:44:17.687Z"
   },
   {
    "duration": 691,
    "start_time": "2021-12-02T16:44:17.709Z"
   },
   {
    "duration": 210,
    "start_time": "2021-12-02T16:44:18.403Z"
   },
   {
    "duration": 575,
    "start_time": "2021-12-02T16:44:18.617Z"
   },
   {
    "duration": 19,
    "start_time": "2021-12-02T16:44:19.195Z"
   },
   {
    "duration": 893,
    "start_time": "2021-12-02T16:44:19.216Z"
   },
   {
    "duration": 7,
    "start_time": "2021-12-02T16:44:20.111Z"
   },
   {
    "duration": 627,
    "start_time": "2021-12-02T16:44:20.121Z"
   },
   {
    "duration": 428,
    "start_time": "2021-12-02T16:44:20.751Z"
   },
   {
    "duration": 7,
    "start_time": "2021-12-02T16:44:21.182Z"
   },
   {
    "duration": 14,
    "start_time": "2021-12-02T16:44:21.192Z"
   },
   {
    "duration": 134,
    "start_time": "2021-12-02T16:44:21.209Z"
   },
   {
    "duration": 32,
    "start_time": "2021-12-02T16:44:21.346Z"
   },
   {
    "duration": 115,
    "start_time": "2021-12-02T16:44:21.380Z"
   },
   {
    "duration": 35,
    "start_time": "2021-12-02T16:44:21.497Z"
   },
   {
    "duration": 142,
    "start_time": "2021-12-02T16:44:21.535Z"
   },
   {
    "duration": 30,
    "start_time": "2021-12-02T16:44:21.679Z"
   },
   {
    "duration": 135,
    "start_time": "2021-12-02T16:44:21.712Z"
   },
   {
    "duration": 63,
    "start_time": "2021-12-02T16:44:21.850Z"
   },
   {
    "duration": 251,
    "start_time": "2021-12-02T16:44:21.916Z"
   },
   {
    "duration": 10,
    "start_time": "2021-12-02T16:44:22.170Z"
   },
   {
    "duration": 13,
    "start_time": "2021-12-02T16:44:22.183Z"
   },
   {
    "duration": 6,
    "start_time": "2021-12-02T16:44:22.199Z"
   },
   {
    "duration": 16,
    "start_time": "2021-12-02T16:44:22.208Z"
   },
   {
    "duration": 13,
    "start_time": "2021-12-02T16:44:22.268Z"
   },
   {
    "duration": 13,
    "start_time": "2021-12-02T16:44:22.284Z"
   },
   {
    "duration": 6,
    "start_time": "2021-12-02T16:44:22.300Z"
   },
   {
    "duration": 58,
    "start_time": "2021-12-02T16:44:22.309Z"
   },
   {
    "duration": 8,
    "start_time": "2021-12-02T16:44:22.370Z"
   },
   {
    "duration": 6,
    "start_time": "2021-12-02T16:44:22.381Z"
   },
   {
    "duration": 22,
    "start_time": "2021-12-02T16:44:22.390Z"
   },
   {
    "duration": 482,
    "start_time": "2021-12-02T16:52:27.849Z"
   },
   {
    "duration": 111,
    "start_time": "2021-12-02T16:53:45.205Z"
   },
   {
    "duration": 348,
    "start_time": "2021-12-02T17:00:31.924Z"
   },
   {
    "duration": 86,
    "start_time": "2021-12-02T17:00:36.113Z"
   },
   {
    "duration": 8,
    "start_time": "2021-12-02T17:00:41.634Z"
   },
   {
    "duration": 292,
    "start_time": "2021-12-02T17:04:13.427Z"
   },
   {
    "duration": 287,
    "start_time": "2021-12-02T17:04:40.115Z"
   },
   {
    "duration": 20,
    "start_time": "2021-12-02T17:05:00.200Z"
   },
   {
    "duration": 90,
    "start_time": "2021-12-02T17:05:07.932Z"
   },
   {
    "duration": 22,
    "start_time": "2021-12-02T17:05:11.196Z"
   },
   {
    "duration": 21,
    "start_time": "2021-12-02T17:05:18.891Z"
   },
   {
    "duration": 268,
    "start_time": "2021-12-02T17:07:47.464Z"
   },
   {
    "duration": 292,
    "start_time": "2021-12-02T17:07:58.301Z"
   },
   {
    "duration": 124,
    "start_time": "2021-12-02T17:08:31.173Z"
   },
   {
    "duration": 12,
    "start_time": "2021-12-02T17:08:44.310Z"
   },
   {
    "duration": 285,
    "start_time": "2021-12-02T17:10:13.656Z"
   },
   {
    "duration": 314,
    "start_time": "2021-12-02T17:10:32.890Z"
   },
   {
    "duration": 287,
    "start_time": "2021-12-02T17:10:52.531Z"
   },
   {
    "duration": 288,
    "start_time": "2021-12-02T17:13:30.896Z"
   },
   {
    "duration": 22,
    "start_time": "2021-12-02T17:14:03.086Z"
   },
   {
    "duration": 21,
    "start_time": "2021-12-02T17:14:12.752Z"
   },
   {
    "duration": 21,
    "start_time": "2021-12-02T17:14:20.526Z"
   },
   {
    "duration": 301,
    "start_time": "2021-12-02T17:16:31.685Z"
   },
   {
    "duration": 277,
    "start_time": "2021-12-02T17:16:46.749Z"
   },
   {
    "duration": 8,
    "start_time": "2021-12-02T17:16:56.780Z"
   },
   {
    "duration": 8,
    "start_time": "2021-12-02T17:17:02.821Z"
   },
   {
    "duration": 8,
    "start_time": "2021-12-02T17:17:08.199Z"
   },
   {
    "duration": 7,
    "start_time": "2021-12-02T17:18:01.960Z"
   },
   {
    "duration": 14,
    "start_time": "2021-12-02T17:19:01.887Z"
   },
   {
    "duration": 98,
    "start_time": "2021-12-02T17:19:51.525Z"
   },
   {
    "duration": 112,
    "start_time": "2021-12-02T17:20:03.650Z"
   },
   {
    "duration": 6,
    "start_time": "2021-12-02T17:20:11.649Z"
   },
   {
    "duration": 835,
    "start_time": "2021-12-04T09:38:36.863Z"
   },
   {
    "duration": 430,
    "start_time": "2021-12-04T09:39:47.350Z"
   },
   {
    "duration": 18,
    "start_time": "2021-12-04T09:39:55.610Z"
   },
   {
    "duration": 305,
    "start_time": "2021-12-04T09:40:51.939Z"
   },
   {
    "duration": 300,
    "start_time": "2021-12-04T09:42:54.974Z"
   },
   {
    "duration": 288,
    "start_time": "2021-12-04T09:43:16.833Z"
   },
   {
    "duration": 5,
    "start_time": "2021-12-04T09:43:19.389Z"
   },
   {
    "duration": 68,
    "start_time": "2021-12-04T09:43:22.391Z"
   },
   {
    "duration": 50,
    "start_time": "2021-12-04T09:44:15.258Z"
   },
   {
    "duration": 1436,
    "start_time": "2021-12-04T09:44:39.763Z"
   },
   {
    "duration": 62,
    "start_time": "2021-12-04T09:44:41.201Z"
   },
   {
    "duration": 221,
    "start_time": "2021-12-04T09:44:41.266Z"
   },
   {
    "duration": 53,
    "start_time": "2021-12-04T09:44:41.490Z"
   },
   {
    "duration": 10,
    "start_time": "2021-12-04T09:44:41.545Z"
   },
   {
    "duration": 11,
    "start_time": "2021-12-04T09:44:41.557Z"
   },
   {
    "duration": 11,
    "start_time": "2021-12-04T09:44:41.570Z"
   },
   {
    "duration": 56,
    "start_time": "2021-12-04T09:44:41.585Z"
   },
   {
    "duration": 7,
    "start_time": "2021-12-04T09:44:41.644Z"
   },
   {
    "duration": 7,
    "start_time": "2021-12-04T09:44:41.653Z"
   },
   {
    "duration": 687,
    "start_time": "2021-12-04T09:44:41.663Z"
   },
   {
    "duration": 50,
    "start_time": "2021-12-04T09:44:42.352Z"
   },
   {
    "duration": 36,
    "start_time": "2021-12-04T09:44:42.405Z"
   },
   {
    "duration": 377,
    "start_time": "2021-12-04T09:44:42.444Z"
   },
   {
    "duration": 294,
    "start_time": "2021-12-04T09:44:42.823Z"
   },
   {
    "duration": 20,
    "start_time": "2021-12-04T09:44:43.129Z"
   },
   {
    "duration": 11,
    "start_time": "2021-12-04T09:44:43.151Z"
   },
   {
    "duration": 8,
    "start_time": "2021-12-04T09:44:43.165Z"
   },
   {
    "duration": 573,
    "start_time": "2021-12-04T09:44:43.175Z"
   },
   {
    "duration": 548,
    "start_time": "2021-12-04T09:44:43.751Z"
   },
   {
    "duration": 28,
    "start_time": "2021-12-04T09:44:44.302Z"
   },
   {
    "duration": 642,
    "start_time": "2021-12-04T09:44:44.333Z"
   },
   {
    "duration": 15,
    "start_time": "2021-12-04T09:44:44.981Z"
   },
   {
    "duration": 42,
    "start_time": "2021-12-04T09:44:44.999Z"
   },
   {
    "duration": 23,
    "start_time": "2021-12-04T09:44:45.043Z"
   },
   {
    "duration": 545,
    "start_time": "2021-12-04T09:44:45.069Z"
   },
   {
    "duration": 31,
    "start_time": "2021-12-04T09:44:45.617Z"
   },
   {
    "duration": 680,
    "start_time": "2021-12-04T09:44:45.651Z"
   },
   {
    "duration": 237,
    "start_time": "2021-12-04T09:44:46.334Z"
   },
   {
    "duration": 538,
    "start_time": "2021-12-04T09:44:46.573Z"
   },
   {
    "duration": 24,
    "start_time": "2021-12-04T09:44:47.114Z"
   },
   {
    "duration": 617,
    "start_time": "2021-12-04T09:44:47.142Z"
   },
   {
    "duration": 9,
    "start_time": "2021-12-04T09:44:47.762Z"
   },
   {
    "duration": 658,
    "start_time": "2021-12-04T09:44:47.774Z"
   },
   {
    "duration": 431,
    "start_time": "2021-12-04T09:44:48.435Z"
   },
   {
    "duration": 6,
    "start_time": "2021-12-04T09:44:48.868Z"
   },
   {
    "duration": 18,
    "start_time": "2021-12-04T09:44:48.876Z"
   },
   {
    "duration": 121,
    "start_time": "2021-12-04T09:44:48.896Z"
   },
   {
    "duration": 12,
    "start_time": "2021-12-04T09:44:49.029Z"
   },
   {
    "duration": 117,
    "start_time": "2021-12-04T09:44:49.043Z"
   },
   {
    "duration": 29,
    "start_time": "2021-12-04T09:44:49.162Z"
   },
   {
    "duration": 135,
    "start_time": "2021-12-04T09:44:49.194Z"
   },
   {
    "duration": 28,
    "start_time": "2021-12-04T09:44:49.331Z"
   },
   {
    "duration": 135,
    "start_time": "2021-12-04T09:44:49.362Z"
   },
   {
    "duration": 72,
    "start_time": "2021-12-04T09:44:49.499Z"
   },
   {
    "duration": 219,
    "start_time": "2021-12-04T09:44:49.573Z"
   },
   {
    "duration": 8,
    "start_time": "2021-12-04T09:44:49.794Z"
   },
   {
    "duration": 29,
    "start_time": "2021-12-04T09:44:49.804Z"
   },
   {
    "duration": 9,
    "start_time": "2021-12-04T09:44:49.835Z"
   },
   {
    "duration": 25,
    "start_time": "2021-12-04T09:44:49.846Z"
   },
   {
    "duration": 22,
    "start_time": "2021-12-04T09:44:49.873Z"
   },
   {
    "duration": 20,
    "start_time": "2021-12-04T09:44:49.898Z"
   },
   {
    "duration": 9,
    "start_time": "2021-12-04T09:44:49.920Z"
   },
   {
    "duration": 22,
    "start_time": "2021-12-04T09:44:49.931Z"
   },
   {
    "duration": 15,
    "start_time": "2021-12-04T09:44:49.955Z"
   },
   {
    "duration": 5,
    "start_time": "2021-12-04T09:44:49.972Z"
   },
   {
    "duration": 21,
    "start_time": "2021-12-04T09:44:49.980Z"
   },
   {
    "duration": 1534,
    "start_time": "2021-12-04T10:02:26.482Z"
   },
   {
    "duration": 62,
    "start_time": "2021-12-04T10:02:28.018Z"
   },
   {
    "duration": 204,
    "start_time": "2021-12-04T10:02:28.084Z"
   },
   {
    "duration": 50,
    "start_time": "2021-12-04T10:02:28.291Z"
   },
   {
    "duration": 12,
    "start_time": "2021-12-04T10:02:28.343Z"
   },
   {
    "duration": 12,
    "start_time": "2021-12-04T10:02:28.357Z"
   },
   {
    "duration": 11,
    "start_time": "2021-12-04T10:02:28.371Z"
   },
   {
    "duration": 12,
    "start_time": "2021-12-04T10:02:28.431Z"
   },
   {
    "duration": 12,
    "start_time": "2021-12-04T10:02:28.446Z"
   },
   {
    "duration": 6,
    "start_time": "2021-12-04T10:02:28.460Z"
   },
   {
    "duration": 1036,
    "start_time": "2021-12-04T10:02:28.468Z"
   },
   {
    "duration": 64,
    "start_time": "2021-12-04T10:02:29.507Z"
   },
   {
    "duration": 15,
    "start_time": "2021-12-04T10:02:29.574Z"
   },
   {
    "duration": 365,
    "start_time": "2021-12-04T10:02:29.591Z"
   },
   {
    "duration": 293,
    "start_time": "2021-12-04T10:02:29.958Z"
   },
   {
    "duration": 18,
    "start_time": "2021-12-04T10:02:30.253Z"
   },
   {
    "duration": 16,
    "start_time": "2021-12-04T10:02:30.273Z"
   },
   {
    "duration": 37,
    "start_time": "2021-12-04T10:02:30.291Z"
   },
   {
    "duration": 535,
    "start_time": "2021-12-04T10:02:30.330Z"
   },
   {
    "duration": 549,
    "start_time": "2021-12-04T10:02:30.867Z"
   },
   {
    "duration": 19,
    "start_time": "2021-12-04T10:02:31.418Z"
   },
   {
    "duration": 912,
    "start_time": "2021-12-04T10:02:31.439Z"
   },
   {
    "duration": 16,
    "start_time": "2021-12-04T10:02:32.356Z"
   },
   {
    "duration": 19,
    "start_time": "2021-12-04T10:02:32.375Z"
   },
   {
    "duration": 43,
    "start_time": "2021-12-04T10:02:32.397Z"
   },
   {
    "duration": 532,
    "start_time": "2021-12-04T10:02:32.442Z"
   },
   {
    "duration": 21,
    "start_time": "2021-12-04T10:02:32.976Z"
   },
   {
    "duration": 733,
    "start_time": "2021-12-04T10:02:32.999Z"
   },
   {
    "duration": 198,
    "start_time": "2021-12-04T10:02:33.734Z"
   },
   {
    "duration": 630,
    "start_time": "2021-12-04T10:02:33.935Z"
   },
   {
    "duration": 18,
    "start_time": "2021-12-04T10:02:34.567Z"
   },
   {
    "duration": 654,
    "start_time": "2021-12-04T10:02:34.588Z"
   },
   {
    "duration": 6,
    "start_time": "2021-12-04T10:02:35.244Z"
   },
   {
    "duration": 582,
    "start_time": "2021-12-04T10:02:35.253Z"
   },
   {
    "duration": 494,
    "start_time": "2021-12-04T10:02:35.838Z"
   },
   {
    "duration": 8,
    "start_time": "2021-12-04T10:02:36.335Z"
   },
   {
    "duration": 19,
    "start_time": "2021-12-04T10:02:36.346Z"
   },
   {
    "duration": 190,
    "start_time": "2021-12-04T10:02:36.368Z"
   },
   {
    "duration": 18,
    "start_time": "2021-12-04T10:02:36.562Z"
   },
   {
    "duration": 129,
    "start_time": "2021-12-04T10:02:36.583Z"
   },
   {
    "duration": 43,
    "start_time": "2021-12-04T10:02:36.714Z"
   },
   {
    "duration": 129,
    "start_time": "2021-12-04T10:02:36.759Z"
   },
   {
    "duration": 46,
    "start_time": "2021-12-04T10:02:36.891Z"
   },
   {
    "duration": 114,
    "start_time": "2021-12-04T10:02:36.940Z"
   },
   {
    "duration": 72,
    "start_time": "2021-12-04T10:02:37.057Z"
   },
   {
    "duration": 247,
    "start_time": "2021-12-04T10:02:37.131Z"
   },
   {
    "duration": 9,
    "start_time": "2021-12-04T10:02:37.380Z"
   },
   {
    "duration": 37,
    "start_time": "2021-12-04T10:02:37.391Z"
   },
   {
    "duration": 5,
    "start_time": "2021-12-04T10:02:37.430Z"
   },
   {
    "duration": 13,
    "start_time": "2021-12-04T10:02:37.438Z"
   },
   {
    "duration": 12,
    "start_time": "2021-12-04T10:02:37.453Z"
   },
   {
    "duration": 16,
    "start_time": "2021-12-04T10:02:37.467Z"
   },
   {
    "duration": 7,
    "start_time": "2021-12-04T10:02:37.485Z"
   },
   {
    "duration": 11,
    "start_time": "2021-12-04T10:02:37.530Z"
   },
   {
    "duration": 21,
    "start_time": "2021-12-04T10:02:37.544Z"
   },
   {
    "duration": 7,
    "start_time": "2021-12-04T10:02:37.568Z"
   },
   {
    "duration": 26,
    "start_time": "2021-12-04T10:02:37.578Z"
   },
   {
    "duration": 405,
    "start_time": "2021-12-05T07:14:03.582Z"
   },
   {
    "duration": 1042,
    "start_time": "2021-12-05T07:14:12.771Z"
   },
   {
    "duration": 66,
    "start_time": "2021-12-05T07:14:13.814Z"
   },
   {
    "duration": 128,
    "start_time": "2021-12-05T07:14:13.881Z"
   },
   {
    "duration": 9,
    "start_time": "2021-12-05T07:14:14.010Z"
   },
   {
    "duration": 6,
    "start_time": "2021-12-05T07:14:14.020Z"
   },
   {
    "duration": 7,
    "start_time": "2021-12-05T07:14:14.028Z"
   },
   {
    "duration": 6,
    "start_time": "2021-12-05T07:14:14.036Z"
   },
   {
    "duration": 6,
    "start_time": "2021-12-05T07:14:14.045Z"
   },
   {
    "duration": 4,
    "start_time": "2021-12-05T07:14:14.089Z"
   },
   {
    "duration": 5,
    "start_time": "2021-12-05T07:14:14.094Z"
   },
   {
    "duration": 505,
    "start_time": "2021-12-05T07:14:14.101Z"
   },
   {
    "duration": 25,
    "start_time": "2021-12-05T07:14:14.608Z"
   },
   {
    "duration": 10,
    "start_time": "2021-12-05T07:14:14.635Z"
   },
   {
    "duration": 213,
    "start_time": "2021-12-05T07:14:14.646Z"
   },
   {
    "duration": 160,
    "start_time": "2021-12-05T07:14:14.861Z"
   },
   {
    "duration": 11,
    "start_time": "2021-12-05T07:14:15.022Z"
   },
   {
    "duration": 18,
    "start_time": "2021-12-05T07:14:15.035Z"
   },
   {
    "duration": 7,
    "start_time": "2021-12-05T07:14:15.055Z"
   },
   {
    "duration": 333,
    "start_time": "2021-12-05T07:14:15.064Z"
   },
   {
    "duration": 281,
    "start_time": "2021-12-05T07:14:15.399Z"
   },
   {
    "duration": 10,
    "start_time": "2021-12-05T07:14:15.681Z"
   },
   {
    "duration": 431,
    "start_time": "2021-12-05T07:14:15.693Z"
   },
   {
    "duration": 9,
    "start_time": "2021-12-05T07:14:16.127Z"
   },
   {
    "duration": 12,
    "start_time": "2021-12-05T07:14:16.138Z"
   },
   {
    "duration": 12,
    "start_time": "2021-12-05T07:14:16.152Z"
   },
   {
    "duration": 291,
    "start_time": "2021-12-05T07:14:16.165Z"
   },
   {
    "duration": 12,
    "start_time": "2021-12-05T07:14:16.458Z"
   },
   {
    "duration": 456,
    "start_time": "2021-12-05T07:14:16.471Z"
   },
   {
    "duration": 111,
    "start_time": "2021-12-05T07:14:16.928Z"
   },
   {
    "duration": 280,
    "start_time": "2021-12-05T07:14:17.041Z"
   },
   {
    "duration": 11,
    "start_time": "2021-12-05T07:14:17.322Z"
   },
   {
    "duration": 371,
    "start_time": "2021-12-05T07:14:17.334Z"
   },
   {
    "duration": 4,
    "start_time": "2021-12-05T07:14:17.706Z"
   },
   {
    "duration": 379,
    "start_time": "2021-12-05T07:14:17.712Z"
   },
   {
    "duration": 229,
    "start_time": "2021-12-05T07:14:18.092Z"
   },
   {
    "duration": 4,
    "start_time": "2021-12-05T07:14:18.322Z"
   },
   {
    "duration": 12,
    "start_time": "2021-12-05T07:14:18.327Z"
   },
   {
    "duration": 66,
    "start_time": "2021-12-05T07:14:18.340Z"
   },
   {
    "duration": 22,
    "start_time": "2021-12-05T07:14:18.407Z"
   },
   {
    "duration": 80,
    "start_time": "2021-12-05T07:14:18.430Z"
   },
   {
    "duration": 21,
    "start_time": "2021-12-05T07:14:18.512Z"
   },
   {
    "duration": 192,
    "start_time": "2021-12-05T07:14:18.535Z"
   },
   {
    "duration": 68,
    "start_time": "2021-12-05T07:14:18.729Z"
   },
   {
    "duration": 190,
    "start_time": "2021-12-05T07:14:18.799Z"
   },
   {
    "duration": 98,
    "start_time": "2021-12-05T07:14:18.992Z"
   },
   {
    "duration": 200,
    "start_time": "2021-12-05T07:14:19.092Z"
   },
   {
    "duration": 6,
    "start_time": "2021-12-05T07:14:19.293Z"
   },
   {
    "duration": 10,
    "start_time": "2021-12-05T07:14:19.301Z"
   },
   {
    "duration": 3,
    "start_time": "2021-12-05T07:14:19.312Z"
   },
   {
    "duration": 11,
    "start_time": "2021-12-05T07:14:19.316Z"
   },
   {
    "duration": 15,
    "start_time": "2021-12-05T07:14:19.328Z"
   },
   {
    "duration": 8,
    "start_time": "2021-12-05T07:14:19.344Z"
   },
   {
    "duration": 9,
    "start_time": "2021-12-05T07:14:19.353Z"
   },
   {
    "duration": 8,
    "start_time": "2021-12-05T07:14:19.364Z"
   },
   {
    "duration": 5,
    "start_time": "2021-12-05T07:14:19.387Z"
   },
   {
    "duration": 3,
    "start_time": "2021-12-05T07:14:19.394Z"
   },
   {
    "duration": 12,
    "start_time": "2021-12-05T07:14:19.398Z"
   },
   {
    "duration": 426,
    "start_time": "2021-12-05T07:14:57.105Z"
   },
   {
    "duration": 409,
    "start_time": "2021-12-05T07:15:13.621Z"
   },
   {
    "duration": 410,
    "start_time": "2021-12-05T07:15:37.449Z"
   },
   {
    "duration": 1002,
    "start_time": "2021-12-05T07:17:36.205Z"
   },
   {
    "duration": 66,
    "start_time": "2021-12-05T07:17:37.208Z"
   },
   {
    "duration": 123,
    "start_time": "2021-12-05T07:17:37.275Z"
   },
   {
    "duration": 9,
    "start_time": "2021-12-05T07:17:37.400Z"
   },
   {
    "duration": 6,
    "start_time": "2021-12-05T07:17:37.410Z"
   },
   {
    "duration": 7,
    "start_time": "2021-12-05T07:17:37.418Z"
   },
   {
    "duration": 6,
    "start_time": "2021-12-05T07:17:37.427Z"
   },
   {
    "duration": 11,
    "start_time": "2021-12-05T07:17:37.435Z"
   },
   {
    "duration": 7,
    "start_time": "2021-12-05T07:17:37.448Z"
   },
   {
    "duration": 35,
    "start_time": "2021-12-05T07:17:37.456Z"
   },
   {
    "duration": 433,
    "start_time": "2021-12-05T07:17:37.492Z"
   },
   {
    "duration": 26,
    "start_time": "2021-12-05T07:17:37.927Z"
   },
   {
    "duration": 8,
    "start_time": "2021-12-05T07:17:37.955Z"
   },
   {
    "duration": 212,
    "start_time": "2021-12-05T07:17:37.965Z"
   },
   {
    "duration": 152,
    "start_time": "2021-12-05T07:17:38.178Z"
   },
   {
    "duration": 10,
    "start_time": "2021-12-05T07:17:38.332Z"
   },
   {
    "duration": 7,
    "start_time": "2021-12-05T07:17:38.344Z"
   },
   {
    "duration": 6,
    "start_time": "2021-12-05T07:17:38.352Z"
   },
   {
    "duration": 449,
    "start_time": "2021-12-05T07:17:38.360Z"
   },
   {
    "duration": 290,
    "start_time": "2021-12-05T07:17:38.811Z"
   },
   {
    "duration": 11,
    "start_time": "2021-12-05T07:17:39.102Z"
   },
   {
    "duration": 420,
    "start_time": "2021-12-05T07:17:39.115Z"
   },
   {
    "duration": 10,
    "start_time": "2021-12-05T07:17:39.538Z"
   },
   {
    "duration": 11,
    "start_time": "2021-12-05T07:17:39.549Z"
   },
   {
    "duration": 8,
    "start_time": "2021-12-05T07:17:39.562Z"
   },
   {
    "duration": 293,
    "start_time": "2021-12-05T07:17:39.571Z"
   },
   {
    "duration": 11,
    "start_time": "2021-12-05T07:17:39.866Z"
   },
   {
    "duration": 430,
    "start_time": "2021-12-05T07:17:39.888Z"
   },
   {
    "duration": 117,
    "start_time": "2021-12-05T07:17:40.320Z"
   },
   {
    "duration": 301,
    "start_time": "2021-12-05T07:17:40.438Z"
   },
   {
    "duration": 11,
    "start_time": "2021-12-05T07:17:40.740Z"
   },
   {
    "duration": 387,
    "start_time": "2021-12-05T07:17:40.752Z"
   },
   {
    "duration": 5,
    "start_time": "2021-12-05T07:17:41.141Z"
   },
   {
    "duration": 357,
    "start_time": "2021-12-05T07:17:41.148Z"
   },
   {
    "duration": 227,
    "start_time": "2021-12-05T07:17:41.507Z"
   },
   {
    "duration": 5,
    "start_time": "2021-12-05T07:17:41.736Z"
   },
   {
    "duration": 11,
    "start_time": "2021-12-05T07:17:41.742Z"
   },
   {
    "duration": 70,
    "start_time": "2021-12-05T07:17:41.755Z"
   },
   {
    "duration": 9,
    "start_time": "2021-12-05T07:17:41.827Z"
   },
   {
    "duration": 70,
    "start_time": "2021-12-05T07:17:41.838Z"
   },
   {
    "duration": 18,
    "start_time": "2021-12-05T07:17:41.910Z"
   },
   {
    "duration": 75,
    "start_time": "2021-12-05T07:17:41.929Z"
   },
   {
    "duration": 17,
    "start_time": "2021-12-05T07:17:42.005Z"
   },
   {
    "duration": 71,
    "start_time": "2021-12-05T07:17:42.023Z"
   },
   {
    "duration": 27,
    "start_time": "2021-12-05T07:17:42.096Z"
   },
   {
    "duration": 116,
    "start_time": "2021-12-05T07:17:42.124Z"
   },
   {
    "duration": 4,
    "start_time": "2021-12-05T07:17:42.242Z"
   },
   {
    "duration": 7,
    "start_time": "2021-12-05T07:17:42.248Z"
   },
   {
    "duration": 3,
    "start_time": "2021-12-05T07:17:42.256Z"
   },
   {
    "duration": 32,
    "start_time": "2021-12-05T07:17:42.260Z"
   },
   {
    "duration": 6,
    "start_time": "2021-12-05T07:17:42.293Z"
   },
   {
    "duration": 9,
    "start_time": "2021-12-05T07:17:42.301Z"
   },
   {
    "duration": 4,
    "start_time": "2021-12-05T07:17:42.312Z"
   },
   {
    "duration": 6,
    "start_time": "2021-12-05T07:17:42.317Z"
   },
   {
    "duration": 6,
    "start_time": "2021-12-05T07:17:42.324Z"
   },
   {
    "duration": 3,
    "start_time": "2021-12-05T07:17:42.331Z"
   },
   {
    "duration": 10,
    "start_time": "2021-12-05T07:17:42.335Z"
   }
  ],
  "kernelspec": {
   "display_name": "Python 3 (ipykernel)",
   "language": "python",
   "name": "python3"
  },
  "language_info": {
   "codemirror_mode": {
    "name": "ipython",
    "version": 3
   },
   "file_extension": ".py",
   "mimetype": "text/x-python",
   "name": "python",
   "nbconvert_exporter": "python",
   "pygments_lexer": "ipython3",
   "version": "3.10.0"
  },
  "toc": {
   "base_numbering": 1,
   "nav_menu": {},
   "number_sections": true,
   "sideBar": true,
   "skip_h1_title": true,
   "title_cell": "Table of Contents",
   "title_sidebar": "Contents",
   "toc_cell": false,
   "toc_position": {
    "height": "calc(100% - 180px)",
    "left": "10px",
    "top": "150px",
    "width": "555.792px"
   },
   "toc_section_display": true,
   "toc_window_display": true
  }
 },
 "nbformat": 4,
 "nbformat_minor": 2
}
