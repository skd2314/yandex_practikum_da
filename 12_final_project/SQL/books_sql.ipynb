{
 "cells": [
  {
   "cell_type": "markdown",
   "metadata": {},
   "source": [
    "Проект по SQL\n",
    "="
   ]
  },
  {
   "cell_type": "markdown",
   "metadata": {},
   "source": [
    "Содержание\n",
    "==\n",
    "\n",
    "[Описание проекта](#0)\n",
    "\n",
    "[Описание данных](#1)\n",
    "\n",
    "[Схема данных](#2)\n",
    "\n",
    "[Задачи](#3)\n",
    "\n",
    "[1 Импортируем библиотеки](#4) \n",
    "\n",
    "[2 Создаём коннекцию к базам и получаем данные](#5) \n",
    "\n",
    "[3 Изучение данных](#6)\n",
    "\n",
    "[4 Подготовка данных](#7)\n",
    "\n",
    "[5 Изучение данных](#8)\n",
    "- [5.1 Посчитаем, сколько книг вышло после 1 января 2000 года](#8.1)\n",
    "- [5.2 Для каждой книги посчитаем количество обзоров и среднюю оценку](#8.2)\n",
    "- [5.3 Определим издательства, которое выпустило наибольшее число книг](#8.3)\n",
    "- [5.4 Определим автора с самой высокой средней оценкой книги](#8.4)\n",
    "- [5.5 Посчитаем выручку на покупателя](#8.5)\n",
    "\n",
    "\n",
    "[6 Вывод](#9)\n",
    "- [6.1 Рекомендачии](#9.1)\n"
   ]
  },
  {
   "cell_type": "markdown",
   "metadata": {},
   "source": [
    "Описание проекта\n",
    "==\n",
    "<a name=\"0\"></a>\n",
    "\n",
    "Коронавирус застал мир врасплох, изменив привычный порядок вещей. В свободное время жители городов больше не выходят на улицу, не посещают кафе и торговые центры. Зато стало больше времени для книг. Это заметили стартаперы — и бросились создавать приложения для тех, кто любит читать.\n",
    "\n",
    "Ваша компания решила быть на волне и купила крупный сервис для чтения книг по подписке. Ваша первая задача как аналитика — проанализировать базу данных. В ней — информация о книгах, издательствах, авторах, а также пользовательские обзоры книг. Эти данные помогут сформулировать ценностное предложение для нового продукта.\n"
   ]
  },
  {
   "cell_type": "markdown",
   "metadata": {},
   "source": [
    "**Описание данных**\n",
    "===\n",
    "\n",
    "<a name=\"1\"></a>\n",
    "\n",
    "**Таблица `books`**\n",
    "\n",
    "Содержит данные о книгах:\n",
    "\n",
    "* `book_id` — идентификатор книги;\n",
    "* `author_id` — идентификатор автора;\n",
    "* `title` — название книги;\n",
    "* `num_pages` — количество страниц;\n",
    "* `publication_date` — дата публикации книги;\n",
    "* `publisher_id` — идентификатор издателя.\n",
    "\n",
    "\n",
    "**Таблица `authors`**\n",
    "Содержит данные об авторах:\n",
    "* `author_id` — идентификатор автора;\n",
    "* `author` — имя автора.\n",
    "\n",
    "**Таблица `publishers`**\n",
    "Содержит данные об издательствах:\n",
    "* `publisher_id` — идентификатор издательства;\n",
    "* `publisher` — название издательства;\n",
    "\n",
    "**Таблица `ratings`**\n",
    "Содержит данные о пользовательских оценках книг:\n",
    "* `rating_id` — идентификатор оценки;\n",
    "* `book_id` — идентификатор книги;\n",
    "* `username` — имя пользователя, оставившего оценку;\n",
    "* `rating` — оценка книги.\n",
    "\n",
    "**Таблица ``reviews``**\n",
    "Содержит данные о пользовательских обзорах:\n",
    "* `review_id` — идентификатор обзора;\n",
    "* `book_id` — идентификатор книги;\n",
    "* `username` — имя автора обзора;\n",
    "* `text` — текст обзора.\n",
    "\n"
   ]
  },
  {
   "cell_type": "markdown",
   "metadata": {},
   "source": [
    "Схема данных\n",
    "===\n",
    "\n",
    "<a name=\"2\"></a>\n",
    "\n",
    "![схема данных](https://pictures.s3.yandex.net/resources/scheme_1589269096.png \"Yandex\")\n"
   ]
  },
  {
   "cell_type": "markdown",
   "metadata": {},
   "source": [
    "Задачи\n",
    "===\n",
    "<a name=\"3\"></a>\n",
    "\n",
    "\n",
    "- Посчитайте, сколько книг вышло после 1 января 2000 года;\n",
    "- Для каждой книги посчитайте количество обзоров и среднюю оценку;\n",
    "- Определите издательство, которое выпустило наибольшее число книг толще 50 страниц — так вы исключите из анализа брошюры;\n",
    "- Определите автора с самой высокой средней оценкой книг — учитывайте только книги с 50 и более оценками;\n",
    "- Посчитайте среднее количество обзоров от пользователей, которые поставили больше 50 оценок.\n"
   ]
  },
  {
   "cell_type": "markdown",
   "metadata": {},
   "source": [
    "## Импортируем библиотеки\n",
    "<a name=\"4\"></a>"
   ]
  },
  {
   "cell_type": "code",
   "execution_count": 1,
   "metadata": {},
   "outputs": [
    {
     "data": {
      "application/javascript": [
       "IPython.notebook.set_autosave_interval(60000)"
      ]
     },
     "metadata": {},
     "output_type": "display_data"
    },
    {
     "name": "stdout",
     "output_type": "stream",
     "text": [
      "Autosaving every 60 seconds\n"
     ]
    }
   ],
   "source": [
    "import pandas as pd\n",
    "from sqlalchemy import create_engine\n",
    "from datetime import datetime\n",
    "pd.set_option('display.max_columns', None)\n",
    "pd.options.display.max_colwidth = 150\n",
    "\n",
    "#import seaborn as sns; sns.set()\n",
    "#cm = sns.light_palette(\"green\", as_cmap=True)\n",
    "\n",
    "#import seaborn as sns\n",
    "#import math\n",
    "#import numpy as np\n",
    "#from scipy import stats as st\n",
    "\n",
    "#import plotly.express as px\n",
    "#import plotly.graph_objs as go\n",
    "#from plotly.offline import download_plotlyjs, init_notebook_mode, plot, iplot\n",
    "\n",
    "%autosave 60"
   ]
  },
  {
   "cell_type": "markdown",
   "metadata": {},
   "source": [
    "## Создаём коннекцию к базам и получаем данные\n",
    "<a name=\"5\"></a>"
   ]
  },
  {
   "cell_type": "markdown",
   "metadata": {},
   "source": [
    "### books"
   ]
  },
  {
   "cell_type": "code",
   "execution_count": 2,
   "metadata": {},
   "outputs": [],
   "source": [
    "# устанавливаем параметры\n",
    "db_config = {'user': 'praktikum_student', # имя пользователя\n",
    "            'pwd': 'Sdf4$2;d-d30pp', # пароль\n",
    "            'host': 'rc1b-wcoijxj3yxfsf3fs.mdb.yandexcloud.net',\n",
    "            'port': 6432, # порт подключения\n",
    "            'db': 'data-analyst-final-project-db'} # название базы данных\n",
    "\n",
    "connection_string = 'postgresql://{}:{}@{}:{}/{}'.format(db_config['user'],\n",
    "                                                db_config['pwd'],\n",
    "                                                db_config['host'],\n",
    "                                                db_config['port'],\n",
    "                                                db_config['db'])\n",
    "# сохраняем коннектор\n",
    "engine = create_engine(connection_string, connect_args={'sslmode':'require'})\n"
   ]
  },
  {
   "cell_type": "code",
   "execution_count": 3,
   "metadata": {},
   "outputs": [],
   "source": [
    "# получаем сырые данные\n",
    "query = '''\n",
    "            SELECT * FROM books\n",
    "        '''\n",
    "books = pd.io.sql.read_sql(query, con = engine)"
   ]
  },
  {
   "cell_type": "code",
   "execution_count": 4,
   "metadata": {},
   "outputs": [
    {
     "data": {
      "text/html": [
       "<div>\n",
       "<style scoped>\n",
       "    .dataframe tbody tr th:only-of-type {\n",
       "        vertical-align: middle;\n",
       "    }\n",
       "\n",
       "    .dataframe tbody tr th {\n",
       "        vertical-align: top;\n",
       "    }\n",
       "\n",
       "    .dataframe thead th {\n",
       "        text-align: right;\n",
       "    }\n",
       "</style>\n",
       "<table border=\"1\" class=\"dataframe\">\n",
       "  <thead>\n",
       "    <tr style=\"text-align: right;\">\n",
       "      <th></th>\n",
       "      <th>book_id</th>\n",
       "      <th>author_id</th>\n",
       "      <th>title</th>\n",
       "      <th>num_pages</th>\n",
       "      <th>publication_date</th>\n",
       "      <th>publisher_id</th>\n",
       "    </tr>\n",
       "  </thead>\n",
       "  <tbody>\n",
       "    <tr>\n",
       "      <th>0</th>\n",
       "      <td>1</td>\n",
       "      <td>546</td>\n",
       "      <td>'Salem's Lot</td>\n",
       "      <td>594</td>\n",
       "      <td>2005-11-01</td>\n",
       "      <td>93</td>\n",
       "    </tr>\n",
       "    <tr>\n",
       "      <th>1</th>\n",
       "      <td>2</td>\n",
       "      <td>465</td>\n",
       "      <td>1 000 Places to See Before You Die</td>\n",
       "      <td>992</td>\n",
       "      <td>2003-05-22</td>\n",
       "      <td>336</td>\n",
       "    </tr>\n",
       "    <tr>\n",
       "      <th>2</th>\n",
       "      <td>3</td>\n",
       "      <td>407</td>\n",
       "      <td>13 Little Blue Envelopes (Little Blue Envelope  #1)</td>\n",
       "      <td>322</td>\n",
       "      <td>2010-12-21</td>\n",
       "      <td>135</td>\n",
       "    </tr>\n",
       "    <tr>\n",
       "      <th>3</th>\n",
       "      <td>4</td>\n",
       "      <td>82</td>\n",
       "      <td>1491: New Revelations of the Americas Before Columbus</td>\n",
       "      <td>541</td>\n",
       "      <td>2006-10-10</td>\n",
       "      <td>309</td>\n",
       "    </tr>\n",
       "    <tr>\n",
       "      <th>4</th>\n",
       "      <td>5</td>\n",
       "      <td>125</td>\n",
       "      <td>1776</td>\n",
       "      <td>386</td>\n",
       "      <td>2006-07-04</td>\n",
       "      <td>268</td>\n",
       "    </tr>\n",
       "  </tbody>\n",
       "</table>\n",
       "</div>"
      ],
      "text/plain": [
       "   book_id  author_id                                                  title  \\\n",
       "0        1        546                                           'Salem's Lot   \n",
       "1        2        465                     1 000 Places to See Before You Die   \n",
       "2        3        407    13 Little Blue Envelopes (Little Blue Envelope  #1)   \n",
       "3        4         82  1491: New Revelations of the Americas Before Columbus   \n",
       "4        5        125                                                   1776   \n",
       "\n",
       "   num_pages publication_date  publisher_id  \n",
       "0        594       2005-11-01            93  \n",
       "1        992       2003-05-22           336  \n",
       "2        322       2010-12-21           135  \n",
       "3        541       2006-10-10           309  \n",
       "4        386       2006-07-04           268  "
      ]
     },
     "execution_count": 4,
     "metadata": {},
     "output_type": "execute_result"
    }
   ],
   "source": [
    "# формируем csv-файл\n",
    "#books.to_csv('books.csv', sep='\\t', encoding='utf-8', index=False)\n",
    "books.head()"
   ]
  },
  {
   "cell_type": "markdown",
   "metadata": {},
   "source": [
    "### authors"
   ]
  },
  {
   "cell_type": "code",
   "execution_count": 5,
   "metadata": {},
   "outputs": [],
   "source": [
    "# получаем сырые данные\n",
    "query = '''\n",
    "            SELECT * FROM authors\n",
    "        '''\n",
    "authors = pd.io.sql.read_sql(query, con = engine)"
   ]
  },
  {
   "cell_type": "code",
   "execution_count": 6,
   "metadata": {},
   "outputs": [
    {
     "data": {
      "text/html": [
       "<div>\n",
       "<style scoped>\n",
       "    .dataframe tbody tr th:only-of-type {\n",
       "        vertical-align: middle;\n",
       "    }\n",
       "\n",
       "    .dataframe tbody tr th {\n",
       "        vertical-align: top;\n",
       "    }\n",
       "\n",
       "    .dataframe thead th {\n",
       "        text-align: right;\n",
       "    }\n",
       "</style>\n",
       "<table border=\"1\" class=\"dataframe\">\n",
       "  <thead>\n",
       "    <tr style=\"text-align: right;\">\n",
       "      <th></th>\n",
       "      <th>author_id</th>\n",
       "      <th>author</th>\n",
       "    </tr>\n",
       "  </thead>\n",
       "  <tbody>\n",
       "    <tr>\n",
       "      <th>0</th>\n",
       "      <td>1</td>\n",
       "      <td>A.S. Byatt</td>\n",
       "    </tr>\n",
       "    <tr>\n",
       "      <th>1</th>\n",
       "      <td>2</td>\n",
       "      <td>Aesop/Laura Harris/Laura Gibbs</td>\n",
       "    </tr>\n",
       "    <tr>\n",
       "      <th>2</th>\n",
       "      <td>3</td>\n",
       "      <td>Agatha Christie</td>\n",
       "    </tr>\n",
       "    <tr>\n",
       "      <th>3</th>\n",
       "      <td>4</td>\n",
       "      <td>Alan Brennert</td>\n",
       "    </tr>\n",
       "    <tr>\n",
       "      <th>4</th>\n",
       "      <td>5</td>\n",
       "      <td>Alan Moore/David   Lloyd</td>\n",
       "    </tr>\n",
       "  </tbody>\n",
       "</table>\n",
       "</div>"
      ],
      "text/plain": [
       "   author_id                          author\n",
       "0          1                      A.S. Byatt\n",
       "1          2  Aesop/Laura Harris/Laura Gibbs\n",
       "2          3                 Agatha Christie\n",
       "3          4                   Alan Brennert\n",
       "4          5        Alan Moore/David   Lloyd"
      ]
     },
     "execution_count": 6,
     "metadata": {},
     "output_type": "execute_result"
    }
   ],
   "source": [
    "authors.head()"
   ]
  },
  {
   "cell_type": "markdown",
   "metadata": {},
   "source": [
    "### publishers"
   ]
  },
  {
   "cell_type": "code",
   "execution_count": 7,
   "metadata": {},
   "outputs": [],
   "source": [
    "# получаем сырые данные\n",
    "query = '''\n",
    "            SELECT * FROM publishers\n",
    "        '''\n",
    "publishers = pd.io.sql.read_sql(query, con = engine)"
   ]
  },
  {
   "cell_type": "code",
   "execution_count": 8,
   "metadata": {},
   "outputs": [
    {
     "data": {
      "text/html": [
       "<div>\n",
       "<style scoped>\n",
       "    .dataframe tbody tr th:only-of-type {\n",
       "        vertical-align: middle;\n",
       "    }\n",
       "\n",
       "    .dataframe tbody tr th {\n",
       "        vertical-align: top;\n",
       "    }\n",
       "\n",
       "    .dataframe thead th {\n",
       "        text-align: right;\n",
       "    }\n",
       "</style>\n",
       "<table border=\"1\" class=\"dataframe\">\n",
       "  <thead>\n",
       "    <tr style=\"text-align: right;\">\n",
       "      <th></th>\n",
       "      <th>publisher_id</th>\n",
       "      <th>publisher</th>\n",
       "    </tr>\n",
       "  </thead>\n",
       "  <tbody>\n",
       "    <tr>\n",
       "      <th>0</th>\n",
       "      <td>1</td>\n",
       "      <td>Ace</td>\n",
       "    </tr>\n",
       "    <tr>\n",
       "      <th>1</th>\n",
       "      <td>2</td>\n",
       "      <td>Ace Book</td>\n",
       "    </tr>\n",
       "    <tr>\n",
       "      <th>2</th>\n",
       "      <td>3</td>\n",
       "      <td>Ace Books</td>\n",
       "    </tr>\n",
       "    <tr>\n",
       "      <th>3</th>\n",
       "      <td>4</td>\n",
       "      <td>Ace Hardcover</td>\n",
       "    </tr>\n",
       "    <tr>\n",
       "      <th>4</th>\n",
       "      <td>5</td>\n",
       "      <td>Addison Wesley Publishing Company</td>\n",
       "    </tr>\n",
       "  </tbody>\n",
       "</table>\n",
       "</div>"
      ],
      "text/plain": [
       "   publisher_id                          publisher\n",
       "0             1                                Ace\n",
       "1             2                           Ace Book\n",
       "2             3                          Ace Books\n",
       "3             4                      Ace Hardcover\n",
       "4             5  Addison Wesley Publishing Company"
      ]
     },
     "execution_count": 8,
     "metadata": {},
     "output_type": "execute_result"
    }
   ],
   "source": [
    "publishers.head()"
   ]
  },
  {
   "cell_type": "markdown",
   "metadata": {},
   "source": [
    "### ratings"
   ]
  },
  {
   "cell_type": "code",
   "execution_count": 9,
   "metadata": {},
   "outputs": [],
   "source": [
    "# получаем сырые данные\n",
    "query = '''\n",
    "            SELECT * FROM ratings\n",
    "        '''\n",
    "ratings = pd.io.sql.read_sql(query, con = engine)"
   ]
  },
  {
   "cell_type": "code",
   "execution_count": 10,
   "metadata": {},
   "outputs": [
    {
     "data": {
      "text/html": [
       "<div>\n",
       "<style scoped>\n",
       "    .dataframe tbody tr th:only-of-type {\n",
       "        vertical-align: middle;\n",
       "    }\n",
       "\n",
       "    .dataframe tbody tr th {\n",
       "        vertical-align: top;\n",
       "    }\n",
       "\n",
       "    .dataframe thead th {\n",
       "        text-align: right;\n",
       "    }\n",
       "</style>\n",
       "<table border=\"1\" class=\"dataframe\">\n",
       "  <thead>\n",
       "    <tr style=\"text-align: right;\">\n",
       "      <th></th>\n",
       "      <th>rating_id</th>\n",
       "      <th>book_id</th>\n",
       "      <th>username</th>\n",
       "      <th>rating</th>\n",
       "    </tr>\n",
       "  </thead>\n",
       "  <tbody>\n",
       "    <tr>\n",
       "      <th>0</th>\n",
       "      <td>1</td>\n",
       "      <td>1</td>\n",
       "      <td>ryanfranco</td>\n",
       "      <td>4</td>\n",
       "    </tr>\n",
       "    <tr>\n",
       "      <th>1</th>\n",
       "      <td>2</td>\n",
       "      <td>1</td>\n",
       "      <td>grantpatricia</td>\n",
       "      <td>2</td>\n",
       "    </tr>\n",
       "    <tr>\n",
       "      <th>2</th>\n",
       "      <td>3</td>\n",
       "      <td>1</td>\n",
       "      <td>brandtandrea</td>\n",
       "      <td>5</td>\n",
       "    </tr>\n",
       "    <tr>\n",
       "      <th>3</th>\n",
       "      <td>4</td>\n",
       "      <td>2</td>\n",
       "      <td>lorichen</td>\n",
       "      <td>3</td>\n",
       "    </tr>\n",
       "    <tr>\n",
       "      <th>4</th>\n",
       "      <td>5</td>\n",
       "      <td>2</td>\n",
       "      <td>mariokeller</td>\n",
       "      <td>2</td>\n",
       "    </tr>\n",
       "  </tbody>\n",
       "</table>\n",
       "</div>"
      ],
      "text/plain": [
       "   rating_id  book_id       username  rating\n",
       "0          1        1     ryanfranco       4\n",
       "1          2        1  grantpatricia       2\n",
       "2          3        1   brandtandrea       5\n",
       "3          4        2       lorichen       3\n",
       "4          5        2    mariokeller       2"
      ]
     },
     "execution_count": 10,
     "metadata": {},
     "output_type": "execute_result"
    }
   ],
   "source": [
    "ratings.head()"
   ]
  },
  {
   "cell_type": "markdown",
   "metadata": {},
   "source": [
    "### reviews"
   ]
  },
  {
   "cell_type": "code",
   "execution_count": 11,
   "metadata": {},
   "outputs": [],
   "source": [
    "# получаем сырые данные\n",
    "query = '''\n",
    "            SELECT * FROM reviews\n",
    "        '''\n",
    "reviews = pd.io.sql.read_sql(query, con = engine)"
   ]
  },
  {
   "cell_type": "code",
   "execution_count": 12,
   "metadata": {},
   "outputs": [
    {
     "data": {
      "text/html": [
       "<div>\n",
       "<style scoped>\n",
       "    .dataframe tbody tr th:only-of-type {\n",
       "        vertical-align: middle;\n",
       "    }\n",
       "\n",
       "    .dataframe tbody tr th {\n",
       "        vertical-align: top;\n",
       "    }\n",
       "\n",
       "    .dataframe thead th {\n",
       "        text-align: right;\n",
       "    }\n",
       "</style>\n",
       "<table border=\"1\" class=\"dataframe\">\n",
       "  <thead>\n",
       "    <tr style=\"text-align: right;\">\n",
       "      <th></th>\n",
       "      <th>review_id</th>\n",
       "      <th>book_id</th>\n",
       "      <th>username</th>\n",
       "      <th>text</th>\n",
       "    </tr>\n",
       "  </thead>\n",
       "  <tbody>\n",
       "    <tr>\n",
       "      <th>0</th>\n",
       "      <td>1</td>\n",
       "      <td>1</td>\n",
       "      <td>brandtandrea</td>\n",
       "      <td>Mention society tell send professor analysis. Over provide race technology continue these.</td>\n",
       "    </tr>\n",
       "    <tr>\n",
       "      <th>1</th>\n",
       "      <td>2</td>\n",
       "      <td>1</td>\n",
       "      <td>ryanfranco</td>\n",
       "      <td>Foot glass pretty audience hit themselves. Among admit investment argue security.</td>\n",
       "    </tr>\n",
       "    <tr>\n",
       "      <th>2</th>\n",
       "      <td>3</td>\n",
       "      <td>2</td>\n",
       "      <td>lorichen</td>\n",
       "      <td>Listen treat keep worry. Miss husband tax but person sport treatment industry. Kitchen decision deep the. Social party body the.</td>\n",
       "    </tr>\n",
       "    <tr>\n",
       "      <th>3</th>\n",
       "      <td>4</td>\n",
       "      <td>3</td>\n",
       "      <td>johnsonamanda</td>\n",
       "      <td>Finally month interesting blue could nature cultural bit. Prepare beat finish grow that smile teach. Dream me play near.</td>\n",
       "    </tr>\n",
       "    <tr>\n",
       "      <th>4</th>\n",
       "      <td>5</td>\n",
       "      <td>3</td>\n",
       "      <td>scotttamara</td>\n",
       "      <td>Nation purpose heavy give wait song will. List dinner another whole positive radio fast. Music staff many green.</td>\n",
       "    </tr>\n",
       "  </tbody>\n",
       "</table>\n",
       "</div>"
      ],
      "text/plain": [
       "   review_id  book_id       username  \\\n",
       "0          1        1   brandtandrea   \n",
       "1          2        1     ryanfranco   \n",
       "2          3        2       lorichen   \n",
       "3          4        3  johnsonamanda   \n",
       "4          5        3    scotttamara   \n",
       "\n",
       "                                                                                                                               text  \n",
       "0                                        Mention society tell send professor analysis. Over provide race technology continue these.  \n",
       "1                                                 Foot glass pretty audience hit themselves. Among admit investment argue security.  \n",
       "2  Listen treat keep worry. Miss husband tax but person sport treatment industry. Kitchen decision deep the. Social party body the.  \n",
       "3          Finally month interesting blue could nature cultural bit. Prepare beat finish grow that smile teach. Dream me play near.  \n",
       "4                  Nation purpose heavy give wait song will. List dinner another whole positive radio fast. Music staff many green.  "
      ]
     },
     "execution_count": 12,
     "metadata": {},
     "output_type": "execute_result"
    }
   ],
   "source": [
    "reviews.head()"
   ]
  },
  {
   "cell_type": "markdown",
   "metadata": {},
   "source": [
    "## Изучение данных\n",
    "<a name=\"6\"></a>"
   ]
  },
  {
   "cell_type": "code",
   "execution_count": 13,
   "metadata": {},
   "outputs": [
    {
     "name": "stdout",
     "output_type": "stream",
     "text": [
      "\u001b[31m______________info_____________________\u001b[0m\n",
      "<class 'pandas.core.frame.DataFrame'>\n",
      "RangeIndex: 1000 entries, 0 to 999\n",
      "Data columns (total 6 columns):\n",
      " #   Column            Non-Null Count  Dtype \n",
      "---  ------            --------------  ----- \n",
      " 0   book_id           1000 non-null   int64 \n",
      " 1   author_id         1000 non-null   int64 \n",
      " 2   title             1000 non-null   object\n",
      " 3   num_pages         1000 non-null   int64 \n",
      " 4   publication_date  1000 non-null   object\n",
      " 5   publisher_id      1000 non-null   int64 \n",
      "dtypes: int64(4), object(2)\n",
      "memory usage: 47.0+ KB\n"
     ]
    },
    {
     "data": {
      "text/plain": [
       "None"
      ]
     },
     "metadata": {},
     "output_type": "display_data"
    },
    {
     "name": "stdout",
     "output_type": "stream",
     "text": [
      "\u001b[31m______________describe_________________\u001b[0m\n"
     ]
    },
    {
     "data": {
      "text/html": [
       "<div>\n",
       "<style scoped>\n",
       "    .dataframe tbody tr th:only-of-type {\n",
       "        vertical-align: middle;\n",
       "    }\n",
       "\n",
       "    .dataframe tbody tr th {\n",
       "        vertical-align: top;\n",
       "    }\n",
       "\n",
       "    .dataframe thead th {\n",
       "        text-align: right;\n",
       "    }\n",
       "</style>\n",
       "<table border=\"1\" class=\"dataframe\">\n",
       "  <thead>\n",
       "    <tr style=\"text-align: right;\">\n",
       "      <th></th>\n",
       "      <th>count</th>\n",
       "      <th>mean</th>\n",
       "      <th>std</th>\n",
       "      <th>min</th>\n",
       "      <th>25%</th>\n",
       "      <th>50%</th>\n",
       "      <th>75%</th>\n",
       "      <th>max</th>\n",
       "    </tr>\n",
       "  </thead>\n",
       "  <tbody>\n",
       "    <tr>\n",
       "      <th>book_id</th>\n",
       "      <td>1000.0</td>\n",
       "      <td>500.500</td>\n",
       "      <td>288.819436</td>\n",
       "      <td>1.0</td>\n",
       "      <td>250.75</td>\n",
       "      <td>500.5</td>\n",
       "      <td>750.25</td>\n",
       "      <td>1000.0</td>\n",
       "    </tr>\n",
       "    <tr>\n",
       "      <th>author_id</th>\n",
       "      <td>1000.0</td>\n",
       "      <td>320.417</td>\n",
       "      <td>181.620172</td>\n",
       "      <td>1.0</td>\n",
       "      <td>162.75</td>\n",
       "      <td>316.5</td>\n",
       "      <td>481.00</td>\n",
       "      <td>636.0</td>\n",
       "    </tr>\n",
       "    <tr>\n",
       "      <th>num_pages</th>\n",
       "      <td>1000.0</td>\n",
       "      <td>389.111</td>\n",
       "      <td>229.390140</td>\n",
       "      <td>14.0</td>\n",
       "      <td>249.00</td>\n",
       "      <td>352.0</td>\n",
       "      <td>453.00</td>\n",
       "      <td>2690.0</td>\n",
       "    </tr>\n",
       "    <tr>\n",
       "      <th>publisher_id</th>\n",
       "      <td>1000.0</td>\n",
       "      <td>171.270</td>\n",
       "      <td>99.082685</td>\n",
       "      <td>1.0</td>\n",
       "      <td>83.00</td>\n",
       "      <td>177.5</td>\n",
       "      <td>258.00</td>\n",
       "      <td>340.0</td>\n",
       "    </tr>\n",
       "  </tbody>\n",
       "</table>\n",
       "</div>"
      ],
      "text/plain": [
       "               count     mean         std   min     25%    50%     75%     max\n",
       "book_id       1000.0  500.500  288.819436   1.0  250.75  500.5  750.25  1000.0\n",
       "author_id     1000.0  320.417  181.620172   1.0  162.75  316.5  481.00   636.0\n",
       "num_pages     1000.0  389.111  229.390140  14.0  249.00  352.0  453.00  2690.0\n",
       "publisher_id  1000.0  171.270   99.082685   1.0   83.00  177.5  258.00   340.0"
      ]
     },
     "metadata": {},
     "output_type": "display_data"
    },
    {
     "name": "stdout",
     "output_type": "stream",
     "text": [
      "\u001b[31m______________sample___________________\u001b[0m\n"
     ]
    },
    {
     "data": {
      "text/html": [
       "<div>\n",
       "<style scoped>\n",
       "    .dataframe tbody tr th:only-of-type {\n",
       "        vertical-align: middle;\n",
       "    }\n",
       "\n",
       "    .dataframe tbody tr th {\n",
       "        vertical-align: top;\n",
       "    }\n",
       "\n",
       "    .dataframe thead th {\n",
       "        text-align: right;\n",
       "    }\n",
       "</style>\n",
       "<table border=\"1\" class=\"dataframe\">\n",
       "  <thead>\n",
       "    <tr style=\"text-align: right;\">\n",
       "      <th></th>\n",
       "      <th>book_id</th>\n",
       "      <th>author_id</th>\n",
       "      <th>title</th>\n",
       "      <th>num_pages</th>\n",
       "      <th>publication_date</th>\n",
       "      <th>publisher_id</th>\n",
       "    </tr>\n",
       "  </thead>\n",
       "  <tbody>\n",
       "    <tr>\n",
       "      <th>243</th>\n",
       "      <td>244</td>\n",
       "      <td>295</td>\n",
       "      <td>Faust  First Part</td>\n",
       "      <td>327</td>\n",
       "      <td>1988-07-01</td>\n",
       "      <td>38</td>\n",
       "    </tr>\n",
       "    <tr>\n",
       "      <th>273</th>\n",
       "      <td>274</td>\n",
       "      <td>372</td>\n",
       "      <td>Gathering Blue (The Giver  #2)</td>\n",
       "      <td>240</td>\n",
       "      <td>2000-09-25</td>\n",
       "      <td>79</td>\n",
       "    </tr>\n",
       "    <tr>\n",
       "      <th>215</th>\n",
       "      <td>216</td>\n",
       "      <td>567</td>\n",
       "      <td>Emperor Mage (Immortals  #3)</td>\n",
       "      <td>358</td>\n",
       "      <td>2005-06-01</td>\n",
       "      <td>274</td>\n",
       "    </tr>\n",
       "    <tr>\n",
       "      <th>102</th>\n",
       "      <td>103</td>\n",
       "      <td>28</td>\n",
       "      <td>Black Beauty</td>\n",
       "      <td>245</td>\n",
       "      <td>2003-03-01</td>\n",
       "      <td>256</td>\n",
       "    </tr>\n",
       "    <tr>\n",
       "      <th>899</th>\n",
       "      <td>900</td>\n",
       "      <td>437</td>\n",
       "      <td>The Wake (The Sandman  #10)</td>\n",
       "      <td>191</td>\n",
       "      <td>1999-09-03</td>\n",
       "      <td>305</td>\n",
       "    </tr>\n",
       "    <tr>\n",
       "      <th>719</th>\n",
       "      <td>720</td>\n",
       "      <td>378</td>\n",
       "      <td>The Far Pavilions</td>\n",
       "      <td>958</td>\n",
       "      <td>1997-01-15</td>\n",
       "      <td>282</td>\n",
       "    </tr>\n",
       "    <tr>\n",
       "      <th>577</th>\n",
       "      <td>578</td>\n",
       "      <td>571</td>\n",
       "      <td>Small Gods (Discworld  #13)</td>\n",
       "      <td>400</td>\n",
       "      <td>2005-08-01</td>\n",
       "      <td>65</td>\n",
       "    </tr>\n",
       "    <tr>\n",
       "      <th>522</th>\n",
       "      <td>523</td>\n",
       "      <td>14</td>\n",
       "      <td>Practical Magic (Practical Magic #1)</td>\n",
       "      <td>286</td>\n",
       "      <td>2003-08-05</td>\n",
       "      <td>210</td>\n",
       "    </tr>\n",
       "    <tr>\n",
       "      <th>133</th>\n",
       "      <td>134</td>\n",
       "      <td>355</td>\n",
       "      <td>Cane River</td>\n",
       "      <td>522</td>\n",
       "      <td>2002-04-01</td>\n",
       "      <td>116</td>\n",
       "    </tr>\n",
       "    <tr>\n",
       "      <th>533</th>\n",
       "      <td>534</td>\n",
       "      <td>235</td>\n",
       "      <td>Raise High the Roof Beam  Carpenters &amp; Seymour: An Introduction</td>\n",
       "      <td>256</td>\n",
       "      <td>2001-01-30</td>\n",
       "      <td>31</td>\n",
       "    </tr>\n",
       "  </tbody>\n",
       "</table>\n",
       "</div>"
      ],
      "text/plain": [
       "     book_id  author_id  \\\n",
       "243      244        295   \n",
       "273      274        372   \n",
       "215      216        567   \n",
       "102      103         28   \n",
       "899      900        437   \n",
       "719      720        378   \n",
       "577      578        571   \n",
       "522      523         14   \n",
       "133      134        355   \n",
       "533      534        235   \n",
       "\n",
       "                                                               title  \\\n",
       "243                                                Faust  First Part   \n",
       "273                                   Gathering Blue (The Giver  #2)   \n",
       "215                                     Emperor Mage (Immortals  #3)   \n",
       "102                                                     Black Beauty   \n",
       "899                                      The Wake (The Sandman  #10)   \n",
       "719                                                The Far Pavilions   \n",
       "577                                      Small Gods (Discworld  #13)   \n",
       "522                             Practical Magic (Practical Magic #1)   \n",
       "133                                                       Cane River   \n",
       "533  Raise High the Roof Beam  Carpenters & Seymour: An Introduction   \n",
       "\n",
       "     num_pages publication_date  publisher_id  \n",
       "243        327       1988-07-01            38  \n",
       "273        240       2000-09-25            79  \n",
       "215        358       2005-06-01           274  \n",
       "102        245       2003-03-01           256  \n",
       "899        191       1999-09-03           305  \n",
       "719        958       1997-01-15           282  \n",
       "577        400       2005-08-01            65  \n",
       "522        286       2003-08-05           210  \n",
       "133        522       2002-04-01           116  \n",
       "533        256       2001-01-30            31  "
      ]
     },
     "metadata": {},
     "output_type": "display_data"
    },
    {
     "name": "stdout",
     "output_type": "stream",
     "text": [
      "\u001b[31m_____________isna______________________\u001b[0m\n"
     ]
    },
    {
     "data": {
      "text/html": [
       "<div>\n",
       "<style scoped>\n",
       "    .dataframe tbody tr th:only-of-type {\n",
       "        vertical-align: middle;\n",
       "    }\n",
       "\n",
       "    .dataframe tbody tr th {\n",
       "        vertical-align: top;\n",
       "    }\n",
       "\n",
       "    .dataframe thead th {\n",
       "        text-align: right;\n",
       "    }\n",
       "</style>\n",
       "<table border=\"1\" class=\"dataframe\">\n",
       "  <thead>\n",
       "    <tr style=\"text-align: right;\">\n",
       "      <th></th>\n",
       "      <th>index</th>\n",
       "      <th>0</th>\n",
       "    </tr>\n",
       "  </thead>\n",
       "  <tbody>\n",
       "    <tr>\n",
       "      <th>0</th>\n",
       "      <td>book_id</td>\n",
       "      <td>0</td>\n",
       "    </tr>\n",
       "    <tr>\n",
       "      <th>1</th>\n",
       "      <td>author_id</td>\n",
       "      <td>0</td>\n",
       "    </tr>\n",
       "    <tr>\n",
       "      <th>2</th>\n",
       "      <td>title</td>\n",
       "      <td>0</td>\n",
       "    </tr>\n",
       "    <tr>\n",
       "      <th>3</th>\n",
       "      <td>num_pages</td>\n",
       "      <td>0</td>\n",
       "    </tr>\n",
       "    <tr>\n",
       "      <th>4</th>\n",
       "      <td>publication_date</td>\n",
       "      <td>0</td>\n",
       "    </tr>\n",
       "    <tr>\n",
       "      <th>5</th>\n",
       "      <td>publisher_id</td>\n",
       "      <td>0</td>\n",
       "    </tr>\n",
       "  </tbody>\n",
       "</table>\n",
       "</div>"
      ],
      "text/plain": [
       "              index  0\n",
       "0           book_id  0\n",
       "1         author_id  0\n",
       "2             title  0\n",
       "3         num_pages  0\n",
       "4  publication_date  0\n",
       "5      publisher_id  0"
      ]
     },
     "metadata": {},
     "output_type": "display_data"
    },
    {
     "name": "stdout",
     "output_type": "stream",
     "text": [
      "\u001b[31m_______Поиск дубликатов________________\u001b[0m\n"
     ]
    },
    {
     "data": {
      "text/plain": [
       "0"
      ]
     },
     "metadata": {},
     "output_type": "display_data"
    },
    {
     "name": "stdout",
     "output_type": "stream",
     "text": [
      "\u001b[31m__количество пропущенных значений по каждому из столбцов__\u001b[0m\n"
     ]
    },
    {
     "data": {
      "text/html": [
       "<div>\n",
       "<style scoped>\n",
       "    .dataframe tbody tr th:only-of-type {\n",
       "        vertical-align: middle;\n",
       "    }\n",
       "\n",
       "    .dataframe tbody tr th {\n",
       "        vertical-align: top;\n",
       "    }\n",
       "\n",
       "    .dataframe thead th {\n",
       "        text-align: right;\n",
       "    }\n",
       "</style>\n",
       "<table border=\"1\" class=\"dataframe\">\n",
       "  <thead>\n",
       "    <tr style=\"text-align: right;\">\n",
       "      <th></th>\n",
       "      <th>index</th>\n",
       "      <th>0</th>\n",
       "    </tr>\n",
       "  </thead>\n",
       "  <tbody>\n",
       "    <tr>\n",
       "      <th>0</th>\n",
       "      <td>book_id</td>\n",
       "      <td>0.0</td>\n",
       "    </tr>\n",
       "    <tr>\n",
       "      <th>1</th>\n",
       "      <td>author_id</td>\n",
       "      <td>0.0</td>\n",
       "    </tr>\n",
       "    <tr>\n",
       "      <th>2</th>\n",
       "      <td>title</td>\n",
       "      <td>0.0</td>\n",
       "    </tr>\n",
       "    <tr>\n",
       "      <th>3</th>\n",
       "      <td>num_pages</td>\n",
       "      <td>0.0</td>\n",
       "    </tr>\n",
       "    <tr>\n",
       "      <th>4</th>\n",
       "      <td>publication_date</td>\n",
       "      <td>0.0</td>\n",
       "    </tr>\n",
       "    <tr>\n",
       "      <th>5</th>\n",
       "      <td>publisher_id</td>\n",
       "      <td>0.0</td>\n",
       "    </tr>\n",
       "  </tbody>\n",
       "</table>\n",
       "</div>"
      ],
      "text/plain": [
       "              index    0\n",
       "0           book_id  0.0\n",
       "1         author_id  0.0\n",
       "2             title  0.0\n",
       "3         num_pages  0.0\n",
       "4  publication_date  0.0\n",
       "5      publisher_id  0.0"
      ]
     },
     "metadata": {},
     "output_type": "display_data"
    },
    {
     "name": "stdout",
     "output_type": "stream",
     "text": [
      "\u001b[34m_________________________конец изучения файла____________________________________\u001b[0m\n",
      "\n",
      "\u001b[31m______________info_____________________\u001b[0m\n",
      "<class 'pandas.core.frame.DataFrame'>\n",
      "RangeIndex: 636 entries, 0 to 635\n",
      "Data columns (total 2 columns):\n",
      " #   Column     Non-Null Count  Dtype \n",
      "---  ------     --------------  ----- \n",
      " 0   author_id  636 non-null    int64 \n",
      " 1   author     636 non-null    object\n",
      "dtypes: int64(1), object(1)\n",
      "memory usage: 10.1+ KB\n"
     ]
    },
    {
     "data": {
      "text/plain": [
       "None"
      ]
     },
     "metadata": {},
     "output_type": "display_data"
    },
    {
     "name": "stdout",
     "output_type": "stream",
     "text": [
      "\u001b[31m______________describe_________________\u001b[0m\n"
     ]
    },
    {
     "data": {
      "text/html": [
       "<div>\n",
       "<style scoped>\n",
       "    .dataframe tbody tr th:only-of-type {\n",
       "        vertical-align: middle;\n",
       "    }\n",
       "\n",
       "    .dataframe tbody tr th {\n",
       "        vertical-align: top;\n",
       "    }\n",
       "\n",
       "    .dataframe thead th {\n",
       "        text-align: right;\n",
       "    }\n",
       "</style>\n",
       "<table border=\"1\" class=\"dataframe\">\n",
       "  <thead>\n",
       "    <tr style=\"text-align: right;\">\n",
       "      <th></th>\n",
       "      <th>count</th>\n",
       "      <th>mean</th>\n",
       "      <th>std</th>\n",
       "      <th>min</th>\n",
       "      <th>25%</th>\n",
       "      <th>50%</th>\n",
       "      <th>75%</th>\n",
       "      <th>max</th>\n",
       "    </tr>\n",
       "  </thead>\n",
       "  <tbody>\n",
       "    <tr>\n",
       "      <th>author_id</th>\n",
       "      <td>636.0</td>\n",
       "      <td>318.5</td>\n",
       "      <td>183.741666</td>\n",
       "      <td>1.0</td>\n",
       "      <td>159.75</td>\n",
       "      <td>318.5</td>\n",
       "      <td>477.25</td>\n",
       "      <td>636.0</td>\n",
       "    </tr>\n",
       "  </tbody>\n",
       "</table>\n",
       "</div>"
      ],
      "text/plain": [
       "           count   mean         std  min     25%    50%     75%    max\n",
       "author_id  636.0  318.5  183.741666  1.0  159.75  318.5  477.25  636.0"
      ]
     },
     "metadata": {},
     "output_type": "display_data"
    },
    {
     "name": "stdout",
     "output_type": "stream",
     "text": [
      "\u001b[31m______________sample___________________\u001b[0m\n"
     ]
    },
    {
     "data": {
      "text/html": [
       "<div>\n",
       "<style scoped>\n",
       "    .dataframe tbody tr th:only-of-type {\n",
       "        vertical-align: middle;\n",
       "    }\n",
       "\n",
       "    .dataframe tbody tr th {\n",
       "        vertical-align: top;\n",
       "    }\n",
       "\n",
       "    .dataframe thead th {\n",
       "        text-align: right;\n",
       "    }\n",
       "</style>\n",
       "<table border=\"1\" class=\"dataframe\">\n",
       "  <thead>\n",
       "    <tr style=\"text-align: right;\">\n",
       "      <th></th>\n",
       "      <th>author_id</th>\n",
       "      <th>author</th>\n",
       "    </tr>\n",
       "  </thead>\n",
       "  <tbody>\n",
       "    <tr>\n",
       "      <th>595</th>\n",
       "      <td>596</td>\n",
       "      <td>Upton Sinclair/Earl Lee/Kathleen DeGrave</td>\n",
       "    </tr>\n",
       "    <tr>\n",
       "      <th>400</th>\n",
       "      <td>401</td>\n",
       "      <td>Mark Z. Danielewski</td>\n",
       "    </tr>\n",
       "    <tr>\n",
       "      <th>9</th>\n",
       "      <td>10</td>\n",
       "      <td>Aleksandr Solzhenitsyn/H.T. Willetts</td>\n",
       "    </tr>\n",
       "    <tr>\n",
       "      <th>375</th>\n",
       "      <td>376</td>\n",
       "      <td>Louisa May Alcott</td>\n",
       "    </tr>\n",
       "    <tr>\n",
       "      <th>43</th>\n",
       "      <td>44</td>\n",
       "      <td>Ayn Rand</td>\n",
       "    </tr>\n",
       "    <tr>\n",
       "      <th>266</th>\n",
       "      <td>267</td>\n",
       "      <td>Jane Hamilton</td>\n",
       "    </tr>\n",
       "    <tr>\n",
       "      <th>359</th>\n",
       "      <td>360</td>\n",
       "      <td>Lauren Weisberger</td>\n",
       "    </tr>\n",
       "    <tr>\n",
       "      <th>469</th>\n",
       "      <td>470</td>\n",
       "      <td>Paulo Coelho/Amanda Hopkinson/Nick Caistor</td>\n",
       "    </tr>\n",
       "    <tr>\n",
       "      <th>222</th>\n",
       "      <td>223</td>\n",
       "      <td>Hiromu Arakawa/Akira Watanabe</td>\n",
       "    </tr>\n",
       "    <tr>\n",
       "      <th>49</th>\n",
       "      <td>50</td>\n",
       "      <td>Barbara Kingsolver/Steven L. Hopp/Camille Kingsolver/Richard A. Houser</td>\n",
       "    </tr>\n",
       "  </tbody>\n",
       "</table>\n",
       "</div>"
      ],
      "text/plain": [
       "     author_id  \\\n",
       "595        596   \n",
       "400        401   \n",
       "9           10   \n",
       "375        376   \n",
       "43          44   \n",
       "266        267   \n",
       "359        360   \n",
       "469        470   \n",
       "222        223   \n",
       "49          50   \n",
       "\n",
       "                                                                     author  \n",
       "595                                Upton Sinclair/Earl Lee/Kathleen DeGrave  \n",
       "400                                                     Mark Z. Danielewski  \n",
       "9                                      Aleksandr Solzhenitsyn/H.T. Willetts  \n",
       "375                                                       Louisa May Alcott  \n",
       "43                                                                 Ayn Rand  \n",
       "266                                                           Jane Hamilton  \n",
       "359                                                       Lauren Weisberger  \n",
       "469                              Paulo Coelho/Amanda Hopkinson/Nick Caistor  \n",
       "222                                           Hiromu Arakawa/Akira Watanabe  \n",
       "49   Barbara Kingsolver/Steven L. Hopp/Camille Kingsolver/Richard A. Houser  "
      ]
     },
     "metadata": {},
     "output_type": "display_data"
    },
    {
     "name": "stdout",
     "output_type": "stream",
     "text": [
      "\u001b[31m_____________isna______________________\u001b[0m\n"
     ]
    },
    {
     "data": {
      "text/html": [
       "<div>\n",
       "<style scoped>\n",
       "    .dataframe tbody tr th:only-of-type {\n",
       "        vertical-align: middle;\n",
       "    }\n",
       "\n",
       "    .dataframe tbody tr th {\n",
       "        vertical-align: top;\n",
       "    }\n",
       "\n",
       "    .dataframe thead th {\n",
       "        text-align: right;\n",
       "    }\n",
       "</style>\n",
       "<table border=\"1\" class=\"dataframe\">\n",
       "  <thead>\n",
       "    <tr style=\"text-align: right;\">\n",
       "      <th></th>\n",
       "      <th>index</th>\n",
       "      <th>0</th>\n",
       "    </tr>\n",
       "  </thead>\n",
       "  <tbody>\n",
       "    <tr>\n",
       "      <th>0</th>\n",
       "      <td>author_id</td>\n",
       "      <td>0</td>\n",
       "    </tr>\n",
       "    <tr>\n",
       "      <th>1</th>\n",
       "      <td>author</td>\n",
       "      <td>0</td>\n",
       "    </tr>\n",
       "  </tbody>\n",
       "</table>\n",
       "</div>"
      ],
      "text/plain": [
       "       index  0\n",
       "0  author_id  0\n",
       "1     author  0"
      ]
     },
     "metadata": {},
     "output_type": "display_data"
    },
    {
     "name": "stdout",
     "output_type": "stream",
     "text": [
      "\u001b[31m_______Поиск дубликатов________________\u001b[0m\n"
     ]
    },
    {
     "data": {
      "text/plain": [
       "0"
      ]
     },
     "metadata": {},
     "output_type": "display_data"
    },
    {
     "name": "stdout",
     "output_type": "stream",
     "text": [
      "\u001b[31m__количество пропущенных значений по каждому из столбцов__\u001b[0m\n"
     ]
    },
    {
     "data": {
      "text/html": [
       "<div>\n",
       "<style scoped>\n",
       "    .dataframe tbody tr th:only-of-type {\n",
       "        vertical-align: middle;\n",
       "    }\n",
       "\n",
       "    .dataframe tbody tr th {\n",
       "        vertical-align: top;\n",
       "    }\n",
       "\n",
       "    .dataframe thead th {\n",
       "        text-align: right;\n",
       "    }\n",
       "</style>\n",
       "<table border=\"1\" class=\"dataframe\">\n",
       "  <thead>\n",
       "    <tr style=\"text-align: right;\">\n",
       "      <th></th>\n",
       "      <th>index</th>\n",
       "      <th>0</th>\n",
       "    </tr>\n",
       "  </thead>\n",
       "  <tbody>\n",
       "    <tr>\n",
       "      <th>0</th>\n",
       "      <td>author_id</td>\n",
       "      <td>0.0</td>\n",
       "    </tr>\n",
       "    <tr>\n",
       "      <th>1</th>\n",
       "      <td>author</td>\n",
       "      <td>0.0</td>\n",
       "    </tr>\n",
       "  </tbody>\n",
       "</table>\n",
       "</div>"
      ],
      "text/plain": [
       "       index    0\n",
       "0  author_id  0.0\n",
       "1     author  0.0"
      ]
     },
     "metadata": {},
     "output_type": "display_data"
    },
    {
     "name": "stdout",
     "output_type": "stream",
     "text": [
      "\u001b[34m_________________________конец изучения файла____________________________________\u001b[0m\n",
      "\n",
      "\u001b[31m______________info_____________________\u001b[0m\n",
      "<class 'pandas.core.frame.DataFrame'>\n",
      "RangeIndex: 340 entries, 0 to 339\n",
      "Data columns (total 2 columns):\n",
      " #   Column        Non-Null Count  Dtype \n",
      "---  ------        --------------  ----- \n",
      " 0   publisher_id  340 non-null    int64 \n",
      " 1   publisher     340 non-null    object\n",
      "dtypes: int64(1), object(1)\n",
      "memory usage: 5.4+ KB\n"
     ]
    },
    {
     "data": {
      "text/plain": [
       "None"
      ]
     },
     "metadata": {},
     "output_type": "display_data"
    },
    {
     "name": "stdout",
     "output_type": "stream",
     "text": [
      "\u001b[31m______________describe_________________\u001b[0m\n"
     ]
    },
    {
     "data": {
      "text/html": [
       "<div>\n",
       "<style scoped>\n",
       "    .dataframe tbody tr th:only-of-type {\n",
       "        vertical-align: middle;\n",
       "    }\n",
       "\n",
       "    .dataframe tbody tr th {\n",
       "        vertical-align: top;\n",
       "    }\n",
       "\n",
       "    .dataframe thead th {\n",
       "        text-align: right;\n",
       "    }\n",
       "</style>\n",
       "<table border=\"1\" class=\"dataframe\">\n",
       "  <thead>\n",
       "    <tr style=\"text-align: right;\">\n",
       "      <th></th>\n",
       "      <th>count</th>\n",
       "      <th>mean</th>\n",
       "      <th>std</th>\n",
       "      <th>min</th>\n",
       "      <th>25%</th>\n",
       "      <th>50%</th>\n",
       "      <th>75%</th>\n",
       "      <th>max</th>\n",
       "    </tr>\n",
       "  </thead>\n",
       "  <tbody>\n",
       "    <tr>\n",
       "      <th>publisher_id</th>\n",
       "      <td>340.0</td>\n",
       "      <td>170.5</td>\n",
       "      <td>98.293777</td>\n",
       "      <td>1.0</td>\n",
       "      <td>85.75</td>\n",
       "      <td>170.5</td>\n",
       "      <td>255.25</td>\n",
       "      <td>340.0</td>\n",
       "    </tr>\n",
       "  </tbody>\n",
       "</table>\n",
       "</div>"
      ],
      "text/plain": [
       "              count   mean        std  min    25%    50%     75%    max\n",
       "publisher_id  340.0  170.5  98.293777  1.0  85.75  170.5  255.25  340.0"
      ]
     },
     "metadata": {},
     "output_type": "display_data"
    },
    {
     "name": "stdout",
     "output_type": "stream",
     "text": [
      "\u001b[31m______________sample___________________\u001b[0m\n"
     ]
    },
    {
     "data": {
      "text/html": [
       "<div>\n",
       "<style scoped>\n",
       "    .dataframe tbody tr th:only-of-type {\n",
       "        vertical-align: middle;\n",
       "    }\n",
       "\n",
       "    .dataframe tbody tr th {\n",
       "        vertical-align: top;\n",
       "    }\n",
       "\n",
       "    .dataframe thead th {\n",
       "        text-align: right;\n",
       "    }\n",
       "</style>\n",
       "<table border=\"1\" class=\"dataframe\">\n",
       "  <thead>\n",
       "    <tr style=\"text-align: right;\">\n",
       "      <th></th>\n",
       "      <th>publisher_id</th>\n",
       "      <th>publisher</th>\n",
       "    </tr>\n",
       "  </thead>\n",
       "  <tbody>\n",
       "    <tr>\n",
       "      <th>194</th>\n",
       "      <td>195</td>\n",
       "      <td>Norton</td>\n",
       "    </tr>\n",
       "    <tr>\n",
       "      <th>12</th>\n",
       "      <td>13</td>\n",
       "      <td>Allen &amp; Ulwin</td>\n",
       "    </tr>\n",
       "    <tr>\n",
       "      <th>233</th>\n",
       "      <td>234</td>\n",
       "      <td>Puffin</td>\n",
       "    </tr>\n",
       "    <tr>\n",
       "      <th>144</th>\n",
       "      <td>145</td>\n",
       "      <td>Harpercollins Children's Books</td>\n",
       "    </tr>\n",
       "    <tr>\n",
       "      <th>207</th>\n",
       "      <td>208</td>\n",
       "      <td>Pearson</td>\n",
       "    </tr>\n",
       "    <tr>\n",
       "      <th>294</th>\n",
       "      <td>295</td>\n",
       "      <td>Top Shelf Productions</td>\n",
       "    </tr>\n",
       "    <tr>\n",
       "      <th>56</th>\n",
       "      <td>57</td>\n",
       "      <td>Cambridge University Press</td>\n",
       "    </tr>\n",
       "    <tr>\n",
       "      <th>209</th>\n",
       "      <td>210</td>\n",
       "      <td>Penguin</td>\n",
       "    </tr>\n",
       "    <tr>\n",
       "      <th>99</th>\n",
       "      <td>100</td>\n",
       "      <td>Ecco/Harper Perennial</td>\n",
       "    </tr>\n",
       "    <tr>\n",
       "      <th>30</th>\n",
       "      <td>31</td>\n",
       "      <td>Back Bay Books</td>\n",
       "    </tr>\n",
       "  </tbody>\n",
       "</table>\n",
       "</div>"
      ],
      "text/plain": [
       "     publisher_id                       publisher\n",
       "194           195                          Norton\n",
       "12             13                   Allen & Ulwin\n",
       "233           234                          Puffin\n",
       "144           145  Harpercollins Children's Books\n",
       "207           208                         Pearson\n",
       "294           295           Top Shelf Productions\n",
       "56             57      Cambridge University Press\n",
       "209           210                         Penguin\n",
       "99            100           Ecco/Harper Perennial\n",
       "30             31                  Back Bay Books"
      ]
     },
     "metadata": {},
     "output_type": "display_data"
    },
    {
     "name": "stdout",
     "output_type": "stream",
     "text": [
      "\u001b[31m_____________isna______________________\u001b[0m\n"
     ]
    },
    {
     "data": {
      "text/html": [
       "<div>\n",
       "<style scoped>\n",
       "    .dataframe tbody tr th:only-of-type {\n",
       "        vertical-align: middle;\n",
       "    }\n",
       "\n",
       "    .dataframe tbody tr th {\n",
       "        vertical-align: top;\n",
       "    }\n",
       "\n",
       "    .dataframe thead th {\n",
       "        text-align: right;\n",
       "    }\n",
       "</style>\n",
       "<table border=\"1\" class=\"dataframe\">\n",
       "  <thead>\n",
       "    <tr style=\"text-align: right;\">\n",
       "      <th></th>\n",
       "      <th>index</th>\n",
       "      <th>0</th>\n",
       "    </tr>\n",
       "  </thead>\n",
       "  <tbody>\n",
       "    <tr>\n",
       "      <th>0</th>\n",
       "      <td>publisher_id</td>\n",
       "      <td>0</td>\n",
       "    </tr>\n",
       "    <tr>\n",
       "      <th>1</th>\n",
       "      <td>publisher</td>\n",
       "      <td>0</td>\n",
       "    </tr>\n",
       "  </tbody>\n",
       "</table>\n",
       "</div>"
      ],
      "text/plain": [
       "          index  0\n",
       "0  publisher_id  0\n",
       "1     publisher  0"
      ]
     },
     "metadata": {},
     "output_type": "display_data"
    },
    {
     "name": "stdout",
     "output_type": "stream",
     "text": [
      "\u001b[31m_______Поиск дубликатов________________\u001b[0m\n"
     ]
    },
    {
     "data": {
      "text/plain": [
       "0"
      ]
     },
     "metadata": {},
     "output_type": "display_data"
    },
    {
     "name": "stdout",
     "output_type": "stream",
     "text": [
      "\u001b[31m__количество пропущенных значений по каждому из столбцов__\u001b[0m\n"
     ]
    },
    {
     "data": {
      "text/html": [
       "<div>\n",
       "<style scoped>\n",
       "    .dataframe tbody tr th:only-of-type {\n",
       "        vertical-align: middle;\n",
       "    }\n",
       "\n",
       "    .dataframe tbody tr th {\n",
       "        vertical-align: top;\n",
       "    }\n",
       "\n",
       "    .dataframe thead th {\n",
       "        text-align: right;\n",
       "    }\n",
       "</style>\n",
       "<table border=\"1\" class=\"dataframe\">\n",
       "  <thead>\n",
       "    <tr style=\"text-align: right;\">\n",
       "      <th></th>\n",
       "      <th>index</th>\n",
       "      <th>0</th>\n",
       "    </tr>\n",
       "  </thead>\n",
       "  <tbody>\n",
       "    <tr>\n",
       "      <th>0</th>\n",
       "      <td>publisher_id</td>\n",
       "      <td>0.0</td>\n",
       "    </tr>\n",
       "    <tr>\n",
       "      <th>1</th>\n",
       "      <td>publisher</td>\n",
       "      <td>0.0</td>\n",
       "    </tr>\n",
       "  </tbody>\n",
       "</table>\n",
       "</div>"
      ],
      "text/plain": [
       "          index    0\n",
       "0  publisher_id  0.0\n",
       "1     publisher  0.0"
      ]
     },
     "metadata": {},
     "output_type": "display_data"
    },
    {
     "name": "stdout",
     "output_type": "stream",
     "text": [
      "\u001b[34m_________________________конец изучения файла____________________________________\u001b[0m\n",
      "\n",
      "\u001b[31m______________info_____________________\u001b[0m\n",
      "<class 'pandas.core.frame.DataFrame'>\n",
      "RangeIndex: 6456 entries, 0 to 6455\n",
      "Data columns (total 4 columns):\n",
      " #   Column     Non-Null Count  Dtype \n",
      "---  ------     --------------  ----- \n",
      " 0   rating_id  6456 non-null   int64 \n",
      " 1   book_id    6456 non-null   int64 \n",
      " 2   username   6456 non-null   object\n",
      " 3   rating     6456 non-null   int64 \n",
      "dtypes: int64(3), object(1)\n",
      "memory usage: 201.9+ KB\n"
     ]
    },
    {
     "data": {
      "text/plain": [
       "None"
      ]
     },
     "metadata": {},
     "output_type": "display_data"
    },
    {
     "name": "stdout",
     "output_type": "stream",
     "text": [
      "\u001b[31m______________describe_________________\u001b[0m\n"
     ]
    },
    {
     "data": {
      "text/html": [
       "<div>\n",
       "<style scoped>\n",
       "    .dataframe tbody tr th:only-of-type {\n",
       "        vertical-align: middle;\n",
       "    }\n",
       "\n",
       "    .dataframe tbody tr th {\n",
       "        vertical-align: top;\n",
       "    }\n",
       "\n",
       "    .dataframe thead th {\n",
       "        text-align: right;\n",
       "    }\n",
       "</style>\n",
       "<table border=\"1\" class=\"dataframe\">\n",
       "  <thead>\n",
       "    <tr style=\"text-align: right;\">\n",
       "      <th></th>\n",
       "      <th>count</th>\n",
       "      <th>mean</th>\n",
       "      <th>std</th>\n",
       "      <th>min</th>\n",
       "      <th>25%</th>\n",
       "      <th>50%</th>\n",
       "      <th>75%</th>\n",
       "      <th>max</th>\n",
       "    </tr>\n",
       "  </thead>\n",
       "  <tbody>\n",
       "    <tr>\n",
       "      <th>rating_id</th>\n",
       "      <td>6456.0</td>\n",
       "      <td>3228.500000</td>\n",
       "      <td>1863.831001</td>\n",
       "      <td>1.0</td>\n",
       "      <td>1614.75</td>\n",
       "      <td>3228.5</td>\n",
       "      <td>4842.25</td>\n",
       "      <td>6456.0</td>\n",
       "    </tr>\n",
       "    <tr>\n",
       "      <th>book_id</th>\n",
       "      <td>6456.0</td>\n",
       "      <td>510.574195</td>\n",
       "      <td>284.141636</td>\n",
       "      <td>1.0</td>\n",
       "      <td>291.00</td>\n",
       "      <td>506.0</td>\n",
       "      <td>750.00</td>\n",
       "      <td>1000.0</td>\n",
       "    </tr>\n",
       "    <tr>\n",
       "      <th>rating</th>\n",
       "      <td>6456.0</td>\n",
       "      <td>3.928284</td>\n",
       "      <td>0.943303</td>\n",
       "      <td>1.0</td>\n",
       "      <td>3.00</td>\n",
       "      <td>4.0</td>\n",
       "      <td>5.00</td>\n",
       "      <td>5.0</td>\n",
       "    </tr>\n",
       "  </tbody>\n",
       "</table>\n",
       "</div>"
      ],
      "text/plain": [
       "            count         mean          std  min      25%     50%      75%  \\\n",
       "rating_id  6456.0  3228.500000  1863.831001  1.0  1614.75  3228.5  4842.25   \n",
       "book_id    6456.0   510.574195   284.141636  1.0   291.00   506.0   750.00   \n",
       "rating     6456.0     3.928284     0.943303  1.0     3.00     4.0     5.00   \n",
       "\n",
       "              max  \n",
       "rating_id  6456.0  \n",
       "book_id    1000.0  \n",
       "rating        5.0  "
      ]
     },
     "metadata": {},
     "output_type": "display_data"
    },
    {
     "name": "stdout",
     "output_type": "stream",
     "text": [
      "\u001b[31m______________sample___________________\u001b[0m\n"
     ]
    },
    {
     "data": {
      "text/html": [
       "<div>\n",
       "<style scoped>\n",
       "    .dataframe tbody tr th:only-of-type {\n",
       "        vertical-align: middle;\n",
       "    }\n",
       "\n",
       "    .dataframe tbody tr th {\n",
       "        vertical-align: top;\n",
       "    }\n",
       "\n",
       "    .dataframe thead th {\n",
       "        text-align: right;\n",
       "    }\n",
       "</style>\n",
       "<table border=\"1\" class=\"dataframe\">\n",
       "  <thead>\n",
       "    <tr style=\"text-align: right;\">\n",
       "      <th></th>\n",
       "      <th>rating_id</th>\n",
       "      <th>book_id</th>\n",
       "      <th>username</th>\n",
       "      <th>rating</th>\n",
       "    </tr>\n",
       "  </thead>\n",
       "  <tbody>\n",
       "    <tr>\n",
       "      <th>3176</th>\n",
       "      <td>3177</td>\n",
       "      <td>497</td>\n",
       "      <td>sfitzgerald</td>\n",
       "      <td>5</td>\n",
       "    </tr>\n",
       "    <tr>\n",
       "      <th>1421</th>\n",
       "      <td>1422</td>\n",
       "      <td>251</td>\n",
       "      <td>qmiller</td>\n",
       "      <td>5</td>\n",
       "    </tr>\n",
       "    <tr>\n",
       "      <th>4493</th>\n",
       "      <td>4494</td>\n",
       "      <td>709</td>\n",
       "      <td>pthomas</td>\n",
       "      <td>4</td>\n",
       "    </tr>\n",
       "    <tr>\n",
       "      <th>3993</th>\n",
       "      <td>3994</td>\n",
       "      <td>655</td>\n",
       "      <td>debra43</td>\n",
       "      <td>2</td>\n",
       "    </tr>\n",
       "    <tr>\n",
       "      <th>853</th>\n",
       "      <td>854</td>\n",
       "      <td>144</td>\n",
       "      <td>timothygibson</td>\n",
       "      <td>4</td>\n",
       "    </tr>\n",
       "    <tr>\n",
       "      <th>5259</th>\n",
       "      <td>5260</td>\n",
       "      <td>813</td>\n",
       "      <td>ryanfranco</td>\n",
       "      <td>4</td>\n",
       "    </tr>\n",
       "    <tr>\n",
       "      <th>247</th>\n",
       "      <td>248</td>\n",
       "      <td>52</td>\n",
       "      <td>vcarter</td>\n",
       "      <td>2</td>\n",
       "    </tr>\n",
       "    <tr>\n",
       "      <th>1555</th>\n",
       "      <td>1556</td>\n",
       "      <td>284</td>\n",
       "      <td>fnguyen</td>\n",
       "      <td>5</td>\n",
       "    </tr>\n",
       "    <tr>\n",
       "      <th>5260</th>\n",
       "      <td>5261</td>\n",
       "      <td>813</td>\n",
       "      <td>carla64</td>\n",
       "      <td>3</td>\n",
       "    </tr>\n",
       "    <tr>\n",
       "      <th>2642</th>\n",
       "      <td>2643</td>\n",
       "      <td>414</td>\n",
       "      <td>odavila</td>\n",
       "      <td>5</td>\n",
       "    </tr>\n",
       "  </tbody>\n",
       "</table>\n",
       "</div>"
      ],
      "text/plain": [
       "      rating_id  book_id       username  rating\n",
       "3176       3177      497    sfitzgerald       5\n",
       "1421       1422      251        qmiller       5\n",
       "4493       4494      709        pthomas       4\n",
       "3993       3994      655        debra43       2\n",
       "853         854      144  timothygibson       4\n",
       "5259       5260      813     ryanfranco       4\n",
       "247         248       52        vcarter       2\n",
       "1555       1556      284        fnguyen       5\n",
       "5260       5261      813        carla64       3\n",
       "2642       2643      414        odavila       5"
      ]
     },
     "metadata": {},
     "output_type": "display_data"
    },
    {
     "name": "stdout",
     "output_type": "stream",
     "text": [
      "\u001b[31m_____________isna______________________\u001b[0m\n"
     ]
    },
    {
     "data": {
      "text/html": [
       "<div>\n",
       "<style scoped>\n",
       "    .dataframe tbody tr th:only-of-type {\n",
       "        vertical-align: middle;\n",
       "    }\n",
       "\n",
       "    .dataframe tbody tr th {\n",
       "        vertical-align: top;\n",
       "    }\n",
       "\n",
       "    .dataframe thead th {\n",
       "        text-align: right;\n",
       "    }\n",
       "</style>\n",
       "<table border=\"1\" class=\"dataframe\">\n",
       "  <thead>\n",
       "    <tr style=\"text-align: right;\">\n",
       "      <th></th>\n",
       "      <th>index</th>\n",
       "      <th>0</th>\n",
       "    </tr>\n",
       "  </thead>\n",
       "  <tbody>\n",
       "    <tr>\n",
       "      <th>0</th>\n",
       "      <td>rating_id</td>\n",
       "      <td>0</td>\n",
       "    </tr>\n",
       "    <tr>\n",
       "      <th>1</th>\n",
       "      <td>book_id</td>\n",
       "      <td>0</td>\n",
       "    </tr>\n",
       "    <tr>\n",
       "      <th>2</th>\n",
       "      <td>username</td>\n",
       "      <td>0</td>\n",
       "    </tr>\n",
       "    <tr>\n",
       "      <th>3</th>\n",
       "      <td>rating</td>\n",
       "      <td>0</td>\n",
       "    </tr>\n",
       "  </tbody>\n",
       "</table>\n",
       "</div>"
      ],
      "text/plain": [
       "       index  0\n",
       "0  rating_id  0\n",
       "1    book_id  0\n",
       "2   username  0\n",
       "3     rating  0"
      ]
     },
     "metadata": {},
     "output_type": "display_data"
    },
    {
     "name": "stdout",
     "output_type": "stream",
     "text": [
      "\u001b[31m_______Поиск дубликатов________________\u001b[0m\n"
     ]
    },
    {
     "data": {
      "text/plain": [
       "0"
      ]
     },
     "metadata": {},
     "output_type": "display_data"
    },
    {
     "name": "stdout",
     "output_type": "stream",
     "text": [
      "\u001b[31m__количество пропущенных значений по каждому из столбцов__\u001b[0m\n"
     ]
    },
    {
     "data": {
      "text/html": [
       "<div>\n",
       "<style scoped>\n",
       "    .dataframe tbody tr th:only-of-type {\n",
       "        vertical-align: middle;\n",
       "    }\n",
       "\n",
       "    .dataframe tbody tr th {\n",
       "        vertical-align: top;\n",
       "    }\n",
       "\n",
       "    .dataframe thead th {\n",
       "        text-align: right;\n",
       "    }\n",
       "</style>\n",
       "<table border=\"1\" class=\"dataframe\">\n",
       "  <thead>\n",
       "    <tr style=\"text-align: right;\">\n",
       "      <th></th>\n",
       "      <th>index</th>\n",
       "      <th>0</th>\n",
       "    </tr>\n",
       "  </thead>\n",
       "  <tbody>\n",
       "    <tr>\n",
       "      <th>0</th>\n",
       "      <td>rating_id</td>\n",
       "      <td>0.0</td>\n",
       "    </tr>\n",
       "    <tr>\n",
       "      <th>1</th>\n",
       "      <td>book_id</td>\n",
       "      <td>0.0</td>\n",
       "    </tr>\n",
       "    <tr>\n",
       "      <th>2</th>\n",
       "      <td>username</td>\n",
       "      <td>0.0</td>\n",
       "    </tr>\n",
       "    <tr>\n",
       "      <th>3</th>\n",
       "      <td>rating</td>\n",
       "      <td>0.0</td>\n",
       "    </tr>\n",
       "  </tbody>\n",
       "</table>\n",
       "</div>"
      ],
      "text/plain": [
       "       index    0\n",
       "0  rating_id  0.0\n",
       "1    book_id  0.0\n",
       "2   username  0.0\n",
       "3     rating  0.0"
      ]
     },
     "metadata": {},
     "output_type": "display_data"
    },
    {
     "name": "stdout",
     "output_type": "stream",
     "text": [
      "\u001b[34m_________________________конец изучения файла____________________________________\u001b[0m\n",
      "\n",
      "\u001b[31m______________info_____________________\u001b[0m\n",
      "<class 'pandas.core.frame.DataFrame'>\n",
      "RangeIndex: 2793 entries, 0 to 2792\n",
      "Data columns (total 4 columns):\n",
      " #   Column     Non-Null Count  Dtype \n",
      "---  ------     --------------  ----- \n",
      " 0   review_id  2793 non-null   int64 \n",
      " 1   book_id    2793 non-null   int64 \n",
      " 2   username   2793 non-null   object\n",
      " 3   text       2793 non-null   object\n",
      "dtypes: int64(2), object(2)\n",
      "memory usage: 87.4+ KB\n"
     ]
    },
    {
     "data": {
      "text/plain": [
       "None"
      ]
     },
     "metadata": {},
     "output_type": "display_data"
    },
    {
     "name": "stdout",
     "output_type": "stream",
     "text": [
      "\u001b[31m______________describe_________________\u001b[0m\n"
     ]
    },
    {
     "data": {
      "text/html": [
       "<div>\n",
       "<style scoped>\n",
       "    .dataframe tbody tr th:only-of-type {\n",
       "        vertical-align: middle;\n",
       "    }\n",
       "\n",
       "    .dataframe tbody tr th {\n",
       "        vertical-align: top;\n",
       "    }\n",
       "\n",
       "    .dataframe thead th {\n",
       "        text-align: right;\n",
       "    }\n",
       "</style>\n",
       "<table border=\"1\" class=\"dataframe\">\n",
       "  <thead>\n",
       "    <tr style=\"text-align: right;\">\n",
       "      <th></th>\n",
       "      <th>count</th>\n",
       "      <th>mean</th>\n",
       "      <th>std</th>\n",
       "      <th>min</th>\n",
       "      <th>25%</th>\n",
       "      <th>50%</th>\n",
       "      <th>75%</th>\n",
       "      <th>max</th>\n",
       "    </tr>\n",
       "  </thead>\n",
       "  <tbody>\n",
       "    <tr>\n",
       "      <th>review_id</th>\n",
       "      <td>2793.0</td>\n",
       "      <td>1397.000000</td>\n",
       "      <td>806.413976</td>\n",
       "      <td>1.0</td>\n",
       "      <td>699.0</td>\n",
       "      <td>1397.0</td>\n",
       "      <td>2095.0</td>\n",
       "      <td>2793.0</td>\n",
       "    </tr>\n",
       "    <tr>\n",
       "      <th>book_id</th>\n",
       "      <td>2793.0</td>\n",
       "      <td>504.693161</td>\n",
       "      <td>288.472931</td>\n",
       "      <td>1.0</td>\n",
       "      <td>259.0</td>\n",
       "      <td>505.0</td>\n",
       "      <td>753.0</td>\n",
       "      <td>1000.0</td>\n",
       "    </tr>\n",
       "  </tbody>\n",
       "</table>\n",
       "</div>"
      ],
      "text/plain": [
       "            count         mean         std  min    25%     50%     75%     max\n",
       "review_id  2793.0  1397.000000  806.413976  1.0  699.0  1397.0  2095.0  2793.0\n",
       "book_id    2793.0   504.693161  288.472931  1.0  259.0   505.0   753.0  1000.0"
      ]
     },
     "metadata": {},
     "output_type": "display_data"
    },
    {
     "name": "stdout",
     "output_type": "stream",
     "text": [
      "\u001b[31m______________sample___________________\u001b[0m\n"
     ]
    },
    {
     "data": {
      "text/html": [
       "<div>\n",
       "<style scoped>\n",
       "    .dataframe tbody tr th:only-of-type {\n",
       "        vertical-align: middle;\n",
       "    }\n",
       "\n",
       "    .dataframe tbody tr th {\n",
       "        vertical-align: top;\n",
       "    }\n",
       "\n",
       "    .dataframe thead th {\n",
       "        text-align: right;\n",
       "    }\n",
       "</style>\n",
       "<table border=\"1\" class=\"dataframe\">\n",
       "  <thead>\n",
       "    <tr style=\"text-align: right;\">\n",
       "      <th></th>\n",
       "      <th>review_id</th>\n",
       "      <th>book_id</th>\n",
       "      <th>username</th>\n",
       "      <th>text</th>\n",
       "    </tr>\n",
       "  </thead>\n",
       "  <tbody>\n",
       "    <tr>\n",
       "      <th>292</th>\n",
       "      <td>291</td>\n",
       "      <td>100</td>\n",
       "      <td>nthomas</td>\n",
       "      <td>Store toward design. Each few wall investment claim top. End building staff itself hear put. It conference long about man.</td>\n",
       "    </tr>\n",
       "    <tr>\n",
       "      <th>1664</th>\n",
       "      <td>1663</td>\n",
       "      <td>603</td>\n",
       "      <td>xdavis</td>\n",
       "      <td>Need discover old memory last plant. Bit first herself follow question throw. They right property president country our.</td>\n",
       "    </tr>\n",
       "    <tr>\n",
       "      <th>291</th>\n",
       "      <td>290</td>\n",
       "      <td>99</td>\n",
       "      <td>michellewhite</td>\n",
       "      <td>Sometimes watch lot dark cup always center. Cell bed city seat lead car discover.</td>\n",
       "    </tr>\n",
       "    <tr>\n",
       "      <th>2240</th>\n",
       "      <td>2240</td>\n",
       "      <td>806</td>\n",
       "      <td>amymckenzie</td>\n",
       "      <td>Peace million project style. Entire customer message everything year increase population. Here less lead simple require consider.</td>\n",
       "    </tr>\n",
       "    <tr>\n",
       "      <th>109</th>\n",
       "      <td>109</td>\n",
       "      <td>39</td>\n",
       "      <td>carlsonbrad</td>\n",
       "      <td>Tough develop whole produce population still. Challenge kind lose large. Option set friend among figure computer.</td>\n",
       "    </tr>\n",
       "    <tr>\n",
       "      <th>495</th>\n",
       "      <td>495</td>\n",
       "      <td>181</td>\n",
       "      <td>nolanalexander</td>\n",
       "      <td>President feel provide lay near may at. Produce into half result son.</td>\n",
       "    </tr>\n",
       "    <tr>\n",
       "      <th>1535</th>\n",
       "      <td>1534</td>\n",
       "      <td>557</td>\n",
       "      <td>wendy18</td>\n",
       "      <td>Black travel hospital season night ok. Speak oil education necessary range learn.</td>\n",
       "    </tr>\n",
       "    <tr>\n",
       "      <th>1816</th>\n",
       "      <td>1815</td>\n",
       "      <td>657</td>\n",
       "      <td>carla64</td>\n",
       "      <td>Region billion do action trouble movie seek. Us buy sort money manager.</td>\n",
       "    </tr>\n",
       "    <tr>\n",
       "      <th>161</th>\n",
       "      <td>161</td>\n",
       "      <td>55</td>\n",
       "      <td>perrypatricia</td>\n",
       "      <td>Fly agree after behavior. Film focus ability include affect everyone. Environment approach bill baby nice face while.</td>\n",
       "    </tr>\n",
       "    <tr>\n",
       "      <th>2151</th>\n",
       "      <td>2151</td>\n",
       "      <td>774</td>\n",
       "      <td>bobbyhood</td>\n",
       "      <td>Impact forget both responsibility old bit. Close either send analysis quality guy those teach. End wear child step be federal.</td>\n",
       "    </tr>\n",
       "  </tbody>\n",
       "</table>\n",
       "</div>"
      ],
      "text/plain": [
       "      review_id  book_id        username  \\\n",
       "292         291      100         nthomas   \n",
       "1664       1663      603          xdavis   \n",
       "291         290       99   michellewhite   \n",
       "2240       2240      806     amymckenzie   \n",
       "109         109       39     carlsonbrad   \n",
       "495         495      181  nolanalexander   \n",
       "1535       1534      557         wendy18   \n",
       "1816       1815      657         carla64   \n",
       "161         161       55   perrypatricia   \n",
       "2151       2151      774       bobbyhood   \n",
       "\n",
       "                                                                                                                                   text  \n",
       "292          Store toward design. Each few wall investment claim top. End building staff itself hear put. It conference long about man.  \n",
       "1664           Need discover old memory last plant. Bit first herself follow question throw. They right property president country our.  \n",
       "291                                                   Sometimes watch lot dark cup always center. Cell bed city seat lead car discover.  \n",
       "2240  Peace million project style. Entire customer message everything year increase population. Here less lead simple require consider.  \n",
       "109                   Tough develop whole produce population still. Challenge kind lose large. Option set friend among figure computer.  \n",
       "495                                                               President feel provide lay near may at. Produce into half result son.  \n",
       "1535                                                  Black travel hospital season night ok. Speak oil education necessary range learn.  \n",
       "1816                                                            Region billion do action trouble movie seek. Us buy sort money manager.  \n",
       "161               Fly agree after behavior. Film focus ability include affect everyone. Environment approach bill baby nice face while.  \n",
       "2151     Impact forget both responsibility old bit. Close either send analysis quality guy those teach. End wear child step be federal.  "
      ]
     },
     "metadata": {},
     "output_type": "display_data"
    },
    {
     "name": "stdout",
     "output_type": "stream",
     "text": [
      "\u001b[31m_____________isna______________________\u001b[0m\n"
     ]
    },
    {
     "data": {
      "text/html": [
       "<div>\n",
       "<style scoped>\n",
       "    .dataframe tbody tr th:only-of-type {\n",
       "        vertical-align: middle;\n",
       "    }\n",
       "\n",
       "    .dataframe tbody tr th {\n",
       "        vertical-align: top;\n",
       "    }\n",
       "\n",
       "    .dataframe thead th {\n",
       "        text-align: right;\n",
       "    }\n",
       "</style>\n",
       "<table border=\"1\" class=\"dataframe\">\n",
       "  <thead>\n",
       "    <tr style=\"text-align: right;\">\n",
       "      <th></th>\n",
       "      <th>index</th>\n",
       "      <th>0</th>\n",
       "    </tr>\n",
       "  </thead>\n",
       "  <tbody>\n",
       "    <tr>\n",
       "      <th>0</th>\n",
       "      <td>review_id</td>\n",
       "      <td>0</td>\n",
       "    </tr>\n",
       "    <tr>\n",
       "      <th>1</th>\n",
       "      <td>book_id</td>\n",
       "      <td>0</td>\n",
       "    </tr>\n",
       "    <tr>\n",
       "      <th>2</th>\n",
       "      <td>username</td>\n",
       "      <td>0</td>\n",
       "    </tr>\n",
       "    <tr>\n",
       "      <th>3</th>\n",
       "      <td>text</td>\n",
       "      <td>0</td>\n",
       "    </tr>\n",
       "  </tbody>\n",
       "</table>\n",
       "</div>"
      ],
      "text/plain": [
       "       index  0\n",
       "0  review_id  0\n",
       "1    book_id  0\n",
       "2   username  0\n",
       "3       text  0"
      ]
     },
     "metadata": {},
     "output_type": "display_data"
    },
    {
     "name": "stdout",
     "output_type": "stream",
     "text": [
      "\u001b[31m_______Поиск дубликатов________________\u001b[0m\n"
     ]
    },
    {
     "data": {
      "text/plain": [
       "0"
      ]
     },
     "metadata": {},
     "output_type": "display_data"
    },
    {
     "name": "stdout",
     "output_type": "stream",
     "text": [
      "\u001b[31m__количество пропущенных значений по каждому из столбцов__\u001b[0m\n"
     ]
    },
    {
     "data": {
      "text/html": [
       "<div>\n",
       "<style scoped>\n",
       "    .dataframe tbody tr th:only-of-type {\n",
       "        vertical-align: middle;\n",
       "    }\n",
       "\n",
       "    .dataframe tbody tr th {\n",
       "        vertical-align: top;\n",
       "    }\n",
       "\n",
       "    .dataframe thead th {\n",
       "        text-align: right;\n",
       "    }\n",
       "</style>\n",
       "<table border=\"1\" class=\"dataframe\">\n",
       "  <thead>\n",
       "    <tr style=\"text-align: right;\">\n",
       "      <th></th>\n",
       "      <th>index</th>\n",
       "      <th>0</th>\n",
       "    </tr>\n",
       "  </thead>\n",
       "  <tbody>\n",
       "    <tr>\n",
       "      <th>0</th>\n",
       "      <td>review_id</td>\n",
       "      <td>0.0</td>\n",
       "    </tr>\n",
       "    <tr>\n",
       "      <th>1</th>\n",
       "      <td>book_id</td>\n",
       "      <td>0.0</td>\n",
       "    </tr>\n",
       "    <tr>\n",
       "      <th>2</th>\n",
       "      <td>username</td>\n",
       "      <td>0.0</td>\n",
       "    </tr>\n",
       "    <tr>\n",
       "      <th>3</th>\n",
       "      <td>text</td>\n",
       "      <td>0.0</td>\n",
       "    </tr>\n",
       "  </tbody>\n",
       "</table>\n",
       "</div>"
      ],
      "text/plain": [
       "       index    0\n",
       "0  review_id  0.0\n",
       "1    book_id  0.0\n",
       "2   username  0.0\n",
       "3       text  0.0"
      ]
     },
     "metadata": {},
     "output_type": "display_data"
    },
    {
     "name": "stdout",
     "output_type": "stream",
     "text": [
      "\u001b[34m_________________________конец изучения файла____________________________________\u001b[0m\n",
      "\n"
     ]
    }
   ],
   "source": [
    "list_df = (books, authors, publishers, ratings, reviews)\n",
    "for list_df in list_df:\n",
    "    print('\\033[31m' + '______________info_____________________' + '\\033[0m')\n",
    "    display(list_df.info())\n",
    "    print('\\033[31m' + '______________describe_________________' + '\\033[0m')\n",
    "    display(list_df.describe().T)\n",
    "#    print('\\033[31m' + '______________head_____________________' + '\\033[0m')\n",
    "#    display(list_df.head(10))\n",
    "    print('\\033[31m' + '______________sample___________________' + '\\033[0m')\n",
    "    display(list_df.sample(10))\n",
    "#    print('\\033[31m' + '______________tail_____________________' + '\\033[0m')\n",
    "#    display(list_df.tail(10))\n",
    "    print('\\033[31m' + '_____________isna______________________' + '\\033[0m')\n",
    "    display(list_df.isna().sum().reset_index())\n",
    "    print('\\033[31m' + '_______Поиск дубликатов________________' + '\\033[0m')\n",
    "    display(list_df.duplicated().sum())\n",
    "    print('\\033[31m' + '__количество пропущенных значений по каждому из столбцов__' + '\\033[0m')\n",
    "    display(list_df.isnull().mean().reset_index())\n",
    "    print('\\033[34m' + '_________________________конец изучения файла____________________________________' + '\\033[0m')\n",
    "    print('')"
   ]
  },
  {
   "cell_type": "markdown",
   "metadata": {},
   "source": [
    "<a name=\"1.2\"></a>\n",
    "**Вывод:** \n",
    "* данные содержатся в 5 таблицах:\n",
    "    - books 1000 строк и 6 колонок\n",
    "    - authors 636 строк и 2 колонки\n",
    "    - publishers 340 строк и 2 колонки\n",
    "    - ratings 6456 строк и 4 колонки\n",
    "    - reviews 2793 строки и 4 колонки\n",
    "* явных дубликатов нет\n",
    "* пропусков нет"
   ]
  },
  {
   "cell_type": "markdown",
   "metadata": {},
   "source": [
    "## Подготовка данных\n",
    "<a name=\"7\"></a>"
   ]
  },
  {
   "cell_type": "markdown",
   "metadata": {},
   "source": [
    "Изменим тип данных га соответствующий"
   ]
  },
  {
   "cell_type": "code",
   "execution_count": 14,
   "metadata": {},
   "outputs": [],
   "source": [
    "books['publication_date'] = pd.to_datetime(books['publication_date'])"
   ]
  },
  {
   "cell_type": "code",
   "execution_count": 15,
   "metadata": {},
   "outputs": [
    {
     "data": {
      "text/plain": [
       "book_id                      int64\n",
       "author_id                    int64\n",
       "title                       object\n",
       "num_pages                    int64\n",
       "publication_date    datetime64[ns]\n",
       "publisher_id                 int64\n",
       "dtype: object"
      ]
     },
     "execution_count": 15,
     "metadata": {},
     "output_type": "execute_result"
    }
   ],
   "source": [
    "books.dtypes"
   ]
  },
  {
   "cell_type": "markdown",
   "metadata": {},
   "source": [
    "Найдем скрытые дубликаты по автору и названию книги: "
   ]
  },
  {
   "cell_type": "code",
   "execution_count": 16,
   "metadata": {},
   "outputs": [
    {
     "data": {
      "text/plain": [
       "1"
      ]
     },
     "execution_count": 16,
     "metadata": {},
     "output_type": "execute_result"
    }
   ],
   "source": [
    "books[['author_id', 'title']].duplicated().sum()"
   ]
  },
  {
   "cell_type": "markdown",
   "metadata": {},
   "source": [
    "- Видим 1 дубликат, возможно это переиздание книги. Не будем обращать на это внимание."
   ]
  },
  {
   "cell_type": "markdown",
   "metadata": {},
   "source": [
    "Создадим функцию для запросов к данным:"
   ]
  },
  {
   "cell_type": "code",
   "execution_count": 17,
   "metadata": {},
   "outputs": [],
   "source": [
    "def select(sql):\n",
    "    return pd.read_sql(sql, con=engine)"
   ]
  },
  {
   "cell_type": "markdown",
   "metadata": {},
   "source": [
    "## Изучение данных\n",
    "<a name=\"8\"></a>"
   ]
  },
  {
   "cell_type": "markdown",
   "metadata": {},
   "source": [
    "### Посчитаем, сколько книг вышло после 1 января 2000 года\n",
    "<a name=\"8.1\"></a>"
   ]
  },
  {
   "cell_type": "code",
   "execution_count": 18,
   "metadata": {},
   "outputs": [
    {
     "data": {
      "text/html": [
       "<div>\n",
       "<style scoped>\n",
       "    .dataframe tbody tr th:only-of-type {\n",
       "        vertical-align: middle;\n",
       "    }\n",
       "\n",
       "    .dataframe tbody tr th {\n",
       "        vertical-align: top;\n",
       "    }\n",
       "\n",
       "    .dataframe thead th {\n",
       "        text-align: right;\n",
       "    }\n",
       "</style>\n",
       "<table border=\"1\" class=\"dataframe\">\n",
       "  <thead>\n",
       "    <tr style=\"text-align: right;\">\n",
       "      <th></th>\n",
       "      <th>books_count</th>\n",
       "    </tr>\n",
       "  </thead>\n",
       "  <tbody>\n",
       "    <tr>\n",
       "      <th>0</th>\n",
       "      <td>821</td>\n",
       "    </tr>\n",
       "  </tbody>\n",
       "</table>\n",
       "</div>"
      ],
      "text/plain": [
       "   books_count\n",
       "0          821"
      ]
     },
     "execution_count": 18,
     "metadata": {},
     "output_type": "execute_result"
    }
   ],
   "source": [
    "books_count = '''\n",
    "                SELECT \n",
    "                COUNT(title) AS books_count\n",
    "                FROM\n",
    "                    books\n",
    "                WHERE publication_date >= '2000-01-01';\n",
    "             ''' \n",
    "select(books_count)"
   ]
  },
  {
   "cell_type": "markdown",
   "metadata": {},
   "source": [
    "- Видим, что после 1 января 2000 г. вышла 821 книга"
   ]
  },
  {
   "cell_type": "markdown",
   "metadata": {},
   "source": [
    "### Для каждой книги посчитаем количество обзоров и среднюю оценку\n",
    "<a name=\"8.2\"></a>"
   ]
  },
  {
   "cell_type": "code",
   "execution_count": 19,
   "metadata": {},
   "outputs": [
    {
     "data": {
      "text/html": [
       "<div>\n",
       "<style scoped>\n",
       "    .dataframe tbody tr th:only-of-type {\n",
       "        vertical-align: middle;\n",
       "    }\n",
       "\n",
       "    .dataframe tbody tr th {\n",
       "        vertical-align: top;\n",
       "    }\n",
       "\n",
       "    .dataframe thead th {\n",
       "        text-align: right;\n",
       "    }\n",
       "</style>\n",
       "<table border=\"1\" class=\"dataframe\">\n",
       "  <thead>\n",
       "    <tr style=\"text-align: right;\">\n",
       "      <th></th>\n",
       "      <th>book_title</th>\n",
       "      <th>book_id</th>\n",
       "      <th>avg_rating</th>\n",
       "      <th>count_reviews</th>\n",
       "    </tr>\n",
       "  </thead>\n",
       "  <tbody>\n",
       "    <tr>\n",
       "      <th>0</th>\n",
       "      <td>Twilight (Twilight  #1)</td>\n",
       "      <td>948</td>\n",
       "      <td>3.662</td>\n",
       "      <td>7</td>\n",
       "    </tr>\n",
       "    <tr>\n",
       "      <th>1</th>\n",
       "      <td>Water for Elephants</td>\n",
       "      <td>963</td>\n",
       "      <td>3.977</td>\n",
       "      <td>6</td>\n",
       "    </tr>\n",
       "    <tr>\n",
       "      <th>2</th>\n",
       "      <td>The Glass Castle</td>\n",
       "      <td>734</td>\n",
       "      <td>4.207</td>\n",
       "      <td>6</td>\n",
       "    </tr>\n",
       "    <tr>\n",
       "      <th>3</th>\n",
       "      <td>Harry Potter and the Prisoner of Azkaban (Harry Potter  #3)</td>\n",
       "      <td>302</td>\n",
       "      <td>4.415</td>\n",
       "      <td>6</td>\n",
       "    </tr>\n",
       "    <tr>\n",
       "      <th>4</th>\n",
       "      <td>The Curious Incident of the Dog in the Night-Time</td>\n",
       "      <td>695</td>\n",
       "      <td>4.081</td>\n",
       "      <td>6</td>\n",
       "    </tr>\n",
       "    <tr>\n",
       "      <th>...</th>\n",
       "      <td>...</td>\n",
       "      <td>...</td>\n",
       "      <td>...</td>\n",
       "      <td>...</td>\n",
       "    </tr>\n",
       "    <tr>\n",
       "      <th>995</th>\n",
       "      <td>Anne Rice's The Vampire Lestat: A Graphic Novel</td>\n",
       "      <td>83</td>\n",
       "      <td>3.667</td>\n",
       "      <td>0</td>\n",
       "    </tr>\n",
       "    <tr>\n",
       "      <th>996</th>\n",
       "      <td>The Natural Way to Draw</td>\n",
       "      <td>808</td>\n",
       "      <td>3.000</td>\n",
       "      <td>0</td>\n",
       "    </tr>\n",
       "    <tr>\n",
       "      <th>997</th>\n",
       "      <td>The Cat in the Hat and Other Dr. Seuss Favorites</td>\n",
       "      <td>672</td>\n",
       "      <td>5.000</td>\n",
       "      <td>0</td>\n",
       "    </tr>\n",
       "    <tr>\n",
       "      <th>998</th>\n",
       "      <td>Essential Tales and Poems</td>\n",
       "      <td>221</td>\n",
       "      <td>4.000</td>\n",
       "      <td>0</td>\n",
       "    </tr>\n",
       "    <tr>\n",
       "      <th>999</th>\n",
       "      <td>Disney's Beauty and the Beast (A Little Golden Book)</td>\n",
       "      <td>191</td>\n",
       "      <td>4.000</td>\n",
       "      <td>0</td>\n",
       "    </tr>\n",
       "  </tbody>\n",
       "</table>\n",
       "<p>1000 rows × 4 columns</p>\n",
       "</div>"
      ],
      "text/plain": [
       "                                                      book_title  book_id  \\\n",
       "0                                        Twilight (Twilight  #1)      948   \n",
       "1                                            Water for Elephants      963   \n",
       "2                                               The Glass Castle      734   \n",
       "3    Harry Potter and the Prisoner of Azkaban (Harry Potter  #3)      302   \n",
       "4              The Curious Incident of the Dog in the Night-Time      695   \n",
       "..                                                           ...      ...   \n",
       "995              Anne Rice's The Vampire Lestat: A Graphic Novel       83   \n",
       "996                                      The Natural Way to Draw      808   \n",
       "997             The Cat in the Hat and Other Dr. Seuss Favorites      672   \n",
       "998                                    Essential Tales and Poems      221   \n",
       "999         Disney's Beauty and the Beast (A Little Golden Book)      191   \n",
       "\n",
       "     avg_rating  count_reviews  \n",
       "0         3.662              7  \n",
       "1         3.977              6  \n",
       "2         4.207              6  \n",
       "3         4.415              6  \n",
       "4         4.081              6  \n",
       "..          ...            ...  \n",
       "995       3.667              0  \n",
       "996       3.000              0  \n",
       "997       5.000              0  \n",
       "998       4.000              0  \n",
       "999       4.000              0  \n",
       "\n",
       "[1000 rows x 4 columns]"
      ]
     },
     "execution_count": 19,
     "metadata": {},
     "output_type": "execute_result"
    }
   ],
   "source": [
    "query_cnt_avg = '''                              \n",
    "                    SELECT\n",
    "                        books.title AS book_title,\n",
    "                        books.book_id AS book_id,\n",
    "                        AVG(ratings.rating) AS avg_rating,\n",
    "                        COUNT(DISTINCT reviews.review_id) AS count_reviews -- DISTINCT только уники по столбцу\n",
    "\n",
    "                    FROM\n",
    "                        books\n",
    "\n",
    "                    INNER JOIN ratings ON ratings.book_id = books.book_id\n",
    "                    LEFT JOIN reviews ON reviews.book_id = books.book_id\n",
    "                    \n",
    "\n",
    "                    GROUP BY\n",
    "                        books.title,\n",
    "                        books.book_id\n",
    "\n",
    "                    ORDER BY\n",
    "                        count_reviews DESC;\n",
    "                ''' \n",
    "select(query_cnt_avg).round(3)#.head(10)"
   ]
  },
  {
   "cell_type": "markdown",
   "metadata": {},
   "source": [
    "Проверим количество рецензий по столбцу `count_reviews`"
   ]
  },
  {
   "cell_type": "code",
   "execution_count": 20,
   "metadata": {},
   "outputs": [
    {
     "data": {
      "text/plain": [
       "2793"
      ]
     },
     "execution_count": 20,
     "metadata": {},
     "output_type": "execute_result"
    }
   ],
   "source": [
    "check = select(query_cnt_avg)\n",
    "check_rew = check.count_reviews.sum()\n",
    "check_rew"
   ]
  },
  {
   "cell_type": "markdown",
   "metadata": {},
   "source": [
    "- Определили для каждой книги количество обзоров и среднюю оценку"
   ]
  },
  {
   "cell_type": "markdown",
   "metadata": {},
   "source": [
    "### Определим издательства, которое выпустило наибольшее число книг\n",
    "<a name=\"8.3\"></a>"
   ]
  },
  {
   "cell_type": "markdown",
   "metadata": {},
   "source": [
    "- По условию книги все что больше 50 страниц"
   ]
  },
  {
   "cell_type": "code",
   "execution_count": 21,
   "metadata": {},
   "outputs": [
    {
     "data": {
      "text/html": [
       "<div>\n",
       "<style scoped>\n",
       "    .dataframe tbody tr th:only-of-type {\n",
       "        vertical-align: middle;\n",
       "    }\n",
       "\n",
       "    .dataframe tbody tr th {\n",
       "        vertical-align: top;\n",
       "    }\n",
       "\n",
       "    .dataframe thead th {\n",
       "        text-align: right;\n",
       "    }\n",
       "</style>\n",
       "<table border=\"1\" class=\"dataframe\">\n",
       "  <thead>\n",
       "    <tr style=\"text-align: right;\">\n",
       "      <th></th>\n",
       "      <th>publisher_id</th>\n",
       "      <th>publisher</th>\n",
       "      <th>count_books</th>\n",
       "    </tr>\n",
       "  </thead>\n",
       "  <tbody>\n",
       "    <tr>\n",
       "      <th>0</th>\n",
       "      <td>212</td>\n",
       "      <td>Penguin Books</td>\n",
       "      <td>42</td>\n",
       "    </tr>\n",
       "    <tr>\n",
       "      <th>1</th>\n",
       "      <td>309</td>\n",
       "      <td>Vintage</td>\n",
       "      <td>31</td>\n",
       "    </tr>\n",
       "    <tr>\n",
       "      <th>2</th>\n",
       "      <td>116</td>\n",
       "      <td>Grand Central Publishing</td>\n",
       "      <td>25</td>\n",
       "    </tr>\n",
       "    <tr>\n",
       "      <th>3</th>\n",
       "      <td>217</td>\n",
       "      <td>Penguin Classics</td>\n",
       "      <td>24</td>\n",
       "    </tr>\n",
       "    <tr>\n",
       "      <th>4</th>\n",
       "      <td>33</td>\n",
       "      <td>Ballantine Books</td>\n",
       "      <td>19</td>\n",
       "    </tr>\n",
       "    <tr>\n",
       "      <th>5</th>\n",
       "      <td>35</td>\n",
       "      <td>Bantam</td>\n",
       "      <td>19</td>\n",
       "    </tr>\n",
       "    <tr>\n",
       "      <th>6</th>\n",
       "      <td>45</td>\n",
       "      <td>Berkley</td>\n",
       "      <td>17</td>\n",
       "    </tr>\n",
       "    <tr>\n",
       "      <th>7</th>\n",
       "      <td>284</td>\n",
       "      <td>St. Martin's Press</td>\n",
       "      <td>14</td>\n",
       "    </tr>\n",
       "    <tr>\n",
       "      <th>8</th>\n",
       "      <td>46</td>\n",
       "      <td>Berkley Books</td>\n",
       "      <td>14</td>\n",
       "    </tr>\n",
       "    <tr>\n",
       "      <th>9</th>\n",
       "      <td>83</td>\n",
       "      <td>Delta</td>\n",
       "      <td>13</td>\n",
       "    </tr>\n",
       "  </tbody>\n",
       "</table>\n",
       "</div>"
      ],
      "text/plain": [
       "   publisher_id                 publisher  count_books\n",
       "0           212             Penguin Books           42\n",
       "1           309                   Vintage           31\n",
       "2           116  Grand Central Publishing           25\n",
       "3           217          Penguin Classics           24\n",
       "4            33          Ballantine Books           19\n",
       "5            35                    Bantam           19\n",
       "6            45                   Berkley           17\n",
       "7           284        St. Martin's Press           14\n",
       "8            46             Berkley Books           14\n",
       "9            83                     Delta           13"
      ]
     },
     "execution_count": 21,
     "metadata": {},
     "output_type": "execute_result"
    }
   ],
   "source": [
    "query_publisher = '''\n",
    "                     SELECT \n",
    "                         publishers.publisher_id, \n",
    "                         publishers.publisher, \n",
    "                         COUNT(books.book_id) as count_books\n",
    "                     FROM \n",
    "                         publishers\n",
    "                     JOIN books ON publishers.publisher_id = books.publisher_id\n",
    "                     WHERE \n",
    "                         books.num_pages > 50\n",
    "                     GROUP BY publishers.publisher_id\n",
    "                     ORDER BY count_books DESC\n",
    "                     LIMIT 10;\n",
    "                 ''' \n",
    "select(query_publisher)"
   ]
  },
  {
   "cell_type": "markdown",
   "metadata": {},
   "source": [
    "- Больше всего книг выпустило издательство `Penguin Books`"
   ]
  },
  {
   "cell_type": "markdown",
   "metadata": {},
   "source": [
    "### Определим автора с самой высокой средней оценкой книги\n",
    "<a name=\"8.4\"></a>"
   ]
  },
  {
   "cell_type": "markdown",
   "metadata": {},
   "source": [
    "- По условию учитываем книги с 50 и более оценками"
   ]
  },
  {
   "cell_type": "code",
   "execution_count": 22,
   "metadata": {},
   "outputs": [
    {
     "data": {
      "text/html": [
       "<div>\n",
       "<style scoped>\n",
       "    .dataframe tbody tr th:only-of-type {\n",
       "        vertical-align: middle;\n",
       "    }\n",
       "\n",
       "    .dataframe tbody tr th {\n",
       "        vertical-align: top;\n",
       "    }\n",
       "\n",
       "    .dataframe thead th {\n",
       "        text-align: right;\n",
       "    }\n",
       "</style>\n",
       "<table border=\"1\" class=\"dataframe\">\n",
       "  <thead>\n",
       "    <tr style=\"text-align: right;\">\n",
       "      <th></th>\n",
       "      <th>id</th>\n",
       "      <th>author</th>\n",
       "      <th>avg_rating</th>\n",
       "      <th>count_rating</th>\n",
       "    </tr>\n",
       "  </thead>\n",
       "  <tbody>\n",
       "    <tr>\n",
       "      <th>0</th>\n",
       "      <td>236</td>\n",
       "      <td>J.K. Rowling/Mary GrandPré</td>\n",
       "      <td>4.288</td>\n",
       "      <td>312</td>\n",
       "    </tr>\n",
       "  </tbody>\n",
       "</table>\n",
       "</div>"
      ],
      "text/plain": [
       "    id                      author  avg_rating  count_rating\n",
       "0  236  J.K. Rowling/Mary GrandPré       4.288           312"
      ]
     },
     "execution_count": 22,
     "metadata": {},
     "output_type": "execute_result"
    }
   ],
   "source": [
    "query_rating_avg = '''\n",
    "                        SELECT\n",
    "                           authors.author_id AS id,\n",
    "                           authors.author AS author,\n",
    "                           AVG(ratings.rating) AS avg_rating,\n",
    "                           COUNT(ratings.rating) AS count_rating\n",
    "                        FROM\n",
    "                           authors\n",
    "                        INNER JOIN books ON books.author_id = authors.author_id\n",
    "                        INNER JOIN ratings ON ratings.book_id = books.book_id\n",
    "                        GROUP BY\n",
    "                           id,\n",
    "                           author\n",
    "                        HAVING \n",
    "                           COUNT(ratings.rating) >= 50 \n",
    "                           \n",
    "                        ORDER BY\n",
    "                           count_rating DESC\n",
    "                        LIMIT 1\n",
    "                        ;\n",
    "                '''\n",
    "select(query_rating_avg).round(3)"
   ]
  },
  {
   "cell_type": "markdown",
   "metadata": {},
   "source": [
    "- По результатам видим, что автор с самой высокой средней оценкой книг (с 50 и более оценками): `J.K. Rowling`"
   ]
  },
  {
   "cell_type": "markdown",
   "metadata": {},
   "source": [
    "### Посчитаем среднее количество обзоров от пользователей\n",
    "<a name=\"8.5\"></a>"
   ]
  },
  {
   "cell_type": "markdown",
   "metadata": {},
   "source": [
    "- По условию учитываем пользователей, которые поставили больше 50 оценок."
   ]
  },
  {
   "cell_type": "code",
   "execution_count": 23,
   "metadata": {},
   "outputs": [
    {
     "data": {
      "text/html": [
       "<div>\n",
       "<style scoped>\n",
       "    .dataframe tbody tr th:only-of-type {\n",
       "        vertical-align: middle;\n",
       "    }\n",
       "\n",
       "    .dataframe tbody tr th {\n",
       "        vertical-align: top;\n",
       "    }\n",
       "\n",
       "    .dataframe thead th {\n",
       "        text-align: right;\n",
       "    }\n",
       "</style>\n",
       "<table border=\"1\" class=\"dataframe\">\n",
       "  <thead>\n",
       "    <tr style=\"text-align: right;\">\n",
       "      <th></th>\n",
       "      <th>avg_review</th>\n",
       "    </tr>\n",
       "  </thead>\n",
       "  <tbody>\n",
       "    <tr>\n",
       "      <th>0</th>\n",
       "      <td>24.0</td>\n",
       "    </tr>\n",
       "  </tbody>\n",
       "</table>\n",
       "</div>"
      ],
      "text/plain": [
       "   avg_review\n",
       "0        24.0"
      ]
     },
     "execution_count": 23,
     "metadata": {},
     "output_type": "execute_result"
    }
   ],
   "source": [
    "query_publisher_avg = '''\n",
    "                        SELECT\n",
    "                        AVG(review.review_cnt) AS avg_review\n",
    "                        FROM\n",
    "                            (SELECT COUNT(review_id) AS review_cnt\n",
    "                        FROM \n",
    "                            reviews\n",
    "                        WHERE\n",
    "                            username\n",
    "                        IN \n",
    "                            (SELECT username\n",
    "                        FROM\n",
    "                            ratings\n",
    "                        GROUP BY\n",
    "                            username\n",
    "                        HAVING\n",
    "                        COUNT(ratings) > 50)\n",
    "                        GROUP BY \n",
    "                            username) \n",
    "                        AS\n",
    "                        review;\n",
    "                     '''\n",
    "select(query_publisher_avg).round(0)"
   ]
  },
  {
   "cell_type": "markdown",
   "metadata": {},
   "source": [
    "- Пользователи оставившие более 50 оценок, в среднем написали 24 обзора"
   ]
  },
  {
   "cell_type": "markdown",
   "metadata": {},
   "source": [
    "## Вывод\n",
    "<a name=\"9\"></a>"
   ]
  },
  {
   "cell_type": "markdown",
   "metadata": {},
   "source": [
    "* В ходе исследования  проанализировать базу данных сервиса чтения книг.\n",
    "\n",
    "* Исследования проводились на основе БД, включающей из 5 таблиц:\n",
    "    - `books`\n",
    "    - `authors`\n",
    "    - `publishers`\n",
    "    - `ratings`\n",
    "    - `reviews`\n",
    "    \n",
    "* В процессе исследования определили что\n",
    "    - после 1 января 2000 г. вышла 821 книга\n",
    "    - для каждой книги о пределиликоличество обзоров и среднюю оценку\n",
    "    - больше всего книг выпустило издательство `Penguin Books`\n",
    "    - автор с самой высокой средней оценкой книг (с 50 и более оценками): `J.K. Rowling`\n",
    "    - пользователи оставившие более 50 оценок, в среднем написали 24 обзора\n",
    "\n"
   ]
  },
  {
   "cell_type": "markdown",
   "metadata": {},
   "source": [
    "### Рекомендации\n",
    "<a name=\"9.1\"></a>"
   ]
  },
  {
   "cell_type": "markdown",
   "metadata": {},
   "source": [
    "* Для максимизации прибыли следует ориентироваться на бестселлеры и (или) расширение предложения за счет специальзированной литературы (возможно авторских тематических публикаций)\n",
    "\n",
    "* Также стоит рассмотреть вариант расширения функционала (и предложения) за счет аудиокниг (тематических подкастов), которые пользуются популярностью у определеннной группы людей"
   ]
  },
  {
   "cell_type": "code",
   "execution_count": null,
   "metadata": {},
   "outputs": [],
   "source": []
  }
 ],
 "metadata": {
  "ExecuteTimeLog": [
   {
    "duration": 1442,
    "start_time": "2022-04-12T15:59:34.404Z"
   },
   {
    "duration": 9811,
    "start_time": "2022-04-12T16:03:08.342Z"
   },
   {
    "duration": 395,
    "start_time": "2022-04-12T16:04:04.303Z"
   },
   {
    "duration": 4,
    "start_time": "2022-04-12T16:04:19.049Z"
   },
   {
    "duration": 277,
    "start_time": "2022-04-12T16:04:19.326Z"
   },
   {
    "duration": 3,
    "start_time": "2022-04-12T16:04:21.681Z"
   },
   {
    "duration": 5,
    "start_time": "2022-04-12T16:04:22.167Z"
   },
   {
    "duration": 269,
    "start_time": "2022-04-12T16:04:22.328Z"
   },
   {
    "duration": 77,
    "start_time": "2022-04-12T16:05:29.855Z"
   },
   {
    "duration": 175,
    "start_time": "2022-04-12T16:06:35.559Z"
   },
   {
    "duration": 12,
    "start_time": "2022-04-12T16:08:29.023Z"
   },
   {
    "duration": 12,
    "start_time": "2022-04-12T16:08:59.606Z"
   },
   {
    "duration": 11,
    "start_time": "2022-04-12T16:09:22.776Z"
   },
   {
    "duration": 1186,
    "start_time": "2022-04-12T16:09:44.236Z"
   },
   {
    "duration": 0,
    "start_time": "2022-04-12T16:09:58.043Z"
   },
   {
    "duration": 0,
    "start_time": "2022-04-12T16:09:58.044Z"
   },
   {
    "duration": 0,
    "start_time": "2022-04-12T16:09:58.045Z"
   },
   {
    "duration": 0,
    "start_time": "2022-04-12T16:09:58.046Z"
   },
   {
    "duration": 0,
    "start_time": "2022-04-12T16:09:58.047Z"
   },
   {
    "duration": 0,
    "start_time": "2022-04-12T16:09:58.048Z"
   },
   {
    "duration": 3,
    "start_time": "2022-04-12T16:10:05.245Z"
   },
   {
    "duration": 4,
    "start_time": "2022-04-12T16:10:05.251Z"
   },
   {
    "duration": 203,
    "start_time": "2022-04-12T16:10:05.257Z"
   },
   {
    "duration": 86,
    "start_time": "2022-04-12T16:10:05.462Z"
   },
   {
    "duration": 13,
    "start_time": "2022-04-12T16:10:05.550Z"
   },
   {
    "duration": 0,
    "start_time": "2022-04-12T16:10:05.565Z"
   },
   {
    "duration": 12,
    "start_time": "2022-04-12T16:10:29.926Z"
   },
   {
    "duration": 15,
    "start_time": "2022-04-12T16:10:52.024Z"
   },
   {
    "duration": 74,
    "start_time": "2022-04-12T16:11:02.076Z"
   },
   {
    "duration": 45,
    "start_time": "2022-04-16T11:45:35.543Z"
   },
   {
    "duration": 729,
    "start_time": "2022-04-16T11:45:50.176Z"
   },
   {
    "duration": 8890,
    "start_time": "2022-04-16T11:45:50.908Z"
   },
   {
    "duration": 31,
    "start_time": "2022-04-16T11:45:59.800Z"
   },
   {
    "duration": 129,
    "start_time": "2022-04-16T11:45:59.833Z"
   },
   {
    "duration": 68,
    "start_time": "2022-04-16T11:45:59.964Z"
   },
   {
    "duration": 3,
    "start_time": "2022-04-16T11:46:00.033Z"
   },
   {
    "duration": 12,
    "start_time": "2022-04-16T11:46:20.322Z"
   },
   {
    "duration": 21,
    "start_time": "2022-04-16T11:46:28.443Z"
   },
   {
    "duration": 74,
    "start_time": "2022-04-16T11:46:42.646Z"
   },
   {
    "duration": 8,
    "start_time": "2022-04-16T11:46:48.508Z"
   },
   {
    "duration": 7,
    "start_time": "2022-04-16T11:46:51.751Z"
   },
   {
    "duration": 8,
    "start_time": "2022-04-16T11:46:56.323Z"
   },
   {
    "duration": 9,
    "start_time": "2022-04-16T11:47:00.636Z"
   },
   {
    "duration": 4,
    "start_time": "2022-04-16T11:49:48.274Z"
   },
   {
    "duration": 8,
    "start_time": "2022-04-16T11:50:00.039Z"
   },
   {
    "duration": 4,
    "start_time": "2022-04-16T11:52:01.202Z"
   },
   {
    "duration": 6,
    "start_time": "2022-04-16T11:52:09.684Z"
   },
   {
    "duration": 4,
    "start_time": "2022-04-16T11:52:37.968Z"
   },
   {
    "duration": 5,
    "start_time": "2022-04-16T11:52:58.336Z"
   },
   {
    "duration": 7,
    "start_time": "2022-04-16T12:01:53.536Z"
   },
   {
    "duration": 7,
    "start_time": "2022-04-16T12:02:36.811Z"
   },
   {
    "duration": 4,
    "start_time": "2022-04-16T12:02:49.402Z"
   },
   {
    "duration": 8,
    "start_time": "2022-04-16T12:03:05.699Z"
   },
   {
    "duration": 195,
    "start_time": "2022-04-16T12:05:36.473Z"
   },
   {
    "duration": 162,
    "start_time": "2022-04-16T12:06:11.915Z"
   },
   {
    "duration": 15,
    "start_time": "2022-04-16T12:10:17.745Z"
   },
   {
    "duration": 164,
    "start_time": "2022-04-16T12:11:37.473Z"
   },
   {
    "duration": 160,
    "start_time": "2022-04-16T12:12:53.894Z"
   },
   {
    "duration": 8,
    "start_time": "2022-04-16T12:13:28.115Z"
   },
   {
    "duration": 8,
    "start_time": "2022-04-16T12:15:11.776Z"
   },
   {
    "duration": 3,
    "start_time": "2022-04-16T12:15:21.722Z"
   },
   {
    "duration": 4,
    "start_time": "2022-04-16T12:15:31.793Z"
   },
   {
    "duration": 4,
    "start_time": "2022-04-16T12:20:35.765Z"
   },
   {
    "duration": 8,
    "start_time": "2022-04-16T12:20:47.215Z"
   },
   {
    "duration": 7,
    "start_time": "2022-04-16T12:20:58.148Z"
   },
   {
    "duration": 4,
    "start_time": "2022-04-16T12:21:01.190Z"
   },
   {
    "duration": 3,
    "start_time": "2022-04-16T12:25:26.579Z"
   },
   {
    "duration": 3,
    "start_time": "2022-04-16T12:25:30.077Z"
   },
   {
    "duration": 18,
    "start_time": "2022-04-16T12:25:30.082Z"
   },
   {
    "duration": 41,
    "start_time": "2022-04-16T12:25:30.102Z"
   },
   {
    "duration": 151,
    "start_time": "2022-04-16T12:25:30.145Z"
   },
   {
    "duration": 69,
    "start_time": "2022-04-16T12:25:30.298Z"
   },
   {
    "duration": 5,
    "start_time": "2022-04-16T12:25:30.369Z"
   },
   {
    "duration": 14,
    "start_time": "2022-04-16T12:25:30.376Z"
   },
   {
    "duration": 15,
    "start_time": "2022-04-16T12:25:30.423Z"
   },
   {
    "duration": 13,
    "start_time": "2022-04-16T12:25:30.441Z"
   },
   {
    "duration": 0,
    "start_time": "2022-04-16T12:25:30.455Z"
   },
   {
    "duration": 4,
    "start_time": "2022-04-16T12:27:52.259Z"
   },
   {
    "duration": 7,
    "start_time": "2022-04-16T12:27:58.504Z"
   },
   {
    "duration": 14,
    "start_time": "2022-04-16T12:48:17.196Z"
   },
   {
    "duration": 9,
    "start_time": "2022-04-16T13:21:14.469Z"
   },
   {
    "duration": 3,
    "start_time": "2022-04-16T13:24:11.174Z"
   },
   {
    "duration": 509,
    "start_time": "2022-04-16T13:31:50.306Z"
   },
   {
    "duration": 9307,
    "start_time": "2022-04-16T13:31:50.817Z"
   },
   {
    "duration": 35,
    "start_time": "2022-04-16T13:32:00.126Z"
   },
   {
    "duration": 118,
    "start_time": "2022-04-16T13:32:00.164Z"
   },
   {
    "duration": 75,
    "start_time": "2022-04-16T13:32:00.284Z"
   },
   {
    "duration": 4,
    "start_time": "2022-04-16T13:32:00.361Z"
   },
   {
    "duration": 8,
    "start_time": "2022-04-16T13:32:00.368Z"
   },
   {
    "duration": 11,
    "start_time": "2022-04-16T13:32:00.379Z"
   },
   {
    "duration": 4,
    "start_time": "2022-04-16T13:32:00.423Z"
   },
   {
    "duration": 21,
    "start_time": "2022-04-16T13:32:00.430Z"
   },
   {
    "duration": 16,
    "start_time": "2022-04-16T13:32:00.453Z"
   },
   {
    "duration": 83,
    "start_time": "2022-04-16T13:32:00.471Z"
   },
   {
    "duration": 0,
    "start_time": "2022-04-16T13:32:00.555Z"
   },
   {
    "duration": 186,
    "start_time": "2022-04-16T13:39:56.114Z"
   },
   {
    "duration": 11,
    "start_time": "2022-04-16T13:40:05.897Z"
   },
   {
    "duration": 5,
    "start_time": "2022-04-16T13:41:24.117Z"
   },
   {
    "duration": 5,
    "start_time": "2022-04-16T13:42:17.592Z"
   },
   {
    "duration": 6,
    "start_time": "2022-04-16T13:42:25.608Z"
   },
   {
    "duration": 7,
    "start_time": "2022-04-16T13:42:29.782Z"
   },
   {
    "duration": 8,
    "start_time": "2022-04-16T13:42:36.888Z"
   },
   {
    "duration": 5,
    "start_time": "2022-04-16T13:42:46.253Z"
   },
   {
    "duration": 6,
    "start_time": "2022-04-16T13:43:49.774Z"
   },
   {
    "duration": 6,
    "start_time": "2022-04-16T13:44:07.411Z"
   },
   {
    "duration": 6,
    "start_time": "2022-04-16T13:44:11.080Z"
   },
   {
    "duration": 8,
    "start_time": "2022-04-16T13:44:29.208Z"
   },
   {
    "duration": 5,
    "start_time": "2022-04-16T13:44:39.297Z"
   },
   {
    "duration": 6,
    "start_time": "2022-04-16T13:44:46.244Z"
   },
   {
    "duration": 6,
    "start_time": "2022-04-16T13:45:14.040Z"
   },
   {
    "duration": 6,
    "start_time": "2022-04-16T13:45:17.603Z"
   },
   {
    "duration": 6,
    "start_time": "2022-04-16T13:45:45.135Z"
   },
   {
    "duration": 6,
    "start_time": "2022-04-16T13:45:51.296Z"
   },
   {
    "duration": 6,
    "start_time": "2022-04-16T13:46:01.951Z"
   },
   {
    "duration": 4,
    "start_time": "2022-04-16T13:46:07.913Z"
   },
   {
    "duration": 7,
    "start_time": "2022-04-16T13:46:13.855Z"
   },
   {
    "duration": 7,
    "start_time": "2022-04-16T13:46:19.110Z"
   },
   {
    "duration": 6,
    "start_time": "2022-04-16T13:46:26.765Z"
   },
   {
    "duration": 154,
    "start_time": "2022-04-16T13:46:38.487Z"
   },
   {
    "duration": 6,
    "start_time": "2022-04-16T13:46:43.986Z"
   },
   {
    "duration": 5,
    "start_time": "2022-04-16T13:47:39.781Z"
   },
   {
    "duration": 7,
    "start_time": "2022-04-16T13:47:42.640Z"
   },
   {
    "duration": 6,
    "start_time": "2022-04-16T13:48:52.033Z"
   },
   {
    "duration": 166,
    "start_time": "2022-04-16T13:49:28.790Z"
   },
   {
    "duration": 162,
    "start_time": "2022-04-16T13:49:36.598Z"
   },
   {
    "duration": 12,
    "start_time": "2022-04-16T13:49:44.171Z"
   },
   {
    "duration": 11,
    "start_time": "2022-04-16T13:49:47.496Z"
   },
   {
    "duration": 11,
    "start_time": "2022-04-16T13:49:57.971Z"
   },
   {
    "duration": 8,
    "start_time": "2022-04-16T13:50:44.341Z"
   },
   {
    "duration": 9,
    "start_time": "2022-04-16T13:50:57.492Z"
   },
   {
    "duration": 10,
    "start_time": "2022-04-16T13:51:05.309Z"
   },
   {
    "duration": 534,
    "start_time": "2022-04-16T14:02:00.012Z"
   },
   {
    "duration": 9209,
    "start_time": "2022-04-16T14:02:00.548Z"
   },
   {
    "duration": 28,
    "start_time": "2022-04-16T14:02:09.758Z"
   },
   {
    "duration": 113,
    "start_time": "2022-04-16T14:02:09.788Z"
   },
   {
    "duration": 84,
    "start_time": "2022-04-16T14:02:09.903Z"
   },
   {
    "duration": 35,
    "start_time": "2022-04-16T14:02:09.989Z"
   },
   {
    "duration": 7,
    "start_time": "2022-04-16T14:02:10.026Z"
   },
   {
    "duration": 7,
    "start_time": "2022-04-16T14:02:10.035Z"
   },
   {
    "duration": 3,
    "start_time": "2022-04-16T14:02:10.044Z"
   },
   {
    "duration": 12,
    "start_time": "2022-04-16T14:02:10.049Z"
   },
   {
    "duration": 13,
    "start_time": "2022-04-16T14:02:10.062Z"
   },
   {
    "duration": 11,
    "start_time": "2022-04-16T14:11:44.498Z"
   },
   {
    "duration": 48,
    "start_time": "2022-04-16T14:12:25.139Z"
   },
   {
    "duration": 10,
    "start_time": "2022-04-16T14:24:05.755Z"
   },
   {
    "duration": 10,
    "start_time": "2022-04-16T14:25:26.521Z"
   },
   {
    "duration": 12,
    "start_time": "2022-04-16T14:25:33.229Z"
   },
   {
    "duration": 11,
    "start_time": "2022-04-16T14:25:35.527Z"
   },
   {
    "duration": 46,
    "start_time": "2022-04-16T14:31:20.090Z"
   },
   {
    "duration": 270,
    "start_time": "2022-04-16T14:32:37.452Z"
   },
   {
    "duration": 5,
    "start_time": "2022-04-16T14:33:06.505Z"
   },
   {
    "duration": 27,
    "start_time": "2022-04-16T14:33:06.765Z"
   },
   {
    "duration": 13,
    "start_time": "2022-04-16T14:33:06.988Z"
   },
   {
    "duration": 805,
    "start_time": "2022-04-16T14:33:18.004Z"
   },
   {
    "duration": 9016,
    "start_time": "2022-04-16T14:33:19.133Z"
   },
   {
    "duration": 24,
    "start_time": "2022-04-16T14:33:29.545Z"
   },
   {
    "duration": 19,
    "start_time": "2022-04-16T14:33:30.653Z"
   },
   {
    "duration": 69,
    "start_time": "2022-04-16T14:34:47.751Z"
   },
   {
    "duration": 9,
    "start_time": "2022-04-16T14:34:52.023Z"
   },
   {
    "duration": 9,
    "start_time": "2022-04-16T14:36:23.950Z"
   },
   {
    "duration": 9,
    "start_time": "2022-04-16T14:36:26.227Z"
   },
   {
    "duration": 6,
    "start_time": "2022-04-16T14:36:41.676Z"
   },
   {
    "duration": 8,
    "start_time": "2022-04-16T14:37:35.231Z"
   },
   {
    "duration": 7,
    "start_time": "2022-04-16T14:37:35.782Z"
   },
   {
    "duration": 9,
    "start_time": "2022-04-16T14:38:24.719Z"
   },
   {
    "duration": 9,
    "start_time": "2022-04-16T14:38:24.989Z"
   },
   {
    "duration": 7,
    "start_time": "2022-04-16T14:38:32.773Z"
   },
   {
    "duration": 20,
    "start_time": "2022-04-16T14:38:46.224Z"
   },
   {
    "duration": 7,
    "start_time": "2022-04-16T14:38:47.465Z"
   },
   {
    "duration": 14,
    "start_time": "2022-04-16T14:39:44.013Z"
   },
   {
    "duration": 7,
    "start_time": "2022-04-16T14:39:44.235Z"
   },
   {
    "duration": 357,
    "start_time": "2022-04-16T14:41:05.079Z"
   },
   {
    "duration": 7,
    "start_time": "2022-04-16T14:45:49.940Z"
   },
   {
    "duration": 11,
    "start_time": "2022-04-16T14:46:27.459Z"
   },
   {
    "duration": 9,
    "start_time": "2022-04-16T15:09:55.424Z"
   },
   {
    "duration": 10,
    "start_time": "2022-04-16T15:11:13.611Z"
   },
   {
    "duration": 9,
    "start_time": "2022-04-16T15:11:49.503Z"
   },
   {
    "duration": 10,
    "start_time": "2022-04-16T15:11:54.536Z"
   },
   {
    "duration": 198,
    "start_time": "2022-04-16T15:13:19.156Z"
   },
   {
    "duration": 251,
    "start_time": "2022-04-16T15:13:29.941Z"
   },
   {
    "duration": 261,
    "start_time": "2022-04-16T15:14:08.170Z"
   },
   {
    "duration": 512,
    "start_time": "2022-04-16T15:14:30.253Z"
   },
   {
    "duration": 9107,
    "start_time": "2022-04-16T15:14:30.767Z"
   },
   {
    "duration": 27,
    "start_time": "2022-04-16T15:14:39.876Z"
   },
   {
    "duration": 13,
    "start_time": "2022-04-16T15:14:39.906Z"
   },
   {
    "duration": 8,
    "start_time": "2022-04-16T15:14:39.921Z"
   },
   {
    "duration": 5,
    "start_time": "2022-04-16T15:14:39.931Z"
   },
   {
    "duration": 8,
    "start_time": "2022-04-16T15:14:39.938Z"
   },
   {
    "duration": 8,
    "start_time": "2022-04-16T15:14:39.948Z"
   },
   {
    "duration": 32,
    "start_time": "2022-04-16T15:14:39.959Z"
   },
   {
    "duration": 10,
    "start_time": "2022-04-16T15:14:39.994Z"
   },
   {
    "duration": 21,
    "start_time": "2022-04-16T15:14:40.024Z"
   },
   {
    "duration": 11,
    "start_time": "2022-04-16T15:14:40.047Z"
   },
   {
    "duration": 384,
    "start_time": "2022-04-16T15:14:40.060Z"
   },
   {
    "duration": 8,
    "start_time": "2022-04-16T15:14:40.446Z"
   },
   {
    "duration": 5,
    "start_time": "2022-04-16T15:14:40.456Z"
   },
   {
    "duration": 5,
    "start_time": "2022-04-16T15:14:40.463Z"
   },
   {
    "duration": 7,
    "start_time": "2022-04-16T15:14:40.470Z"
   },
   {
    "duration": 45,
    "start_time": "2022-04-16T15:14:40.478Z"
   },
   {
    "duration": 10,
    "start_time": "2022-04-16T15:14:40.524Z"
   },
   {
    "duration": 12,
    "start_time": "2022-04-16T15:14:40.536Z"
   },
   {
    "duration": 47,
    "start_time": "2022-04-16T15:14:40.550Z"
   },
   {
    "duration": 50,
    "start_time": "2022-04-16T16:16:15.906Z"
   },
   {
    "duration": 53,
    "start_time": "2022-04-16T16:16:51.416Z"
   },
   {
    "duration": 45,
    "start_time": "2022-04-16T16:20:17.350Z"
   },
   {
    "duration": 51,
    "start_time": "2022-04-16T16:22:49.266Z"
   },
   {
    "duration": 252,
    "start_time": "2022-04-16T16:23:15.656Z"
   },
   {
    "duration": 46,
    "start_time": "2022-04-16T16:23:29.712Z"
   },
   {
    "duration": 29,
    "start_time": "2022-04-16T16:24:21.041Z"
   },
   {
    "duration": 30,
    "start_time": "2022-04-16T16:24:58.069Z"
   },
   {
    "duration": 179,
    "start_time": "2022-04-16T16:25:46.602Z"
   },
   {
    "duration": 28,
    "start_time": "2022-04-16T16:25:51.296Z"
   },
   {
    "duration": 49,
    "start_time": "2022-04-16T16:26:06.866Z"
   },
   {
    "duration": 33,
    "start_time": "2022-04-16T16:26:29.727Z"
   },
   {
    "duration": 34,
    "start_time": "2022-04-16T16:27:16.758Z"
   },
   {
    "duration": 10,
    "start_time": "2022-04-16T16:27:33.676Z"
   },
   {
    "duration": 10,
    "start_time": "2022-04-16T16:27:37.806Z"
   },
   {
    "duration": 11,
    "start_time": "2022-04-16T16:27:40.022Z"
   },
   {
    "duration": 193,
    "start_time": "2022-04-16T16:31:09.963Z"
   },
   {
    "duration": 35,
    "start_time": "2022-04-16T16:31:49.421Z"
   },
   {
    "duration": 36,
    "start_time": "2022-04-16T16:32:06.337Z"
   },
   {
    "duration": 43,
    "start_time": "2022-04-16T16:32:26.320Z"
   },
   {
    "duration": 44,
    "start_time": "2022-04-16T16:32:44.124Z"
   },
   {
    "duration": 191,
    "start_time": "2022-04-16T16:32:54.557Z"
   },
   {
    "duration": 43,
    "start_time": "2022-04-16T16:32:59.047Z"
   },
   {
    "duration": 34,
    "start_time": "2022-04-16T16:33:07.385Z"
   },
   {
    "duration": 36,
    "start_time": "2022-04-16T16:33:12.460Z"
   },
   {
    "duration": 34,
    "start_time": "2022-04-16T16:34:38.001Z"
   },
   {
    "duration": 12,
    "start_time": "2022-04-16T16:34:58.545Z"
   },
   {
    "duration": 10,
    "start_time": "2022-04-16T16:35:02.716Z"
   },
   {
    "duration": 14,
    "start_time": "2022-04-16T16:36:58.814Z"
   },
   {
    "duration": 14,
    "start_time": "2022-04-16T16:40:27.498Z"
   },
   {
    "duration": 17,
    "start_time": "2022-04-16T16:40:36.125Z"
   },
   {
    "duration": 14,
    "start_time": "2022-04-16T16:42:06.821Z"
   },
   {
    "duration": 15,
    "start_time": "2022-04-16T16:42:43.982Z"
   },
   {
    "duration": 203,
    "start_time": "2022-04-16T16:43:29.428Z"
   },
   {
    "duration": 13,
    "start_time": "2022-04-16T16:43:38.999Z"
   },
   {
    "duration": 35,
    "start_time": "2022-04-16T16:44:04.724Z"
   },
   {
    "duration": 35,
    "start_time": "2022-04-16T16:44:28.044Z"
   },
   {
    "duration": 35,
    "start_time": "2022-04-16T16:44:43.623Z"
   },
   {
    "duration": 28,
    "start_time": "2022-04-16T16:45:36.845Z"
   },
   {
    "duration": 32,
    "start_time": "2022-04-16T16:46:35.059Z"
   },
   {
    "duration": 28,
    "start_time": "2022-04-16T16:46:54.395Z"
   },
   {
    "duration": 202,
    "start_time": "2022-04-16T16:48:52.605Z"
   },
   {
    "duration": 28,
    "start_time": "2022-04-16T16:49:04.741Z"
   },
   {
    "duration": 10,
    "start_time": "2022-04-16T16:49:12.082Z"
   },
   {
    "duration": 29,
    "start_time": "2022-04-16T16:49:18.487Z"
   },
   {
    "duration": 194,
    "start_time": "2022-04-16T16:49:54.386Z"
   },
   {
    "duration": 243,
    "start_time": "2022-04-16T16:50:02.819Z"
   },
   {
    "duration": 188,
    "start_time": "2022-04-16T16:50:08.762Z"
   },
   {
    "duration": 31,
    "start_time": "2022-04-16T16:50:14.461Z"
   },
   {
    "duration": 11,
    "start_time": "2022-04-16T16:50:42.431Z"
   },
   {
    "duration": 15,
    "start_time": "2022-04-16T16:51:11.837Z"
   },
   {
    "duration": 14,
    "start_time": "2022-04-16T16:51:16.711Z"
   },
   {
    "duration": 1017,
    "start_time": "2022-04-16T16:54:27.071Z"
   },
   {
    "duration": 6,
    "start_time": "2022-04-16T16:54:30.247Z"
   },
   {
    "duration": 15,
    "start_time": "2022-04-16T16:54:30.256Z"
   },
   {
    "duration": 43,
    "start_time": "2022-04-16T16:54:30.274Z"
   },
   {
    "duration": 9,
    "start_time": "2022-04-16T16:54:30.319Z"
   },
   {
    "duration": 26,
    "start_time": "2022-04-16T16:54:30.329Z"
   },
   {
    "duration": 29,
    "start_time": "2022-04-16T16:54:30.356Z"
   },
   {
    "duration": 14,
    "start_time": "2022-04-16T16:54:30.401Z"
   },
   {
    "duration": 24,
    "start_time": "2022-04-16T16:54:30.417Z"
   },
   {
    "duration": 45,
    "start_time": "2022-04-16T16:54:30.443Z"
   },
   {
    "duration": 8,
    "start_time": "2022-04-16T16:54:30.490Z"
   },
   {
    "duration": 39,
    "start_time": "2022-04-16T16:54:30.500Z"
   },
   {
    "duration": 21,
    "start_time": "2022-04-16T16:54:30.541Z"
   },
   {
    "duration": 419,
    "start_time": "2022-04-16T16:54:30.565Z"
   },
   {
    "duration": 5,
    "start_time": "2022-04-16T16:54:30.985Z"
   },
   {
    "duration": 5,
    "start_time": "2022-04-16T16:54:31.023Z"
   },
   {
    "duration": 18,
    "start_time": "2022-04-16T16:54:31.031Z"
   },
   {
    "duration": 6,
    "start_time": "2022-04-16T16:54:31.051Z"
   },
   {
    "duration": 27,
    "start_time": "2022-04-16T16:54:31.060Z"
   },
   {
    "duration": 22,
    "start_time": "2022-04-16T16:54:31.089Z"
   },
   {
    "duration": 33,
    "start_time": "2022-04-16T16:54:31.113Z"
   },
   {
    "duration": 11,
    "start_time": "2022-04-16T16:54:31.148Z"
   },
   {
    "duration": 4,
    "start_time": "2022-04-16T16:54:49.838Z"
   },
   {
    "duration": 4,
    "start_time": "2022-04-16T16:54:50.504Z"
   },
   {
    "duration": 33,
    "start_time": "2022-04-16T16:54:50.985Z"
   },
   {
    "duration": 8,
    "start_time": "2022-04-16T16:54:51.188Z"
   },
   {
    "duration": 10,
    "start_time": "2022-04-16T16:54:51.651Z"
   },
   {
    "duration": 7,
    "start_time": "2022-04-16T16:54:52.013Z"
   },
   {
    "duration": 298,
    "start_time": "2022-04-16T16:56:00.626Z"
   },
   {
    "duration": 224,
    "start_time": "2022-04-16T16:56:31.492Z"
   },
   {
    "duration": 170,
    "start_time": "2022-04-16T16:56:36.308Z"
   },
   {
    "duration": 250,
    "start_time": "2022-04-16T16:56:51.512Z"
   },
   {
    "duration": 34,
    "start_time": "2022-04-16T16:57:10.965Z"
   },
   {
    "duration": 18,
    "start_time": "2022-04-16T16:57:20.975Z"
   },
   {
    "duration": 14,
    "start_time": "2022-04-16T16:57:29.642Z"
   },
   {
    "duration": 31,
    "start_time": "2022-04-16T16:58:02.898Z"
   },
   {
    "duration": 31,
    "start_time": "2022-04-16T16:58:17.459Z"
   },
   {
    "duration": 28,
    "start_time": "2022-04-16T16:58:26.644Z"
   },
   {
    "duration": 28,
    "start_time": "2022-04-16T16:58:40.821Z"
   },
   {
    "duration": 18,
    "start_time": "2022-04-17T07:24:42.215Z"
   },
   {
    "duration": 195,
    "start_time": "2022-04-17T07:25:20.374Z"
   },
   {
    "duration": 17,
    "start_time": "2022-04-17T07:25:49.564Z"
   },
   {
    "duration": 19,
    "start_time": "2022-04-17T07:25:58.890Z"
   },
   {
    "duration": 226,
    "start_time": "2022-04-17T07:26:30.263Z"
   },
   {
    "duration": 205,
    "start_time": "2022-04-17T07:26:39.086Z"
   },
   {
    "duration": 19,
    "start_time": "2022-04-17T07:27:09.376Z"
   },
   {
    "duration": 24,
    "start_time": "2022-04-17T07:27:40.567Z"
   },
   {
    "duration": 18,
    "start_time": "2022-04-17T07:27:47.639Z"
   },
   {
    "duration": 18,
    "start_time": "2022-04-17T07:27:54.689Z"
   },
   {
    "duration": 21,
    "start_time": "2022-04-17T07:28:01.902Z"
   },
   {
    "duration": 195,
    "start_time": "2022-04-17T07:28:37.133Z"
   },
   {
    "duration": 193,
    "start_time": "2022-04-17T07:28:41.947Z"
   },
   {
    "duration": 19,
    "start_time": "2022-04-17T07:28:59.613Z"
   },
   {
    "duration": 17,
    "start_time": "2022-04-17T07:32:55.617Z"
   },
   {
    "duration": 18,
    "start_time": "2022-04-17T07:44:57.355Z"
   },
   {
    "duration": 202,
    "start_time": "2022-04-17T07:46:50.490Z"
   },
   {
    "duration": 185,
    "start_time": "2022-04-17T07:47:18.290Z"
   },
   {
    "duration": 21,
    "start_time": "2022-04-17T07:47:24.049Z"
   },
   {
    "duration": 28,
    "start_time": "2022-04-17T07:48:29.197Z"
   },
   {
    "duration": 27,
    "start_time": "2022-04-17T07:48:32.743Z"
   },
   {
    "duration": 23,
    "start_time": "2022-04-17T07:48:38.081Z"
   },
   {
    "duration": 26,
    "start_time": "2022-04-17T07:48:47.046Z"
   },
   {
    "duration": 30,
    "start_time": "2022-04-17T07:48:57.399Z"
   },
   {
    "duration": 19,
    "start_time": "2022-04-17T07:49:43.350Z"
   },
   {
    "duration": 567,
    "start_time": "2022-04-17T07:51:12.039Z"
   },
   {
    "duration": 8844,
    "start_time": "2022-04-17T07:51:12.608Z"
   },
   {
    "duration": 31,
    "start_time": "2022-04-17T07:51:21.454Z"
   },
   {
    "duration": 14,
    "start_time": "2022-04-17T07:51:21.487Z"
   },
   {
    "duration": 30,
    "start_time": "2022-04-17T07:51:21.503Z"
   },
   {
    "duration": 12,
    "start_time": "2022-04-17T07:51:21.535Z"
   },
   {
    "duration": 24,
    "start_time": "2022-04-17T07:51:21.549Z"
   },
   {
    "duration": 21,
    "start_time": "2022-04-17T07:51:21.575Z"
   },
   {
    "duration": 35,
    "start_time": "2022-04-17T07:51:21.598Z"
   },
   {
    "duration": 10,
    "start_time": "2022-04-17T07:51:21.637Z"
   },
   {
    "duration": 24,
    "start_time": "2022-04-17T07:51:21.649Z"
   },
   {
    "duration": 8,
    "start_time": "2022-04-17T07:51:21.675Z"
   },
   {
    "duration": 303,
    "start_time": "2022-04-17T07:51:21.685Z"
   },
   {
    "duration": 4,
    "start_time": "2022-04-17T07:51:22.022Z"
   },
   {
    "duration": 8,
    "start_time": "2022-04-17T07:51:22.027Z"
   },
   {
    "duration": 7,
    "start_time": "2022-04-17T07:51:22.036Z"
   },
   {
    "duration": 2,
    "start_time": "2022-04-17T07:51:22.045Z"
   },
   {
    "duration": 13,
    "start_time": "2022-04-17T07:51:22.049Z"
   },
   {
    "duration": 11,
    "start_time": "2022-04-17T07:51:22.064Z"
   },
   {
    "duration": 52,
    "start_time": "2022-04-17T07:51:22.076Z"
   },
   {
    "duration": 13,
    "start_time": "2022-04-17T07:51:22.129Z"
   },
   {
    "duration": 19,
    "start_time": "2022-04-17T07:51:22.143Z"
   },
   {
    "duration": 17,
    "start_time": "2022-04-17T07:56:53.091Z"
   },
   {
    "duration": 17,
    "start_time": "2022-04-17T07:57:00.444Z"
   },
   {
    "duration": 17,
    "start_time": "2022-04-17T07:59:00.353Z"
   },
   {
    "duration": 20,
    "start_time": "2022-04-17T08:02:51.957Z"
   },
   {
    "duration": 18,
    "start_time": "2022-04-17T08:04:53.061Z"
   },
   {
    "duration": 18,
    "start_time": "2022-04-17T08:05:08.844Z"
   },
   {
    "duration": 14,
    "start_time": "2022-04-17T08:06:55.121Z"
   },
   {
    "duration": 13,
    "start_time": "2022-04-17T08:07:42.019Z"
   },
   {
    "duration": 10,
    "start_time": "2022-04-17T08:14:02.863Z"
   },
   {
    "duration": 14,
    "start_time": "2022-04-17T08:15:11.094Z"
   },
   {
    "duration": 15,
    "start_time": "2022-04-17T08:18:02.179Z"
   },
   {
    "duration": 636,
    "start_time": "2022-04-17T12:06:21.880Z"
   },
   {
    "duration": 6600,
    "start_time": "2022-04-17T12:06:22.518Z"
   },
   {
    "duration": 255,
    "start_time": "2022-04-17T12:06:29.120Z"
   },
   {
    "duration": 12,
    "start_time": "2022-04-17T12:06:29.377Z"
   },
   {
    "duration": 65,
    "start_time": "2022-04-17T12:06:29.391Z"
   },
   {
    "duration": 10,
    "start_time": "2022-04-17T12:06:29.465Z"
   },
   {
    "duration": 66,
    "start_time": "2022-04-17T12:06:29.477Z"
   },
   {
    "duration": 7,
    "start_time": "2022-04-17T12:06:29.545Z"
   },
   {
    "duration": 121,
    "start_time": "2022-04-17T12:06:29.553Z"
   },
   {
    "duration": 8,
    "start_time": "2022-04-17T12:06:29.676Z"
   },
   {
    "duration": 92,
    "start_time": "2022-04-17T12:06:29.685Z"
   },
   {
    "duration": 8,
    "start_time": "2022-04-17T12:06:29.778Z"
   },
   {
    "duration": 299,
    "start_time": "2022-04-17T12:06:29.788Z"
   },
   {
    "duration": 4,
    "start_time": "2022-04-17T12:06:30.089Z"
   },
   {
    "duration": 11,
    "start_time": "2022-04-17T12:06:30.094Z"
   },
   {
    "duration": 14,
    "start_time": "2022-04-17T12:06:30.107Z"
   },
   {
    "duration": 6,
    "start_time": "2022-04-17T12:06:30.123Z"
   },
   {
    "duration": 11,
    "start_time": "2022-04-17T12:06:30.157Z"
   },
   {
    "duration": 76,
    "start_time": "2022-04-17T12:06:30.170Z"
   },
   {
    "duration": 88,
    "start_time": "2022-04-17T12:06:30.248Z"
   },
   {
    "duration": 71,
    "start_time": "2022-04-17T12:06:30.338Z"
   },
   {
    "duration": 76,
    "start_time": "2022-04-17T12:06:30.411Z"
   },
   {
    "duration": 72,
    "start_time": "2022-04-17T12:06:30.489Z"
   },
   {
    "duration": 71,
    "start_time": "2022-04-17T12:06:30.563Z"
   },
   {
    "duration": 9,
    "start_time": "2022-04-17T12:06:30.636Z"
   },
   {
    "duration": 437,
    "start_time": "2022-04-17T12:28:47.497Z"
   },
   {
    "duration": 136,
    "start_time": "2022-04-17T12:28:57.489Z"
   },
   {
    "duration": 87,
    "start_time": "2022-04-17T12:32:30.847Z"
   },
   {
    "duration": 70,
    "start_time": "2022-04-17T13:00:51.225Z"
   },
   {
    "duration": 202,
    "start_time": "2022-04-17T13:07:52.779Z"
   },
   {
    "duration": 73,
    "start_time": "2022-04-17T13:08:00.247Z"
   },
   {
    "duration": 192,
    "start_time": "2022-04-17T13:09:07.386Z"
   },
   {
    "duration": 72,
    "start_time": "2022-04-17T13:09:14.801Z"
   },
   {
    "duration": 185,
    "start_time": "2022-04-17T13:13:07.144Z"
   },
   {
    "duration": 71,
    "start_time": "2022-04-17T13:13:20.389Z"
   },
   {
    "duration": 205,
    "start_time": "2022-04-17T13:13:36.613Z"
   },
   {
    "duration": 69,
    "start_time": "2022-04-17T13:13:41.054Z"
   },
   {
    "duration": 219,
    "start_time": "2022-04-17T13:22:03.691Z"
   },
   {
    "duration": 71,
    "start_time": "2022-04-17T13:22:15.773Z"
   },
   {
    "duration": 204,
    "start_time": "2022-04-17T13:22:54.841Z"
   },
   {
    "duration": 70,
    "start_time": "2022-04-17T13:23:06.708Z"
   },
   {
    "duration": 67,
    "start_time": "2022-04-17T13:45:05.098Z"
   },
   {
    "duration": 72,
    "start_time": "2022-04-17T13:45:44.832Z"
   },
   {
    "duration": 70,
    "start_time": "2022-04-17T13:46:15.924Z"
   },
   {
    "duration": 210,
    "start_time": "2022-04-17T14:08:06.183Z"
   },
   {
    "duration": 15,
    "start_time": "2022-04-17T14:09:46.180Z"
   },
   {
    "duration": 8,
    "start_time": "2022-04-17T14:11:15.218Z"
   },
   {
    "duration": 10,
    "start_time": "2022-04-17T14:11:20.808Z"
   },
   {
    "duration": 7,
    "start_time": "2022-04-17T14:11:41.668Z"
   },
   {
    "duration": 4,
    "start_time": "2022-04-17T14:11:50.487Z"
   },
   {
    "duration": 7,
    "start_time": "2022-04-17T14:12:00.101Z"
   },
   {
    "duration": 4,
    "start_time": "2022-04-17T14:12:12.507Z"
   },
   {
    "duration": 9,
    "start_time": "2022-04-17T14:13:01.615Z"
   },
   {
    "duration": 98,
    "start_time": "2022-04-17T14:13:37.425Z"
   },
   {
    "duration": 105,
    "start_time": "2022-04-17T14:13:43.900Z"
   },
   {
    "duration": 108,
    "start_time": "2022-04-17T14:13:51.154Z"
   },
   {
    "duration": 44,
    "start_time": "2022-04-17T14:14:01.230Z"
   },
   {
    "duration": 65,
    "start_time": "2022-04-17T14:14:45.500Z"
   },
   {
    "duration": 515,
    "start_time": "2022-04-17T14:14:56.623Z"
   },
   {
    "duration": 50,
    "start_time": "2022-04-17T14:16:03.937Z"
   },
   {
    "duration": 45,
    "start_time": "2022-04-17T14:17:01.532Z"
   },
   {
    "duration": 35,
    "start_time": "2022-04-17T14:17:12.764Z"
   },
   {
    "duration": 30,
    "start_time": "2022-04-17T14:17:27.276Z"
   },
   {
    "duration": 92,
    "start_time": "2022-04-17T14:18:36.890Z"
   },
   {
    "duration": 1010,
    "start_time": "2022-04-17T14:18:51.206Z"
   },
   {
    "duration": 53,
    "start_time": "2022-04-17T14:18:58.984Z"
   },
   {
    "duration": 19,
    "start_time": "2022-04-17T14:19:36.479Z"
   },
   {
    "duration": 639,
    "start_time": "2022-04-17T14:41:05.035Z"
   },
   {
    "duration": 6335,
    "start_time": "2022-04-17T14:41:05.676Z"
   },
   {
    "duration": 247,
    "start_time": "2022-04-17T14:41:12.013Z"
   },
   {
    "duration": 10,
    "start_time": "2022-04-17T14:41:12.262Z"
   },
   {
    "duration": 65,
    "start_time": "2022-04-17T14:41:12.275Z"
   },
   {
    "duration": 6,
    "start_time": "2022-04-17T14:41:12.342Z"
   },
   {
    "duration": 68,
    "start_time": "2022-04-17T14:41:12.350Z"
   },
   {
    "duration": 6,
    "start_time": "2022-04-17T14:41:12.420Z"
   },
   {
    "duration": 89,
    "start_time": "2022-04-17T14:41:12.427Z"
   },
   {
    "duration": 7,
    "start_time": "2022-04-17T14:41:12.518Z"
   },
   {
    "duration": 79,
    "start_time": "2022-04-17T14:41:12.527Z"
   },
   {
    "duration": 7,
    "start_time": "2022-04-17T14:41:12.608Z"
   },
   {
    "duration": 249,
    "start_time": "2022-04-17T14:41:12.616Z"
   },
   {
    "duration": 4,
    "start_time": "2022-04-17T14:41:12.867Z"
   },
   {
    "duration": 8,
    "start_time": "2022-04-17T14:41:12.873Z"
   },
   {
    "duration": 8,
    "start_time": "2022-04-17T14:41:12.883Z"
   },
   {
    "duration": 4,
    "start_time": "2022-04-17T14:41:12.892Z"
   },
   {
    "duration": 71,
    "start_time": "2022-04-17T14:41:12.897Z"
   },
   {
    "duration": 82,
    "start_time": "2022-04-17T14:41:12.970Z"
   },
   {
    "duration": 69,
    "start_time": "2022-04-17T14:41:13.053Z"
   },
   {
    "duration": 73,
    "start_time": "2022-04-17T14:41:13.123Z"
   },
   {
    "duration": 77,
    "start_time": "2022-04-17T14:41:13.198Z"
   },
   {
    "duration": 563,
    "start_time": "2022-04-17T14:44:31.161Z"
   },
   {
    "duration": 6567,
    "start_time": "2022-04-17T14:44:31.725Z"
   },
   {
    "duration": 228,
    "start_time": "2022-04-17T14:44:38.293Z"
   },
   {
    "duration": 10,
    "start_time": "2022-04-17T14:44:38.523Z"
   },
   {
    "duration": 68,
    "start_time": "2022-04-17T14:44:38.535Z"
   },
   {
    "duration": 7,
    "start_time": "2022-04-17T14:44:38.605Z"
   },
   {
    "duration": 76,
    "start_time": "2022-04-17T14:44:38.614Z"
   },
   {
    "duration": 6,
    "start_time": "2022-04-17T14:44:38.692Z"
   },
   {
    "duration": 95,
    "start_time": "2022-04-17T14:44:38.699Z"
   },
   {
    "duration": 7,
    "start_time": "2022-04-17T14:44:38.797Z"
   },
   {
    "duration": 79,
    "start_time": "2022-04-17T14:44:38.805Z"
   },
   {
    "duration": 9,
    "start_time": "2022-04-17T14:44:38.885Z"
   },
   {
    "duration": 276,
    "start_time": "2022-04-17T14:44:38.895Z"
   },
   {
    "duration": 3,
    "start_time": "2022-04-17T14:44:39.173Z"
   },
   {
    "duration": 15,
    "start_time": "2022-04-17T14:44:39.178Z"
   },
   {
    "duration": 9,
    "start_time": "2022-04-17T14:44:39.194Z"
   },
   {
    "duration": 2,
    "start_time": "2022-04-17T14:44:39.205Z"
   },
   {
    "duration": 68,
    "start_time": "2022-04-17T14:44:39.209Z"
   },
   {
    "duration": 81,
    "start_time": "2022-04-17T14:44:39.278Z"
   },
   {
    "duration": 69,
    "start_time": "2022-04-17T14:44:39.360Z"
   },
   {
    "duration": 72,
    "start_time": "2022-04-17T14:44:39.430Z"
   },
   {
    "duration": 70,
    "start_time": "2022-04-17T14:44:39.503Z"
   },
   {
    "duration": 751,
    "start_time": "2022-04-17T19:31:21.408Z"
   },
   {
    "duration": 4735,
    "start_time": "2022-04-17T19:31:22.162Z"
   },
   {
    "duration": 212,
    "start_time": "2022-04-17T19:31:26.899Z"
   },
   {
    "duration": 16,
    "start_time": "2022-04-17T19:31:27.116Z"
   },
   {
    "duration": 66,
    "start_time": "2022-04-17T19:31:27.134Z"
   },
   {
    "duration": 10,
    "start_time": "2022-04-17T19:31:27.202Z"
   },
   {
    "duration": 69,
    "start_time": "2022-04-17T19:31:27.214Z"
   },
   {
    "duration": 9,
    "start_time": "2022-04-17T19:31:27.286Z"
   },
   {
    "duration": 91,
    "start_time": "2022-04-17T19:31:27.297Z"
   },
   {
    "duration": 11,
    "start_time": "2022-04-17T19:31:27.391Z"
   },
   {
    "duration": 82,
    "start_time": "2022-04-17T19:31:27.404Z"
   },
   {
    "duration": 12,
    "start_time": "2022-04-17T19:31:27.489Z"
   },
   {
    "duration": 511,
    "start_time": "2022-04-17T19:31:27.504Z"
   },
   {
    "duration": 6,
    "start_time": "2022-04-17T19:31:28.053Z"
   },
   {
    "duration": 18,
    "start_time": "2022-04-17T19:31:28.062Z"
   },
   {
    "duration": 13,
    "start_time": "2022-04-17T19:31:28.083Z"
   },
   {
    "duration": 15,
    "start_time": "2022-04-17T19:31:28.099Z"
   },
   {
    "duration": 71,
    "start_time": "2022-04-17T19:31:28.117Z"
   },
   {
    "duration": 81,
    "start_time": "2022-04-17T19:31:28.191Z"
   },
   {
    "duration": 68,
    "start_time": "2022-04-17T19:31:28.275Z"
   },
   {
    "duration": 76,
    "start_time": "2022-04-17T19:31:28.346Z"
   },
   {
    "duration": 70,
    "start_time": "2022-04-17T19:31:28.425Z"
   },
   {
    "duration": 112,
    "start_time": "2022-04-17T19:33:05.686Z"
   },
   {
    "duration": 104,
    "start_time": "2022-04-17T19:33:13.735Z"
   },
   {
    "duration": 79,
    "start_time": "2022-04-17T19:33:40.712Z"
   },
   {
    "duration": 69,
    "start_time": "2022-04-17T19:33:59.938Z"
   },
   {
    "duration": 74,
    "start_time": "2022-04-17T19:34:06.159Z"
   },
   {
    "duration": 783,
    "start_time": "2022-04-18T09:02:33.648Z"
   },
   {
    "duration": 7034,
    "start_time": "2022-04-18T09:02:34.434Z"
   },
   {
    "duration": 227,
    "start_time": "2022-04-18T09:02:41.470Z"
   },
   {
    "duration": 16,
    "start_time": "2022-04-18T09:02:41.700Z"
   },
   {
    "duration": 61,
    "start_time": "2022-04-18T09:02:41.718Z"
   },
   {
    "duration": 9,
    "start_time": "2022-04-18T09:02:41.781Z"
   },
   {
    "duration": 67,
    "start_time": "2022-04-18T09:02:41.792Z"
   },
   {
    "duration": 10,
    "start_time": "2022-04-18T09:02:41.861Z"
   },
   {
    "duration": 93,
    "start_time": "2022-04-18T09:02:41.874Z"
   },
   {
    "duration": 10,
    "start_time": "2022-04-18T09:02:41.971Z"
   },
   {
    "duration": 80,
    "start_time": "2022-04-18T09:02:41.984Z"
   },
   {
    "duration": 13,
    "start_time": "2022-04-18T09:02:42.066Z"
   },
   {
    "duration": 545,
    "start_time": "2022-04-18T09:02:42.082Z"
   },
   {
    "duration": 6,
    "start_time": "2022-04-18T09:02:42.629Z"
   },
   {
    "duration": 14,
    "start_time": "2022-04-18T09:02:42.637Z"
   },
   {
    "duration": 12,
    "start_time": "2022-04-18T09:02:42.653Z"
   },
   {
    "duration": 6,
    "start_time": "2022-04-18T09:02:42.667Z"
   },
   {
    "duration": 101,
    "start_time": "2022-04-18T09:02:42.676Z"
   },
   {
    "duration": 84,
    "start_time": "2022-04-18T09:02:42.780Z"
   },
   {
    "duration": 65,
    "start_time": "2022-04-18T09:02:42.866Z"
   },
   {
    "duration": 70,
    "start_time": "2022-04-18T09:02:42.933Z"
   },
   {
    "duration": 68,
    "start_time": "2022-04-18T09:02:43.005Z"
   },
   {
    "duration": 101,
    "start_time": "2022-04-18T09:03:05.414Z"
   },
   {
    "duration": 102,
    "start_time": "2022-04-18T12:59:09.953Z"
   },
   {
    "duration": 97,
    "start_time": "2022-04-18T12:59:30.571Z"
   },
   {
    "duration": 21,
    "start_time": "2022-04-18T12:59:42.447Z"
   },
   {
    "duration": 100,
    "start_time": "2022-04-18T13:04:31.940Z"
   },
   {
    "duration": 16,
    "start_time": "2022-04-18T13:05:31.228Z"
   },
   {
    "duration": 21,
    "start_time": "2022-04-18T13:05:40.429Z"
   },
   {
    "duration": 101,
    "start_time": "2022-04-18T13:49:57.379Z"
   },
   {
    "duration": 113,
    "start_time": "2022-04-18T13:54:16.397Z"
   },
   {
    "duration": 107,
    "start_time": "2022-04-18T13:55:16.320Z"
   },
   {
    "duration": 430,
    "start_time": "2022-04-18T13:56:01.385Z"
   },
   {
    "duration": 107,
    "start_time": "2022-04-18T13:56:48.871Z"
   },
   {
    "duration": 105,
    "start_time": "2022-04-18T13:57:00.238Z"
   },
   {
    "duration": 79,
    "start_time": "2022-04-18T14:00:27.442Z"
   },
   {
    "duration": 215,
    "start_time": "2022-04-18T14:05:28.452Z"
   },
   {
    "duration": 221,
    "start_time": "2022-04-18T14:05:36.369Z"
   },
   {
    "duration": 18,
    "start_time": "2022-04-18T14:05:46.798Z"
   },
   {
    "duration": 18,
    "start_time": "2022-04-18T14:06:27.437Z"
   },
   {
    "duration": 71,
    "start_time": "2022-04-18T14:06:44.143Z"
   },
   {
    "duration": 96,
    "start_time": "2022-04-18T14:06:52.615Z"
   },
   {
    "duration": 73,
    "start_time": "2022-04-18T14:08:51.291Z"
   },
   {
    "duration": 81,
    "start_time": "2022-04-18T14:09:31.217Z"
   },
   {
    "duration": 83,
    "start_time": "2022-04-18T14:10:24.046Z"
   },
   {
    "duration": 77,
    "start_time": "2022-04-18T14:13:15.700Z"
   },
   {
    "duration": 82,
    "start_time": "2022-04-18T14:14:40.479Z"
   },
   {
    "duration": 234,
    "start_time": "2022-04-18T14:16:16.673Z"
   },
   {
    "duration": 86,
    "start_time": "2022-04-18T14:16:31.481Z"
   },
   {
    "duration": 16,
    "start_time": "2022-04-18T14:22:43.541Z"
   },
   {
    "duration": 11,
    "start_time": "2022-04-18T14:24:14.561Z"
   },
   {
    "duration": 14,
    "start_time": "2022-04-18T14:24:32.629Z"
   },
   {
    "duration": 105,
    "start_time": "2022-04-18T14:25:30.418Z"
   },
   {
    "duration": 131,
    "start_time": "2022-04-18T14:25:48.319Z"
   },
   {
    "duration": 129,
    "start_time": "2022-04-18T14:25:52.891Z"
   },
   {
    "duration": 119,
    "start_time": "2022-04-18T14:26:40.032Z"
   },
   {
    "duration": 118,
    "start_time": "2022-04-18T14:27:19.089Z"
   },
   {
    "duration": 120,
    "start_time": "2022-04-18T14:27:22.844Z"
   },
   {
    "duration": 125,
    "start_time": "2022-04-18T14:27:39.536Z"
   },
   {
    "duration": 105,
    "start_time": "2022-04-18T14:27:46.449Z"
   },
   {
    "duration": 117,
    "start_time": "2022-04-18T14:28:13.477Z"
   },
   {
    "duration": 120,
    "start_time": "2022-04-18T14:29:03.590Z"
   },
   {
    "duration": 66,
    "start_time": "2022-04-18T14:49:34.956Z"
   },
   {
    "duration": 233,
    "start_time": "2022-04-18T14:52:22.538Z"
   },
   {
    "duration": 247,
    "start_time": "2022-04-18T14:52:30.305Z"
   },
   {
    "duration": 248,
    "start_time": "2022-04-18T14:53:22.964Z"
   },
   {
    "duration": 79,
    "start_time": "2022-04-18T14:53:29.771Z"
   },
   {
    "duration": 76,
    "start_time": "2022-04-18T14:53:32.412Z"
   },
   {
    "duration": 68,
    "start_time": "2022-04-18T14:55:04.818Z"
   },
   {
    "duration": 21,
    "start_time": "2022-04-18T14:55:15.631Z"
   },
   {
    "duration": 245,
    "start_time": "2022-04-18T14:56:51.030Z"
   },
   {
    "duration": 211,
    "start_time": "2022-04-18T14:57:43.328Z"
   },
   {
    "duration": 73,
    "start_time": "2022-04-18T14:58:02.448Z"
   },
   {
    "duration": 13,
    "start_time": "2022-04-18T22:41:06.795Z"
   },
   {
    "duration": 22,
    "start_time": "2022-04-18T22:41:10.131Z"
   },
   {
    "duration": 15,
    "start_time": "2022-04-18T22:41:18.895Z"
   },
   {
    "duration": 16,
    "start_time": "2022-04-18T22:41:58.499Z"
   },
   {
    "duration": 97,
    "start_time": "2022-04-18T22:44:06.708Z"
   },
   {
    "duration": 113,
    "start_time": "2022-04-18T22:45:28.404Z"
   },
   {
    "duration": 103,
    "start_time": "2022-04-18T22:49:59.516Z"
   },
   {
    "duration": 104,
    "start_time": "2022-04-18T22:52:28.732Z"
   },
   {
    "duration": 102,
    "start_time": "2022-04-18T22:52:36.820Z"
   },
   {
    "duration": 103,
    "start_time": "2022-04-18T23:06:55.150Z"
   },
   {
    "duration": 109,
    "start_time": "2022-04-18T23:07:07.782Z"
   },
   {
    "duration": 831,
    "start_time": "2022-04-18T23:07:48.837Z"
   },
   {
    "duration": 112,
    "start_time": "2022-04-18T23:07:53.181Z"
   },
   {
    "duration": 222,
    "start_time": "2022-04-18T23:08:22.222Z"
   },
   {
    "duration": 105,
    "start_time": "2022-04-18T23:08:26.710Z"
   },
   {
    "duration": 113,
    "start_time": "2022-04-18T23:08:52.405Z"
   },
   {
    "duration": 4,
    "start_time": "2022-04-18T23:09:08.533Z"
   },
   {
    "duration": 106,
    "start_time": "2022-04-18T23:09:50.565Z"
   },
   {
    "duration": 96,
    "start_time": "2022-04-18T23:10:27.180Z"
   },
   {
    "duration": 95,
    "start_time": "2022-04-18T23:10:55.229Z"
   },
   {
    "duration": 126,
    "start_time": "2022-04-18T23:22:58.324Z"
   },
   {
    "duration": 64,
    "start_time": "2022-04-18T23:23:02.957Z"
   },
   {
    "duration": 61,
    "start_time": "2022-04-18T23:31:52.887Z"
   },
   {
    "duration": 104,
    "start_time": "2022-04-18T23:32:42.212Z"
   },
   {
    "duration": 91,
    "start_time": "2022-04-18T23:32:44.812Z"
   },
   {
    "duration": 67,
    "start_time": "2022-04-18T23:33:42.278Z"
   },
   {
    "duration": 74,
    "start_time": "2022-04-18T23:34:25.894Z"
   },
   {
    "duration": 68,
    "start_time": "2022-04-18T23:35:10.910Z"
   },
   {
    "duration": 206,
    "start_time": "2022-04-18T23:38:44.814Z"
   },
   {
    "duration": 75,
    "start_time": "2022-04-18T23:38:54.422Z"
   },
   {
    "duration": 216,
    "start_time": "2022-04-18T23:43:12.910Z"
   },
   {
    "duration": 78,
    "start_time": "2022-04-18T23:43:32.462Z"
   },
   {
    "duration": 210,
    "start_time": "2022-04-18T23:44:22.966Z"
   },
   {
    "duration": 77,
    "start_time": "2022-04-18T23:44:30.719Z"
   },
   {
    "duration": 76,
    "start_time": "2022-04-18T23:44:53.791Z"
   },
   {
    "duration": 75,
    "start_time": "2022-04-18T23:44:59.958Z"
   },
   {
    "duration": 69,
    "start_time": "2022-04-18T23:48:23.853Z"
   },
   {
    "duration": 789,
    "start_time": "2022-04-18T23:48:51.687Z"
   },
   {
    "duration": 6530,
    "start_time": "2022-04-18T23:48:52.480Z"
   },
   {
    "duration": 217,
    "start_time": "2022-04-18T23:48:59.012Z"
   },
   {
    "duration": 15,
    "start_time": "2022-04-18T23:48:59.232Z"
   },
   {
    "duration": 63,
    "start_time": "2022-04-18T23:48:59.249Z"
   },
   {
    "duration": 10,
    "start_time": "2022-04-18T23:48:59.314Z"
   },
   {
    "duration": 62,
    "start_time": "2022-04-18T23:48:59.326Z"
   },
   {
    "duration": 10,
    "start_time": "2022-04-18T23:48:59.390Z"
   },
   {
    "duration": 86,
    "start_time": "2022-04-18T23:48:59.402Z"
   },
   {
    "duration": 10,
    "start_time": "2022-04-18T23:48:59.492Z"
   },
   {
    "duration": 77,
    "start_time": "2022-04-18T23:48:59.504Z"
   },
   {
    "duration": 11,
    "start_time": "2022-04-18T23:48:59.583Z"
   },
   {
    "duration": 450,
    "start_time": "2022-04-18T23:48:59.596Z"
   },
   {
    "duration": 6,
    "start_time": "2022-04-18T23:49:00.048Z"
   },
   {
    "duration": 18,
    "start_time": "2022-04-18T23:49:00.056Z"
   },
   {
    "duration": 15,
    "start_time": "2022-04-18T23:49:00.076Z"
   },
   {
    "duration": 33,
    "start_time": "2022-04-18T23:49:00.094Z"
   },
   {
    "duration": 73,
    "start_time": "2022-04-18T23:49:00.130Z"
   },
   {
    "duration": 90,
    "start_time": "2022-04-18T23:49:00.205Z"
   },
   {
    "duration": 75,
    "start_time": "2022-04-18T23:49:00.298Z"
   },
   {
    "duration": 67,
    "start_time": "2022-04-18T23:49:00.375Z"
   },
   {
    "duration": 76,
    "start_time": "2022-04-18T23:49:00.444Z"
   },
   {
    "duration": 69,
    "start_time": "2022-04-18T23:49:00.522Z"
   },
   {
    "duration": 17,
    "start_time": "2022-04-18T23:49:34.254Z"
   },
   {
    "duration": 546,
    "start_time": "2022-04-19T09:42:19.916Z"
   },
   {
    "duration": 10344,
    "start_time": "2022-04-19T09:42:20.465Z"
   },
   {
    "duration": 197,
    "start_time": "2022-04-19T09:42:30.811Z"
   },
   {
    "duration": 10,
    "start_time": "2022-04-19T09:42:31.011Z"
   },
   {
    "duration": 61,
    "start_time": "2022-04-19T09:42:31.023Z"
   },
   {
    "duration": 6,
    "start_time": "2022-04-19T09:42:31.086Z"
   },
   {
    "duration": 78,
    "start_time": "2022-04-19T09:42:31.094Z"
   },
   {
    "duration": 7,
    "start_time": "2022-04-19T09:42:31.173Z"
   },
   {
    "duration": 98,
    "start_time": "2022-04-19T09:42:31.181Z"
   },
   {
    "duration": 7,
    "start_time": "2022-04-19T09:42:31.283Z"
   },
   {
    "duration": 65,
    "start_time": "2022-04-19T09:42:31.292Z"
   },
   {
    "duration": 8,
    "start_time": "2022-04-19T09:42:31.358Z"
   },
   {
    "duration": 301,
    "start_time": "2022-04-19T09:42:31.368Z"
   },
   {
    "duration": 38,
    "start_time": "2022-04-19T09:42:31.670Z"
   },
   {
    "duration": 21,
    "start_time": "2022-04-19T09:42:31.710Z"
   },
   {
    "duration": 20,
    "start_time": "2022-04-19T09:42:31.732Z"
   },
   {
    "duration": 15,
    "start_time": "2022-04-19T09:42:31.754Z"
   },
   {
    "duration": 59,
    "start_time": "2022-04-19T09:42:31.770Z"
   },
   {
    "duration": 70,
    "start_time": "2022-04-19T09:42:31.830Z"
   },
   {
    "duration": 62,
    "start_time": "2022-04-19T09:42:31.901Z"
   },
   {
    "duration": 56,
    "start_time": "2022-04-19T09:42:31.964Z"
   },
   {
    "duration": 61,
    "start_time": "2022-04-19T09:42:32.021Z"
   },
   {
    "duration": 57,
    "start_time": "2022-04-19T09:42:32.084Z"
   },
   {
    "duration": 42,
    "start_time": "2022-04-19T10:35:24.307Z"
   },
   {
    "duration": 508,
    "start_time": "2022-04-19T10:35:33.874Z"
   },
   {
    "duration": 5575,
    "start_time": "2022-04-19T10:35:34.384Z"
   },
   {
    "duration": 266,
    "start_time": "2022-04-19T10:35:39.960Z"
   },
   {
    "duration": 9,
    "start_time": "2022-04-19T10:35:40.229Z"
   },
   {
    "duration": 73,
    "start_time": "2022-04-19T10:35:40.239Z"
   },
   {
    "duration": 6,
    "start_time": "2022-04-19T10:35:40.313Z"
   },
   {
    "duration": 73,
    "start_time": "2022-04-19T10:35:40.321Z"
   },
   {
    "duration": 6,
    "start_time": "2022-04-19T10:35:40.396Z"
   },
   {
    "duration": 94,
    "start_time": "2022-04-19T10:35:40.403Z"
   },
   {
    "duration": 7,
    "start_time": "2022-04-19T10:35:40.499Z"
   },
   {
    "duration": 88,
    "start_time": "2022-04-19T10:35:40.507Z"
   },
   {
    "duration": 7,
    "start_time": "2022-04-19T10:35:40.597Z"
   },
   {
    "duration": 256,
    "start_time": "2022-04-19T10:35:40.606Z"
   },
   {
    "duration": 3,
    "start_time": "2022-04-19T10:35:40.864Z"
   },
   {
    "duration": 7,
    "start_time": "2022-04-19T10:35:40.869Z"
   },
   {
    "duration": 10,
    "start_time": "2022-04-19T10:35:40.877Z"
   },
   {
    "duration": 3,
    "start_time": "2022-04-19T10:35:40.889Z"
   },
   {
    "duration": 75,
    "start_time": "2022-04-19T10:35:40.924Z"
   },
   {
    "duration": 90,
    "start_time": "2022-04-19T10:35:41.001Z"
   },
   {
    "duration": 83,
    "start_time": "2022-04-19T10:35:41.093Z"
   },
   {
    "duration": 76,
    "start_time": "2022-04-19T10:35:41.178Z"
   },
   {
    "duration": 83,
    "start_time": "2022-04-19T10:35:41.255Z"
   },
   {
    "duration": 78,
    "start_time": "2022-04-19T10:35:41.340Z"
   },
   {
    "duration": 11,
    "start_time": "2022-04-19T10:39:33.259Z"
   },
   {
    "duration": 231,
    "start_time": "2022-04-19T12:24:05.441Z"
   },
   {
    "duration": 6,
    "start_time": "2022-04-19T12:29:25.588Z"
   },
   {
    "duration": 6,
    "start_time": "2022-04-19T12:29:28.582Z"
   },
   {
    "duration": 8,
    "start_time": "2022-04-19T12:29:47.021Z"
   },
   {
    "duration": 223,
    "start_time": "2022-04-19T12:30:02.110Z"
   },
   {
    "duration": 203,
    "start_time": "2022-04-19T12:46:21.648Z"
   },
   {
    "duration": 81,
    "start_time": "2022-04-19T12:46:28.396Z"
   },
   {
    "duration": 13,
    "start_time": "2022-04-19T12:47:30.356Z"
   },
   {
    "duration": 86,
    "start_time": "2022-04-19T12:48:53.400Z"
   },
   {
    "duration": 10,
    "start_time": "2022-04-19T13:03:09.325Z"
   },
   {
    "duration": 79,
    "start_time": "2022-04-19T13:24:24.063Z"
   },
   {
    "duration": 181,
    "start_time": "2022-04-19T13:36:51.246Z"
   },
   {
    "duration": 86,
    "start_time": "2022-04-19T13:37:13.602Z"
   },
   {
    "duration": 174,
    "start_time": "2022-04-19T13:37:26.856Z"
   },
   {
    "duration": 83,
    "start_time": "2022-04-19T13:38:53.780Z"
   },
   {
    "duration": 145,
    "start_time": "2022-04-19T13:40:13.182Z"
   },
   {
    "duration": 79,
    "start_time": "2022-04-19T13:40:22.576Z"
   },
   {
    "duration": 83,
    "start_time": "2022-04-19T13:41:30.806Z"
   },
   {
    "duration": 85,
    "start_time": "2022-04-19T13:41:42.285Z"
   },
   {
    "duration": 82,
    "start_time": "2022-04-19T13:41:48.308Z"
   },
   {
    "duration": 4,
    "start_time": "2022-04-19T13:49:16.822Z"
   },
   {
    "duration": 78,
    "start_time": "2022-04-19T13:49:40.806Z"
   },
   {
    "duration": 79,
    "start_time": "2022-04-19T13:49:54.862Z"
   },
   {
    "duration": 599,
    "start_time": "2022-04-19T13:54:01.728Z"
   },
   {
    "duration": 5583,
    "start_time": "2022-04-19T13:54:02.329Z"
   },
   {
    "duration": 223,
    "start_time": "2022-04-19T13:54:07.914Z"
   },
   {
    "duration": 11,
    "start_time": "2022-04-19T13:54:08.139Z"
   },
   {
    "duration": 63,
    "start_time": "2022-04-19T13:54:08.151Z"
   },
   {
    "duration": 6,
    "start_time": "2022-04-19T13:54:08.215Z"
   },
   {
    "duration": 62,
    "start_time": "2022-04-19T13:54:08.223Z"
   },
   {
    "duration": 6,
    "start_time": "2022-04-19T13:54:08.286Z"
   },
   {
    "duration": 82,
    "start_time": "2022-04-19T13:54:08.293Z"
   },
   {
    "duration": 6,
    "start_time": "2022-04-19T13:54:08.378Z"
   },
   {
    "duration": 78,
    "start_time": "2022-04-19T13:54:08.385Z"
   },
   {
    "duration": 6,
    "start_time": "2022-04-19T13:54:08.465Z"
   },
   {
    "duration": 258,
    "start_time": "2022-04-19T13:54:08.473Z"
   },
   {
    "duration": 4,
    "start_time": "2022-04-19T13:54:08.732Z"
   },
   {
    "duration": 26,
    "start_time": "2022-04-19T13:54:08.737Z"
   },
   {
    "duration": 16,
    "start_time": "2022-04-19T13:54:08.765Z"
   },
   {
    "duration": 24,
    "start_time": "2022-04-19T13:54:08.782Z"
   },
   {
    "duration": 85,
    "start_time": "2022-04-19T13:54:08.808Z"
   },
   {
    "duration": 81,
    "start_time": "2022-04-19T13:54:08.894Z"
   },
   {
    "duration": 73,
    "start_time": "2022-04-19T13:54:08.976Z"
   },
   {
    "duration": 65,
    "start_time": "2022-04-19T13:54:09.051Z"
   },
   {
    "duration": 71,
    "start_time": "2022-04-19T13:54:09.117Z"
   },
   {
    "duration": 69,
    "start_time": "2022-04-19T13:54:09.190Z"
   }
  ],
  "kernelspec": {
   "display_name": "Python 3 (ipykernel)",
   "language": "python",
   "name": "python3"
  },
  "language_info": {
   "codemirror_mode": {
    "name": "ipython",
    "version": 3
   },
   "file_extension": ".py",
   "mimetype": "text/x-python",
   "name": "python",
   "nbconvert_exporter": "python",
   "pygments_lexer": "ipython3",
   "version": "3.10.4"
  },
  "toc": {
   "base_numbering": 1,
   "nav_menu": {},
   "number_sections": false,
   "sideBar": true,
   "skip_h1_title": false,
   "title_cell": "Table of Contents",
   "title_sidebar": "Contents",
   "toc_cell": false,
   "toc_position": {
    "height": "calc(100% - 180px)",
    "left": "10px",
    "top": "150px",
    "width": "430.597px"
   },
   "toc_section_display": true,
   "toc_window_display": true
  }
 },
 "nbformat": 4,
 "nbformat_minor": 4
}
