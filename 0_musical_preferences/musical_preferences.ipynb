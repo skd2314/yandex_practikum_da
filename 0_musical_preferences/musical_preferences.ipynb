{
 "cells": [
  {
   "cell_type": "markdown",
   "metadata": {
    "colab_type": "text",
    "deletable": false,
    "editable": false,
    "id": "5UYxO1GdF6Wy",
    "tags": [
     "f6c88c58-a82b-4f28-8bd6-fd55c0017917"
    ]
   },
   "source": [
    "# Этап 1. Получение данных"
   ]
  },
  {
   "cell_type": "markdown",
   "metadata": {
    "colab_type": "text",
    "deletable": false,
    "id": "iI4ITclJaFWh"
   },
   "source": [
    "Изучим данные, предоставленные сервисом для проекта."
   ]
  },
  {
   "cell_type": "markdown",
   "metadata": {
    "colab_type": "text",
    "deletable": false,
    "id": "0skiEFxDZ0Tr"
   },
   "source": [
    "## Импорт библиотек"
   ]
  },
  {
   "cell_type": "code",
   "execution_count": 1,
   "metadata": {
    "colab": {},
    "colab_type": "code",
    "deletable": false,
    "id": "HirRov5vZ3MT"
   },
   "outputs": [],
   "source": [
    "import pandas as pd"
   ]
  },
  {
   "cell_type": "markdown",
   "metadata": {
    "colab_type": "text",
    "deletable": false,
    "id": "Tr8dl3PWGFIk"
   },
   "source": [
    "Прочитаем файл *music_project.csv* и сохраним его в переменной *df*. "
   ]
  },
  {
   "cell_type": "code",
   "execution_count": 2,
   "metadata": {
    "colab": {},
    "colab_type": "code",
    "deletable": false,
    "id": "NB6j931yS4hy"
   },
   "outputs": [],
   "source": [
    "df = pd.read_csv('/datasets/music_project.csv')"
   ]
  },
  {
   "cell_type": "markdown",
   "metadata": {
    "colab_type": "text",
    "deletable": false,
    "editable": false,
    "id": "y2usmNMlDLbY",
    "tags": [
     "f3a2f13f-d110-4558-a520-4805b5bd1dfe"
    ]
   },
   "source": [
    "Получение первых 10 строк таблицы."
   ]
  },
  {
   "cell_type": "code",
   "execution_count": 3,
   "metadata": {
    "colab": {},
    "colab_type": "code",
    "deletable": false,
    "id": "DY5i8tgXVDGj"
   },
   "outputs": [
    {
     "name": "stdout",
     "output_type": "stream",
     "text": [
      "     userID                        Track            artist   genre  \\\n",
      "0  FFB692EC            Kamigata To Boots  The Mass Missile    rock   \n",
      "1  55204538  Delayed Because of Accident  Andreas Rönnberg    rock   \n",
      "2    20EC38            Funiculì funiculà       Mario Lanza     pop   \n",
      "3  A3DD03C9        Dragons in the Sunset        Fire + Ice    folk   \n",
      "4  E2DC1FAE                  Soul People        Space Echo   dance   \n",
      "5  842029A1                    Преданная         IMPERVTOR  rusrap   \n",
      "6  4CB90AA5                         True      Roman Messer   dance   \n",
      "7  F03E1C1F             Feeling This Way   Polina Griffith   dance   \n",
      "8  8FA1D3BE     И вновь продолжается бой               NaN  ruspop   \n",
      "9  E772D5C0                    Pessimist               NaN   dance   \n",
      "\n",
      "             City        time        Day  \n",
      "0  Saint-Petersburg  20:28:33  Wednesday  \n",
      "1            Moscow  14:07:09     Friday  \n",
      "2  Saint-Petersburg  20:58:07  Wednesday  \n",
      "3  Saint-Petersburg  08:37:09     Monday  \n",
      "4            Moscow  08:34:34     Monday  \n",
      "5  Saint-Petersburg  13:09:41     Friday  \n",
      "6            Moscow  13:00:07  Wednesday  \n",
      "7            Moscow  20:47:49  Wednesday  \n",
      "8            Moscow  09:17:40     Friday  \n",
      "9  Saint-Petersburg  21:20:49  Wednesday  \n"
     ]
    }
   ],
   "source": [
    "print(df.head(10))"
   ]
  },
  {
   "cell_type": "markdown",
   "metadata": {
    "colab_type": "text",
    "deletable": false,
    "editable": false,
    "id": "FrIiRHuHIBbN",
    "tags": [
     "0210c096-9595-4600-b91d-42ab36a6c3f0"
    ]
   },
   "source": [
    "Общая информация о данных таблицы *df*.\n",
    "\n",
    "\n"
   ]
  },
  {
   "cell_type": "code",
   "execution_count": 4,
   "metadata": {
    "colab": {},
    "colab_type": "code",
    "deletable": false,
    "id": "K7t8OdZsYN2y"
   },
   "outputs": [
    {
     "name": "stdout",
     "output_type": "stream",
     "text": [
      "<class 'pandas.core.frame.DataFrame'>\n",
      "RangeIndex: 65079 entries, 0 to 65078\n",
      "Data columns (total 7 columns):\n",
      "  userID    65079 non-null object\n",
      "Track       63848 non-null object\n",
      "artist      57876 non-null object\n",
      "genre       63881 non-null object\n",
      "  City      65079 non-null object\n",
      "time        65079 non-null object\n",
      "Day         65079 non-null object\n",
      "dtypes: object(7)\n",
      "memory usage: 3.5+ MB\n"
     ]
    }
   ],
   "source": [
    "df.info()"
   ]
  },
  {
   "cell_type": "markdown",
   "metadata": {
    "colab_type": "text",
    "deletable": false,
    "id": "CnHv9HZCc7LN"
   },
   "source": [
    "Рассмотрим полученную информацию подробнее.\n",
    "\n",
    "Всего в таблице 7 столбцов, тип данных у каждого столбца - < напишите название типа данных >.\n",
    "\n",
    "Подробно разберём, какие в *df* столбцы и какую информацию они содержат:\n",
    "\n",
    "* userID — идентификатор пользователя;\n",
    "* Track — название трека;  \n",
    "* artist — имя исполнителя;\n",
    "* genre — название жанра;\n",
    "* City — город, в котором происходило прослушивание;\n",
    "* time — время, в которое пользователь слушал трек;\n",
    "* Day — день недели.\n",
    "\n",
    "Количество значений в столбцах различается. Это говорит о том, что в данных есть <введите определение> значения.\n",
    "\n"
   ]
  },
  {
   "cell_type": "markdown",
   "metadata": {
    "colab_type": "text",
    "deletable": false,
    "id": "DCYFm5VrevuB"
   },
   "source": [
    "**Выводы**"
   ]
  },
  {
   "cell_type": "markdown",
   "metadata": {
    "colab_type": "text",
    "deletable": false,
    "id": "PCEtjdmvezRm"
   },
   "source": [
    "Каждая строка таблицы содержит информацию о композициях определённого жанра в определённом исполнении, которые пользователи слушали в одном из городов в определённое время и день недели. Две проблемы, которые нужно решать: пропуски и некачественные названия столбцов. Для проверки рабочих гипотез особенно ценны столбцы *time*, *day* и *City*. Данные из столбца *genre* позволят узнать самые популярные жанры."
   ]
  },
  {
   "cell_type": "markdown",
   "metadata": {
    "colab_type": "text",
    "deletable": false,
    "editable": false,
    "id": "ZYaC0bU-IZ0a",
    "tags": [
     "2c946931-9c91-4e15-baf8-43fb79bcb454"
    ]
   },
   "source": [
    "# Этап 2. Предобработка данных"
   ]
  },
  {
   "cell_type": "markdown",
   "metadata": {
    "colab_type": "text",
    "deletable": false,
    "id": "Dl8grmTrPxZi"
   },
   "source": [
    "Исключим пропуски, переименуем столбцы, а также проверим данные на наличие дубликатов."
   ]
  },
  {
   "cell_type": "markdown",
   "metadata": {
    "colab_type": "text",
    "deletable": false,
    "id": "6OIhlsG_IjI8"
   },
   "source": [
    "Получаем перечень названий столбцов. Какая наблюдается проблема — кроме тех, что уже были названы ранее?"
   ]
  },
  {
   "cell_type": "code",
   "execution_count": 5,
   "metadata": {
    "colab": {},
    "colab_type": "code",
    "deletable": false,
    "id": "Tag65F_Uitsx"
   },
   "outputs": [
    {
     "name": "stdout",
     "output_type": "stream",
     "text": [
      "Index(['  userID', 'Track', 'artist', 'genre', '  City  ', 'time', 'Day'], dtype='object')\n"
     ]
    }
   ],
   "source": [
    "print(df.columns)"
   ]
  },
  {
   "cell_type": "markdown",
   "metadata": {
    "colab_type": "text",
    "deletable": false,
    "id": "x6iJC-cEhnRL"
   },
   "source": [
    "В названиях столбцов есть пробелы, которые могут затруднять доступ к данным."
   ]
  },
  {
   "cell_type": "markdown",
   "metadata": {
    "colab_type": "text",
    "deletable": false,
    "editable": false,
    "id": "BK6m6-DZhlTs",
    "tags": [
     "c2b469cf-2148-4115-8806-0fbb00a9d55d"
    ]
   },
   "source": [
    "Переименуем столбцы для удобства дальнейшей работы. Проверим результат.\n",
    "\n"
   ]
  },
  {
   "cell_type": "code",
   "execution_count": 6,
   "metadata": {
    "colab": {},
    "colab_type": "code",
    "deletable": false,
    "id": "XintVfCniw2-"
   },
   "outputs": [],
   "source": [
    "import pandas as pd\n",
    "df = pd.read_csv('/datasets/music_project.csv')\n",
    "new_names = ['user_id', 'track_name', 'artist_name', 'genre_name', 'city', 'time', 'weekday']\n",
    "df.set_axis(new_names, axis = 'columns', inplace = True)"
   ]
  },
  {
   "cell_type": "code",
   "execution_count": 7,
   "metadata": {
    "colab": {},
    "colab_type": "code",
    "deletable": false,
    "id": "ozQL91G4izdp"
   },
   "outputs": [
    {
     "name": "stdout",
     "output_type": "stream",
     "text": [
      "['user_id', 'track_name', 'artist_name', 'genre_name', 'city', 'time', 'weekday']\n"
     ]
    }
   ],
   "source": [
    "print(new_names)"
   ]
  },
  {
   "cell_type": "markdown",
   "metadata": {
    "colab_type": "text",
    "deletable": false,
    "editable": false,
    "id": "oc2qS2UBIkQu",
    "tags": [
     "325fae3b-abce-4c7c-8c41-87ed8a26ff5d"
    ]
   },
   "source": [
    "Проверим данные на наличие пропусков вызовом набора методов для суммирования пропущенных значений."
   ]
  },
  {
   "cell_type": "code",
   "execution_count": 8,
   "metadata": {
    "colab": {},
    "colab_type": "code",
    "deletable": false,
    "id": "BZh9yLHhjy_R"
   },
   "outputs": [
    {
     "name": "stdout",
     "output_type": "stream",
     "text": [
      "user_id           0\n",
      "track_name     1231\n",
      "artist_name    7203\n",
      "genre_name     1198\n",
      "city              0\n",
      "time              0\n",
      "weekday           0\n",
      "dtype: int64\n"
     ]
    }
   ],
   "source": [
    "print(df.isnull().sum()) "
   ]
  },
  {
   "cell_type": "markdown",
   "metadata": {
    "colab_type": "text",
    "deletable": false,
    "id": "OJXGaa02tSJJ"
   },
   "source": [
    "Пустые значения свидетельствуют, что для некоторых треков доступна не вся информация. Причины могут быть разные: скажем,  не назван конкретный исполнитель народной песни. Хуже, если проблемы с записью данных. Каждый отдельный случай необходимо разобрать и выявить причину."
   ]
  },
  {
   "cell_type": "markdown",
   "metadata": {
    "colab_type": "text",
    "deletable": false,
    "id": "-fBDAWZUkAg-"
   },
   "source": [
    "Заменяем пропущенные значения в столбцах с названием трека и исполнителя на строку 'unknown'. После этой операции нужно убедиться, что таблица больше не содержит пропусков."
   ]
  },
  {
   "cell_type": "code",
   "execution_count": 9,
   "metadata": {
    "colab": {},
    "colab_type": "code",
    "deletable": false,
    "id": "EO8zFcJPlbvV"
   },
   "outputs": [],
   "source": [
    "# <замена пропущенных значений в столбце 'track_name' на строку 'unknown' специальным методом замены>\n",
    "df['track_name'] = df['track_name'].fillna('unknown')"
   ]
  },
  {
   "cell_type": "code",
   "execution_count": 10,
   "metadata": {
    "colab": {},
    "colab_type": "code",
    "deletable": false,
    "id": "3hsNZcLST0UW"
   },
   "outputs": [],
   "source": [
    "# <замена пропущенных значений в столбце 'artist_name' на строку 'unknown' специальным методом замены>\n",
    "#import pandas as pd\n",
    "#df = pd.read_csv('/datasets/music_project.csv')\n",
    "df['artist_name']=df['artist_name'].fillna('unknown')\n",
    "#print(df)"
   ]
  },
  {
   "cell_type": "code",
   "execution_count": 11,
   "metadata": {
    "colab": {},
    "colab_type": "code",
    "deletable": false,
    "id": "Ua-Z8TAblgzC"
   },
   "outputs": [
    {
     "name": "stdout",
     "output_type": "stream",
     "text": [
      "user_id           0\n",
      "track_name        0\n",
      "artist_name       0\n",
      "genre_name     1198\n",
      "city              0\n",
      "time              0\n",
      "weekday           0\n",
      "dtype: int64\n"
     ]
    }
   ],
   "source": [
    "# <проверка: вычисление суммарного количества пропусков, выявленных в таблице df>\n",
    "print(df.isnull().sum())"
   ]
  },
  {
   "cell_type": "markdown",
   "metadata": {
    "colab_type": "text",
    "deletable": false,
    "editable": false,
    "id": "-cjfT0w2ln9C",
    "tags": [
     "9cb28dd4-e24e-4490-aebd-b37ba9e492c5"
    ]
   },
   "source": [
    "Удаляем в столбце с жанрами пустые значения; убеждаемся, что их больше не осталось."
   ]
  },
  {
   "cell_type": "code",
   "execution_count": 12,
   "metadata": {
    "colab": {},
    "colab_type": "code",
    "deletable": false,
    "id": "TIpk7lwtnZkZ"
   },
   "outputs": [],
   "source": [
    "# <удаление пропущенных значений в столбце 'genre_name'>\n",
    "#df['genre']=df['genre'].fillna('unknown')\n",
    "df.dropna(subset = ['genre_name'], inplace = True)\n",
    "#print(df)\n"
   ]
  },
  {
   "cell_type": "code",
   "execution_count": 13,
   "metadata": {
    "colab": {},
    "colab_type": "code",
    "deletable": false,
    "id": "-1CT-CCZnzTA"
   },
   "outputs": [
    {
     "data": {
      "text/plain": [
       "user_id        0\n",
       "track_name     0\n",
       "artist_name    0\n",
       "genre_name     0\n",
       "city           0\n",
       "time           0\n",
       "weekday        0\n",
       "dtype: int64"
      ]
     },
     "execution_count": 13,
     "metadata": {},
     "output_type": "execute_result"
    }
   ],
   "source": [
    "# <проверка>\n",
    "df.isnull().sum()"
   ]
  },
  {
   "cell_type": "markdown",
   "metadata": {
    "colab_type": "text",
    "deletable": false,
    "editable": false,
    "id": "QsBXpJFzpxA9",
    "tags": [
     "ea46db29-6746-4c02-a47b-75283dde9025"
    ]
   },
   "source": [
    "Необходимо установить наличие дубликатов.  Если найдутся, удаляем, и проверяем, все ли удалились."
   ]
  },
  {
   "cell_type": "code",
   "execution_count": 14,
   "metadata": {
    "colab": {},
    "colab_type": "code",
    "deletable": false,
    "id": "VRVI_B0RqIgT"
   },
   "outputs": [
    {
     "data": {
      "text/plain": [
       "3755"
      ]
     },
     "execution_count": 14,
     "metadata": {},
     "output_type": "execute_result"
    }
   ],
   "source": [
    "# <получение суммарного количества дубликатов в таблице df>\n",
    "df.duplicated().sum()"
   ]
  },
  {
   "cell_type": "code",
   "execution_count": 15,
   "metadata": {
    "colab": {},
    "colab_type": "code",
    "deletable": false,
    "id": "nSYF38OeqZn-"
   },
   "outputs": [],
   "source": [
    "# <удаление всех дубликатов из таблицы df специальным методом>\n",
    "df = df.drop_duplicates().reset_index(drop=True)"
   ]
  },
  {
   "cell_type": "code",
   "execution_count": 16,
   "metadata": {
    "colab": {},
    "colab_type": "code",
    "deletable": false,
    "id": "O-RfjmkCqIgV"
   },
   "outputs": [
    {
     "data": {
      "text/plain": [
       "0"
      ]
     },
     "execution_count": 16,
     "metadata": {},
     "output_type": "execute_result"
    }
   ],
   "source": [
    "# <проверка на отсутствие>\n",
    "df.duplicated().sum()"
   ]
  },
  {
   "cell_type": "markdown",
   "metadata": {
    "colab_type": "text",
    "deletable": false,
    "id": "e6cyWPTwsLKw"
   },
   "source": [
    "Дубликаты могли появиться вследствие сбоя в записи данных. Стоит обратить внимание и разобраться с причинами появления такого «информационного мусора»."
   ]
  },
  {
   "cell_type": "markdown",
   "metadata": {
    "colab_type": "text",
    "deletable": false,
    "editable": false,
    "id": "QH-HgrApInjO",
    "tags": [
     "46fb87e8-2d9c-497d-9c6e-746eaa2631ab"
    ]
   },
   "source": [
    "Сохраняем список уникальных значений столбца с жанрами в переменной *genres_list*. \n",
    "\n",
    "Объявим функцию *find_genre()* для поиска неявных дубликатов в столбце с жанрами. Например, когда название одного и того же жанра написано разными словами.\n",
    "\n",
    "\n",
    "\n"
   ]
  },
  {
   "cell_type": "code",
   "execution_count": 17,
   "metadata": {
    "colab": {},
    "colab_type": "code",
    "deletable": false,
    "id": "FfaTfKAN-PCx"
   },
   "outputs": [],
   "source": [
    "# <сохранение в переменной genres_list списка уникальных значений, выявленных специальным методом в столбце 'genre_name'>\n",
    "genres_list = df['genre_name'].unique()"
   ]
  },
  {
   "cell_type": "code",
   "execution_count": 18,
   "metadata": {
    "colab": {},
    "colab_type": "code",
    "deletable": false,
    "id": "TA_k-VLi-S0R"
   },
   "outputs": [],
   "source": [
    "# <создание функции find_genre()>\n",
    "def find_genre(genre):\n",
    "# функция принимает как параметр строку с названием искомого жанра\n",
    "# в теле объявляется переменная-счётчик, ей присваивается значение 0,\n",
    "    count = 0\n",
    "    for i in genres_list:\n",
    "        if i == genre:\n",
    "            count += 1\n",
    "    return count\n",
    "# затем цикл for проходит по списку уникальных значений\n",
    "# если очередной элемент списка равен параметру функции, \n",
    "# то значение счётчика увеличивается на 1\n",
    "# по окончании работы цикла функция возвращает значение счётчика"
   ]
  },
  {
   "cell_type": "markdown",
   "metadata": {
    "colab_type": "text",
    "deletable": false,
    "editable": false,
    "id": "vb3CTOciIL27",
    "tags": [
     "b57e3325-29fc-4ade-83a3-91113c5dad32"
    ]
   },
   "source": [
    "Вызов функции *find_genre()* для поиска различных вариантов названия жанра хип-хоп в таблице.\n",
    "\n",
    "Правильное название — *hiphop*. Поищем другие варианты:\n",
    "\n",
    "* hip\n",
    "* hop\n",
    "* hip-hop\n"
   ]
  },
  {
   "cell_type": "code",
   "execution_count": 19,
   "metadata": {
    "colab": {},
    "colab_type": "code",
    "deletable": false,
    "id": "YrwqExZS-dyQ"
   },
   "outputs": [
    {
     "data": {
      "text/plain": [
       "1"
      ]
     },
     "execution_count": 19,
     "metadata": {},
     "output_type": "execute_result"
    }
   ],
   "source": [
    "# <вызовом функции find_genre() проверяется наличие варианта 'hip'>\n",
    "find_genre('hip')"
   ]
  },
  {
   "cell_type": "code",
   "execution_count": 20,
   "metadata": {
    "colab": {},
    "colab_type": "code",
    "deletable": false,
    "id": "ZoL4EEcR-dyU"
   },
   "outputs": [
    {
     "data": {
      "text/plain": [
       "0"
      ]
     },
     "execution_count": 20,
     "metadata": {},
     "output_type": "execute_result"
    }
   ],
   "source": [
    "# <проверяется наличие варианта 'hop'>\n",
    "find_genre('hop')"
   ]
  },
  {
   "cell_type": "code",
   "execution_count": 21,
   "metadata": {
    "colab": {},
    "colab_type": "code",
    "deletable": false,
    "id": "MFowmiug-qZD"
   },
   "outputs": [
    {
     "data": {
      "text/plain": [
       "0"
      ]
     },
     "execution_count": 21,
     "metadata": {},
     "output_type": "execute_result"
    }
   ],
   "source": [
    "# <проверяется наличие варианта 'hip-hop'>\n",
    "find_genre('hip-hop')"
   ]
  },
  {
   "cell_type": "markdown",
   "metadata": {
    "colab_type": "text",
    "deletable": false,
    "editable": false,
    "id": "a7BQY6ORLMSG",
    "tags": [
     "11f77aa1-5478-453d-b31e-f20041047bb7"
    ]
   },
   "source": [
    "Объявим функцию *find_hip_hop()*, которая заменяет  неправильное название этого жанра в столбце *'genre_name'* на *'hiphop'* и проверяет успешность выполнения замены.\n",
    "\n",
    "Так исправляем все варианты написания, которые выявила проверка."
   ]
  },
  {
   "cell_type": "code",
   "execution_count": 22,
   "metadata": {
    "colab": {},
    "colab_type": "code",
    "deletable": false,
    "id": "31xlzL_c_FgB"
   },
   "outputs": [],
   "source": [
    "# <создание функции find_hip_hop()>\n",
    "def find_hip_hop(df, err_name):\n",
    "    df['genre_name'] = df['genre_name'].replace(err_name, 'hiphop')\n",
    "# функция принимает как параметры таблицу df и неверное название\n",
    "# к столбцу 'genre_name' применяется специальный метод, \n",
    "# который заменяет второй параметр на строку 'hiphop'\n",
    "# результат работы равен подсчитанному методом count() числу значений столбца, \n",
    "# которые равны второму параметру\n",
    "    res = df.loc[df.loc[:, 'genre_name'] == 'err_name']['genre_name'].count()\n",
    "    return res\n",
    "# функция возвращает результат"
   ]
  },
  {
   "cell_type": "code",
   "execution_count": 23,
   "metadata": {
    "colab": {},
    "colab_type": "code",
    "deletable": false,
    "id": "ZFXMV2qW_FgE"
   },
   "outputs": [
    {
     "data": {
      "text/plain": [
       "0"
      ]
     },
     "execution_count": 23,
     "metadata": {},
     "output_type": "execute_result"
    }
   ],
   "source": [
    "# <замена одного неверного варианта на hiphop вызовом функции find_hip_hop()>\n",
    "find_hip_hop(df, 'hip')"
   ]
  },
  {
   "cell_type": "markdown",
   "metadata": {
    "colab_type": "text",
    "deletable": false,
    "editable": false,
    "id": "i90BILA9JQpE",
    "tags": [
     "30535c8e-1643-4088-925b-2a32180e0333"
    ]
   },
   "source": [
    "Получаем общую информацию о данных. Убеждаемся, что чистка выполнена успешно."
   ]
  },
  {
   "cell_type": "code",
   "execution_count": 24,
   "metadata": {
    "colab": {},
    "colab_type": "code",
    "deletable": false,
    "id": "-yyvdzHA_uJm"
   },
   "outputs": [
    {
     "name": "stdout",
     "output_type": "stream",
     "text": [
      "<class 'pandas.core.frame.DataFrame'>\n",
      "RangeIndex: 60126 entries, 0 to 60125\n",
      "Data columns (total 7 columns):\n",
      "user_id        60126 non-null object\n",
      "track_name     60126 non-null object\n",
      "artist_name    60126 non-null object\n",
      "genre_name     60126 non-null object\n",
      "city           60126 non-null object\n",
      "time           60126 non-null object\n",
      "weekday        60126 non-null object\n",
      "dtypes: object(7)\n",
      "memory usage: 3.2+ MB\n",
      "['rock' 'pop' 'folk' 'dance' 'rusrap' 'ruspop' 'world' 'electronic'\n",
      " 'alternative' 'children' 'rnb' 'hip' 'jazz' 'postrock' 'latin'\n",
      " 'classical' 'metal' 'reggae' 'tatar' 'blues' 'instrumental' 'rusrock'\n",
      " 'dnb' 'türk' 'post' 'country' 'psychedelic' 'conjazz' 'indie'\n",
      " 'posthardcore' 'local' 'avantgarde' 'punk' 'videogame' 'techno' 'house'\n",
      " 'christmas' 'melodic' 'caucasian' 'reggaeton' 'soundtrack' 'singer' 'ska'\n",
      " 'shanson' 'ambient' 'film' 'western' 'rap' 'beats' \"hard'n'heavy\"\n",
      " 'progmetal' 'minimal' 'contemporary' 'new' 'soul' 'holiday' 'german'\n",
      " 'tropical' 'fairytail' 'spiritual' 'urban' 'gospel' 'nujazz' 'folkmetal'\n",
      " 'trance' 'miscellaneous' 'anime' 'hardcore' 'progressive' 'chanson'\n",
      " 'numetal' 'vocal' 'estrada' 'russian' 'classicmetal' 'dubstep' 'club'\n",
      " 'deep' 'southern' 'black' 'folkrock' 'fitness' 'french' 'disco'\n",
      " 'religious' 'hiphop' 'drum' 'extrememetal' 'türkçe' 'experimental' 'easy'\n",
      " 'metalcore' 'modern' 'argentinetango' 'old' 'breaks' 'eurofolk'\n",
      " 'stonerrock' 'industrial' 'funk' 'jpop' 'middle' 'variété' 'other'\n",
      " 'adult' 'christian' 'gothic' 'international' 'muslim' 'relax' 'schlager'\n",
      " 'caribbean' 'ukrrock' 'nu' 'breakbeat' 'comedy' 'chill' 'newage'\n",
      " 'specialty' 'uzbek' 'k-pop' 'balkan' 'chinese' 'meditative' 'dub' 'power'\n",
      " 'death' 'grime' 'arabesk' 'romance' 'flamenco' 'leftfield' 'european'\n",
      " 'tech' 'newwave' 'dancehall' 'mpb' 'piano' 'top' 'bigroom' 'opera'\n",
      " 'celtic' 'tradjazz' 'acoustic' 'epicmetal' 'historisch' 'downbeat'\n",
      " 'downtempo' 'africa' 'audiobook' 'jewish' 'sängerportrait' 'deutschrock'\n",
      " 'eastern' 'action' 'future' 'electropop' 'folklore' 'bollywood'\n",
      " 'marschmusik' 'rnr' 'karaoke' 'indian' 'rancheras' 'электроника'\n",
      " 'afrikaans' 'tango' 'rhythm' 'sound' 'deutschspr' 'trip' 'lovers'\n",
      " 'choral' 'dancepop' 'podcasts' 'retro' 'smooth' 'mexican' 'brazilian'\n",
      " 'ïîï' 'mood' 'surf' 'author' 'gangsta' 'triphop' 'inspirational' 'idm'\n",
      " 'ethnic' 'bluegrass' 'broadway' 'animated' 'americana' 'karadeniz'\n",
      " 'rockabilly' 'colombian' 'self' 'synthrock' 'sertanejo' 'japanese'\n",
      " 'canzone' 'swing' 'lounge' 'sport' 'korean' 'ragga' 'traditional'\n",
      " 'gitarre' 'frankreich' 'alternativepunk' 'emo' 'laiko' 'cantopop'\n",
      " 'glitch' 'documentary' 'rockalternative' 'thrash' 'hymn' 'oceania'\n",
      " 'rockother' 'popeurodance' 'dark' 'vi' 'grunge' 'hardstyle' 'samba'\n",
      " 'garage' 'soft' 'art' 'folktronica' 'entehno' 'mediterranean' 'chamber'\n",
      " 'cuban' 'taraftar' 'rockindie' 'gypsy' 'hardtechno' 'shoegazing'\n",
      " 'skarock' 'bossa' 'salsa' 'latino' 'worldbeat' 'malaysian' 'baile'\n",
      " 'ghazal' 'loungeelectronic' 'arabic' 'popelectronic' 'acid' 'kayokyoku'\n",
      " 'neoklassik' 'tribal' 'tanzorchester' 'native' 'independent' 'cantautori'\n",
      " 'handsup' 'poprussian' 'punjabi' 'synthpop' 'rave' 'französisch'\n",
      " 'quebecois' 'speech' 'soulful' 'teen' 'jam' 'ram' 'horror' 'scenic'\n",
      " 'orchestral' 'neue' 'roots' 'slow' 'jungle' 'indipop' 'axé' 'fado'\n",
      " 'showtunes' 'arena' 'irish' 'mandopop' 'forró' 'popdance' 'dirty'\n",
      " 'regional']\n"
     ]
    }
   ],
   "source": [
    "# <получение общей информации о данных таблицы df>\n",
    "df.info()\n",
    "print(genres_list)"
   ]
  },
  {
   "cell_type": "markdown",
   "metadata": {
    "colab_type": "text",
    "deletable": false,
    "id": "AReHO17cMRPM"
   },
   "source": []
  },
  {
   "cell_type": "markdown",
   "metadata": {
    "colab_type": "text",
    "deletable": false,
    "id": "yscfstUqMS4c"
   },
   "source": [
    "На этапе предобработки в данных обнаружились не только пропуски и проблемы с названиями столбцов, но и всяческие виды дубликатов. Их удаление позволит провести анализ точнее. Поскольку сведения о жанрах важно сохранить для анализа, не просто удаляем все пропущенные значения, но заполним пропущенные имена исполнителей и названия треков. Имена столбцов теперь корректны и удобны для дальнейшей работы."
   ]
  },
  {
   "cell_type": "markdown",
   "metadata": {
    "colab_type": "text",
    "deletable": false,
    "editable": false,
    "id": "MF4nnd1YJUrI",
    "tags": [
     "ac8df732-1797-479a-9c4c-a03745931a9d"
    ]
   },
   "source": [
    "# Действительно ли музыку в разных городах слушают по-разному?"
   ]
  },
  {
   "cell_type": "markdown",
   "metadata": {
    "colab_type": "text",
    "deletable": false,
    "id": "AYSL1OvyM2pL"
   },
   "source": [
    "Была выдвинута гипотеза, что в Москве и Санкт-Петербурге пользователи слушают музыку по-разному. Проверяем это предположение по данным о трёх днях недели — понедельнике, среде и пятнице.\n",
    "\n",
    "Для каждого города устанавливаем количество прослушанных  в эти дни композиций с известным жанром, и сравниваем результаты."
   ]
  },
  {
   "cell_type": "markdown",
   "metadata": {
    "colab_type": "text",
    "deletable": false,
    "id": "OM5Eeh7FNWC-"
   },
   "source": [
    "Группируем данные по городу и вызовом метода *count()* подсчитываем композиции, для которых известен жанр."
   ]
  },
  {
   "cell_type": "code",
   "execution_count": 25,
   "metadata": {
    "colab": {},
    "colab_type": "code",
    "deletable": false,
    "id": "AtH_pP1i_0m1"
   },
   "outputs": [],
   "source": [
    "# <группировка данных таблицы df по столбцу 'city' и подсчёт количества значений столбца 'genre_name'>\n",
    "tracl_list_count = df.groupby('city')['genre_name'].count()\n",
    "#print(tracl_list_count)"
   ]
  },
  {
   "cell_type": "markdown",
   "metadata": {
    "colab_type": "text",
    "deletable": false,
    "id": "XBR226DMpIDf"
   },
   "source": [
    "В Москве прослушиваний больше, чем в Питере, но это не значит, что Москва более активна. У Яндекс.Музыки в целом больше пользователей в Москве, поэтому величины сопоставимы."
   ]
  },
  {
   "cell_type": "markdown",
   "metadata": {
    "colab_type": "text",
    "deletable": false,
    "editable": false,
    "id": "P7EcNQuyNbNB",
    "tags": [
     "133ddd49-3b63-45b1-b50c-9e6ab5fc4175"
    ]
   },
   "source": [
    "Сгруппируем данные по дню недели и подсчитаем прослушанные в понедельник, среду и пятницу композиции, для которых известен жанр."
   ]
  },
  {
   "cell_type": "code",
   "execution_count": 26,
   "metadata": {
    "colab": {},
    "colab_type": "code",
    "deletable": false,
    "id": "A8E_Tb2b_3un"
   },
   "outputs": [],
   "source": [
    "# <группировка данных по столбцу 'weekday' и подсчёт количества значений столбца 'genre_name'>\n",
    "weekday_counting = df.groupby('weekday')['genre_name'].count()\n",
    "#print(weekday_counting)\n"
   ]
  },
  {
   "cell_type": "markdown",
   "metadata": {
    "colab_type": "text",
    "deletable": false,
    "id": "Zhh6hehCpq_U"
   },
   "source": [
    "Понедельник и пятница — время для музыки; по средам пользователи немного больше вовлечены в работу."
   ]
  },
  {
   "cell_type": "markdown",
   "metadata": {
    "colab_type": "text",
    "deletable": false,
    "editable": false,
    "id": "bYab2U5BNdmZ",
    "tags": [
     "bae0a168-5e2b-40f9-9701-bfb32d016517"
    ]
   },
   "source": [
    "Создаём функцию *number_tracks()*, которая принимает как параметры таблицу, день недели и название города, а возвращает количество прослушанных композиций, для которых известен жанр. Проверяем количество прослушанных композиций для каждого города и понедельника, затем среды и пятницы."
   ]
  },
  {
   "cell_type": "code",
   "execution_count": 27,
   "metadata": {
    "colab": {},
    "colab_type": "code",
    "deletable": false,
    "id": "4SqpGSi5_7hA"
   },
   "outputs": [],
   "source": [
    "# <создание функции number_tracks()>\n",
    "# объявляется функция с тремя параметрами: df, day, city\n",
    "def number_tracks(df, day, city):\n",
    "# в переменной track_list сохраняются те строки таблицы df, для которых \n",
    "# значение в столбце 'weekday' равно параметру day\n",
    "# и одновременно значение в столбце 'city' равно параметру city\n",
    "    track_list = df[(df['weekday']==day) & (df['city']==city)]\n",
    "# в переменной track_list_count сохраняется число значений столбца 'genre_name',\n",
    "# рассчитанное методом count() для таблицы track_list\n",
    "    track_list_count = track_list['genre_name'].count()\n",
    "# функция возвращает значение track_list_count\n",
    "    return track_list_count"
   ]
  },
  {
   "cell_type": "code",
   "execution_count": 28,
   "metadata": {
    "deletable": false
   },
   "outputs": [
    {
     "data": {
      "text/plain": [
       "15347"
      ]
     },
     "execution_count": 28,
     "metadata": {},
     "output_type": "execute_result"
    }
   ],
   "source": [
    "# <список композиций для Москвы в понедельник>\n",
    "number_tracks(df, 'Monday', 'Moscow')"
   ]
  },
  {
   "cell_type": "code",
   "execution_count": 29,
   "metadata": {
    "deletable": false
   },
   "outputs": [
    {
     "data": {
      "text/plain": [
       "5519"
      ]
     },
     "execution_count": 29,
     "metadata": {},
     "output_type": "execute_result"
    }
   ],
   "source": [
    "# <список композиций для Санкт-Петербурга в понедельник>\n",
    "number_tracks(df, 'Monday', 'Saint-Petersburg')"
   ]
  },
  {
   "cell_type": "code",
   "execution_count": 30,
   "metadata": {
    "deletable": false
   },
   "outputs": [
    {
     "data": {
      "text/plain": [
       "10865"
      ]
     },
     "execution_count": 30,
     "metadata": {},
     "output_type": "execute_result"
    }
   ],
   "source": [
    "# <список композиций для Москвы в среду>\n",
    "number_tracks(df, 'Wednesday', 'Moscow')"
   ]
  },
  {
   "cell_type": "code",
   "execution_count": 31,
   "metadata": {
    "deletable": false
   },
   "outputs": [
    {
     "data": {
      "text/plain": [
       "6913"
      ]
     },
     "execution_count": 31,
     "metadata": {},
     "output_type": "execute_result"
    }
   ],
   "source": [
    "# <список композиций для Санкт-Петербурга в среду>\n",
    "number_tracks(df, 'Wednesday', 'Saint-Petersburg')"
   ]
  },
  {
   "cell_type": "code",
   "execution_count": 32,
   "metadata": {
    "deletable": false
   },
   "outputs": [
    {
     "data": {
      "text/plain": [
       "15680"
      ]
     },
     "execution_count": 32,
     "metadata": {},
     "output_type": "execute_result"
    }
   ],
   "source": [
    "# <список композиций для Москвы в пятницу>\n",
    "number_tracks(df, 'Friday', 'Moscow')"
   ]
  },
  {
   "cell_type": "code",
   "execution_count": 33,
   "metadata": {
    "deletable": false
   },
   "outputs": [
    {
     "data": {
      "text/plain": [
       "5802"
      ]
     },
     "execution_count": 33,
     "metadata": {},
     "output_type": "execute_result"
    }
   ],
   "source": [
    "# <список композиций для Санкт-Петербурга в пятницу>\n",
    "number_tracks(df, 'Friday', 'Saint-Petersburg')"
   ]
  },
  {
   "cell_type": "markdown",
   "metadata": {
    "colab_type": "text",
    "deletable": false,
    "editable": false,
    "id": "tCB9zwzzqZ8g",
    "tags": [
     "d73e12bf-3635-484b-8fb6-c7ccc2101671"
    ]
   },
   "source": [
    "Сведём полученную информацию в одну таблицу, где ['city', 'monday', 'wednesday', 'friday'] названия столбцов.\n"
   ]
  },
  {
   "cell_type": "code",
   "execution_count": 34,
   "metadata": {
    "deletable": false
   },
   "outputs": [],
   "source": [
    "# <таблица с полученными данными>\n",
    "data = [['Moscow', 15347, 10865, 15680],['Saint-Petersburg', 5519, 6913, 5802]]\n",
    "columns = ['city', 'monday', 'wednesday', 'friday']\n",
    "table = pd.DataFrame(data = data, columns = columns) # аргумент data - список с данными,\n",
    "                                                     # аргумент columns - список с названиями столбцов "
   ]
  },
  {
   "cell_type": "markdown",
   "metadata": {
    "colab_type": "text",
    "deletable": false,
    "id": "LKCYeMXgqPxD"
   },
   "source": [
    "**Вывод**"
   ]
  },
  {
   "cell_type": "markdown",
   "metadata": {
    "colab_type": "text",
    "deletable": false,
    "id": "RJpg6I8jqQ0x"
   },
   "source": [
    "Результаты показывают, что относительно среды музыку в Петербурге и Москве слушают «зеркально»: в Москве пики приходятся на понедельник и пятницу, а в среду время прослушивания снижается. Тогда как в Санкт-Петербурге среда — день самого большого интереса к музыке, а в понедельник и пятницу он меньше, причём почти одинаково меньше."
   ]
  },
  {
   "cell_type": "markdown",
   "metadata": {
    "colab_type": "text",
    "deletable": false,
    "editable": false,
    "id": "tLdpUGyewzGf",
    "tags": [
     "1eb8124a-f066-4c43-b1f4-bc672c5efd57"
    ]
   },
   "source": [
    "# Утро понедельника и вечер пятницы — разная музыка или одна и та же?"
   ]
  },
  {
   "cell_type": "markdown",
   "metadata": {
    "colab_type": "text",
    "deletable": false,
    "id": "SaQlxcVntL3x"
   },
   "source": [
    "Ищем ответ на вопрос, какие жанры преобладают в разных городах в понедельник утром и в пятницу вечером. Есть предположение, что в понедельник утром пользователи слушают больше бодрящей музыки (например, жанра поп), а вечером пятницы — больше танцевальных (например, электронику)."
   ]
  },
  {
   "cell_type": "markdown",
   "metadata": {
    "colab_type": "text",
    "deletable": false,
    "id": "lYGAneOaPBhS"
   },
   "source": [
    "Получим таблицы данных по Москве *moscow_general* и по Санкт-Петербургу *spb_general*."
   ]
  },
  {
   "cell_type": "code",
   "execution_count": 35,
   "metadata": {
    "colab": {},
    "colab_type": "code",
    "deletable": false,
    "id": "Pyz1i56nA5IS"
   },
   "outputs": [],
   "source": [
    "# получение таблицы moscow_general из тех строк таблицы df, \n",
    "# для которых значение в столбце 'city' равно 'Moscow'\n",
    "moscow_general = df[df['city'] == 'Moscow']"
   ]
  },
  {
   "cell_type": "code",
   "execution_count": 36,
   "metadata": {
    "colab": {},
    "colab_type": "code",
    "deletable": false,
    "id": "w3NNN-2hA-al"
   },
   "outputs": [],
   "source": [
    "# <получение таблицы spb_general>\n",
    "spb_general = df[df['city'] == 'Saint-Petersburg']"
   ]
  },
  {
   "cell_type": "markdown",
   "metadata": {
    "colab_type": "text",
    "deletable": false,
    "editable": false,
    "id": "duDdH_WiPLky",
    "tags": [
     "7f7cae13-ec1c-45c4-9204-0a4354fe1766"
    ]
   },
   "source": [
    "Создаём функцию *genre_weekday()*, которая возвращает список жанров по запрошенному дню недели и времени суток с такого-то часа по такой-то."
   ]
  },
  {
   "cell_type": "code",
   "execution_count": 37,
   "metadata": {
    "colab": {},
    "colab_type": "code",
    "deletable": false,
    "id": "JhUdQynHBEYw"
   },
   "outputs": [],
   "source": [
    "# объявление функции genre_weekday() с параметрами df, day, time1, time2\n",
    "def genre_weekday(df, day, time1, time2):\n",
    "# в переменной genre_list сохраняются те строки df, для которых одновременно:\n",
    "# 1) значение в столбце 'weekday' равно параметру day,\n",
    "# 2) значение в столбце 'time' больше time1 и\n",
    "# 3) меньше time2.\n",
    "    genre_list = df[(df['weekday'] == day) & (df['time'] > time1) & (df['time'] < time2)]\n",
    "# в переменной genre_list_sorted сохраняются в порядке убывания  \n",
    "# первые 10 значений Series, полученной подсчётом числа значений 'genre_name'\n",
    "# сгруппированной по столбцу 'genre_name' таблицы genre_list\n",
    "    genre_list_sorted = genre_list.groupby('genre_name')['genre_name'].count().sort_values(ascending = False).head(10)\n",
    "# функция возвращает значение genre_list_sorted\n",
    "    return genre_list_sorted"
   ]
  },
  {
   "cell_type": "markdown",
   "metadata": {
    "colab_type": "text",
    "deletable": false,
    "editable": false,
    "id": "bxGC8kXkP7B-",
    "tags": [
     "63e2c3f3-fa64-4376-8221-e8b753264535"
    ]
   },
   "source": [
    "Cравниваем полученные результаты по таблице для Москвы и Санкт-Петербурга в понедельник утром (с 7 до 11) и в пятницу вечером (с 17 до 23)."
   ]
  },
  {
   "cell_type": "code",
   "execution_count": 38,
   "metadata": {
    "colab": {},
    "colab_type": "code",
    "deletable": false,
    "id": "kbgeq-55BLEI"
   },
   "outputs": [
    {
     "data": {
      "text/plain": [
       "genre_name\n",
       "pop            781\n",
       "dance          549\n",
       "electronic     480\n",
       "rock           474\n",
       "hiphop         286\n",
       "ruspop         186\n",
       "world          181\n",
       "rusrap         175\n",
       "alternative    164\n",
       "classical      157\n",
       "Name: genre_name, dtype: int64"
      ]
     },
     "execution_count": 38,
     "metadata": {},
     "output_type": "execute_result"
    }
   ],
   "source": [
    "# <вызов функции для утра понедельника в Москве (вместо df таблица moscow_general)>\n",
    "genre_weekday(moscow_general, 'Monday', '07:00:00', '11:00:00')"
   ]
  },
  {
   "cell_type": "code",
   "execution_count": 39,
   "metadata": {
    "colab": {},
    "colab_type": "code",
    "deletable": false,
    "id": "XHwa8N2EBRXO"
   },
   "outputs": [
    {
     "data": {
      "text/plain": [
       "genre_name\n",
       "pop            218\n",
       "dance          182\n",
       "rock           162\n",
       "electronic     147\n",
       "hiphop          80\n",
       "ruspop          64\n",
       "alternative     58\n",
       "rusrap          55\n",
       "jazz            44\n",
       "classical       40\n",
       "Name: genre_name, dtype: int64"
      ]
     },
     "execution_count": 39,
     "metadata": {},
     "output_type": "execute_result"
    }
   ],
   "source": [
    "# <вызов функции для утра понедельника в Петербурге (вместо df таблица spb_general)>\n",
    "genre_weekday(spb_general, 'Monday', '07:00:00', '11:00:00')"
   ]
  },
  {
   "cell_type": "code",
   "execution_count": 40,
   "metadata": {
    "colab": {},
    "colab_type": "code",
    "deletable": false,
    "id": "YvdSbg2jBUeq"
   },
   "outputs": [
    {
     "data": {
      "text/plain": [
       "genre_name\n",
       "pop            713\n",
       "rock           517\n",
       "dance          495\n",
       "electronic     482\n",
       "hiphop         273\n",
       "world          208\n",
       "ruspop         170\n",
       "alternative    163\n",
       "classical      163\n",
       "rusrap         142\n",
       "Name: genre_name, dtype: int64"
      ]
     },
     "execution_count": 40,
     "metadata": {},
     "output_type": "execute_result"
    }
   ],
   "source": [
    "# <вызов функции для вечера пятницы в Москве>\n",
    "genre_weekday(moscow_general, 'Friday', '17:00:00', '23:00:00')"
   ]
  },
  {
   "cell_type": "code",
   "execution_count": 41,
   "metadata": {
    "colab": {},
    "colab_type": "code",
    "deletable": false,
    "id": "Ew3ig4fPBUeu"
   },
   "outputs": [
    {
     "data": {
      "text/plain": [
       "genre_name\n",
       "pop            256\n",
       "rock           216\n",
       "electronic     216\n",
       "dance          210\n",
       "hiphop          97\n",
       "alternative     63\n",
       "jazz            61\n",
       "classical       60\n",
       "rusrap          59\n",
       "world           54\n",
       "Name: genre_name, dtype: int64"
      ]
     },
     "execution_count": 41,
     "metadata": {},
     "output_type": "execute_result"
    }
   ],
   "source": [
    "# <вызов функции для вечера пятницы в Питере>\n",
    "genre_weekday(spb_general, 'Friday', '17:00:00', '23:00:00')"
   ]
  },
  {
   "cell_type": "markdown",
   "metadata": {
    "colab_type": "text",
    "deletable": false,
    "id": "UenYBZTIwYT-"
   },
   "source": [
    "Популярные жанры в понедельник утром в Питере и Москве оказались похожи: везде, как и предполагалось, популярен поп. Несмотря на это, концовка топ-10 для двух городов различается: в Питере в топ-10 входит джаз и русский рэп, а в Москве жанр *world*.\n",
    "\n",
    "В конце недели ситуация не меняется. Поп-музыка всё так же на первом месте. Опять разница заметна только в концовке топ-10, где в Питере пятничным вечером тоже присутствует жанр *world*."
   ]
  },
  {
   "cell_type": "markdown",
   "metadata": {
    "colab_type": "text",
    "deletable": false,
    "id": "MBxfrKPAykp_"
   },
   "source": [
    "**Вывод**"
   ]
  },
  {
   "cell_type": "markdown",
   "metadata": {
    "colab_type": "text",
    "deletable": false,
    "id": "j8ypBMwSymL6"
   },
   "source": [
    "Жанр поп безусловный лидер, а топ-5 в целом не различается в обеих столицах. При этом видно, что концовка списка более «живая»: для каждого города выделяются более характерные жанры, которые действительно меняют свои позиции в зависимости от дня недели и времени."
   ]
  },
  {
   "cell_type": "markdown",
   "metadata": {
    "colab_type": "text",
    "deletable": false,
    "editable": false,
    "id": "D7YMmgKRw270",
    "tags": [
     "f363205e-76b1-4883-abf1-bf21c9572dc7"
    ]
   },
   "source": [
    "# Москва и Питер — две разные столицы, два разных направления в музыке. Правда?"
   ]
  },
  {
   "cell_type": "markdown",
   "metadata": {
    "colab_type": "text",
    "deletable": false,
    "id": "Wc5srT13zb4Z"
   },
   "source": [
    "Гипотеза: Питер богат своей рэп-культурой, поэтому это направление там слушают чаще, а Москва — город контрастов, но основная масса пользователей слушает попсу.\n",
    "\n"
   ]
  },
  {
   "cell_type": "markdown",
   "metadata": {
    "colab_type": "text",
    "deletable": false,
    "id": "2SFE9_RV2KEL"
   },
   "source": [
    "Сгруппируем таблицу *moscow_general* по жанру, сосчитаем численность композиций каждого жанра методом *count()*, отсортируем в порядке убывания и сохраним результат в таблице *moscow_genres*.\n",
    "\n",
    "Просмотрим первые 10 строк этой новой таблицы."
   ]
  },
  {
   "cell_type": "code",
   "execution_count": 42,
   "metadata": {
    "colab": {},
    "colab_type": "code",
    "deletable": false,
    "id": "OohoTcsYBheo"
   },
   "outputs": [],
   "source": [
    "# одной строкой: группировка таблицы moscow_general по столбцу 'genre_name', \n",
    "# подсчёт числа значений 'genre_name' в этой группировке методом count(), \n",
    "# сортировка Series в порядке убывания и сохранение в moscow_genres\n",
    "moscow_genres = moscow_general.groupby('genre_name')['genre_name'].count().sort_values(ascending = False)"
   ]
  },
  {
   "cell_type": "code",
   "execution_count": 43,
   "metadata": {
    "colab": {},
    "colab_type": "code",
    "deletable": false,
    "id": "h7IhIKDrBher"
   },
   "outputs": [
    {
     "data": {
      "text/plain": [
       "genre_name\n",
       "pop            5892\n",
       "dance          4435\n",
       "rock           3965\n",
       "electronic     3786\n",
       "hiphop         2096\n",
       "classical      1616\n",
       "world          1432\n",
       "alternative    1379\n",
       "ruspop         1372\n",
       "rusrap         1161\n",
       "Name: genre_name, dtype: int64"
      ]
     },
     "execution_count": 43,
     "metadata": {},
     "output_type": "execute_result"
    }
   ],
   "source": [
    "# <просмотр первых 10 строк moscow_genres>\n",
    "moscow_genres.head(10)"
   ]
  },
  {
   "cell_type": "markdown",
   "metadata": {
    "colab_type": "text",
    "deletable": false,
    "editable": false,
    "id": "gjnf0lol2fUy",
    "tags": [
     "f7503a48-1b28-483d-9f7b-bae79fb182b5"
    ]
   },
   "source": [
    "Сгруппируем таблицу *spb_general* по жанру, сосчитаем численность композиций каждого жанра методом *count()*, отсортируем в порядке убывания и сохраним результат в таблице *spb_genres*.\n",
    "\n",
    "Просматриваем первые 10 строк этой таблицы. Теперь можно сравнивать два города."
   ]
  },
  {
   "cell_type": "code",
   "execution_count": 44,
   "metadata": {
    "colab": {},
    "colab_type": "code",
    "deletable": false,
    "id": "eQrdA85dB1LO"
   },
   "outputs": [],
   "source": [
    "# <группировка таблицы spb_general, расчёт, сохранение в spb_genres>\n",
    "spb_genres = spb_general.groupby('genre_name')['genre_name'].count().sort_values(ascending = False)"
   ]
  },
  {
   "cell_type": "code",
   "execution_count": 45,
   "metadata": {
    "colab": {},
    "colab_type": "code",
    "deletable": false,
    "id": "AE-Z-1wCB1LS"
   },
   "outputs": [
    {
     "data": {
      "text/plain": [
       "genre_name\n",
       "pop            2431\n",
       "dance          1932\n",
       "rock           1879\n",
       "electronic     1736\n",
       "hiphop          960\n",
       "alternative     649\n",
       "classical       646\n",
       "rusrap          564\n",
       "ruspop          538\n",
       "world           515\n",
       "Name: genre_name, dtype: int64"
      ]
     },
     "execution_count": 45,
     "metadata": {},
     "output_type": "execute_result"
    }
   ],
   "source": [
    "# <просмотр первых 10 строк spb_genres>\n",
    "spb_genres.head(10)"
   ]
  },
  {
   "cell_type": "markdown",
   "metadata": {
    "colab_type": "text",
    "deletable": false,
    "id": "J5E-kLgK2piO"
   },
   "source": [
    "**Вывод**"
   ]
  },
  {
   "cell_type": "markdown",
   "metadata": {
    "colab_type": "text",
    "deletable": false,
    "id": "-9R3-Qh02tNt"
   },
   "source": [
    "В Москве, кроме абсолютно популярного жанра поп, есть направление русской популярной музыки. Значит, что интерес к этому жанру шире. А рэп, вопреки предположению, занимает в обоих городах близкие позиции."
   ]
  },
  {
   "cell_type": "markdown",
   "metadata": {
    "colab_type": "text",
    "deletable": false,
    "editable": false,
    "id": "gLlT9nKMQ3ky",
    "tags": [
     "0d44c8c0-390b-4c9e-b797-ddc3993f6e58"
    ]
   },
   "source": [
    "# Этап 4. Результаты исследования\n"
   ]
  },
  {
   "cell_type": "markdown",
   "metadata": {
    "colab_type": "text",
    "deletable": false,
    "id": "GtvyRBbD7dv5"
   },
   "source": [
    "Рабочие гипотезы:\n",
    "\n",
    "* музыку в двух городах — Москве и Санкт-Петербурге — слушают в разном режиме;\n",
    "\n",
    "* списки десяти самых популярных жанров утром в понедельник и вечером в пятницу имеют характерные отличия;\n",
    "\n",
    "* население двух городов предпочитает разные музыкальные жанры.\n",
    "\n",
    "**Общие результаты**\n",
    "\n",
    "Москва и Петербург сходятся во вкусах: везде преобладает популярная музыка. При этом зависимости предпочтений от дня недели в каждом отдельном городе нет — люди постоянно слушают то, что им нравится. Но между городами в разрезе дней неделей наблюдается зеркальность относительно среды: Москва больше слушает в понедельник и пятницу, а Петербург наоборот - больше в среду, но меньше в понедельник и пятницу.\n",
    "\n",
    "В результате первая гипотеза < укажите подтверждена/не подтверждена>, вторая гипотеза < укажите подтверждена/не подтверждена > и третья < укажите подтверждена/не подтверждена >."
   ]
  },
  {
   "cell_type": "code",
   "execution_count": null,
   "metadata": {},
   "outputs": [],
   "source": []
  }
 ],
 "metadata": {
  "ExecuteTimeLog": [
   {
    "duration": 754,
    "start_time": "2021-07-31T14:48:08.837Z"
   },
   {
    "duration": 436,
    "start_time": "2021-07-31T14:48:10.466Z"
   },
   {
    "duration": 477,
    "start_time": "2021-07-31T14:48:42.041Z"
   },
   {
    "duration": 384,
    "start_time": "2021-07-31T14:48:44.935Z"
   },
   {
    "duration": 350,
    "start_time": "2021-07-31T14:48:58.834Z"
   },
   {
    "duration": 184,
    "start_time": "2021-07-31T14:53:00.329Z"
   },
   {
    "duration": 195,
    "start_time": "2021-07-31T14:53:34.423Z"
   },
   {
    "duration": 11,
    "start_time": "2021-07-31T14:53:52.315Z"
   },
   {
    "duration": 5,
    "start_time": "2021-07-31T14:54:54.631Z"
   },
   {
    "duration": 43,
    "start_time": "2021-07-31T14:57:03.979Z"
   },
   {
    "duration": 7,
    "start_time": "2021-07-31T14:57:37.188Z"
   },
   {
    "duration": 120,
    "start_time": "2021-07-31T14:59:15.971Z"
   },
   {
    "duration": 13,
    "start_time": "2021-07-31T14:59:24.556Z"
   },
   {
    "duration": 366,
    "start_time": "2021-07-31T14:59:47.767Z"
   },
   {
    "duration": 4,
    "start_time": "2021-07-31T15:01:07.275Z"
   },
   {
    "duration": 413,
    "start_time": "2021-07-31T15:01:17.559Z"
   },
   {
    "duration": 516,
    "start_time": "2021-07-31T15:03:01.000Z"
   },
   {
    "duration": 205,
    "start_time": "2021-07-31T15:04:41.259Z"
   },
   {
    "duration": 220,
    "start_time": "2021-07-31T15:04:46.420Z"
   },
   {
    "duration": 5,
    "start_time": "2021-07-31T15:05:01.062Z"
   },
   {
    "duration": 352,
    "start_time": "2021-07-31T15:06:07.451Z"
   },
   {
    "duration": 30,
    "start_time": "2021-07-31T15:06:30.257Z"
   },
   {
    "duration": -1195,
    "start_time": "2021-08-01T13:45:19.205Z"
   },
   {
    "duration": 4,
    "start_time": "2021-08-01T13:45:58.373Z"
   },
   {
    "duration": 6718,
    "start_time": "2021-08-01T13:46:02.167Z"
   },
   {
    "duration": -1196,
    "start_time": "2021-08-01T13:47:15.650Z"
   },
   {
    "duration": 14162,
    "start_time": "2021-08-01T13:47:27.222Z"
   },
   {
    "duration": -1200,
    "start_time": "2021-08-01T13:47:42.587Z"
   },
   {
    "duration": 28998,
    "start_time": "2021-08-01T13:48:10.342Z"
   },
   {
    "duration": 9250,
    "start_time": "2021-08-01T13:53:31.070Z"
   },
   {
    "duration": 6692,
    "start_time": "2021-08-01T13:54:02.157Z"
   },
   {
    "duration": 201,
    "start_time": "2021-08-01T13:54:56.781Z"
   },
   {
    "duration": 266,
    "start_time": "2021-08-01T13:55:43.954Z"
   },
   {
    "duration": 236,
    "start_time": "2021-08-01T13:59:01.650Z"
   },
   {
    "duration": 218,
    "start_time": "2021-08-01T14:04:14.306Z"
   },
   {
    "duration": 216,
    "start_time": "2021-08-01T14:06:06.106Z"
   },
   {
    "duration": 6,
    "start_time": "2021-08-01T14:07:09.937Z"
   },
   {
    "duration": 181,
    "start_time": "2021-08-01T14:07:16.888Z"
   },
   {
    "duration": 271,
    "start_time": "2021-08-01T14:07:24.346Z"
   },
   {
    "duration": 8192,
    "start_time": "2021-08-01T14:07:55.107Z"
   },
   {
    "duration": 32,
    "start_time": "2021-08-01T14:08:27.126Z"
   },
   {
    "duration": 196,
    "start_time": "2021-08-01T14:08:31.055Z"
   },
   {
    "duration": 30,
    "start_time": "2021-08-01T14:08:50.109Z"
   },
   {
    "duration": 198,
    "start_time": "2021-08-01T14:09:12.082Z"
   },
   {
    "duration": 197,
    "start_time": "2021-08-01T14:10:53.784Z"
   },
   {
    "duration": 4,
    "start_time": "2021-08-01T14:10:57.167Z"
   },
   {
    "duration": 31,
    "start_time": "2021-08-01T14:11:01.514Z"
   },
   {
    "duration": 6843,
    "start_time": "2021-08-01T14:11:08.759Z"
   },
   {
    "duration": 7186,
    "start_time": "2021-08-01T14:11:17.400Z"
   },
   {
    "duration": 7621,
    "start_time": "2021-08-01T14:11:34.234Z"
   },
   {
    "duration": 32,
    "start_time": "2021-08-01T14:11:54.177Z"
   },
   {
    "duration": 181,
    "start_time": "2021-08-01T14:12:11.169Z"
   },
   {
    "duration": 5,
    "start_time": "2021-08-01T14:12:14.688Z"
   },
   {
    "duration": 29,
    "start_time": "2021-08-01T14:12:17.439Z"
   },
   {
    "duration": 6591,
    "start_time": "2021-08-01T14:12:24.423Z"
   },
   {
    "duration": 28,
    "start_time": "2021-08-01T14:14:54.202Z"
   },
   {
    "duration": 30,
    "start_time": "2021-08-01T14:15:00.531Z"
   },
   {
    "duration": 5,
    "start_time": "2021-08-01T14:15:04.586Z"
   },
   {
    "duration": 180,
    "start_time": "2021-08-01T14:15:07.803Z"
   },
   {
    "duration": 4,
    "start_time": "2021-08-01T14:15:10.547Z"
   },
   {
    "duration": 33,
    "start_time": "2021-08-01T14:15:13.147Z"
   },
   {
    "duration": 7249,
    "start_time": "2021-08-01T14:15:17.028Z"
   },
   {
    "duration": 173,
    "start_time": "2021-08-01T14:17:14.323Z"
   },
   {
    "duration": 4,
    "start_time": "2021-08-01T14:17:18.044Z"
   },
   {
    "duration": 42,
    "start_time": "2021-08-01T14:17:22.390Z"
   },
   {
    "duration": 6988,
    "start_time": "2021-08-01T14:18:59.339Z"
   },
   {
    "duration": 14,
    "start_time": "2021-08-01T14:19:22.882Z"
   },
   {
    "duration": 10,
    "start_time": "2021-08-01T14:19:58.964Z"
   },
   {
    "duration": 32,
    "start_time": "2021-08-01T14:42:19.731Z"
   },
   {
    "duration": 33,
    "start_time": "2021-08-01T14:43:06.496Z"
   },
   {
    "duration": 23,
    "start_time": "2021-08-01T14:43:13.191Z"
   },
   {
    "duration": 37,
    "start_time": "2021-08-01T14:43:19.854Z"
   },
   {
    "duration": 30,
    "start_time": "2021-08-01T14:44:08.504Z"
   },
   {
    "duration": 85,
    "start_time": "2021-08-01T14:44:49.067Z"
   },
   {
    "duration": 90,
    "start_time": "2021-08-01T14:45:26.548Z"
   },
   {
    "duration": 89,
    "start_time": "2021-08-01T14:45:46.588Z"
   },
   {
    "duration": 77,
    "start_time": "2021-08-01T14:45:56.168Z"
   },
   {
    "duration": 7,
    "start_time": "2021-08-01T14:52:29.992Z"
   },
   {
    "duration": 90,
    "start_time": "2021-08-01T14:55:33.490Z"
   },
   {
    "duration": 5,
    "start_time": "2021-08-01T14:55:44.602Z"
   },
   {
    "duration": 6,
    "start_time": "2021-08-01T14:56:18.823Z"
   },
   {
    "duration": 271,
    "start_time": "2021-08-01T14:56:52.911Z"
   },
   {
    "duration": 295,
    "start_time": "2021-08-01T14:57:33.369Z"
   },
   {
    "duration": 272,
    "start_time": "2021-08-01T14:58:41.894Z"
   },
   {
    "duration": 93,
    "start_time": "2021-08-01T14:59:15.381Z"
   },
   {
    "duration": 4,
    "start_time": "2021-08-01T14:59:29.891Z"
   },
   {
    "duration": 369,
    "start_time": "2021-08-01T15:02:01.833Z"
   },
   {
    "duration": 5,
    "start_time": "2021-08-01T15:02:50.896Z"
   },
   {
    "duration": 566,
    "start_time": "2021-08-01T15:03:02.039Z"
   },
   {
    "duration": 4,
    "start_time": "2021-08-01T15:04:16.731Z"
   },
   {
    "duration": 13,
    "start_time": "2021-08-01T15:04:22.306Z"
   },
   {
    "duration": 6,
    "start_time": "2021-08-01T15:04:26.690Z"
   },
   {
    "duration": 5,
    "start_time": "2021-08-01T15:04:52.174Z"
   },
   {
    "duration": 107,
    "start_time": "2021-08-01T15:30:19.895Z"
   },
   {
    "duration": 5,
    "start_time": "2021-08-01T15:30:37.494Z"
   },
   {
    "duration": 5,
    "start_time": "2021-08-01T15:31:41.463Z"
   },
   {
    "duration": 797,
    "start_time": "2021-08-01T15:32:43.614Z"
   },
   {
    "duration": 5,
    "start_time": "2021-08-01T15:34:36.261Z"
   },
   {
    "duration": 800,
    "start_time": "2021-08-01T15:34:38.877Z"
   },
   {
    "duration": 5,
    "start_time": "2021-08-01T15:34:52.878Z"
   },
   {
    "duration": 5,
    "start_time": "2021-08-01T15:34:56.421Z"
   },
   {
    "duration": 32,
    "start_time": "2021-08-01T15:36:34.642Z"
   },
   {
    "duration": 5,
    "start_time": "2021-08-01T15:38:49.810Z"
   },
   {
    "duration": 14,
    "start_time": "2021-08-01T15:38:52.498Z"
   },
   {
    "duration": 31,
    "start_time": "2021-08-01T15:39:04.815Z"
   },
   {
    "duration": 11,
    "start_time": "2021-08-01T15:41:52.663Z"
   },
   {
    "duration": 284,
    "start_time": "2021-08-01T15:43:02.968Z"
   },
   {
    "duration": 33,
    "start_time": "2021-08-01T15:43:15.770Z"
   },
   {
    "duration": 7,
    "start_time": "2021-08-01T15:43:28.760Z"
   },
   {
    "duration": 5,
    "start_time": "2021-08-01T15:43:32.672Z"
   },
   {
    "duration": 6,
    "start_time": "2021-08-01T15:43:35.071Z"
   },
   {
    "duration": 5,
    "start_time": "2021-08-01T15:43:39.120Z"
   },
   {
    "duration": 18,
    "start_time": "2021-08-01T15:57:41.688Z"
   },
   {
    "duration": 14,
    "start_time": "2021-08-01T15:58:26.766Z"
   },
   {
    "duration": 14,
    "start_time": "2021-08-01T15:59:08.899Z"
   },
   {
    "duration": 285,
    "start_time": "2021-08-01T16:00:45.417Z"
   },
   {
    "duration": 260,
    "start_time": "2021-08-01T16:01:23.660Z"
   },
   {
    "duration": 261,
    "start_time": "2021-08-01T16:01:43.727Z"
   },
   {
    "duration": 5,
    "start_time": "2021-08-01T16:01:44.899Z"
   },
   {
    "duration": 31,
    "start_time": "2021-08-01T16:01:45.813Z"
   },
   {
    "duration": 12,
    "start_time": "2021-08-01T16:01:46.785Z"
   },
   {
    "duration": 14,
    "start_time": "2021-08-01T16:01:46.944Z"
   },
   {
    "duration": 30,
    "start_time": "2021-08-01T16:01:47.114Z"
   },
   {
    "duration": 21,
    "start_time": "2021-08-01T16:01:47.579Z"
   },
   {
    "duration": 31,
    "start_time": "2021-08-01T16:01:47.766Z"
   },
   {
    "duration": 81,
    "start_time": "2021-08-01T16:01:48.138Z"
   },
   {
    "duration": 85,
    "start_time": "2021-08-01T16:01:50.640Z"
   },
   {
    "duration": 78,
    "start_time": "2021-08-01T16:01:50.887Z"
   },
   {
    "duration": 8,
    "start_time": "2021-08-01T16:01:51.959Z"
   },
   {
    "duration": 4,
    "start_time": "2021-08-01T16:01:52.416Z"
   },
   {
    "duration": 5,
    "start_time": "2021-08-01T16:01:54.882Z"
   },
   {
    "duration": 5,
    "start_time": "2021-08-01T16:01:55.342Z"
   },
   {
    "duration": 6,
    "start_time": "2021-08-01T16:01:55.760Z"
   },
   {
    "duration": 5,
    "start_time": "2021-08-01T16:01:56.436Z"
   },
   {
    "duration": 16,
    "start_time": "2021-08-01T16:01:56.812Z"
   },
   {
    "duration": 32,
    "start_time": "2021-08-01T16:02:00.500Z"
   },
   {
    "duration": 14,
    "start_time": "2021-08-01T16:02:06.253Z"
   },
   {
    "duration": 13,
    "start_time": "2021-08-01T16:02:10.317Z"
   },
   {
    "duration": 4,
    "start_time": "2021-08-01T16:21:35.274Z"
   },
   {
    "duration": 278,
    "start_time": "2021-08-01T16:27:30.234Z"
   },
   {
    "duration": 265,
    "start_time": "2021-08-01T16:27:52.440Z"
   },
   {
    "duration": -1928,
    "start_time": "2021-08-01T16:28:50.069Z"
   },
   {
    "duration": 354,
    "start_time": "2021-08-01T16:41:44.164Z"
   },
   {
    "duration": 273,
    "start_time": "2021-08-01T16:42:10.063Z"
   },
   {
    "duration": 279,
    "start_time": "2021-08-01T16:42:26.854Z"
   },
   {
    "duration": 380,
    "start_time": "2021-08-01T16:42:48.255Z"
   },
   {
    "duration": 273,
    "start_time": "2021-08-01T16:43:24.045Z"
   },
   {
    "duration": 260,
    "start_time": "2021-08-01T16:43:25.206Z"
   },
   {
    "duration": 4,
    "start_time": "2021-08-01T16:43:37.745Z"
   },
   {
    "duration": 260,
    "start_time": "2021-08-01T16:43:38.933Z"
   },
   {
    "duration": 268,
    "start_time": "2021-08-01T16:43:39.774Z"
   },
   {
    "duration": 259,
    "start_time": "2021-08-01T16:43:40.815Z"
   },
   {
    "duration": 263,
    "start_time": "2021-08-01T16:43:41.442Z"
   },
   {
    "duration": 332,
    "start_time": "2021-08-01T16:44:29.551Z"
   },
   {
    "duration": 364,
    "start_time": "2021-08-01T16:44:31.132Z"
   },
   {
    "duration": 109,
    "start_time": "2021-08-01T16:44:59.899Z"
   },
   {
    "duration": 5,
    "start_time": "2021-08-01T16:45:33.130Z"
   },
   {
    "duration": 287,
    "start_time": "2021-08-01T16:45:35.813Z"
   },
   {
    "duration": 5,
    "start_time": "2021-08-01T16:48:59.233Z"
   },
   {
    "duration": 283,
    "start_time": "2021-08-01T16:49:03.082Z"
   },
   {
    "duration": 406,
    "start_time": "2021-08-01T16:49:57.551Z"
   },
   {
    "duration": 274,
    "start_time": "2021-08-01T16:50:12.545Z"
   },
   {
    "duration": 257,
    "start_time": "2021-08-01T16:50:19.627Z"
   },
   {
    "duration": 320,
    "start_time": "2021-08-01T16:50:26.413Z"
   },
   {
    "duration": 777,
    "start_time": "2021-08-01T16:51:13.962Z"
   },
   {
    "duration": 218,
    "start_time": "2021-08-01T16:51:16.611Z"
   },
   {
    "duration": 10,
    "start_time": "2021-08-01T16:51:18.467Z"
   },
   {
    "duration": 4,
    "start_time": "2021-08-01T16:51:28.245Z"
   },
   {
    "duration": 7544,
    "start_time": "2021-08-01T16:51:29.499Z"
   },
   {
    "duration": -1360,
    "start_time": "2021-08-01T16:51:38.406Z"
   },
   {
    "duration": -1360,
    "start_time": "2021-08-01T16:51:38.408Z"
   },
   {
    "duration": -1361,
    "start_time": "2021-08-01T16:51:38.410Z"
   },
   {
    "duration": -1515,
    "start_time": "2021-08-01T16:51:38.566Z"
   },
   {
    "duration": 4,
    "start_time": "2021-08-01T16:51:55.294Z"
   },
   {
    "duration": 193,
    "start_time": "2021-08-01T16:52:00.218Z"
   },
   {
    "duration": 10,
    "start_time": "2021-08-01T16:52:02.927Z"
   },
   {
    "duration": 45,
    "start_time": "2021-08-01T16:52:10.742Z"
   },
   {
    "duration": 4,
    "start_time": "2021-08-01T16:52:25.138Z"
   },
   {
    "duration": 208,
    "start_time": "2021-08-01T16:52:39.480Z"
   },
   {
    "duration": 4,
    "start_time": "2021-08-01T16:52:40.510Z"
   },
   {
    "duration": 31,
    "start_time": "2021-08-01T16:52:44.075Z"
   },
   {
    "duration": 11,
    "start_time": "2021-08-01T16:52:47.244Z"
   },
   {
    "duration": 10,
    "start_time": "2021-08-01T16:52:48.826Z"
   },
   {
    "duration": 31,
    "start_time": "2021-08-01T16:52:52.963Z"
   },
   {
    "duration": 24,
    "start_time": "2021-08-01T16:53:02.211Z"
   },
   {
    "duration": 34,
    "start_time": "2021-08-01T16:53:03.011Z"
   },
   {
    "duration": 86,
    "start_time": "2021-08-01T16:53:05.611Z"
   },
   {
    "duration": 107,
    "start_time": "2021-08-01T16:53:09.225Z"
   },
   {
    "duration": 84,
    "start_time": "2021-08-01T16:53:10.842Z"
   },
   {
    "duration": 7,
    "start_time": "2021-08-01T16:53:13.727Z"
   },
   {
    "duration": 4,
    "start_time": "2021-08-01T16:53:15.214Z"
   },
   {
    "duration": 13,
    "start_time": "2021-08-01T16:53:20.427Z"
   },
   {
    "duration": 6,
    "start_time": "2021-08-01T16:53:22.466Z"
   },
   {
    "duration": 7,
    "start_time": "2021-08-01T16:53:24.059Z"
   },
   {
    "duration": 5,
    "start_time": "2021-08-01T16:53:26.487Z"
   },
   {
    "duration": 18,
    "start_time": "2021-08-01T16:53:29.538Z"
   },
   {
    "duration": 32,
    "start_time": "2021-08-01T16:53:31.669Z"
   },
   {
    "duration": 12,
    "start_time": "2021-08-01T16:53:41.769Z"
   },
   {
    "duration": 15,
    "start_time": "2021-08-01T16:53:45.486Z"
   },
   {
    "duration": 4,
    "start_time": "2021-08-01T16:53:49.541Z"
   },
   {
    "duration": 5,
    "start_time": "2021-08-01T16:59:22.101Z"
   },
   {
    "duration": 328,
    "start_time": "2021-08-01T16:59:50.479Z"
   },
   {
    "duration": 262,
    "start_time": "2021-08-01T17:01:15.779Z"
   },
   {
    "duration": 265,
    "start_time": "2021-08-01T17:02:39.719Z"
   },
   {
    "duration": 319,
    "start_time": "2021-08-01T17:03:03.659Z"
   },
   {
    "duration": 929,
    "start_time": "2021-08-01T17:04:27.606Z"
   },
   {
    "duration": 5,
    "start_time": "2021-08-01T17:04:28.876Z"
   },
   {
    "duration": 29,
    "start_time": "2021-08-01T17:04:31.762Z"
   },
   {
    "duration": 11,
    "start_time": "2021-08-01T17:04:40.764Z"
   },
   {
    "duration": 12,
    "start_time": "2021-08-01T17:04:41.732Z"
   },
   {
    "duration": 31,
    "start_time": "2021-08-01T17:04:43.002Z"
   },
   {
    "duration": 17,
    "start_time": "2021-08-01T17:08:16.710Z"
   },
   {
    "duration": 24,
    "start_time": "2021-08-01T17:14:58.407Z"
   },
   {
    "duration": 7,
    "start_time": "2021-08-01T17:19:33.713Z"
   },
   {
    "duration": 300,
    "start_time": "2021-08-01T17:26:21.059Z"
   },
   {
    "duration": 265,
    "start_time": "2021-08-01T17:27:05.800Z"
   },
   {
    "duration": 5,
    "start_time": "2021-08-01T18:41:13.890Z"
   },
   {
    "duration": 679,
    "start_time": "2021-08-02T18:09:44.603Z"
   },
   {
    "duration": 185,
    "start_time": "2021-08-02T18:09:48.025Z"
   },
   {
    "duration": 10,
    "start_time": "2021-08-02T18:09:55.763Z"
   },
   {
    "duration": 58,
    "start_time": "2021-08-02T18:09:59.760Z"
   },
   {
    "duration": 5,
    "start_time": "2021-08-02T18:10:07.778Z"
   },
   {
    "duration": 191,
    "start_time": "2021-08-02T18:10:13.669Z"
   },
   {
    "duration": 4,
    "start_time": "2021-08-02T18:10:15.040Z"
   },
   {
    "duration": 28,
    "start_time": "2021-08-02T18:10:16.941Z"
   },
   {
    "duration": 11,
    "start_time": "2021-08-02T18:10:19.276Z"
   },
   {
    "duration": 11,
    "start_time": "2021-08-02T18:10:22.905Z"
   },
   {
    "duration": 28,
    "start_time": "2021-08-02T18:10:23.452Z"
   },
   {
    "duration": 23,
    "start_time": "2021-08-02T18:10:27.058Z"
   },
   {
    "duration": 40,
    "start_time": "2021-08-02T18:10:30.725Z"
   },
   {
    "duration": 83,
    "start_time": "2021-08-02T18:10:33.528Z"
   },
   {
    "duration": 115,
    "start_time": "2021-08-02T18:10:35.054Z"
   },
   {
    "duration": 78,
    "start_time": "2021-08-02T18:10:36.046Z"
   },
   {
    "duration": 7,
    "start_time": "2021-08-02T18:10:40.395Z"
   },
   {
    "duration": 4,
    "start_time": "2021-08-02T18:10:43.813Z"
   },
   {
    "duration": 5,
    "start_time": "2021-08-02T18:10:48.368Z"
   },
   {
    "duration": 5,
    "start_time": "2021-08-02T18:11:20.950Z"
   },
   {
    "duration": 5,
    "start_time": "2021-08-02T18:11:22.394Z"
   },
   {
    "duration": 6,
    "start_time": "2021-08-02T18:11:24.913Z"
   },
   {
    "duration": 14,
    "start_time": "2021-08-02T18:11:27.090Z"
   },
   {
    "duration": 33,
    "start_time": "2021-08-02T18:11:29.158Z"
   },
   {
    "duration": 13,
    "start_time": "2021-08-02T18:11:35.760Z"
   },
   {
    "duration": 13,
    "start_time": "2021-08-02T18:11:39.847Z"
   },
   {
    "duration": 5,
    "start_time": "2021-08-02T18:11:42.123Z"
   },
   {
    "duration": 22,
    "start_time": "2021-08-02T18:11:43.290Z"
   },
   {
    "duration": 19,
    "start_time": "2021-08-02T18:11:44.509Z"
   },
   {
    "duration": 21,
    "start_time": "2021-08-02T18:11:45.137Z"
   },
   {
    "duration": 24,
    "start_time": "2021-08-02T18:11:46.845Z"
   },
   {
    "duration": 21,
    "start_time": "2021-08-02T18:11:47.595Z"
   },
   {
    "duration": 19,
    "start_time": "2021-08-02T18:11:50.380Z"
   },
   {
    "duration": 6,
    "start_time": "2021-08-02T18:11:52.859Z"
   },
   {
    "duration": 15,
    "start_time": "2021-08-02T18:11:57.653Z"
   },
   {
    "duration": 12,
    "start_time": "2021-08-02T18:12:06.509Z"
   },
   {
    "duration": 5,
    "start_time": "2021-08-02T18:12:09.441Z"
   },
   {
    "duration": 23,
    "start_time": "2021-08-02T18:12:15.307Z"
   },
   {
    "duration": 18,
    "start_time": "2021-08-02T18:12:18.779Z"
   },
   {
    "duration": 23,
    "start_time": "2021-08-02T18:12:19.685Z"
   },
   {
    "duration": 17,
    "start_time": "2021-08-02T18:12:22.767Z"
   },
   {
    "duration": 12,
    "start_time": "2021-08-02T18:12:28.624Z"
   },
   {
    "duration": 7,
    "start_time": "2021-08-02T18:12:29.725Z"
   },
   {
    "duration": 8,
    "start_time": "2021-08-02T18:12:31.978Z"
   },
   {
    "duration": 6,
    "start_time": "2021-08-02T18:12:33.145Z"
   },
   {
    "duration": 668,
    "start_time": "2021-08-29T17:14:11.404Z"
   },
   {
    "duration": 175,
    "start_time": "2021-08-29T17:14:12.110Z"
   },
   {
    "duration": 11,
    "start_time": "2021-08-29T17:14:12.802Z"
   },
   {
    "duration": 36,
    "start_time": "2021-08-29T17:14:14.069Z"
   },
   {
    "duration": 5,
    "start_time": "2021-08-29T17:14:16.363Z"
   },
   {
    "duration": 180,
    "start_time": "2021-08-29T17:14:17.090Z"
   },
   {
    "duration": 4,
    "start_time": "2021-08-29T17:14:17.273Z"
   },
   {
    "duration": 59,
    "start_time": "2021-08-29T17:14:17.669Z"
   },
   {
    "duration": 11,
    "start_time": "2021-08-29T17:14:22.252Z"
   },
   {
    "duration": 12,
    "start_time": "2021-08-29T17:14:23.758Z"
   },
   {
    "duration": 29,
    "start_time": "2021-08-29T17:14:24.532Z"
   },
   {
    "duration": 25,
    "start_time": "2021-08-29T17:14:25.782Z"
   },
   {
    "duration": 36,
    "start_time": "2021-08-29T17:14:26.220Z"
   },
   {
    "duration": 88,
    "start_time": "2021-08-29T17:14:37.846Z"
   },
   {
    "duration": 104,
    "start_time": "2021-08-29T17:14:38.481Z"
   },
   {
    "duration": 79,
    "start_time": "2021-08-29T17:14:38.738Z"
   },
   {
    "duration": 7,
    "start_time": "2021-08-29T17:14:41.549Z"
   },
   {
    "duration": 4,
    "start_time": "2021-08-29T17:14:41.747Z"
   },
   {
    "duration": 5,
    "start_time": "2021-08-29T17:14:42.122Z"
   },
   {
    "duration": 5,
    "start_time": "2021-08-29T17:14:44.814Z"
   },
   {
    "duration": 6,
    "start_time": "2021-08-29T17:14:45.122Z"
   },
   {
    "duration": 5,
    "start_time": "2021-08-29T17:14:45.733Z"
   },
   {
    "duration": 14,
    "start_time": "2021-08-29T17:14:46.076Z"
   },
   {
    "duration": 33,
    "start_time": "2021-08-29T17:14:48.644Z"
   },
   {
    "duration": 13,
    "start_time": "2021-08-29T17:14:51.673Z"
   },
   {
    "duration": 12,
    "start_time": "2021-08-29T17:14:52.596Z"
   },
   {
    "duration": 5,
    "start_time": "2021-08-29T17:14:53.215Z"
   },
   {
    "duration": 22,
    "start_time": "2021-08-29T17:14:53.465Z"
   },
   {
    "duration": 19,
    "start_time": "2021-08-29T17:14:55.462Z"
   },
   {
    "duration": 21,
    "start_time": "2021-08-29T17:14:55.652Z"
   },
   {
    "duration": 20,
    "start_time": "2021-08-29T17:14:55.831Z"
   },
   {
    "duration": 20,
    "start_time": "2021-08-29T17:14:56.041Z"
   },
   {
    "duration": 18,
    "start_time": "2021-08-29T17:14:56.351Z"
   },
   {
    "duration": 6,
    "start_time": "2021-08-29T17:14:56.968Z"
   },
   {
    "duration": 14,
    "start_time": "2021-08-29T17:14:58.905Z"
   },
   {
    "duration": 12,
    "start_time": "2021-08-29T17:14:59.265Z"
   },
   {
    "duration": 5,
    "start_time": "2021-08-29T17:14:59.827Z"
   },
   {
    "duration": 26,
    "start_time": "2021-08-29T17:15:01.944Z"
   },
   {
    "duration": 19,
    "start_time": "2021-08-29T17:15:02.161Z"
   },
   {
    "duration": 25,
    "start_time": "2021-08-29T17:15:02.606Z"
   },
   {
    "duration": 21,
    "start_time": "2021-08-29T17:15:02.944Z"
   },
   {
    "duration": 11,
    "start_time": "2021-08-29T17:15:06.594Z"
   },
   {
    "duration": 7,
    "start_time": "2021-08-29T17:15:07.054Z"
   },
   {
    "duration": 16,
    "start_time": "2021-08-29T17:15:07.557Z"
   },
   {
    "duration": 7,
    "start_time": "2021-08-29T17:15:07.757Z"
   }
  ],
  "kernelspec": {
   "display_name": "Python 3",
   "language": "python",
   "name": "python3"
  },
  "language_info": {
   "codemirror_mode": {
    "name": "ipython",
    "version": 3
   },
   "file_extension": ".py",
   "mimetype": "text/x-python",
   "name": "python",
   "nbconvert_exporter": "python",
   "pygments_lexer": "ipython3",
   "version": "3.7.8"
  },
  "toc": {
   "base_numbering": 1,
   "nav_menu": {},
   "number_sections": true,
   "sideBar": true,
   "skip_h1_title": true,
   "title_cell": "Table of Contents",
   "title_sidebar": "Contents",
   "toc_cell": false,
   "toc_position": {},
   "toc_section_display": true,
   "toc_window_display": false
  }
 },
 "nbformat": 4,
 "nbformat_minor": 1
}
