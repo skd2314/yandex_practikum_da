{
 "cells": [
  {
   "cell_type": "markdown",
   "source": [
    "# Исследование надёжности заёмщиков\n",
    "\n",
    "Заказчик — кредитный отдел банка. Нужно разобраться, влияет ли семейное положение и количество детей клиента на факт погашения кредита в срок. Входные данные от банка — статистика о платёжеспособности клиентов.\n",
    "\n",
    "Результаты исследования будут учтены при построении модели **кредитного скоринга** — специальной системы, которая оценивает способность потенциального заёмщика вернуть кредит банку."
   ],
   "metadata": {}
  },
  {
   "cell_type": "markdown",
   "source": [
    "## Шаг 1. Откройте файл с данными и изучите общую информацию"
   ],
   "metadata": {}
  },
  {
   "cell_type": "code",
   "execution_count": 328,
   "source": [
    "import pandas as pd\r\n",
    "import numpy as np\r\n",
    "import matplotlib as mplt\r\n",
    "\r\n",
    "import matplotlib.pyplot as plt\r\n",
    "import seaborn as sns\r\n",
    "\r\n",
    "from pymystem3 import Mystem\r\n",
    "from collections import Counter\r\n",
    "#df = pd.read_csv('/datasets/data.csv')\r\n",
    "df = pd.read_csv(r'C:\\Users\\skd23\\Dropbox\\git\\yandex_practikum_da\\1_borrower_reliability_research/data.csv')\r\n",
    "df.info()\r\n",
    "df.head(20)"
   ],
   "outputs": [
    {
     "output_type": "stream",
     "name": "stdout",
     "text": [
      "<class 'pandas.core.frame.DataFrame'>\n",
      "RangeIndex: 21525 entries, 0 to 21524\n",
      "Data columns (total 12 columns):\n",
      " #   Column            Non-Null Count  Dtype  \n",
      "---  ------            --------------  -----  \n",
      " 0   children          21525 non-null  int64  \n",
      " 1   days_employed     19351 non-null  float64\n",
      " 2   dob_years         21525 non-null  int64  \n",
      " 3   education         21525 non-null  object \n",
      " 4   education_id      21525 non-null  int64  \n",
      " 5   family_status     21525 non-null  object \n",
      " 6   family_status_id  21525 non-null  int64  \n",
      " 7   gender            21525 non-null  object \n",
      " 8   income_type       21525 non-null  object \n",
      " 9   debt              21525 non-null  int64  \n",
      " 10  total_income      19351 non-null  float64\n",
      " 11  purpose           21525 non-null  object \n",
      "dtypes: float64(2), int64(5), object(5)\n",
      "memory usage: 2.0+ MB\n"
     ]
    },
    {
     "output_type": "execute_result",
     "data": {
      "text/html": [
       "<div>\n",
       "<style scoped>\n",
       "    .dataframe tbody tr th:only-of-type {\n",
       "        vertical-align: middle;\n",
       "    }\n",
       "\n",
       "    .dataframe tbody tr th {\n",
       "        vertical-align: top;\n",
       "    }\n",
       "\n",
       "    .dataframe thead th {\n",
       "        text-align: right;\n",
       "    }\n",
       "</style>\n",
       "<table border=\"1\" class=\"dataframe\">\n",
       "  <thead>\n",
       "    <tr style=\"text-align: right;\">\n",
       "      <th></th>\n",
       "      <th>children</th>\n",
       "      <th>days_employed</th>\n",
       "      <th>dob_years</th>\n",
       "      <th>education</th>\n",
       "      <th>education_id</th>\n",
       "      <th>family_status</th>\n",
       "      <th>family_status_id</th>\n",
       "      <th>gender</th>\n",
       "      <th>income_type</th>\n",
       "      <th>debt</th>\n",
       "      <th>total_income</th>\n",
       "      <th>purpose</th>\n",
       "    </tr>\n",
       "  </thead>\n",
       "  <tbody>\n",
       "    <tr>\n",
       "      <th>0</th>\n",
       "      <td>1</td>\n",
       "      <td>-8437.673028</td>\n",
       "      <td>42</td>\n",
       "      <td>высшее</td>\n",
       "      <td>0</td>\n",
       "      <td>женат / замужем</td>\n",
       "      <td>0</td>\n",
       "      <td>F</td>\n",
       "      <td>сотрудник</td>\n",
       "      <td>0</td>\n",
       "      <td>253875.639453</td>\n",
       "      <td>покупка жилья</td>\n",
       "    </tr>\n",
       "    <tr>\n",
       "      <th>1</th>\n",
       "      <td>1</td>\n",
       "      <td>-4024.803754</td>\n",
       "      <td>36</td>\n",
       "      <td>среднее</td>\n",
       "      <td>1</td>\n",
       "      <td>женат / замужем</td>\n",
       "      <td>0</td>\n",
       "      <td>F</td>\n",
       "      <td>сотрудник</td>\n",
       "      <td>0</td>\n",
       "      <td>112080.014102</td>\n",
       "      <td>приобретение автомобиля</td>\n",
       "    </tr>\n",
       "    <tr>\n",
       "      <th>2</th>\n",
       "      <td>0</td>\n",
       "      <td>-5623.422610</td>\n",
       "      <td>33</td>\n",
       "      <td>Среднее</td>\n",
       "      <td>1</td>\n",
       "      <td>женат / замужем</td>\n",
       "      <td>0</td>\n",
       "      <td>M</td>\n",
       "      <td>сотрудник</td>\n",
       "      <td>0</td>\n",
       "      <td>145885.952297</td>\n",
       "      <td>покупка жилья</td>\n",
       "    </tr>\n",
       "    <tr>\n",
       "      <th>3</th>\n",
       "      <td>3</td>\n",
       "      <td>-4124.747207</td>\n",
       "      <td>32</td>\n",
       "      <td>среднее</td>\n",
       "      <td>1</td>\n",
       "      <td>женат / замужем</td>\n",
       "      <td>0</td>\n",
       "      <td>M</td>\n",
       "      <td>сотрудник</td>\n",
       "      <td>0</td>\n",
       "      <td>267628.550329</td>\n",
       "      <td>дополнительное образование</td>\n",
       "    </tr>\n",
       "    <tr>\n",
       "      <th>4</th>\n",
       "      <td>0</td>\n",
       "      <td>340266.072047</td>\n",
       "      <td>53</td>\n",
       "      <td>среднее</td>\n",
       "      <td>1</td>\n",
       "      <td>гражданский брак</td>\n",
       "      <td>1</td>\n",
       "      <td>F</td>\n",
       "      <td>пенсионер</td>\n",
       "      <td>0</td>\n",
       "      <td>158616.077870</td>\n",
       "      <td>сыграть свадьбу</td>\n",
       "    </tr>\n",
       "    <tr>\n",
       "      <th>5</th>\n",
       "      <td>0</td>\n",
       "      <td>-926.185831</td>\n",
       "      <td>27</td>\n",
       "      <td>высшее</td>\n",
       "      <td>0</td>\n",
       "      <td>гражданский брак</td>\n",
       "      <td>1</td>\n",
       "      <td>M</td>\n",
       "      <td>компаньон</td>\n",
       "      <td>0</td>\n",
       "      <td>255763.565419</td>\n",
       "      <td>покупка жилья</td>\n",
       "    </tr>\n",
       "    <tr>\n",
       "      <th>6</th>\n",
       "      <td>0</td>\n",
       "      <td>-2879.202052</td>\n",
       "      <td>43</td>\n",
       "      <td>высшее</td>\n",
       "      <td>0</td>\n",
       "      <td>женат / замужем</td>\n",
       "      <td>0</td>\n",
       "      <td>F</td>\n",
       "      <td>компаньон</td>\n",
       "      <td>0</td>\n",
       "      <td>240525.971920</td>\n",
       "      <td>операции с жильем</td>\n",
       "    </tr>\n",
       "    <tr>\n",
       "      <th>7</th>\n",
       "      <td>0</td>\n",
       "      <td>-152.779569</td>\n",
       "      <td>50</td>\n",
       "      <td>СРЕДНЕЕ</td>\n",
       "      <td>1</td>\n",
       "      <td>женат / замужем</td>\n",
       "      <td>0</td>\n",
       "      <td>M</td>\n",
       "      <td>сотрудник</td>\n",
       "      <td>0</td>\n",
       "      <td>135823.934197</td>\n",
       "      <td>образование</td>\n",
       "    </tr>\n",
       "    <tr>\n",
       "      <th>8</th>\n",
       "      <td>2</td>\n",
       "      <td>-6929.865299</td>\n",
       "      <td>35</td>\n",
       "      <td>ВЫСШЕЕ</td>\n",
       "      <td>0</td>\n",
       "      <td>гражданский брак</td>\n",
       "      <td>1</td>\n",
       "      <td>F</td>\n",
       "      <td>сотрудник</td>\n",
       "      <td>0</td>\n",
       "      <td>95856.832424</td>\n",
       "      <td>на проведение свадьбы</td>\n",
       "    </tr>\n",
       "    <tr>\n",
       "      <th>9</th>\n",
       "      <td>0</td>\n",
       "      <td>-2188.756445</td>\n",
       "      <td>41</td>\n",
       "      <td>среднее</td>\n",
       "      <td>1</td>\n",
       "      <td>женат / замужем</td>\n",
       "      <td>0</td>\n",
       "      <td>M</td>\n",
       "      <td>сотрудник</td>\n",
       "      <td>0</td>\n",
       "      <td>144425.938277</td>\n",
       "      <td>покупка жилья для семьи</td>\n",
       "    </tr>\n",
       "    <tr>\n",
       "      <th>10</th>\n",
       "      <td>2</td>\n",
       "      <td>-4171.483647</td>\n",
       "      <td>36</td>\n",
       "      <td>высшее</td>\n",
       "      <td>0</td>\n",
       "      <td>женат / замужем</td>\n",
       "      <td>0</td>\n",
       "      <td>M</td>\n",
       "      <td>компаньон</td>\n",
       "      <td>0</td>\n",
       "      <td>113943.491460</td>\n",
       "      <td>покупка недвижимости</td>\n",
       "    </tr>\n",
       "    <tr>\n",
       "      <th>11</th>\n",
       "      <td>0</td>\n",
       "      <td>-792.701887</td>\n",
       "      <td>40</td>\n",
       "      <td>среднее</td>\n",
       "      <td>1</td>\n",
       "      <td>женат / замужем</td>\n",
       "      <td>0</td>\n",
       "      <td>F</td>\n",
       "      <td>сотрудник</td>\n",
       "      <td>0</td>\n",
       "      <td>77069.234271</td>\n",
       "      <td>покупка коммерческой недвижимости</td>\n",
       "    </tr>\n",
       "    <tr>\n",
       "      <th>12</th>\n",
       "      <td>0</td>\n",
       "      <td>NaN</td>\n",
       "      <td>65</td>\n",
       "      <td>среднее</td>\n",
       "      <td>1</td>\n",
       "      <td>гражданский брак</td>\n",
       "      <td>1</td>\n",
       "      <td>M</td>\n",
       "      <td>пенсионер</td>\n",
       "      <td>0</td>\n",
       "      <td>NaN</td>\n",
       "      <td>сыграть свадьбу</td>\n",
       "    </tr>\n",
       "    <tr>\n",
       "      <th>13</th>\n",
       "      <td>0</td>\n",
       "      <td>-1846.641941</td>\n",
       "      <td>54</td>\n",
       "      <td>неоконченное высшее</td>\n",
       "      <td>2</td>\n",
       "      <td>женат / замужем</td>\n",
       "      <td>0</td>\n",
       "      <td>F</td>\n",
       "      <td>сотрудник</td>\n",
       "      <td>0</td>\n",
       "      <td>130458.228857</td>\n",
       "      <td>приобретение автомобиля</td>\n",
       "    </tr>\n",
       "    <tr>\n",
       "      <th>14</th>\n",
       "      <td>0</td>\n",
       "      <td>-1844.956182</td>\n",
       "      <td>56</td>\n",
       "      <td>высшее</td>\n",
       "      <td>0</td>\n",
       "      <td>гражданский брак</td>\n",
       "      <td>1</td>\n",
       "      <td>F</td>\n",
       "      <td>компаньон</td>\n",
       "      <td>1</td>\n",
       "      <td>165127.911772</td>\n",
       "      <td>покупка жилой недвижимости</td>\n",
       "    </tr>\n",
       "    <tr>\n",
       "      <th>15</th>\n",
       "      <td>1</td>\n",
       "      <td>-972.364419</td>\n",
       "      <td>26</td>\n",
       "      <td>среднее</td>\n",
       "      <td>1</td>\n",
       "      <td>женат / замужем</td>\n",
       "      <td>0</td>\n",
       "      <td>F</td>\n",
       "      <td>сотрудник</td>\n",
       "      <td>0</td>\n",
       "      <td>116820.904450</td>\n",
       "      <td>строительство собственной недвижимости</td>\n",
       "    </tr>\n",
       "    <tr>\n",
       "      <th>16</th>\n",
       "      <td>0</td>\n",
       "      <td>-1719.934226</td>\n",
       "      <td>35</td>\n",
       "      <td>среднее</td>\n",
       "      <td>1</td>\n",
       "      <td>женат / замужем</td>\n",
       "      <td>0</td>\n",
       "      <td>F</td>\n",
       "      <td>сотрудник</td>\n",
       "      <td>0</td>\n",
       "      <td>289202.704229</td>\n",
       "      <td>недвижимость</td>\n",
       "    </tr>\n",
       "    <tr>\n",
       "      <th>17</th>\n",
       "      <td>0</td>\n",
       "      <td>-2369.999720</td>\n",
       "      <td>33</td>\n",
       "      <td>высшее</td>\n",
       "      <td>0</td>\n",
       "      <td>гражданский брак</td>\n",
       "      <td>1</td>\n",
       "      <td>M</td>\n",
       "      <td>сотрудник</td>\n",
       "      <td>0</td>\n",
       "      <td>90410.586745</td>\n",
       "      <td>строительство недвижимости</td>\n",
       "    </tr>\n",
       "    <tr>\n",
       "      <th>18</th>\n",
       "      <td>0</td>\n",
       "      <td>400281.136913</td>\n",
       "      <td>53</td>\n",
       "      <td>среднее</td>\n",
       "      <td>1</td>\n",
       "      <td>вдовец / вдова</td>\n",
       "      <td>2</td>\n",
       "      <td>F</td>\n",
       "      <td>пенсионер</td>\n",
       "      <td>0</td>\n",
       "      <td>56823.777243</td>\n",
       "      <td>на покупку подержанного автомобиля</td>\n",
       "    </tr>\n",
       "    <tr>\n",
       "      <th>19</th>\n",
       "      <td>0</td>\n",
       "      <td>-10038.818549</td>\n",
       "      <td>48</td>\n",
       "      <td>СРЕДНЕЕ</td>\n",
       "      <td>1</td>\n",
       "      <td>в разводе</td>\n",
       "      <td>3</td>\n",
       "      <td>F</td>\n",
       "      <td>сотрудник</td>\n",
       "      <td>0</td>\n",
       "      <td>242831.107982</td>\n",
       "      <td>на покупку своего автомобиля</td>\n",
       "    </tr>\n",
       "  </tbody>\n",
       "</table>\n",
       "</div>"
      ],
      "text/plain": [
       "    children  days_employed  dob_years            education  education_id  \\\n",
       "0          1   -8437.673028         42               высшее             0   \n",
       "1          1   -4024.803754         36              среднее             1   \n",
       "2          0   -5623.422610         33              Среднее             1   \n",
       "3          3   -4124.747207         32              среднее             1   \n",
       "4          0  340266.072047         53              среднее             1   \n",
       "5          0    -926.185831         27               высшее             0   \n",
       "6          0   -2879.202052         43               высшее             0   \n",
       "7          0    -152.779569         50              СРЕДНЕЕ             1   \n",
       "8          2   -6929.865299         35               ВЫСШЕЕ             0   \n",
       "9          0   -2188.756445         41              среднее             1   \n",
       "10         2   -4171.483647         36               высшее             0   \n",
       "11         0    -792.701887         40              среднее             1   \n",
       "12         0            NaN         65              среднее             1   \n",
       "13         0   -1846.641941         54  неоконченное высшее             2   \n",
       "14         0   -1844.956182         56               высшее             0   \n",
       "15         1    -972.364419         26              среднее             1   \n",
       "16         0   -1719.934226         35              среднее             1   \n",
       "17         0   -2369.999720         33               высшее             0   \n",
       "18         0  400281.136913         53              среднее             1   \n",
       "19         0  -10038.818549         48              СРЕДНЕЕ             1   \n",
       "\n",
       "       family_status  family_status_id gender income_type  debt  \\\n",
       "0    женат / замужем                 0      F   сотрудник     0   \n",
       "1    женат / замужем                 0      F   сотрудник     0   \n",
       "2    женат / замужем                 0      M   сотрудник     0   \n",
       "3    женат / замужем                 0      M   сотрудник     0   \n",
       "4   гражданский брак                 1      F   пенсионер     0   \n",
       "5   гражданский брак                 1      M   компаньон     0   \n",
       "6    женат / замужем                 0      F   компаньон     0   \n",
       "7    женат / замужем                 0      M   сотрудник     0   \n",
       "8   гражданский брак                 1      F   сотрудник     0   \n",
       "9    женат / замужем                 0      M   сотрудник     0   \n",
       "10   женат / замужем                 0      M   компаньон     0   \n",
       "11   женат / замужем                 0      F   сотрудник     0   \n",
       "12  гражданский брак                 1      M   пенсионер     0   \n",
       "13   женат / замужем                 0      F   сотрудник     0   \n",
       "14  гражданский брак                 1      F   компаньон     1   \n",
       "15   женат / замужем                 0      F   сотрудник     0   \n",
       "16   женат / замужем                 0      F   сотрудник     0   \n",
       "17  гражданский брак                 1      M   сотрудник     0   \n",
       "18    вдовец / вдова                 2      F   пенсионер     0   \n",
       "19         в разводе                 3      F   сотрудник     0   \n",
       "\n",
       "     total_income                                 purpose  \n",
       "0   253875.639453                           покупка жилья  \n",
       "1   112080.014102                 приобретение автомобиля  \n",
       "2   145885.952297                           покупка жилья  \n",
       "3   267628.550329              дополнительное образование  \n",
       "4   158616.077870                         сыграть свадьбу  \n",
       "5   255763.565419                           покупка жилья  \n",
       "6   240525.971920                       операции с жильем  \n",
       "7   135823.934197                             образование  \n",
       "8    95856.832424                   на проведение свадьбы  \n",
       "9   144425.938277                 покупка жилья для семьи  \n",
       "10  113943.491460                    покупка недвижимости  \n",
       "11   77069.234271       покупка коммерческой недвижимости  \n",
       "12            NaN                         сыграть свадьбу  \n",
       "13  130458.228857                 приобретение автомобиля  \n",
       "14  165127.911772              покупка жилой недвижимости  \n",
       "15  116820.904450  строительство собственной недвижимости  \n",
       "16  289202.704229                            недвижимость  \n",
       "17   90410.586745              строительство недвижимости  \n",
       "18   56823.777243      на покупку подержанного автомобиля  \n",
       "19  242831.107982            на покупку своего автомобиля  "
      ]
     },
     "metadata": {},
     "execution_count": 328
    }
   ],
   "metadata": {}
  },
  {
   "cell_type": "markdown",
   "source": [
    "    С помощью метода describe() получим некоторую сводную информацию по всей таблице"
   ],
   "metadata": {}
  },
  {
   "cell_type": "code",
   "execution_count": 329,
   "source": [
    "df.describe()"
   ],
   "outputs": [
    {
     "output_type": "execute_result",
     "data": {
      "text/html": [
       "<div>\n",
       "<style scoped>\n",
       "    .dataframe tbody tr th:only-of-type {\n",
       "        vertical-align: middle;\n",
       "    }\n",
       "\n",
       "    .dataframe tbody tr th {\n",
       "        vertical-align: top;\n",
       "    }\n",
       "\n",
       "    .dataframe thead th {\n",
       "        text-align: right;\n",
       "    }\n",
       "</style>\n",
       "<table border=\"1\" class=\"dataframe\">\n",
       "  <thead>\n",
       "    <tr style=\"text-align: right;\">\n",
       "      <th></th>\n",
       "      <th>children</th>\n",
       "      <th>days_employed</th>\n",
       "      <th>dob_years</th>\n",
       "      <th>education_id</th>\n",
       "      <th>family_status_id</th>\n",
       "      <th>debt</th>\n",
       "      <th>total_income</th>\n",
       "    </tr>\n",
       "  </thead>\n",
       "  <tbody>\n",
       "    <tr>\n",
       "      <th>count</th>\n",
       "      <td>21525.000000</td>\n",
       "      <td>19351.000000</td>\n",
       "      <td>21525.000000</td>\n",
       "      <td>21525.000000</td>\n",
       "      <td>21525.000000</td>\n",
       "      <td>21525.000000</td>\n",
       "      <td>1.935100e+04</td>\n",
       "    </tr>\n",
       "    <tr>\n",
       "      <th>mean</th>\n",
       "      <td>0.538908</td>\n",
       "      <td>63046.497661</td>\n",
       "      <td>43.293380</td>\n",
       "      <td>0.817236</td>\n",
       "      <td>0.972544</td>\n",
       "      <td>0.080883</td>\n",
       "      <td>1.674223e+05</td>\n",
       "    </tr>\n",
       "    <tr>\n",
       "      <th>std</th>\n",
       "      <td>1.381587</td>\n",
       "      <td>140827.311974</td>\n",
       "      <td>12.574584</td>\n",
       "      <td>0.548138</td>\n",
       "      <td>1.420324</td>\n",
       "      <td>0.272661</td>\n",
       "      <td>1.029716e+05</td>\n",
       "    </tr>\n",
       "    <tr>\n",
       "      <th>min</th>\n",
       "      <td>-1.000000</td>\n",
       "      <td>-18388.949901</td>\n",
       "      <td>0.000000</td>\n",
       "      <td>0.000000</td>\n",
       "      <td>0.000000</td>\n",
       "      <td>0.000000</td>\n",
       "      <td>2.066726e+04</td>\n",
       "    </tr>\n",
       "    <tr>\n",
       "      <th>25%</th>\n",
       "      <td>0.000000</td>\n",
       "      <td>-2747.423625</td>\n",
       "      <td>33.000000</td>\n",
       "      <td>1.000000</td>\n",
       "      <td>0.000000</td>\n",
       "      <td>0.000000</td>\n",
       "      <td>1.030532e+05</td>\n",
       "    </tr>\n",
       "    <tr>\n",
       "      <th>50%</th>\n",
       "      <td>0.000000</td>\n",
       "      <td>-1203.369529</td>\n",
       "      <td>42.000000</td>\n",
       "      <td>1.000000</td>\n",
       "      <td>0.000000</td>\n",
       "      <td>0.000000</td>\n",
       "      <td>1.450179e+05</td>\n",
       "    </tr>\n",
       "    <tr>\n",
       "      <th>75%</th>\n",
       "      <td>1.000000</td>\n",
       "      <td>-291.095954</td>\n",
       "      <td>53.000000</td>\n",
       "      <td>1.000000</td>\n",
       "      <td>1.000000</td>\n",
       "      <td>0.000000</td>\n",
       "      <td>2.034351e+05</td>\n",
       "    </tr>\n",
       "    <tr>\n",
       "      <th>max</th>\n",
       "      <td>20.000000</td>\n",
       "      <td>401755.400475</td>\n",
       "      <td>75.000000</td>\n",
       "      <td>4.000000</td>\n",
       "      <td>4.000000</td>\n",
       "      <td>1.000000</td>\n",
       "      <td>2.265604e+06</td>\n",
       "    </tr>\n",
       "  </tbody>\n",
       "</table>\n",
       "</div>"
      ],
      "text/plain": [
       "           children  days_employed     dob_years  education_id  \\\n",
       "count  21525.000000   19351.000000  21525.000000  21525.000000   \n",
       "mean       0.538908   63046.497661     43.293380      0.817236   \n",
       "std        1.381587  140827.311974     12.574584      0.548138   \n",
       "min       -1.000000  -18388.949901      0.000000      0.000000   \n",
       "25%        0.000000   -2747.423625     33.000000      1.000000   \n",
       "50%        0.000000   -1203.369529     42.000000      1.000000   \n",
       "75%        1.000000    -291.095954     53.000000      1.000000   \n",
       "max       20.000000  401755.400475     75.000000      4.000000   \n",
       "\n",
       "       family_status_id          debt  total_income  \n",
       "count      21525.000000  21525.000000  1.935100e+04  \n",
       "mean           0.972544      0.080883  1.674223e+05  \n",
       "std            1.420324      0.272661  1.029716e+05  \n",
       "min            0.000000      0.000000  2.066726e+04  \n",
       "25%            0.000000      0.000000  1.030532e+05  \n",
       "50%            0.000000      0.000000  1.450179e+05  \n",
       "75%            1.000000      0.000000  2.034351e+05  \n",
       "max            4.000000      1.000000  2.265604e+06  "
      ]
     },
     "metadata": {},
     "execution_count": 329
    }
   ],
   "metadata": {}
  },
  {
   "cell_type": "markdown",
   "source": [
    "**Вывод:** \n",
    "* Файл с даннными содержит таблицу из 12 колонок и 21525 строк\n",
    "* В колонках *days_employed* и *total_income* есть пропущенные значения\n",
    "* О шибки в колонках *children* и *total_income*"
   ],
   "metadata": {}
  },
  {
   "cell_type": "markdown",
   "source": [
    "## Шаг 2. Предобработка данных"
   ],
   "metadata": {}
  },
  {
   "cell_type": "markdown",
   "source": [
    "### Обработка пропусков"
   ],
   "metadata": {}
  },
  {
   "cell_type": "markdown",
   "source": [
    "    Получаем перечень названий столбцов"
   ],
   "metadata": {}
  },
  {
   "cell_type": "code",
   "execution_count": 330,
   "source": [
    "df.columns"
   ],
   "outputs": [
    {
     "output_type": "execute_result",
     "data": {
      "text/plain": [
       "Index(['children', 'days_employed', 'dob_years', 'education', 'education_id',\n",
       "       'family_status', 'family_status_id', 'gender', 'income_type', 'debt',\n",
       "       'total_income', 'purpose'],\n",
       "      dtype='object')"
      ]
     },
     "metadata": {},
     "execution_count": 330
    }
   ],
   "metadata": {}
  },
  {
   "cell_type": "markdown",
   "source": [
    "    Переименуем некоторые столбцы для удобства восприятия:"
   ],
   "metadata": {}
  },
  {
   "cell_type": "code",
   "execution_count": 331,
   "source": [
    "new_names = ['children_number', 'days_employed', 'full_age', 'education_level', 'education_id', 'family_status', 'family_status_id', 'gender', 'income_type', 'debt', 'total_income', 'purpose_loan']\r\n",
    "df.set_axis(new_names, axis = 'columns', inplace = True)\r\n",
    "# так же можно заменить через df.rename(columns={'children': 'children_number', 'dob_years': 'full_age', 'education': 'education_level', 'purpose': 'purpose_loan'}, inplace=True)\r\n",
    "\r\n",
    "df.head()"
   ],
   "outputs": [
    {
     "output_type": "execute_result",
     "data": {
      "text/html": [
       "<div>\n",
       "<style scoped>\n",
       "    .dataframe tbody tr th:only-of-type {\n",
       "        vertical-align: middle;\n",
       "    }\n",
       "\n",
       "    .dataframe tbody tr th {\n",
       "        vertical-align: top;\n",
       "    }\n",
       "\n",
       "    .dataframe thead th {\n",
       "        text-align: right;\n",
       "    }\n",
       "</style>\n",
       "<table border=\"1\" class=\"dataframe\">\n",
       "  <thead>\n",
       "    <tr style=\"text-align: right;\">\n",
       "      <th></th>\n",
       "      <th>children_number</th>\n",
       "      <th>days_employed</th>\n",
       "      <th>full_age</th>\n",
       "      <th>education_level</th>\n",
       "      <th>education_id</th>\n",
       "      <th>family_status</th>\n",
       "      <th>family_status_id</th>\n",
       "      <th>gender</th>\n",
       "      <th>income_type</th>\n",
       "      <th>debt</th>\n",
       "      <th>total_income</th>\n",
       "      <th>purpose_loan</th>\n",
       "    </tr>\n",
       "  </thead>\n",
       "  <tbody>\n",
       "    <tr>\n",
       "      <th>0</th>\n",
       "      <td>1</td>\n",
       "      <td>-8437.673028</td>\n",
       "      <td>42</td>\n",
       "      <td>высшее</td>\n",
       "      <td>0</td>\n",
       "      <td>женат / замужем</td>\n",
       "      <td>0</td>\n",
       "      <td>F</td>\n",
       "      <td>сотрудник</td>\n",
       "      <td>0</td>\n",
       "      <td>253875.639453</td>\n",
       "      <td>покупка жилья</td>\n",
       "    </tr>\n",
       "    <tr>\n",
       "      <th>1</th>\n",
       "      <td>1</td>\n",
       "      <td>-4024.803754</td>\n",
       "      <td>36</td>\n",
       "      <td>среднее</td>\n",
       "      <td>1</td>\n",
       "      <td>женат / замужем</td>\n",
       "      <td>0</td>\n",
       "      <td>F</td>\n",
       "      <td>сотрудник</td>\n",
       "      <td>0</td>\n",
       "      <td>112080.014102</td>\n",
       "      <td>приобретение автомобиля</td>\n",
       "    </tr>\n",
       "    <tr>\n",
       "      <th>2</th>\n",
       "      <td>0</td>\n",
       "      <td>-5623.422610</td>\n",
       "      <td>33</td>\n",
       "      <td>Среднее</td>\n",
       "      <td>1</td>\n",
       "      <td>женат / замужем</td>\n",
       "      <td>0</td>\n",
       "      <td>M</td>\n",
       "      <td>сотрудник</td>\n",
       "      <td>0</td>\n",
       "      <td>145885.952297</td>\n",
       "      <td>покупка жилья</td>\n",
       "    </tr>\n",
       "    <tr>\n",
       "      <th>3</th>\n",
       "      <td>3</td>\n",
       "      <td>-4124.747207</td>\n",
       "      <td>32</td>\n",
       "      <td>среднее</td>\n",
       "      <td>1</td>\n",
       "      <td>женат / замужем</td>\n",
       "      <td>0</td>\n",
       "      <td>M</td>\n",
       "      <td>сотрудник</td>\n",
       "      <td>0</td>\n",
       "      <td>267628.550329</td>\n",
       "      <td>дополнительное образование</td>\n",
       "    </tr>\n",
       "    <tr>\n",
       "      <th>4</th>\n",
       "      <td>0</td>\n",
       "      <td>340266.072047</td>\n",
       "      <td>53</td>\n",
       "      <td>среднее</td>\n",
       "      <td>1</td>\n",
       "      <td>гражданский брак</td>\n",
       "      <td>1</td>\n",
       "      <td>F</td>\n",
       "      <td>пенсионер</td>\n",
       "      <td>0</td>\n",
       "      <td>158616.077870</td>\n",
       "      <td>сыграть свадьбу</td>\n",
       "    </tr>\n",
       "  </tbody>\n",
       "</table>\n",
       "</div>"
      ],
      "text/plain": [
       "   children_number  days_employed  full_age education_level  education_id  \\\n",
       "0                1   -8437.673028        42          высшее             0   \n",
       "1                1   -4024.803754        36         среднее             1   \n",
       "2                0   -5623.422610        33         Среднее             1   \n",
       "3                3   -4124.747207        32         среднее             1   \n",
       "4                0  340266.072047        53         среднее             1   \n",
       "\n",
       "      family_status  family_status_id gender income_type  debt   total_income  \\\n",
       "0   женат / замужем                 0      F   сотрудник     0  253875.639453   \n",
       "1   женат / замужем                 0      F   сотрудник     0  112080.014102   \n",
       "2   женат / замужем                 0      M   сотрудник     0  145885.952297   \n",
       "3   женат / замужем                 0      M   сотрудник     0  267628.550329   \n",
       "4  гражданский брак                 1      F   пенсионер     0  158616.077870   \n",
       "\n",
       "                 purpose_loan  \n",
       "0               покупка жилья  \n",
       "1     приобретение автомобиля  \n",
       "2               покупка жилья  \n",
       "3  дополнительное образование  \n",
       "4             сыграть свадьбу  "
      ]
     },
     "metadata": {},
     "execution_count": 331
    }
   ],
   "metadata": {}
  },
  {
   "cell_type": "markdown",
   "source": [
    "    Проверяем названия столбцов"
   ],
   "metadata": {}
  },
  {
   "cell_type": "code",
   "execution_count": 332,
   "source": [
    "df.columns"
   ],
   "outputs": [
    {
     "output_type": "execute_result",
     "data": {
      "text/plain": [
       "Index(['children_number', 'days_employed', 'full_age', 'education_level',\n",
       "       'education_id', 'family_status', 'family_status_id', 'gender',\n",
       "       'income_type', 'debt', 'total_income', 'purpose_loan'],\n",
       "      dtype='object')"
      ]
     },
     "metadata": {},
     "execution_count": 332
    }
   ],
   "metadata": {}
  },
  {
   "cell_type": "markdown",
   "source": [
    "    1. Определим и заполним пропущенные значения:"
   ],
   "metadata": {}
  },
  {
   "cell_type": "code",
   "execution_count": 333,
   "source": [
    "df.isnull().sum()"
   ],
   "outputs": [
    {
     "output_type": "execute_result",
     "data": {
      "text/plain": [
       "children_number        0\n",
       "days_employed       2174\n",
       "full_age               0\n",
       "education_level        0\n",
       "education_id           0\n",
       "family_status          0\n",
       "family_status_id       0\n",
       "gender                 0\n",
       "income_type            0\n",
       "debt                   0\n",
       "total_income        2174\n",
       "purpose_loan           0\n",
       "dtype: int64"
      ]
     },
     "metadata": {},
     "execution_count": 333
    }
   ],
   "metadata": {}
  },
  {
   "cell_type": "markdown",
   "source": [
    "    Количество пропусков одинаково в значениях days_employed и total_income, возможно проблема связана с выгрузкой данных из БД"
   ],
   "metadata": {}
  },
  {
   "cell_type": "markdown",
   "source": [
    "    Пропуски по столбцам days_employed и total_income заполним медианным значениями методом .median():"
   ],
   "metadata": {}
  },
  {
   "cell_type": "code",
   "execution_count": 334,
   "source": [
    "df['days_employed'].fillna((df['days_employed'].median()), inplace=True)"
   ],
   "outputs": [],
   "metadata": {}
  },
  {
   "cell_type": "code",
   "execution_count": 335,
   "source": [
    "df['total_income'].fillna((df['total_income'].median()), inplace=True)"
   ],
   "outputs": [],
   "metadata": {}
  },
  {
   "cell_type": "markdown",
   "source": [
    "    Прверим наличие пропущенных значений:"
   ],
   "metadata": {}
  },
  {
   "cell_type": "code",
   "execution_count": 336,
   "source": [
    "df.isnull().sum()"
   ],
   "outputs": [
    {
     "output_type": "execute_result",
     "data": {
      "text/plain": [
       "children_number     0\n",
       "days_employed       0\n",
       "full_age            0\n",
       "education_level     0\n",
       "education_id        0\n",
       "family_status       0\n",
       "family_status_id    0\n",
       "gender              0\n",
       "income_type         0\n",
       "debt                0\n",
       "total_income        0\n",
       "purpose_loan        0\n",
       "dtype: int64"
      ]
     },
     "metadata": {},
     "execution_count": 336
    }
   ],
   "metadata": {}
  },
  {
   "cell_type": "markdown",
   "source": [
    "**Вывод:** Выполнили переименование некоторых заголовков таблицы и заполнили пропуски медианными значениями."
   ],
   "metadata": {}
  },
  {
   "cell_type": "markdown",
   "source": [
    "### Замена типа данных"
   ],
   "metadata": {}
  },
  {
   "cell_type": "markdown",
   "source": [
    "    Определяем тип данных в талице:"
   ],
   "metadata": {}
  },
  {
   "cell_type": "code",
   "execution_count": 337,
   "source": [
    "df.dtypes"
   ],
   "outputs": [
    {
     "output_type": "execute_result",
     "data": {
      "text/plain": [
       "children_number       int64\n",
       "days_employed       float64\n",
       "full_age              int64\n",
       "education_level      object\n",
       "education_id          int64\n",
       "family_status        object\n",
       "family_status_id      int64\n",
       "gender               object\n",
       "income_type          object\n",
       "debt                  int64\n",
       "total_income        float64\n",
       "purpose_loan         object\n",
       "dtype: object"
      ]
     },
     "metadata": {},
     "execution_count": 337
    }
   ],
   "metadata": {}
  },
  {
   "cell_type": "markdown",
   "source": [
    "    В столбцах days_employed и total_income видим вещественный (float64) тип данных. Проведем замену на целочисленный тип данных(int64):"
   ],
   "metadata": {}
  },
  {
   "cell_type": "markdown",
   "source": [
    "    Заменяем вещественный тип данных на целочисленный в столбцах days_employed и total_income и производим проверку изменений:\n"
   ],
   "metadata": {}
  },
  {
   "cell_type": "code",
   "execution_count": 338,
   "source": [
    "for columns in ['days_employed', 'total_income']:\r\n",
    "    df[columns] = df[columns].astype('int64')\r\n",
    "df.dtypes"
   ],
   "outputs": [
    {
     "output_type": "execute_result",
     "data": {
      "text/plain": [
       "children_number      int64\n",
       "days_employed        int64\n",
       "full_age             int64\n",
       "education_level     object\n",
       "education_id         int64\n",
       "family_status       object\n",
       "family_status_id     int64\n",
       "gender              object\n",
       "income_type         object\n",
       "debt                 int64\n",
       "total_income         int64\n",
       "purpose_loan        object\n",
       "dtype: object"
      ]
     },
     "metadata": {},
     "execution_count": 338
    }
   ],
   "metadata": {}
  },
  {
   "cell_type": "markdown",
   "source": [
    "    Проверим значения в таблице на наличие аномалий:"
   ],
   "metadata": {}
  },
  {
   "cell_type": "code",
   "execution_count": 339,
   "source": [
    "df.head(10)"
   ],
   "outputs": [
    {
     "output_type": "execute_result",
     "data": {
      "text/html": [
       "<div>\n",
       "<style scoped>\n",
       "    .dataframe tbody tr th:only-of-type {\n",
       "        vertical-align: middle;\n",
       "    }\n",
       "\n",
       "    .dataframe tbody tr th {\n",
       "        vertical-align: top;\n",
       "    }\n",
       "\n",
       "    .dataframe thead th {\n",
       "        text-align: right;\n",
       "    }\n",
       "</style>\n",
       "<table border=\"1\" class=\"dataframe\">\n",
       "  <thead>\n",
       "    <tr style=\"text-align: right;\">\n",
       "      <th></th>\n",
       "      <th>children_number</th>\n",
       "      <th>days_employed</th>\n",
       "      <th>full_age</th>\n",
       "      <th>education_level</th>\n",
       "      <th>education_id</th>\n",
       "      <th>family_status</th>\n",
       "      <th>family_status_id</th>\n",
       "      <th>gender</th>\n",
       "      <th>income_type</th>\n",
       "      <th>debt</th>\n",
       "      <th>total_income</th>\n",
       "      <th>purpose_loan</th>\n",
       "    </tr>\n",
       "  </thead>\n",
       "  <tbody>\n",
       "    <tr>\n",
       "      <th>0</th>\n",
       "      <td>1</td>\n",
       "      <td>-8437</td>\n",
       "      <td>42</td>\n",
       "      <td>высшее</td>\n",
       "      <td>0</td>\n",
       "      <td>женат / замужем</td>\n",
       "      <td>0</td>\n",
       "      <td>F</td>\n",
       "      <td>сотрудник</td>\n",
       "      <td>0</td>\n",
       "      <td>253875</td>\n",
       "      <td>покупка жилья</td>\n",
       "    </tr>\n",
       "    <tr>\n",
       "      <th>1</th>\n",
       "      <td>1</td>\n",
       "      <td>-4024</td>\n",
       "      <td>36</td>\n",
       "      <td>среднее</td>\n",
       "      <td>1</td>\n",
       "      <td>женат / замужем</td>\n",
       "      <td>0</td>\n",
       "      <td>F</td>\n",
       "      <td>сотрудник</td>\n",
       "      <td>0</td>\n",
       "      <td>112080</td>\n",
       "      <td>приобретение автомобиля</td>\n",
       "    </tr>\n",
       "    <tr>\n",
       "      <th>2</th>\n",
       "      <td>0</td>\n",
       "      <td>-5623</td>\n",
       "      <td>33</td>\n",
       "      <td>Среднее</td>\n",
       "      <td>1</td>\n",
       "      <td>женат / замужем</td>\n",
       "      <td>0</td>\n",
       "      <td>M</td>\n",
       "      <td>сотрудник</td>\n",
       "      <td>0</td>\n",
       "      <td>145885</td>\n",
       "      <td>покупка жилья</td>\n",
       "    </tr>\n",
       "    <tr>\n",
       "      <th>3</th>\n",
       "      <td>3</td>\n",
       "      <td>-4124</td>\n",
       "      <td>32</td>\n",
       "      <td>среднее</td>\n",
       "      <td>1</td>\n",
       "      <td>женат / замужем</td>\n",
       "      <td>0</td>\n",
       "      <td>M</td>\n",
       "      <td>сотрудник</td>\n",
       "      <td>0</td>\n",
       "      <td>267628</td>\n",
       "      <td>дополнительное образование</td>\n",
       "    </tr>\n",
       "    <tr>\n",
       "      <th>4</th>\n",
       "      <td>0</td>\n",
       "      <td>340266</td>\n",
       "      <td>53</td>\n",
       "      <td>среднее</td>\n",
       "      <td>1</td>\n",
       "      <td>гражданский брак</td>\n",
       "      <td>1</td>\n",
       "      <td>F</td>\n",
       "      <td>пенсионер</td>\n",
       "      <td>0</td>\n",
       "      <td>158616</td>\n",
       "      <td>сыграть свадьбу</td>\n",
       "    </tr>\n",
       "    <tr>\n",
       "      <th>5</th>\n",
       "      <td>0</td>\n",
       "      <td>-926</td>\n",
       "      <td>27</td>\n",
       "      <td>высшее</td>\n",
       "      <td>0</td>\n",
       "      <td>гражданский брак</td>\n",
       "      <td>1</td>\n",
       "      <td>M</td>\n",
       "      <td>компаньон</td>\n",
       "      <td>0</td>\n",
       "      <td>255763</td>\n",
       "      <td>покупка жилья</td>\n",
       "    </tr>\n",
       "    <tr>\n",
       "      <th>6</th>\n",
       "      <td>0</td>\n",
       "      <td>-2879</td>\n",
       "      <td>43</td>\n",
       "      <td>высшее</td>\n",
       "      <td>0</td>\n",
       "      <td>женат / замужем</td>\n",
       "      <td>0</td>\n",
       "      <td>F</td>\n",
       "      <td>компаньон</td>\n",
       "      <td>0</td>\n",
       "      <td>240525</td>\n",
       "      <td>операции с жильем</td>\n",
       "    </tr>\n",
       "    <tr>\n",
       "      <th>7</th>\n",
       "      <td>0</td>\n",
       "      <td>-152</td>\n",
       "      <td>50</td>\n",
       "      <td>СРЕДНЕЕ</td>\n",
       "      <td>1</td>\n",
       "      <td>женат / замужем</td>\n",
       "      <td>0</td>\n",
       "      <td>M</td>\n",
       "      <td>сотрудник</td>\n",
       "      <td>0</td>\n",
       "      <td>135823</td>\n",
       "      <td>образование</td>\n",
       "    </tr>\n",
       "    <tr>\n",
       "      <th>8</th>\n",
       "      <td>2</td>\n",
       "      <td>-6929</td>\n",
       "      <td>35</td>\n",
       "      <td>ВЫСШЕЕ</td>\n",
       "      <td>0</td>\n",
       "      <td>гражданский брак</td>\n",
       "      <td>1</td>\n",
       "      <td>F</td>\n",
       "      <td>сотрудник</td>\n",
       "      <td>0</td>\n",
       "      <td>95856</td>\n",
       "      <td>на проведение свадьбы</td>\n",
       "    </tr>\n",
       "    <tr>\n",
       "      <th>9</th>\n",
       "      <td>0</td>\n",
       "      <td>-2188</td>\n",
       "      <td>41</td>\n",
       "      <td>среднее</td>\n",
       "      <td>1</td>\n",
       "      <td>женат / замужем</td>\n",
       "      <td>0</td>\n",
       "      <td>M</td>\n",
       "      <td>сотрудник</td>\n",
       "      <td>0</td>\n",
       "      <td>144425</td>\n",
       "      <td>покупка жилья для семьи</td>\n",
       "    </tr>\n",
       "  </tbody>\n",
       "</table>\n",
       "</div>"
      ],
      "text/plain": [
       "   children_number  days_employed  full_age education_level  education_id  \\\n",
       "0                1          -8437        42          высшее             0   \n",
       "1                1          -4024        36         среднее             1   \n",
       "2                0          -5623        33         Среднее             1   \n",
       "3                3          -4124        32         среднее             1   \n",
       "4                0         340266        53         среднее             1   \n",
       "5                0           -926        27          высшее             0   \n",
       "6                0          -2879        43          высшее             0   \n",
       "7                0           -152        50         СРЕДНЕЕ             1   \n",
       "8                2          -6929        35          ВЫСШЕЕ             0   \n",
       "9                0          -2188        41         среднее             1   \n",
       "\n",
       "      family_status  family_status_id gender income_type  debt  total_income  \\\n",
       "0   женат / замужем                 0      F   сотрудник     0        253875   \n",
       "1   женат / замужем                 0      F   сотрудник     0        112080   \n",
       "2   женат / замужем                 0      M   сотрудник     0        145885   \n",
       "3   женат / замужем                 0      M   сотрудник     0        267628   \n",
       "4  гражданский брак                 1      F   пенсионер     0        158616   \n",
       "5  гражданский брак                 1      M   компаньон     0        255763   \n",
       "6   женат / замужем                 0      F   компаньон     0        240525   \n",
       "7   женат / замужем                 0      M   сотрудник     0        135823   \n",
       "8  гражданский брак                 1      F   сотрудник     0         95856   \n",
       "9   женат / замужем                 0      M   сотрудник     0        144425   \n",
       "\n",
       "                 purpose_loan  \n",
       "0               покупка жилья  \n",
       "1     приобретение автомобиля  \n",
       "2               покупка жилья  \n",
       "3  дополнительное образование  \n",
       "4             сыграть свадьбу  \n",
       "5               покупка жилья  \n",
       "6           операции с жильем  \n",
       "7                 образование  \n",
       "8       на проведение свадьбы  \n",
       "9     покупка жилья для семьи  "
      ]
     },
     "metadata": {},
     "execution_count": 339
    }
   ],
   "metadata": {}
  },
  {
   "cell_type": "markdown",
   "source": [
    "    В колонке full_age есть ошибочное значение 0. Исправим на медианное и проверим:"
   ],
   "metadata": {}
  },
  {
   "cell_type": "code",
   "execution_count": 340,
   "source": [
    "df['full_age'].min()"
   ],
   "outputs": [
    {
     "output_type": "execute_result",
     "data": {
      "text/plain": [
       "0"
      ]
     },
     "metadata": {},
     "execution_count": 340
    }
   ],
   "metadata": {}
  },
  {
   "cell_type": "code",
   "execution_count": 341,
   "source": [
    "df['full_age'].unique()"
   ],
   "outputs": [
    {
     "output_type": "execute_result",
     "data": {
      "text/plain": [
       "array([42, 36, 33, 32, 53, 27, 43, 50, 35, 41, 40, 65, 54, 56, 26, 48, 24,\n",
       "       21, 57, 67, 28, 63, 62, 47, 34, 68, 25, 31, 30, 20, 49, 37, 45, 61,\n",
       "       64, 44, 52, 46, 23, 38, 39, 51,  0, 59, 29, 60, 55, 58, 71, 22, 73,\n",
       "       66, 69, 19, 72, 70, 74, 75], dtype=int64)"
      ]
     },
     "metadata": {},
     "execution_count": 341
    }
   ],
   "metadata": {}
  },
  {
   "cell_type": "code",
   "execution_count": 342,
   "source": [
    "df['full_age'].median()"
   ],
   "outputs": [
    {
     "output_type": "execute_result",
     "data": {
      "text/plain": [
       "42.0"
      ]
     },
     "metadata": {},
     "execution_count": 342
    }
   ],
   "metadata": {}
  },
  {
   "cell_type": "code",
   "execution_count": 343,
   "source": [
    "df.loc[df['full_age'] == 0, 'full_age'] = 42\r\n",
    "df['full_age'].unique()"
   ],
   "outputs": [
    {
     "output_type": "execute_result",
     "data": {
      "text/plain": [
       "array([42, 36, 33, 32, 53, 27, 43, 50, 35, 41, 40, 65, 54, 56, 26, 48, 24,\n",
       "       21, 57, 67, 28, 63, 62, 47, 34, 68, 25, 31, 30, 20, 49, 37, 45, 61,\n",
       "       64, 44, 52, 46, 23, 38, 39, 51, 59, 29, 60, 55, 58, 71, 22, 73, 66,\n",
       "       69, 19, 72, 70, 74, 75], dtype=int64)"
      ]
     },
     "metadata": {},
     "execution_count": 343
    }
   ],
   "metadata": {}
  },
  {
   "cell_type": "code",
   "execution_count": 344,
   "source": [
    "df['full_age'].min()"
   ],
   "outputs": [
    {
     "output_type": "execute_result",
     "data": {
      "text/plain": [
       "19"
      ]
     },
     "metadata": {},
     "execution_count": 344
    }
   ],
   "metadata": {}
  },
  {
   "cell_type": "code",
   "execution_count": 387,
   "source": [
    "df.full_age.plot.hist();#проверим графически\r\n",
    "plt.xlabel('возраст')\r\n",
    "plt.ylabel(\"количество заемщиков\")"
   ],
   "outputs": [
    {
     "output_type": "execute_result",
     "data": {
      "text/plain": [
       "Text(0, 0.5, 'количество заемщиков')"
      ]
     },
     "metadata": {},
     "execution_count": 387
    },
    {
     "output_type": "display_data",
     "data": {
      "image/png": "[encoded data removed]",
      "text/plain": [
       "<Figure size 432x288 with 1 Axes>"
      ]
     },
     "metadata": {
      "needs_background": "light"
     }
    }
   ],
   "metadata": {}
  },
  {
   "cell_type": "markdown",
   "source": [
    "    В колонке days_employed и children_number смешанные значения (положительные и отрицательные), сделаем их положительными:"
   ],
   "metadata": {}
  },
  {
   "cell_type": "code",
   "execution_count": 346,
   "source": [
    "df['days_employed'] = df['days_employed'].abs()\r\n"
   ],
   "outputs": [],
   "metadata": {}
  },
  {
   "cell_type": "code",
   "execution_count": 347,
   "source": [
    "df['children_number'] = df['children_number'].abs()"
   ],
   "outputs": [],
   "metadata": {}
  },
  {
   "cell_type": "markdown",
   "source": [
    "    Проверяем days_employed и children_number:"
   ],
   "metadata": {}
  },
  {
   "cell_type": "code",
   "execution_count": 348,
   "source": [
    "df['days_employed'].unique()"
   ],
   "outputs": [
    {
     "output_type": "execute_result",
     "data": {
      "text/plain": [
       "array([  8437,   4024,   5623, ..., 362161, 373995, 343937], dtype=int64)"
      ]
     },
     "metadata": {},
     "execution_count": 348
    }
   ],
   "metadata": {}
  },
  {
   "cell_type": "code",
   "execution_count": 349,
   "source": [
    "df['children_number'].unique()"
   ],
   "outputs": [
    {
     "output_type": "execute_result",
     "data": {
      "text/plain": [
       "array([ 1,  0,  3,  2,  4, 20,  5], dtype=int64)"
      ]
     },
     "metadata": {},
     "execution_count": 349
    }
   ],
   "metadata": {}
  },
  {
   "cell_type": "markdown",
   "source": [
    "    20 детей - это явная ошибка, заменим значение на 2 и проверим:"
   ],
   "metadata": {}
  },
  {
   "cell_type": "code",
   "execution_count": 350,
   "source": [
    "df.loc[df['children_number'] == 20, 'children_number'] = 2\r\n",
    "df['children_number'].unique()"
   ],
   "outputs": [
    {
     "output_type": "execute_result",
     "data": {
      "text/plain": [
       "array([1, 0, 3, 2, 4, 5], dtype=int64)"
      ]
     },
     "metadata": {},
     "execution_count": 350
    }
   ],
   "metadata": {}
  },
  {
   "cell_type": "code",
   "execution_count": 351,
   "source": [
    "# Проверим графически. \r\n",
    "df.children_number.plot.hist();\r\n",
    "plt.xlabel('количество детей')\r\n",
    "plt.ylabel(\"количество заемщиков\")"
   ],
   "outputs": [
    {
     "output_type": "execute_result",
     "data": {
      "text/plain": [
       "Text(0, 0.5, 'количество заемщиков')"
      ]
     },
     "metadata": {},
     "execution_count": 351
    },
    {
     "output_type": "display_data",
     "data": {
      "image/png": "[encoded data removed]",
      "text/plain": [
       "<Figure size 432x288 with 1 Axes>"
      ]
     },
     "metadata": {
      "needs_background": "light"
     }
    }
   ],
   "metadata": {}
  },
  {
   "cell_type": "markdown",
   "source": [
    "    В колонке gender присутствует одно одно значение XNA:"
   ],
   "metadata": {}
  },
  {
   "cell_type": "code",
   "execution_count": 352,
   "source": [
    "df['gender'].unique()"
   ],
   "outputs": [
    {
     "output_type": "execute_result",
     "data": {
      "text/plain": [
       "array(['F', 'M', 'XNA'], dtype=object)"
      ]
     },
     "metadata": {},
     "execution_count": 352
    }
   ],
   "metadata": {}
  },
  {
   "cell_type": "markdown",
   "source": [
    "    Меняем на произвольное."
   ],
   "metadata": {}
  },
  {
   "cell_type": "code",
   "execution_count": 353,
   "source": [
    "df.loc[df['gender'] == 'XNA', 'gender'] = 'M'\r\n",
    "df[df['gender'] == 'XNA']['gender'].count()"
   ],
   "outputs": [
    {
     "output_type": "execute_result",
     "data": {
      "text/plain": [
       "0"
      ]
     },
     "metadata": {},
     "execution_count": 353
    }
   ],
   "metadata": {}
  },
  {
   "cell_type": "code",
   "execution_count": 354,
   "source": [
    "df['gender'].unique()"
   ],
   "outputs": [
    {
     "output_type": "execute_result",
     "data": {
      "text/plain": [
       "array(['F', 'M'], dtype=object)"
      ]
     },
     "metadata": {},
     "execution_count": 354
    }
   ],
   "metadata": {}
  },
  {
   "cell_type": "markdown",
   "source": [
    "**Вывод:** Проведенные изменения позволят выполнить дальнейшие расчеты."
   ],
   "metadata": {}
  },
  {
   "cell_type": "markdown",
   "source": [
    "### Обработка дубликатов"
   ],
   "metadata": {}
  },
  {
   "cell_type": "markdown",
   "source": [
    "    Проверим таблицу на наличие дубликатов:"
   ],
   "metadata": {}
  },
  {
   "cell_type": "code",
   "execution_count": 357,
   "source": [
    "df.duplicated().sum()"
   ],
   "outputs": [
    {
     "output_type": "execute_result",
     "data": {
      "text/plain": [
       "55"
      ]
     },
     "metadata": {},
     "execution_count": 357
    }
   ],
   "metadata": {}
  },
  {
   "cell_type": "markdown",
   "source": [
    "    Для дальнейшего удобства обработки данных, переведем названия таблицы в нижний регистр методом str.lower()"
   ],
   "metadata": {}
  },
  {
   "cell_type": "code",
   "execution_count": 358,
   "source": [
    "df['education_level'] = df['education_level'].str.lower()"
   ],
   "outputs": [],
   "metadata": {}
  },
  {
   "cell_type": "code",
   "execution_count": 359,
   "source": [
    "df['income_type'] = df['income_type'].str.lower()"
   ],
   "outputs": [],
   "metadata": {}
  },
  {
   "cell_type": "code",
   "execution_count": 360,
   "source": [
    "df['purpose_loan'] = df['purpose_loan'].str.lower()"
   ],
   "outputs": [],
   "metadata": {}
  },
  {
   "cell_type": "code",
   "execution_count": 361,
   "source": [
    "df['gender'] = df['gender'].str.lower()"
   ],
   "outputs": [],
   "metadata": {}
  },
  {
   "cell_type": "code",
   "execution_count": 362,
   "source": [
    "df.head(10)"
   ],
   "outputs": [
    {
     "output_type": "execute_result",
     "data": {
      "text/html": [
       "<div>\n",
       "<style scoped>\n",
       "    .dataframe tbody tr th:only-of-type {\n",
       "        vertical-align: middle;\n",
       "    }\n",
       "\n",
       "    .dataframe tbody tr th {\n",
       "        vertical-align: top;\n",
       "    }\n",
       "\n",
       "    .dataframe thead th {\n",
       "        text-align: right;\n",
       "    }\n",
       "</style>\n",
       "<table border=\"1\" class=\"dataframe\">\n",
       "  <thead>\n",
       "    <tr style=\"text-align: right;\">\n",
       "      <th></th>\n",
       "      <th>children_number</th>\n",
       "      <th>days_employed</th>\n",
       "      <th>full_age</th>\n",
       "      <th>education_level</th>\n",
       "      <th>education_id</th>\n",
       "      <th>family_status</th>\n",
       "      <th>family_status_id</th>\n",
       "      <th>gender</th>\n",
       "      <th>income_type</th>\n",
       "      <th>debt</th>\n",
       "      <th>total_income</th>\n",
       "      <th>purpose_loan</th>\n",
       "    </tr>\n",
       "  </thead>\n",
       "  <tbody>\n",
       "    <tr>\n",
       "      <th>0</th>\n",
       "      <td>1</td>\n",
       "      <td>8437</td>\n",
       "      <td>42</td>\n",
       "      <td>высшее</td>\n",
       "      <td>0</td>\n",
       "      <td>женат / замужем</td>\n",
       "      <td>0</td>\n",
       "      <td>f</td>\n",
       "      <td>сотрудник</td>\n",
       "      <td>0</td>\n",
       "      <td>253875</td>\n",
       "      <td>покупка жилья</td>\n",
       "    </tr>\n",
       "    <tr>\n",
       "      <th>1</th>\n",
       "      <td>1</td>\n",
       "      <td>4024</td>\n",
       "      <td>36</td>\n",
       "      <td>среднее</td>\n",
       "      <td>1</td>\n",
       "      <td>женат / замужем</td>\n",
       "      <td>0</td>\n",
       "      <td>f</td>\n",
       "      <td>сотрудник</td>\n",
       "      <td>0</td>\n",
       "      <td>112080</td>\n",
       "      <td>приобретение автомобиля</td>\n",
       "    </tr>\n",
       "    <tr>\n",
       "      <th>2</th>\n",
       "      <td>0</td>\n",
       "      <td>5623</td>\n",
       "      <td>33</td>\n",
       "      <td>среднее</td>\n",
       "      <td>1</td>\n",
       "      <td>женат / замужем</td>\n",
       "      <td>0</td>\n",
       "      <td>m</td>\n",
       "      <td>сотрудник</td>\n",
       "      <td>0</td>\n",
       "      <td>145885</td>\n",
       "      <td>покупка жилья</td>\n",
       "    </tr>\n",
       "    <tr>\n",
       "      <th>3</th>\n",
       "      <td>3</td>\n",
       "      <td>4124</td>\n",
       "      <td>32</td>\n",
       "      <td>среднее</td>\n",
       "      <td>1</td>\n",
       "      <td>женат / замужем</td>\n",
       "      <td>0</td>\n",
       "      <td>m</td>\n",
       "      <td>сотрудник</td>\n",
       "      <td>0</td>\n",
       "      <td>267628</td>\n",
       "      <td>дополнительное образование</td>\n",
       "    </tr>\n",
       "    <tr>\n",
       "      <th>4</th>\n",
       "      <td>0</td>\n",
       "      <td>340266</td>\n",
       "      <td>53</td>\n",
       "      <td>среднее</td>\n",
       "      <td>1</td>\n",
       "      <td>гражданский брак</td>\n",
       "      <td>1</td>\n",
       "      <td>f</td>\n",
       "      <td>пенсионер</td>\n",
       "      <td>0</td>\n",
       "      <td>158616</td>\n",
       "      <td>сыграть свадьбу</td>\n",
       "    </tr>\n",
       "    <tr>\n",
       "      <th>5</th>\n",
       "      <td>0</td>\n",
       "      <td>926</td>\n",
       "      <td>27</td>\n",
       "      <td>высшее</td>\n",
       "      <td>0</td>\n",
       "      <td>гражданский брак</td>\n",
       "      <td>1</td>\n",
       "      <td>m</td>\n",
       "      <td>компаньон</td>\n",
       "      <td>0</td>\n",
       "      <td>255763</td>\n",
       "      <td>покупка жилья</td>\n",
       "    </tr>\n",
       "    <tr>\n",
       "      <th>6</th>\n",
       "      <td>0</td>\n",
       "      <td>2879</td>\n",
       "      <td>43</td>\n",
       "      <td>высшее</td>\n",
       "      <td>0</td>\n",
       "      <td>женат / замужем</td>\n",
       "      <td>0</td>\n",
       "      <td>f</td>\n",
       "      <td>компаньон</td>\n",
       "      <td>0</td>\n",
       "      <td>240525</td>\n",
       "      <td>операции с жильем</td>\n",
       "    </tr>\n",
       "    <tr>\n",
       "      <th>7</th>\n",
       "      <td>0</td>\n",
       "      <td>152</td>\n",
       "      <td>50</td>\n",
       "      <td>среднее</td>\n",
       "      <td>1</td>\n",
       "      <td>женат / замужем</td>\n",
       "      <td>0</td>\n",
       "      <td>m</td>\n",
       "      <td>сотрудник</td>\n",
       "      <td>0</td>\n",
       "      <td>135823</td>\n",
       "      <td>образование</td>\n",
       "    </tr>\n",
       "    <tr>\n",
       "      <th>8</th>\n",
       "      <td>2</td>\n",
       "      <td>6929</td>\n",
       "      <td>35</td>\n",
       "      <td>высшее</td>\n",
       "      <td>0</td>\n",
       "      <td>гражданский брак</td>\n",
       "      <td>1</td>\n",
       "      <td>f</td>\n",
       "      <td>сотрудник</td>\n",
       "      <td>0</td>\n",
       "      <td>95856</td>\n",
       "      <td>на проведение свадьбы</td>\n",
       "    </tr>\n",
       "    <tr>\n",
       "      <th>9</th>\n",
       "      <td>0</td>\n",
       "      <td>2188</td>\n",
       "      <td>41</td>\n",
       "      <td>среднее</td>\n",
       "      <td>1</td>\n",
       "      <td>женат / замужем</td>\n",
       "      <td>0</td>\n",
       "      <td>m</td>\n",
       "      <td>сотрудник</td>\n",
       "      <td>0</td>\n",
       "      <td>144425</td>\n",
       "      <td>покупка жилья для семьи</td>\n",
       "    </tr>\n",
       "  </tbody>\n",
       "</table>\n",
       "</div>"
      ],
      "text/plain": [
       "   children_number  days_employed  full_age education_level  education_id  \\\n",
       "0                1           8437        42          высшее             0   \n",
       "1                1           4024        36         среднее             1   \n",
       "2                0           5623        33         среднее             1   \n",
       "3                3           4124        32         среднее             1   \n",
       "4                0         340266        53         среднее             1   \n",
       "5                0            926        27          высшее             0   \n",
       "6                0           2879        43          высшее             0   \n",
       "7                0            152        50         среднее             1   \n",
       "8                2           6929        35          высшее             0   \n",
       "9                0           2188        41         среднее             1   \n",
       "\n",
       "      family_status  family_status_id gender income_type  debt  total_income  \\\n",
       "0   женат / замужем                 0      f   сотрудник     0        253875   \n",
       "1   женат / замужем                 0      f   сотрудник     0        112080   \n",
       "2   женат / замужем                 0      m   сотрудник     0        145885   \n",
       "3   женат / замужем                 0      m   сотрудник     0        267628   \n",
       "4  гражданский брак                 1      f   пенсионер     0        158616   \n",
       "5  гражданский брак                 1      m   компаньон     0        255763   \n",
       "6   женат / замужем                 0      f   компаньон     0        240525   \n",
       "7   женат / замужем                 0      m   сотрудник     0        135823   \n",
       "8  гражданский брак                 1      f   сотрудник     0         95856   \n",
       "9   женат / замужем                 0      m   сотрудник     0        144425   \n",
       "\n",
       "                 purpose_loan  \n",
       "0               покупка жилья  \n",
       "1     приобретение автомобиля  \n",
       "2               покупка жилья  \n",
       "3  дополнительное образование  \n",
       "4             сыграть свадьбу  \n",
       "5               покупка жилья  \n",
       "6           операции с жильем  \n",
       "7                 образование  \n",
       "8       на проведение свадьбы  \n",
       "9     покупка жилья для семьи  "
      ]
     },
     "metadata": {},
     "execution_count": 362
    }
   ],
   "metadata": {}
  },
  {
   "cell_type": "markdown",
   "source": [
    "    Проведем проверку таблицы на наличие дубликатов в данных:"
   ],
   "metadata": {}
  },
  {
   "cell_type": "code",
   "execution_count": 363,
   "source": [
    "df.duplicated().sum()"
   ],
   "outputs": [
    {
     "output_type": "execute_result",
     "data": {
      "text/plain": [
       "72"
      ]
     },
     "metadata": {},
     "execution_count": 363
    }
   ],
   "metadata": {}
  },
  {
   "cell_type": "markdown",
   "source": [
    "**Вывод:** Видим 72 дубля. Происхождение которых неясно. Избавимся от дублей и сбросив индексы данных."
   ],
   "metadata": {}
  },
  {
   "cell_type": "code",
   "execution_count": 364,
   "source": [
    "df = df.drop_duplicates().reset_index(drop=True)"
   ],
   "outputs": [],
   "metadata": {}
  },
  {
   "cell_type": "markdown",
   "source": [
    "    Проверяем наличие дубликатов"
   ],
   "metadata": {}
  },
  {
   "cell_type": "code",
   "execution_count": 365,
   "source": [
    "df.duplicated().sum()"
   ],
   "outputs": [
    {
     "output_type": "execute_result",
     "data": {
      "text/plain": [
       "0"
      ]
     },
     "metadata": {},
     "execution_count": 365
    }
   ],
   "metadata": {}
  },
  {
   "cell_type": "markdown",
   "source": [
    "**Вывод:** В данных отсутствуют дубликаты, что позволянт провести достоверный анализ"
   ],
   "metadata": {}
  },
  {
   "cell_type": "markdown",
   "source": [
    "### Лемматизация"
   ],
   "metadata": {}
  },
  {
   "cell_type": "markdown",
   "source": [
    "    Основная цель кредита - это преобретение материальных или нематериальных товаров. \n",
    "    Определим на какие цели берется кредит:"
   ],
   "metadata": {}
  },
  {
   "cell_type": "markdown",
   "source": [
    "    Цели содержатся в столбеце purpose_loan. Сформируем уникальные цели по нему:"
   ],
   "metadata": {}
  },
  {
   "cell_type": "code",
   "execution_count": 366,
   "source": [
    "purpose_loan_unique = pd.DataFrame(df['purpose_loan'].unique(), columns = ['purpose_loan'])\r\n",
    "purpose_loan_unique"
   ],
   "outputs": [
    {
     "output_type": "execute_result",
     "data": {
      "text/html": [
       "<div>\n",
       "<style scoped>\n",
       "    .dataframe tbody tr th:only-of-type {\n",
       "        vertical-align: middle;\n",
       "    }\n",
       "\n",
       "    .dataframe tbody tr th {\n",
       "        vertical-align: top;\n",
       "    }\n",
       "\n",
       "    .dataframe thead th {\n",
       "        text-align: right;\n",
       "    }\n",
       "</style>\n",
       "<table border=\"1\" class=\"dataframe\">\n",
       "  <thead>\n",
       "    <tr style=\"text-align: right;\">\n",
       "      <th></th>\n",
       "      <th>purpose_loan</th>\n",
       "    </tr>\n",
       "  </thead>\n",
       "  <tbody>\n",
       "    <tr>\n",
       "      <th>0</th>\n",
       "      <td>покупка жилья</td>\n",
       "    </tr>\n",
       "    <tr>\n",
       "      <th>1</th>\n",
       "      <td>приобретение автомобиля</td>\n",
       "    </tr>\n",
       "    <tr>\n",
       "      <th>2</th>\n",
       "      <td>дополнительное образование</td>\n",
       "    </tr>\n",
       "    <tr>\n",
       "      <th>3</th>\n",
       "      <td>сыграть свадьбу</td>\n",
       "    </tr>\n",
       "    <tr>\n",
       "      <th>4</th>\n",
       "      <td>операции с жильем</td>\n",
       "    </tr>\n",
       "    <tr>\n",
       "      <th>5</th>\n",
       "      <td>образование</td>\n",
       "    </tr>\n",
       "    <tr>\n",
       "      <th>6</th>\n",
       "      <td>на проведение свадьбы</td>\n",
       "    </tr>\n",
       "    <tr>\n",
       "      <th>7</th>\n",
       "      <td>покупка жилья для семьи</td>\n",
       "    </tr>\n",
       "    <tr>\n",
       "      <th>8</th>\n",
       "      <td>покупка недвижимости</td>\n",
       "    </tr>\n",
       "    <tr>\n",
       "      <th>9</th>\n",
       "      <td>покупка коммерческой недвижимости</td>\n",
       "    </tr>\n",
       "    <tr>\n",
       "      <th>10</th>\n",
       "      <td>покупка жилой недвижимости</td>\n",
       "    </tr>\n",
       "    <tr>\n",
       "      <th>11</th>\n",
       "      <td>строительство собственной недвижимости</td>\n",
       "    </tr>\n",
       "    <tr>\n",
       "      <th>12</th>\n",
       "      <td>недвижимость</td>\n",
       "    </tr>\n",
       "    <tr>\n",
       "      <th>13</th>\n",
       "      <td>строительство недвижимости</td>\n",
       "    </tr>\n",
       "    <tr>\n",
       "      <th>14</th>\n",
       "      <td>на покупку подержанного автомобиля</td>\n",
       "    </tr>\n",
       "    <tr>\n",
       "      <th>15</th>\n",
       "      <td>на покупку своего автомобиля</td>\n",
       "    </tr>\n",
       "    <tr>\n",
       "      <th>16</th>\n",
       "      <td>операции с коммерческой недвижимостью</td>\n",
       "    </tr>\n",
       "    <tr>\n",
       "      <th>17</th>\n",
       "      <td>строительство жилой недвижимости</td>\n",
       "    </tr>\n",
       "    <tr>\n",
       "      <th>18</th>\n",
       "      <td>жилье</td>\n",
       "    </tr>\n",
       "    <tr>\n",
       "      <th>19</th>\n",
       "      <td>операции со своей недвижимостью</td>\n",
       "    </tr>\n",
       "    <tr>\n",
       "      <th>20</th>\n",
       "      <td>автомобили</td>\n",
       "    </tr>\n",
       "    <tr>\n",
       "      <th>21</th>\n",
       "      <td>заняться образованием</td>\n",
       "    </tr>\n",
       "    <tr>\n",
       "      <th>22</th>\n",
       "      <td>сделка с подержанным автомобилем</td>\n",
       "    </tr>\n",
       "    <tr>\n",
       "      <th>23</th>\n",
       "      <td>получение образования</td>\n",
       "    </tr>\n",
       "    <tr>\n",
       "      <th>24</th>\n",
       "      <td>автомобиль</td>\n",
       "    </tr>\n",
       "    <tr>\n",
       "      <th>25</th>\n",
       "      <td>свадьба</td>\n",
       "    </tr>\n",
       "    <tr>\n",
       "      <th>26</th>\n",
       "      <td>получение дополнительного образования</td>\n",
       "    </tr>\n",
       "    <tr>\n",
       "      <th>27</th>\n",
       "      <td>покупка своего жилья</td>\n",
       "    </tr>\n",
       "    <tr>\n",
       "      <th>28</th>\n",
       "      <td>операции с недвижимостью</td>\n",
       "    </tr>\n",
       "    <tr>\n",
       "      <th>29</th>\n",
       "      <td>получение высшего образования</td>\n",
       "    </tr>\n",
       "    <tr>\n",
       "      <th>30</th>\n",
       "      <td>свой автомобиль</td>\n",
       "    </tr>\n",
       "    <tr>\n",
       "      <th>31</th>\n",
       "      <td>сделка с автомобилем</td>\n",
       "    </tr>\n",
       "    <tr>\n",
       "      <th>32</th>\n",
       "      <td>профильное образование</td>\n",
       "    </tr>\n",
       "    <tr>\n",
       "      <th>33</th>\n",
       "      <td>высшее образование</td>\n",
       "    </tr>\n",
       "    <tr>\n",
       "      <th>34</th>\n",
       "      <td>покупка жилья для сдачи</td>\n",
       "    </tr>\n",
       "    <tr>\n",
       "      <th>35</th>\n",
       "      <td>на покупку автомобиля</td>\n",
       "    </tr>\n",
       "    <tr>\n",
       "      <th>36</th>\n",
       "      <td>ремонт жилью</td>\n",
       "    </tr>\n",
       "    <tr>\n",
       "      <th>37</th>\n",
       "      <td>заняться высшим образованием</td>\n",
       "    </tr>\n",
       "  </tbody>\n",
       "</table>\n",
       "</div>"
      ],
      "text/plain": [
       "                              purpose_loan\n",
       "0                            покупка жилья\n",
       "1                  приобретение автомобиля\n",
       "2               дополнительное образование\n",
       "3                          сыграть свадьбу\n",
       "4                        операции с жильем\n",
       "5                              образование\n",
       "6                    на проведение свадьбы\n",
       "7                  покупка жилья для семьи\n",
       "8                     покупка недвижимости\n",
       "9        покупка коммерческой недвижимости\n",
       "10              покупка жилой недвижимости\n",
       "11  строительство собственной недвижимости\n",
       "12                            недвижимость\n",
       "13              строительство недвижимости\n",
       "14      на покупку подержанного автомобиля\n",
       "15            на покупку своего автомобиля\n",
       "16   операции с коммерческой недвижимостью\n",
       "17        строительство жилой недвижимости\n",
       "18                                   жилье\n",
       "19         операции со своей недвижимостью\n",
       "20                              автомобили\n",
       "21                   заняться образованием\n",
       "22        сделка с подержанным автомобилем\n",
       "23                   получение образования\n",
       "24                              автомобиль\n",
       "25                                 свадьба\n",
       "26   получение дополнительного образования\n",
       "27                    покупка своего жилья\n",
       "28                операции с недвижимостью\n",
       "29           получение высшего образования\n",
       "30                         свой автомобиль\n",
       "31                    сделка с автомобилем\n",
       "32                  профильное образование\n",
       "33                      высшее образование\n",
       "34                 покупка жилья для сдачи\n",
       "35                   на покупку автомобиля\n",
       "36                            ремонт жилью\n",
       "37            заняться высшим образованием"
      ]
     },
     "metadata": {},
     "execution_count": 366
    }
   ],
   "metadata": {}
  },
  {
   "cell_type": "markdown",
   "source": [
    "    Проведем лемматизацию по столбцу purpose_loan:"
   ],
   "metadata": {}
  },
  {
   "cell_type": "code",
   "execution_count": 367,
   "source": [
    "m = Mystem()\r\n",
    "purpose_unique = df['purpose_loan'].unique()\r\n",
    "lemma = []\r\n",
    "\r\n",
    "for row in purpose_unique:\r\n",
    "    result = ''.join(m.lemmatize(row)).strip()\r\n",
    "    lemma.append(result)\r\n",
    "\r\n",
    "text = m.lemmatize(' '.join(lemma))\r\n",
    "\r\n",
    "lemma_cnt = Counter(text)\r\n",
    "\r\n",
    "\r\n",
    "print(lemma_cnt)\r\n"
   ],
   "outputs": [
    {
     "output_type": "stream",
     "name": "stdout",
     "text": [
      "Counter({' ': 96, 'покупка': 10, 'недвижимость': 10, 'автомобиль': 9, 'образование': 9, 'жилье': 7, 'с': 5, 'операция': 4, 'на': 4, 'свой': 4, 'свадьба': 3, 'строительство': 3, 'получение': 3, 'высокий': 3, 'дополнительный': 2, 'для': 2, 'коммерческий': 2, 'жилой': 2, 'заниматься': 2, 'сделка': 2, 'приобретение': 1, 'сыграть': 1, 'проведение': 1, 'семья': 1, 'собственный': 1, 'подержать': 1, 'со': 1, 'подержанный': 1, 'профильный': 1, 'сдача': 1, 'ремонт': 1, '\\n': 1})\n"
     ]
    }
   ],
   "metadata": {}
  },
  {
   "cell_type": "markdown",
   "source": [
    "    Определим количество целей"
   ],
   "metadata": {}
  },
  {
   "cell_type": "code",
   "execution_count": 368,
   "source": [
    "def purpose_loan_final(row):\r\n",
    "    purpose_final = row['purpose_loan']\r\n",
    "   \r\n",
    "    if 'квартир' in purpose_final or 'дом' in purpose_final or 'недвиж' in purpose_final or 'жиль' in purpose_final:\r\n",
    "        return 'недвижимость'\r\n",
    "    elif 'авто' in purpose_final or 'машин' in purpose_final:\r\n",
    "        return 'автомобиль'\r\n",
    "    elif 'свадьб' in purpose_final:\r\n",
    "        return 'свадьба'\r\n",
    "    elif 'образ' in purpose_final:\r\n",
    "        return 'образование'\r\n",
    "    elif 'ремонт' in purpose_final:\r\n",
    "            return 'ремонт'\r\n",
    "    else:\r\n",
    "        return purpose_final\r\n",
    "    \r\n",
    "df['lemm_purpose'] = df.apply(purpose_loan_final, axis=1)   \r\n",
    "df['lemm_purpose'].value_counts()\r\n",
    "\r\n"
   ],
   "outputs": [
    {
     "output_type": "execute_result",
     "data": {
      "text/plain": [
       "недвижимость    10811\n",
       "автомобиль       4306\n",
       "образование      4013\n",
       "свадьба          2323\n",
       "Name: lemm_purpose, dtype: int64"
      ]
     },
     "metadata": {},
     "execution_count": 368
    }
   ],
   "metadata": {}
  },
  {
   "cell_type": "markdown",
   "source": [
    "**Вывод:** Лемматизация позволила определить основные цели кредита: **покупка жилья, покупка автомобиля, образование, свадьба**."
   ],
   "metadata": {}
  },
  {
   "cell_type": "markdown",
   "source": [
    "### Категоризация данных"
   ],
   "metadata": {}
  },
  {
   "cell_type": "markdown",
   "source": [
    "    Создадим таблицу с уникальными значениями и их количеством:"
   ],
   "metadata": {}
  },
  {
   "cell_type": "code",
   "execution_count": 369,
   "source": [
    "unique_cnt = pd.DataFrame.from_records([(col, df[col].nunique()) for col in df.columns], \r\n",
    "columns=['column_name', 'unique']).sort_values(by=['unique'])\r\n",
    "unique_cnt # отобразим все уникальные значения из df и их количество"
   ],
   "outputs": [
    {
     "output_type": "execute_result",
     "data": {
      "text/html": [
       "<div>\n",
       "<style scoped>\n",
       "    .dataframe tbody tr th:only-of-type {\n",
       "        vertical-align: middle;\n",
       "    }\n",
       "\n",
       "    .dataframe tbody tr th {\n",
       "        vertical-align: top;\n",
       "    }\n",
       "\n",
       "    .dataframe thead th {\n",
       "        text-align: right;\n",
       "    }\n",
       "</style>\n",
       "<table border=\"1\" class=\"dataframe\">\n",
       "  <thead>\n",
       "    <tr style=\"text-align: right;\">\n",
       "      <th></th>\n",
       "      <th>column_name</th>\n",
       "      <th>unique</th>\n",
       "    </tr>\n",
       "  </thead>\n",
       "  <tbody>\n",
       "    <tr>\n",
       "      <th>7</th>\n",
       "      <td>gender</td>\n",
       "      <td>2</td>\n",
       "    </tr>\n",
       "    <tr>\n",
       "      <th>9</th>\n",
       "      <td>debt</td>\n",
       "      <td>2</td>\n",
       "    </tr>\n",
       "    <tr>\n",
       "      <th>12</th>\n",
       "      <td>lemm_purpose</td>\n",
       "      <td>4</td>\n",
       "    </tr>\n",
       "    <tr>\n",
       "      <th>3</th>\n",
       "      <td>education_level</td>\n",
       "      <td>5</td>\n",
       "    </tr>\n",
       "    <tr>\n",
       "      <th>4</th>\n",
       "      <td>education_id</td>\n",
       "      <td>5</td>\n",
       "    </tr>\n",
       "    <tr>\n",
       "      <th>5</th>\n",
       "      <td>family_status</td>\n",
       "      <td>5</td>\n",
       "    </tr>\n",
       "    <tr>\n",
       "      <th>6</th>\n",
       "      <td>family_status_id</td>\n",
       "      <td>5</td>\n",
       "    </tr>\n",
       "    <tr>\n",
       "      <th>0</th>\n",
       "      <td>children_number</td>\n",
       "      <td>6</td>\n",
       "    </tr>\n",
       "    <tr>\n",
       "      <th>8</th>\n",
       "      <td>income_type</td>\n",
       "      <td>8</td>\n",
       "    </tr>\n",
       "    <tr>\n",
       "      <th>11</th>\n",
       "      <td>purpose_loan</td>\n",
       "      <td>38</td>\n",
       "    </tr>\n",
       "    <tr>\n",
       "      <th>2</th>\n",
       "      <td>full_age</td>\n",
       "      <td>57</td>\n",
       "    </tr>\n",
       "    <tr>\n",
       "      <th>1</th>\n",
       "      <td>days_employed</td>\n",
       "      <td>9086</td>\n",
       "    </tr>\n",
       "    <tr>\n",
       "      <th>10</th>\n",
       "      <td>total_income</td>\n",
       "      <td>18606</td>\n",
       "    </tr>\n",
       "  </tbody>\n",
       "</table>\n",
       "</div>"
      ],
      "text/plain": [
       "         column_name  unique\n",
       "7             gender       2\n",
       "9               debt       2\n",
       "12      lemm_purpose       4\n",
       "3    education_level       5\n",
       "4       education_id       5\n",
       "5      family_status       5\n",
       "6   family_status_id       5\n",
       "0    children_number       6\n",
       "8        income_type       8\n",
       "11      purpose_loan      38\n",
       "2           full_age      57\n",
       "1      days_employed    9086\n",
       "10      total_income   18606"
      ]
     },
     "metadata": {},
     "execution_count": 369
    }
   ],
   "metadata": {}
  },
  {
   "cell_type": "markdown",
   "source": [
    "Выделим **категориальные** данные: gender, education_level, education_id, family_status, family_status_id, income_type, purpose_loan\n",
    "\n",
    "**Количественные:** children_number, full_age, days_employed, total_income\n",
    "\n",
    "**Логические:** debt\n"
   ],
   "metadata": {}
  },
  {
   "cell_type": "markdown",
   "source": [
    "    Значимые категории для расчета показателей: total_income, children_number, full_age"
   ],
   "metadata": {}
  },
  {
   "cell_type": "markdown",
   "source": [
    "    Посчитаем медианный доход:"
   ],
   "metadata": {}
  },
  {
   "cell_type": "code",
   "execution_count": 370,
   "source": [
    "df['total_income'].median()\r\n",
    "#df['total_income'].mean()"
   ],
   "outputs": [
    {
     "output_type": "execute_result",
     "data": {
      "text/plain": [
       "145017.0"
      ]
     },
     "metadata": {},
     "execution_count": 370
    }
   ],
   "metadata": {}
  },
  {
   "cell_type": "markdown",
   "source": [
    "    Ежемесячный доход распределим по категориям:"
   ],
   "metadata": {}
  },
  {
   "cell_type": "code",
   "execution_count": 371,
   "source": [
    "def category_total_income(row):\r\n",
    "    if row <= 50000:\r\n",
    "        return 'низкий доход до 50.000'\r\n",
    "    \r\n",
    "    if row <= 150000:\r\n",
    "        return 'средний доход от 50.000 до 150.000'\r\n",
    "    \r\n",
    "    if row <= 300000:\r\n",
    "        return 'высокий доход от 150.000 до 300.000'\r\n",
    "    \r\n",
    "    if row > 300000:\r\n",
    "        return 'доход более 300.000'\r\n",
    "    \r\n",
    "\r\n",
    "    \r\n",
    "df['category_total_income'] = df['total_income'].apply(category_total_income)\r\n",
    "df['category_total_income'].value_counts()"
   ],
   "outputs": [
    {
     "output_type": "execute_result",
     "data": {
      "text/plain": [
       "средний доход от 50.000 до 150.000     11897\n",
       "высокий доход от 150.000 до 300.000     7702\n",
       "доход более 300.000                     1482\n",
       "низкий доход до 50.000                   372\n",
       "Name: category_total_income, dtype: int64"
      ]
     },
     "metadata": {},
     "execution_count": 371
    }
   ],
   "metadata": {}
  },
  {
   "cell_type": "markdown",
   "source": [
    "\r\n",
    "    Распределим количество детей по категориям:"
   ],
   "metadata": {}
  },
  {
   "cell_type": "code",
   "execution_count": 372,
   "source": [
    "print(df['children_number'].value_counts())\r\n",
    "\r\n",
    "def category_children(row):\r\n",
    "    if row == 0:\r\n",
    "        return 'нет детей'\r\n",
    "    elif row < 3:\r\n",
    "        return 'обычная семья'\r\n",
    "    else:\r\n",
    "        return 'многодетная семья'\r\n",
    "    \r\n",
    "df['category_children'] = df['children_number'].apply(category_children)\r\n",
    "df['category_children'].value_counts()"
   ],
   "outputs": [
    {
     "output_type": "stream",
     "name": "stdout",
     "text": [
      "0    14090\n",
      "1     4855\n",
      "2     2128\n",
      "3      330\n",
      "4       41\n",
      "5        9\n",
      "Name: children_number, dtype: int64\n"
     ]
    },
    {
     "output_type": "execute_result",
     "data": {
      "text/plain": [
       "нет детей            14090\n",
       "обычная семья         6983\n",
       "многодетная семья      380\n",
       "Name: category_children, dtype: int64"
      ]
     },
     "metadata": {},
     "execution_count": 372
    }
   ],
   "metadata": {}
  },
  {
   "cell_type": "markdown",
   "source": [
    "    Распределим возраст заемщиков по категориям:"
   ],
   "metadata": {}
  },
  {
   "cell_type": "code",
   "execution_count": 389,
   "source": [
    "def category_full_age(row):\r\n",
    "    if row <= 30:\r\n",
    "        return 'молодой'\r\n",
    "    \r\n",
    "    if row <= 60:\r\n",
    "        return 'средний возраст'\r\n",
    "    \r\n",
    "    if row > 60:\r\n",
    "        return 'пенсионер'\r\n",
    "    \r\n",
    "\r\n",
    "    \r\n",
    "df['category_full_age'] = df['full_age'].apply(category_full_age)\r\n",
    "df['category_full_age'].value_counts()"
   ],
   "outputs": [
    {
     "output_type": "execute_result",
     "data": {
      "text/plain": [
       "средний возраст    15610\n",
       "молодой             3717\n",
       "пенсионер           2126\n",
       "Name: category_full_age, dtype: int64"
      ]
     },
     "metadata": {},
     "execution_count": 389
    }
   ],
   "metadata": {}
  },
  {
   "cell_type": "markdown",
   "source": [
    "**Вывод:** Категоризация данных необходима для проведения оценки надежности заемщика "
   ],
   "metadata": {}
  },
  {
   "cell_type": "markdown",
   "source": [
    "## Шаг 3. Ответьте на вопросы"
   ],
   "metadata": {}
  },
  {
   "cell_type": "markdown",
   "source": [
    "- Есть ли зависимость между наличием детей и возвратом кредита в срок?"
   ],
   "metadata": {}
  },
  {
   "cell_type": "markdown",
   "source": [
    "    Для подготовки сводных таблиц используем метод pivot_table()"
   ],
   "metadata": {}
  },
  {
   "cell_type": "code",
   "execution_count": 374,
   "source": [
    "children_debt = df.pivot_table(index='children_number', \r\n",
    "    columns='debt', \r\n",
    "    values='total_income', \r\n",
    "    aggfunc='count')\r\n",
    "children_debt"
   ],
   "outputs": [
    {
     "output_type": "execute_result",
     "data": {
      "text/html": [
       "<div>\n",
       "<style scoped>\n",
       "    .dataframe tbody tr th:only-of-type {\n",
       "        vertical-align: middle;\n",
       "    }\n",
       "\n",
       "    .dataframe tbody tr th {\n",
       "        vertical-align: top;\n",
       "    }\n",
       "\n",
       "    .dataframe thead th {\n",
       "        text-align: right;\n",
       "    }\n",
       "</style>\n",
       "<table border=\"1\" class=\"dataframe\">\n",
       "  <thead>\n",
       "    <tr style=\"text-align: right;\">\n",
       "      <th>debt</th>\n",
       "      <th>0</th>\n",
       "      <th>1</th>\n",
       "    </tr>\n",
       "    <tr>\n",
       "      <th>children_number</th>\n",
       "      <th></th>\n",
       "      <th></th>\n",
       "    </tr>\n",
       "  </thead>\n",
       "  <tbody>\n",
       "    <tr>\n",
       "      <th>0</th>\n",
       "      <td>13027.0</td>\n",
       "      <td>1063.0</td>\n",
       "    </tr>\n",
       "    <tr>\n",
       "      <th>1</th>\n",
       "      <td>4410.0</td>\n",
       "      <td>445.0</td>\n",
       "    </tr>\n",
       "    <tr>\n",
       "      <th>2</th>\n",
       "      <td>1926.0</td>\n",
       "      <td>202.0</td>\n",
       "    </tr>\n",
       "    <tr>\n",
       "      <th>3</th>\n",
       "      <td>303.0</td>\n",
       "      <td>27.0</td>\n",
       "    </tr>\n",
       "    <tr>\n",
       "      <th>4</th>\n",
       "      <td>37.0</td>\n",
       "      <td>4.0</td>\n",
       "    </tr>\n",
       "    <tr>\n",
       "      <th>5</th>\n",
       "      <td>9.0</td>\n",
       "      <td>NaN</td>\n",
       "    </tr>\n",
       "  </tbody>\n",
       "</table>\n",
       "</div>"
      ],
      "text/plain": [
       "debt                   0       1\n",
       "children_number                 \n",
       "0                13027.0  1063.0\n",
       "1                 4410.0   445.0\n",
       "2                 1926.0   202.0\n",
       "3                  303.0    27.0\n",
       "4                   37.0     4.0\n",
       "5                    9.0     NaN"
      ]
     },
     "metadata": {},
     "execution_count": 374
    }
   ],
   "metadata": {}
  },
  {
   "cell_type": "markdown",
   "source": [
    "**Вывод** Из полученных результвтов следут, что у людей с детьми задолженность больше чем у людей без детей"
   ],
   "metadata": {}
  },
  {
   "cell_type": "markdown",
   "source": [
    "- Есть ли зависимость между семейным положением и возвратом кредита в срок?"
   ],
   "metadata": {}
  },
  {
   "cell_type": "markdown",
   "source": [
    "    Посмотрим на семейный статус и ID"
   ],
   "metadata": {}
  },
  {
   "cell_type": "code",
   "execution_count": 375,
   "source": [
    "#print(df['family_status'].unique())\r\n",
    "#print(df['family_status_id'].unique())"
   ],
   "outputs": [],
   "metadata": {}
  },
  {
   "cell_type": "code",
   "execution_count": 376,
   "source": [
    "family_st = df.pivot_table(index=['family_status', 'family_status_id'],  values='debt', aggfunc='sum')\r\n",
    "family_st"
   ],
   "outputs": [
    {
     "output_type": "execute_result",
     "data": {
      "text/html": [
       "<div>\n",
       "<style scoped>\n",
       "    .dataframe tbody tr th:only-of-type {\n",
       "        vertical-align: middle;\n",
       "    }\n",
       "\n",
       "    .dataframe tbody tr th {\n",
       "        vertical-align: top;\n",
       "    }\n",
       "\n",
       "    .dataframe thead th {\n",
       "        text-align: right;\n",
       "    }\n",
       "</style>\n",
       "<table border=\"1\" class=\"dataframe\">\n",
       "  <thead>\n",
       "    <tr style=\"text-align: right;\">\n",
       "      <th></th>\n",
       "      <th></th>\n",
       "      <th>debt</th>\n",
       "    </tr>\n",
       "    <tr>\n",
       "      <th>family_status</th>\n",
       "      <th>family_status_id</th>\n",
       "      <th></th>\n",
       "    </tr>\n",
       "  </thead>\n",
       "  <tbody>\n",
       "    <tr>\n",
       "      <th>Не женат / не замужем</th>\n",
       "      <th>4</th>\n",
       "      <td>274</td>\n",
       "    </tr>\n",
       "    <tr>\n",
       "      <th>в разводе</th>\n",
       "      <th>3</th>\n",
       "      <td>85</td>\n",
       "    </tr>\n",
       "    <tr>\n",
       "      <th>вдовец / вдова</th>\n",
       "      <th>2</th>\n",
       "      <td>63</td>\n",
       "    </tr>\n",
       "    <tr>\n",
       "      <th>гражданский брак</th>\n",
       "      <th>1</th>\n",
       "      <td>388</td>\n",
       "    </tr>\n",
       "    <tr>\n",
       "      <th>женат / замужем</th>\n",
       "      <th>0</th>\n",
       "      <td>931</td>\n",
       "    </tr>\n",
       "  </tbody>\n",
       "</table>\n",
       "</div>"
      ],
      "text/plain": [
       "                                        debt\n",
       "family_status         family_status_id      \n",
       "Не женат / не замужем 4                  274\n",
       "в разводе             3                   85\n",
       "вдовец / вдова        2                   63\n",
       "гражданский брак      1                  388\n",
       "женат / замужем       0                  931"
      ]
     },
     "metadata": {},
     "execution_count": 376
    }
   ],
   "metadata": {}
  },
  {
   "cell_type": "markdown",
   "source": [],
   "metadata": {}
  },
  {
   "cell_type": "code",
   "execution_count": 377,
   "source": [
    "\r\n",
    "family_status_pivot = df.pivot_table(index='family_status', \r\n",
    "    columns='debt', \r\n",
    "    values='family_status_id', \r\n",
    "    aggfunc='count')\r\n",
    "family_status_pivot"
   ],
   "outputs": [
    {
     "output_type": "execute_result",
     "data": {
      "text/html": [
       "<div>\n",
       "<style scoped>\n",
       "    .dataframe tbody tr th:only-of-type {\n",
       "        vertical-align: middle;\n",
       "    }\n",
       "\n",
       "    .dataframe tbody tr th {\n",
       "        vertical-align: top;\n",
       "    }\n",
       "\n",
       "    .dataframe thead th {\n",
       "        text-align: right;\n",
       "    }\n",
       "</style>\n",
       "<table border=\"1\" class=\"dataframe\">\n",
       "  <thead>\n",
       "    <tr style=\"text-align: right;\">\n",
       "      <th>debt</th>\n",
       "      <th>0</th>\n",
       "      <th>1</th>\n",
       "    </tr>\n",
       "    <tr>\n",
       "      <th>family_status</th>\n",
       "      <th></th>\n",
       "      <th></th>\n",
       "    </tr>\n",
       "  </thead>\n",
       "  <tbody>\n",
       "    <tr>\n",
       "      <th>Не женат / не замужем</th>\n",
       "      <td>2536</td>\n",
       "      <td>274</td>\n",
       "    </tr>\n",
       "    <tr>\n",
       "      <th>в разводе</th>\n",
       "      <td>1110</td>\n",
       "      <td>85</td>\n",
       "    </tr>\n",
       "    <tr>\n",
       "      <th>вдовец / вдова</th>\n",
       "      <td>896</td>\n",
       "      <td>63</td>\n",
       "    </tr>\n",
       "    <tr>\n",
       "      <th>гражданский брак</th>\n",
       "      <td>3762</td>\n",
       "      <td>388</td>\n",
       "    </tr>\n",
       "    <tr>\n",
       "      <th>женат / замужем</th>\n",
       "      <td>11408</td>\n",
       "      <td>931</td>\n",
       "    </tr>\n",
       "  </tbody>\n",
       "</table>\n",
       "</div>"
      ],
      "text/plain": [
       "debt                       0    1\n",
       "family_status                    \n",
       "Не женат / не замужем   2536  274\n",
       "в разводе               1110   85\n",
       "вдовец / вдова           896   63\n",
       "гражданский брак        3762  388\n",
       "женат / замужем        11408  931"
      ]
     },
     "metadata": {},
     "execution_count": 377
    }
   ],
   "metadata": {}
  },
  {
   "cell_type": "markdown",
   "source": [
    "    Рассчитаем количество должников по каждой категории:"
   ],
   "metadata": {}
  },
  {
   "cell_type": "code",
   "execution_count": 390,
   "source": [
    "family_status_pivot['ratio'] = (family_status_pivot[1] / (family_status_pivot[1] + \r\n",
    "    family_status_pivot[0]) * 100)\r\n",
    "family_status_pivot.sort_values('ratio', ascending=False)"
   ],
   "outputs": [
    {
     "output_type": "execute_result",
     "data": {
      "text/html": [
       "<div>\n",
       "<style scoped>\n",
       "    .dataframe tbody tr th:only-of-type {\n",
       "        vertical-align: middle;\n",
       "    }\n",
       "\n",
       "    .dataframe tbody tr th {\n",
       "        vertical-align: top;\n",
       "    }\n",
       "\n",
       "    .dataframe thead th {\n",
       "        text-align: right;\n",
       "    }\n",
       "</style>\n",
       "<table border=\"1\" class=\"dataframe\">\n",
       "  <thead>\n",
       "    <tr style=\"text-align: right;\">\n",
       "      <th>debt</th>\n",
       "      <th>0</th>\n",
       "      <th>1</th>\n",
       "      <th>ratio</th>\n",
       "    </tr>\n",
       "    <tr>\n",
       "      <th>family_status</th>\n",
       "      <th></th>\n",
       "      <th></th>\n",
       "      <th></th>\n",
       "    </tr>\n",
       "  </thead>\n",
       "  <tbody>\n",
       "    <tr>\n",
       "      <th>Не женат / не замужем</th>\n",
       "      <td>2536</td>\n",
       "      <td>274</td>\n",
       "      <td>9.750890</td>\n",
       "    </tr>\n",
       "    <tr>\n",
       "      <th>гражданский брак</th>\n",
       "      <td>3762</td>\n",
       "      <td>388</td>\n",
       "      <td>9.349398</td>\n",
       "    </tr>\n",
       "    <tr>\n",
       "      <th>женат / замужем</th>\n",
       "      <td>11408</td>\n",
       "      <td>931</td>\n",
       "      <td>7.545182</td>\n",
       "    </tr>\n",
       "    <tr>\n",
       "      <th>в разводе</th>\n",
       "      <td>1110</td>\n",
       "      <td>85</td>\n",
       "      <td>7.112971</td>\n",
       "    </tr>\n",
       "    <tr>\n",
       "      <th>вдовец / вдова</th>\n",
       "      <td>896</td>\n",
       "      <td>63</td>\n",
       "      <td>6.569343</td>\n",
       "    </tr>\n",
       "  </tbody>\n",
       "</table>\n",
       "</div>"
      ],
      "text/plain": [
       "debt                       0    1     ratio\n",
       "family_status                              \n",
       "Не женат / не замужем   2536  274  9.750890\n",
       "гражданский брак        3762  388  9.349398\n",
       "женат / замужем        11408  931  7.545182\n",
       "в разводе               1110   85  7.112971\n",
       "вдовец / вдова           896   63  6.569343"
      ]
     },
     "metadata": {},
     "execution_count": 390
    }
   ],
   "metadata": {}
  },
  {
   "cell_type": "markdown",
   "source": [
    "**Вывод**: Больше всего должников находятся в статусе: Не женат / не замужем и гражданский брак."
   ],
   "metadata": {}
  },
  {
   "cell_type": "markdown",
   "source": [
    "- Есть ли зависимость между уровнем дохода и возвратом кредита в срок?"
   ],
   "metadata": {}
  },
  {
   "cell_type": "code",
   "execution_count": 379,
   "source": [
    "total_income_debt = df.pivot_table(index='category_total_income', columns='debt', values='total_income', aggfunc='count')\r\n",
    "\r\n",
    "total_income_debt['ratio'] = (total_income_debt[1] / total_income_debt[0]) * 100\r\n",
    "total_income_debt['sum'] = total_income_debt[1] + total_income_debt[0]\r\n",
    "\r\n",
    "total_income_debt.loc[:, ['ratio', 'sum']]"
   ],
   "outputs": [
    {
     "output_type": "execute_result",
     "data": {
      "text/html": [
       "<div>\n",
       "<style scoped>\n",
       "    .dataframe tbody tr th:only-of-type {\n",
       "        vertical-align: middle;\n",
       "    }\n",
       "\n",
       "    .dataframe tbody tr th {\n",
       "        vertical-align: top;\n",
       "    }\n",
       "\n",
       "    .dataframe thead th {\n",
       "        text-align: right;\n",
       "    }\n",
       "</style>\n",
       "<table border=\"1\" class=\"dataframe\">\n",
       "  <thead>\n",
       "    <tr style=\"text-align: right;\">\n",
       "      <th>debt</th>\n",
       "      <th>ratio</th>\n",
       "      <th>sum</th>\n",
       "    </tr>\n",
       "    <tr>\n",
       "      <th>category_total_income</th>\n",
       "      <th></th>\n",
       "      <th></th>\n",
       "    </tr>\n",
       "  </thead>\n",
       "  <tbody>\n",
       "    <tr>\n",
       "      <th>высокий доход от 150.000 до 300.000</th>\n",
       "      <td>8.754589</td>\n",
       "      <td>7702</td>\n",
       "    </tr>\n",
       "    <tr>\n",
       "      <th>доход более 300.000</th>\n",
       "      <td>7.703488</td>\n",
       "      <td>1482</td>\n",
       "    </tr>\n",
       "    <tr>\n",
       "      <th>низкий доход до 50.000</th>\n",
       "      <td>6.590258</td>\n",
       "      <td>372</td>\n",
       "    </tr>\n",
       "    <tr>\n",
       "      <th>средний доход от 50.000 до 150.000</th>\n",
       "      <td>9.096745</td>\n",
       "      <td>11897</td>\n",
       "    </tr>\n",
       "  </tbody>\n",
       "</table>\n",
       "</div>"
      ],
      "text/plain": [
       "debt                                    ratio    sum\n",
       "category_total_income                               \n",
       "высокий доход от 150.000 до 300.000  8.754589   7702\n",
       "доход более 300.000                  7.703488   1482\n",
       "низкий доход до 50.000               6.590258    372\n",
       "средний доход от 50.000 до 150.000   9.096745  11897"
      ]
     },
     "metadata": {},
     "execution_count": 379
    }
   ],
   "metadata": {}
  },
  {
   "cell_type": "markdown",
   "source": [
    "**Вывод** Чаще должниками становятся люди со средним доходом: 9,1%. Меньше вмего должников среди людей с низким доходом: 6,6%."
   ],
   "metadata": {}
  },
  {
   "cell_type": "markdown",
   "source": [
    "- Как разные цели кредита влияют на его возврат в срок?"
   ],
   "metadata": {}
  },
  {
   "cell_type": "markdown",
   "source": [],
   "metadata": {}
  },
  {
   "cell_type": "code",
   "execution_count": 392,
   "source": [
    "df.pivot_table(\r\n",
    "    index='lemm_purpose', \r\n",
    "    values='debt', \r\n",
    "    aggfunc=['count', 'sum', 'mean']).style.format({('mean', 'debt'): '{:,.2%}'.format})"
   ],
   "outputs": [
    {
     "output_type": "execute_result",
     "data": {
      "text/html": [
       "<style type=\"text/css\">\n",
       "</style>\n",
       "<table id=\"T_8b98b_\">\n",
       "  <thead>\n",
       "    <tr>\n",
       "      <th class=\"blank level0\" >&nbsp;</th>\n",
       "      <th class=\"col_heading level0 col0\" >count</th>\n",
       "      <th class=\"col_heading level0 col1\" >sum</th>\n",
       "      <th class=\"col_heading level0 col2\" >mean</th>\n",
       "    </tr>\n",
       "    <tr>\n",
       "      <th class=\"blank level1\" >&nbsp;</th>\n",
       "      <th class=\"col_heading level1 col0\" >debt</th>\n",
       "      <th class=\"col_heading level1 col1\" >debt</th>\n",
       "      <th class=\"col_heading level1 col2\" >debt</th>\n",
       "    </tr>\n",
       "    <tr>\n",
       "      <th class=\"index_name level0\" >lemm_purpose</th>\n",
       "      <th class=\"blank col0\" >&nbsp;</th>\n",
       "      <th class=\"blank col1\" >&nbsp;</th>\n",
       "      <th class=\"blank col2\" >&nbsp;</th>\n",
       "    </tr>\n",
       "  </thead>\n",
       "  <tbody>\n",
       "    <tr>\n",
       "      <th id=\"T_8b98b_level0_row0\" class=\"row_heading level0 row0\" >автомобиль</th>\n",
       "      <td id=\"T_8b98b_row0_col0\" class=\"data row0 col0\" >4306</td>\n",
       "      <td id=\"T_8b98b_row0_col1\" class=\"data row0 col1\" >403</td>\n",
       "      <td id=\"T_8b98b_row0_col2\" class=\"data row0 col2\" >9.36%</td>\n",
       "    </tr>\n",
       "    <tr>\n",
       "      <th id=\"T_8b98b_level0_row1\" class=\"row_heading level0 row1\" >недвижимость</th>\n",
       "      <td id=\"T_8b98b_row1_col0\" class=\"data row1 col0\" >10811</td>\n",
       "      <td id=\"T_8b98b_row1_col1\" class=\"data row1 col1\" >782</td>\n",
       "      <td id=\"T_8b98b_row1_col2\" class=\"data row1 col2\" >7.23%</td>\n",
       "    </tr>\n",
       "    <tr>\n",
       "      <th id=\"T_8b98b_level0_row2\" class=\"row_heading level0 row2\" >образование</th>\n",
       "      <td id=\"T_8b98b_row2_col0\" class=\"data row2 col0\" >4013</td>\n",
       "      <td id=\"T_8b98b_row2_col1\" class=\"data row2 col1\" >370</td>\n",
       "      <td id=\"T_8b98b_row2_col2\" class=\"data row2 col2\" >9.22%</td>\n",
       "    </tr>\n",
       "    <tr>\n",
       "      <th id=\"T_8b98b_level0_row3\" class=\"row_heading level0 row3\" >свадьба</th>\n",
       "      <td id=\"T_8b98b_row3_col0\" class=\"data row3 col0\" >2323</td>\n",
       "      <td id=\"T_8b98b_row3_col1\" class=\"data row3 col1\" >186</td>\n",
       "      <td id=\"T_8b98b_row3_col2\" class=\"data row3 col2\" >8.01%</td>\n",
       "    </tr>\n",
       "  </tbody>\n",
       "</table>\n"
      ],
      "text/plain": [
       "<pandas.io.formats.style.Styler at 0x221828b6be0>"
      ]
     },
     "metadata": {},
     "execution_count": 392
    }
   ],
   "metadata": {}
  },
  {
   "cell_type": "markdown",
   "source": [
    "**Вывод:** Максимальный процент просрочки по автокредитам. Меньше всех задолжали приобретатели недвижемости. "
   ],
   "metadata": {}
  },
  {
   "cell_type": "markdown",
   "source": [],
   "metadata": {}
  },
  {
   "cell_type": "markdown",
   "source": [
    "## Шаг 4. Общий вывод"
   ],
   "metadata": {}
  },
  {
   "cell_type": "markdown",
   "source": [
    "    Сформируем финальную информацию в виде графиков:"
   ],
   "metadata": {}
  },
  {
   "cell_type": "markdown",
   "source": [
    "    Рассмотрим влияние количества детей на распределение признаков кредита:"
   ],
   "metadata": {}
  },
  {
   "cell_type": "code",
   "execution_count": 381,
   "source": [
    "clients_discr_values = ['children_number']\r\n",
    "fig, ax = plt.subplots()\r\n",
    "for column in clients_discr_values:\r\n",
    "    plt.title(\"распределение признака \"+column)\r\n",
    "    ax = sns.countplot(data=df, x=column, hue='lemm_purpose')\r\n",
    "    xax = ax.xaxis\r\n",
    "    xlabels = xax.get_ticklabels()\r\n",
    "    for label in xlabels:\r\n",
    "        label.set_rotation(0)# текст по х\r\n",
    "    plt.xlabel('количество детей')\r\n",
    "    plt.ylabel(\"количество заемщиков\")\r\n",
    "    plt.legend(bbox_to_anchor=(1, 0.5))\r\n",
    "    plt.show()"
   ],
   "outputs": [
    {
     "output_type": "display_data",
     "data": {
      "image/png": "[encoded data removed]",
      "text/plain": [
       "<Figure size 432x288 with 1 Axes>"
      ]
     },
     "metadata": {
      "needs_background": "light"
     }
    }
   ],
   "metadata": {}
  },
  {
   "cell_type": "markdown",
   "source": [
    "    Вывод: Чаще всего берут кредит люди без детей, особенно на недвижимость."
   ],
   "metadata": {}
  },
  {
   "cell_type": "markdown",
   "source": [
    "    Расссомтрим влияние образования по категории кредита:"
   ],
   "metadata": {}
  },
  {
   "cell_type": "code",
   "execution_count": 382,
   "source": [
    "clients_discr_values = ['education_level']\r\n",
    "fig, ax = plt.subplots()\r\n",
    "for column in clients_discr_values:\r\n",
    "    plt.title(\"распределение признака \"+column)\r\n",
    "    ax = sns.countplot(data=df, x=column, hue='lemm_purpose')\r\n",
    "    xax = ax.xaxis\r\n",
    "    xlabels = xax.get_ticklabels()\r\n",
    "    for label in xlabels:\r\n",
    "        label.set_rotation(30)# текст по х\r\n",
    "    plt.xlabel(\"уровень образования\")\r\n",
    "    plt.ylabel(\"количество\")\r\n",
    "    plt.legend(bbox_to_anchor=(1, 0.5))\r\n",
    "    plt.show()"
   ],
   "outputs": [
    {
     "output_type": "display_data",
     "data": {
      "image/png": "[encoded data removed]",
      "text/plain": [
       "<Figure size 432x288 with 1 Axes>"
      ]
     },
     "metadata": {
      "needs_background": "light"
     }
    }
   ],
   "metadata": {}
  },
  {
   "cell_type": "markdown",
   "source": [
    "    Вывод: Люди со средним образованием более чем в 2 раза чаще берут кредит относительно людей с высшим образованием."
   ],
   "metadata": {}
  },
  {
   "cell_type": "markdown",
   "source": [
    "    Рассмотрим влияние семейного статуса на категорию кредита"
   ],
   "metadata": {}
  },
  {
   "cell_type": "code",
   "execution_count": 383,
   "source": [
    "clients_discr_values = ['family_status']#, 'total_income'\r\n",
    "fig, ax = plt.subplots()\r\n",
    "for column in clients_discr_values:\r\n",
    "    plt.title(\"распределение признака \"+column)\r\n",
    "    ax = sns.countplot(data=df, x=column, hue='lemm_purpose')\r\n",
    "    xax = ax.xaxis\r\n",
    "    xlabels = xax.get_ticklabels()\r\n",
    "    for label in xlabels:\r\n",
    "        label.set_rotation(30)# текст по х\r\n",
    "    plt.xlabel('семейный статус')\r\n",
    "    plt.ylabel(\"количество\")\r\n",
    "    plt.legend(bbox_to_anchor=(1, 0.5))\r\n",
    "    plt.show()"
   ],
   "outputs": [
    {
     "output_type": "display_data",
     "data": {
      "image/png": "[encoded data removed]",
      "text/plain": [
       "<Figure size 432x288 with 1 Axes>"
      ]
     },
     "metadata": {
      "needs_background": "light"
     }
    }
   ],
   "metadata": {}
  },
  {
   "cell_type": "markdown",
   "source": [
    "    Вывод: чаще всего берут кредит заемщики состоящие в браке, особенно на недвижимость."
   ],
   "metadata": {}
  },
  {
   "cell_type": "markdown",
   "source": [
    "    Рассмотри влияяние пола на категорию кредита:"
   ],
   "metadata": {}
  },
  {
   "cell_type": "code",
   "execution_count": 384,
   "source": [
    "clients_discr_values = ['gender']#, 'total_income'\r\n",
    "fig, ax = plt.subplots()\r\n",
    "for column in clients_discr_values:\r\n",
    "    plt.title(\"распределение признака \"+column)\r\n",
    "    ax = sns.countplot(data=df, x=column, hue='lemm_purpose')\r\n",
    "    xax = ax.xaxis\r\n",
    "    xlabels = xax.get_ticklabels()\r\n",
    "    for label in xlabels:\r\n",
    "        label.set_rotation(0)# текст по х\r\n",
    "    plt.xlabel(\"пол\")\r\n",
    "    plt.ylabel(\"количество заемщиков\")\r\n",
    "    plt.legend(bbox_to_anchor=(1, 0.5))\r\n",
    "    plt.show()"
   ],
   "outputs": [
    {
     "output_type": "display_data",
     "data": {
      "image/png": "[encoded data removed]",
      "text/plain": [
       "<Figure size 432x288 with 1 Axes>"
      ]
     },
     "metadata": {
      "needs_background": "light"
     }
    }
   ],
   "metadata": {}
  },
  {
   "cell_type": "markdown",
   "source": [
    "    Вывод: Женщины в 2 раза чаще берут кредит по всем категориям."
   ],
   "metadata": {}
  },
  {
   "cell_type": "markdown",
   "source": [
    "    Посмотрим на распределение долга по возрастным категориям:"
   ],
   "metadata": {}
  },
  {
   "cell_type": "code",
   "execution_count": 385,
   "source": [
    "clients_discr_values = ['debt']#, 'total_income'\r\n",
    "fig, ax = plt.subplots()\r\n",
    "for column in clients_discr_values:\r\n",
    "    plt.title(\"распределение признака \"+column)\r\n",
    "    ax = sns.countplot(data=df, x=column, hue='category_full_age')\r\n",
    "    xax = ax.xaxis\r\n",
    "    xlabels = xax.get_ticklabels()\r\n",
    "    for label in xlabels:\r\n",
    "        label.set_rotation(0)# текст по х\r\n",
    "    plt.xlabel('долг')\r\n",
    "    plt.ylabel(\"количество\")\r\n",
    "    plt.legend(bbox_to_anchor=(1, 0.5))\r\n",
    "    plt.show()"
   ],
   "outputs": [
    {
     "output_type": "display_data",
     "data": {
      "image/png": "[encoded data removed]",
      "text/plain": [
       "<Figure size 432x288 with 1 Axes>"
      ]
     },
     "metadata": {
      "needs_background": "light"
     }
    }
   ],
   "metadata": {}
  },
  {
   "cell_type": "markdown",
   "source": [
    "    Вывод: чаще всего имеют задолженность люди среднего возраста."
   ],
   "metadata": {}
  },
  {
   "cell_type": "markdown",
   "source": [
    "    Рассмотрим влияние дохода на задолженность:"
   ],
   "metadata": {}
  },
  {
   "cell_type": "code",
   "execution_count": 386,
   "source": [
    "clients_discr_values = ['debt']#, 'total_income'\r\n",
    "fig, ax = plt.subplots()\r\n",
    "for column in clients_discr_values:\r\n",
    "    plt.title(\"распределение признака \"+column)\r\n",
    "    ax = sns.countplot(data=df, x=column, hue='category_total_income')\r\n",
    "    xax = ax.xaxis\r\n",
    "    xlabels = xax.get_ticklabels()\r\n",
    "    for label in xlabels:\r\n",
    "        label.set_rotation(0)# текст по х\r\n",
    "    plt.xlabel('долг')\r\n",
    "    plt.ylabel(\"количество\")\r\n",
    "    plt.legend(bbox_to_anchor=(1, 0.5))\r\n",
    "    plt.show()"
   ],
   "outputs": [
    {
     "output_type": "display_data",
     "data": {
      "image/png": "[encoded data removed]",
      "text/plain": [
       "<Figure size 432x288 with 1 Axes>"
      ]
     },
     "metadata": {
      "needs_background": "light"
     }
    }
   ],
   "metadata": {}
  },
  {
   "cell_type": "markdown",
   "source": [
    "    Вывод:Чаще всего оказываются должниками люди со средним доходом и высоким."
   ],
   "metadata": {}
  },
  {
   "cell_type": "markdown",
   "source": [
    "    Вывод: основными должниками являюся люди среднего возраста."
   ],
   "metadata": {}
  },
  {
   "cell_type": "markdown",
   "source": [
    "## Чек-лист готовности проекта\n",
    "\n",
    "Поставьте 'x' в выполненных пунктах. Далее нажмите Shift+Enter."
   ],
   "metadata": {}
  },
  {
   "cell_type": "markdown",
   "source": [
    "- [x]  открыт файл;\r\n",
    "- [x]  файл изучен;\r\n",
    "- [x]  определены пропущенные значения;\r\n",
    "- [x]  заполнены пропущенные значения;\r\n",
    "- [x]  есть пояснение, какие пропущенные значения обнаружены;\r\n",
    "- [x]  описаны возможные причины появления пропусков в данных;\r\n",
    "- [x]  объяснено, по какому принципу заполнены пропуски;\r\n",
    "- [x]  заменен вещественный тип данных на целочисленный;\r\n",
    "- [x]  есть пояснение, какой метод используется для изменения типа данных и почему;\r\n",
    "- [x]  удалены дубликаты;\r\n",
    "- [x]  есть пояснение, какой метод используется для поиска и удаления дубликатов;\r\n",
    "- [x]  описаны возможные причины появления дубликатов в данных;\r\n",
    "- [x]  выделены леммы в значениях столбца с целями получения кредита;\r\n",
    "- [x]  описан процесс лемматизации;\r\n",
    "- [x]  данные категоризированы;\r\n",
    "- [x]  есть объяснение принципа категоризации данных;\r\n",
    "- [x]  есть ответ на вопрос: \"Есть ли зависимость между наличием детей и возвратом кредита в срок?\";\r\n",
    "- [x]  есть ответ на вопрос: \"Есть ли зависимость между семейным положением и возвратом кредита в срок?\";\r\n",
    "- [x]  есть ответ на вопрос: \"Есть ли зависимость между уровнем дохода и возвратом кредита в срок?\";\r\n",
    "- [x]  есть ответ на вопрос: \"Как разные цели кредита влияют на его возврат в срок?\";\r\n",
    "- [x]  в каждом этапе есть выводы;\r\n",
    "- [x]  есть общий вывод."
   ],
   "metadata": {}
  },
  {
   "cell_type": "code",
   "execution_count": null,
   "source": [],
   "outputs": [],
   "metadata": {}
  },
  {
   "cell_type": "code",
   "execution_count": null,
   "source": [],
   "outputs": [],
   "metadata": {}
  }
 ],
 "metadata": {
  "ExecuteTimeLog": [
   {
    "duration": 927,
    "start_time": "2021-08-29T17:05:33.678Z"
   },
   {
    "duration": 115,
    "start_time": "2021-08-29T17:06:36.203Z"
   },
   {
    "duration": 87,
    "start_time": "2021-08-29T17:06:46.542Z"
   },
   {
    "duration": 48,
    "start_time": "2021-08-30T13:53:31.493Z"
   },
   {
    "duration": 104,
    "start_time": "2021-08-30T13:56:52.742Z"
   },
   {
    "duration": 12,
    "start_time": "2021-08-30T15:50:07.071Z"
   },
   {
    "duration": 20,
    "start_time": "2021-08-30T17:08:34.614Z"
   },
   {
    "duration": 8,
    "start_time": "2021-08-31T14:51:45.663Z"
   },
   {
    "duration": 21,
    "start_time": "2021-08-31T14:52:29.102Z"
   },
   {
    "duration": 15,
    "start_time": "2021-08-31T14:52:59.071Z"
   },
   {
    "duration": 5,
    "start_time": "2021-08-31T14:54:22.819Z"
   },
   {
    "duration": 6,
    "start_time": "2021-08-31T14:54:35.350Z"
   },
   {
    "duration": 5,
    "start_time": "2021-08-31T14:54:53.294Z"
   },
   {
    "duration": 13,
    "start_time": "2021-08-31T14:56:00.913Z"
   },
   {
    "duration": 8,
    "start_time": "2021-08-31T15:03:35.077Z"
   },
   {
    "duration": 10,
    "start_time": "2021-08-31T15:04:59.449Z"
   },
   {
    "duration": 101,
    "start_time": "2021-08-31T15:10:29.597Z"
   },
   {
    "duration": 32,
    "start_time": "2021-08-31T15:10:37.632Z"
   },
   {
    "duration": 46,
    "start_time": "2021-08-31T15:12:14.459Z"
   },
   {
    "duration": 66,
    "start_time": "2021-08-31T15:12:27.599Z"
   },
   {
    "duration": 30,
    "start_time": "2021-08-31T15:12:45.885Z"
   },
   {
    "duration": 23,
    "start_time": "2021-08-31T15:14:21.078Z"
   },
   {
    "duration": 10,
    "start_time": "2021-08-31T15:22:41.189Z"
   },
   {
    "duration": 51,
    "start_time": "2021-08-31T15:28:58.429Z"
   },
   {
    "duration": 22,
    "start_time": "2021-08-31T15:29:28.493Z"
   },
   {
    "duration": 26,
    "start_time": "2021-08-31T15:29:38.466Z"
   },
   {
    "duration": 28,
    "start_time": "2021-08-31T15:30:27.499Z"
   },
   {
    "duration": 19,
    "start_time": "2021-08-31T15:59:52.974Z"
   },
   {
    "duration": 5,
    "start_time": "2021-08-31T15:59:57.126Z"
   },
   {
    "duration": 20,
    "start_time": "2021-08-31T15:59:57.978Z"
   },
   {
    "duration": 120,
    "start_time": "2021-08-31T16:00:19.167Z"
   },
   {
    "duration": 24,
    "start_time": "2021-08-31T16:02:38.146Z"
   },
   {
    "duration": 66,
    "start_time": "2021-08-31T16:05:07.584Z"
   },
   {
    "duration": 24,
    "start_time": "2021-08-31T16:05:12.393Z"
   },
   {
    "duration": 8,
    "start_time": "2021-08-31T16:22:54.089Z"
   },
   {
    "duration": 6684,
    "start_time": "2021-08-31T16:23:28.648Z"
   },
   {
    "duration": 27,
    "start_time": "2021-08-31T16:24:09.461Z"
   },
   {
    "duration": 9,
    "start_time": "2021-08-31T16:24:13.594Z"
   },
   {
    "duration": 28,
    "start_time": "2021-08-31T16:24:51.150Z"
   },
   {
    "duration": 30,
    "start_time": "2021-08-31T16:25:02.662Z"
   },
   {
    "duration": 19,
    "start_time": "2021-08-31T16:26:07.298Z"
   },
   {
    "duration": 21,
    "start_time": "2021-08-31T16:26:15.211Z"
   },
   {
    "duration": 24,
    "start_time": "2021-08-31T16:26:22.348Z"
   },
   {
    "duration": 42,
    "start_time": "2021-08-31T16:26:48.609Z"
   },
   {
    "duration": 18,
    "start_time": "2021-08-31T16:27:33.588Z"
   },
   {
    "duration": 59,
    "start_time": "2021-08-31T16:27:35.876Z"
   },
   {
    "duration": 7078,
    "start_time": "2021-08-31T16:32:52.062Z"
   },
   {
    "duration": 109,
    "start_time": "2021-08-31T16:33:34.029Z"
   },
   {
    "duration": 615,
    "start_time": "2021-08-31T16:33:40.589Z"
   },
   {
    "duration": 259,
    "start_time": "2021-08-31T16:34:07.743Z"
   },
   {
    "duration": 11,
    "start_time": "2021-08-31T16:34:26.830Z"
   },
   {
    "duration": 10,
    "start_time": "2021-08-31T16:35:22.984Z"
   },
   {
    "duration": 13,
    "start_time": "2021-08-31T16:35:25.188Z"
   },
   {
    "duration": 17,
    "start_time": "2021-08-31T16:35:25.803Z"
   },
   {
    "duration": 9,
    "start_time": "2021-08-31T16:35:26.706Z"
   },
   {
    "duration": 18,
    "start_time": "2021-08-31T16:35:41.088Z"
   },
   {
    "duration": 17,
    "start_time": "2021-08-31T16:35:42.422Z"
   },
   {
    "duration": 20,
    "start_time": "2021-08-31T16:35:43.301Z"
   },
   {
    "duration": 20,
    "start_time": "2021-08-31T16:35:44.215Z"
   },
   {
    "duration": 7,
    "start_time": "2021-08-31T16:35:54.828Z"
   },
   {
    "duration": 22,
    "start_time": "2021-08-31T16:37:49.537Z"
   },
   {
    "duration": 16,
    "start_time": "2021-08-31T16:37:53.235Z"
   },
   {
    "duration": 12,
    "start_time": "2021-08-31T16:38:18.018Z"
   },
   {
    "duration": 21,
    "start_time": "2021-08-31T16:38:50.691Z"
   },
   {
    "duration": 35,
    "start_time": "2021-08-31T16:38:53.757Z"
   },
   {
    "duration": 26,
    "start_time": "2021-08-31T16:39:10.107Z"
   },
   {
    "duration": 29,
    "start_time": "2021-08-31T16:39:39.510Z"
   },
   {
    "duration": 10,
    "start_time": "2021-08-31T16:39:54.354Z"
   },
   {
    "duration": 9,
    "start_time": "2021-08-31T16:39:56.065Z"
   },
   {
    "duration": 15,
    "start_time": "2021-08-31T16:39:57.611Z"
   },
   {
    "duration": 10,
    "start_time": "2021-08-31T16:40:01.356Z"
   },
   {
    "duration": 17,
    "start_time": "2021-08-31T16:40:03.145Z"
   },
   {
    "duration": 32,
    "start_time": "2021-08-31T16:40:03.655Z"
   },
   {
    "duration": 6,
    "start_time": "2021-08-31T16:40:04.987Z"
   },
   {
    "duration": 19,
    "start_time": "2021-08-31T16:40:06.120Z"
   },
   {
    "duration": 8,
    "start_time": "2021-08-31T16:40:08.618Z"
   },
   {
    "duration": 9,
    "start_time": "2021-08-31T16:40:09.578Z"
   },
   {
    "duration": 10,
    "start_time": "2021-08-31T16:40:10.283Z"
   },
   {
    "duration": 7,
    "start_time": "2021-08-31T16:40:11.147Z"
   },
   {
    "duration": 17,
    "start_time": "2021-08-31T16:40:12.493Z"
   },
   {
    "duration": 33,
    "start_time": "2021-08-31T16:40:14.657Z"
   },
   {
    "duration": 40,
    "start_time": "2021-08-31T16:40:15.130Z"
   },
   {
    "duration": 16,
    "start_time": "2021-08-31T16:40:15.824Z"
   },
   {
    "duration": 19,
    "start_time": "2021-08-31T16:40:16.431Z"
   },
   {
    "duration": 86,
    "start_time": "2021-08-31T16:40:18.938Z"
   },
   {
    "duration": 45,
    "start_time": "2021-08-31T16:40:19.666Z"
   },
   {
    "duration": 34,
    "start_time": "2021-08-31T16:40:28.605Z"
   },
   {
    "duration": 61,
    "start_time": "2021-08-31T16:41:24.762Z"
   },
   {
    "duration": 37,
    "start_time": "2021-08-31T16:41:29.164Z"
   },
   {
    "duration": 72,
    "start_time": "2021-08-31T16:41:47.037Z"
   },
   {
    "duration": 24,
    "start_time": "2021-08-31T16:41:49.709Z"
   },
   {
    "duration": 4,
    "start_time": "2021-08-31T16:42:36.740Z"
   },
   {
    "duration": 4,
    "start_time": "2021-08-31T16:42:37.042Z"
   },
   {
    "duration": 4,
    "start_time": "2021-08-31T16:42:37.368Z"
   },
   {
    "duration": 45,
    "start_time": "2021-08-31T16:42:37.376Z"
   },
   {
    "duration": 31,
    "start_time": "2021-08-31T16:42:38.066Z"
   },
   {
    "duration": 62,
    "start_time": "2021-08-31T16:42:38.558Z"
   },
   {
    "duration": 23,
    "start_time": "2021-08-31T16:42:38.999Z"
   },
   {
    "duration": 4,
    "start_time": "2021-08-31T16:43:12.891Z"
   },
   {
    "duration": 9,
    "start_time": "2021-08-31T16:43:13.277Z"
   },
   {
    "duration": 3,
    "start_time": "2021-08-31T16:43:13.594Z"
   },
   {
    "duration": 3,
    "start_time": "2021-08-31T16:43:13.910Z"
   },
   {
    "duration": 19,
    "start_time": "2021-08-31T16:43:14.226Z"
   },
   {
    "duration": 24,
    "start_time": "2021-08-31T16:43:14.729Z"
   },
   {
    "duration": 4,
    "start_time": "2021-08-31T16:43:33.704Z"
   },
   {
    "duration": 5,
    "start_time": "2021-08-31T16:43:34.072Z"
   },
   {
    "duration": 3,
    "start_time": "2021-08-31T16:43:34.395Z"
   },
   {
    "duration": 3,
    "start_time": "2021-08-31T16:43:34.710Z"
   },
   {
    "duration": 13,
    "start_time": "2021-08-31T16:43:34.716Z"
   },
   {
    "duration": 20,
    "start_time": "2021-08-31T16:43:35.025Z"
   },
   {
    "duration": 33,
    "start_time": "2021-08-31T16:43:35.357Z"
   },
   {
    "duration": 52,
    "start_time": "2021-08-31T16:43:35.676Z"
   },
   {
    "duration": 23,
    "start_time": "2021-08-31T16:43:35.993Z"
   },
   {
    "duration": 25,
    "start_time": "2021-08-31T16:45:29.766Z"
   },
   {
    "duration": 19,
    "start_time": "2021-08-31T16:46:50.432Z"
   },
   {
    "duration": 7,
    "start_time": "2021-08-31T16:46:52.928Z"
   },
   {
    "duration": 7,
    "start_time": "2021-08-31T16:46:53.493Z"
   },
   {
    "duration": 8,
    "start_time": "2021-08-31T16:46:54.032Z"
   },
   {
    "duration": 9,
    "start_time": "2021-08-31T16:46:54.569Z"
   },
   {
    "duration": 33,
    "start_time": "2021-08-31T16:46:56.152Z"
   },
   {
    "duration": 20,
    "start_time": "2021-08-31T16:46:57.113Z"
   },
   {
    "duration": 32,
    "start_time": "2021-08-31T16:46:58.020Z"
   },
   {
    "duration": 19,
    "start_time": "2021-08-31T16:46:58.876Z"
   },
   {
    "duration": 19,
    "start_time": "2021-08-31T16:46:59.721Z"
   },
   {
    "duration": 34,
    "start_time": "2021-08-31T16:47:01.895Z"
   },
   {
    "duration": 77,
    "start_time": "2021-08-31T16:47:04.436Z"
   },
   {
    "duration": 34,
    "start_time": "2021-08-31T16:47:09.458Z"
   },
   {
    "duration": 82,
    "start_time": "2021-08-31T16:51:49.402Z"
   },
   {
    "duration": 28,
    "start_time": "2021-08-31T16:51:54.759Z"
   },
   {
    "duration": 76,
    "start_time": "2021-08-31T17:04:15.051Z"
   },
   {
    "duration": 70,
    "start_time": "2021-08-31T17:04:20.969Z"
   },
   {
    "duration": 24,
    "start_time": "2021-08-31T17:04:44.483Z"
   },
   {
    "duration": 51,
    "start_time": "2021-08-31T17:07:46.444Z"
   },
   {
    "duration": -1564,
    "start_time": "2021-08-31T17:08:52.509Z"
   },
   {
    "duration": 35,
    "start_time": "2021-08-31T17:09:21.367Z"
   },
   {
    "duration": 32,
    "start_time": "2021-08-31T17:09:32.433Z"
   },
   {
    "duration": 47,
    "start_time": "2021-08-31T17:09:36.577Z"
   },
   {
    "duration": -1549,
    "start_time": "2021-08-31T17:10:08.291Z"
   },
   {
    "duration": 33,
    "start_time": "2021-08-31T17:10:12.238Z"
   },
   {
    "duration": 18,
    "start_time": "2021-08-31T17:12:32.160Z"
   },
   {
    "duration": 17,
    "start_time": "2021-08-31T17:12:32.610Z"
   },
   {
    "duration": 20,
    "start_time": "2021-08-31T17:12:33.131Z"
   },
   {
    "duration": 13,
    "start_time": "2021-08-31T17:12:33.798Z"
   },
   {
    "duration": 22,
    "start_time": "2021-08-31T17:12:35.044Z"
   },
   {
    "duration": 81,
    "start_time": "2021-08-31T17:12:40.860Z"
   },
   {
    "duration": 85,
    "start_time": "2021-08-31T17:12:47.672Z"
   },
   {
    "duration": 39,
    "start_time": "2021-08-31T17:12:55.924Z"
   },
   {
    "duration": 61,
    "start_time": "2021-08-31T17:13:21.525Z"
   },
   {
    "duration": 32,
    "start_time": "2021-08-31T17:15:38.522Z"
   },
   {
    "duration": 54,
    "start_time": "2021-08-31T17:15:41.666Z"
   },
   {
    "duration": 37,
    "start_time": "2021-08-31T17:15:49.188Z"
   },
   {
    "duration": 26,
    "start_time": "2021-08-31T17:16:08.121Z"
   },
   {
    "duration": 97,
    "start_time": "2021-08-31T17:16:23.348Z"
   },
   {
    "duration": 50,
    "start_time": "2021-08-31T17:16:24.273Z"
   },
   {
    "duration": 25,
    "start_time": "2021-08-31T17:16:29.334Z"
   },
   {
    "duration": 15,
    "start_time": "2021-08-31T17:16:31.860Z"
   },
   {
    "duration": 29,
    "start_time": "2021-08-31T17:16:35.739Z"
   },
   {
    "duration": 14,
    "start_time": "2021-08-31T17:16:37.529Z"
   },
   {
    "duration": 12,
    "start_time": "2021-08-31T17:16:39.958Z"
   },
   {
    "duration": 8,
    "start_time": "2021-08-31T17:16:40.584Z"
   },
   {
    "duration": 15,
    "start_time": "2021-08-31T17:16:42.334Z"
   },
   {
    "duration": 12,
    "start_time": "2021-08-31T17:16:46.564Z"
   },
   {
    "duration": 22,
    "start_time": "2021-08-31T17:16:59.586Z"
   },
   {
    "duration": 26,
    "start_time": "2021-08-31T17:17:03.693Z"
   },
   {
    "duration": 5,
    "start_time": "2021-08-31T17:17:38.302Z"
   },
   {
    "duration": 19,
    "start_time": "2021-08-31T17:17:49.900Z"
   },
   {
    "duration": 26,
    "start_time": "2021-08-31T17:17:53.604Z"
   },
   {
    "duration": 22,
    "start_time": "2021-08-31T17:17:57.746Z"
   },
   {
    "duration": 16,
    "start_time": "2021-08-31T17:17:58.416Z"
   },
   {
    "duration": 34,
    "start_time": "2021-08-31T17:17:59.230Z"
   },
   {
    "duration": 20,
    "start_time": "2021-08-31T17:17:59.847Z"
   },
   {
    "duration": 20,
    "start_time": "2021-08-31T17:18:01.594Z"
   },
   {
    "duration": 32,
    "start_time": "2021-08-31T17:18:06.417Z"
   },
   {
    "duration": 52,
    "start_time": "2021-08-31T17:18:17.494Z"
   },
   {
    "duration": 25,
    "start_time": "2021-08-31T17:18:21.204Z"
   },
   {
    "duration": 52,
    "start_time": "2021-08-31T17:18:50.127Z"
   },
   {
    "duration": 32,
    "start_time": "2021-08-31T17:18:52.650Z"
   },
   {
    "duration": 29,
    "start_time": "2021-08-31T17:21:40.395Z"
   },
   {
    "duration": 29,
    "start_time": "2021-08-31T17:21:42.809Z"
   },
   {
    "duration": 40,
    "start_time": "2021-08-31T17:22:01.664Z"
   },
   {
    "duration": 34,
    "start_time": "2021-08-31T17:22:02.810Z"
   },
   {
    "duration": 28,
    "start_time": "2021-08-31T17:22:26.681Z"
   },
   {
    "duration": 23,
    "start_time": "2021-08-31T17:22:48.290Z"
   },
   {
    "duration": 34,
    "start_time": "2021-08-31T17:22:55.824Z"
   },
   {
    "duration": 25,
    "start_time": "2021-08-31T17:23:03.601Z"
   },
   {
    "duration": 16,
    "start_time": "2021-08-31T17:23:03.922Z"
   },
   {
    "duration": 31,
    "start_time": "2021-08-31T17:23:04.252Z"
   },
   {
    "duration": 24,
    "start_time": "2021-08-31T17:23:04.286Z"
   },
   {
    "duration": 26,
    "start_time": "2021-08-31T17:23:04.572Z"
   },
   {
    "duration": 32,
    "start_time": "2021-08-31T17:23:04.890Z"
   },
   {
    "duration": 27,
    "start_time": "2021-08-31T17:23:05.208Z"
   },
   {
    "duration": 28,
    "start_time": "2021-08-31T17:23:05.525Z"
   },
   {
    "duration": 30,
    "start_time": "2021-08-31T17:23:22.293Z"
   },
   {
    "duration": 25,
    "start_time": "2021-08-31T17:23:30.087Z"
   },
   {
    "duration": 18,
    "start_time": "2021-08-31T17:23:31.227Z"
   },
   {
    "duration": 27,
    "start_time": "2021-08-31T17:24:15.587Z"
   },
   {
    "duration": 110,
    "start_time": "2021-08-31T17:34:19.414Z"
   },
   {
    "duration": 55,
    "start_time": "2021-08-31T17:34:20.443Z"
   },
   {
    "duration": 30,
    "start_time": "2021-08-31T17:37:39.045Z"
   },
   {
    "duration": 94,
    "start_time": "2021-08-31T17:38:14.063Z"
   },
   {
    "duration": 57,
    "start_time": "2021-08-31T17:38:15.216Z"
   },
   {
    "duration": 22,
    "start_time": "2021-08-31T17:38:21.264Z"
   },
   {
    "duration": 6,
    "start_time": "2021-08-31T17:41:11.324Z"
   },
   {
    "duration": 18,
    "start_time": "2021-08-31T17:41:13.099Z"
   },
   {
    "duration": 13,
    "start_time": "2021-08-31T17:41:14.592Z"
   },
   {
    "duration": 4,
    "start_time": "2021-08-31T17:41:19.272Z"
   },
   {
    "duration": 6,
    "start_time": "2021-08-31T17:41:19.935Z"
   },
   {
    "duration": 15,
    "start_time": "2021-08-31T17:41:21.676Z"
   },
   {
    "duration": 7,
    "start_time": "2021-08-31T17:41:25.200Z"
   },
   {
    "duration": 10,
    "start_time": "2021-08-31T17:41:29.137Z"
   },
   {
    "duration": 19,
    "start_time": "2021-08-31T17:41:30.011Z"
   },
   {
    "duration": 5,
    "start_time": "2021-08-31T17:41:32.512Z"
   },
   {
    "duration": 20,
    "start_time": "2021-08-31T17:41:34.216Z"
   },
   {
    "duration": 23,
    "start_time": "2021-08-31T17:41:38.221Z"
   },
   {
    "duration": 24,
    "start_time": "2021-08-31T17:41:39.301Z"
   },
   {
    "duration": 17,
    "start_time": "2021-08-31T17:41:40.324Z"
   },
   {
    "duration": 20,
    "start_time": "2021-08-31T17:41:41.327Z"
   },
   {
    "duration": 14,
    "start_time": "2021-08-31T17:41:42.269Z"
   },
   {
    "duration": 21,
    "start_time": "2021-08-31T17:41:44.421Z"
   },
   {
    "duration": 32,
    "start_time": "2021-08-31T17:41:48.691Z"
   },
   {
    "duration": 59,
    "start_time": "2021-08-31T17:42:03.406Z"
   },
   {
    "duration": 30,
    "start_time": "2021-08-31T17:42:08.958Z"
   },
   {
    "duration": 38,
    "start_time": "2021-08-31T17:42:22.457Z"
   },
   {
    "duration": 36,
    "start_time": "2021-08-31T17:42:24.243Z"
   },
   {
    "duration": 37,
    "start_time": "2021-08-31T17:42:32.169Z"
   },
   {
    "duration": 34,
    "start_time": "2021-08-31T17:42:33.226Z"
   },
   {
    "duration": 5,
    "start_time": "2021-08-31T19:31:51.796Z"
   },
   {
    "duration": 5,
    "start_time": "2021-08-31T19:31:52.558Z"
   },
   {
    "duration": 14,
    "start_time": "2021-08-31T19:31:53.658Z"
   },
   {
    "duration": 7,
    "start_time": "2021-08-31T19:31:55.140Z"
   },
   {
    "duration": 10,
    "start_time": "2021-08-31T19:31:55.709Z"
   },
   {
    "duration": 18,
    "start_time": "2021-08-31T19:31:56.019Z"
   },
   {
    "duration": 5,
    "start_time": "2021-08-31T19:31:56.343Z"
   },
   {
    "duration": 24,
    "start_time": "2021-08-31T19:31:56.639Z"
   },
   {
    "duration": 25,
    "start_time": "2021-08-31T19:31:57.191Z"
   },
   {
    "duration": 19,
    "start_time": "2021-08-31T19:31:57.505Z"
   },
   {
    "duration": 18,
    "start_time": "2021-08-31T19:31:57.815Z"
   },
   {
    "duration": 45,
    "start_time": "2021-08-31T19:31:57.836Z"
   },
   {
    "duration": 16,
    "start_time": "2021-08-31T19:31:58.126Z"
   },
   {
    "duration": 34,
    "start_time": "2021-08-31T19:31:58.144Z"
   },
   {
    "duration": 38,
    "start_time": "2021-08-31T19:31:58.437Z"
   },
   {
    "duration": 30,
    "start_time": "2021-08-31T19:31:58.815Z"
   },
   {
    "duration": 25,
    "start_time": "2021-08-31T19:31:59.126Z"
   },
   {
    "duration": 82,
    "start_time": "2021-08-31T19:59:41.433Z"
   },
   {
    "duration": 90,
    "start_time": "2021-08-31T19:59:48.143Z"
   },
   {
    "duration": 91,
    "start_time": "2021-08-31T20:00:08.989Z"
   },
   {
    "duration": 112,
    "start_time": "2021-08-31T20:00:53.331Z"
   },
   {
    "duration": 88,
    "start_time": "2021-08-31T20:01:00.632Z"
   },
   {
    "duration": 84,
    "start_time": "2021-08-31T20:01:59.207Z"
   },
   {
    "duration": 84,
    "start_time": "2021-08-31T20:05:21.391Z"
   },
   {
    "duration": 305,
    "start_time": "2021-09-01T08:53:35.085Z"
   },
   {
    "duration": 7,
    "start_time": "2021-09-01T08:55:09.393Z"
   },
   {
    "duration": 267,
    "start_time": "2021-09-01T08:55:24.798Z"
   },
   {
    "duration": 268,
    "start_time": "2021-09-01T08:56:11.024Z"
   },
   {
    "duration": 261,
    "start_time": "2021-09-01T08:56:39.112Z"
   },
   {
    "duration": 908,
    "start_time": "2021-09-01T09:30:45.573Z"
   },
   {
    "duration": 936,
    "start_time": "2021-09-01T09:30:49.129Z"
   },
   {
    "duration": 1033,
    "start_time": "2021-09-01T09:55:29.296Z"
   },
   {
    "duration": 1196,
    "start_time": "2021-09-01T09:58:24.098Z"
   },
   {
    "duration": 943,
    "start_time": "2021-09-01T09:58:50.516Z"
   },
   {
    "duration": 938,
    "start_time": "2021-09-01T09:59:38.164Z"
   },
   {
    "duration": 933,
    "start_time": "2021-09-01T10:21:25.257Z"
   },
   {
    "duration": 936,
    "start_time": "2021-09-01T10:21:37.109Z"
   },
   {
    "duration": 937,
    "start_time": "2021-09-01T10:21:51.672Z"
   },
   {
    "duration": 1248,
    "start_time": "2021-09-01T10:24:31.323Z"
   },
   {
    "duration": 1242,
    "start_time": "2021-09-01T10:25:13.738Z"
   },
   {
    "duration": 1194,
    "start_time": "2021-09-01T10:25:36.700Z"
   },
   {
    "duration": 1202,
    "start_time": "2021-09-01T10:25:50.842Z"
   },
   {
    "duration": 1070,
    "start_time": "2021-09-01T10:26:31.212Z"
   },
   {
    "duration": 952,
    "start_time": "2021-09-01T10:29:12.023Z"
   },
   {
    "duration": 928,
    "start_time": "2021-09-01T10:29:25.203Z"
   },
   {
    "duration": 940,
    "start_time": "2021-09-01T10:29:41.722Z"
   },
   {
    "duration": 928,
    "start_time": "2021-09-01T10:31:35.473Z"
   },
   {
    "duration": 93,
    "start_time": "2021-09-01T10:31:53.831Z"
   },
   {
    "duration": 959,
    "start_time": "2021-09-01T10:32:00.456Z"
   },
   {
    "duration": 933,
    "start_time": "2021-09-01T10:36:28.453Z"
   },
   {
    "duration": 921,
    "start_time": "2021-09-01T10:36:42.603Z"
   },
   {
    "duration": 1207,
    "start_time": "2021-09-01T11:34:32.438Z"
   },
   {
    "duration": 32,
    "start_time": "2021-09-01T13:00:36.312Z"
   },
   {
    "duration": 26,
    "start_time": "2021-09-01T13:02:56.912Z"
   },
   {
    "duration": 415,
    "start_time": "2021-09-01T13:05:51.353Z"
   },
   {
    "duration": 305,
    "start_time": "2021-09-01T13:07:31.775Z"
   },
   {
    "duration": 1548,
    "start_time": "2021-09-01T13:09:22.903Z"
   },
   {
    "duration": 432,
    "start_time": "2021-09-01T13:10:13.401Z"
   },
   {
    "duration": 595,
    "start_time": "2021-09-01T13:10:35.462Z"
   },
   {
    "duration": 6035,
    "start_time": "2021-09-01T13:11:57.647Z"
   },
   {
    "duration": -1371,
    "start_time": "2021-09-01T13:12:05.056Z"
   },
   {
    "duration": 290604,
    "start_time": "2021-09-01T13:12:07.830Z"
   },
   {
    "duration": 307,
    "start_time": "2021-09-01T13:17:28.941Z"
   },
   {
    "duration": 297,
    "start_time": "2021-09-01T13:18:35.855Z"
   },
   {
    "duration": 42,
    "start_time": "2021-09-01T13:29:27.382Z"
   },
   {
    "duration": 16,
    "start_time": "2021-09-01T14:42:15.090Z"
   },
   {
    "duration": 22,
    "start_time": "2021-09-01T15:53:41.955Z"
   },
   {
    "duration": 14,
    "start_time": "2021-09-01T15:53:53.269Z"
   },
   {
    "duration": 15,
    "start_time": "2021-09-01T15:54:19.372Z"
   },
   {
    "duration": 124,
    "start_time": "2021-09-01T15:54:43.756Z"
   },
   {
    "duration": 137,
    "start_time": "2021-09-01T15:54:52.407Z"
   },
   {
    "duration": 16,
    "start_time": "2021-09-01T15:55:00.293Z"
   },
   {
    "duration": 123,
    "start_time": "2021-09-01T15:57:39.114Z"
   },
   {
    "duration": 437,
    "start_time": "2021-09-01T15:57:42.789Z"
   },
   {
    "duration": 387,
    "start_time": "2021-09-01T15:58:16.522Z"
   },
   {
    "duration": 7,
    "start_time": "2021-09-01T15:58:32.655Z"
   },
   {
    "duration": 7,
    "start_time": "2021-09-01T15:59:38.028Z"
   },
   {
    "duration": 7,
    "start_time": "2021-09-01T15:59:41.529Z"
   },
   {
    "duration": 394,
    "start_time": "2021-09-01T16:00:01.744Z"
   },
   {
    "duration": 8,
    "start_time": "2021-09-01T16:00:07.580Z"
   },
   {
    "duration": 7,
    "start_time": "2021-09-01T16:00:47.470Z"
   },
   {
    "duration": 407,
    "start_time": "2021-09-01T16:01:41.062Z"
   },
   {
    "duration": 7,
    "start_time": "2021-09-01T16:01:54.380Z"
   },
   {
    "duration": 413,
    "start_time": "2021-09-01T16:02:16.592Z"
   },
   {
    "duration": 8,
    "start_time": "2021-09-01T16:02:22.501Z"
   },
   {
    "duration": 26,
    "start_time": "2021-09-01T16:03:09.851Z"
   },
   {
    "duration": 25,
    "start_time": "2021-09-01T16:03:32.321Z"
   },
   {
    "duration": 28,
    "start_time": "2021-09-01T16:03:48.419Z"
   },
   {
    "duration": 384,
    "start_time": "2021-09-01T16:26:33.885Z"
   },
   {
    "duration": 12,
    "start_time": "2021-09-01T16:26:43.662Z"
   },
   {
    "duration": 8,
    "start_time": "2021-09-01T16:27:03.663Z"
   },
   {
    "duration": 25,
    "start_time": "2021-09-01T17:21:26.252Z"
   },
   {
    "duration": 20,
    "start_time": "2021-09-01T17:21:46.664Z"
   },
   {
    "duration": 11,
    "start_time": "2021-09-01T17:22:27.916Z"
   },
   {
    "duration": 284,
    "start_time": "2021-09-01T17:24:58.170Z"
   },
   {
    "duration": 20,
    "start_time": "2021-09-01T17:26:58.249Z"
   },
   {
    "duration": 7,
    "start_time": "2021-09-01T17:27:47.529Z"
   },
   {
    "duration": 119,
    "start_time": "2021-09-01T17:27:59.028Z"
   },
   {
    "duration": 15,
    "start_time": "2021-09-01T17:28:04.550Z"
   },
   {
    "duration": 6,
    "start_time": "2021-09-01T17:28:53.572Z"
   },
   {
    "duration": 8,
    "start_time": "2021-09-01T17:29:58.021Z"
   },
   {
    "duration": 19,
    "start_time": "2021-09-01T17:29:58.646Z"
   },
   {
    "duration": 7,
    "start_time": "2021-09-01T17:30:57.185Z"
   },
   {
    "duration": 7,
    "start_time": "2021-09-01T17:31:12.085Z"
   },
   {
    "duration": 6,
    "start_time": "2021-09-01T17:32:32.580Z"
   },
   {
    "duration": 8,
    "start_time": "2021-09-01T17:32:58.198Z"
   },
   {
    "duration": 8,
    "start_time": "2021-09-01T17:33:10.640Z"
   },
   {
    "duration": 20,
    "start_time": "2021-09-01T17:33:56.774Z"
   },
   {
    "duration": 21,
    "start_time": "2021-09-01T17:34:58.499Z"
   },
   {
    "duration": 26,
    "start_time": "2021-09-01T17:36:29.363Z"
   },
   {
    "duration": 29,
    "start_time": "2021-09-01T17:37:51.209Z"
   },
   {
    "duration": 21,
    "start_time": "2021-09-01T17:39:52.310Z"
   },
   {
    "duration": 19,
    "start_time": "2021-09-01T17:40:47.721Z"
   },
   {
    "duration": 21,
    "start_time": "2021-09-01T17:41:28.043Z"
   },
   {
    "duration": 23,
    "start_time": "2021-09-01T17:41:49.208Z"
   },
   {
    "duration": 20,
    "start_time": "2021-09-01T17:45:26.287Z"
   },
   {
    "duration": 19,
    "start_time": "2021-09-01T17:45:38.735Z"
   },
   {
    "duration": 21,
    "start_time": "2021-09-01T17:47:44.932Z"
   },
   {
    "duration": 20,
    "start_time": "2021-09-01T17:49:46.037Z"
   },
   {
    "duration": 21,
    "start_time": "2021-09-01T17:50:08.109Z"
   },
   {
    "duration": 127,
    "start_time": "2021-09-01T17:52:31.430Z"
   },
   {
    "duration": 22,
    "start_time": "2021-09-01T17:52:47.131Z"
   },
   {
    "duration": 21,
    "start_time": "2021-09-01T17:54:07.483Z"
   },
   {
    "duration": 21,
    "start_time": "2021-09-01T17:54:36.253Z"
   },
   {
    "duration": 18,
    "start_time": "2021-09-01T17:55:26.376Z"
   },
   {
    "duration": 20,
    "start_time": "2021-09-01T17:57:01.239Z"
   },
   {
    "duration": 22,
    "start_time": "2021-09-01T17:57:11.604Z"
   },
   {
    "duration": 22,
    "start_time": "2021-09-01T17:58:00.716Z"
   },
   {
    "duration": 49,
    "start_time": "2021-09-01T18:00:29.646Z"
   },
   {
    "duration": 8,
    "start_time": "2021-09-01T18:01:01.342Z"
   },
   {
    "duration": 6,
    "start_time": "2021-09-01T18:01:13.366Z"
   },
   {
    "duration": 7,
    "start_time": "2021-09-01T18:01:26.665Z"
   },
   {
    "duration": 6,
    "start_time": "2021-09-01T18:01:43.741Z"
   },
   {
    "duration": 6,
    "start_time": "2021-09-01T18:02:12.441Z"
   },
   {
    "duration": 380,
    "start_time": "2021-09-01T18:02:29.339Z"
   },
   {
    "duration": 8,
    "start_time": "2021-09-01T18:02:43.326Z"
   },
   {
    "duration": 8,
    "start_time": "2021-09-01T18:02:59.334Z"
   },
   {
    "duration": 8,
    "start_time": "2021-09-01T18:03:09.860Z"
   },
   {
    "duration": 21,
    "start_time": "2021-09-01T18:04:04.525Z"
   },
   {
    "duration": 27,
    "start_time": "2021-09-01T18:04:05.383Z"
   },
   {
    "duration": 15,
    "start_time": "2021-09-01T18:04:05.737Z"
   },
   {
    "duration": 17,
    "start_time": "2021-09-01T18:04:05.931Z"
   },
   {
    "duration": 32,
    "start_time": "2021-09-01T18:04:07.534Z"
   },
   {
    "duration": 25,
    "start_time": "2021-09-01T18:04:07.569Z"
   },
   {
    "duration": 24,
    "start_time": "2021-09-01T18:04:07.597Z"
   },
   {
    "duration": 59,
    "start_time": "2021-09-01T18:04:07.623Z"
   },
   {
    "duration": 40,
    "start_time": "2021-09-01T18:04:07.685Z"
   },
   {
    "duration": 54,
    "start_time": "2021-09-01T18:04:07.728Z"
   },
   {
    "duration": 8,
    "start_time": "2021-09-01T18:04:09.089Z"
   },
   {
    "duration": 997,
    "start_time": "2021-09-01T18:04:11.336Z"
   },
   {
    "duration": 47,
    "start_time": "2021-09-01T18:04:12.457Z"
   },
   {
    "duration": 8,
    "start_time": "2021-09-01T18:04:13.333Z"
   },
   {
    "duration": 22,
    "start_time": "2021-09-01T18:04:13.525Z"
   },
   {
    "duration": 13,
    "start_time": "2021-09-01T18:04:13.958Z"
   },
   {
    "duration": 9244,
    "start_time": "2021-09-01T18:04:14.145Z"
   },
   {
    "duration": 9,
    "start_time": "2021-09-01T18:04:23.734Z"
   },
   {
    "duration": 11,
    "start_time": "2021-09-01T18:04:29.307Z"
   },
   {
    "duration": 9958,
    "start_time": "2021-09-01T18:04:34.887Z"
   },
   {
    "duration": 10,
    "start_time": "2021-09-01T18:04:52.637Z"
   },
   {
    "duration": 93,
    "start_time": "2021-09-01T18:06:22.836Z"
   },
   {
    "duration": 49,
    "start_time": "2021-09-01T18:06:23.943Z"
   },
   {
    "duration": 18,
    "start_time": "2021-09-01T18:06:30.012Z"
   },
   {
    "duration": 6,
    "start_time": "2021-09-01T18:06:32.087Z"
   },
   {
    "duration": 19,
    "start_time": "2021-09-01T18:06:33.611Z"
   },
   {
    "duration": 14,
    "start_time": "2021-09-01T18:06:39.793Z"
   },
   {
    "duration": 6,
    "start_time": "2021-09-01T18:06:41.815Z"
   },
   {
    "duration": 5,
    "start_time": "2021-09-01T18:06:42.421Z"
   },
   {
    "duration": 13,
    "start_time": "2021-09-01T18:06:43.563Z"
   },
   {
    "duration": 6,
    "start_time": "2021-09-01T18:07:03.235Z"
   },
   {
    "duration": 6,
    "start_time": "2021-09-01T18:07:03.448Z"
   },
   {
    "duration": 14,
    "start_time": "2021-09-01T18:07:06.011Z"
   },
   {
    "duration": 7,
    "start_time": "2021-09-01T18:07:09.874Z"
   },
   {
    "duration": 10,
    "start_time": "2021-09-01T18:07:14.375Z"
   },
   {
    "duration": 21,
    "start_time": "2021-09-01T18:07:15.426Z"
   },
   {
    "duration": 6,
    "start_time": "2021-09-01T18:07:19.654Z"
   },
   {
    "duration": 5,
    "start_time": "2021-09-01T18:07:20.886Z"
   },
   {
    "duration": 11,
    "start_time": "2021-09-01T18:08:02.014Z"
   },
   {
    "duration": 11,
    "start_time": "2021-09-01T18:08:10.379Z"
   },
   {
    "duration": 400,
    "start_time": "2021-09-01T18:08:29.757Z"
   },
   {
    "duration": 10,
    "start_time": "2021-09-01T18:08:43.002Z"
   },
   {
    "duration": 8,
    "start_time": "2021-09-01T18:09:07.562Z"
   },
   {
    "duration": 363,
    "start_time": "2021-09-01T18:14:53.558Z"
   },
   {
    "duration": 465,
    "start_time": "2021-09-01T18:15:16.831Z"
   },
   {
    "duration": 13,
    "start_time": "2021-09-01T18:15:29.214Z"
   },
   {
    "duration": 13,
    "start_time": "2021-09-01T18:15:58.659Z"
   },
   {
    "duration": 12,
    "start_time": "2021-09-01T18:16:02.986Z"
   },
   {
    "duration": 131,
    "start_time": "2021-09-01T18:16:12.955Z"
   },
   {
    "duration": 7,
    "start_time": "2021-09-01T18:16:25.807Z"
   },
   {
    "duration": 12,
    "start_time": "2021-09-01T18:16:34.547Z"
   },
   {
    "duration": 7,
    "start_time": "2021-09-01T18:16:56.418Z"
   },
   {
    "duration": 10,
    "start_time": "2021-09-01T18:17:52.358Z"
   },
   {
    "duration": 5,
    "start_time": "2021-09-01T18:20:15.224Z"
   },
   {
    "duration": 30,
    "start_time": "2021-09-01T18:20:15.232Z"
   },
   {
    "duration": 12,
    "start_time": "2021-09-01T18:20:15.879Z"
   },
   {
    "duration": 7,
    "start_time": "2021-09-01T18:20:16.071Z"
   },
   {
    "duration": 12,
    "start_time": "2021-09-01T18:20:17.956Z"
   },
   {
    "duration": 23,
    "start_time": "2021-09-01T18:20:20.154Z"
   },
   {
    "duration": 16,
    "start_time": "2021-09-01T18:20:20.739Z"
   },
   {
    "duration": 16,
    "start_time": "2021-09-01T18:20:21.321Z"
   },
   {
    "duration": 21,
    "start_time": "2021-09-01T18:20:21.909Z"
   },
   {
    "duration": 13,
    "start_time": "2021-09-01T18:20:22.494Z"
   },
   {
    "duration": 18,
    "start_time": "2021-09-01T18:20:23.286Z"
   },
   {
    "duration": 33,
    "start_time": "2021-09-01T18:20:24.688Z"
   },
   {
    "duration": 27,
    "start_time": "2021-09-01T18:20:27.261Z"
   },
   {
    "duration": 24,
    "start_time": "2021-09-01T18:20:27.917Z"
   },
   {
    "duration": 24,
    "start_time": "2021-09-01T18:21:11.096Z"
   },
   {
    "duration": 7,
    "start_time": "2021-09-01T18:22:20.619Z"
   },
   {
    "duration": 10,
    "start_time": "2021-09-01T18:24:53.306Z"
   },
   {
    "duration": 10,
    "start_time": "2021-09-01T18:25:02.619Z"
   },
   {
    "duration": 13,
    "start_time": "2021-09-01T18:25:29.627Z"
   },
   {
    "duration": 10,
    "start_time": "2021-09-01T18:25:37.831Z"
   },
   {
    "duration": 16,
    "start_time": "2021-09-01T18:25:43.054Z"
   },
   {
    "duration": 19,
    "start_time": "2021-09-01T18:25:48.590Z"
   },
   {
    "duration": 16,
    "start_time": "2021-09-01T18:25:56.914Z"
   },
   {
    "duration": 432,
    "start_time": "2021-09-01T18:26:09.485Z"
   },
   {
    "duration": 13,
    "start_time": "2021-09-01T18:26:17.664Z"
   },
   {
    "duration": 15,
    "start_time": "2021-09-01T18:31:07.867Z"
   },
   {
    "duration": 10,
    "start_time": "2021-09-01T18:31:38.731Z"
   },
   {
    "duration": 5,
    "start_time": "2021-09-01T18:31:56.639Z"
   },
   {
    "duration": 5,
    "start_time": "2021-09-01T18:32:00.532Z"
   },
   {
    "duration": 5,
    "start_time": "2021-09-01T18:32:03.253Z"
   },
   {
    "duration": 7,
    "start_time": "2021-09-01T18:32:04.099Z"
   },
   {
    "duration": 10,
    "start_time": "2021-09-01T18:32:04.548Z"
   },
   {
    "duration": 15,
    "start_time": "2021-09-01T18:32:05.187Z"
   },
   {
    "duration": 10,
    "start_time": "2021-09-01T18:32:06.530Z"
   },
   {
    "duration": 7,
    "start_time": "2021-09-01T18:32:06.824Z"
   },
   {
    "duration": 8,
    "start_time": "2021-09-01T18:32:43.030Z"
   },
   {
    "duration": 123,
    "start_time": "2021-09-01T18:33:27.410Z"
   },
   {
    "duration": 7,
    "start_time": "2021-09-01T18:33:27.895Z"
   },
   {
    "duration": 7,
    "start_time": "2021-09-01T18:33:28.406Z"
   },
   {
    "duration": 7,
    "start_time": "2021-09-01T18:33:36.708Z"
   },
   {
    "duration": 7,
    "start_time": "2021-09-01T18:33:36.887Z"
   },
   {
    "duration": 11,
    "start_time": "2021-09-01T18:33:37.276Z"
   },
   {
    "duration": 15,
    "start_time": "2021-09-01T18:34:53.091Z"
   },
   {
    "duration": 40,
    "start_time": "2021-09-01T18:34:55.334Z"
   },
   {
    "duration": 18,
    "start_time": "2021-09-01T18:34:55.773Z"
   },
   {
    "duration": 17,
    "start_time": "2021-09-01T18:34:56.236Z"
   },
   {
    "duration": 21,
    "start_time": "2021-09-01T18:34:56.725Z"
   },
   {
    "duration": 15,
    "start_time": "2021-09-01T18:34:57.280Z"
   },
   {
    "duration": 20,
    "start_time": "2021-09-01T18:34:57.932Z"
   },
   {
    "duration": 34,
    "start_time": "2021-09-01T18:34:59.192Z"
   },
   {
    "duration": 29,
    "start_time": "2021-09-01T18:35:09.918Z"
   },
   {
    "duration": 29,
    "start_time": "2021-09-01T18:35:10.615Z"
   },
   {
    "duration": 101,
    "start_time": "2021-09-01T18:35:23.834Z"
   },
   {
    "duration": 63,
    "start_time": "2021-09-01T18:35:23.938Z"
   },
   {
    "duration": 20,
    "start_time": "2021-09-01T18:35:26.422Z"
   },
   {
    "duration": 5,
    "start_time": "2021-09-01T18:35:27.497Z"
   },
   {
    "duration": 31,
    "start_time": "2021-09-01T18:35:28.562Z"
   },
   {
    "duration": 15,
    "start_time": "2021-09-01T18:35:29.610Z"
   },
   {
    "duration": 6,
    "start_time": "2021-09-01T18:35:31.164Z"
   },
   {
    "duration": 5,
    "start_time": "2021-09-01T18:35:31.696Z"
   },
   {
    "duration": 14,
    "start_time": "2021-09-01T18:35:32.738Z"
   },
   {
    "duration": 7,
    "start_time": "2021-09-01T18:35:35.580Z"
   },
   {
    "duration": 10,
    "start_time": "2021-09-01T18:35:37.258Z"
   },
   {
    "duration": 20,
    "start_time": "2021-09-01T18:35:37.788Z"
   },
   {
    "duration": 4,
    "start_time": "2021-09-01T18:35:38.936Z"
   },
   {
    "duration": 5,
    "start_time": "2021-09-01T18:35:39.507Z"
   },
   {
    "duration": 7,
    "start_time": "2021-09-01T18:35:40.593Z"
   },
   {
    "duration": 7,
    "start_time": "2021-09-01T18:35:41.103Z"
   },
   {
    "duration": 6,
    "start_time": "2021-09-01T18:35:42.415Z"
   },
   {
    "duration": 12,
    "start_time": "2021-09-01T18:35:43.124Z"
   },
   {
    "duration": 21,
    "start_time": "2021-09-01T18:35:44.413Z"
   },
   {
    "duration": 14,
    "start_time": "2021-09-01T18:35:45.643Z"
   },
   {
    "duration": 24,
    "start_time": "2021-09-01T18:35:48.279Z"
   },
   {
    "duration": 17,
    "start_time": "2021-09-01T18:35:49.427Z"
   },
   {
    "duration": 17,
    "start_time": "2021-09-01T18:35:50.151Z"
   },
   {
    "duration": 22,
    "start_time": "2021-09-01T18:35:51.032Z"
   },
   {
    "duration": 15,
    "start_time": "2021-09-01T18:35:53.567Z"
   },
   {
    "duration": 21,
    "start_time": "2021-09-01T18:35:54.196Z"
   },
   {
    "duration": 51,
    "start_time": "2021-09-01T18:35:56.753Z"
   },
   {
    "duration": 40,
    "start_time": "2021-09-01T18:36:08.279Z"
   },
   {
    "duration": 42,
    "start_time": "2021-09-01T18:36:09.682Z"
   },
   {
    "duration": 26,
    "start_time": "2021-09-01T18:39:52.425Z"
   },
   {
    "duration": 100,
    "start_time": "2021-09-01T18:40:44.879Z"
   },
   {
    "duration": 49,
    "start_time": "2021-09-01T18:40:45.164Z"
   },
   {
    "duration": 21,
    "start_time": "2021-09-01T18:40:46.012Z"
   },
   {
    "duration": 7,
    "start_time": "2021-09-01T18:40:46.449Z"
   },
   {
    "duration": 20,
    "start_time": "2021-09-01T18:40:46.771Z"
   },
   {
    "duration": 13,
    "start_time": "2021-09-01T18:40:47.057Z"
   },
   {
    "duration": 6,
    "start_time": "2021-09-01T18:40:47.539Z"
   },
   {
    "duration": 6,
    "start_time": "2021-09-01T18:40:47.677Z"
   },
   {
    "duration": 13,
    "start_time": "2021-09-01T18:40:47.971Z"
   },
   {
    "duration": 7,
    "start_time": "2021-09-01T18:40:48.737Z"
   },
   {
    "duration": 10,
    "start_time": "2021-09-01T18:40:49.219Z"
   },
   {
    "duration": 20,
    "start_time": "2021-09-01T18:40:49.381Z"
   },
   {
    "duration": 5,
    "start_time": "2021-09-01T18:40:49.722Z"
   },
   {
    "duration": 5,
    "start_time": "2021-09-01T18:40:49.886Z"
   },
   {
    "duration": 7,
    "start_time": "2021-09-01T18:40:50.196Z"
   },
   {
    "duration": 7,
    "start_time": "2021-09-01T18:40:50.369Z"
   },
   {
    "duration": 7,
    "start_time": "2021-09-01T18:40:50.688Z"
   },
   {
    "duration": 11,
    "start_time": "2021-09-01T18:40:50.902Z"
   },
   {
    "duration": 15,
    "start_time": "2021-09-01T18:40:51.207Z"
   },
   {
    "duration": 11,
    "start_time": "2021-09-01T18:40:51.529Z"
   },
   {
    "duration": 36,
    "start_time": "2021-09-01T18:40:52.453Z"
   },
   {
    "duration": 23,
    "start_time": "2021-09-01T18:40:52.819Z"
   },
   {
    "duration": 24,
    "start_time": "2021-09-01T18:40:52.968Z"
   },
   {
    "duration": 33,
    "start_time": "2021-09-01T18:40:53.144Z"
   },
   {
    "duration": 21,
    "start_time": "2021-09-01T18:40:53.319Z"
   },
   {
    "duration": 20,
    "start_time": "2021-09-01T18:40:53.519Z"
   },
   {
    "duration": 34,
    "start_time": "2021-09-01T18:40:53.854Z"
   },
   {
    "duration": 43,
    "start_time": "2021-09-01T18:40:54.525Z"
   },
   {
    "duration": 27,
    "start_time": "2021-09-01T18:40:54.710Z"
   },
   {
    "duration": 9,
    "start_time": "2021-09-01T18:40:58.624Z"
   },
   {
    "duration": 1132,
    "start_time": "2021-09-01T18:40:59.016Z"
   },
   {
    "duration": 34,
    "start_time": "2021-09-01T18:41:00.156Z"
   },
   {
    "duration": 8,
    "start_time": "2021-09-01T18:41:00.626Z"
   },
   {
    "duration": 25,
    "start_time": "2021-09-01T18:41:00.832Z"
   },
   {
    "duration": 9,
    "start_time": "2021-09-01T18:41:01.143Z"
   },
   {
    "duration": 9634,
    "start_time": "2021-09-01T18:41:01.338Z"
   },
   {
    "duration": -2093,
    "start_time": "2021-09-01T18:41:13.069Z"
   },
   {
    "duration": -2095,
    "start_time": "2021-09-01T18:41:13.073Z"
   },
   {
    "duration": -2096,
    "start_time": "2021-09-01T18:41:13.076Z"
   },
   {
    "duration": -2097,
    "start_time": "2021-09-01T18:41:13.079Z"
   },
   {
    "duration": -2098,
    "start_time": "2021-09-01T18:41:13.082Z"
   },
   {
    "duration": -2098,
    "start_time": "2021-09-01T18:41:13.084Z"
   },
   {
    "duration": -2098,
    "start_time": "2021-09-01T18:41:13.087Z"
   },
   {
    "duration": -2098,
    "start_time": "2021-09-01T18:41:13.089Z"
   },
   {
    "duration": 10229,
    "start_time": "2021-09-01T18:41:19.898Z"
   },
   {
    "duration": -2083,
    "start_time": "2021-09-01T18:41:32.214Z"
   },
   {
    "duration": 323,
    "start_time": "2021-09-01T18:41:31.181Z"
   },
   {
    "duration": 304,
    "start_time": "2021-09-01T18:41:34.733Z"
   },
   {
    "duration": 291,
    "start_time": "2021-09-01T18:41:46.240Z"
   },
   {
    "duration": 7,
    "start_time": "2021-09-01T18:42:55.970Z"
   },
   {
    "duration": 411,
    "start_time": "2021-09-01T18:43:17.663Z"
   },
   {
    "duration": 403,
    "start_time": "2021-09-01T18:43:30.842Z"
   },
   {
    "duration": 131,
    "start_time": "2021-09-01T18:43:38.622Z"
   },
   {
    "duration": 7,
    "start_time": "2021-09-01T18:43:48.892Z"
   },
   {
    "duration": 7,
    "start_time": "2021-09-01T18:43:57.158Z"
   },
   {
    "duration": 438,
    "start_time": "2021-09-01T18:44:33.203Z"
   },
   {
    "duration": 160,
    "start_time": "2021-09-01T18:44:46.067Z"
   },
   {
    "duration": 7,
    "start_time": "2021-09-01T18:45:48.802Z"
   },
   {
    "duration": 8,
    "start_time": "2021-09-01T18:46:59.423Z"
   },
   {
    "duration": 16,
    "start_time": "2021-09-01T18:48:05.137Z"
   },
   {
    "duration": 9,
    "start_time": "2021-09-01T18:48:15.015Z"
   },
   {
    "duration": 10,
    "start_time": "2021-09-01T18:49:09.932Z"
   },
   {
    "duration": 7,
    "start_time": "2021-09-01T18:49:19.367Z"
   },
   {
    "duration": 430,
    "start_time": "2021-09-01T18:49:35.359Z"
   },
   {
    "duration": 130,
    "start_time": "2021-09-01T18:49:46.014Z"
   },
   {
    "duration": 8,
    "start_time": "2021-09-01T18:49:51.700Z"
   },
   {
    "duration": 453,
    "start_time": "2021-09-01T18:50:52.254Z"
   },
   {
    "duration": 8,
    "start_time": "2021-09-01T18:50:58.974Z"
   },
   {
    "duration": 5,
    "start_time": "2021-09-01T18:51:03.547Z"
   },
   {
    "duration": 8,
    "start_time": "2021-09-01T18:51:10.777Z"
   },
   {
    "duration": 396,
    "start_time": "2021-09-01T18:51:17.633Z"
   },
   {
    "duration": 9,
    "start_time": "2021-09-01T18:51:29.104Z"
   },
   {
    "duration": 10,
    "start_time": "2021-09-01T18:52:09.155Z"
   },
   {
    "duration": 6,
    "start_time": "2021-09-01T18:52:45.671Z"
   },
   {
    "duration": 22,
    "start_time": "2021-09-01T18:53:19.379Z"
   },
   {
    "duration": 17,
    "start_time": "2021-09-01T18:53:52.910Z"
   },
   {
    "duration": 7,
    "start_time": "2021-09-01T18:54:10.251Z"
   },
   {
    "duration": 13,
    "start_time": "2021-09-01T18:54:58.561Z"
   },
   {
    "duration": 102,
    "start_time": "2021-09-01T18:55:02.055Z"
   },
   {
    "duration": 49,
    "start_time": "2021-09-01T18:55:02.232Z"
   },
   {
    "duration": 20,
    "start_time": "2021-09-01T18:55:03.098Z"
   },
   {
    "duration": 5,
    "start_time": "2021-09-01T18:55:03.458Z"
   },
   {
    "duration": 22,
    "start_time": "2021-09-01T18:55:03.836Z"
   },
   {
    "duration": 12,
    "start_time": "2021-09-01T18:55:04.219Z"
   },
   {
    "duration": 6,
    "start_time": "2021-09-01T18:55:04.924Z"
   },
   {
    "duration": 7,
    "start_time": "2021-09-01T18:55:05.172Z"
   },
   {
    "duration": 14,
    "start_time": "2021-09-01T18:55:05.613Z"
   },
   {
    "duration": 7,
    "start_time": "2021-09-01T18:55:06.831Z"
   },
   {
    "duration": 12,
    "start_time": "2021-09-01T18:55:09.587Z"
   },
   {
    "duration": 21,
    "start_time": "2021-09-01T18:55:09.822Z"
   },
   {
    "duration": 10,
    "start_time": "2021-09-01T18:55:10.271Z"
   },
   {
    "duration": 6,
    "start_time": "2021-09-01T18:55:10.545Z"
   },
   {
    "duration": 17,
    "start_time": "2021-09-01T18:55:10.861Z"
   },
   {
    "duration": 8,
    "start_time": "2021-09-01T18:55:11.195Z"
   },
   {
    "duration": 5,
    "start_time": "2021-09-01T18:55:11.719Z"
   },
   {
    "duration": 5,
    "start_time": "2021-09-01T18:55:12.465Z"
   },
   {
    "duration": 9575,
    "start_time": "2021-09-01T18:55:24.927Z"
   },
   {
    "duration": -2136,
    "start_time": "2021-09-01T18:55:36.641Z"
   },
   {
    "duration": 8,
    "start_time": "2021-09-01T18:59:37.110Z"
   },
   {
    "duration": 8,
    "start_time": "2021-09-01T18:59:42.588Z"
   },
   {
    "duration": 8,
    "start_time": "2021-09-01T18:59:48.424Z"
   },
   {
    "duration": 12,
    "start_time": "2021-09-01T18:59:54.586Z"
   },
   {
    "duration": 20,
    "start_time": "2021-09-01T19:00:21.697Z"
   },
   {
    "duration": 7,
    "start_time": "2021-09-01T19:00:24.830Z"
   },
   {
    "duration": 14,
    "start_time": "2021-09-01T19:00:54.796Z"
   },
   {
    "duration": 7,
    "start_time": "2021-09-01T19:00:59.692Z"
   },
   {
    "duration": 14,
    "start_time": "2021-09-01T19:01:18.117Z"
   },
   {
    "duration": 6,
    "start_time": "2021-09-01T19:01:18.331Z"
   },
   {
    "duration": 6,
    "start_time": "2021-09-01T19:01:18.761Z"
   },
   {
    "duration": 5,
    "start_time": "2021-09-01T19:01:19.134Z"
   },
   {
    "duration": 102,
    "start_time": "2021-09-01T19:01:21.816Z"
   },
   {
    "duration": 58,
    "start_time": "2021-09-01T19:01:22.045Z"
   },
   {
    "duration": 22,
    "start_time": "2021-09-01T19:01:23.272Z"
   },
   {
    "duration": 7,
    "start_time": "2021-09-01T19:01:23.806Z"
   },
   {
    "duration": 20,
    "start_time": "2021-09-01T19:01:24.290Z"
   },
   {
    "duration": 13,
    "start_time": "2021-09-01T19:01:24.816Z"
   },
   {
    "duration": 6,
    "start_time": "2021-09-01T19:01:25.528Z"
   },
   {
    "duration": 7,
    "start_time": "2021-09-01T19:01:25.766Z"
   },
   {
    "duration": 21,
    "start_time": "2021-09-01T19:01:26.249Z"
   },
   {
    "duration": 7,
    "start_time": "2021-09-01T19:01:27.323Z"
   },
   {
    "duration": 11,
    "start_time": "2021-09-01T19:01:28.103Z"
   },
   {
    "duration": 20,
    "start_time": "2021-09-01T19:01:28.331Z"
   },
   {
    "duration": 7,
    "start_time": "2021-09-01T19:01:29.140Z"
   },
   {
    "duration": 18,
    "start_time": "2021-09-01T19:01:29.432Z"
   },
   {
    "duration": 7,
    "start_time": "2021-09-01T19:01:29.730Z"
   },
   {
    "duration": 8,
    "start_time": "2021-09-01T19:01:30.199Z"
   },
   {
    "duration": 8,
    "start_time": "2021-09-01T19:01:30.429Z"
   },
   {
    "duration": 7,
    "start_time": "2021-09-01T19:01:31.066Z"
   },
   {
    "duration": 6,
    "start_time": "2021-09-01T19:01:31.305Z"
   },
   {
    "duration": 7,
    "start_time": "2021-09-01T19:01:31.878Z"
   },
   {
    "duration": 15,
    "start_time": "2021-09-01T19:01:56.942Z"
   },
   {
    "duration": 130,
    "start_time": "2021-09-01T19:03:51.349Z"
   },
   {
    "duration": 384,
    "start_time": "2021-09-01T19:03:55.730Z"
   },
   {
    "duration": 422,
    "start_time": "2021-09-01T19:04:03.006Z"
   },
   {
    "duration": 510,
    "start_time": "2021-09-01T19:05:23.750Z"
   },
   {
    "duration": 7,
    "start_time": "2021-09-01T19:05:36.813Z"
   },
   {
    "duration": 7,
    "start_time": "2021-09-01T19:05:58.268Z"
   },
   {
    "duration": 11,
    "start_time": "2021-09-01T19:06:07.459Z"
   },
   {
    "duration": 6,
    "start_time": "2021-09-01T19:06:13.283Z"
   },
   {
    "duration": 7,
    "start_time": "2021-09-01T19:06:42.584Z"
   },
   {
    "duration": 9,
    "start_time": "2021-09-01T19:06:54.279Z"
   },
   {
    "duration": 93,
    "start_time": "2021-09-01T19:08:23.778Z"
   },
   {
    "duration": 69,
    "start_time": "2021-09-01T19:08:24.252Z"
   },
   {
    "duration": 34,
    "start_time": "2021-09-01T19:08:26.850Z"
   },
   {
    "duration": 6,
    "start_time": "2021-09-01T19:08:27.808Z"
   },
   {
    "duration": 29,
    "start_time": "2021-09-01T19:08:28.665Z"
   },
   {
    "duration": 14,
    "start_time": "2021-09-01T19:08:29.678Z"
   },
   {
    "duration": 7,
    "start_time": "2021-09-01T19:08:31.771Z"
   },
   {
    "duration": 7,
    "start_time": "2021-09-01T19:08:32.401Z"
   },
   {
    "duration": 13,
    "start_time": "2021-09-01T19:08:33.823Z"
   },
   {
    "duration": 8,
    "start_time": "2021-09-01T19:08:36.273Z"
   },
   {
    "duration": 12,
    "start_time": "2021-09-01T19:08:41.528Z"
   },
   {
    "duration": 21,
    "start_time": "2021-09-01T19:08:42.370Z"
   },
   {
    "duration": 6,
    "start_time": "2021-09-01T19:08:45.440Z"
   },
   {
    "duration": 7,
    "start_time": "2021-09-01T19:08:49.951Z"
   },
   {
    "duration": 14,
    "start_time": "2021-09-01T19:08:52.556Z"
   },
   {
    "duration": 8,
    "start_time": "2021-09-01T19:10:20.077Z"
   },
   {
    "duration": 19,
    "start_time": "2021-09-01T19:10:49.111Z"
   },
   {
    "duration": 6,
    "start_time": "2021-09-01T19:10:51.318Z"
   },
   {
    "duration": 23,
    "start_time": "2021-09-01T19:10:52.235Z"
   },
   {
    "duration": 14,
    "start_time": "2021-09-01T19:10:53.028Z"
   },
   {
    "duration": 6,
    "start_time": "2021-09-01T19:10:53.909Z"
   },
   {
    "duration": 6,
    "start_time": "2021-09-01T19:10:54.131Z"
   },
   {
    "duration": 14,
    "start_time": "2021-09-01T19:10:54.585Z"
   },
   {
    "duration": 7,
    "start_time": "2021-09-01T19:10:55.347Z"
   },
   {
    "duration": 9,
    "start_time": "2021-09-01T19:10:55.932Z"
   },
   {
    "duration": 19,
    "start_time": "2021-09-01T19:10:56.133Z"
   },
   {
    "duration": 6,
    "start_time": "2021-09-01T19:10:56.530Z"
   },
   {
    "duration": 7,
    "start_time": "2021-09-01T19:10:56.851Z"
   },
   {
    "duration": 7,
    "start_time": "2021-09-01T19:10:57.108Z"
   },
   {
    "duration": 10,
    "start_time": "2021-09-01T19:10:57.348Z"
   },
   {
    "duration": 12,
    "start_time": "2021-09-01T19:10:57.615Z"
   },
   {
    "duration": 6,
    "start_time": "2021-09-01T19:10:57.906Z"
   },
   {
    "duration": 5,
    "start_time": "2021-09-01T19:10:59.094Z"
   },
   {
    "duration": 5,
    "start_time": "2021-09-01T19:10:59.603Z"
   },
   {
    "duration": 8,
    "start_time": "2021-09-01T19:11:00.792Z"
   },
   {
    "duration": 7,
    "start_time": "2021-09-01T19:11:03.462Z"
   },
   {
    "duration": 6,
    "start_time": "2021-09-01T19:11:21.828Z"
   },
   {
    "duration": 7,
    "start_time": "2021-09-01T19:12:15.061Z"
   },
   {
    "duration": 7,
    "start_time": "2021-09-01T19:12:15.563Z"
   },
   {
    "duration": 19,
    "start_time": "2021-09-01T19:12:20.132Z"
   },
   {
    "duration": 12,
    "start_time": "2021-09-01T19:12:20.616Z"
   },
   {
    "duration": 6,
    "start_time": "2021-09-01T19:12:21.582Z"
   },
   {
    "duration": 6,
    "start_time": "2021-09-01T19:12:21.975Z"
   },
   {
    "duration": 13,
    "start_time": "2021-09-01T19:12:24.425Z"
   },
   {
    "duration": 7,
    "start_time": "2021-09-01T19:12:27.471Z"
   },
   {
    "duration": 11,
    "start_time": "2021-09-01T19:12:29.486Z"
   },
   {
    "duration": 19,
    "start_time": "2021-09-01T19:12:31.924Z"
   },
   {
    "duration": 6,
    "start_time": "2021-09-01T19:12:37.382Z"
   },
   {
    "duration": 7,
    "start_time": "2021-09-01T19:12:38.929Z"
   },
   {
    "duration": 6,
    "start_time": "2021-09-01T19:12:40.816Z"
   },
   {
    "duration": 9,
    "start_time": "2021-09-01T19:12:42.480Z"
   },
   {
    "duration": 23,
    "start_time": "2021-09-01T19:13:21.826Z"
   },
   {
    "duration": 94,
    "start_time": "2021-09-01T19:13:29.355Z"
   },
   {
    "duration": 65,
    "start_time": "2021-09-01T19:13:29.644Z"
   },
   {
    "duration": 20,
    "start_time": "2021-09-01T19:13:31.127Z"
   },
   {
    "duration": 6,
    "start_time": "2021-09-01T19:13:31.613Z"
   },
   {
    "duration": 20,
    "start_time": "2021-09-01T19:13:32.194Z"
   },
   {
    "duration": 14,
    "start_time": "2021-09-01T19:13:32.669Z"
   },
   {
    "duration": 5,
    "start_time": "2021-09-01T19:13:33.594Z"
   },
   {
    "duration": 6,
    "start_time": "2021-09-01T19:13:33.833Z"
   },
   {
    "duration": 16,
    "start_time": "2021-09-01T19:13:34.357Z"
   },
   {
    "duration": 7,
    "start_time": "2021-09-01T19:13:35.284Z"
   },
   {
    "duration": 10,
    "start_time": "2021-09-01T19:13:36.004Z"
   },
   {
    "duration": 19,
    "start_time": "2021-09-01T19:13:36.292Z"
   },
   {
    "duration": 6,
    "start_time": "2021-09-01T19:13:36.786Z"
   },
   {
    "duration": 7,
    "start_time": "2021-09-01T19:13:37.010Z"
   },
   {
    "duration": 8,
    "start_time": "2021-09-01T19:13:37.258Z"
   },
   {
    "duration": 15,
    "start_time": "2021-09-01T19:13:37.491Z"
   },
   {
    "duration": 9,
    "start_time": "2021-09-01T19:13:37.725Z"
   },
   {
    "duration": 10,
    "start_time": "2021-09-01T19:13:37.972Z"
   },
   {
    "duration": 7,
    "start_time": "2021-09-01T19:13:38.450Z"
   },
   {
    "duration": 5,
    "start_time": "2021-09-01T19:13:38.675Z"
   },
   {
    "duration": 6,
    "start_time": "2021-09-01T19:13:39.129Z"
   },
   {
    "duration": 7,
    "start_time": "2021-09-01T19:13:39.344Z"
   },
   {
    "duration": 7,
    "start_time": "2021-09-01T19:13:39.820Z"
   },
   {
    "duration": 9,
    "start_time": "2021-09-01T19:13:40.071Z"
   },
   {
    "duration": 14,
    "start_time": "2021-09-01T19:13:40.566Z"
   },
   {
    "duration": 12,
    "start_time": "2021-09-01T19:13:41.078Z"
   },
   {
    "duration": 28,
    "start_time": "2021-09-01T19:13:42.043Z"
   },
   {
    "duration": 15,
    "start_time": "2021-09-01T19:13:42.506Z"
   },
   {
    "duration": 16,
    "start_time": "2021-09-01T19:13:42.729Z"
   },
   {
    "duration": 23,
    "start_time": "2021-09-01T19:13:42.943Z"
   },
   {
    "duration": 17,
    "start_time": "2021-09-01T19:13:43.167Z"
   },
   {
    "duration": 19,
    "start_time": "2021-09-01T19:13:43.380Z"
   },
   {
    "duration": 38,
    "start_time": "2021-09-01T19:13:43.832Z"
   },
   {
    "duration": 35,
    "start_time": "2021-09-01T19:13:44.545Z"
   },
   {
    "duration": 28,
    "start_time": "2021-09-01T19:13:44.775Z"
   },
   {
    "duration": 11,
    "start_time": "2021-09-01T19:13:46.157Z"
   },
   {
    "duration": 1043,
    "start_time": "2021-09-01T19:13:46.678Z"
   },
   {
    "duration": 44,
    "start_time": "2021-09-01T19:13:47.958Z"
   },
   {
    "duration": 8,
    "start_time": "2021-09-01T19:13:49.955Z"
   },
   {
    "duration": 25,
    "start_time": "2021-09-01T19:13:50.338Z"
   },
   {
    "duration": 10,
    "start_time": "2021-09-01T19:13:50.992Z"
   },
   {
    "duration": 9911,
    "start_time": "2021-09-01T19:13:51.274Z"
   },
   {
    "duration": -2116,
    "start_time": "2021-09-01T19:14:03.304Z"
   },
   {
    "duration": -2119,
    "start_time": "2021-09-01T19:14:03.308Z"
   },
   {
    "duration": -2120,
    "start_time": "2021-09-01T19:14:03.311Z"
   },
   {
    "duration": -2121,
    "start_time": "2021-09-01T19:14:03.314Z"
   },
   {
    "duration": -2123,
    "start_time": "2021-09-01T19:14:03.317Z"
   },
   {
    "duration": 311,
    "start_time": "2021-09-01T19:14:02.615Z"
   },
   {
    "duration": 393,
    "start_time": "2021-09-01T19:14:04.364Z"
   },
   {
    "duration": 298,
    "start_time": "2021-09-01T19:14:05.211Z"
   },
   {
    "duration": 9706,
    "start_time": "2021-09-01T19:14:31.106Z"
   },
   {
    "duration": 24,
    "start_time": "2021-09-01T19:16:46.577Z"
   },
   {
    "duration": 122,
    "start_time": "2021-09-01T19:19:24.957Z"
   },
   {
    "duration": 21,
    "start_time": "2021-09-01T19:19:27.838Z"
   },
   {
    "duration": 21,
    "start_time": "2021-09-01T19:20:04.127Z"
   },
   {
    "duration": 22,
    "start_time": "2021-09-01T19:20:43.682Z"
   },
   {
    "duration": 22,
    "start_time": "2021-09-01T19:21:58.547Z"
   },
   {
    "duration": 22,
    "start_time": "2021-09-01T19:23:57.586Z"
   },
   {
    "duration": 19,
    "start_time": "2021-09-01T19:27:30.287Z"
   },
   {
    "duration": 22,
    "start_time": "2021-09-01T19:27:44.075Z"
   },
   {
    "duration": 18,
    "start_time": "2021-09-01T19:27:44.821Z"
   },
   {
    "duration": 19,
    "start_time": "2021-09-01T19:27:58.459Z"
   },
   {
    "duration": 114,
    "start_time": "2021-09-01T19:29:26.256Z"
   },
   {
    "duration": 92,
    "start_time": "2021-09-01T19:29:26.612Z"
   },
   {
    "duration": 21,
    "start_time": "2021-09-01T19:29:27.709Z"
   },
   {
    "duration": 5,
    "start_time": "2021-09-01T19:29:28.117Z"
   },
   {
    "duration": 20,
    "start_time": "2021-09-01T19:29:28.577Z"
   },
   {
    "duration": 13,
    "start_time": "2021-09-01T19:29:29.097Z"
   },
   {
    "duration": 6,
    "start_time": "2021-09-01T19:29:29.802Z"
   },
   {
    "duration": 6,
    "start_time": "2021-09-01T19:29:30.016Z"
   },
   {
    "duration": 13,
    "start_time": "2021-09-01T19:29:30.523Z"
   },
   {
    "duration": 7,
    "start_time": "2021-09-01T19:29:31.499Z"
   },
   {
    "duration": 11,
    "start_time": "2021-09-01T19:29:32.536Z"
   },
   {
    "duration": 20,
    "start_time": "2021-09-01T19:29:32.767Z"
   },
   {
    "duration": 6,
    "start_time": "2021-09-01T19:29:33.295Z"
   },
   {
    "duration": 6,
    "start_time": "2021-09-01T19:29:33.511Z"
   },
   {
    "duration": 6,
    "start_time": "2021-09-01T19:29:33.761Z"
   },
   {
    "duration": 12,
    "start_time": "2021-09-01T19:29:34.007Z"
   },
   {
    "duration": 9,
    "start_time": "2021-09-01T19:29:34.252Z"
   },
   {
    "duration": 6,
    "start_time": "2021-09-01T19:29:34.510Z"
   },
   {
    "duration": 5,
    "start_time": "2021-09-01T19:29:34.946Z"
   },
   {
    "duration": 5,
    "start_time": "2021-09-01T19:29:35.204Z"
   },
   {
    "duration": 6,
    "start_time": "2021-09-01T19:29:35.676Z"
   },
   {
    "duration": 7,
    "start_time": "2021-09-01T19:29:35.941Z"
   },
   {
    "duration": 7,
    "start_time": "2021-09-01T19:29:36.445Z"
   },
   {
    "duration": 11,
    "start_time": "2021-09-01T19:29:36.707Z"
   },
   {
    "duration": 14,
    "start_time": "2021-09-01T19:29:37.163Z"
   },
   {
    "duration": 11,
    "start_time": "2021-09-01T19:29:37.637Z"
   },
   {
    "duration": 25,
    "start_time": "2021-09-01T19:29:38.612Z"
   },
   {
    "duration": 18,
    "start_time": "2021-09-01T19:29:39.129Z"
   },
   {
    "duration": 25,
    "start_time": "2021-09-01T19:29:39.404Z"
   },
   {
    "duration": 21,
    "start_time": "2021-09-01T19:29:39.647Z"
   },
   {
    "duration": 18,
    "start_time": "2021-09-01T19:29:39.899Z"
   },
   {
    "duration": 19,
    "start_time": "2021-09-01T19:29:40.136Z"
   },
   {
    "duration": 34,
    "start_time": "2021-09-01T19:29:40.634Z"
   },
   {
    "duration": 30,
    "start_time": "2021-09-01T19:29:41.374Z"
   },
   {
    "duration": 26,
    "start_time": "2021-09-01T19:29:41.623Z"
   },
   {
    "duration": 9,
    "start_time": "2021-09-01T19:29:43.124Z"
   },
   {
    "duration": 1037,
    "start_time": "2021-09-01T19:29:43.652Z"
   },
   {
    "duration": 35,
    "start_time": "2021-09-01T19:29:44.923Z"
   },
   {
    "duration": 8,
    "start_time": "2021-09-01T19:29:46.078Z"
   },
   {
    "duration": 25,
    "start_time": "2021-09-01T19:29:50.776Z"
   },
   {
    "duration": 24,
    "start_time": "2021-09-01T19:29:52.543Z"
   },
   {
    "duration": 20,
    "start_time": "2021-09-01T19:29:53.331Z"
   },
   {
    "duration": 21,
    "start_time": "2021-09-01T19:30:30.896Z"
   },
   {
    "duration": 7,
    "start_time": "2021-09-01T19:30:40.893Z"
   },
   {
    "duration": 6,
    "start_time": "2021-09-01T19:36:43.748Z"
   },
   {
    "duration": 38,
    "start_time": "2021-09-01T19:47:21.240Z"
   },
   {
    "duration": 1050,
    "start_time": "2021-09-01T19:51:52.956Z"
   },
   {
    "duration": 1065,
    "start_time": "2021-09-01T19:53:23.606Z"
   },
   {
    "duration": 408,
    "start_time": "2021-09-01T19:58:25.015Z"
   },
   {
    "duration": 429,
    "start_time": "2021-09-01T19:59:33.907Z"
   },
   {
    "duration": 124,
    "start_time": "2021-09-01T20:00:02.217Z"
   },
   {
    "duration": 1096,
    "start_time": "2021-09-01T20:00:07.402Z"
   },
   {
    "duration": 988,
    "start_time": "2021-09-01T20:01:02.935Z"
   },
   {
    "duration": 450,
    "start_time": "2021-09-01T20:01:11.584Z"
   },
   {
    "duration": 39,
    "start_time": "2021-09-01T20:03:27.649Z"
   },
   {
    "duration": 34,
    "start_time": "2021-09-01T20:04:59.269Z"
   },
   {
    "duration": 34,
    "start_time": "2021-09-01T20:05:38.661Z"
   },
   {
    "duration": 33,
    "start_time": "2021-09-01T20:07:19.802Z"
   }
  ],
  "kernelspec": {
   "name": "python3",
   "display_name": "Python 3.9.7 64-bit (windows store)"
  },
  "language_info": {
   "name": "python",
   "version": "3.9.7",
   "mimetype": "text/x-python",
   "codemirror_mode": {
    "name": "ipython",
    "version": 3
   },
   "pygments_lexer": "ipython3",
   "nbconvert_exporter": "python",
   "file_extension": ".py"
  },
  "toc": {
   "base_numbering": 1,
   "nav_menu": {},
   "number_sections": true,
   "sideBar": true,
   "skip_h1_title": true,
   "title_cell": "Table of Contents",
   "title_sidebar": "Contents",
   "toc_cell": false,
   "toc_position": {},
   "toc_section_display": true,
   "toc_window_display": false
  },
  "interpreter": {
   "hash": "679859010cd8d9eb024d2fa8c0768fdb48c3cf2add26f5f62d24b0dbe2440312"
  }
 },
 "nbformat": 4,
 "nbformat_minor": 2
}